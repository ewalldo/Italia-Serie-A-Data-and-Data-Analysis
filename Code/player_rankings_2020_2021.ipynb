{
 "cells": [
  {
   "cell_type": "code",
   "execution_count": 1,
   "metadata": {},
   "outputs": [],
   "source": [
    "import os\n",
    "import csv\n",
    "import pandas as pd\n",
    "import numpy as np\n",
    "import math"
   ]
  },
  {
   "cell_type": "code",
   "execution_count": 2,
   "metadata": {},
   "outputs": [
    {
     "name": "stdout",
     "output_type": "stream",
     "text": [
      "780.0\n",
      "8\n"
     ]
    }
   ],
   "source": [
    "thisdir = os.getcwd()\n",
    "thisdir += \"/2020-2021/Player Data/Non-goalkeeper/\"\n",
    "csv_list = []\n",
    "\n",
    "n_games = 26 #total games played\n",
    "min_time = n_games / 3 * 90 #min time played to be eligible\n",
    "min_games = math.floor(n_games / 3) #min games played to be eligible\n",
    "print(min_time)\n",
    "print(min_games)"
   ]
  },
  {
   "cell_type": "code",
   "execution_count": 3,
   "metadata": {},
   "outputs": [],
   "source": [
    "for r, d, f in os.walk(thisdir):\n",
    "    for file in f:\n",
    "        if file.endswith(\".csv\"):\n",
    "            csv_list.append(os.path.join(r, file))\n",
    "\n",
    "csv_list = sorted(csv_list)"
   ]
  },
  {
   "cell_type": "code",
   "execution_count": 4,
   "metadata": {},
   "outputs": [],
   "source": [
    "def convert_to_minutes(row):\n",
    "    return int(row['M'][:-1])\n",
    "\n",
    "def convert_to_int(row, col):\n",
    "    return int(row[col])"
   ]
  },
  {
   "cell_type": "code",
   "execution_count": 5,
   "metadata": {},
   "outputs": [],
   "source": [
    "players = []\n",
    "\n",
    "for csv_file in csv_list:\n",
    "#     print(csv_file)\n",
    "    if csv_file[-5:] == \"/.csv\":\n",
    "        continue\n",
    "    player_data = pd.read_csv(csv_file, encoding='latin-1')\n",
    "    player_data[\"M_played\"] = player_data.apply(lambda row:convert_to_minutes(row), axis=1)\n",
    "    player_data = player_data.astype({'G':'int32', 'OG':'int32', 'A':'int32', 'AT':'int32', 'BS':'int32', 'SC':'int32', 'FS':'int32', 'BP':'int32', 'AS':'int32', 'KP':'int32', 'P':'int32', 'P%':'int32', 'R':'int32', 'FYC':'int32', 'SYC':'int32', 'RC':'int32'})\n",
    "\n",
    "    players.append([player_data[\"Name\"].unique()[0], player_data[\"Team\"].unique(), player_data[\"M_played\"].sum(), player_data[\"G\"].sum(), player_data[\"OG\"].sum(), player_data[\"A\"].sum(), player_data[\"AT\"].sum(), player_data[\"BS\"].sum(), player_data[\"SC\"].sum(), player_data[\"FS\"].sum(), player_data[\"BP\"].sum(), player_data[\"AS\"].sum(), player_data[\"KP\"].sum(), player_data[\"P\"].sum(), player_data[\"P%\"].sum()  / player_data[\"P%\"].size, player_data[\"R\"].sum(), player_data[\"FYC\"].sum(), player_data[\"SYC\"].sum(), player_data[\"RC\"].sum(), player_data[\"M_played\"].size])\n",
    "\n",
    "players = pd.DataFrame(np.array(players), columns=['Name', 'Team' , 'M', 'G', 'OG', 'A', 'AT', 'BS', 'SC', 'FS', 'BP', 'AS', 'KP', 'P', 'P%', 'R', 'FYC', 'SYC', 'RC', \"N\"])\n",
    "players = players.astype({'M':'int32', 'G':'int32', 'OG':'int32', 'A':'int32', 'AT':'int32', 'BS':'int32', 'SC':'int32', 'FS':'int32', 'BP':'int32', 'AS':'int32', 'KP':'int32', 'P':'int32', 'P%':'float', 'R':'int32', 'FYC':'int32', 'SYC':'int32', 'RC':'int32', 'N':'int32'})\n",
    "players = players[players['M'] >= min_time]\n",
    "players = players[players['N'] >= min_games]"
   ]
  },
  {
   "cell_type": "code",
   "execution_count": 6,
   "metadata": {},
   "outputs": [
    {
     "name": "stdout",
     "output_type": "stream",
     "text": [
      "             Name                 Team     M\n",
      "212    G.PEZZELLA  [PARMA, FIORENTINA]  3181\n",
      "310  L.PELLEGRINI        [ROMA, GENOA]  2732\n",
      "447     R.SORIANO            [BOLOGNA]  2449\n",
      "268    JOAO PEDRO           [CAGLIARI]  2398\n",
      "420     R.DE PAUL            [UDINESE]  2383\n",
      "295      L.DANILO            [BOLOGNA]  2371\n",
      "255     J.MESSIAS            [CROTONE]  2364\n",
      "278        K.GLIK          [BENEVENTO]  2355\n",
      "170      F.KESSIE              [MILAN]  2311\n",
      "194  G.DI LORENZO             [NAPOLI]  2303\n"
     ]
    }
   ],
   "source": [
    "players = players.sort_values(by='M', ascending=False)\n",
    "print(players[[\"Name\", \"Team\", \"M\"]].head(n=10))"
   ]
  },
  {
   "cell_type": "code",
   "execution_count": 7,
   "metadata": {},
   "outputs": [
    {
     "name": "stdout",
     "output_type": "stream",
     "text": [
      "             Name          Team        M_N\n",
      "86         BREMER      [TORINO]  96.947368\n",
      "489   T.HERNANDEZ       [MILAN]  96.363636\n",
      "197     G.FERRARI    [SASSUOLO]  96.347826\n",
      "57    A.ROMAGNOLI       [MILAN]  96.050000\n",
      "194  G.DI LORENZO      [NAPOLI]  95.958333\n",
      "493    T.TOMIYASU     [BOLOGNA]  95.565217\n",
      "420     R.DE PAUL     [UDINESE]  95.320000\n",
      "5       A.BELOTTI      [TORINO]  95.090909\n",
      "349   M.LOCATELLI    [SASSUOLO]  95.086957\n",
      "389  N.MILENKOVIC  [FIORENTINA]  94.958333\n"
     ]
    }
   ],
   "source": [
    "players['M_N'] = players['M'] / players['N']\n",
    "players = players.sort_values(by='M_N', ascending=False)\n",
    "print(players[[\"Name\", \"Team\", \"M_N\"]].head(n=10))"
   ]
  },
  {
   "cell_type": "code",
   "execution_count": 8,
   "metadata": {},
   "outputs": [
    {
     "name": "stdout",
     "output_type": "stream",
     "text": [
      "              Name        Team   G\n",
      "102      C.RONALDO  [JUVENTUS]  20\n",
      "434       R.LUKAKU     [INTER]  18\n",
      "308       L.MURIEL  [ATALANTA]  15\n",
      "92      C.IMMOBILE     [LAZIO]  14\n",
      "514  Z.IBRAHIMOVIC     [MILAN]  14\n",
      "300      L.INSIGNE    [NAPOLI]  13\n",
      "306     L.MARTINEZ     [INTER]  13\n",
      "268     JOAO PEDRO  [CAGLIARI]  13\n",
      "160       F.CAPUTO  [SASSUOLO]  11\n",
      "5        A.BELOTTI    [TORINO]  11\n"
     ]
    }
   ],
   "source": [
    "players = players.sort_values(by='G', ascending=False)\n",
    "print(players[[\"Name\", \"Team\", \"G\"]].head(n=10))"
   ]
  },
  {
   "cell_type": "code",
   "execution_count": 9,
   "metadata": {},
   "outputs": [
    {
     "name": "stdout",
     "output_type": "stream",
     "text": [
      "              Name        Team       G_M         M_G\n",
      "308       L.MURIEL  [ATALANTA]  0.015528   64.400000\n",
      "514  Z.IBRAHIMOVIC     [MILAN]  0.012048   83.000000\n",
      "102      C.RONALDO  [JUVENTUS]  0.010283   97.250000\n",
      "434       R.LUKAKU     [INTER]  0.008687  115.111111\n",
      "339       M.DESTRO     [GENOA]  0.007550  132.444444\n",
      "92      C.IMMOBILE     [LAZIO]  0.007280  137.357143\n",
      "300      L.INSIGNE    [NAPOLI]  0.007230  138.307692\n",
      "160       F.CAPUTO  [SASSUOLO]  0.007097  140.909091\n",
      "306     L.MARTINEZ     [INTER]  0.007065  141.538462\n",
      "355        M.NZOLA    [SPEZIA]  0.006944  144.000000\n"
     ]
    }
   ],
   "source": [
    "players['G_M'] = players['G'] / players['M']\n",
    "players = players.sort_values(by='G_M', ascending=False)\n",
    "top_players = players[[\"Name\", \"Team\", \"G_M\"]].head(n=10)\n",
    "top_players['M_G'] = players['M'] / players['G']\n",
    "print(top_players.head(n=10))"
   ]
  },
  {
   "cell_type": "code",
   "execution_count": 10,
   "metadata": {},
   "outputs": [
    {
     "name": "stdout",
     "output_type": "stream",
     "text": [
      "             Name        Team    A\n",
      "102     C.RONALDO  [JUVENTUS]  105\n",
      "300     L.INSIGNE    [NAPOLI]   89\n",
      "306    L.MARTINEZ     [INTER]   76\n",
      "5       A.BELOTTI    [TORINO]   71\n",
      "108     D.BERARDI  [SASSUOLO]   65\n",
      "434      R.LUKAKU     [INTER]   64\n",
      "92     C.IMMOBILE     [LAZIO]   64\n",
      "225  H.MKHITARYAN      [ROMA]   64\n",
      "255     J.MESSIAS   [CROTONE]   63\n",
      "325      M.BARROW   [BOLOGNA]   62\n"
     ]
    }
   ],
   "source": [
    "players = players.sort_values(by='A', ascending=False)\n",
    "print(players[[\"Name\", \"Team\", \"A\"]].head(n=10))"
   ]
  },
  {
   "cell_type": "code",
   "execution_count": 11,
   "metadata": {},
   "outputs": [
    {
     "name": "stdout",
     "output_type": "stream",
     "text": [
      "              Name        Team       A_M        M_A\n",
      "308       L.MURIEL  [ATALANTA]  0.054865  18.226415\n",
      "102      C.RONALDO  [JUVENTUS]  0.053985  18.523810\n",
      "514  Z.IBRAHIMOVIC     [MILAN]  0.052496  19.049180\n",
      "300      L.INSIGNE    [NAPOLI]  0.049499  20.202247\n",
      "306     L.MARTINEZ     [INTER]  0.041304  24.210526\n",
      "248       J.ILICIC  [ATALANTA]  0.037903  26.382979\n",
      "128      D.MERTENS    [NAPOLI]  0.037438  26.710526\n",
      "108      D.BERARDI  [SASSUOLO]  0.037037  27.000000\n",
      "5        A.BELOTTI    [TORINO]  0.033939  29.464789\n",
      "92      C.IMMOBILE     [LAZIO]  0.033281  30.046875\n"
     ]
    }
   ],
   "source": [
    "players['A_M'] = players['A'] / players['M']\n",
    "players = players.sort_values(by='A_M', ascending=False)\n",
    "top_players = players[[\"Name\", \"Team\", \"A_M\"]].head(n=10)\n",
    "top_players['M_A'] = players['M'] / players['A']\n",
    "print(top_players.head(n=10))"
   ]
  },
  {
   "cell_type": "code",
   "execution_count": 12,
   "metadata": {},
   "outputs": [
    {
     "name": "stdout",
     "output_type": "stream",
     "text": [
      "                   Name                    Team  AS\n",
      "225        H.MKHITARYAN                  [ROMA]   8\n",
      "222        H.CALHANOGLU                 [MILAN]   8\n",
      "308            L.MURIEL              [ATALANTA]   7\n",
      "310        L.PELLEGRINI           [ROMA, GENOA]   7\n",
      "44             A.MORATA              [JUVENTUS]   7\n",
      "470  S.MILINKOVIC-SAVIC                 [LAZIO]   7\n",
      "434            R.LUKAKU                 [INTER]   6\n",
      "10           A.CANDREVA             [SAMPDORIA]   6\n",
      "327          M.BROZOVIC                 [INTER]   6\n",
      "163            F.CHIESA  [FIORENTINA, JUVENTUS]   6\n",
      "135            D.ZAPATA              [ATALANTA]   6\n",
      "420           R.DE PAUL               [UDINESE]   6\n",
      "248            J.ILICIC              [ATALANTA]   6\n",
      "128           D.MERTENS                [NAPOLI]   6\n",
      "447           R.SORIANO               [BOLOGNA]   5\n",
      "415         P.ZIELINSKI                [NAPOLI]   5\n",
      "245          J.CUADRADO              [JUVENTUS]   5\n",
      "61            A.SANCHEZ                 [INTER]   5\n",
      "433              R.LEAO                 [MILAN]   5\n",
      "430          R.KARSDORP                  [ROMA]   5\n",
      "300           L.INSIGNE                [NAPOLI]   5\n",
      "378          M.ZACCAGNI         [HELLAS VERONA]   5\n",
      "383           N.BARELLA                 [INTER]   5\n",
      "325            M.BARROW               [BOLOGNA]   5\n",
      "5             A.BELOTTI                [TORINO]   5\n"
     ]
    }
   ],
   "source": [
    "players = players.sort_values(by='AS', ascending=False)\n",
    "print(players[[\"Name\", \"Team\", \"AS\"]].head(n=25))"
   ]
  },
  {
   "cell_type": "code",
   "execution_count": 13,
   "metadata": {},
   "outputs": [
    {
     "name": "stdout",
     "output_type": "stream",
     "text": [
      "             Name        Team      AS_M        M_AS\n",
      "308      L.MURIEL  [ATALANTA]  0.007246  138.000000\n",
      "128     D.MERTENS    [NAPOLI]  0.005911  169.166667\n",
      "61      A.SANCHEZ     [INTER]  0.005556  180.000000\n",
      "44       A.MORATA  [JUVENTUS]  0.005216  191.714286\n",
      "248      J.ILICIC  [ATALANTA]  0.004839  206.666667\n",
      "222  H.CALHANOGLU     [MILAN]  0.004670  214.125000\n",
      "479       S.VERDI    [TORINO]  0.004049  247.000000\n",
      "52       A.RAMSEY  [JUVENTUS]  0.003872  258.250000\n",
      "135      D.ZAPATA  [ATALANTA]  0.003750  266.666667\n",
      "245    J.CUADRADO  [JUVENTUS]  0.003663  273.000000\n"
     ]
    }
   ],
   "source": [
    "players['AS_M'] = players['AS'] / players['M']\n",
    "players = players.sort_values(by='AS_M', ascending=False)\n",
    "top_players = players[[\"Name\", \"Team\", \"AS_M\"]].head(n=10)\n",
    "top_players['M_AS'] = players['M'] / players['AS']\n",
    "print(top_players.head(n=10))"
   ]
  },
  {
   "cell_type": "code",
   "execution_count": 14,
   "metadata": {},
   "outputs": [
    {
     "name": "stdout",
     "output_type": "stream",
     "text": [
      "             Name                 Team    BP\n",
      "349   M.LOCATELLI           [SASSUOLO]  2287\n",
      "197     G.FERRARI           [SASSUOLO]  2058\n",
      "194  G.DI LORENZO             [NAPOLI]  2010\n",
      "137        DANILO           [JUVENTUS]  1992\n",
      "310  L.PELLEGRINI        [ROMA, GENOA]  1967\n",
      "420     R.DE PAUL            [UDINESE]  1942\n",
      "212    G.PEZZELLA  [PARMA, FIORENTINA]  1937\n",
      "111    D.CALABRIA              [MILAN]  1813\n",
      "4       A.BASTONI              [INTER]  1801\n",
      "327    M.BROZOVIC              [INTER]  1711\n"
     ]
    }
   ],
   "source": [
    "players = players.sort_values(by='BP', ascending=False)\n",
    "print(players[[\"Name\", \"Team\", \"BP\"]].head(n=10))"
   ]
  },
  {
   "cell_type": "code",
   "execution_count": 15,
   "metadata": {},
   "outputs": [
    {
     "name": "stdout",
     "output_type": "stream",
     "text": [
      "            Name        Team      BP_M      M_BP\n",
      "349  M.LOCATELLI  [SASSUOLO]  1.045725  0.956275\n",
      "72        ARTHUR  [JUVENTUS]  0.976923  1.023622\n",
      "381    MARIO RUI    [NAPOLI]  0.940998  1.062701\n",
      "245   J.CUADRADO  [JUVENTUS]  0.939194  1.064743\n",
      "418  R.BENTANCUR  [JUVENTUS]  0.929311  1.076066\n",
      "116      D.DEMME    [NAPOLI]  0.929093  1.076319\n",
      "197    G.FERRARI  [SASSUOLO]  0.928700  1.076774\n",
      "137       DANILO  [JUVENTUS]  0.924362  1.081827\n",
      "327   M.BROZOVIC     [INTER]  0.918411  1.088837\n",
      "496  V.CHIRICHES  [SASSUOLO]  0.917722  1.089655\n"
     ]
    }
   ],
   "source": [
    "players['BP_M'] = players['BP'] / players['M']\n",
    "players = players.sort_values(by='BP_M', ascending=False)\n",
    "top_players = players[[\"Name\", \"Team\", \"BP_M\"]].head(n=10)\n",
    "top_players['M_BP'] = players['M'] / players['BP']\n",
    "print(top_players.head(n=10))"
   ]
  },
  {
   "cell_type": "code",
   "execution_count": 16,
   "metadata": {},
   "outputs": [
    {
     "name": "stdout",
     "output_type": "stream",
     "text": [
      "             Name                 Team     P\n",
      "349   M.LOCATELLI           [SASSUOLO]  1660\n",
      "197     G.FERRARI           [SASSUOLO]  1647\n",
      "137        DANILO           [JUVENTUS]  1451\n",
      "4       A.BASTONI              [INTER]  1396\n",
      "369    M.SKRINIAR              [INTER]  1297\n",
      "194  G.DI LORENZO             [NAPOLI]  1267\n",
      "456     S.DE VRIJ              [INTER]  1264\n",
      "327    M.BROZOVIC              [INTER]  1257\n",
      "336     M.DE ROON           [ATALANTA]  1210\n",
      "212    G.PEZZELLA  [PARMA, FIORENTINA]  1182\n"
     ]
    }
   ],
   "source": [
    "players = players.sort_values(by='P', ascending=False)\n",
    "print(players[[\"Name\", \"Team\", \"P\"]].head(n=10))"
   ]
  },
  {
   "cell_type": "code",
   "execution_count": 17,
   "metadata": {},
   "outputs": [
    {
     "name": "stdout",
     "output_type": "stream",
     "text": [
      "             Name        Team       P_M       M_P\n",
      "72         ARTHUR  [JUVENTUS]  0.809890  1.234735\n",
      "382        MARLON  [SASSUOLO]  0.759047  1.317442\n",
      "349   M.LOCATELLI  [SASSUOLO]  0.759031  1.317470\n",
      "197     G.FERRARI  [SASSUOLO]  0.743231  1.345477\n",
      "335     M.DE LIGT  [JUVENTUS]  0.729683  1.370457\n",
      "388  N.MAKSIMOVIC    [NAPOLI]  0.723108  1.382920\n",
      "496   V.CHIRICHES  [SASSUOLO]  0.713382  1.401774\n",
      "280   K.KOULIBALY    [NAPOLI]  0.710942  1.406584\n",
      "116       D.DEMME    [NAPOLI]  0.702815  1.422849\n",
      "182   FABIAN RUIZ    [NAPOLI]  0.680000  1.470588\n"
     ]
    }
   ],
   "source": [
    "players['P_M'] = players['P'] / players['M']\n",
    "players = players.sort_values(by='P_M', ascending=False)\n",
    "top_players = players[[\"Name\", \"Team\", \"P_M\"]].head(n=10)\n",
    "top_players['M_P'] = players['M'] / players['P']\n",
    "print(top_players.head(n=10))"
   ]
  },
  {
   "cell_type": "code",
   "execution_count": 18,
   "metadata": {},
   "outputs": [
    {
     "name": "stdout",
     "output_type": "stream",
     "text": [
      "             Name        Team         P%\n",
      "72         ARTHUR  [JUVENTUS]  93.357143\n",
      "335     M.DE LIGT  [JUVENTUS]  92.500000\n",
      "456     S.DE VRIJ     [INTER]  92.500000\n",
      "388  N.MAKSIMOVIC    [NAPOLI]  92.428571\n",
      "369    M.SKRINIAR     [INTER]  92.136364\n",
      "350       M.LOPEZ  [SASSUOLO]  91.888889\n",
      "496   V.CHIRICHES  [SASSUOLO]  91.384615\n",
      "418   R.BENTANCUR  [JUVENTUS]  91.181818\n",
      "284     K.MANOLAS    [NAPOLI]  91.000000\n",
      "265      J.TOLJAN  [SASSUOLO]  91.000000\n"
     ]
    }
   ],
   "source": [
    "players = players.sort_values(by='P%', ascending=False)\n",
    "print(players[[\"Name\", \"Team\", \"P%\"]].head(n=10))"
   ]
  },
  {
   "cell_type": "code",
   "execution_count": 19,
   "metadata": {},
   "outputs": [
    {
     "name": "stdout",
     "output_type": "stream",
     "text": [
      "             Name             Team  KP\n",
      "420     R.DE PAUL        [UDINESE]  28\n",
      "248      J.ILICIC       [ATALANTA]  28\n",
      "222  H.CALHANOGLU          [MILAN]  20\n",
      "320  LUIS ALBERTO          [LAZIO]  19\n",
      "310  L.PELLEGRINI    [ROMA, GENOA]  19\n",
      "108     D.BERARDI       [SASSUOLO]  18\n",
      "447     R.SORIANO        [BOLOGNA]  16\n",
      "165     F.DIMARCO  [HELLAS VERONA]  15\n",
      "378    M.ZACCAGNI  [HELLAS VERONA]  15\n",
      "438       R.MARIN       [CAGLIARI]  14\n",
      "31       A.HAKIMI          [INTER]  14\n",
      "225  H.MKHITARYAN           [ROMA]  13\n",
      "314  L.SPINAZZOLA           [ROMA]  13\n",
      "383     N.BARELLA          [INTER]  13\n",
      "233     I.PERISIC          [INTER]  12\n"
     ]
    }
   ],
   "source": [
    "players = players.sort_values(by='KP', ascending=False)\n",
    "print(players[[\"Name\", \"Team\", \"KP\"]].head(n=15))"
   ]
  },
  {
   "cell_type": "code",
   "execution_count": 20,
   "metadata": {},
   "outputs": [
    {
     "name": "stdout",
     "output_type": "stream",
     "text": [
      "               Name        Team      KP_M        M_KP\n",
      "248        J.ILICIC  [ATALANTA]  0.022581   44.285714\n",
      "420       R.DE PAUL   [UDINESE]  0.011750   85.107143\n",
      "222    H.CALHANOGLU     [MILAN]  0.011675   85.650000\n",
      "320    LUIS ALBERTO     [LAZIO]  0.010722   93.263158\n",
      "108       D.BERARDI  [SASSUOLO]  0.010256   97.500000\n",
      "435   R.MALINOVSKYI  [ATALANTA]  0.010093   99.083333\n",
      "156  F.BERNARDESCHI  [JUVENTUS]  0.010063   99.375000\n",
      "61        A.SANCHEZ     [INTER]  0.010000  100.000000\n",
      "87      BRUNO PERES      [ROMA]  0.009504  105.222222\n",
      "479         S.VERDI    [TORINO]  0.009109  109.777778\n"
     ]
    }
   ],
   "source": [
    "players['KP_M'] = players['KP'] / players['M']\n",
    "players = players.sort_values(by='KP_M', ascending=False)\n",
    "top_players = players[[\"Name\", \"Team\", \"KP_M\"]].head(n=10)\n",
    "top_players['M_KP'] = players['M'] / players['KP']\n",
    "print(top_players.head(n=10))"
   ]
  },
  {
   "cell_type": "code",
   "execution_count": 21,
   "metadata": {
    "scrolled": true
   },
   "outputs": [
    {
     "name": "stdout",
     "output_type": "stream",
     "text": [
      "             Name             Team  FS\n",
      "5       A.BELOTTI         [TORINO]  93\n",
      "420     R.DE PAUL        [UDINESE]  92\n",
      "378    M.ZACCAGNI  [HELLAS VERONA]  71\n",
      "255     J.MESSIAS        [CROTONE]  70\n",
      "268    JOAO PEDRO       [CAGLIARI]  65\n",
      "224      H.LOZANO         [NAPOLI]  59\n",
      "251       J.KUCKA          [PARMA]  57\n",
      "489   T.HERNANDEZ          [MILAN]  55\n",
      "248      J.ILICIC       [ATALANTA]  54\n",
      "310  L.PELLEGRINI    [ROMA, GENOA]  52\n"
     ]
    }
   ],
   "source": [
    "players = players.sort_values(by='FS', ascending=False)\n",
    "print(players[[\"Name\", \"Team\", \"FS\"]].head(n=10))"
   ]
  },
  {
   "cell_type": "code",
   "execution_count": 22,
   "metadata": {
    "scrolled": true
   },
   "outputs": [
    {
     "name": "stdout",
     "output_type": "stream",
     "text": [
      "             Name                      Team      FS_M       M_FS\n",
      "5       A.BELOTTI                  [TORINO]  0.044455  22.494624\n",
      "248      J.ILICIC                [ATALANTA]  0.043548  22.962963\n",
      "420     R.DE PAUL                 [UDINESE]  0.038607  25.902174\n",
      "378    M.ZACCAGNI           [HELLAS VERONA]  0.036579  27.338028\n",
      "224      H.LOZANO                  [NAPOLI]  0.035910  27.847458\n",
      "178      F.RIBERY              [FIORENTINA]  0.035236  28.380000\n",
      "208      G.PANDEV                   [GENOA]  0.034591  28.909091\n",
      "458  S.DI CARMINE  [HELLAS VERONA, CROTONE]  0.032859  30.433333\n",
      "213     G.RAMIREZ               [SAMPDORIA]  0.032720  30.562500\n",
      "408     P.HETEMAJ               [BENEVENTO]  0.032026  31.224490\n"
     ]
    }
   ],
   "source": [
    "players['FS_M'] = players['FS'] / players['M']\n",
    "players = players.sort_values(by='FS_M', ascending=False)\n",
    "top_players = players[[\"Name\", \"Team\", \"FS_M\"]].head(n=10)\n",
    "top_players['M_FS'] = players['M'] / players['FS']\n",
    "print(top_players.head(n=10))"
   ]
  },
  {
   "cell_type": "code",
   "execution_count": 23,
   "metadata": {},
   "outputs": [
    {
     "name": "stdout",
     "output_type": "stream",
     "text": [
      "             Name                 Team    R\n",
      "493    T.TOMIYASU            [BOLOGNA]  232\n",
      "278        K.GLIK          [BENEVENTO]  223\n",
      "212    G.PEZZELLA  [PARMA, FIORENTINA]  222\n",
      "101      C.ROMERO           [ATALANTA]  221\n",
      "154      F.ACERBI              [LAZIO]  209\n",
      "389  N.MILENKOVIC         [FIORENTINA]  202\n",
      "86         BREMER             [TORINO]  196\n",
      "295      L.DANILO            [BOLOGNA]  195\n",
      "426      R.IBANEZ               [ROMA]  193\n",
      "400      O.COLLEY          [SAMPDORIA]  189\n"
     ]
    }
   ],
   "source": [
    "players = players.sort_values(by='R', ascending=False)\n",
    "print(players[[\"Name\", \"Team\", \"R\"]].head(n=10))"
   ]
  },
  {
   "cell_type": "code",
   "execution_count": 24,
   "metadata": {},
   "outputs": [
    {
     "name": "stdout",
     "output_type": "stream",
     "text": [
      "             Name                         Team       R_M       M_R\n",
      "203     G.MAGNANI              [HELLAS VERONA]  0.151540  6.598930\n",
      "279      K.GUNTER              [HELLAS VERONA]  0.131833  7.585366\n",
      "101      C.ROMERO                   [ATALANTA]  0.126503  7.904977\n",
      "496   V.CHIRICHES                   [SASSUOLO]  0.112116  8.919355\n",
      "324        M.BANI               [GENOA, PARMA]  0.111828  8.942308\n",
      "123       D.GODIN                   [CAGLIARI]  0.108007  9.258621\n",
      "86         BREMER                     [TORINO]  0.106406  9.397959\n",
      "493    T.TOMIYASU                    [BOLOGNA]  0.105551  9.474138\n",
      "400      O.COLLEY                  [SAMPDORIA]  0.104883  9.534392\n",
      "162  F.CECCHERINI  [FIORENTINA, HELLAS VERONA]  0.103743  9.639241\n"
     ]
    }
   ],
   "source": [
    "players['R_M'] = players['R'] / players['M']\n",
    "players = players.sort_values(by='R_M', ascending=False)\n",
    "top_players = players[[\"Name\", \"Team\", \"R_M\"]].head(n=10)\n",
    "top_players['M_R'] = players['M'] / players['R']\n",
    "print(top_players.head(n=10))"
   ]
  },
  {
   "cell_type": "code",
   "execution_count": 25,
   "metadata": {},
   "outputs": [],
   "source": [
    "thisdir = os.getcwd()\n",
    "thisdir += \"/2020-2021/Player Data/Goalkeeper/\"\n",
    "csv_list = []\n",
    "\n",
    "for r, d, f in os.walk(thisdir):\n",
    "    for file in f:\n",
    "        if file.endswith(\".csv\"):\n",
    "            csv_list.append(os.path.join(r, file))\n",
    "\n",
    "csv_list = sorted(csv_list)\n",
    "\n",
    "players = []\n",
    "\n",
    "for csv_file in csv_list:\n",
    "#     print(csv_file)\n",
    "    if csv_file[-5:] == \"/.csv\":\n",
    "        continue\n",
    "    player_data = pd.read_csv(csv_file, encoding='latin-1')\n",
    "    player_data[\"M_played\"] = player_data.apply(lambda row:convert_to_minutes(row), axis=1)\n",
    "    player_data = player_data.astype({'GC':'int32', 'OG':'int32', 'S':'int32', 'STP':'int32', 'SF':'int32', 'FYC':'int32', 'SYC':'int32', 'RC':'int32'})\n",
    "\n",
    "    players.append([player_data[\"Name\"].unique()[0], player_data[\"Team\"].unique(), player_data[\"M_played\"].sum(), player_data[\"GC\"].sum(), player_data[\"OG\"].sum(), player_data[\"S\"].sum(), player_data[\"STP\"].sum(), player_data[\"SF\"].sum(), player_data[\"FYC\"].sum(), player_data[\"SYC\"].sum(), player_data[\"RC\"].sum(), player_data[\"M_played\"].size])\n",
    "\n",
    "players = pd.DataFrame(np.array(players), columns=['Name', 'Team' , 'M', 'GC', 'OG', 'S', 'STP', 'SF', 'FYC', 'SYC', 'RC', 'N'])\n",
    "players = players.astype({'M':'int32', 'GC':'int32', 'OG':'int32', 'S':'int32', 'STP':'int32', 'SF':'int32', 'FYC':'int32', 'SYC':'int32', 'RC':'int32', 'N':'int32'})\n",
    "players = players[players['M'] >= min_time]\n",
    "players = players[players['N'] >= min_games]"
   ]
  },
  {
   "cell_type": "code",
   "execution_count": 26,
   "metadata": {},
   "outputs": [
    {
     "name": "stdout",
     "output_type": "stream",
     "text": [
      "            Name             Team     M\n",
      "7    B.DRAGOWSKI     [FIORENTINA]  2502\n",
      "23   M.SILVESTRI  [HELLAS VERONA]  2491\n",
      "19    L.MONTIPO'      [BENEVENTO]  2489\n",
      "30  S.HANDANOVIC          [INTER]  2489\n",
      "2       A.CRAGNO       [CAGLIARI]  2488\n",
      "20        L.SEPE          [PARMA]  2488\n",
      "10      E.AUDERO      [SAMPDORIA]  2486\n",
      "1       A.CORDAZ        [CROTONE]  2479\n",
      "14  G.DONNARUMMA          [MILAN]  2404\n",
      "0     A.CONSIGLI       [SASSUOLO]  2319\n"
     ]
    }
   ],
   "source": [
    "players = players.sort_values(by='M', ascending=False)\n",
    "print(players[[\"Name\", \"Team\", \"M\"]].head(n=10))"
   ]
  },
  {
   "cell_type": "code",
   "execution_count": 27,
   "metadata": {},
   "outputs": [
    {
     "name": "stdout",
     "output_type": "stream",
     "text": [
      "            Name          Team        M_N\n",
      "31      S.SIRIGU      [TORINO]  97.136364\n",
      "0     A.CONSIGLI    [SASSUOLO]  96.625000\n",
      "4        A.MERET      [NAPOLI]  96.333333\n",
      "7    B.DRAGOWSKI  [FIORENTINA]  96.230769\n",
      "14  G.DONNARUMMA       [MILAN]  96.160000\n",
      "17       J.MUSSO     [UDINESE]  96.083333\n",
      "34    W.SZCZESNY    [JUVENTUS]  96.050000\n",
      "21   L.SKORUPSKI     [BOLOGNA]  96.000000\n",
      "16    I.PROVEDEL      [SPEZIA]  95.954545\n",
      "28       P.REINA       [LAZIO]  95.894737\n"
     ]
    }
   ],
   "source": [
    "players['M_N'] = players['M'] / players['N']\n",
    "players = players.sort_values(by='M_N', ascending=False)\n",
    "print(players[[\"Name\", \"Team\", \"M_N\"]].head(n=10))"
   ]
  },
  {
   "cell_type": "code",
   "execution_count": 28,
   "metadata": {},
   "outputs": [
    {
     "name": "stdout",
     "output_type": "stream",
     "text": [
      "           Name          Team  GC\n",
      "1      A.CORDAZ     [CROTONE]  64\n",
      "20       L.SEPE       [PARMA]  52\n",
      "19   L.MONTIPO'   [BENEVENTO]  48\n",
      "2      A.CRAGNO    [CAGLIARI]  43\n",
      "31     S.SIRIGU      [TORINO]  41\n",
      "7   B.DRAGOWSKI  [FIORENTINA]  41\n",
      "16   I.PROVEDEL      [SPEZIA]  39\n",
      "10     E.AUDERO   [SAMPDORIA]  39\n",
      "0    A.CONSIGLI    [SASSUOLO]  39\n",
      "17      J.MUSSO     [UDINESE]  29\n"
     ]
    }
   ],
   "source": [
    "players = players.sort_values(by='GC', ascending=False)\n",
    "print(players[[\"Name\", \"Team\", \"GC\"]].head(n=10))"
   ]
  },
  {
   "cell_type": "code",
   "execution_count": 29,
   "metadata": {},
   "outputs": [
    {
     "name": "stdout",
     "output_type": "stream",
     "text": [
      "            Name          Team      GC_M       M_GC\n",
      "1       A.CORDAZ     [CROTONE]  0.025817  38.734375\n",
      "20        L.SEPE       [PARMA]  0.020900  47.846154\n",
      "19    L.MONTIPO'   [BENEVENTO]  0.019285  51.854167\n",
      "31      S.SIRIGU      [TORINO]  0.019186  52.121951\n",
      "16    I.PROVEDEL      [SPEZIA]  0.018475  54.128205\n",
      "2       A.CRAGNO    [CAGLIARI]  0.017283  57.860465\n",
      "0     A.CONSIGLI    [SASSUOLO]  0.016818  59.461538\n",
      "7    B.DRAGOWSKI  [FIORENTINA]  0.016387  61.024390\n",
      "24  M.SPORTIELLO    [ATALANTA]  0.015903  62.882353\n",
      "10      E.AUDERO   [SAMPDORIA]  0.015688  63.743590\n"
     ]
    }
   ],
   "source": [
    "players['GC_M'] = players['GC'] / players['M']\n",
    "players = players.sort_values(by='GC_M', ascending=False)\n",
    "top_players = players[[\"Name\", \"Team\", \"GC_M\"]].head(n=10)\n",
    "top_players['M_GC'] = players['M'] / players['GC']\n",
    "print(top_players.head(n=10))"
   ]
  },
  {
   "cell_type": "code",
   "execution_count": 30,
   "metadata": {},
   "outputs": [
    {
     "name": "stdout",
     "output_type": "stream",
     "text": [
      "            Name        Team  GC\n",
      "9       D.OSPINA    [NAPOLI]  12\n",
      "26     P.GOLLINI  [ATALANTA]  16\n",
      "5      A.MIRANTE      [ROMA]  16\n",
      "4        A.MERET    [NAPOLI]  17\n",
      "24  M.SPORTIELLO  [ATALANTA]  17\n",
      "27       P.LOPEZ      [ROMA]  19\n",
      "34    W.SZCZESNY  [JUVENTUS]  19\n",
      "28       P.REINA     [LAZIO]  23\n",
      "30  S.HANDANOVIC     [INTER]  25\n",
      "14  G.DONNARUMMA     [MILAN]  27\n"
     ]
    }
   ],
   "source": [
    "players = players.sort_values(by='GC')\n",
    "print(players[[\"Name\", \"Team\", \"GC\"]].head(n=10))"
   ]
  },
  {
   "cell_type": "code",
   "execution_count": 31,
   "metadata": {},
   "outputs": [
    {
     "name": "stdout",
     "output_type": "stream",
     "text": [
      "            Name             Team      GC_M        M_GC\n",
      "9       D.OSPINA         [NAPOLI]  0.009677  103.333333\n",
      "34    W.SZCZESNY       [JUVENTUS]  0.009891  101.105263\n",
      "30  S.HANDANOVIC          [INTER]  0.010044   99.560000\n",
      "14  G.DONNARUMMA          [MILAN]  0.011231   89.037037\n",
      "26     P.GOLLINI       [ATALANTA]  0.011412   87.625000\n",
      "23   M.SILVESTRI  [HELLAS VERONA]  0.011642   85.896552\n",
      "17       J.MUSSO        [UDINESE]  0.012576   79.517241\n",
      "28       P.REINA          [LAZIO]  0.012623   79.217391\n",
      "27       P.LOPEZ           [ROMA]  0.012978   77.052632\n",
      "22       M.PERIN          [GENOA]  0.013372   74.785714\n"
     ]
    }
   ],
   "source": [
    "players['GC_M'] = players['GC'] / players['M']\n",
    "players = players.sort_values(by='GC_M')\n",
    "top_players = players[[\"Name\", \"Team\", \"GC_M\"]].head(n=10)\n",
    "top_players['M_GC'] = players['M'] / players['GC']\n",
    "print(top_players.head(n=10))"
   ]
  },
  {
   "cell_type": "code",
   "execution_count": 32,
   "metadata": {},
   "outputs": [
    {
     "name": "stdout",
     "output_type": "stream",
     "text": [
      "            Name             Team    S\n",
      "2       A.CRAGNO       [CAGLIARI]  116\n",
      "10      E.AUDERO      [SAMPDORIA]   96\n",
      "1       A.CORDAZ        [CROTONE]   90\n",
      "20        L.SEPE          [PARMA]   89\n",
      "22       M.PERIN          [GENOA]   87\n",
      "21   L.SKORUPSKI        [BOLOGNA]   86\n",
      "0     A.CONSIGLI       [SASSUOLO]   85\n",
      "23   M.SILVESTRI  [HELLAS VERONA]   84\n",
      "19    L.MONTIPO'      [BENEVENTO]   83\n",
      "14  G.DONNARUMMA          [MILAN]   82\n"
     ]
    }
   ],
   "source": [
    "players = players.sort_values(by='S', ascending=False)\n",
    "print(players[[\"Name\", \"Team\", \"S\"]].head(n=10))"
   ]
  },
  {
   "cell_type": "code",
   "execution_count": 33,
   "metadata": {},
   "outputs": [
    {
     "name": "stdout",
     "output_type": "stream",
     "text": [
      "            Name             Team       S_M        M_S\n",
      "21   L.SKORUPSKI        [BOLOGNA]  0.047149  21.209302\n",
      "2       A.CRAGNO       [CAGLIARI]  0.046624  21.448276\n",
      "22       M.PERIN          [GENOA]  0.041547  24.068966\n",
      "10      E.AUDERO      [SAMPDORIA]  0.038616  25.895833\n",
      "0     A.CONSIGLI       [SASSUOLO]  0.036654  27.282353\n",
      "1       A.CORDAZ        [CROTONE]  0.036305  27.544444\n",
      "20        L.SEPE          [PARMA]  0.035772  27.955056\n",
      "14  G.DONNARUMMA          [MILAN]  0.034110  29.317073\n",
      "4        A.MERET         [NAPOLI]  0.033737  29.641026\n",
      "23   M.SILVESTRI  [HELLAS VERONA]  0.033721  29.654762\n"
     ]
    }
   ],
   "source": [
    "players['S_M'] = players['S'] / players['M']\n",
    "players = players.sort_values(by='S_M', ascending=False)\n",
    "top_players = players[[\"Name\", \"Team\", \"S_M\"]].head(n=10)\n",
    "top_players['M_S'] = players['M'] / players['S']\n",
    "print(top_players.head(n=10))"
   ]
  },
  {
   "cell_type": "code",
   "execution_count": 34,
   "metadata": {},
   "outputs": [
    {
     "name": "stdout",
     "output_type": "stream",
     "text": [
      "            Name             Team  Set_S\n",
      "0     A.CONSIGLI       [SASSUOLO]     14\n",
      "20        L.SEPE          [PARMA]     14\n",
      "2       A.CRAGNO       [CAGLIARI]     14\n",
      "14  G.DONNARUMMA          [MILAN]     13\n",
      "7    B.DRAGOWSKI     [FIORENTINA]     12\n",
      "23   M.SILVESTRI  [HELLAS VERONA]     11\n",
      "19    L.MONTIPO'      [BENEVENTO]     11\n",
      "17       J.MUSSO        [UDINESE]     10\n",
      "1       A.CORDAZ        [CROTONE]      9\n",
      "16    I.PROVEDEL         [SPEZIA]      9\n"
     ]
    }
   ],
   "source": [
    "players['Set_S'] = players['STP'] + players['SF']\n",
    "players = players.sort_values(by='Set_S', ascending=False)\n",
    "print(players[[\"Name\", \"Team\", \"Set_S\"]].head(n=10))"
   ]
  }
 ],
 "metadata": {
  "kernelspec": {
   "display_name": "Python 3",
   "language": "python",
   "name": "python3"
  },
  "language_info": {
   "codemirror_mode": {
    "name": "ipython",
    "version": 3
   },
   "file_extension": ".py",
   "mimetype": "text/x-python",
   "name": "python",
   "nbconvert_exporter": "python",
   "pygments_lexer": "ipython3",
   "version": "3.7.4"
  }
 },
 "nbformat": 4,
 "nbformat_minor": 2
}
