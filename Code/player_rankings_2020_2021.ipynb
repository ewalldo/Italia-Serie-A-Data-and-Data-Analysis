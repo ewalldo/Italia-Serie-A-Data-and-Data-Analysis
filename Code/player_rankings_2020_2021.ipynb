{
 "cells": [
  {
   "cell_type": "code",
   "execution_count": 1,
   "metadata": {},
   "outputs": [],
   "source": [
    "import os\n",
    "import csv\n",
    "import pandas as pd\n",
    "import numpy as np\n",
    "import math"
   ]
  },
  {
   "cell_type": "code",
   "execution_count": 2,
   "metadata": {},
   "outputs": [
    {
     "name": "stdout",
     "output_type": "stream",
     "text": [
      "720.0\n",
      "8\n"
     ]
    }
   ],
   "source": [
    "thisdir = os.getcwd()\n",
    "thisdir += \"/2020-2021/Player Data/Non-goalkeeper/\"\n",
    "csv_list = []\n",
    "\n",
    "n_games = 24 #total games played\n",
    "min_time = n_games / 3 * 90 #min time played to be eligible\n",
    "min_games = math.floor(n_games / 3) #min games played to be eligible\n",
    "print(min_time)\n",
    "print(min_games)"
   ]
  },
  {
   "cell_type": "code",
   "execution_count": 3,
   "metadata": {},
   "outputs": [],
   "source": [
    "for r, d, f in os.walk(thisdir):\n",
    "    for file in f:\n",
    "        if file.endswith(\".csv\"):\n",
    "            csv_list.append(os.path.join(r, file))\n",
    "\n",
    "csv_list = sorted(csv_list)"
   ]
  },
  {
   "cell_type": "code",
   "execution_count": 4,
   "metadata": {},
   "outputs": [],
   "source": [
    "def convert_to_minutes(row):\n",
    "    return int(row['M'][:-1])\n",
    "\n",
    "def convert_to_int(row, col):\n",
    "    return int(row[col])"
   ]
  },
  {
   "cell_type": "code",
   "execution_count": 5,
   "metadata": {},
   "outputs": [],
   "source": [
    "players = []\n",
    "\n",
    "for csv_file in csv_list:\n",
    "#     print(csv_file)\n",
    "    if csv_file[-5:] == \"/.csv\":\n",
    "        continue\n",
    "    player_data = pd.read_csv(csv_file, encoding='latin-1')\n",
    "    player_data[\"M_played\"] = player_data.apply(lambda row:convert_to_minutes(row), axis=1)\n",
    "    player_data = player_data.astype({'G':'int32', 'OG':'int32', 'A':'int32', 'AT':'int32', 'BS':'int32', 'SC':'int32', 'FS':'int32', 'BP':'int32', 'AS':'int32', 'KP':'int32', 'P':'int32', 'P%':'int32', 'R':'int32', 'FYC':'int32', 'SYC':'int32', 'RC':'int32'})\n",
    "\n",
    "    players.append([player_data[\"Name\"].unique()[0], player_data[\"Team\"].unique(), player_data[\"M_played\"].sum(), player_data[\"G\"].sum(), player_data[\"OG\"].sum(), player_data[\"A\"].sum(), player_data[\"AT\"].sum(), player_data[\"BS\"].sum(), player_data[\"SC\"].sum(), player_data[\"FS\"].sum(), player_data[\"BP\"].sum(), player_data[\"AS\"].sum(), player_data[\"KP\"].sum(), player_data[\"P\"].sum(), player_data[\"P%\"].sum()  / player_data[\"P%\"].size, player_data[\"R\"].sum(), player_data[\"FYC\"].sum(), player_data[\"SYC\"].sum(), player_data[\"RC\"].sum(), player_data[\"M_played\"].size])\n",
    "\n",
    "players = pd.DataFrame(np.array(players), columns=['Name', 'Team' , 'M', 'G', 'OG', 'A', 'AT', 'BS', 'SC', 'FS', 'BP', 'AS', 'KP', 'P', 'P%', 'R', 'FYC', 'SYC', 'RC', \"N\"])\n",
    "players = players.astype({'M':'int32', 'G':'int32', 'OG':'int32', 'A':'int32', 'AT':'int32', 'BS':'int32', 'SC':'int32', 'FS':'int32', 'BP':'int32', 'AS':'int32', 'KP':'int32', 'P':'int32', 'P%':'float', 'R':'int32', 'FYC':'int32', 'SYC':'int32', 'RC':'int32', 'N':'int32'})\n",
    "players = players[players['M'] >= min_time]\n",
    "players = players[players['N'] >= min_games]"
   ]
  },
  {
   "cell_type": "code",
   "execution_count": 6,
   "metadata": {},
   "outputs": [
    {
     "name": "stdout",
     "output_type": "stream",
     "text": [
      "             Name                 Team     M\n",
      "208    G.PEZZELLA  [PARMA, FIORENTINA]  2863\n",
      "306  L.PELLEGRINI        [ROMA, GENOA]  2538\n",
      "291      L.DANILO            [BOLOGNA]  2275\n",
      "443     R.SORIANO            [BOLOGNA]  2256\n",
      "264    JOAO PEDRO           [CAGLIARI]  2238\n",
      "489    T.TOMIYASU            [BOLOGNA]  2198\n",
      "416     R.DE PAUL            [UDINESE]  2189\n",
      "251     J.MESSIAS            [CROTONE]  2177\n",
      "274        K.GLIK          [BENEVENTO]  2167\n",
      "110    D.CALABRIA              [MILAN]  2161\n"
     ]
    }
   ],
   "source": [
    "players = players.sort_values(by='M', ascending=False)\n",
    "print(players[[\"Name\", \"Team\", \"M\"]].head(n=10))"
   ]
  },
  {
   "cell_type": "code",
   "execution_count": 7,
   "metadata": {},
   "outputs": [
    {
     "name": "stdout",
     "output_type": "stream",
     "text": [
      "             Name         Team        M_N\n",
      "85         BREMER     [TORINO]  96.947368\n",
      "194     G.FERRARI   [SASSUOLO]  96.333333\n",
      "485   T.HERNANDEZ      [MILAN]  96.285714\n",
      "57    A.ROMAGNOLI      [MILAN]  96.000000\n",
      "191  G.DI LORENZO     [NAPOLI]  95.909091\n",
      "489    T.TOMIYASU    [BOLOGNA]  95.565217\n",
      "416     R.DE PAUL    [UDINESE]  95.173913\n",
      "5       A.BELOTTI     [TORINO]  95.090909\n",
      "345   M.LOCATELLI   [SASSUOLO]  94.952381\n",
      "396      O.COLLEY  [SAMPDORIA]  94.823529\n"
     ]
    }
   ],
   "source": [
    "players['M_N'] = players['M'] / players['N']\n",
    "players = players.sort_values(by='M_N', ascending=False)\n",
    "print(players[[\"Name\", \"Team\", \"M_N\"]].head(n=10))"
   ]
  },
  {
   "cell_type": "code",
   "execution_count": 8,
   "metadata": {},
   "outputs": [
    {
     "name": "stdout",
     "output_type": "stream",
     "text": [
      "              Name        Team   G\n",
      "101      C.RONALDO  [JUVENTUS]  19\n",
      "430       R.LUKAKU     [INTER]  18\n",
      "304       L.MURIEL  [ATALANTA]  14\n",
      "91      C.IMMOBILE     [LAZIO]  14\n",
      "509  Z.IBRAHIMOVIC     [MILAN]  14\n",
      "302     L.MARTINEZ     [INTER]  13\n",
      "264     JOAO PEDRO  [CAGLIARI]  12\n",
      "5        A.BELOTTI    [TORINO]  11\n",
      "158       F.CAPUTO  [SASSUOLO]  10\n",
      "296      L.INSIGNE    [NAPOLI]  10\n"
     ]
    }
   ],
   "source": [
    "players = players.sort_values(by='G', ascending=False)\n",
    "print(players[[\"Name\", \"Team\", \"G\"]].head(n=10))"
   ]
  },
  {
   "cell_type": "code",
   "execution_count": 9,
   "metadata": {},
   "outputs": [
    {
     "name": "stdout",
     "output_type": "stream",
     "text": [
      "              Name        Team       G_M         M_G\n",
      "304       L.MURIEL  [ATALANTA]  0.016055   62.285714\n",
      "509  Z.IBRAHIMOVIC     [MILAN]  0.012048   83.000000\n",
      "101      C.RONALDO  [JUVENTUS]  0.010417   96.000000\n",
      "430       R.LUKAKU     [INTER]  0.009574  104.444444\n",
      "335       M.DESTRO     [GENOA]  0.008798  113.666667\n",
      "351        M.NZOLA    [SPEZIA]  0.007725  129.444444\n",
      "91      C.IMMOBILE     [LAZIO]  0.007613  131.357143\n",
      "302     L.MARTINEZ     [INTER]  0.007454  134.153846\n",
      "79       B.MAYORAL      [ROMA]  0.007151  139.833333\n",
      "158       F.CAPUTO  [SASSUOLO]  0.007123  140.400000\n"
     ]
    }
   ],
   "source": [
    "players['G_M'] = players['G'] / players['M']\n",
    "players = players.sort_values(by='G_M', ascending=False)\n",
    "top_players = players[[\"Name\", \"Team\", \"G_M\"]].head(n=10)\n",
    "top_players['M_G'] = players['M'] / players['G']\n",
    "print(top_players.head(n=10))"
   ]
  },
  {
   "cell_type": "code",
   "execution_count": 10,
   "metadata": {},
   "outputs": [
    {
     "name": "stdout",
     "output_type": "stream",
     "text": [
      "              Name        Team   A\n",
      "101      C.RONALDO  [JUVENTUS]  98\n",
      "296      L.INSIGNE    [NAPOLI]  82\n",
      "302     L.MARTINEZ     [INTER]  73\n",
      "5        A.BELOTTI    [TORINO]  71\n",
      "91      C.IMMOBILE     [LAZIO]  63\n",
      "221   H.MKHITARYAN      [ROMA]  62\n",
      "509  Z.IBRAHIMOVIC     [MILAN]  61\n",
      "430       R.LUKAKU     [INTER]  59\n",
      "251      J.MESSIAS   [CROTONE]  58\n",
      "321       M.BARROW   [BOLOGNA]  56\n"
     ]
    }
   ],
   "source": [
    "players = players.sort_values(by='A', ascending=False)\n",
    "print(players[[\"Name\", \"Team\", \"A\"]].head(n=10))"
   ]
  },
  {
   "cell_type": "code",
   "execution_count": 11,
   "metadata": {},
   "outputs": [
    {
     "name": "stdout",
     "output_type": "stream",
     "text": [
      "              Name        Team       A_M        M_A\n",
      "304       L.MURIEL  [ATALANTA]  0.055046  18.166667\n",
      "101      C.RONALDO  [JUVENTUS]  0.053728  18.612245\n",
      "509  Z.IBRAHIMOVIC     [MILAN]  0.052496  19.049180\n",
      "296      L.INSIGNE    [NAPOLI]  0.050555  19.780488\n",
      "302     L.MARTINEZ     [INTER]  0.041858  23.890411\n",
      "126      D.MERTENS    [NAPOLI]  0.041480  24.108108\n",
      "244       J.ILICIC  [ATALANTA]  0.037273  26.829268\n",
      "107      D.BERARDI  [SASSUOLO]  0.034987  28.581818\n",
      "91      C.IMMOBILE     [LAZIO]  0.034258  29.190476\n",
      "498      V.OSIMHEN    [NAPOLI]  0.033967  29.440000\n"
     ]
    }
   ],
   "source": [
    "players['A_M'] = players['A'] / players['M']\n",
    "players = players.sort_values(by='A_M', ascending=False)\n",
    "top_players = players[[\"Name\", \"Team\", \"A_M\"]].head(n=10)\n",
    "top_players['M_A'] = players['M'] / players['A']\n",
    "print(top_players.head(n=10))"
   ]
  },
  {
   "cell_type": "code",
   "execution_count": 12,
   "metadata": {},
   "outputs": [
    {
     "name": "stdout",
     "output_type": "stream",
     "text": [
      "                   Name                    Team  AS\n",
      "221        H.MKHITARYAN                  [ROMA]   8\n",
      "218        H.CALHANOGLU                 [MILAN]   8\n",
      "466  S.MILINKOVIC-SAVIC                 [LAZIO]   7\n",
      "323          M.BROZOVIC                 [INTER]   6\n",
      "126           D.MERTENS                [NAPOLI]   6\n",
      "44             A.MORATA              [JUVENTUS]   6\n",
      "306        L.PELLEGRINI           [ROMA, GENOA]   6\n",
      "304            L.MURIEL              [ATALANTA]   5\n",
      "429              R.LEAO                 [MILAN]   5\n",
      "241          J.CUADRADO              [JUVENTUS]   5\n",
      "10           A.CANDREVA             [SAMPDORIA]   5\n",
      "160            F.CHIESA  [FIORENTINA, JUVENTUS]   5\n",
      "321            M.BARROW               [BOLOGNA]   5\n",
      "133            D.ZAPATA              [ATALANTA]   5\n",
      "60            A.SANCHEZ                 [INTER]   5\n",
      "379           N.BARELLA                 [INTER]   5\n",
      "430            R.LUKAKU                 [INTER]   5\n",
      "443           R.SORIANO               [BOLOGNA]   5\n",
      "5             A.BELOTTI                [TORINO]   5\n",
      "374          M.ZACCAGNI         [HELLAS VERONA]   5\n",
      "244            J.ILICIC              [ATALANTA]   5\n",
      "40            A.MARUSIC                 [LAZIO]   4\n",
      "449           S.BASTONI                [SPEZIA]   4\n",
      "485         T.HERNANDEZ                 [MILAN]   4\n",
      "416           R.DE PAUL               [UDINESE]   4\n"
     ]
    }
   ],
   "source": [
    "players = players.sort_values(by='AS', ascending=False)\n",
    "print(players[[\"Name\", \"Team\", \"AS\"]].head(n=25))"
   ]
  },
  {
   "cell_type": "code",
   "execution_count": 13,
   "metadata": {},
   "outputs": [
    {
     "name": "stdout",
     "output_type": "stream",
     "text": [
      "             Name        Team      AS_M        M_AS\n",
      "126     D.MERTENS    [NAPOLI]  0.006726  148.666667\n",
      "60      A.SANCHEZ     [INTER]  0.006219  160.800000\n",
      "304      L.MURIEL  [ATALANTA]  0.005734  174.400000\n",
      "44       A.MORATA  [JUVENTUS]  0.004847  206.333333\n",
      "218  H.CALHANOGLU     [MILAN]  0.004670  214.125000\n",
      "244      J.ILICIC  [ATALANTA]  0.004545  220.000000\n",
      "52       A.RAMSEY  [JUVENTUS]  0.004260  234.750000\n",
      "475       S.VERDI    [TORINO]  0.004175  239.500000\n",
      "241    J.CUADRADO  [JUVENTUS]  0.003861  259.000000\n",
      "429        R.LEAO     [MILAN]  0.003771  265.200000\n"
     ]
    }
   ],
   "source": [
    "players['AS_M'] = players['AS'] / players['M']\n",
    "players = players.sort_values(by='AS_M', ascending=False)\n",
    "top_players = players[[\"Name\", \"Team\", \"AS_M\"]].head(n=10)\n",
    "top_players['M_AS'] = players['M'] / players['AS']\n",
    "print(top_players.head(n=10))"
   ]
  },
  {
   "cell_type": "code",
   "execution_count": 14,
   "metadata": {},
   "outputs": [
    {
     "name": "stdout",
     "output_type": "stream",
     "text": [
      "             Name                 Team    BP\n",
      "345   M.LOCATELLI           [SASSUOLO]  2096\n",
      "191  G.DI LORENZO             [NAPOLI]  1890\n",
      "135        DANILO           [JUVENTUS]  1849\n",
      "194     G.FERRARI           [SASSUOLO]  1818\n",
      "306  L.PELLEGRINI        [ROMA, GENOA]  1800\n",
      "208    G.PEZZELLA  [PARMA, FIORENTINA]  1796\n",
      "416     R.DE PAUL            [UDINESE]  1792\n",
      "110    D.CALABRIA              [MILAN]  1709\n",
      "4       A.BASTONI              [INTER]  1648\n",
      "422      R.IBANEZ               [ROMA]  1608\n"
     ]
    }
   ],
   "source": [
    "players = players.sort_values(by='BP', ascending=False)\n",
    "print(players[[\"Name\", \"Team\", \"BP\"]].head(n=10))"
   ]
  },
  {
   "cell_type": "code",
   "execution_count": 15,
   "metadata": {},
   "outputs": [
    {
     "name": "stdout",
     "output_type": "stream",
     "text": [
      "            Name        Team      BP_M      M_BP\n",
      "345  M.LOCATELLI  [SASSUOLO]  1.051153  0.951336\n",
      "71        ARTHUR  [JUVENTUS]  0.989842  1.010262\n",
      "115      D.DEMME    [NAPOLI]  0.986041  1.014157\n",
      "414  R.BENTANCUR  [JUVENTUS]  0.943042  1.060398\n",
      "377    MARIO RUI    [NAPOLI]  0.942529  1.060976\n",
      "135       DANILO  [JUVENTUS]  0.940967  1.062737\n",
      "179  FABIAN RUIZ    [NAPOLI]  0.931983  1.072981\n",
      "241   J.CUADRADO  [JUVENTUS]  0.926641  1.079167\n",
      "323   M.BROZOVIC     [INTER]  0.921801  1.084833\n",
      "491  V.CHIRICHES  [SASSUOLO]  0.917722  1.089655\n"
     ]
    }
   ],
   "source": [
    "players['BP_M'] = players['BP'] / players['M']\n",
    "players = players.sort_values(by='BP_M', ascending=False)\n",
    "top_players = players[[\"Name\", \"Team\", \"BP_M\"]].head(n=10)\n",
    "top_players['M_BP'] = players['M'] / players['BP']\n",
    "print(top_players.head(n=10))"
   ]
  },
  {
   "cell_type": "code",
   "execution_count": 16,
   "metadata": {},
   "outputs": [
    {
     "name": "stdout",
     "output_type": "stream",
     "text": [
      "             Name        Team     P\n",
      "345   M.LOCATELLI  [SASSUOLO]  1519\n",
      "194     G.FERRARI  [SASSUOLO]  1461\n",
      "135        DANILO  [JUVENTUS]  1354\n",
      "4       A.BASTONI     [INTER]  1285\n",
      "191  G.DI LORENZO    [NAPOLI]  1210\n",
      "365    M.SKRINIAR     [INTER]  1206\n",
      "323    M.BROZOVIC     [INTER]  1146\n",
      "452     S.DE VRIJ     [INTER]  1135\n",
      "332     M.DE ROON  [ATALANTA]  1126\n",
      "422      R.IBANEZ      [ROMA]  1113\n"
     ]
    }
   ],
   "source": [
    "players = players.sort_values(by='P', ascending=False)\n",
    "print(players[[\"Name\", \"Team\", \"P\"]].head(n=10))"
   ]
  },
  {
   "cell_type": "code",
   "execution_count": 17,
   "metadata": {},
   "outputs": [
    {
     "name": "stdout",
     "output_type": "stream",
     "text": [
      "             Name        Team       P_M       M_P\n",
      "71         ARTHUR  [JUVENTUS]  0.825056  1.212038\n",
      "345   M.LOCATELLI  [SASSUOLO]  0.761785  1.312706\n",
      "115       D.DEMME    [NAPOLI]  0.751269  1.331081\n",
      "384  N.MAKSIMOVIC    [NAPOLI]  0.745633  1.341142\n",
      "331     M.DE LIGT  [JUVENTUS]  0.729683  1.370457\n",
      "276   K.KOULIBALY    [NAPOLI]  0.723906  1.381395\n",
      "194     G.FERRARI  [SASSUOLO]  0.722195  1.384668\n",
      "491   V.CHIRICHES  [SASSUOLO]  0.713382  1.401774\n",
      "179   FABIAN RUIZ    [NAPOLI]  0.709841  1.408767\n",
      "378        MARLON  [SASSUOLO]  0.701064  1.426404\n"
     ]
    }
   ],
   "source": [
    "players['P_M'] = players['P'] / players['M']\n",
    "players = players.sort_values(by='P_M', ascending=False)\n",
    "top_players = players[[\"Name\", \"Team\", \"P_M\"]].head(n=10)\n",
    "top_players['M_P'] = players['M'] / players['P']\n",
    "print(top_players.head(n=10))"
   ]
  },
  {
   "cell_type": "code",
   "execution_count": 18,
   "metadata": {},
   "outputs": [
    {
     "name": "stdout",
     "output_type": "stream",
     "text": [
      "             Name        Team         P%\n",
      "71         ARTHUR  [JUVENTUS]  94.769231\n",
      "280     K.MANOLAS    [NAPOLI]  93.157895\n",
      "384  N.MAKSIMOVIC    [NAPOLI]  92.923077\n",
      "365    M.SKRINIAR     [INTER]  92.550000\n",
      "331     M.DE LIGT  [JUVENTUS]  92.500000\n",
      "452     S.DE VRIJ     [INTER]  92.272727\n",
      "261      J.TOLJAN  [SASSUOLO]  91.666667\n",
      "346       M.LOPEZ  [SASSUOLO]  91.562500\n",
      "491   V.CHIRICHES  [SASSUOLO]  91.384615\n",
      "194     G.FERRARI  [SASSUOLO]  91.190476\n"
     ]
    }
   ],
   "source": [
    "players = players.sort_values(by='P%', ascending=False)\n",
    "print(players[[\"Name\", \"Team\", \"P%\"]].head(n=10))"
   ]
  },
  {
   "cell_type": "code",
   "execution_count": 19,
   "metadata": {},
   "outputs": [
    {
     "name": "stdout",
     "output_type": "stream",
     "text": [
      "             Name             Team  KP\n",
      "416     R.DE PAUL        [UDINESE]  27\n",
      "244      J.ILICIC       [ATALANTA]  26\n",
      "218  H.CALHANOGLU          [MILAN]  20\n",
      "306  L.PELLEGRINI    [ROMA, GENOA]  19\n",
      "107     D.BERARDI       [SASSUOLO]  17\n",
      "316  LUIS ALBERTO          [LAZIO]  17\n",
      "443     R.SORIANO        [BOLOGNA]  16\n",
      "374    M.ZACCAGNI  [HELLAS VERONA]  14\n",
      "310  L.SPINAZZOLA           [ROMA]  13\n",
      "379     N.BARELLA          [INTER]  13\n",
      "31       A.HAKIMI          [INTER]  13\n",
      "434       R.MARIN       [CAGLIARI]  13\n",
      "221  H.MKHITARYAN           [ROMA]  12\n",
      "321      M.BARROW        [BOLOGNA]  12\n",
      "162     F.DIMARCO  [HELLAS VERONA]  12\n"
     ]
    }
   ],
   "source": [
    "players = players.sort_values(by='KP', ascending=False)\n",
    "print(players[[\"Name\", \"Team\", \"KP\"]].head(n=15))"
   ]
  },
  {
   "cell_type": "code",
   "execution_count": 20,
   "metadata": {},
   "outputs": [
    {
     "name": "stdout",
     "output_type": "stream",
     "text": [
      "             Name        Team      KP_M        M_KP\n",
      "244      J.ILICIC  [ATALANTA]  0.023636   42.307692\n",
      "416     R.DE PAUL   [UDINESE]  0.012334   81.074074\n",
      "218  H.CALHANOGLU     [MILAN]  0.011675   85.650000\n",
      "60      A.SANCHEZ     [INTER]  0.011194   89.333333\n",
      "107     D.BERARDI  [SASSUOLO]  0.010814   92.470588\n",
      "86    BRUNO PERES      [ROMA]  0.010309   97.000000\n",
      "316  LUIS ALBERTO     [LAZIO]  0.010065   99.352941\n",
      "504    W.MCKENNIE  [JUVENTUS]  0.009213  108.545455\n",
      "48      A.PETAGNA    [NAPOLI]  0.008946  111.777778\n",
      "475       S.VERDI    [TORINO]  0.008351  119.750000\n"
     ]
    }
   ],
   "source": [
    "players['KP_M'] = players['KP'] / players['M']\n",
    "players = players.sort_values(by='KP_M', ascending=False)\n",
    "top_players = players[[\"Name\", \"Team\", \"KP_M\"]].head(n=10)\n",
    "top_players['M_KP'] = players['M'] / players['KP']\n",
    "print(top_players.head(n=10))"
   ]
  },
  {
   "cell_type": "code",
   "execution_count": 21,
   "metadata": {
    "scrolled": true
   },
   "outputs": [
    {
     "name": "stdout",
     "output_type": "stream",
     "text": [
      "            Name             Team  FS\n",
      "5      A.BELOTTI         [TORINO]  93\n",
      "416    R.DE PAUL        [UDINESE]  85\n",
      "374   M.ZACCAGNI  [HELLAS VERONA]  67\n",
      "251    J.MESSIAS        [CROTONE]  66\n",
      "220     H.LOZANO         [NAPOLI]  59\n",
      "264   JOAO PEDRO       [CAGLIARI]  57\n",
      "247      J.KUCKA          [PARMA]  54\n",
      "485  T.HERNANDEZ          [MILAN]  54\n",
      "244     J.ILICIC       [ATALANTA]  49\n",
      "197   G.LAPADULA      [BENEVENTO]  48\n"
     ]
    }
   ],
   "source": [
    "players = players.sort_values(by='FS', ascending=False)\n",
    "print(players[[\"Name\", \"Team\", \"FS\"]].head(n=10))"
   ]
  },
  {
   "cell_type": "code",
   "execution_count": 22,
   "metadata": {
    "scrolled": true
   },
   "outputs": [
    {
     "name": "stdout",
     "output_type": "stream",
     "text": [
      "             Name                      Team      FS_M       M_FS\n",
      "244      J.ILICIC                [ATALANTA]  0.044545  22.448980\n",
      "5       A.BELOTTI                  [TORINO]  0.044455  22.494624\n",
      "416     R.DE PAUL                 [UDINESE]  0.038831  25.752941\n",
      "374    M.ZACCAGNI           [HELLAS VERONA]  0.037099  26.955224\n",
      "220      H.LOZANO                  [NAPOLI]  0.035910  27.847458\n",
      "205      G.PANDEV                   [GENOA]  0.034261  29.187500\n",
      "175      F.RIBERY              [FIORENTINA]  0.033657  29.711111\n",
      "209     G.RAMIREZ               [SAMPDORIA]  0.032931  30.366667\n",
      "454  S.DI CARMINE  [HELLAS VERONA, CROTONE]  0.032475  30.793103\n",
      "92       C.KOUAME              [FIORENTINA]  0.031630  31.615385\n"
     ]
    }
   ],
   "source": [
    "players['FS_M'] = players['FS'] / players['M']\n",
    "players = players.sort_values(by='FS_M', ascending=False)\n",
    "top_players = players[[\"Name\", \"Team\", \"FS_M\"]].head(n=10)\n",
    "top_players['M_FS'] = players['M'] / players['FS']\n",
    "print(top_players.head(n=10))"
   ]
  },
  {
   "cell_type": "code",
   "execution_count": 23,
   "metadata": {},
   "outputs": [
    {
     "name": "stdout",
     "output_type": "stream",
     "text": [
      "             Name                 Team    R\n",
      "489    T.TOMIYASU            [BOLOGNA]  232\n",
      "208    G.PEZZELLA  [PARMA, FIORENTINA]  209\n",
      "152      F.ACERBI              [LAZIO]  205\n",
      "274        K.GLIK          [BENEVENTO]  198\n",
      "85         BREMER             [TORINO]  196\n",
      "100      C.ROMERO           [ATALANTA]  194\n",
      "422      R.IBANEZ               [ROMA]  193\n",
      "385  N.MILENKOVIC         [FIORENTINA]  191\n",
      "291      L.DANILO            [BOLOGNA]  185\n",
      "78     B.DJIMSITI           [ATALANTA]  168\n"
     ]
    }
   ],
   "source": [
    "players = players.sort_values(by='R', ascending=False)\n",
    "print(players[[\"Name\", \"Team\", \"R\"]].head(n=10))"
   ]
  },
  {
   "cell_type": "code",
   "execution_count": 24,
   "metadata": {},
   "outputs": [
    {
     "name": "stdout",
     "output_type": "stream",
     "text": [
      "             Name             Team       R_M       M_R\n",
      "200     G.MAGNANI  [HELLAS VERONA]  0.155598  6.426829\n",
      "275      K.GUNTER  [HELLAS VERONA]  0.131627  7.597222\n",
      "100      C.ROMERO       [ATALANTA]  0.122630  8.154639\n",
      "491   V.CHIRICHES       [SASSUOLO]  0.112116  8.919355\n",
      "104      C.ZAPATA          [GENOA]  0.107046  9.341772\n",
      "121       D.GODIN       [CAGLIARI]  0.106563  9.384106\n",
      "287  L.CEPPITELLI       [CAGLIARI]  0.106410  9.397590\n",
      "85         BREMER         [TORINO]  0.106406  9.397959\n",
      "489    T.TOMIYASU        [BOLOGNA]  0.105551  9.474138\n",
      "152      F.ACERBI          [LAZIO]  0.105398  9.487805\n"
     ]
    }
   ],
   "source": [
    "players['R_M'] = players['R'] / players['M']\n",
    "players = players.sort_values(by='R_M', ascending=False)\n",
    "top_players = players[[\"Name\", \"Team\", \"R_M\"]].head(n=10)\n",
    "top_players['M_R'] = players['M'] / players['R']\n",
    "print(top_players.head(n=10))"
   ]
  },
  {
   "cell_type": "code",
   "execution_count": 25,
   "metadata": {},
   "outputs": [],
   "source": [
    "thisdir = os.getcwd()\n",
    "thisdir += \"/2020-2021/Player Data/Goalkeeper/\"\n",
    "csv_list = []\n",
    "\n",
    "for r, d, f in os.walk(thisdir):\n",
    "    for file in f:\n",
    "        if file.endswith(\".csv\"):\n",
    "            csv_list.append(os.path.join(r, file))\n",
    "\n",
    "csv_list = sorted(csv_list)\n",
    "\n",
    "players = []\n",
    "\n",
    "for csv_file in csv_list:\n",
    "#     print(csv_file)\n",
    "    if csv_file[-5:] == \"/.csv\":\n",
    "        continue\n",
    "    player_data = pd.read_csv(csv_file, encoding='latin-1')\n",
    "    player_data[\"M_played\"] = player_data.apply(lambda row:convert_to_minutes(row), axis=1)\n",
    "    player_data = player_data.astype({'GC':'int32', 'OG':'int32', 'S':'int32', 'STP':'int32', 'SF':'int32', 'FYC':'int32', 'SYC':'int32', 'RC':'int32'})\n",
    "\n",
    "    players.append([player_data[\"Name\"].unique()[0], player_data[\"Team\"].unique(), player_data[\"M_played\"].sum(), player_data[\"GC\"].sum(), player_data[\"OG\"].sum(), player_data[\"S\"].sum(), player_data[\"STP\"].sum(), player_data[\"SF\"].sum(), player_data[\"FYC\"].sum(), player_data[\"SYC\"].sum(), player_data[\"RC\"].sum(), player_data[\"M_played\"].size])\n",
    "\n",
    "players = pd.DataFrame(np.array(players), columns=['Name', 'Team' , 'M', 'GC', 'OG', 'S', 'STP', 'SF', 'FYC', 'SYC', 'RC', 'N'])\n",
    "players = players.astype({'M':'int32', 'GC':'int32', 'OG':'int32', 'S':'int32', 'STP':'int32', 'SF':'int32', 'FYC':'int32', 'SYC':'int32', 'RC':'int32', 'N':'int32'})\n",
    "players = players[players['M'] >= min_time]\n",
    "players = players[players['N'] >= min_games]"
   ]
  },
  {
   "cell_type": "code",
   "execution_count": 26,
   "metadata": {},
   "outputs": [
    {
     "name": "stdout",
     "output_type": "stream",
     "text": [
      "            Name             Team     M\n",
      "7    B.DRAGOWSKI     [FIORENTINA]  2308\n",
      "23   M.SILVESTRI  [HELLAS VERONA]  2304\n",
      "19    L.MONTIPO'      [BENEVENTO]  2301\n",
      "30  S.HANDANOVIC          [INTER]  2297\n",
      "10      E.AUDERO      [SAMPDORIA]  2296\n",
      "20        L.SEPE          [PARMA]  2295\n",
      "2       A.CRAGNO       [CAGLIARI]  2294\n",
      "1       A.CORDAZ        [CROTONE]  2292\n",
      "14  G.DONNARUMMA          [MILAN]  2211\n",
      "0     A.CONSIGLI       [SASSUOLO]  2126\n"
     ]
    }
   ],
   "source": [
    "players = players.sort_values(by='M', ascending=False)\n",
    "print(players[[\"Name\", \"Team\", \"M\"]].head(n=10))"
   ]
  },
  {
   "cell_type": "code",
   "execution_count": 27,
   "metadata": {},
   "outputs": [
    {
     "name": "stdout",
     "output_type": "stream",
     "text": [
      "            Name             Team        M_N\n",
      "31      S.SIRIGU         [TORINO]  97.190476\n",
      "0     A.CONSIGLI       [SASSUOLO]  96.636364\n",
      "4        A.MERET         [NAPOLI]  96.272727\n",
      "34    W.SZCZESNY       [JUVENTUS]  96.166667\n",
      "7    B.DRAGOWSKI     [FIORENTINA]  96.166667\n",
      "14  G.DONNARUMMA          [MILAN]  96.130435\n",
      "28       P.REINA          [LAZIO]  96.000000\n",
      "17       J.MUSSO        [UDINESE]  96.000000\n",
      "23   M.SILVESTRI  [HELLAS VERONA]  96.000000\n",
      "16    I.PROVEDEL         [SPEZIA]  95.952381\n"
     ]
    }
   ],
   "source": [
    "players['M_N'] = players['M'] / players['N']\n",
    "players = players.sort_values(by='M_N', ascending=False)\n",
    "print(players[[\"Name\", \"Team\", \"M_N\"]].head(n=10))"
   ]
  },
  {
   "cell_type": "code",
   "execution_count": 28,
   "metadata": {},
   "outputs": [
    {
     "name": "stdout",
     "output_type": "stream",
     "text": [
      "           Name          Team  GC\n",
      "1      A.CORDAZ     [CROTONE]  57\n",
      "20       L.SEPE       [PARMA]  47\n",
      "19   L.MONTIPO'   [BENEVENTO]  44\n",
      "2      A.CRAGNO    [CAGLIARI]  41\n",
      "31     S.SIRIGU      [TORINO]  37\n",
      "7   B.DRAGOWSKI  [FIORENTINA]  36\n",
      "10     E.AUDERO   [SAMPDORIA]  36\n",
      "16   I.PROVEDEL      [SPEZIA]  36\n",
      "0    A.CONSIGLI    [SASSUOLO]  34\n",
      "17      J.MUSSO     [UDINESE]  28\n"
     ]
    }
   ],
   "source": [
    "players = players.sort_values(by='GC', ascending=False)\n",
    "print(players[[\"Name\", \"Team\", \"GC\"]].head(n=10))"
   ]
  },
  {
   "cell_type": "code",
   "execution_count": 29,
   "metadata": {},
   "outputs": [
    {
     "name": "stdout",
     "output_type": "stream",
     "text": [
      "            Name         Team      GC_M       M_GC\n",
      "1       A.CORDAZ    [CROTONE]  0.024869  40.210526\n",
      "20        L.SEPE      [PARMA]  0.020479  48.829787\n",
      "19    L.MONTIPO'  [BENEVENTO]  0.019122  52.295455\n",
      "31      S.SIRIGU     [TORINO]  0.018128  55.162162\n",
      "2       A.CRAGNO   [CAGLIARI]  0.017873  55.951220\n",
      "16    I.PROVEDEL     [SPEZIA]  0.017866  55.972222\n",
      "24  M.SPORTIELLO   [ATALANTA]  0.016988  58.866667\n",
      "0     A.CONSIGLI   [SASSUOLO]  0.015992  62.529412\n",
      "10      E.AUDERO  [SAMPDORIA]  0.015679  63.777778\n",
      "5      A.MIRANTE       [ROMA]  0.015640  63.937500\n"
     ]
    }
   ],
   "source": [
    "players['GC_M'] = players['GC'] / players['M']\n",
    "players = players.sort_values(by='GC_M', ascending=False)\n",
    "top_players = players[[\"Name\", \"Team\", \"GC_M\"]].head(n=10)\n",
    "top_players['M_GC'] = players['M'] / players['GC']\n",
    "print(top_players.head(n=10))"
   ]
  },
  {
   "cell_type": "code",
   "execution_count": 30,
   "metadata": {},
   "outputs": [
    {
     "name": "stdout",
     "output_type": "stream",
     "text": [
      "            Name        Team  GC\n",
      "9       D.OSPINA    [NAPOLI]  11\n",
      "4        A.MERET    [NAPOLI]  14\n",
      "24  M.SPORTIELLO  [ATALANTA]  15\n",
      "26     P.GOLLINI  [ATALANTA]  16\n",
      "5      A.MIRANTE      [ROMA]  16\n",
      "34    W.SZCZESNY  [JUVENTUS]  18\n",
      "27       P.LOPEZ      [ROMA]  18\n",
      "28       P.REINA     [LAZIO]  20\n",
      "21   L.SKORUPSKI   [BOLOGNA]  23\n",
      "30  S.HANDANOVIC     [INTER]  24\n"
     ]
    }
   ],
   "source": [
    "players = players.sort_values(by='GC')\n",
    "print(players[[\"Name\", \"Team\", \"GC\"]].head(n=10))"
   ]
  },
  {
   "cell_type": "code",
   "execution_count": 31,
   "metadata": {},
   "outputs": [
    {
     "name": "stdout",
     "output_type": "stream",
     "text": [
      "            Name             Team      GC_M        M_GC\n",
      "9       D.OSPINA         [NAPOLI]  0.009615  104.000000\n",
      "34    W.SZCZESNY       [JUVENTUS]  0.010399   96.166667\n",
      "30  S.HANDANOVIC          [INTER]  0.010448   95.708333\n",
      "26     P.GOLLINI       [ATALANTA]  0.011412   87.625000\n",
      "28       P.REINA          [LAZIO]  0.011574   86.400000\n",
      "23   M.SILVESTRI  [HELLAS VERONA]  0.011719   85.333333\n",
      "14  G.DONNARUMMA          [MILAN]  0.011759   85.038462\n",
      "4        A.MERET         [NAPOLI]  0.013220   75.642857\n",
      "17       J.MUSSO        [UDINESE]  0.013258   75.428571\n",
      "22       M.PERIN          [GENOA]  0.013493   74.111111\n"
     ]
    }
   ],
   "source": [
    "players['GC_M'] = players['GC'] / players['M']\n",
    "players = players.sort_values(by='GC_M')\n",
    "top_players = players[[\"Name\", \"Team\", \"GC_M\"]].head(n=10)\n",
    "top_players['M_GC'] = players['M'] / players['GC']\n",
    "print(top_players.head(n=10))"
   ]
  },
  {
   "cell_type": "code",
   "execution_count": 32,
   "metadata": {},
   "outputs": [
    {
     "name": "stdout",
     "output_type": "stream",
     "text": [
      "            Name             Team    S\n",
      "2       A.CRAGNO       [CAGLIARI]  108\n",
      "10      E.AUDERO      [SAMPDORIA]   93\n",
      "14  G.DONNARUMMA          [MILAN]   82\n",
      "22       M.PERIN          [GENOA]   82\n",
      "1       A.CORDAZ        [CROTONE]   82\n",
      "20        L.SEPE          [PARMA]   82\n",
      "23   M.SILVESTRI  [HELLAS VERONA]   80\n",
      "21   L.SKORUPSKI        [BOLOGNA]   80\n",
      "0     A.CONSIGLI       [SASSUOLO]   77\n",
      "19    L.MONTIPO'      [BENEVENTO]   75\n"
     ]
    }
   ],
   "source": [
    "players = players.sort_values(by='S', ascending=False)\n",
    "print(players[[\"Name\", \"Team\", \"S\"]].head(n=10))"
   ]
  },
  {
   "cell_type": "code",
   "execution_count": 33,
   "metadata": {},
   "outputs": [
    {
     "name": "stdout",
     "output_type": "stream",
     "text": [
      "            Name             Team       S_M        M_S\n",
      "21   L.SKORUPSKI        [BOLOGNA]  0.049050  20.387500\n",
      "2       A.CRAGNO       [CAGLIARI]  0.047079  21.240741\n",
      "22       M.PERIN          [GENOA]  0.040980  24.402439\n",
      "10      E.AUDERO      [SAMPDORIA]  0.040505  24.688172\n",
      "14  G.DONNARUMMA          [MILAN]  0.037087  26.963415\n",
      "0     A.CONSIGLI       [SASSUOLO]  0.036218  27.610390\n",
      "1       A.CORDAZ        [CROTONE]  0.035777  27.951220\n",
      "20        L.SEPE          [PARMA]  0.035730  27.987805\n",
      "23   M.SILVESTRI  [HELLAS VERONA]  0.034722  28.800000\n",
      "28       P.REINA          [LAZIO]  0.033565  29.793103\n"
     ]
    }
   ],
   "source": [
    "players['S_M'] = players['S'] / players['M']\n",
    "players = players.sort_values(by='S_M', ascending=False)\n",
    "top_players = players[[\"Name\", \"Team\", \"S_M\"]].head(n=10)\n",
    "top_players['M_S'] = players['M'] / players['S']\n",
    "print(top_players.head(n=10))"
   ]
  },
  {
   "cell_type": "code",
   "execution_count": 34,
   "metadata": {},
   "outputs": [
    {
     "name": "stdout",
     "output_type": "stream",
     "text": [
      "            Name             Team  Set_S\n",
      "20        L.SEPE          [PARMA]     14\n",
      "0     A.CONSIGLI       [SASSUOLO]     14\n",
      "2       A.CRAGNO       [CAGLIARI]     13\n",
      "14  G.DONNARUMMA          [MILAN]     13\n",
      "7    B.DRAGOWSKI     [FIORENTINA]     11\n",
      "23   M.SILVESTRI  [HELLAS VERONA]     10\n",
      "19    L.MONTIPO'      [BENEVENTO]      9\n",
      "17       J.MUSSO        [UDINESE]      9\n",
      "1       A.CORDAZ        [CROTONE]      8\n",
      "10      E.AUDERO      [SAMPDORIA]      7\n"
     ]
    }
   ],
   "source": [
    "players['Set_S'] = players['STP'] + players['SF']\n",
    "players = players.sort_values(by='Set_S', ascending=False)\n",
    "print(players[[\"Name\", \"Team\", \"Set_S\"]].head(n=10))"
   ]
  }
 ],
 "metadata": {
  "kernelspec": {
   "display_name": "Python 3",
   "language": "python",
   "name": "python3"
  },
  "language_info": {
   "codemirror_mode": {
    "name": "ipython",
    "version": 3
   },
   "file_extension": ".py",
   "mimetype": "text/x-python",
   "name": "python",
   "nbconvert_exporter": "python",
   "pygments_lexer": "ipython3",
   "version": "3.7.4"
  }
 },
 "nbformat": 4,
 "nbformat_minor": 2
}
