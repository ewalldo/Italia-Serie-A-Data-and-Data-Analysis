{
 "cells": [
  {
   "cell_type": "code",
   "execution_count": 12,
   "metadata": {},
   "outputs": [],
   "source": [
    "import os\n",
    "import csv\n",
    "import pandas as pd\n",
    "import numpy as np\n",
    "import math"
   ]
  },
  {
   "cell_type": "code",
   "execution_count": 13,
   "metadata": {},
   "outputs": [
    {
     "name": "stdout",
     "output_type": "stream",
     "text": [
      "690.0\n",
      "7\n"
     ]
    }
   ],
   "source": [
    "thisdir = os.getcwd()\n",
    "thisdir += \"/2020-2021/Player Data/Non-goalkeeper/\"\n",
    "csv_list = []\n",
    "\n",
    "n_games = 23 #total games played\n",
    "min_time = n_games / 3 * 90 #min time played to be eligible\n",
    "min_games = math.floor(n_games / 3) #min games played to be eligible\n",
    "print(min_time)\n",
    "print(min_games)"
   ]
  },
  {
   "cell_type": "code",
   "execution_count": 14,
   "metadata": {},
   "outputs": [],
   "source": [
    "for r, d, f in os.walk(thisdir):\n",
    "    for file in f:\n",
    "        if file.endswith(\".csv\"):\n",
    "            csv_list.append(os.path.join(r, file))\n",
    "\n",
    "csv_list = sorted(csv_list)"
   ]
  },
  {
   "cell_type": "code",
   "execution_count": 15,
   "metadata": {},
   "outputs": [],
   "source": [
    "def convert_to_minutes(row):\n",
    "    return int(row['M'][:-1])\n",
    "\n",
    "def convert_to_int(row, col):\n",
    "    return int(row[col])"
   ]
  },
  {
   "cell_type": "code",
   "execution_count": 16,
   "metadata": {},
   "outputs": [],
   "source": [
    "players = []\n",
    "\n",
    "for csv_file in csv_list:\n",
    "#     print(csv_file)\n",
    "    if csv_file[-5:] == \"/.csv\":\n",
    "        continue\n",
    "    player_data = pd.read_csv(csv_file, encoding='latin-1')\n",
    "    player_data[\"M_played\"] = player_data.apply(lambda row:convert_to_minutes(row), axis=1)\n",
    "    player_data = player_data.astype({'G':'int32', 'OG':'int32', 'A':'int32', 'AT':'int32', 'BS':'int32', 'SC':'int32', 'FS':'int32', 'BP':'int32', 'AS':'int32', 'KP':'int32', 'P':'int32', 'P%':'int32', 'R':'int32', 'FYC':'int32', 'SYC':'int32', 'RC':'int32'})\n",
    "\n",
    "    players.append([player_data[\"Name\"].unique()[0], player_data[\"Team\"].unique(), player_data[\"M_played\"].sum(), player_data[\"G\"].sum(), player_data[\"OG\"].sum(), player_data[\"A\"].sum(), player_data[\"AT\"].sum(), player_data[\"BS\"].sum(), player_data[\"SC\"].sum(), player_data[\"FS\"].sum(), player_data[\"BP\"].sum(), player_data[\"AS\"].sum(), player_data[\"KP\"].sum(), player_data[\"P\"].sum(), player_data[\"P%\"].sum()  / player_data[\"P%\"].size, player_data[\"R\"].sum(), player_data[\"FYC\"].sum(), player_data[\"SYC\"].sum(), player_data[\"RC\"].sum(), player_data[\"M_played\"].size])\n",
    "\n",
    "players = pd.DataFrame(np.array(players), columns=['Name', 'Team' , 'M', 'G', 'OG', 'A', 'AT', 'BS', 'SC', 'FS', 'BP', 'AS', 'KP', 'P', 'P%', 'R', 'FYC', 'SYC', 'RC', \"N\"])\n",
    "players = players.astype({'M':'int32', 'G':'int32', 'OG':'int32', 'A':'int32', 'AT':'int32', 'BS':'int32', 'SC':'int32', 'FS':'int32', 'BP':'int32', 'AS':'int32', 'KP':'int32', 'P':'int32', 'P%':'float', 'R':'int32', 'FYC':'int32', 'SYC':'int32', 'RC':'int32', 'N':'int32'})\n",
    "players = players[players['M'] >= min_time]\n",
    "players = players[players['N'] >= min_games]"
   ]
  },
  {
   "cell_type": "code",
   "execution_count": 17,
   "metadata": {},
   "outputs": [
    {
     "name": "stdout",
     "output_type": "stream",
     "text": [
      "             Name                 Team     M\n",
      "206    G.PEZZELLA  [PARMA, FIORENTINA]  2677\n",
      "302  L.PELLEGRINI        [ROMA, GENOA]  2441\n",
      "485    T.TOMIYASU            [BOLOGNA]  2198\n",
      "287      L.DANILO            [BOLOGNA]  2180\n",
      "270        K.GLIK          [BENEVENTO]  2167\n",
      "439     R.SORIANO            [BOLOGNA]  2161\n",
      "261    JOAO PEDRO           [CAGLIARI]  2157\n",
      "412     R.DE PAUL            [UDINESE]  2093\n",
      "5       A.BELOTTI             [TORINO]  2092\n",
      "248     J.MESSIAS            [CROTONE]  2080\n"
     ]
    }
   ],
   "source": [
    "players = players.sort_values(by='M', ascending=False)\n",
    "print(players[[\"Name\", \"Team\", \"M\"]].head(n=10))"
   ]
  },
  {
   "cell_type": "code",
   "execution_count": 18,
   "metadata": {},
   "outputs": [
    {
     "name": "stdout",
     "output_type": "stream",
     "text": [
      "             Name         Team        M_N\n",
      "84         BREMER     [TORINO]  96.947368\n",
      "192     G.FERRARI   [SASSUOLO]  96.333333\n",
      "481   T.HERNANDEZ      [MILAN]  96.250000\n",
      "56    A.ROMAGNOLI      [MILAN]  96.000000\n",
      "189  G.DI LORENZO     [NAPOLI]  96.000000\n",
      "485    T.TOMIYASU    [BOLOGNA]  95.565217\n",
      "412     R.DE PAUL    [UDINESE]  95.136364\n",
      "5       A.BELOTTI     [TORINO]  95.090909\n",
      "341   M.LOCATELLI   [SASSUOLO]  94.952381\n",
      "392      O.COLLEY  [SAMPDORIA]  94.823529\n"
     ]
    }
   ],
   "source": [
    "players['M_N'] = players['M'] / players['N']\n",
    "players = players.sort_values(by='M_N', ascending=False)\n",
    "print(players[[\"Name\", \"Team\", \"M_N\"]].head(n=10))"
   ]
  },
  {
   "cell_type": "code",
   "execution_count": 19,
   "metadata": {},
   "outputs": [
    {
     "name": "stdout",
     "output_type": "stream",
     "text": [
      "              Name        Team   G\n",
      "99       C.RONALDO  [JUVENTUS]  18\n",
      "426       R.LUKAKU     [INTER]  17\n",
      "300       L.MURIEL  [ATALANTA]  14\n",
      "505  Z.IBRAHIMOVIC     [MILAN]  14\n",
      "90      C.IMMOBILE     [LAZIO]  14\n",
      "298     L.MARTINEZ     [INTER]  13\n",
      "5        A.BELOTTI    [TORINO]  11\n",
      "261     JOAO PEDRO  [CAGLIARI]  11\n",
      "292      L.INSIGNE    [NAPOLI]  10\n",
      "156       F.CAPUTO  [SASSUOLO]  10\n"
     ]
    }
   ],
   "source": [
    "players = players.sort_values(by='G', ascending=False)\n",
    "print(players[[\"Name\", \"Team\", \"G\"]].head(n=10))"
   ]
  },
  {
   "cell_type": "code",
   "execution_count": 20,
   "metadata": {},
   "outputs": [
    {
     "name": "stdout",
     "output_type": "stream",
     "text": [
      "              Name        Team       G_M         M_G\n",
      "300       L.MURIEL  [ATALANTA]  0.017220   58.071429\n",
      "505  Z.IBRAHIMOVIC     [MILAN]  0.012681   78.857143\n",
      "99       C.RONALDO  [JUVENTUS]  0.010405   96.111111\n",
      "426       R.LUKAKU     [INTER]  0.009518  105.058824\n",
      "331       M.DESTRO     [GENOA]  0.008798  113.666667\n",
      "78       B.MAYORAL      [ROMA]  0.007916  126.333333\n",
      "90      C.IMMOBILE     [LAZIO]  0.007892  126.714286\n",
      "347        M.NZOLA    [SPEZIA]  0.007888  126.777778\n",
      "298     L.MARTINEZ     [INTER]  0.007798  128.230769\n",
      "154      F.CAICEDO     [LAZIO]  0.007186  139.166667\n"
     ]
    }
   ],
   "source": [
    "players['G_M'] = players['G'] / players['M']\n",
    "players = players.sort_values(by='G_M', ascending=False)\n",
    "top_players = players[[\"Name\", \"Team\", \"G_M\"]].head(n=10)\n",
    "top_players['M_G'] = players['M'] / players['G']\n",
    "print(top_players.head(n=10))"
   ]
  },
  {
   "cell_type": "code",
   "execution_count": 21,
   "metadata": {},
   "outputs": [
    {
     "name": "stdout",
     "output_type": "stream",
     "text": [
      "              Name        Team   A\n",
      "99       C.RONALDO  [JUVENTUS]  91\n",
      "292      L.INSIGNE    [NAPOLI]  79\n",
      "5        A.BELOTTI    [TORINO]  71\n",
      "298     L.MARTINEZ     [INTER]  70\n",
      "90      C.IMMOBILE     [LAZIO]  60\n",
      "219   H.MKHITARYAN      [ROMA]  56\n",
      "248      J.MESSIAS   [CROTONE]  55\n",
      "505  Z.IBRAHIMOVIC     [MILAN]  55\n",
      "105      D.BERARDI  [SASSUOLO]  55\n",
      "317       M.BARROW   [BOLOGNA]  54\n"
     ]
    }
   ],
   "source": [
    "players = players.sort_values(by='A', ascending=False)\n",
    "print(players[[\"Name\", \"Team\", \"A\"]].head(n=10))"
   ]
  },
  {
   "cell_type": "code",
   "execution_count": 22,
   "metadata": {},
   "outputs": [
    {
     "name": "stdout",
     "output_type": "stream",
     "text": [
      "              Name        Team       A_M        M_A\n",
      "300       L.MURIEL  [ATALANTA]  0.057811  17.297872\n",
      "99       C.RONALDO  [JUVENTUS]  0.052601  19.010989\n",
      "292      L.INSIGNE    [NAPOLI]  0.051702  19.341772\n",
      "505  Z.IBRAHIMOVIC     [MILAN]  0.049819  20.072727\n",
      "298     L.MARTINEZ     [INTER]  0.041992  23.814286\n",
      "124      D.MERTENS    [NAPOLI]  0.038272  26.129032\n",
      "241       J.ILICIC  [ATALANTA]  0.036585  27.333333\n",
      "28         A.GOMEZ  [ATALANTA]  0.036075  27.720000\n",
      "105      D.BERARDI  [SASSUOLO]  0.034987  28.581818\n",
      "354     M.POLITANO    [NAPOLI]  0.034773  28.757576\n"
     ]
    }
   ],
   "source": [
    "players['A_M'] = players['A'] / players['M']\n",
    "players = players.sort_values(by='A_M', ascending=False)\n",
    "top_players = players[[\"Name\", \"Team\", \"A_M\"]].head(n=10)\n",
    "top_players['M_A'] = players['M'] / players['A']\n",
    "print(top_players.head(n=10))"
   ]
  },
  {
   "cell_type": "code",
   "execution_count": 23,
   "metadata": {},
   "outputs": [
    {
     "name": "stdout",
     "output_type": "stream",
     "text": [
      "                   Name                    Team  AS\n",
      "219        H.MKHITARYAN                  [ROMA]   8\n",
      "216        H.CALHANOGLU                 [MILAN]   8\n",
      "462  S.MILINKOVIC-SAVIC                 [LAZIO]   7\n",
      "43             A.MORATA              [JUVENTUS]   6\n",
      "124           D.MERTENS                [NAPOLI]   6\n",
      "319          M.BROZOVIC                 [INTER]   6\n",
      "302        L.PELLEGRINI           [ROMA, GENOA]   6\n",
      "425              R.LEAO                 [MILAN]   5\n",
      "5             A.BELOTTI                [TORINO]   5\n",
      "131            D.ZAPATA              [ATALANTA]   5\n",
      "10           A.CANDREVA             [SAMPDORIA]   5\n",
      "59            A.SANCHEZ                 [INTER]   5\n",
      "375           N.BARELLA                 [INTER]   5\n",
      "439           R.SORIANO               [BOLOGNA]   5\n",
      "241            J.ILICIC              [ATALANTA]   5\n",
      "370          M.ZACCAGNI         [HELLAS VERONA]   5\n",
      "238          J.CUADRADO              [JUVENTUS]   5\n",
      "445           S.BASTONI                [SPEZIA]   4\n",
      "158            F.CHIESA  [FIORENTINA, JUVENTUS]   4\n",
      "300            L.MURIEL              [ATALANTA]   4\n",
      "39            A.MARUSIC                 [LAZIO]   4\n",
      "325         M.DAMSGAARD             [SAMPDORIA]   4\n",
      "417            R.GOSENS              [ATALANTA]   4\n",
      "87            C.BIRAGHI            [FIORENTINA]   4\n",
      "435           R.PEREYRA               [UDINESE]   4\n"
     ]
    }
   ],
   "source": [
    "players = players.sort_values(by='AS', ascending=False)\n",
    "print(players[[\"Name\", \"Team\", \"AS\"]].head(n=25))"
   ]
  },
  {
   "cell_type": "code",
   "execution_count": 24,
   "metadata": {},
   "outputs": [
    {
     "name": "stdout",
     "output_type": "stream",
     "text": [
      "             Name        Team      AS_M        M_AS\n",
      "124     D.MERTENS    [NAPOLI]  0.007407  135.000000\n",
      "59      A.SANCHEZ     [INTER]  0.006353  157.400000\n",
      "300      L.MURIEL  [ATALANTA]  0.004920  203.250000\n",
      "43       A.MORATA  [JUVENTUS]  0.004847  206.333333\n",
      "216  H.CALHANOGLU     [MILAN]  0.004802  208.250000\n",
      "241      J.ILICIC  [ATALANTA]  0.004690  213.200000\n",
      "51       A.RAMSEY  [JUVENTUS]  0.004598  217.500000\n",
      "471       S.VERDI    [TORINO]  0.004175  239.500000\n",
      "78      B.MAYORAL      [ROMA]  0.003958  252.666667\n",
      "219  H.MKHITARYAN      [ROMA]  0.003941  253.750000\n"
     ]
    }
   ],
   "source": [
    "players['AS_M'] = players['AS'] / players['M']\n",
    "players = players.sort_values(by='AS_M', ascending=False)\n",
    "top_players = players[[\"Name\", \"Team\", \"AS_M\"]].head(n=10)\n",
    "top_players['M_AS'] = players['M'] / players['AS']\n",
    "print(top_players.head(n=10))"
   ]
  },
  {
   "cell_type": "code",
   "execution_count": 25,
   "metadata": {},
   "outputs": [
    {
     "name": "stdout",
     "output_type": "stream",
     "text": [
      "             Name                 Team    BP\n",
      "341   M.LOCATELLI           [SASSUOLO]  2096\n",
      "133        DANILO           [JUVENTUS]  1849\n",
      "192     G.FERRARI           [SASSUOLO]  1818\n",
      "189  G.DI LORENZO             [NAPOLI]  1807\n",
      "302  L.PELLEGRINI        [ROMA, GENOA]  1740\n",
      "412     R.DE PAUL            [UDINESE]  1728\n",
      "206    G.PEZZELLA  [PARMA, FIORENTINA]  1693\n",
      "108    D.CALABRIA              [MILAN]  1639\n",
      "418      R.IBANEZ               [ROMA]  1608\n",
      "4       A.BASTONI              [INTER]  1573\n"
     ]
    }
   ],
   "source": [
    "players = players.sort_values(by='BP', ascending=False)\n",
    "print(players[[\"Name\", \"Team\", \"BP\"]].head(n=10))"
   ]
  },
  {
   "cell_type": "code",
   "execution_count": 26,
   "metadata": {},
   "outputs": [
    {
     "name": "stdout",
     "output_type": "stream",
     "text": [
      "            Name        Team      BP_M      M_BP\n",
      "341  M.LOCATELLI  [SASSUOLO]  1.051153  0.951336\n",
      "70        ARTHUR  [JUVENTUS]  0.989842  1.010262\n",
      "113      D.DEMME    [NAPOLI]  0.986041  1.014157\n",
      "410  R.BENTANCUR  [JUVENTUS]  0.942798  1.060673\n",
      "373    MARIO RUI    [NAPOLI]  0.942529  1.060976\n",
      "133       DANILO  [JUVENTUS]  0.940967  1.062737\n",
      "327    M.DE LIGT  [JUVENTUS]  0.937674  1.066468\n",
      "177  FABIAN RUIZ    [NAPOLI]  0.932453  1.072440\n",
      "238   J.CUADRADO  [JUVENTUS]  0.926641  1.079167\n",
      "319   M.BROZOVIC     [INTER]  0.926133  1.079759\n"
     ]
    }
   ],
   "source": [
    "players['BP_M'] = players['BP'] / players['M']\n",
    "players = players.sort_values(by='BP_M', ascending=False)\n",
    "top_players = players[[\"Name\", \"Team\", \"BP_M\"]].head(n=10)\n",
    "top_players['M_BP'] = players['M'] / players['BP']\n",
    "print(top_players.head(n=10))"
   ]
  },
  {
   "cell_type": "code",
   "execution_count": 27,
   "metadata": {},
   "outputs": [
    {
     "name": "stdout",
     "output_type": "stream",
     "text": [
      "             Name        Team     P\n",
      "341   M.LOCATELLI  [SASSUOLO]  1519\n",
      "192     G.FERRARI  [SASSUOLO]  1461\n",
      "133        DANILO  [JUVENTUS]  1354\n",
      "4       A.BASTONI     [INTER]  1227\n",
      "189  G.DI LORENZO    [NAPOLI]  1155\n",
      "361    M.SKRINIAR     [INTER]  1139\n",
      "418      R.IBANEZ      [ROMA]  1113\n",
      "319    M.BROZOVIC     [INTER]  1092\n",
      "328     M.DE ROON  [ATALANTA]  1068\n",
      "281     L.BONUCCI  [JUVENTUS]  1066\n"
     ]
    }
   ],
   "source": [
    "players = players.sort_values(by='P', ascending=False)\n",
    "print(players[[\"Name\", \"Team\", \"P\"]].head(n=10))"
   ]
  },
  {
   "cell_type": "code",
   "execution_count": 28,
   "metadata": {},
   "outputs": [
    {
     "name": "stdout",
     "output_type": "stream",
     "text": [
      "             Name        Team       P_M       M_P\n",
      "70         ARTHUR  [JUVENTUS]  0.825056  1.212038\n",
      "327     M.DE LIGT  [JUVENTUS]  0.769302  1.299879\n",
      "341   M.LOCATELLI  [SASSUOLO]  0.761785  1.312706\n",
      "113       D.DEMME    [NAPOLI]  0.751269  1.331081\n",
      "380  N.MAKSIMOVIC    [NAPOLI]  0.748894  1.335303\n",
      "272   K.KOULIBALY    [NAPOLI]  0.724359  1.380531\n",
      "192     G.FERRARI  [SASSUOLO]  0.722195  1.384668\n",
      "487   V.CHIRICHES  [SASSUOLO]  0.713382  1.401774\n",
      "177   FABIAN RUIZ    [NAPOLI]  0.710404  1.407650\n",
      "374        MARLON  [SASSUOLO]  0.701064  1.426404\n"
     ]
    }
   ],
   "source": [
    "players['P_M'] = players['P'] / players['M']\n",
    "players = players.sort_values(by='P_M', ascending=False)\n",
    "top_players = players[[\"Name\", \"Team\", \"P_M\"]].head(n=10)\n",
    "top_players['M_P'] = players['M'] / players['P']\n",
    "print(top_players.head(n=10))"
   ]
  },
  {
   "cell_type": "code",
   "execution_count": 29,
   "metadata": {},
   "outputs": [
    {
     "name": "stdout",
     "output_type": "stream",
     "text": [
      "             Name        Team         P%\n",
      "70         ARTHUR  [JUVENTUS]  94.769231\n",
      "380  N.MAKSIMOVIC    [NAPOLI]  93.500000\n",
      "276     K.MANOLAS    [NAPOLI]  93.157895\n",
      "327     M.DE LIGT  [JUVENTUS]  92.923077\n",
      "361    M.SKRINIAR     [INTER]  92.736842\n",
      "448     S.DE VRIJ     [INTER]  92.238095\n",
      "258      J.TOLJAN  [SASSUOLO]  91.666667\n",
      "342       M.LOPEZ  [SASSUOLO]  91.562500\n",
      "50       A.RABIOT  [JUVENTUS]  91.555556\n",
      "410   R.BENTANCUR  [JUVENTUS]  91.500000\n"
     ]
    }
   ],
   "source": [
    "players = players.sort_values(by='P%', ascending=False)\n",
    "print(players[[\"Name\", \"Team\", \"P%\"]].head(n=10))"
   ]
  },
  {
   "cell_type": "code",
   "execution_count": 30,
   "metadata": {},
   "outputs": [
    {
     "name": "stdout",
     "output_type": "stream",
     "text": [
      "             Name             Team  KP\n",
      "412     R.DE PAUL        [UDINESE]  26\n",
      "241      J.ILICIC       [ATALANTA]  24\n",
      "302  L.PELLEGRINI    [ROMA, GENOA]  19\n",
      "216  H.CALHANOGLU          [MILAN]  19\n",
      "105     D.BERARDI       [SASSUOLO]  17\n",
      "312  LUIS ALBERTO          [LAZIO]  16\n",
      "439     R.SORIANO        [BOLOGNA]  16\n",
      "30       A.HAKIMI          [INTER]  13\n",
      "370    M.ZACCAGNI  [HELLAS VERONA]  13\n",
      "430       R.MARIN       [CAGLIARI]  13\n",
      "306  L.SPINAZZOLA           [ROMA]  13\n",
      "160     F.DIMARCO  [HELLAS VERONA]  12\n",
      "219  H.MKHITARYAN           [ROMA]  12\n",
      "5       A.BELOTTI         [TORINO]  12\n",
      "375     N.BARELLA          [INTER]  11\n"
     ]
    }
   ],
   "source": [
    "players = players.sort_values(by='KP', ascending=False)\n",
    "print(players[[\"Name\", \"Team\", \"KP\"]].head(n=15))"
   ]
  },
  {
   "cell_type": "code",
   "execution_count": 31,
   "metadata": {},
   "outputs": [
    {
     "name": "stdout",
     "output_type": "stream",
     "text": [
      "             Name        Team      KP_M        M_KP\n",
      "241      J.ILICIC  [ATALANTA]  0.022514   44.416667\n",
      "412     R.DE PAUL   [UDINESE]  0.012422   80.500000\n",
      "59      A.SANCHEZ     [INTER]  0.011436   87.444444\n",
      "216  H.CALHANOGLU     [MILAN]  0.011405   87.684211\n",
      "105     D.BERARDI  [SASSUOLO]  0.010814   92.470588\n",
      "28        A.GOMEZ  [ATALANTA]  0.010101   99.000000\n",
      "312  LUIS ALBERTO     [LAZIO]  0.009919  100.812500\n",
      "85    BRUNO PERES      [ROMA]  0.009421  106.142857\n",
      "500    W.MCKENNIE  [JUVENTUS]  0.009410  106.272727\n",
      "47      A.PETAGNA    [NAPOLI]  0.008946  111.777778\n"
     ]
    }
   ],
   "source": [
    "players['KP_M'] = players['KP'] / players['M']\n",
    "players = players.sort_values(by='KP_M', ascending=False)\n",
    "top_players = players[[\"Name\", \"Team\", \"KP_M\"]].head(n=10)\n",
    "top_players['M_KP'] = players['M'] / players['KP']\n",
    "print(top_players.head(n=10))"
   ]
  },
  {
   "cell_type": "code",
   "execution_count": 32,
   "metadata": {
    "scrolled": true
   },
   "outputs": [
    {
     "name": "stdout",
     "output_type": "stream",
     "text": [
      "              Name             Team  FS\n",
      "5        A.BELOTTI         [TORINO]  93\n",
      "412      R.DE PAUL        [UDINESE]  76\n",
      "248      J.MESSIAS        [CROTONE]  63\n",
      "370     M.ZACCAGNI  [HELLAS VERONA]  63\n",
      "218       H.LOZANO         [NAPOLI]  59\n",
      "261     JOAO PEDRO       [CAGLIARI]  55\n",
      "244        J.KUCKA          [PARMA]  52\n",
      "481    T.HERNANDEZ          [MILAN]  51\n",
      "241       J.ILICIC       [ATALANTA]  49\n",
      "183  G.CASTROVILLI     [FIORENTINA]  46\n"
     ]
    }
   ],
   "source": [
    "players = players.sort_values(by='FS', ascending=False)\n",
    "print(players[[\"Name\", \"Team\", \"FS\"]].head(n=10))"
   ]
  },
  {
   "cell_type": "code",
   "execution_count": 33,
   "metadata": {
    "scrolled": true
   },
   "outputs": [
    {
     "name": "stdout",
     "output_type": "stream",
     "text": [
      "             Name                      Team      FS_M       M_FS\n",
      "241      J.ILICIC                [ATALANTA]  0.045966  21.755102\n",
      "5       A.BELOTTI                  [TORINO]  0.044455  22.494624\n",
      "370    M.ZACCAGNI           [HELLAS VERONA]  0.036607  27.317460\n",
      "412     R.DE PAUL                 [UDINESE]  0.036312  27.539474\n",
      "218      H.LOZANO                  [NAPOLI]  0.035910  27.847458\n",
      "203      G.PANDEV                   [GENOA]  0.035437  28.218750\n",
      "450  S.DI CARMINE  [HELLAS VERONA, CROTONE]  0.033939  29.464286\n",
      "173      F.RIBERY              [FIORENTINA]  0.033938  29.465116\n",
      "207     G.RAMIREZ               [SAMPDORIA]  0.033898  29.500000\n",
      "91       C.KOUAME              [FIORENTINA]  0.031630  31.615385\n"
     ]
    }
   ],
   "source": [
    "players['FS_M'] = players['FS'] / players['M']\n",
    "players = players.sort_values(by='FS_M', ascending=False)\n",
    "top_players = players[[\"Name\", \"Team\", \"FS_M\"]].head(n=10)\n",
    "top_players['M_FS'] = players['M'] / players['FS']\n",
    "print(top_players.head(n=10))"
   ]
  },
  {
   "cell_type": "code",
   "execution_count": 34,
   "metadata": {},
   "outputs": [
    {
     "name": "stdout",
     "output_type": "stream",
     "text": [
      "             Name                 Team    R\n",
      "485    T.TOMIYASU            [BOLOGNA]  232\n",
      "206    G.PEZZELLA  [PARMA, FIORENTINA]  201\n",
      "270        K.GLIK          [BENEVENTO]  198\n",
      "84         BREMER             [TORINO]  196\n",
      "150      F.ACERBI              [LAZIO]  194\n",
      "418      R.IBANEZ               [ROMA]  193\n",
      "98       C.ROMERO           [ATALANTA]  186\n",
      "381  N.MILENKOVIC         [FIORENTINA]  186\n",
      "287      L.DANILO            [BOLOGNA]  172\n",
      "77     B.DJIMSITI           [ATALANTA]  168\n"
     ]
    }
   ],
   "source": [
    "players = players.sort_values(by='R', ascending=False)\n",
    "print(players[[\"Name\", \"Team\", \"R\"]].head(n=10))"
   ]
  },
  {
   "cell_type": "code",
   "execution_count": 35,
   "metadata": {},
   "outputs": [
    {
     "name": "stdout",
     "output_type": "stream",
     "text": [
      "            Name             Team       R_M       M_R\n",
      "198    G.MAGNANI  [HELLAS VERONA]  0.157292  6.357616\n",
      "271     K.GUNTER  [HELLAS VERONA]  0.136000  7.352941\n",
      "98      C.ROMERO       [ATALANTA]  0.124916  8.005376\n",
      "487  V.CHIRICHES       [SASSUOLO]  0.112116  8.919355\n",
      "499      W.HOEDT          [LAZIO]  0.106469  9.392405\n",
      "84        BREMER         [TORINO]  0.106406  9.397959\n",
      "119      D.GODIN       [CAGLIARI]  0.106061  9.428571\n",
      "485   T.TOMIYASU        [BOLOGNA]  0.105551  9.474138\n",
      "316       M.BANI   [GENOA, PARMA]  0.105177  9.507812\n",
      "150     F.ACERBI          [LAZIO]  0.104865  9.536082\n"
     ]
    }
   ],
   "source": [
    "players['R_M'] = players['R'] / players['M']\n",
    "players = players.sort_values(by='R_M', ascending=False)\n",
    "top_players = players[[\"Name\", \"Team\", \"R_M\"]].head(n=10)\n",
    "top_players['M_R'] = players['M'] / players['R']\n",
    "print(top_players.head(n=10))"
   ]
  },
  {
   "cell_type": "code",
   "execution_count": 36,
   "metadata": {},
   "outputs": [],
   "source": [
    "thisdir = os.getcwd()\n",
    "thisdir += \"/2020-2021/Player Data/Goalkeeper/\"\n",
    "csv_list = []\n",
    "\n",
    "for r, d, f in os.walk(thisdir):\n",
    "    for file in f:\n",
    "        if file.endswith(\".csv\"):\n",
    "            csv_list.append(os.path.join(r, file))\n",
    "\n",
    "csv_list = sorted(csv_list)\n",
    "\n",
    "players = []\n",
    "\n",
    "for csv_file in csv_list:\n",
    "#     print(csv_file)\n",
    "    if csv_file[-5:] == \"/.csv\":\n",
    "        continue\n",
    "    player_data = pd.read_csv(csv_file, encoding='latin-1')\n",
    "    player_data[\"M_played\"] = player_data.apply(lambda row:convert_to_minutes(row), axis=1)\n",
    "    player_data = player_data.astype({'GC':'int32', 'OG':'int32', 'S':'int32', 'STP':'int32', 'SF':'int32', 'FYC':'int32', 'SYC':'int32', 'RC':'int32'})\n",
    "\n",
    "    players.append([player_data[\"Name\"].unique()[0], player_data[\"Team\"].unique(), player_data[\"M_played\"].sum(), player_data[\"GC\"].sum(), player_data[\"OG\"].sum(), player_data[\"S\"].sum(), player_data[\"STP\"].sum(), player_data[\"SF\"].sum(), player_data[\"FYC\"].sum(), player_data[\"SYC\"].sum(), player_data[\"RC\"].sum(), player_data[\"M_played\"].size])\n",
    "\n",
    "players = pd.DataFrame(np.array(players), columns=['Name', 'Team' , 'M', 'GC', 'OG', 'S', 'STP', 'SF', 'FYC', 'SYC', 'RC', 'N'])\n",
    "players = players.astype({'M':'int32', 'GC':'int32', 'OG':'int32', 'S':'int32', 'STP':'int32', 'SF':'int32', 'FYC':'int32', 'SYC':'int32', 'RC':'int32', 'N':'int32'})\n",
    "players = players[players['M'] >= min_time]\n",
    "players = players[players['N'] >= min_games]"
   ]
  },
  {
   "cell_type": "code",
   "execution_count": 37,
   "metadata": {},
   "outputs": [
    {
     "name": "stdout",
     "output_type": "stream",
     "text": [
      "            Name             Team     M\n",
      "7    B.DRAGOWSKI     [FIORENTINA]  2212\n",
      "23   M.SILVESTRI  [HELLAS VERONA]  2210\n",
      "19    L.MONTIPO'      [BENEVENTO]  2207\n",
      "30  S.HANDANOVIC          [INTER]  2203\n",
      "10      E.AUDERO      [SAMPDORIA]  2203\n",
      "20        L.SEPE          [PARMA]  2199\n",
      "2       A.CRAGNO       [CAGLIARI]  2197\n",
      "1       A.CORDAZ        [CROTONE]  2195\n",
      "0     A.CONSIGLI       [SASSUOLO]  2126\n",
      "14  G.DONNARUMMA          [MILAN]  2114\n"
     ]
    }
   ],
   "source": [
    "players = players.sort_values(by='M', ascending=False)\n",
    "print(players[[\"Name\", \"Team\", \"M\"]].head(n=10))"
   ]
  },
  {
   "cell_type": "code",
   "execution_count": 38,
   "metadata": {},
   "outputs": [
    {
     "name": "stdout",
     "output_type": "stream",
     "text": [
      "            Name             Team        M_N\n",
      "31      S.SIRIGU         [TORINO]  97.190476\n",
      "0     A.CONSIGLI       [SASSUOLO]  96.636364\n",
      "4        A.MERET         [NAPOLI]  96.500000\n",
      "34    W.SZCZESNY       [JUVENTUS]  96.294118\n",
      "7    B.DRAGOWSKI     [FIORENTINA]  96.173913\n",
      "14  G.DONNARUMMA          [MILAN]  96.090909\n",
      "23   M.SILVESTRI  [HELLAS VERONA]  96.086957\n",
      "28       P.REINA          [LAZIO]  96.058824\n",
      "21   L.SKORUPSKI        [BOLOGNA]  96.000000\n",
      "17       J.MUSSO        [UDINESE]  96.000000\n"
     ]
    }
   ],
   "source": [
    "players['M_N'] = players['M'] / players['N']\n",
    "players = players.sort_values(by='M_N', ascending=False)\n",
    "print(players[[\"Name\", \"Team\", \"M_N\"]].head(n=10))"
   ]
  },
  {
   "cell_type": "code",
   "execution_count": 39,
   "metadata": {},
   "outputs": [
    {
     "name": "stdout",
     "output_type": "stream",
     "text": [
      "           Name          Team  GC\n",
      "1      A.CORDAZ     [CROTONE]  55\n",
      "20       L.SEPE       [PARMA]  45\n",
      "19   L.MONTIPO'   [BENEVENTO]  42\n",
      "2      A.CRAGNO    [CAGLIARI]  41\n",
      "31     S.SIRIGU      [TORINO]  37\n",
      "7   B.DRAGOWSKI  [FIORENTINA]  35\n",
      "10     E.AUDERO   [SAMPDORIA]  34\n",
      "0    A.CONSIGLI    [SASSUOLO]  34\n",
      "16   I.PROVEDEL      [SPEZIA]  34\n",
      "17      J.MUSSO     [UDINESE]  28\n"
     ]
    }
   ],
   "source": [
    "players = players.sort_values(by='GC', ascending=False)\n",
    "print(players[[\"Name\", \"Team\", \"GC\"]].head(n=10))"
   ]
  },
  {
   "cell_type": "code",
   "execution_count": 40,
   "metadata": {},
   "outputs": [
    {
     "name": "stdout",
     "output_type": "stream",
     "text": [
      "            Name          Team      GC_M       M_GC\n",
      "1       A.CORDAZ     [CROTONE]  0.025057  39.909091\n",
      "20        L.SEPE       [PARMA]  0.020464  48.866667\n",
      "19    L.MONTIPO'   [BENEVENTO]  0.019030  52.547619\n",
      "24  M.SPORTIELLO    [ATALANTA]  0.018987  52.666667\n",
      "2       A.CRAGNO    [CAGLIARI]  0.018662  53.585366\n",
      "31      S.SIRIGU      [TORINO]  0.018128  55.162162\n",
      "16    I.PROVEDEL      [SPEZIA]  0.017718  56.441176\n",
      "0     A.CONSIGLI    [SASSUOLO]  0.015992  62.529412\n",
      "7    B.DRAGOWSKI  [FIORENTINA]  0.015823  63.200000\n",
      "5      A.MIRANTE        [ROMA]  0.015640  63.937500\n"
     ]
    }
   ],
   "source": [
    "players['GC_M'] = players['GC'] / players['M']\n",
    "players = players.sort_values(by='GC_M', ascending=False)\n",
    "top_players = players[[\"Name\", \"Team\", \"GC_M\"]].head(n=10)\n",
    "top_players['M_GC'] = players['M'] / players['GC']\n",
    "print(top_players.head(n=10))"
   ]
  },
  {
   "cell_type": "code",
   "execution_count": 41,
   "metadata": {},
   "outputs": [
    {
     "name": "stdout",
     "output_type": "stream",
     "text": [
      "            Name        Team  GC\n",
      "9       D.OSPINA    [NAPOLI]  11\n",
      "4        A.MERET    [NAPOLI]  14\n",
      "24  M.SPORTIELLO  [ATALANTA]  15\n",
      "26     P.GOLLINI  [ATALANTA]  16\n",
      "27       P.LOPEZ      [ROMA]  16\n",
      "5      A.MIRANTE      [ROMA]  16\n",
      "34    W.SZCZESNY  [JUVENTUS]  17\n",
      "28       P.REINA     [LAZIO]  18\n",
      "21   L.SKORUPSKI   [BOLOGNA]  23\n",
      "22       M.PERIN     [GENOA]  24\n"
     ]
    }
   ],
   "source": [
    "players = players.sort_values(by='GC')\n",
    "print(players[[\"Name\", \"Team\", \"GC\"]].head(n=10))"
   ]
  },
  {
   "cell_type": "code",
   "execution_count": 42,
   "metadata": {},
   "outputs": [
    {
     "name": "stdout",
     "output_type": "stream",
     "text": [
      "            Name             Team      GC_M        M_GC\n",
      "9       D.OSPINA         [NAPOLI]  0.009615  104.000000\n",
      "34    W.SZCZESNY       [JUVENTUS]  0.010385   96.294118\n",
      "30  S.HANDANOVIC          [INTER]  0.010894   91.791667\n",
      "28       P.REINA          [LAZIO]  0.011023   90.722222\n",
      "26     P.GOLLINI       [ATALANTA]  0.011412   87.625000\n",
      "23   M.SILVESTRI  [HELLAS VERONA]  0.011765   85.000000\n",
      "14  G.DONNARUMMA          [MILAN]  0.011826   84.560000\n",
      "22       M.PERIN          [GENOA]  0.012585   79.458333\n",
      "27       P.LOPEZ           [ROMA]  0.013640   73.312500\n",
      "17       J.MUSSO        [UDINESE]  0.013889   72.000000\n"
     ]
    }
   ],
   "source": [
    "players['GC_M'] = players['GC'] / players['M']\n",
    "players = players.sort_values(by='GC_M')\n",
    "top_players = players[[\"Name\", \"Team\", \"GC_M\"]].head(n=10)\n",
    "top_players['M_GC'] = players['M'] / players['GC']\n",
    "print(top_players.head(n=10))"
   ]
  },
  {
   "cell_type": "code",
   "execution_count": 43,
   "metadata": {},
   "outputs": [
    {
     "name": "stdout",
     "output_type": "stream",
     "text": [
      "            Name             Team    S\n",
      "2       A.CRAGNO       [CAGLIARI]  106\n",
      "10      E.AUDERO      [SAMPDORIA]   86\n",
      "1       A.CORDAZ        [CROTONE]   80\n",
      "20        L.SEPE          [PARMA]   78\n",
      "0     A.CONSIGLI       [SASSUOLO]   77\n",
      "23   M.SILVESTRI  [HELLAS VERONA]   75\n",
      "14  G.DONNARUMMA          [MILAN]   75\n",
      "21   L.SKORUPSKI        [BOLOGNA]   72\n",
      "22       M.PERIN          [GENOA]   72\n",
      "19    L.MONTIPO'      [BENEVENTO]   70\n"
     ]
    }
   ],
   "source": [
    "players = players.sort_values(by='S', ascending=False)\n",
    "print(players[[\"Name\", \"Team\", \"S\"]].head(n=10))"
   ]
  },
  {
   "cell_type": "code",
   "execution_count": 44,
   "metadata": {},
   "outputs": [
    {
     "name": "stdout",
     "output_type": "stream",
     "text": [
      "            Name             Team       S_M        M_S\n",
      "2       A.CRAGNO       [CAGLIARI]  0.048248  20.726415\n",
      "21   L.SKORUPSKI        [BOLOGNA]  0.046875  21.333333\n",
      "10      E.AUDERO      [SAMPDORIA]  0.039038  25.616279\n",
      "22       M.PERIN          [GENOA]  0.037756  26.486111\n",
      "1       A.CORDAZ        [CROTONE]  0.036446  27.437500\n",
      "0     A.CONSIGLI       [SASSUOLO]  0.036218  27.610390\n",
      "14  G.DONNARUMMA          [MILAN]  0.035478  28.186667\n",
      "20        L.SEPE          [PARMA]  0.035471  28.192308\n",
      "23   M.SILVESTRI  [HELLAS VERONA]  0.033937  29.466667\n",
      "4        A.MERET         [NAPOLI]  0.032124  31.129032\n"
     ]
    }
   ],
   "source": [
    "players['S_M'] = players['S'] / players['M']\n",
    "players = players.sort_values(by='S_M', ascending=False)\n",
    "top_players = players[[\"Name\", \"Team\", \"S_M\"]].head(n=10)\n",
    "top_players['M_S'] = players['M'] / players['S']\n",
    "print(top_players.head(n=10))"
   ]
  },
  {
   "cell_type": "code",
   "execution_count": 45,
   "metadata": {},
   "outputs": [
    {
     "name": "stdout",
     "output_type": "stream",
     "text": [
      "            Name             Team  Set_S\n",
      "0     A.CONSIGLI       [SASSUOLO]     14\n",
      "2       A.CRAGNO       [CAGLIARI]     13\n",
      "14  G.DONNARUMMA          [MILAN]     13\n",
      "20        L.SEPE          [PARMA]     13\n",
      "7    B.DRAGOWSKI     [FIORENTINA]     11\n",
      "17       J.MUSSO        [UDINESE]      9\n",
      "23   M.SILVESTRI  [HELLAS VERONA]      9\n",
      "1       A.CORDAZ        [CROTONE]      8\n",
      "5      A.MIRANTE           [ROMA]      7\n",
      "19    L.MONTIPO'      [BENEVENTO]      7\n"
     ]
    }
   ],
   "source": [
    "players['Set_S'] = players['STP'] + players['SF']\n",
    "players = players.sort_values(by='Set_S', ascending=False)\n",
    "print(players[[\"Name\", \"Team\", \"Set_S\"]].head(n=10))"
   ]
  }
 ],
 "metadata": {
  "kernelspec": {
   "display_name": "Python 3",
   "language": "python",
   "name": "python3"
  },
  "language_info": {
   "codemirror_mode": {
    "name": "ipython",
    "version": 3
   },
   "file_extension": ".py",
   "mimetype": "text/x-python",
   "name": "python",
   "nbconvert_exporter": "python",
   "pygments_lexer": "ipython3",
   "version": "3.7.4"
  }
 },
 "nbformat": 4,
 "nbformat_minor": 2
}
