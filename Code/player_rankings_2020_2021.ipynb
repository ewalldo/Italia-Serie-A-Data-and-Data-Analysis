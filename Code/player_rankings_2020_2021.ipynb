{
 "cells": [
  {
   "cell_type": "code",
   "execution_count": 1,
   "metadata": {},
   "outputs": [],
   "source": [
    "import os\n",
    "import csv\n",
    "import pandas as pd\n",
    "import numpy as np\n",
    "import math"
   ]
  },
  {
   "cell_type": "code",
   "execution_count": 2,
   "metadata": {},
   "outputs": [
    {
     "name": "stdout",
     "output_type": "stream",
     "text": [
      "600.0\n",
      "6\n"
     ]
    }
   ],
   "source": [
    "thisdir = os.getcwd()\n",
    "thisdir += \"/2020-2021/Player Data/Non-goalkeeper/\"\n",
    "csv_list = []\n",
    "\n",
    "n_games = 20 #total games played\n",
    "min_time = n_games / 3 * 90 #min time played to be eligible\n",
    "min_games = math.floor(n_games / 3) #min games played to be eligible\n",
    "print(min_time)\n",
    "print(min_games)"
   ]
  },
  {
   "cell_type": "code",
   "execution_count": 3,
   "metadata": {},
   "outputs": [],
   "source": [
    "for r, d, f in os.walk(thisdir):\n",
    "    for file in f:\n",
    "        if file.endswith(\".csv\"):\n",
    "            csv_list.append(os.path.join(r, file))\n",
    "\n",
    "csv_list = sorted(csv_list)"
   ]
  },
  {
   "cell_type": "code",
   "execution_count": 4,
   "metadata": {},
   "outputs": [],
   "source": [
    "def convert_to_minutes(row):\n",
    "    return int(row['M'][:-1])\n",
    "\n",
    "def convert_to_int(row, col):\n",
    "    return int(row[col])"
   ]
  },
  {
   "cell_type": "code",
   "execution_count": 5,
   "metadata": {},
   "outputs": [],
   "source": [
    "players = []\n",
    "\n",
    "for csv_file in csv_list:\n",
    "#     print(csv_file)\n",
    "    if csv_file[-5:] == \"/.csv\":\n",
    "        continue\n",
    "    player_data = pd.read_csv(csv_file, encoding='latin-1')\n",
    "    player_data[\"M_played\"] = player_data.apply(lambda row:convert_to_minutes(row), axis=1)\n",
    "    player_data = player_data.astype({'G':'int32', 'OG':'int32', 'A':'int32', 'AT':'int32', 'BS':'int32', 'SC':'int32', 'FS':'int32', 'BP':'int32', 'AS':'int32', 'KP':'int32', 'P':'int32', 'P%':'int32', 'R':'int32', 'FYC':'int32', 'SYC':'int32', 'RC':'int32'})\n",
    "\n",
    "    players.append([player_data[\"Name\"].unique()[0], player_data[\"Team\"].unique(), player_data[\"M_played\"].sum(), player_data[\"G\"].sum(), player_data[\"OG\"].sum(), player_data[\"A\"].sum(), player_data[\"AT\"].sum(), player_data[\"BS\"].sum(), player_data[\"SC\"].sum(), player_data[\"FS\"].sum(), player_data[\"BP\"].sum(), player_data[\"AS\"].sum(), player_data[\"KP\"].sum(), player_data[\"P\"].sum(), player_data[\"P%\"].sum()  / player_data[\"P%\"].size, player_data[\"R\"].sum(), player_data[\"FYC\"].sum(), player_data[\"SYC\"].sum(), player_data[\"RC\"].sum(), player_data[\"M_played\"].size])\n",
    "\n",
    "players = pd.DataFrame(np.array(players), columns=['Name', 'Team' , 'M', 'G', 'OG', 'A', 'AT', 'BS', 'SC', 'FS', 'BP', 'AS', 'KP', 'P', 'P%', 'R', 'FYC', 'SYC', 'RC', \"N\"])\n",
    "players = players.astype({'M':'int32', 'G':'int32', 'OG':'int32', 'A':'int32', 'AT':'int32', 'BS':'int32', 'SC':'int32', 'FS':'int32', 'BP':'int32', 'AS':'int32', 'KP':'int32', 'P':'int32', 'P%':'float', 'R':'int32', 'FYC':'int32', 'SYC':'int32', 'RC':'int32', 'N':'int32'})\n",
    "players = players[players['M'] >= min_time]\n",
    "players = players[players['N'] >= min_games]"
   ]
  },
  {
   "cell_type": "code",
   "execution_count": 6,
   "metadata": {},
   "outputs": [
    {
     "name": "stdout",
     "output_type": "stream",
     "text": [
      "             Name                 Team     M\n",
      "201    G.PEZZELLA  [PARMA, FIORENTINA]  2289\n",
      "296  L.PELLEGRINI        [ROMA, GENOA]  2203\n",
      "264        K.GLIK          [BENEVENTO]  1917\n",
      "478    T.TOMIYASU            [BOLOGNA]  1911\n",
      "281      L.DANILO            [BOLOGNA]  1893\n",
      "243     J.MESSIAS            [CROTONE]  1886\n",
      "106    D.CALABRIA              [MILAN]  1879\n",
      "432     R.SORIANO            [BOLOGNA]  1874\n",
      "255    JOAO PEDRO           [CAGLIARI]  1870\n",
      "187     G.FERRARI           [SASSUOLO]  1831\n"
     ]
    }
   ],
   "source": [
    "players = players.sort_values(by='M', ascending=False)\n",
    "print(players[[\"Name\", \"Team\", \"M\"]].head(n=10))"
   ]
  },
  {
   "cell_type": "code",
   "execution_count": 7,
   "metadata": {},
   "outputs": [
    {
     "name": "stdout",
     "output_type": "stream",
     "text": [
      "             Name         Team        M_N\n",
      "82         BREMER     [TORINO]  97.250000\n",
      "474   T.HERNANDEZ      [MILAN]  96.882353\n",
      "54    A.ROMAGNOLI      [MILAN]  96.666667\n",
      "187     G.FERRARI   [SASSUOLO]  96.368421\n",
      "184  G.DI LORENZO     [NAPOLI]  95.944444\n",
      "264        K.GLIK  [BENEVENTO]  95.850000\n",
      "478    T.TOMIYASU    [BOLOGNA]  95.550000\n",
      "69        B.ALVES      [PARMA]  95.500000\n",
      "5       A.BELOTTI     [TORINO]  95.052632\n",
      "405     R.DE PAUL    [UDINESE]  94.789474\n"
     ]
    }
   ],
   "source": [
    "players['M_N'] = players['M'] / players['N']\n",
    "players = players.sort_values(by='M_N', ascending=False)\n",
    "print(players[[\"Name\", \"Team\", \"M_N\"]].head(n=10))"
   ]
  },
  {
   "cell_type": "code",
   "execution_count": 8,
   "metadata": {},
   "outputs": [
    {
     "name": "stdout",
     "output_type": "stream",
     "text": [
      "              Name        Team   G\n",
      "97       C.RONALDO  [JUVENTUS]  15\n",
      "419       R.LUKAKU     [INTER]  14\n",
      "88      C.IMMOBILE     [LAZIO]  13\n",
      "498  Z.IBRAHIMOVIC     [MILAN]  12\n",
      "255     JOAO PEDRO  [CAGLIARI]  11\n",
      "292     L.MARTINEZ     [INTER]  10\n",
      "5        A.BELOTTI    [TORINO]  10\n",
      "214   H.MKHITARYAN      [ROMA]   9\n",
      "341        M.NZOLA    [SPEZIA]   9\n",
      "325       M.DESTRO     [GENOA]   9\n"
     ]
    }
   ],
   "source": [
    "players = players.sort_values(by='G', ascending=False)\n",
    "print(players[[\"Name\", \"Team\", \"G\"]].head(n=10))"
   ]
  },
  {
   "cell_type": "code",
   "execution_count": 9,
   "metadata": {},
   "outputs": [
    {
     "name": "stdout",
     "output_type": "stream",
     "text": [
      "              Name        Team       G_M         M_G\n",
      "498  Z.IBRAHIMOVIC     [MILAN]  0.013986   71.500000\n",
      "325       M.DESTRO     [GENOA]  0.011278   88.666667\n",
      "97       C.RONALDO  [JUVENTUS]  0.010431   95.866667\n",
      "419       R.LUKAKU     [INTER]  0.009296  107.571429\n",
      "88      C.IMMOBILE     [LAZIO]  0.008564  116.769231\n",
      "341        M.NZOLA    [SPEZIA]  0.007888  126.777778\n",
      "150      F.CAICEDO     [LAZIO]  0.007481  133.666667\n",
      "348     M.POLITANO    [NAPOLI]  0.007225  138.400000\n",
      "292     L.MARTINEZ     [INTER]  0.006784  147.400000\n",
      "286      L.INSIGNE    [NAPOLI]  0.006642  150.555556\n"
     ]
    }
   ],
   "source": [
    "players['G_M'] = players['G'] / players['M']\n",
    "players = players.sort_values(by='G_M', ascending=False)\n",
    "top_players = players[[\"Name\", \"Team\", \"G_M\"]].head(n=10)\n",
    "top_players['M_G'] = players['M'] / players['G']\n",
    "print(top_players.head(n=10))"
   ]
  },
  {
   "cell_type": "code",
   "execution_count": 10,
   "metadata": {},
   "outputs": [
    {
     "name": "stdout",
     "output_type": "stream",
     "text": [
      "             Name          Team   A\n",
      "286     L.INSIGNE      [NAPOLI]  70\n",
      "97      C.RONALDO    [JUVENTUS]  69\n",
      "292    L.MARTINEZ       [INTER]  60\n",
      "5       A.BELOTTI      [TORINO]  59\n",
      "88     C.IMMOBILE       [LAZIO]  51\n",
      "214  H.MKHITARYAN        [ROMA]  50\n",
      "243     J.MESSIAS     [CROTONE]  48\n",
      "311      M.BARROW     [BOLOGNA]  47\n",
      "127    D.VLAHOVIC  [FIORENTINA]  46\n",
      "211  H.CALHANOGLU       [MILAN]  43\n"
     ]
    }
   ],
   "source": [
    "players = players.sort_values(by='A', ascending=False)\n",
    "print(players[[\"Name\", \"Team\", \"A\"]].head(n=10))"
   ]
  },
  {
   "cell_type": "code",
   "execution_count": 11,
   "metadata": {},
   "outputs": [
    {
     "name": "stdout",
     "output_type": "stream",
     "text": [
      "              Name        Team       A_M        M_A\n",
      "286      L.INSIGNE    [NAPOLI]  0.051661  19.357143\n",
      "498  Z.IBRAHIMOVIC     [MILAN]  0.048951  20.428571\n",
      "97       C.RONALDO  [JUVENTUS]  0.047983  20.840580\n",
      "348     M.POLITANO    [NAPOLI]  0.041908  23.862069\n",
      "292     L.MARTINEZ     [INTER]  0.040706  24.566667\n",
      "390       P.DYBALA  [JUVENTUS]  0.040698  24.571429\n",
      "122      D.MERTENS    [NAPOLI]  0.038272  26.129032\n",
      "236       J.ILICIC  [ATALANTA]  0.037778  26.470588\n",
      "27         A.GOMEZ  [ATALANTA]  0.036075  27.720000\n",
      "426     R.ORSOLINI   [BOLOGNA]  0.034549  28.944444\n"
     ]
    }
   ],
   "source": [
    "players['A_M'] = players['A'] / players['M']\n",
    "players = players.sort_values(by='A_M', ascending=False)\n",
    "top_players = players[[\"Name\", \"Team\", \"A_M\"]].head(n=10)\n",
    "top_players['M_A'] = players['M'] / players['A']\n",
    "print(top_players.head(n=10))"
   ]
  },
  {
   "cell_type": "code",
   "execution_count": 12,
   "metadata": {},
   "outputs": [
    {
     "name": "stdout",
     "output_type": "stream",
     "text": [
      "                   Name                    Team  AS\n",
      "214        H.MKHITARYAN                  [ROMA]   8\n",
      "122           D.MERTENS                [NAPOLI]   6\n",
      "313          M.BROZOVIC                 [INTER]   6\n",
      "211        H.CALHANOGLU                 [MILAN]   6\n",
      "296        L.PELLEGRINI           [ROMA, GENOA]   6\n",
      "5             A.BELOTTI                [TORINO]   5\n",
      "369           N.BARELLA                 [INTER]   5\n",
      "41             A.MORATA              [JUVENTUS]   5\n",
      "236            J.ILICIC              [ATALANTA]   5\n",
      "233          J.CUADRADO              [JUVENTUS]   5\n",
      "364          M.ZACCAGNI         [HELLAS VERONA]   5\n",
      "455  S.MILINKOVIC-SAVIC                 [LAZIO]   5\n",
      "432           R.SORIANO               [BOLOGNA]   4\n",
      "154            F.CHIESA  [FIORENTINA, JUVENTUS]   4\n",
      "410            R.GOSENS              [ATALANTA]   4\n",
      "418              R.LEAO                 [MILAN]   4\n",
      "333           M.LAZZARI                 [LAZIO]   4\n",
      "392         P.GHIGLIONE                 [GENOA]   4\n",
      "428           R.PEREYRA               [UDINESE]   4\n",
      "57            A.SANCHEZ                 [INTER]   4\n",
      "415          R.KARSDORP                  [ROMA]   4\n",
      "168            F.RIBERY            [FIORENTINA]   4\n",
      "37            A.MARUSIC                 [LAZIO]   4\n",
      "85            C.BIRAGHI            [FIORENTINA]   4\n",
      "10           A.CANDREVA             [SAMPDORIA]   4\n"
     ]
    }
   ],
   "source": [
    "players = players.sort_values(by='AS', ascending=False)\n",
    "print(players[[\"Name\", \"Team\", \"AS\"]].head(n=25))"
   ]
  },
  {
   "cell_type": "code",
   "execution_count": 13,
   "metadata": {},
   "outputs": [
    {
     "name": "stdout",
     "output_type": "stream",
     "text": [
      "             Name        Team      AS_M        M_AS\n",
      "122     D.MERTENS    [NAPOLI]  0.007407  135.000000\n",
      "57      A.SANCHEZ     [INTER]  0.005780  173.000000\n",
      "236      J.ILICIC  [ATALANTA]  0.005556  180.000000\n",
      "41       A.MORATA  [JUVENTUS]  0.004735  211.200000\n",
      "214  H.MKHITARYAN      [ROMA]  0.004561  219.250000\n",
      "313    M.BROZOVIC     [INTER]  0.004535  220.500000\n",
      "211  H.CALHANOGLU     [MILAN]  0.004110  243.333333\n",
      "233    J.CUADRADO  [JUVENTUS]  0.004108  243.400000\n",
      "392   P.GHIGLIONE     [GENOA]  0.003817  262.000000\n",
      "49       A.RAMSEY  [JUVENTUS]  0.003797  263.333333\n"
     ]
    }
   ],
   "source": [
    "players['AS_M'] = players['AS'] / players['M']\n",
    "players = players.sort_values(by='AS_M', ascending=False)\n",
    "top_players = players[[\"Name\", \"Team\", \"AS_M\"]].head(n=10)\n",
    "top_players['M_AS'] = players['M'] / players['AS']\n",
    "print(top_players.head(n=10))"
   ]
  },
  {
   "cell_type": "code",
   "execution_count": 14,
   "metadata": {},
   "outputs": [
    {
     "name": "stdout",
     "output_type": "stream",
     "text": [
      "             Name                 Team    BP\n",
      "335   M.LOCATELLI           [SASSUOLO]  1782\n",
      "187     G.FERRARI           [SASSUOLO]  1677\n",
      "130        DANILO           [JUVENTUS]  1620\n",
      "296  L.PELLEGRINI        [ROMA, GENOA]  1583\n",
      "184  G.DI LORENZO             [NAPOLI]  1537\n",
      "201    G.PEZZELLA  [PARMA, FIORENTINA]  1487\n",
      "405     R.DE PAUL            [UDINESE]  1478\n",
      "411      R.IBANEZ               [ROMA]  1442\n",
      "106    D.CALABRIA              [MILAN]  1435\n",
      "4       A.BASTONI              [INTER]  1399\n"
     ]
    }
   ],
   "source": [
    "players = players.sort_values(by='BP', ascending=False)\n",
    "print(players[[\"Name\", \"Team\", \"BP\"]].head(n=10))"
   ]
  },
  {
   "cell_type": "code",
   "execution_count": 15,
   "metadata": {},
   "outputs": [
    {
     "name": "stdout",
     "output_type": "stream",
     "text": [
      "             Name        Team      BP_M      M_BP\n",
      "335   M.LOCATELLI  [SASSUOLO]  1.045161  0.956790\n",
      "68         ARTHUR  [JUVENTUS]  1.010127  0.989975\n",
      "130        DANILO  [JUVENTUS]  0.968320  1.032716\n",
      "313    M.BROZOVIC     [INTER]  0.962963  1.038462\n",
      "111       D.DEMME    [NAPOLI]  0.960508  1.041116\n",
      "373  N.MAKSIMOVIC    [NAPOLI]  0.955696  1.046358\n",
      "403   R.BENTANCUR  [JUVENTUS]  0.953149  1.049154\n",
      "367     MARIO RUI    [NAPOLI]  0.943853  1.059487\n",
      "233    J.CUADRADO  [JUVENTUS]  0.941660  1.061955\n",
      "368        MARLON  [SASSUOLO]  0.940092  1.063725\n"
     ]
    }
   ],
   "source": [
    "players['BP_M'] = players['BP'] / players['M']\n",
    "players = players.sort_values(by='BP_M', ascending=False)\n",
    "top_players = players[[\"Name\", \"Team\", \"BP_M\"]].head(n=10)\n",
    "top_players['M_BP'] = players['M'] / players['BP']\n",
    "print(top_players.head(n=10))"
   ]
  },
  {
   "cell_type": "code",
   "execution_count": 16,
   "metadata": {},
   "outputs": [
    {
     "name": "stdout",
     "output_type": "stream",
     "text": [
      "             Name        Team     P\n",
      "187     G.FERRARI  [SASSUOLO]  1349\n",
      "335   M.LOCATELLI  [SASSUOLO]  1300\n",
      "130        DANILO  [JUVENTUS]  1205\n",
      "4       A.BASTONI     [INTER]  1109\n",
      "184  G.DI LORENZO    [NAPOLI]  1009\n",
      "275     L.BONUCCI  [JUVENTUS]  1006\n",
      "266   K.KOULIBALY    [NAPOLI]  1005\n",
      "411      R.IBANEZ      [ROMA]   996\n",
      "355    M.SKRINIAR     [INTER]   973\n",
      "441     S.DE VRIJ     [INTER]   959\n"
     ]
    }
   ],
   "source": [
    "players = players.sort_values(by='P', ascending=False)\n",
    "print(players[[\"Name\", \"Team\", \"P\"]].head(n=10))"
   ]
  },
  {
   "cell_type": "code",
   "execution_count": 17,
   "metadata": {},
   "outputs": [
    {
     "name": "stdout",
     "output_type": "stream",
     "text": [
      "             Name        Team       P_M       M_P\n",
      "68         ARTHUR  [JUVENTUS]  0.850633  1.175595\n",
      "368        MARLON  [SASSUOLO]  0.812596  1.230624\n",
      "373  N.MAKSIMOVIC    [NAPOLI]  0.803797  1.244094\n",
      "321     M.DE LIGT  [JUVENTUS]  0.768700  1.300898\n",
      "335   M.LOCATELLI  [SASSUOLO]  0.762463  1.311538\n",
      "111       D.DEMME    [NAPOLI]  0.740480  1.350476\n",
      "187     G.FERRARI  [SASSUOLO]  0.736756  1.357302\n",
      "266   K.KOULIBALY    [NAPOLI]  0.724585  1.380100\n",
      "130        DANILO  [JUVENTUS]  0.720263  1.388382\n",
      "172   FABIAN RUIZ    [NAPOLI]  0.716379  1.395909\n"
     ]
    }
   ],
   "source": [
    "players['P_M'] = players['P'] / players['M']\n",
    "players = players.sort_values(by='P_M', ascending=False)\n",
    "top_players = players[[\"Name\", \"Team\", \"P_M\"]].head(n=10)\n",
    "top_players['M_P'] = players['M'] / players['P']\n",
    "print(top_players.head(n=10))"
   ]
  },
  {
   "cell_type": "code",
   "execution_count": 18,
   "metadata": {},
   "outputs": [
    {
     "name": "stdout",
     "output_type": "stream",
     "text": [
      "             Name        Team         P%\n",
      "373  N.MAKSIMOVIC    [NAPOLI]  96.333333\n",
      "68         ARTHUR  [JUVENTUS]  95.250000\n",
      "321     M.DE LIGT  [JUVENTUS]  93.800000\n",
      "355    M.SKRINIAR     [INTER]  93.250000\n",
      "270     K.MANOLAS    [NAPOLI]  93.111111\n",
      "441     S.DE VRIJ     [INTER]  92.500000\n",
      "336       M.LOPEZ  [SASSUOLO]  91.571429\n",
      "403   R.BENTANCUR  [JUVENTUS]  91.555556\n",
      "480   V.CHIRICHES  [SASSUOLO]  91.384615\n",
      "172   FABIAN RUIZ    [NAPOLI]  91.066667\n"
     ]
    }
   ],
   "source": [
    "players = players.sort_values(by='P%', ascending=False)\n",
    "print(players[[\"Name\", \"Team\", \"P%\"]].head(n=10))"
   ]
  },
  {
   "cell_type": "code",
   "execution_count": 19,
   "metadata": {},
   "outputs": [
    {
     "name": "stdout",
     "output_type": "stream",
     "text": [
      "             Name             Team  KP\n",
      "405     R.DE PAUL        [UDINESE]  25\n",
      "236      J.ILICIC       [ATALANTA]  22\n",
      "296  L.PELLEGRINI    [ROMA, GENOA]  18\n",
      "103     D.BERARDI       [SASSUOLO]  15\n",
      "211  H.CALHANOGLU          [MILAN]  14\n",
      "432     R.SORIANO        [BOLOGNA]  14\n",
      "306  LUIS ALBERTO          [LAZIO]  13\n",
      "156     F.DIMARCO  [HELLAS VERONA]  12\n",
      "214  H.MKHITARYAN           [ROMA]  12\n",
      "300  L.SPINAZZOLA           [ROMA]  12\n",
      "29       A.HAKIMI          [INTER]  11\n",
      "364    M.ZACCAGNI  [HELLAS VERONA]  11\n",
      "493    W.MCKENNIE       [JUVENTUS]  10\n",
      "85      C.BIRAGHI     [FIORENTINA]  10\n",
      "168      F.RIBERY     [FIORENTINA]   9\n"
     ]
    }
   ],
   "source": [
    "players = players.sort_values(by='KP', ascending=False)\n",
    "print(players[[\"Name\", \"Team\", \"KP\"]].head(n=15))"
   ]
  },
  {
   "cell_type": "code",
   "execution_count": 20,
   "metadata": {},
   "outputs": [
    {
     "name": "stdout",
     "output_type": "stream",
     "text": [
      "             Name        Team      KP_M        M_KP\n",
      "236      J.ILICIC  [ATALANTA]  0.024444   40.909091\n",
      "405     R.DE PAUL   [UDINESE]  0.013881   72.040000\n",
      "57      A.SANCHEZ     [INTER]  0.011561   86.500000\n",
      "83    BRUNO PERES      [ROMA]  0.011345   88.142857\n",
      "103     D.BERARDI  [SASSUOLO]  0.011062   90.400000\n",
      "493    W.MCKENNIE  [JUVENTUS]  0.010277   97.300000\n",
      "27        A.GOMEZ  [ATALANTA]  0.010101   99.000000\n",
      "45      A.PETAGNA    [NAPOLI]  0.009667  103.444444\n",
      "211  H.CALHANOGLU     [MILAN]  0.009589  104.285714\n",
      "306  LUIS ALBERTO     [LAZIO]  0.009266  107.923077\n"
     ]
    }
   ],
   "source": [
    "players['KP_M'] = players['KP'] / players['M']\n",
    "players = players.sort_values(by='KP_M', ascending=False)\n",
    "top_players = players[[\"Name\", \"Team\", \"KP_M\"]].head(n=10)\n",
    "top_players['M_KP'] = players['M'] / players['KP']\n",
    "print(top_players.head(n=10))"
   ]
  },
  {
   "cell_type": "code",
   "execution_count": 21,
   "metadata": {
    "scrolled": true
   },
   "outputs": [
    {
     "name": "stdout",
     "output_type": "stream",
     "text": [
      "             Name             Team  FS\n",
      "5       A.BELOTTI         [TORINO]  81\n",
      "405     R.DE PAUL        [UDINESE]  59\n",
      "243     J.MESSIAS        [CROTONE]  59\n",
      "364    M.ZACCAGNI  [HELLAS VERONA]  58\n",
      "213      H.LOZANO         [NAPOLI]  53\n",
      "255    JOAO PEDRO       [CAGLIARI]  48\n",
      "296  L.PELLEGRINI    [ROMA, GENOA]  45\n",
      "427     R.PALACIO        [BOLOGNA]  44\n",
      "168      F.RIBERY     [FIORENTINA]  43\n",
      "239       J.KUCKA          [PARMA]  42\n"
     ]
    }
   ],
   "source": [
    "players = players.sort_values(by='FS', ascending=False)\n",
    "print(players[[\"Name\", \"Team\", \"FS\"]].head(n=10))"
   ]
  },
  {
   "cell_type": "code",
   "execution_count": 22,
   "metadata": {
    "scrolled": true
   },
   "outputs": [
    {
     "name": "stdout",
     "output_type": "stream",
     "text": [
      "           Name             Team      FS_M       M_FS\n",
      "236    J.ILICIC       [ATALANTA]  0.045556  21.951220\n",
      "5     A.BELOTTI         [TORINO]  0.044850  22.296296\n",
      "364  M.ZACCAGNI  [HELLAS VERONA]  0.037156  26.913793\n",
      "198    G.PANDEV          [GENOA]  0.036939  27.071429\n",
      "213    H.LOZANO         [NAPOLI]  0.036552  27.358491\n",
      "202   G.RAMIREZ      [SAMPDORIA]  0.036388  27.481481\n",
      "168    F.RIBERY     [FIORENTINA]  0.033938  29.465116\n",
      "89     C.KOUAME     [FIORENTINA]  0.033600  29.761905\n",
      "405   R.DE PAUL        [UDINESE]  0.032760  30.525424\n",
      "176   G.CAPRARI      [BENEVENTO]  0.031426  31.820513\n"
     ]
    }
   ],
   "source": [
    "players['FS_M'] = players['FS'] / players['M']\n",
    "players = players.sort_values(by='FS_M', ascending=False)\n",
    "top_players = players[[\"Name\", \"Team\", \"FS_M\"]].head(n=10)\n",
    "top_players['M_FS'] = players['M'] / players['FS']\n",
    "print(top_players.head(n=10))"
   ]
  },
  {
   "cell_type": "code",
   "execution_count": 23,
   "metadata": {},
   "outputs": [
    {
     "name": "stdout",
     "output_type": "stream",
     "text": [
      "             Name                 Team    R\n",
      "478    T.TOMIYASU            [BOLOGNA]  198\n",
      "411      R.IBANEZ               [ROMA]  181\n",
      "374  N.MILENKOVIC         [FIORENTINA]  170\n",
      "146      F.ACERBI              [LAZIO]  165\n",
      "201    G.PEZZELLA  [PARMA, FIORENTINA]  161\n",
      "264        K.GLIK          [BENEVENTO]  156\n",
      "82         BREMER             [TORINO]  153\n",
      "281      L.DANILO            [BOLOGNA]  153\n",
      "96       C.ROMERO           [ATALANTA]  141\n",
      "75     B.DJIMSITI           [ATALANTA]  141\n"
     ]
    }
   ],
   "source": [
    "players = players.sort_values(by='R', ascending=False)\n",
    "print(players[[\"Name\", \"Team\", \"R\"]].head(n=10))"
   ]
  },
  {
   "cell_type": "code",
   "execution_count": 24,
   "metadata": {},
   "outputs": [
    {
     "name": "stdout",
     "output_type": "stream",
     "text": [
      "             Name             Team       R_M       M_R\n",
      "193     G.MAGNANI  [HELLAS VERONA]  0.155000  6.451613\n",
      "265      K.GUNTER  [HELLAS VERONA]  0.137748  7.259615\n",
      "96       C.ROMERO       [ATALANTA]  0.128065  7.808511\n",
      "480   V.CHIRICHES       [SASSUOLO]  0.112116  8.919355\n",
      "440     S.DE MAIO        [UDINESE]  0.111773  8.946667\n",
      "492       W.HOEDT          [LAZIO]  0.108225  9.240000\n",
      "448       S.KJAER          [MILAN]  0.107029  9.343284\n",
      "324     M.DEMIRAL       [JUVENTUS]  0.106489  9.390625\n",
      "277  L.CEPPITELLI       [CAGLIARI]  0.105960  9.437500\n",
      "146      F.ACERBI          [LAZIO]  0.105701  9.460606\n"
     ]
    }
   ],
   "source": [
    "players['R_M'] = players['R'] / players['M']\n",
    "players = players.sort_values(by='R_M', ascending=False)\n",
    "top_players = players[[\"Name\", \"Team\", \"R_M\"]].head(n=10)\n",
    "top_players['M_R'] = players['M'] / players['R']\n",
    "print(top_players.head(n=10))"
   ]
  },
  {
   "cell_type": "code",
   "execution_count": 25,
   "metadata": {},
   "outputs": [],
   "source": [
    "thisdir = os.getcwd()\n",
    "thisdir += \"/2020-2021/Player Data/Goalkeeper/\"\n",
    "csv_list = []\n",
    "\n",
    "for r, d, f in os.walk(thisdir):\n",
    "    for file in f:\n",
    "        if file.endswith(\".csv\"):\n",
    "            csv_list.append(os.path.join(r, file))\n",
    "\n",
    "csv_list = sorted(csv_list)\n",
    "\n",
    "players = []\n",
    "\n",
    "for csv_file in csv_list:\n",
    "#     print(csv_file)\n",
    "    if csv_file[-5:] == \"/.csv\":\n",
    "        continue\n",
    "    player_data = pd.read_csv(csv_file, encoding='latin-1')\n",
    "    player_data[\"M_played\"] = player_data.apply(lambda row:convert_to_minutes(row), axis=1)\n",
    "    player_data = player_data.astype({'GC':'int32', 'OG':'int32', 'S':'int32', 'STP':'int32', 'SF':'int32', 'FYC':'int32', 'SYC':'int32', 'RC':'int32'})\n",
    "\n",
    "    players.append([player_data[\"Name\"].unique()[0], player_data[\"Team\"].unique(), player_data[\"M_played\"].sum(), player_data[\"GC\"].sum(), player_data[\"OG\"].sum(), player_data[\"S\"].sum(), player_data[\"STP\"].sum(), player_data[\"SF\"].sum(), player_data[\"FYC\"].sum(), player_data[\"SYC\"].sum(), player_data[\"RC\"].sum(), player_data[\"M_played\"].size])\n",
    "\n",
    "players = pd.DataFrame(np.array(players), columns=['Name', 'Team' , 'M', 'GC', 'OG', 'S', 'STP', 'SF', 'FYC', 'SYC', 'RC', 'N'])\n",
    "players = players.astype({'M':'int32', 'GC':'int32', 'OG':'int32', 'S':'int32', 'STP':'int32', 'SF':'int32', 'FYC':'int32', 'SYC':'int32', 'RC':'int32', 'N':'int32'})\n",
    "players = players[players['M'] >= min_time]\n",
    "players = players[players['N'] >= min_games]"
   ]
  },
  {
   "cell_type": "code",
   "execution_count": 26,
   "metadata": {},
   "outputs": [
    {
     "name": "stdout",
     "output_type": "stream",
     "text": [
      "            Name             Team     M\n",
      "7    B.DRAGOWSKI     [FIORENTINA]  1919\n",
      "19    L.MONTIPO'      [BENEVENTO]  1917\n",
      "23   M.SILVESTRI  [HELLAS VERONA]  1917\n",
      "30  S.HANDANOVIC          [INTER]  1915\n",
      "10      E.AUDERO      [SAMPDORIA]  1914\n",
      "1       A.CORDAZ        [CROTONE]  1911\n",
      "2       A.CRAGNO       [CAGLIARI]  1910\n",
      "20        L.SEPE          [PARMA]  1910\n",
      "0     A.CONSIGLI       [SASSUOLO]  1837\n",
      "14  G.DONNARUMMA          [MILAN]  1836\n"
     ]
    }
   ],
   "source": [
    "players = players.sort_values(by='M', ascending=False)\n",
    "print(players[[\"Name\", \"Team\", \"M\"]].head(n=10))"
   ]
  },
  {
   "cell_type": "code",
   "execution_count": 27,
   "metadata": {},
   "outputs": [
    {
     "name": "stdout",
     "output_type": "stream",
     "text": [
      "            Name             Team        M_N\n",
      "31      S.SIRIGU         [TORINO]  97.500000\n",
      "0     A.CONSIGLI       [SASSUOLO]  96.684211\n",
      "14  G.DONNARUMMA          [MILAN]  96.631579\n",
      "4        A.MERET         [NAPOLI]  96.250000\n",
      "34    W.SZCZESNY       [JUVENTUS]  96.133333\n",
      "21   L.SKORUPSKI        [BOLOGNA]  96.076923\n",
      "28       P.REINA          [LAZIO]  96.000000\n",
      "7    B.DRAGOWSKI     [FIORENTINA]  95.950000\n",
      "23   M.SILVESTRI  [HELLAS VERONA]  95.850000\n",
      "19    L.MONTIPO'      [BENEVENTO]  95.850000\n"
     ]
    }
   ],
   "source": [
    "players['M_N'] = players['M'] / players['N']\n",
    "players = players.sort_values(by='M_N', ascending=False)\n",
    "print(players[[\"Name\", \"Team\", \"M_N\"]].head(n=10))"
   ]
  },
  {
   "cell_type": "code",
   "execution_count": 28,
   "metadata": {},
   "outputs": [
    {
     "name": "stdout",
     "output_type": "stream",
     "text": [
      "            Name          Team  GC\n",
      "1       A.CORDAZ     [CROTONE]  46\n",
      "19    L.MONTIPO'   [BENEVENTO]  40\n",
      "2       A.CRAGNO    [CAGLIARI]  38\n",
      "20        L.SEPE       [PARMA]  38\n",
      "31      S.SIRIGU      [TORINO]  34\n",
      "10      E.AUDERO   [SAMPDORIA]  31\n",
      "7    B.DRAGOWSKI  [FIORENTINA]  31\n",
      "16    I.PROVEDEL      [SPEZIA]  30\n",
      "0     A.CONSIGLI    [SASSUOLO]  30\n",
      "30  S.HANDANOVIC       [INTER]  23\n"
     ]
    }
   ],
   "source": [
    "players = players.sort_values(by='GC', ascending=False)\n",
    "print(players[[\"Name\", \"Team\", \"GC\"]].head(n=10))"
   ]
  },
  {
   "cell_type": "code",
   "execution_count": 29,
   "metadata": {},
   "outputs": [
    {
     "name": "stdout",
     "output_type": "stream",
     "text": [
      "            Name         Team      GC_M       M_GC\n",
      "1       A.CORDAZ    [CROTONE]  0.024071  41.543478\n",
      "24  M.SPORTIELLO   [ATALANTA]  0.021645  46.200000\n",
      "19    L.MONTIPO'  [BENEVENTO]  0.020866  47.925000\n",
      "2       A.CRAGNO   [CAGLIARI]  0.019895  50.263158\n",
      "20        L.SEPE      [PARMA]  0.019895  50.263158\n",
      "31      S.SIRIGU     [TORINO]  0.019373  51.617647\n",
      "16    I.PROVEDEL     [SPEZIA]  0.018416  54.300000\n",
      "21   L.SKORUPSKI    [BOLOGNA]  0.016813  59.476190\n",
      "0     A.CONSIGLI   [SASSUOLO]  0.016331  61.233333\n",
      "10      E.AUDERO  [SAMPDORIA]  0.016196  61.741935\n"
     ]
    }
   ],
   "source": [
    "players['GC_M'] = players['GC'] / players['M']\n",
    "players = players.sort_values(by='GC_M', ascending=False)\n",
    "top_players = players[[\"Name\", \"Team\", \"GC_M\"]].head(n=10)\n",
    "top_players['M_GC'] = players['M'] / players['GC']\n",
    "print(top_players.head(n=10))"
   ]
  },
  {
   "cell_type": "code",
   "execution_count": 30,
   "metadata": {},
   "outputs": [
    {
     "name": "stdout",
     "output_type": "stream",
     "text": [
      "            Name        Team  GC\n",
      "9       D.OSPINA    [NAPOLI]   9\n",
      "4        A.MERET    [NAPOLI]  10\n",
      "26     P.GOLLINI  [ATALANTA]  10\n",
      "27       P.LOPEZ      [ROMA]  14\n",
      "24  M.SPORTIELLO  [ATALANTA]  15\n",
      "28       P.REINA     [LAZIO]  15\n",
      "5      A.MIRANTE      [ROMA]  16\n",
      "34    W.SZCZESNY  [JUVENTUS]  16\n",
      "14  G.DONNARUMMA     [MILAN]  20\n",
      "21   L.SKORUPSKI   [BOLOGNA]  21\n"
     ]
    }
   ],
   "source": [
    "players = players.sort_values(by='GC')\n",
    "print(players[[\"Name\", \"Team\", \"GC\"]].head(n=10))"
   ]
  },
  {
   "cell_type": "code",
   "execution_count": 31,
   "metadata": {},
   "outputs": [
    {
     "name": "stdout",
     "output_type": "stream",
     "text": [
      "            Name             Team      GC_M        M_GC\n",
      "9       D.OSPINA         [NAPOLI]  0.008571  116.666667\n",
      "26     P.GOLLINI       [ATALANTA]  0.009001  111.100000\n",
      "14  G.DONNARUMMA          [MILAN]  0.010893   91.800000\n",
      "23   M.SILVESTRI  [HELLAS VERONA]  0.010955   91.285714\n",
      "34    W.SZCZESNY       [JUVENTUS]  0.011096   90.125000\n",
      "28       P.REINA          [LAZIO]  0.011161   89.600000\n",
      "30  S.HANDANOVIC          [INTER]  0.012010   83.260870\n",
      "22       M.PERIN          [GENOA]  0.012971   77.095238\n",
      "4        A.MERET         [NAPOLI]  0.012987   77.000000\n",
      "17       J.MUSSO        [UDINESE]  0.013514   74.000000\n"
     ]
    }
   ],
   "source": [
    "players['GC_M'] = players['GC'] / players['M']\n",
    "players = players.sort_values(by='GC_M')\n",
    "top_players = players[[\"Name\", \"Team\", \"GC_M\"]].head(n=10)\n",
    "top_players['M_GC'] = players['M'] / players['GC']\n",
    "print(top_players.head(n=10))"
   ]
  },
  {
   "cell_type": "code",
   "execution_count": 32,
   "metadata": {},
   "outputs": [
    {
     "name": "stdout",
     "output_type": "stream",
     "text": [
      "            Name             Team   S\n",
      "2       A.CRAGNO       [CAGLIARI]  95\n",
      "10      E.AUDERO      [SAMPDORIA]  73\n",
      "20        L.SEPE          [PARMA]  71\n",
      "1       A.CORDAZ        [CROTONE]  68\n",
      "23   M.SILVESTRI  [HELLAS VERONA]  66\n",
      "0     A.CONSIGLI       [SASSUOLO]  66\n",
      "14  G.DONNARUMMA          [MILAN]  65\n",
      "22       M.PERIN          [GENOA]  61\n",
      "19    L.MONTIPO'      [BENEVENTO]  58\n",
      "7    B.DRAGOWSKI     [FIORENTINA]  55\n"
     ]
    }
   ],
   "source": [
    "players = players.sort_values(by='S', ascending=False)\n",
    "print(players[[\"Name\", \"Team\", \"S\"]].head(n=10))"
   ]
  },
  {
   "cell_type": "code",
   "execution_count": 33,
   "metadata": {},
   "outputs": [
    {
     "name": "stdout",
     "output_type": "stream",
     "text": [
      "            Name             Team       S_M        M_S\n",
      "2       A.CRAGNO       [CAGLIARI]  0.049738  20.105263\n",
      "21   L.SKORUPSKI        [BOLOGNA]  0.041633  24.019231\n",
      "10      E.AUDERO      [SAMPDORIA]  0.038140  26.219178\n",
      "22       M.PERIN          [GENOA]  0.037678  26.540984\n",
      "20        L.SEPE          [PARMA]  0.037173  26.901408\n",
      "0     A.CONSIGLI       [SASSUOLO]  0.035928  27.833333\n",
      "1       A.CORDAZ        [CROTONE]  0.035583  28.102941\n",
      "14  G.DONNARUMMA          [MILAN]  0.035403  28.246154\n",
      "23   M.SILVESTRI  [HELLAS VERONA]  0.034429  29.045455\n",
      "28       P.REINA          [LAZIO]  0.032738  30.545455\n"
     ]
    }
   ],
   "source": [
    "players['S_M'] = players['S'] / players['M']\n",
    "players = players.sort_values(by='S_M', ascending=False)\n",
    "top_players = players[[\"Name\", \"Team\", \"S_M\"]].head(n=10)\n",
    "top_players['M_S'] = players['M'] / players['S']\n",
    "print(top_players.head(n=10))"
   ]
  },
  {
   "cell_type": "code",
   "execution_count": 34,
   "metadata": {},
   "outputs": [
    {
     "name": "stdout",
     "output_type": "stream",
     "text": [
      "            Name             Team  Set_S\n",
      "0     A.CONSIGLI       [SASSUOLO]     12\n",
      "2       A.CRAGNO       [CAGLIARI]     11\n",
      "14  G.DONNARUMMA          [MILAN]     11\n",
      "7    B.DRAGOWSKI     [FIORENTINA]     10\n",
      "20        L.SEPE          [PARMA]     10\n",
      "1       A.CORDAZ        [CROTONE]      8\n",
      "5      A.MIRANTE           [ROMA]      7\n",
      "22       M.PERIN          [GENOA]      6\n",
      "23   M.SILVESTRI  [HELLAS VERONA]      6\n",
      "28       P.REINA          [LAZIO]      6\n"
     ]
    }
   ],
   "source": [
    "players['Set_S'] = players['STP'] + players['SF']\n",
    "players = players.sort_values(by='Set_S', ascending=False)\n",
    "print(players[[\"Name\", \"Team\", \"Set_S\"]].head(n=10))"
   ]
  }
 ],
 "metadata": {
  "kernelspec": {
   "display_name": "Python 3",
   "language": "python",
   "name": "python3"
  },
  "language_info": {
   "codemirror_mode": {
    "name": "ipython",
    "version": 3
   },
   "file_extension": ".py",
   "mimetype": "text/x-python",
   "name": "python",
   "nbconvert_exporter": "python",
   "pygments_lexer": "ipython3",
   "version": "3.7.4"
  }
 },
 "nbformat": 4,
 "nbformat_minor": 2
}
