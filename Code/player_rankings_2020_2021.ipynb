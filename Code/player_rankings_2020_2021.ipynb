{
 "cells": [
  {
   "cell_type": "code",
   "execution_count": 1,
   "metadata": {},
   "outputs": [],
   "source": [
    "import os\n",
    "import csv\n",
    "import pandas as pd\n",
    "import numpy as np\n",
    "import math"
   ]
  },
  {
   "cell_type": "code",
   "execution_count": 2,
   "metadata": {},
   "outputs": [
    {
     "name": "stdout",
     "output_type": "stream",
     "text": [
      "750.0\n",
      "8\n"
     ]
    }
   ],
   "source": [
    "thisdir = os.getcwd()\n",
    "thisdir += \"/2020-2021/Player Data/Non-goalkeeper/\"\n",
    "csv_list = []\n",
    "\n",
    "n_games = 25 #total games played\n",
    "min_time = n_games / 3 * 90 #min time played to be eligible\n",
    "min_games = math.floor(n_games / 3) #min games played to be eligible\n",
    "print(min_time)\n",
    "print(min_games)"
   ]
  },
  {
   "cell_type": "code",
   "execution_count": 3,
   "metadata": {},
   "outputs": [],
   "source": [
    "for r, d, f in os.walk(thisdir):\n",
    "    for file in f:\n",
    "        if file.endswith(\".csv\"):\n",
    "            csv_list.append(os.path.join(r, file))\n",
    "\n",
    "csv_list = sorted(csv_list)"
   ]
  },
  {
   "cell_type": "code",
   "execution_count": 4,
   "metadata": {},
   "outputs": [],
   "source": [
    "def convert_to_minutes(row):\n",
    "    return int(row['M'][:-1])\n",
    "\n",
    "def convert_to_int(row, col):\n",
    "    return int(row[col])"
   ]
  },
  {
   "cell_type": "code",
   "execution_count": 7,
   "metadata": {},
   "outputs": [],
   "source": [
    "players = []\n",
    "\n",
    "for csv_file in csv_list:\n",
    "#     print(csv_file)\n",
    "    if csv_file[-5:] == \"/.csv\":\n",
    "        continue\n",
    "    player_data = pd.read_csv(csv_file, encoding='latin-1')\n",
    "    player_data[\"M_played\"] = player_data.apply(lambda row:convert_to_minutes(row), axis=1)\n",
    "    player_data = player_data.astype({'G':'int32', 'OG':'int32', 'A':'int32', 'AT':'int32', 'BS':'int32', 'SC':'int32', 'FS':'int32', 'BP':'int32', 'AS':'int32', 'KP':'int32', 'P':'int32', 'P%':'int32', 'R':'int32', 'FYC':'int32', 'SYC':'int32', 'RC':'int32'})\n",
    "\n",
    "    players.append([player_data[\"Name\"].unique()[0], player_data[\"Team\"].unique(), player_data[\"M_played\"].sum(), player_data[\"G\"].sum(), player_data[\"OG\"].sum(), player_data[\"A\"].sum(), player_data[\"AT\"].sum(), player_data[\"BS\"].sum(), player_data[\"SC\"].sum(), player_data[\"FS\"].sum(), player_data[\"BP\"].sum(), player_data[\"AS\"].sum(), player_data[\"KP\"].sum(), player_data[\"P\"].sum(), player_data[\"P%\"].sum()  / player_data[\"P%\"].size, player_data[\"R\"].sum(), player_data[\"FYC\"].sum(), player_data[\"SYC\"].sum(), player_data[\"RC\"].sum(), player_data[\"M_played\"].size])\n",
    "\n",
    "players = pd.DataFrame(np.array(players), columns=['Name', 'Team' , 'M', 'G', 'OG', 'A', 'AT', 'BS', 'SC', 'FS', 'BP', 'AS', 'KP', 'P', 'P%', 'R', 'FYC', 'SYC', 'RC', \"N\"])\n",
    "players = players.astype({'M':'int32', 'G':'int32', 'OG':'int32', 'A':'int32', 'AT':'int32', 'BS':'int32', 'SC':'int32', 'FS':'int32', 'BP':'int32', 'AS':'int32', 'KP':'int32', 'P':'int32', 'P%':'float', 'R':'int32', 'FYC':'int32', 'SYC':'int32', 'RC':'int32', 'N':'int32'})\n",
    "players = players[players['M'] >= min_time]\n",
    "players = players[players['N'] >= min_games]"
   ]
  },
  {
   "cell_type": "code",
   "execution_count": 8,
   "metadata": {},
   "outputs": [
    {
     "name": "stdout",
     "output_type": "stream",
     "text": [
      "             Name                 Team     M\n",
      "211    G.PEZZELLA  [PARMA, FIORENTINA]  2989\n",
      "309  L.PELLEGRINI        [ROMA, GENOA]  2636\n",
      "446     R.SORIANO            [BOLOGNA]  2353\n",
      "267    JOAO PEDRO           [CAGLIARI]  2322\n",
      "419     R.DE PAUL            [UDINESE]  2287\n",
      "294      L.DANILO            [BOLOGNA]  2275\n",
      "254     J.MESSIAS            [CROTONE]  2268\n",
      "277        K.GLIK          [BENEVENTO]  2259\n",
      "169      F.KESSIE              [MILAN]  2216\n",
      "485     T.AUGELLO          [SAMPDORIA]  2212\n"
     ]
    }
   ],
   "source": [
    "players = players.sort_values(by='M', ascending=False)\n",
    "print(players[[\"Name\", \"Team\", \"M\"]].head(n=10))"
   ]
  },
  {
   "cell_type": "code",
   "execution_count": 9,
   "metadata": {},
   "outputs": [
    {
     "name": "stdout",
     "output_type": "stream",
     "text": [
      "             Name          Team        M_N\n",
      "85         BREMER      [TORINO]  96.947368\n",
      "488   T.HERNANDEZ       [MILAN]  96.363636\n",
      "196     G.FERRARI    [SASSUOLO]  96.363636\n",
      "57    A.ROMAGNOLI       [MILAN]  96.105263\n",
      "193  G.DI LORENZO      [NAPOLI]  95.956522\n",
      "492    T.TOMIYASU     [BOLOGNA]  95.565217\n",
      "419     R.DE PAUL     [UDINESE]  95.291667\n",
      "5       A.BELOTTI      [TORINO]  95.090909\n",
      "348   M.LOCATELLI    [SASSUOLO]  95.045455\n",
      "388  N.MILENKOVIC  [FIORENTINA]  94.913043\n"
     ]
    }
   ],
   "source": [
    "players['M_N'] = players['M'] / players['N']\n",
    "players = players.sort_values(by='M_N', ascending=False)\n",
    "print(players[[\"Name\", \"Team\", \"M_N\"]].head(n=10))"
   ]
  },
  {
   "cell_type": "code",
   "execution_count": 10,
   "metadata": {},
   "outputs": [
    {
     "name": "stdout",
     "output_type": "stream",
     "text": [
      "              Name        Team   G\n",
      "101      C.RONALDO  [JUVENTUS]  20\n",
      "433       R.LUKAKU     [INTER]  18\n",
      "307       L.MURIEL  [ATALANTA]  15\n",
      "91      C.IMMOBILE     [LAZIO]  14\n",
      "513  Z.IBRAHIMOVIC     [MILAN]  14\n",
      "305     L.MARTINEZ     [INTER]  13\n",
      "267     JOAO PEDRO  [CAGLIARI]  12\n",
      "299      L.INSIGNE    [NAPOLI]  11\n",
      "5        A.BELOTTI    [TORINO]  11\n",
      "159       F.CAPUTO  [SASSUOLO]  11\n"
     ]
    }
   ],
   "source": [
    "players = players.sort_values(by='G', ascending=False)\n",
    "print(players[[\"Name\", \"Team\", \"G\"]].head(n=10))"
   ]
  },
  {
   "cell_type": "code",
   "execution_count": 11,
   "metadata": {},
   "outputs": [
    {
     "name": "stdout",
     "output_type": "stream",
     "text": [
      "              Name        Team       G_M         M_G\n",
      "307       L.MURIEL  [ATALANTA]  0.015924   62.800000\n",
      "513  Z.IBRAHIMOVIC     [MILAN]  0.012048   83.000000\n",
      "101      C.RONALDO  [JUVENTUS]  0.010417   96.000000\n",
      "433       R.LUKAKU     [INTER]  0.009105  109.833333\n",
      "338       M.DESTRO     [GENOA]  0.008212  121.777778\n",
      "91      C.IMMOBILE     [LAZIO]  0.007613  131.357143\n",
      "305     L.MARTINEZ     [INTER]  0.007378  135.538462\n",
      "159       F.CAPUTO  [SASSUOLO]  0.007328  136.454545\n",
      "354        M.NZOLA    [SPEZIA]  0.007276  137.444444\n",
      "157      F.CAICEDO     [LAZIO]  0.007026  142.333333\n"
     ]
    }
   ],
   "source": [
    "players['G_M'] = players['G'] / players['M']\n",
    "players = players.sort_values(by='G_M', ascending=False)\n",
    "top_players = players[[\"Name\", \"Team\", \"G_M\"]].head(n=10)\n",
    "top_players['M_G'] = players['M'] / players['G']\n",
    "print(top_players.head(n=10))"
   ]
  },
  {
   "cell_type": "code",
   "execution_count": 12,
   "metadata": {},
   "outputs": [
    {
     "name": "stdout",
     "output_type": "stream",
     "text": [
      "              Name        Team    A\n",
      "101      C.RONALDO  [JUVENTUS]  105\n",
      "299      L.INSIGNE    [NAPOLI]   85\n",
      "305     L.MARTINEZ     [INTER]   74\n",
      "5        A.BELOTTI    [TORINO]   71\n",
      "433       R.LUKAKU     [INTER]   64\n",
      "224   H.MKHITARYAN      [ROMA]   64\n",
      "91      C.IMMOBILE     [LAZIO]   63\n",
      "107      D.BERARDI  [SASSUOLO]   61\n",
      "513  Z.IBRAHIMOVIC     [MILAN]   61\n",
      "254      J.MESSIAS   [CROTONE]   60\n"
     ]
    }
   ],
   "source": [
    "players = players.sort_values(by='A', ascending=False)\n",
    "print(players[[\"Name\", \"Team\", \"A\"]].head(n=10))"
   ]
  },
  {
   "cell_type": "code",
   "execution_count": 13,
   "metadata": {},
   "outputs": [
    {
     "name": "stdout",
     "output_type": "stream",
     "text": [
      "              Name        Team       A_M        M_A\n",
      "307       L.MURIEL  [ATALANTA]  0.055202  18.115385\n",
      "101      C.RONALDO  [JUVENTUS]  0.054688  18.285714\n",
      "513  Z.IBRAHIMOVIC     [MILAN]  0.052496  19.049180\n",
      "299      L.INSIGNE    [NAPOLI]  0.049447  20.223529\n",
      "305     L.MARTINEZ     [INTER]  0.041998  23.810811\n",
      "247       J.ILICIC  [ATALANTA]  0.038623  25.891304\n",
      "127      D.MERTENS    [NAPOLI]  0.038502  25.972973\n",
      "107      D.BERARDI  [SASSUOLO]  0.036769  27.196721\n",
      "91      C.IMMOBILE     [LAZIO]  0.034258  29.190476\n",
      "5        A.BELOTTI    [TORINO]  0.033939  29.464789\n"
     ]
    }
   ],
   "source": [
    "players['A_M'] = players['A'] / players['M']\n",
    "players = players.sort_values(by='A_M', ascending=False)\n",
    "top_players = players[[\"Name\", \"Team\", \"A_M\"]].head(n=10)\n",
    "top_players['M_A'] = players['M'] / players['A']\n",
    "print(top_players.head(n=10))"
   ]
  },
  {
   "cell_type": "code",
   "execution_count": 14,
   "metadata": {},
   "outputs": [
    {
     "name": "stdout",
     "output_type": "stream",
     "text": [
      "                   Name                    Team  AS\n",
      "221        H.CALHANOGLU                 [MILAN]   8\n",
      "224        H.MKHITARYAN                  [ROMA]   8\n",
      "307            L.MURIEL              [ATALANTA]   7\n",
      "469  S.MILINKOVIC-SAVIC                 [LAZIO]   7\n",
      "247            J.ILICIC              [ATALANTA]   6\n",
      "433            R.LUKAKU                 [INTER]   6\n",
      "309        L.PELLEGRINI           [ROMA, GENOA]   6\n",
      "134            D.ZAPATA              [ATALANTA]   6\n",
      "326          M.BROZOVIC                 [INTER]   6\n",
      "10           A.CANDREVA             [SAMPDORIA]   6\n",
      "44             A.MORATA              [JUVENTUS]   6\n",
      "127           D.MERTENS                [NAPOLI]   6\n",
      "429          R.KARSDORP                  [ROMA]   5\n",
      "5             A.BELOTTI                [TORINO]   5\n",
      "419           R.DE PAUL               [UDINESE]   5\n",
      "446           R.SORIANO               [BOLOGNA]   5\n",
      "244          J.CUADRADO              [JUVENTUS]   5\n",
      "432              R.LEAO                 [MILAN]   5\n",
      "324            M.BARROW               [BOLOGNA]   5\n",
      "299           L.INSIGNE                [NAPOLI]   5\n",
      "377          M.ZACCAGNI         [HELLAS VERONA]   5\n",
      "60            A.SANCHEZ                 [INTER]   5\n",
      "162            F.CHIESA  [FIORENTINA, JUVENTUS]   5\n",
      "382           N.BARELLA                 [INTER]   5\n",
      "478             S.VERDI                [TORINO]   4\n"
     ]
    }
   ],
   "source": [
    "players = players.sort_values(by='AS', ascending=False)\n",
    "print(players[[\"Name\", \"Team\", \"AS\"]].head(n=25))"
   ]
  },
  {
   "cell_type": "code",
   "execution_count": 15,
   "metadata": {},
   "outputs": [
    {
     "name": "stdout",
     "output_type": "stream",
     "text": [
      "             Name        Team      AS_M        M_AS\n",
      "307      L.MURIEL  [ATALANTA]  0.007431  134.571429\n",
      "127     D.MERTENS    [NAPOLI]  0.006243  160.166667\n",
      "60      A.SANCHEZ     [INTER]  0.005663  176.600000\n",
      "247      J.ILICIC  [ATALANTA]  0.005038  198.500000\n",
      "44       A.MORATA  [JUVENTUS]  0.004713  212.166667\n",
      "221  H.CALHANOGLU     [MILAN]  0.004670  214.125000\n",
      "478       S.VERDI    [TORINO]  0.004175  239.500000\n",
      "52       A.RAMSEY  [JUVENTUS]  0.004154  240.750000\n",
      "134      D.ZAPATA  [ATALANTA]  0.003924  254.833333\n",
      "244    J.CUADRADO  [JUVENTUS]  0.003861  259.000000\n"
     ]
    }
   ],
   "source": [
    "players['AS_M'] = players['AS'] / players['M']\n",
    "players = players.sort_values(by='AS_M', ascending=False)\n",
    "top_players = players[[\"Name\", \"Team\", \"AS_M\"]].head(n=10)\n",
    "top_players['M_AS'] = players['M'] / players['AS']\n",
    "print(top_players.head(n=10))"
   ]
  },
  {
   "cell_type": "code",
   "execution_count": 16,
   "metadata": {},
   "outputs": [
    {
     "name": "stdout",
     "output_type": "stream",
     "text": [
      "             Name                 Team    BP\n",
      "348   M.LOCATELLI           [SASSUOLO]  2181\n",
      "193  G.DI LORENZO             [NAPOLI]  1951\n",
      "196     G.FERRARI           [SASSUOLO]  1921\n",
      "136        DANILO           [JUVENTUS]  1911\n",
      "309  L.PELLEGRINI        [ROMA, GENOA]  1878\n",
      "419     R.DE PAUL            [UDINESE]  1863\n",
      "211    G.PEZZELLA  [PARMA, FIORENTINA]  1861\n",
      "110    D.CALABRIA              [MILAN]  1740\n",
      "4       A.BASTONI              [INTER]  1726\n",
      "488   T.HERNANDEZ              [MILAN]  1644\n"
     ]
    }
   ],
   "source": [
    "players = players.sort_values(by='BP', ascending=False)\n",
    "print(players[[\"Name\", \"Team\", \"BP\"]].head(n=10))"
   ]
  },
  {
   "cell_type": "code",
   "execution_count": 17,
   "metadata": {},
   "outputs": [
    {
     "name": "stdout",
     "output_type": "stream",
     "text": [
      "            Name        Team      BP_M      M_BP\n",
      "348  M.LOCATELLI  [SASSUOLO]  1.043042  0.958735\n",
      "71        ARTHUR  [JUVENTUS]  0.989842  1.010262\n",
      "115      D.DEMME    [NAPOLI]  0.949015  1.053724\n",
      "380    MARIO RUI    [NAPOLI]  0.942529  1.060976\n",
      "417  R.BENTANCUR  [JUVENTUS]  0.929311  1.076066\n",
      "136       DANILO  [JUVENTUS]  0.927220  1.078493\n",
      "244   J.CUADRADO  [JUVENTUS]  0.926641  1.079167\n",
      "495  V.CHIRICHES  [SASSUOLO]  0.917722  1.089655\n",
      "181  FABIAN RUIZ    [NAPOLI]  0.916160  1.091513\n",
      "326   M.BROZOVIC     [INTER]  0.914286  1.093750\n"
     ]
    }
   ],
   "source": [
    "players['BP_M'] = players['BP'] / players['M']\n",
    "players = players.sort_values(by='BP_M', ascending=False)\n",
    "top_players = players[[\"Name\", \"Team\", \"BP_M\"]].head(n=10)\n",
    "top_players['M_BP'] = players['M'] / players['BP']\n",
    "print(top_players.head(n=10))"
   ]
  },
  {
   "cell_type": "code",
   "execution_count": 18,
   "metadata": {},
   "outputs": [
    {
     "name": "stdout",
     "output_type": "stream",
     "text": [
      "             Name                 Team     P\n",
      "348   M.LOCATELLI           [SASSUOLO]  1586\n",
      "196     G.FERRARI           [SASSUOLO]  1536\n",
      "136        DANILO           [JUVENTUS]  1398\n",
      "4       A.BASTONI              [INTER]  1341\n",
      "368    M.SKRINIAR              [INTER]  1261\n",
      "193  G.DI LORENZO             [NAPOLI]  1245\n",
      "455     S.DE VRIJ              [INTER]  1206\n",
      "326    M.BROZOVIC              [INTER]  1201\n",
      "211    G.PEZZELLA  [PARMA, FIORENTINA]  1136\n",
      "335     M.DE ROON           [ATALANTA]  1126\n"
     ]
    }
   ],
   "source": [
    "players = players.sort_values(by='P', ascending=False)\n",
    "print(players[[\"Name\", \"Team\", \"P\"]].head(n=10))"
   ]
  },
  {
   "cell_type": "code",
   "execution_count": 19,
   "metadata": {},
   "outputs": [
    {
     "name": "stdout",
     "output_type": "stream",
     "text": [
      "             Name        Team       P_M       M_P\n",
      "71         ARTHUR  [JUVENTUS]  0.825056  1.212038\n",
      "348   M.LOCATELLI  [SASSUOLO]  0.758489  1.318411\n",
      "334     M.DE LIGT  [JUVENTUS]  0.729683  1.370457\n",
      "196     G.FERRARI  [SASSUOLO]  0.724528  1.380208\n",
      "115       D.DEMME    [NAPOLI]  0.724218  1.380800\n",
      "279   K.KOULIBALY    [NAPOLI]  0.723906  1.381395\n",
      "387  N.MAKSIMOVIC    [NAPOLI]  0.723108  1.382920\n",
      "381        MARLON  [SASSUOLO]  0.714561  1.399460\n",
      "495   V.CHIRICHES  [SASSUOLO]  0.713382  1.401774\n",
      "181   FABIAN RUIZ    [NAPOLI]  0.695064  1.438716\n"
     ]
    }
   ],
   "source": [
    "players['P_M'] = players['P'] / players['M']\n",
    "players = players.sort_values(by='P_M', ascending=False)\n",
    "top_players = players[[\"Name\", \"Team\", \"P_M\"]].head(n=10)\n",
    "top_players['M_P'] = players['M'] / players['P']\n",
    "print(top_players.head(n=10))"
   ]
  },
  {
   "cell_type": "code",
   "execution_count": 20,
   "metadata": {},
   "outputs": [
    {
     "name": "stdout",
     "output_type": "stream",
     "text": [
      "             Name        Team         P%\n",
      "71         ARTHUR  [JUVENTUS]  94.769231\n",
      "368    M.SKRINIAR     [INTER]  92.523810\n",
      "334     M.DE LIGT  [JUVENTUS]  92.500000\n",
      "455     S.DE VRIJ     [INTER]  92.434783\n",
      "387  N.MAKSIMOVIC    [NAPOLI]  92.428571\n",
      "349       M.LOPEZ  [SASSUOLO]  91.882353\n",
      "495   V.CHIRICHES  [SASSUOLO]  91.384615\n",
      "417   R.BENTANCUR  [JUVENTUS]  91.181818\n",
      "196     G.FERRARI  [SASSUOLO]  91.045455\n",
      "283     K.MANOLAS    [NAPOLI]  91.000000\n"
     ]
    }
   ],
   "source": [
    "players = players.sort_values(by='P%', ascending=False)\n",
    "print(players[[\"Name\", \"Team\", \"P%\"]].head(n=10))"
   ]
  },
  {
   "cell_type": "code",
   "execution_count": 21,
   "metadata": {},
   "outputs": [
    {
     "name": "stdout",
     "output_type": "stream",
     "text": [
      "             Name             Team  KP\n",
      "247      J.ILICIC       [ATALANTA]  28\n",
      "419     R.DE PAUL        [UDINESE]  27\n",
      "221  H.CALHANOGLU          [MILAN]  20\n",
      "309  L.PELLEGRINI    [ROMA, GENOA]  19\n",
      "319  LUIS ALBERTO          [LAZIO]  17\n",
      "107     D.BERARDI       [SASSUOLO]  17\n",
      "446     R.SORIANO        [BOLOGNA]  16\n",
      "377    M.ZACCAGNI  [HELLAS VERONA]  15\n",
      "437       R.MARIN       [CAGLIARI]  14\n",
      "31       A.HAKIMI          [INTER]  14\n",
      "313  L.SPINAZZOLA           [ROMA]  13\n",
      "224  H.MKHITARYAN           [ROMA]  13\n",
      "382     N.BARELLA          [INTER]  13\n",
      "324      M.BARROW        [BOLOGNA]  12\n",
      "164     F.DIMARCO  [HELLAS VERONA]  12\n"
     ]
    }
   ],
   "source": [
    "players = players.sort_values(by='KP', ascending=False)\n",
    "print(players[[\"Name\", \"Team\", \"KP\"]].head(n=15))"
   ]
  },
  {
   "cell_type": "code",
   "execution_count": 22,
   "metadata": {},
   "outputs": [
    {
     "name": "stdout",
     "output_type": "stream",
     "text": [
      "              Name        Team      KP_M        M_KP\n",
      "247       J.ILICIC  [ATALANTA]  0.023510   42.535714\n",
      "419      R.DE PAUL   [UDINESE]  0.011806   84.703704\n",
      "221   H.CALHANOGLU     [MILAN]  0.011675   85.650000\n",
      "86     BRUNO PERES      [ROMA]  0.010465   95.555556\n",
      "107      D.BERARDI  [SASSUOLO]  0.010247   97.588235\n",
      "60       A.SANCHEZ     [INTER]  0.010193   98.111111\n",
      "319   LUIS ALBERTO     [LAZIO]  0.010065   99.352941\n",
      "48       A.PETAGNA    [NAPOLI]  0.008946  111.777778\n",
      "508     W.MCKENNIE  [JUVENTUS]  0.008765  114.090909\n",
      "434  R.MALINOVSKYI  [ATALANTA]  0.008749  114.300000\n"
     ]
    }
   ],
   "source": [
    "players['KP_M'] = players['KP'] / players['M']\n",
    "players = players.sort_values(by='KP_M', ascending=False)\n",
    "top_players = players[[\"Name\", \"Team\", \"KP_M\"]].head(n=10)\n",
    "top_players['M_KP'] = players['M'] / players['KP']\n",
    "print(top_players.head(n=10))"
   ]
  },
  {
   "cell_type": "code",
   "execution_count": 23,
   "metadata": {
    "scrolled": true
   },
   "outputs": [
    {
     "name": "stdout",
     "output_type": "stream",
     "text": [
      "            Name             Team  FS\n",
      "5      A.BELOTTI         [TORINO]  93\n",
      "419    R.DE PAUL        [UDINESE]  87\n",
      "377   M.ZACCAGNI  [HELLAS VERONA]  70\n",
      "254    J.MESSIAS        [CROTONE]  66\n",
      "267   JOAO PEDRO       [CAGLIARI]  62\n",
      "223     H.LOZANO         [NAPOLI]  59\n",
      "488  T.HERNANDEZ          [MILAN]  55\n",
      "250      J.KUCKA          [PARMA]  54\n",
      "247     J.ILICIC       [ATALANTA]  53\n",
      "177     F.RIBERY     [FIORENTINA]  50\n"
     ]
    }
   ],
   "source": [
    "players = players.sort_values(by='FS', ascending=False)\n",
    "print(players[[\"Name\", \"Team\", \"FS\"]].head(n=10))"
   ]
  },
  {
   "cell_type": "code",
   "execution_count": 24,
   "metadata": {
    "scrolled": true
   },
   "outputs": [
    {
     "name": "stdout",
     "output_type": "stream",
     "text": [
      "             Name                      Team      FS_M       M_FS\n",
      "247      J.ILICIC                [ATALANTA]  0.044500  22.471698\n",
      "5       A.BELOTTI                  [TORINO]  0.044455  22.494624\n",
      "419     R.DE PAUL                 [UDINESE]  0.038041  26.287356\n",
      "377    M.ZACCAGNI           [HELLAS VERONA]  0.037096  26.957143\n",
      "223      H.LOZANO                  [NAPOLI]  0.035910  27.847458\n",
      "177      F.RIBERY              [FIORENTINA]  0.035236  28.380000\n",
      "207      G.PANDEV                   [GENOA]  0.034591  28.909091\n",
      "212     G.RAMIREZ               [SAMPDORIA]  0.034520  28.968750\n",
      "407     P.HETEMAJ               [BENEVENTO]  0.032775  30.510638\n",
      "457  S.DI CARMINE  [HELLAS VERONA, CROTONE]  0.032475  30.793103\n"
     ]
    }
   ],
   "source": [
    "players['FS_M'] = players['FS'] / players['M']\n",
    "players = players.sort_values(by='FS_M', ascending=False)\n",
    "top_players = players[[\"Name\", \"Team\", \"FS_M\"]].head(n=10)\n",
    "top_players['M_FS'] = players['M'] / players['FS']\n",
    "print(top_players.head(n=10))"
   ]
  },
  {
   "cell_type": "code",
   "execution_count": 25,
   "metadata": {},
   "outputs": [
    {
     "name": "stdout",
     "output_type": "stream",
     "text": [
      "             Name                 Team    R\n",
      "492    T.TOMIYASU            [BOLOGNA]  232\n",
      "211    G.PEZZELLA  [PARMA, FIORENTINA]  217\n",
      "100      C.ROMERO           [ATALANTA]  208\n",
      "277        K.GLIK          [BENEVENTO]  208\n",
      "153      F.ACERBI              [LAZIO]  205\n",
      "388  N.MILENKOVIC         [FIORENTINA]  201\n",
      "85         BREMER             [TORINO]  196\n",
      "425      R.IBANEZ               [ROMA]  193\n",
      "294      L.DANILO            [BOLOGNA]  185\n",
      "399      O.COLLEY          [SAMPDORIA]  177\n"
     ]
    }
   ],
   "source": [
    "players = players.sort_values(by='R', ascending=False)\n",
    "print(players[[\"Name\", \"Team\", \"R\"]].head(n=10))"
   ]
  },
  {
   "cell_type": "code",
   "execution_count": 26,
   "metadata": {},
   "outputs": [
    {
     "name": "stdout",
     "output_type": "stream",
     "text": [
      "             Name             Team       R_M       M_R\n",
      "202     G.MAGNANI  [HELLAS VERONA]  0.155399  6.435028\n",
      "278      K.GUNTER  [HELLAS VERONA]  0.132378  7.554140\n",
      "100      C.ROMERO       [ATALANTA]  0.125908  7.942308\n",
      "495   V.CHIRICHES       [SASSUOLO]  0.112116  8.919355\n",
      "290  L.CEPPITELLI       [CAGLIARI]  0.109639  9.120879\n",
      "85         BREMER         [TORINO]  0.106406  9.397959\n",
      "122       D.GODIN       [CAGLIARI]  0.106341  9.403727\n",
      "323        M.BANI   [GENOA, PARMA]  0.105784  9.453237\n",
      "492    T.TOMIYASU        [BOLOGNA]  0.105551  9.474138\n",
      "153      F.ACERBI          [LAZIO]  0.105398  9.487805\n"
     ]
    }
   ],
   "source": [
    "players['R_M'] = players['R'] / players['M']\n",
    "players = players.sort_values(by='R_M', ascending=False)\n",
    "top_players = players[[\"Name\", \"Team\", \"R_M\"]].head(n=10)\n",
    "top_players['M_R'] = players['M'] / players['R']\n",
    "print(top_players.head(n=10))"
   ]
  },
  {
   "cell_type": "code",
   "execution_count": 27,
   "metadata": {},
   "outputs": [],
   "source": [
    "thisdir = os.getcwd()\n",
    "thisdir += \"/2020-2021/Player Data/Goalkeeper/\"\n",
    "csv_list = []\n",
    "\n",
    "for r, d, f in os.walk(thisdir):\n",
    "    for file in f:\n",
    "        if file.endswith(\".csv\"):\n",
    "            csv_list.append(os.path.join(r, file))\n",
    "\n",
    "csv_list = sorted(csv_list)\n",
    "\n",
    "players = []\n",
    "\n",
    "for csv_file in csv_list:\n",
    "#     print(csv_file)\n",
    "    if csv_file[-5:] == \"/.csv\":\n",
    "        continue\n",
    "    player_data = pd.read_csv(csv_file, encoding='latin-1')\n",
    "    player_data[\"M_played\"] = player_data.apply(lambda row:convert_to_minutes(row), axis=1)\n",
    "    player_data = player_data.astype({'GC':'int32', 'OG':'int32', 'S':'int32', 'STP':'int32', 'SF':'int32', 'FYC':'int32', 'SYC':'int32', 'RC':'int32'})\n",
    "\n",
    "    players.append([player_data[\"Name\"].unique()[0], player_data[\"Team\"].unique(), player_data[\"M_played\"].sum(), player_data[\"GC\"].sum(), player_data[\"OG\"].sum(), player_data[\"S\"].sum(), player_data[\"STP\"].sum(), player_data[\"SF\"].sum(), player_data[\"FYC\"].sum(), player_data[\"SYC\"].sum(), player_data[\"RC\"].sum(), player_data[\"M_played\"].size])\n",
    "\n",
    "players = pd.DataFrame(np.array(players), columns=['Name', 'Team' , 'M', 'GC', 'OG', 'S', 'STP', 'SF', 'FYC', 'SYC', 'RC', 'N'])\n",
    "players = players.astype({'M':'int32', 'GC':'int32', 'OG':'int32', 'S':'int32', 'STP':'int32', 'SF':'int32', 'FYC':'int32', 'SYC':'int32', 'RC':'int32', 'N':'int32'})\n",
    "players = players[players['M'] >= min_time]\n",
    "players = players[players['N'] >= min_games]"
   ]
  },
  {
   "cell_type": "code",
   "execution_count": 28,
   "metadata": {},
   "outputs": [
    {
     "name": "stdout",
     "output_type": "stream",
     "text": [
      "            Name             Team     M\n",
      "7    B.DRAGOWSKI     [FIORENTINA]  2406\n",
      "23   M.SILVESTRI  [HELLAS VERONA]  2396\n",
      "30  S.HANDANOVIC          [INTER]  2394\n",
      "19    L.MONTIPO'      [BENEVENTO]  2393\n",
      "20        L.SEPE          [PARMA]  2392\n",
      "2       A.CRAGNO       [CAGLIARI]  2391\n",
      "10      E.AUDERO      [SAMPDORIA]  2389\n",
      "1       A.CORDAZ        [CROTONE]  2383\n",
      "14  G.DONNARUMMA          [MILAN]  2309\n",
      "0     A.CONSIGLI       [SASSUOLO]  2223\n"
     ]
    }
   ],
   "source": [
    "players = players.sort_values(by='M', ascending=False)\n",
    "print(players[[\"Name\", \"Team\", \"M\"]].head(n=10))"
   ]
  },
  {
   "cell_type": "code",
   "execution_count": 29,
   "metadata": {},
   "outputs": [
    {
     "name": "stdout",
     "output_type": "stream",
     "text": [
      "            Name          Team        M_N\n",
      "31      S.SIRIGU      [TORINO]  97.190476\n",
      "0     A.CONSIGLI    [SASSUOLO]  96.652174\n",
      "4        A.MERET      [NAPOLI]  96.333333\n",
      "7    B.DRAGOWSKI  [FIORENTINA]  96.240000\n",
      "14  G.DONNARUMMA       [MILAN]  96.208333\n",
      "34    W.SZCZESNY    [JUVENTUS]  96.157895\n",
      "17       J.MUSSO     [UDINESE]  96.086957\n",
      "28       P.REINA       [LAZIO]  96.000000\n",
      "21   L.SKORUPSKI     [BOLOGNA]  96.000000\n",
      "16    I.PROVEDEL      [SPEZIA]  95.954545\n"
     ]
    }
   ],
   "source": [
    "players['M_N'] = players['M'] / players['N']\n",
    "players = players.sort_values(by='M_N', ascending=False)\n",
    "print(players[[\"Name\", \"Team\", \"M_N\"]].head(n=10))"
   ]
  },
  {
   "cell_type": "code",
   "execution_count": 30,
   "metadata": {},
   "outputs": [
    {
     "name": "stdout",
     "output_type": "stream",
     "text": [
      "           Name          Team  GC\n",
      "1      A.CORDAZ     [CROTONE]  62\n",
      "20       L.SEPE       [PARMA]  49\n",
      "19   L.MONTIPO'   [BENEVENTO]  47\n",
      "2      A.CRAGNO    [CAGLIARI]  41\n",
      "16   I.PROVEDEL      [SPEZIA]  39\n",
      "7   B.DRAGOWSKI  [FIORENTINA]  38\n",
      "31     S.SIRIGU      [TORINO]  37\n",
      "10     E.AUDERO   [SAMPDORIA]  37\n",
      "0    A.CONSIGLI    [SASSUOLO]  37\n",
      "17      J.MUSSO     [UDINESE]  29\n"
     ]
    }
   ],
   "source": [
    "players = players.sort_values(by='GC', ascending=False)\n",
    "print(players[[\"Name\", \"Team\", \"GC\"]].head(n=10))"
   ]
  },
  {
   "cell_type": "code",
   "execution_count": 31,
   "metadata": {},
   "outputs": [
    {
     "name": "stdout",
     "output_type": "stream",
     "text": [
      "            Name          Team      GC_M       M_GC\n",
      "1       A.CORDAZ     [CROTONE]  0.026018  38.435484\n",
      "20        L.SEPE       [PARMA]  0.020485  48.816327\n",
      "19    L.MONTIPO'   [BENEVENTO]  0.019641  50.914894\n",
      "16    I.PROVEDEL      [SPEZIA]  0.018475  54.128205\n",
      "31      S.SIRIGU      [TORINO]  0.018128  55.162162\n",
      "2       A.CRAGNO    [CAGLIARI]  0.017148  58.317073\n",
      "0     A.CONSIGLI    [SASSUOLO]  0.016644  60.081081\n",
      "24  M.SPORTIELLO    [ATALANTA]  0.016427  60.875000\n",
      "7    B.DRAGOWSKI  [FIORENTINA]  0.015794  63.315789\n",
      "5      A.MIRANTE        [ROMA]  0.015640  63.937500\n"
     ]
    }
   ],
   "source": [
    "players['GC_M'] = players['GC'] / players['M']\n",
    "players = players.sort_values(by='GC_M', ascending=False)\n",
    "top_players = players[[\"Name\", \"Team\", \"GC_M\"]].head(n=10)\n",
    "top_players['M_GC'] = players['M'] / players['GC']\n",
    "print(top_players.head(n=10))"
   ]
  },
  {
   "cell_type": "code",
   "execution_count": 33,
   "metadata": {},
   "outputs": [
    {
     "name": "stdout",
     "output_type": "stream",
     "text": [
      "            Name        Team  GC\n",
      "9       D.OSPINA    [NAPOLI]  11\n",
      "26     P.GOLLINI  [ATALANTA]  16\n",
      "5      A.MIRANTE      [ROMA]  16\n",
      "24  M.SPORTIELLO  [ATALANTA]  16\n",
      "4        A.MERET    [NAPOLI]  17\n",
      "34    W.SZCZESNY  [JUVENTUS]  18\n",
      "27       P.LOPEZ      [ROMA]  19\n",
      "28       P.REINA     [LAZIO]  20\n",
      "21   L.SKORUPSKI   [BOLOGNA]  24\n",
      "30  S.HANDANOVIC     [INTER]  25\n"
     ]
    }
   ],
   "source": [
    "players = players.sort_values(by='GC')\n",
    "print(players[[\"Name\", \"Team\", \"GC\"]].head(n=10))"
   ]
  },
  {
   "cell_type": "code",
   "execution_count": 34,
   "metadata": {},
   "outputs": [
    {
     "name": "stdout",
     "output_type": "stream",
     "text": [
      "            Name             Team      GC_M        M_GC\n",
      "9       D.OSPINA         [NAPOLI]  0.009615  104.000000\n",
      "34    W.SZCZESNY       [JUVENTUS]  0.009852  101.500000\n",
      "30  S.HANDANOVIC          [INTER]  0.010443   95.760000\n",
      "23   M.SILVESTRI  [HELLAS VERONA]  0.011269   88.740741\n",
      "26     P.GOLLINI       [ATALANTA]  0.011412   87.625000\n",
      "28       P.REINA          [LAZIO]  0.011574   86.400000\n",
      "14  G.DONNARUMMA          [MILAN]  0.011693   85.518519\n",
      "17       J.MUSSO        [UDINESE]  0.013122   76.206897\n",
      "22       M.PERIN          [GENOA]  0.013372   74.785714\n",
      "21   L.SKORUPSKI        [BOLOGNA]  0.013889   72.000000\n"
     ]
    }
   ],
   "source": [
    "players['GC_M'] = players['GC'] / players['M']\n",
    "players = players.sort_values(by='GC_M')\n",
    "top_players = players[[\"Name\", \"Team\", \"GC_M\"]].head(n=10)\n",
    "top_players['M_GC'] = players['M'] / players['GC']\n",
    "print(top_players.head(n=10))"
   ]
  },
  {
   "cell_type": "code",
   "execution_count": 35,
   "metadata": {},
   "outputs": [
    {
     "name": "stdout",
     "output_type": "stream",
     "text": [
      "            Name             Team    S\n",
      "2       A.CRAGNO       [CAGLIARI]  113\n",
      "10      E.AUDERO      [SAMPDORIA]   94\n",
      "1       A.CORDAZ        [CROTONE]   88\n",
      "20        L.SEPE          [PARMA]   87\n",
      "22       M.PERIN          [GENOA]   87\n",
      "23   M.SILVESTRI  [HELLAS VERONA]   82\n",
      "14  G.DONNARUMMA          [MILAN]   82\n",
      "21   L.SKORUPSKI        [BOLOGNA]   82\n",
      "0     A.CONSIGLI       [SASSUOLO]   80\n",
      "19    L.MONTIPO'      [BENEVENTO]   79\n"
     ]
    }
   ],
   "source": [
    "players = players.sort_values(by='S', ascending=False)\n",
    "print(players[[\"Name\", \"Team\", \"S\"]].head(n=10))"
   ]
  },
  {
   "cell_type": "code",
   "execution_count": 36,
   "metadata": {},
   "outputs": [
    {
     "name": "stdout",
     "output_type": "stream",
     "text": [
      "            Name             Team       S_M        M_S\n",
      "21   L.SKORUPSKI        [BOLOGNA]  0.047454  21.073171\n",
      "2       A.CRAGNO       [CAGLIARI]  0.047261  21.159292\n",
      "22       M.PERIN          [GENOA]  0.041547  24.068966\n",
      "10      E.AUDERO      [SAMPDORIA]  0.039347  25.414894\n",
      "1       A.CORDAZ        [CROTONE]  0.036928  27.079545\n",
      "20        L.SEPE          [PARMA]  0.036371  27.494253\n",
      "0     A.CONSIGLI       [SASSUOLO]  0.035987  27.787500\n",
      "14  G.DONNARUMMA          [MILAN]  0.035513  28.158537\n",
      "23   M.SILVESTRI  [HELLAS VERONA]  0.034224  29.219512\n",
      "4        A.MERET         [NAPOLI]  0.033737  29.641026\n"
     ]
    }
   ],
   "source": [
    "players['S_M'] = players['S'] / players['M']\n",
    "players = players.sort_values(by='S_M', ascending=False)\n",
    "top_players = players[[\"Name\", \"Team\", \"S_M\"]].head(n=10)\n",
    "top_players['M_S'] = players['M'] / players['S']\n",
    "print(top_players.head(n=10))"
   ]
  },
  {
   "cell_type": "code",
   "execution_count": 37,
   "metadata": {},
   "outputs": [
    {
     "name": "stdout",
     "output_type": "stream",
     "text": [
      "            Name             Team  Set_S\n",
      "0     A.CONSIGLI       [SASSUOLO]     14\n",
      "2       A.CRAGNO       [CAGLIARI]     14\n",
      "20        L.SEPE          [PARMA]     14\n",
      "14  G.DONNARUMMA          [MILAN]     13\n",
      "19    L.MONTIPO'      [BENEVENTO]     11\n",
      "7    B.DRAGOWSKI     [FIORENTINA]     11\n",
      "23   M.SILVESTRI  [HELLAS VERONA]     11\n",
      "17       J.MUSSO        [UDINESE]     10\n",
      "1       A.CORDAZ        [CROTONE]      9\n",
      "16    I.PROVEDEL         [SPEZIA]      9\n"
     ]
    }
   ],
   "source": [
    "players['Set_S'] = players['STP'] + players['SF']\n",
    "players = players.sort_values(by='Set_S', ascending=False)\n",
    "print(players[[\"Name\", \"Team\", \"Set_S\"]].head(n=10))"
   ]
  }
 ],
 "metadata": {
  "kernelspec": {
   "display_name": "Python 3",
   "language": "python",
   "name": "python3"
  },
  "language_info": {
   "codemirror_mode": {
    "name": "ipython",
    "version": 3
   },
   "file_extension": ".py",
   "mimetype": "text/x-python",
   "name": "python",
   "nbconvert_exporter": "python",
   "pygments_lexer": "ipython3",
   "version": "3.7.4"
  }
 },
 "nbformat": 4,
 "nbformat_minor": 2
}
