{
 "cells": [
  {
   "cell_type": "code",
   "execution_count": 1,
   "metadata": {},
   "outputs": [],
   "source": [
    "import os\n",
    "import csv\n",
    "import pandas as pd\n",
    "import numpy as np\n",
    "import math"
   ]
  },
  {
   "cell_type": "code",
   "execution_count": 2,
   "metadata": {},
   "outputs": [
    {
     "name": "stdout",
     "output_type": "stream",
     "text": [
      "660.0\n",
      "7\n"
     ]
    }
   ],
   "source": [
    "thisdir = os.getcwd()\n",
    "thisdir += \"/2020-2021/Player Data/Non-goalkeeper/\"\n",
    "csv_list = []\n",
    "\n",
    "n_games = 22 #total games played\n",
    "min_time = n_games / 3 * 90 #min time played to be eligible\n",
    "min_games = math.floor(n_games / 3) #min games played to be eligible\n",
    "print(min_time)\n",
    "print(min_games)"
   ]
  },
  {
   "cell_type": "code",
   "execution_count": 3,
   "metadata": {},
   "outputs": [],
   "source": [
    "for r, d, f in os.walk(thisdir):\n",
    "    for file in f:\n",
    "        if file.endswith(\".csv\"):\n",
    "            csv_list.append(os.path.join(r, file))\n",
    "\n",
    "csv_list = sorted(csv_list)"
   ]
  },
  {
   "cell_type": "code",
   "execution_count": 4,
   "metadata": {},
   "outputs": [],
   "source": [
    "def convert_to_minutes(row):\n",
    "    return int(row['M'][:-1])\n",
    "\n",
    "def convert_to_int(row, col):\n",
    "    return int(row[col])"
   ]
  },
  {
   "cell_type": "code",
   "execution_count": 5,
   "metadata": {},
   "outputs": [],
   "source": [
    "players = []\n",
    "\n",
    "for csv_file in csv_list:\n",
    "#     print(csv_file)\n",
    "    if csv_file[-5:] == \"/.csv\":\n",
    "        continue\n",
    "    player_data = pd.read_csv(csv_file, encoding='latin-1')\n",
    "    player_data[\"M_played\"] = player_data.apply(lambda row:convert_to_minutes(row), axis=1)\n",
    "    player_data = player_data.astype({'G':'int32', 'OG':'int32', 'A':'int32', 'AT':'int32', 'BS':'int32', 'SC':'int32', 'FS':'int32', 'BP':'int32', 'AS':'int32', 'KP':'int32', 'P':'int32', 'P%':'int32', 'R':'int32', 'FYC':'int32', 'SYC':'int32', 'RC':'int32'})\n",
    "\n",
    "    players.append([player_data[\"Name\"].unique()[0], player_data[\"Team\"].unique(), player_data[\"M_played\"].sum(), player_data[\"G\"].sum(), player_data[\"OG\"].sum(), player_data[\"A\"].sum(), player_data[\"AT\"].sum(), player_data[\"BS\"].sum(), player_data[\"SC\"].sum(), player_data[\"FS\"].sum(), player_data[\"BP\"].sum(), player_data[\"AS\"].sum(), player_data[\"KP\"].sum(), player_data[\"P\"].sum(), player_data[\"P%\"].sum()  / player_data[\"P%\"].size, player_data[\"R\"].sum(), player_data[\"FYC\"].sum(), player_data[\"SYC\"].sum(), player_data[\"RC\"].sum(), player_data[\"M_played\"].size])\n",
    "\n",
    "players = pd.DataFrame(np.array(players), columns=['Name', 'Team' , 'M', 'G', 'OG', 'A', 'AT', 'BS', 'SC', 'FS', 'BP', 'AS', 'KP', 'P', 'P%', 'R', 'FYC', 'SYC', 'RC', \"N\"])\n",
    "players = players.astype({'M':'int32', 'G':'int32', 'OG':'int32', 'A':'int32', 'AT':'int32', 'BS':'int32', 'SC':'int32', 'FS':'int32', 'BP':'int32', 'AS':'int32', 'KP':'int32', 'P':'int32', 'P%':'float', 'R':'int32', 'FYC':'int32', 'SYC':'int32', 'RC':'int32', 'N':'int32'})\n",
    "players = players[players['M'] >= min_time]\n",
    "players = players[players['N'] >= min_games]"
   ]
  },
  {
   "cell_type": "code",
   "execution_count": 6,
   "metadata": {},
   "outputs": [
    {
     "name": "stdout",
     "output_type": "stream",
     "text": [
      "             Name                 Team     M\n",
      "203    G.PEZZELLA  [PARMA, FIORENTINA]  2496\n",
      "299  L.PELLEGRINI        [ROMA, GENOA]  2291\n",
      "267        K.GLIK          [BENEVENTO]  2109\n",
      "481    T.TOMIYASU            [BOLOGNA]  2102\n",
      "284      L.DANILO            [BOLOGNA]  2084\n",
      "435     R.SORIANO            [BOLOGNA]  2065\n",
      "258    JOAO PEDRO           [CAGLIARI]  2062\n",
      "5       A.BELOTTI             [TORINO]  1997\n",
      "408     R.DE PAUL            [UDINESE]  1997\n",
      "245     J.MESSIAS            [CROTONE]  1983\n"
     ]
    }
   ],
   "source": [
    "players = players.sort_values(by='M', ascending=False)\n",
    "print(players[[\"Name\", \"Team\", \"M\"]].head(n=10))"
   ]
  },
  {
   "cell_type": "code",
   "execution_count": 7,
   "metadata": {},
   "outputs": [
    {
     "name": "stdout",
     "output_type": "stream",
     "text": [
      "             Name         Team        M_N\n",
      "83         BREMER     [TORINO]  97.055556\n",
      "189     G.FERRARI   [SASSUOLO]  96.350000\n",
      "477   T.HERNANDEZ      [MILAN]  96.315789\n",
      "55    A.ROMAGNOLI      [MILAN]  96.058824\n",
      "186  G.DI LORENZO     [NAPOLI]  96.000000\n",
      "267        K.GLIK  [BENEVENTO]  95.863636\n",
      "481    T.TOMIYASU    [BOLOGNA]  95.545455\n",
      "70        B.ALVES      [PARMA]  95.466667\n",
      "5       A.BELOTTI     [TORINO]  95.095238\n",
      "408     R.DE PAUL    [UDINESE]  95.095238\n"
     ]
    }
   ],
   "source": [
    "players['M_N'] = players['M'] / players['N']\n",
    "players = players.sort_values(by='M_N', ascending=False)\n",
    "print(players[[\"Name\", \"Team\", \"M_N\"]].head(n=10))"
   ]
  },
  {
   "cell_type": "code",
   "execution_count": 8,
   "metadata": {},
   "outputs": [
    {
     "name": "stdout",
     "output_type": "stream",
     "text": [
      "              Name        Team   G\n",
      "422       R.LUKAKU     [INTER]  16\n",
      "98       C.RONALDO  [JUVENTUS]  16\n",
      "89      C.IMMOBILE     [LAZIO]  14\n",
      "501  Z.IBRAHIMOVIC     [MILAN]  14\n",
      "297       L.MURIEL  [ATALANTA]  13\n",
      "5        A.BELOTTI    [TORINO]  11\n",
      "258     JOAO PEDRO  [CAGLIARI]  11\n",
      "295     L.MARTINEZ     [INTER]  11\n",
      "289      L.INSIGNE    [NAPOLI]  10\n",
      "154       F.CAPUTO  [SASSUOLO]   9\n"
     ]
    }
   ],
   "source": [
    "players = players.sort_values(by='G', ascending=False)\n",
    "print(players[[\"Name\", \"Team\", \"G\"]].head(n=10))"
   ]
  },
  {
   "cell_type": "code",
   "execution_count": 9,
   "metadata": {},
   "outputs": [
    {
     "name": "stdout",
     "output_type": "stream",
     "text": [
      "              Name        Team       G_M         M_G\n",
      "297       L.MURIEL  [ATALANTA]  0.017833   56.076923\n",
      "501  Z.IBRAHIMOVIC     [MILAN]  0.013619   73.428571\n",
      "98       C.RONALDO  [JUVENTUS]  0.009798  102.062500\n",
      "422       R.LUKAKU     [INTER]  0.009462  105.687500\n",
      "328       M.DESTRO     [GENOA]  0.009434  106.000000\n",
      "77       B.MAYORAL      [ROMA]  0.009091  110.000000\n",
      "89      C.IMMOBILE     [LAZIO]  0.008299  120.500000\n",
      "344        M.NZOLA    [SPEZIA]  0.007888  126.777778\n",
      "152      F.CAICEDO     [LAZIO]  0.007264  137.666667\n",
      "351     M.POLITANO    [NAPOLI]  0.007034  142.166667\n"
     ]
    }
   ],
   "source": [
    "players['G_M'] = players['G'] / players['M']\n",
    "players = players.sort_values(by='G_M', ascending=False)\n",
    "top_players = players[[\"Name\", \"Team\", \"G_M\"]].head(n=10)\n",
    "top_players['M_G'] = players['M'] / players['G']\n",
    "print(top_players.head(n=10))"
   ]
  },
  {
   "cell_type": "code",
   "execution_count": 10,
   "metadata": {},
   "outputs": [
    {
     "name": "stdout",
     "output_type": "stream",
     "text": [
      "              Name          Team   A\n",
      "98       C.RONALDO    [JUVENTUS]  80\n",
      "289      L.INSIGNE      [NAPOLI]  77\n",
      "5        A.BELOTTI      [TORINO]  69\n",
      "295     L.MARTINEZ       [INTER]  65\n",
      "89      C.IMMOBILE       [LAZIO]  57\n",
      "216   H.MKHITARYAN        [ROMA]  54\n",
      "314       M.BARROW     [BOLOGNA]  53\n",
      "104      D.BERARDI    [SASSUOLO]  51\n",
      "501  Z.IBRAHIMOVIC       [MILAN]  50\n",
      "129     D.VLAHOVIC  [FIORENTINA]  49\n"
     ]
    }
   ],
   "source": [
    "players = players.sort_values(by='A', ascending=False)\n",
    "print(players[[\"Name\", \"Team\", \"A\"]].head(n=10))"
   ]
  },
  {
   "cell_type": "code",
   "execution_count": 11,
   "metadata": {},
   "outputs": [
    {
     "name": "stdout",
     "output_type": "stream",
     "text": [
      "              Name        Team       A_M        M_A\n",
      "297       L.MURIEL  [ATALANTA]  0.058985  16.953488\n",
      "289      L.INSIGNE    [NAPOLI]  0.051817  19.298701\n",
      "98       C.RONALDO  [JUVENTUS]  0.048990  20.412500\n",
      "501  Z.IBRAHIMOVIC     [MILAN]  0.048638  20.560000\n",
      "295     L.MARTINEZ     [INTER]  0.040932  24.430769\n",
      "393       P.DYBALA  [JUVENTUS]  0.040698  24.571429\n",
      "351     M.POLITANO    [NAPOLI]  0.038687  25.848485\n",
      "123      D.MERTENS    [NAPOLI]  0.038272  26.129032\n",
      "238       J.ILICIC  [ATALANTA]  0.036585  27.333333\n",
      "27         A.GOMEZ  [ATALANTA]  0.036075  27.720000\n"
     ]
    }
   ],
   "source": [
    "players['A_M'] = players['A'] / players['M']\n",
    "players = players.sort_values(by='A_M', ascending=False)\n",
    "top_players = players[[\"Name\", \"Team\", \"A_M\"]].head(n=10)\n",
    "top_players['M_A'] = players['M'] / players['A']\n",
    "print(top_players.head(n=10))"
   ]
  },
  {
   "cell_type": "code",
   "execution_count": 12,
   "metadata": {},
   "outputs": [
    {
     "name": "stdout",
     "output_type": "stream",
     "text": [
      "                   Name             Team  AS\n",
      "216        H.MKHITARYAN           [ROMA]   8\n",
      "213        H.CALHANOGLU          [MILAN]   8\n",
      "316          M.BROZOVIC          [INTER]   6\n",
      "123           D.MERTENS         [NAPOLI]   6\n",
      "299        L.PELLEGRINI    [ROMA, GENOA]   6\n",
      "458  S.MILINKOVIC-SAVIC          [LAZIO]   6\n",
      "42             A.MORATA       [JUVENTUS]   6\n",
      "58            A.SANCHEZ          [INTER]   5\n",
      "5             A.BELOTTI         [TORINO]   5\n",
      "367          M.ZACCAGNI  [HELLAS VERONA]   5\n",
      "10           A.CANDREVA      [SAMPDORIA]   5\n",
      "238            J.ILICIC       [ATALANTA]   5\n",
      "235          J.CUADRADO       [JUVENTUS]   5\n",
      "372           N.BARELLA          [INTER]   5\n",
      "421              R.LEAO          [MILAN]   5\n",
      "435           R.SORIANO        [BOLOGNA]   5\n",
      "139             E.GYASI         [SPEZIA]   4\n",
      "322         M.DAMSGAARD      [SAMPDORIA]   4\n",
      "441           S.BASTONI         [SPEZIA]   4\n",
      "477         T.HERNANDEZ          [MILAN]   4\n",
      "467             S.VERDI         [TORINO]   4\n",
      "418          R.KARSDORP           [ROMA]   4\n",
      "38            A.MARUSIC          [LAZIO]   4\n",
      "395         P.GHIGLIONE          [GENOA]   4\n",
      "86            C.BIRAGHI     [FIORENTINA]   4\n"
     ]
    }
   ],
   "source": [
    "players = players.sort_values(by='AS', ascending=False)\n",
    "print(players[[\"Name\", \"Team\", \"AS\"]].head(n=25))"
   ]
  },
  {
   "cell_type": "code",
   "execution_count": 13,
   "metadata": {},
   "outputs": [
    {
     "name": "stdout",
     "output_type": "stream",
     "text": [
      "             Name        Team      AS_M     M_AS\n",
      "123     D.MERTENS    [NAPOLI]  0.007407  135.000\n",
      "58      A.SANCHEZ     [INTER]  0.006485  154.200\n",
      "213  H.CALHANOGLU     [MILAN]  0.005092  196.375\n",
      "42       A.MORATA  [JUVENTUS]  0.004914  203.500\n",
      "238      J.ILICIC  [ATALANTA]  0.004690  213.200\n",
      "77      B.MAYORAL      [ROMA]  0.004545  220.000\n",
      "467       S.VERDI    [TORINO]  0.004175  239.500\n",
      "297      L.MURIEL  [ATALANTA]  0.004115  243.000\n",
      "216  H.MKHITARYAN      [ROMA]  0.004109  243.375\n",
      "421        R.LEAO     [MILAN]  0.003968  252.000\n"
     ]
    }
   ],
   "source": [
    "players['AS_M'] = players['AS'] / players['M']\n",
    "players = players.sort_values(by='AS_M', ascending=False)\n",
    "top_players = players[[\"Name\", \"Team\", \"AS_M\"]].head(n=10)\n",
    "top_players['M_AS'] = players['M'] / players['AS']\n",
    "print(top_players.head(n=10))"
   ]
  },
  {
   "cell_type": "code",
   "execution_count": 14,
   "metadata": {},
   "outputs": [
    {
     "name": "stdout",
     "output_type": "stream",
     "text": [
      "             Name                 Team    BP\n",
      "338   M.LOCATELLI           [SASSUOLO]  1977\n",
      "132        DANILO           [JUVENTUS]  1768\n",
      "189     G.FERRARI           [SASSUOLO]  1732\n",
      "186  G.DI LORENZO             [NAPOLI]  1711\n",
      "299  L.PELLEGRINI        [ROMA, GENOA]  1660\n",
      "408     R.DE PAUL            [UDINESE]  1637\n",
      "414      R.IBANEZ               [ROMA]  1608\n",
      "203    G.PEZZELLA  [PARMA, FIORENTINA]  1604\n",
      "4       A.BASTONI              [INTER]  1528\n",
      "481    T.TOMIYASU            [BOLOGNA]  1519\n"
     ]
    }
   ],
   "source": [
    "players = players.sort_values(by='BP', ascending=False)\n",
    "print(players[[\"Name\", \"Team\", \"BP\"]].head(n=10))"
   ]
  },
  {
   "cell_type": "code",
   "execution_count": 15,
   "metadata": {},
   "outputs": [
    {
     "name": "stdout",
     "output_type": "stream",
     "text": [
      "             Name        Team      BP_M      M_BP\n",
      "338   M.LOCATELLI  [SASSUOLO]  1.041623  0.960040\n",
      "69         ARTHUR  [JUVENTUS]  0.989842  1.010262\n",
      "112       D.DEMME    [NAPOLI]  0.986041  1.014157\n",
      "324     M.DE LIGT  [JUVENTUS]  0.949898  1.052745\n",
      "316    M.BROZOVIC     [INTER]  0.949208  1.053509\n",
      "370     MARIO RUI    [NAPOLI]  0.947798  1.055077\n",
      "132        DANILO  [JUVENTUS]  0.946467  1.056561\n",
      "406   R.BENTANCUR  [JUVENTUS]  0.945534  1.057604\n",
      "376  N.MAKSIMOVIC    [NAPOLI]  0.944242  1.059050\n",
      "174   FABIAN RUIZ    [NAPOLI]  0.927852  1.077758\n"
     ]
    }
   ],
   "source": [
    "players['BP_M'] = players['BP'] / players['M']\n",
    "players = players.sort_values(by='BP_M', ascending=False)\n",
    "top_players = players[[\"Name\", \"Team\", \"BP_M\"]].head(n=10)\n",
    "top_players['M_BP'] = players['M'] / players['BP']\n",
    "print(top_players.head(n=10))"
   ]
  },
  {
   "cell_type": "code",
   "execution_count": 16,
   "metadata": {},
   "outputs": [
    {
     "name": "stdout",
     "output_type": "stream",
     "text": [
      "             Name        Team     P\n",
      "338   M.LOCATELLI  [SASSUOLO]  1434\n",
      "189     G.FERRARI  [SASSUOLO]  1392\n",
      "132        DANILO  [JUVENTUS]  1302\n",
      "4       A.BASTONI     [INTER]  1197\n",
      "414      R.IBANEZ      [ROMA]  1113\n",
      "186  G.DI LORENZO    [NAPOLI]  1107\n",
      "358    M.SKRINIAR     [INTER]  1099\n",
      "278     L.BONUCCI  [JUVENTUS]  1066\n",
      "316    M.BROZOVIC     [INTER]  1057\n",
      "444     S.DE VRIJ     [INTER]  1049\n"
     ]
    }
   ],
   "source": [
    "players = players.sort_values(by='P', ascending=False)\n",
    "print(players[[\"Name\", \"Team\", \"P\"]].head(n=10))"
   ]
  },
  {
   "cell_type": "code",
   "execution_count": 17,
   "metadata": {},
   "outputs": [
    {
     "name": "stdout",
     "output_type": "stream",
     "text": [
      "             Name        Team       P_M       M_P\n",
      "69         ARTHUR  [JUVENTUS]  0.825056  1.212038\n",
      "376  N.MAKSIMOVIC    [NAPOLI]  0.778182  1.285047\n",
      "324     M.DE LIGT  [JUVENTUS]  0.777096  1.286842\n",
      "338   M.LOCATELLI  [SASSUOLO]  0.755532  1.323570\n",
      "112       D.DEMME    [NAPOLI]  0.751269  1.331081\n",
      "269   K.KOULIBALY    [NAPOLI]  0.724585  1.380100\n",
      "189     G.FERRARI  [SASSUOLO]  0.722366  1.384339\n",
      "371        MARLON  [SASSUOLO]  0.716825  1.395041\n",
      "483   V.CHIRICHES  [SASSUOLO]  0.713382  1.401774\n",
      "181   G.CHIELLINI  [JUVENTUS]  0.712798  1.402923\n"
     ]
    }
   ],
   "source": [
    "players['P_M'] = players['P'] / players['M']\n",
    "players = players.sort_values(by='P_M', ascending=False)\n",
    "top_players = players[[\"Name\", \"Team\", \"P_M\"]].head(n=10)\n",
    "top_players['M_P'] = players['M'] / players['P']\n",
    "print(top_players.head(n=10))"
   ]
  },
  {
   "cell_type": "code",
   "execution_count": 18,
   "metadata": {},
   "outputs": [
    {
     "name": "stdout",
     "output_type": "stream",
     "text": [
      "             Name        Team         P%\n",
      "69         ARTHUR  [JUVENTUS]  94.769231\n",
      "376  N.MAKSIMOVIC    [NAPOLI]  94.272727\n",
      "273     K.MANOLAS    [NAPOLI]  93.157895\n",
      "324     M.DE LIGT  [JUVENTUS]  93.000000\n",
      "358    M.SKRINIAR     [INTER]  92.611111\n",
      "181   G.CHIELLINI  [JUVENTUS]  92.500000\n",
      "444     S.DE VRIJ     [INTER]  92.150000\n",
      "255      J.TOLJAN  [SASSUOLO]  91.818182\n",
      "381     N.NKOULOU    [TORINO]  91.700000\n",
      "49       A.RABIOT  [JUVENTUS]  91.555556\n"
     ]
    }
   ],
   "source": [
    "players = players.sort_values(by='P%', ascending=False)\n",
    "print(players[[\"Name\", \"Team\", \"P%\"]].head(n=10))"
   ]
  },
  {
   "cell_type": "code",
   "execution_count": 19,
   "metadata": {},
   "outputs": [
    {
     "name": "stdout",
     "output_type": "stream",
     "text": [
      "             Name             Team  KP\n",
      "408     R.DE PAUL        [UDINESE]  26\n",
      "238      J.ILICIC       [ATALANTA]  24\n",
      "299  L.PELLEGRINI    [ROMA, GENOA]  18\n",
      "213  H.CALHANOGLU          [MILAN]  18\n",
      "435     R.SORIANO        [BOLOGNA]  16\n",
      "104     D.BERARDI       [SASSUOLO]  16\n",
      "309  LUIS ALBERTO          [LAZIO]  15\n",
      "303  L.SPINAZZOLA           [ROMA]  13\n",
      "29       A.HAKIMI          [INTER]  13\n",
      "426       R.MARIN       [CAGLIARI]  12\n",
      "367    M.ZACCAGNI  [HELLAS VERONA]  12\n",
      "158     F.DIMARCO  [HELLAS VERONA]  12\n",
      "216  H.MKHITARYAN           [ROMA]  12\n",
      "314      M.BARROW        [BOLOGNA]  11\n",
      "5       A.BELOTTI         [TORINO]  10\n"
     ]
    }
   ],
   "source": [
    "players = players.sort_values(by='KP', ascending=False)\n",
    "print(players[[\"Name\", \"Team\", \"KP\"]].head(n=15))"
   ]
  },
  {
   "cell_type": "code",
   "execution_count": 20,
   "metadata": {},
   "outputs": [
    {
     "name": "stdout",
     "output_type": "stream",
     "text": [
      "             Name        Team      KP_M        M_KP\n",
      "238      J.ILICIC  [ATALANTA]  0.022514   44.416667\n",
      "408     R.DE PAUL   [UDINESE]  0.013020   76.807692\n",
      "58      A.SANCHEZ     [INTER]  0.011673   85.666667\n",
      "213  H.CALHANOGLU     [MILAN]  0.011458   87.277778\n",
      "104     D.BERARDI  [SASSUOLO]  0.010840   92.250000\n",
      "27        A.GOMEZ  [ATALANTA]  0.010101   99.000000\n",
      "309  LUIS ALBERTO     [LAZIO]  0.009684  103.266667\n",
      "496    W.MCKENNIE  [JUVENTUS]  0.009328  107.200000\n",
      "46      A.PETAGNA    [NAPOLI]  0.008946  111.777778\n",
      "467       S.VERDI    [TORINO]  0.008351  119.750000\n"
     ]
    }
   ],
   "source": [
    "players['KP_M'] = players['KP'] / players['M']\n",
    "players = players.sort_values(by='KP_M', ascending=False)\n",
    "top_players = players[[\"Name\", \"Team\", \"KP_M\"]].head(n=10)\n",
    "top_players['M_KP'] = players['M'] / players['KP']\n",
    "print(top_players.head(n=10))"
   ]
  },
  {
   "cell_type": "code",
   "execution_count": 21,
   "metadata": {
    "scrolled": true
   },
   "outputs": [
    {
     "name": "stdout",
     "output_type": "stream",
     "text": [
      "              Name             Team  FS\n",
      "5        A.BELOTTI         [TORINO]  91\n",
      "408      R.DE PAUL        [UDINESE]  71\n",
      "245      J.MESSIAS        [CROTONE]  62\n",
      "367     M.ZACCAGNI  [HELLAS VERONA]  61\n",
      "215       H.LOZANO         [NAPOLI]  59\n",
      "258     JOAO PEDRO       [CAGLIARI]  51\n",
      "238       J.ILICIC       [ATALANTA]  49\n",
      "241        J.KUCKA          [PARMA]  47\n",
      "477    T.HERNANDEZ          [MILAN]  47\n",
      "180  G.CASTROVILLI     [FIORENTINA]  46\n"
     ]
    }
   ],
   "source": [
    "players = players.sort_values(by='FS', ascending=False)\n",
    "print(players[[\"Name\", \"Team\", \"FS\"]].head(n=10))"
   ]
  },
  {
   "cell_type": "code",
   "execution_count": 22,
   "metadata": {
    "scrolled": true
   },
   "outputs": [
    {
     "name": "stdout",
     "output_type": "stream",
     "text": [
      "             Name                      Team      FS_M       M_FS\n",
      "238      J.ILICIC                [ATALANTA]  0.045966  21.755102\n",
      "5       A.BELOTTI                  [TORINO]  0.045568  21.945055\n",
      "367    M.ZACCAGNI           [HELLAS VERONA]  0.037263  26.836066\n",
      "200      G.PANDEV                   [GENOA]  0.036655  27.281250\n",
      "215      H.LOZANO                  [NAPOLI]  0.035910  27.847458\n",
      "408     R.DE PAUL                 [UDINESE]  0.035553  28.126761\n",
      "204     G.RAMIREZ               [SAMPDORIA]  0.034565  28.931034\n",
      "170      F.RIBERY              [FIORENTINA]  0.033938  29.465116\n",
      "396     P.HETEMAJ               [BENEVENTO]  0.032506  30.763158\n",
      "446  S.DI CARMINE  [HELLAS VERONA, CROTONE]  0.032258  31.000000\n"
     ]
    }
   ],
   "source": [
    "players['FS_M'] = players['FS'] / players['M']\n",
    "players = players.sort_values(by='FS_M', ascending=False)\n",
    "top_players = players[[\"Name\", \"Team\", \"FS_M\"]].head(n=10)\n",
    "top_players['M_FS'] = players['M'] / players['FS']\n",
    "print(top_players.head(n=10))"
   ]
  },
  {
   "cell_type": "code",
   "execution_count": 23,
   "metadata": {},
   "outputs": [
    {
     "name": "stdout",
     "output_type": "stream",
     "text": [
      "             Name                 Team    R\n",
      "481    T.TOMIYASU            [BOLOGNA]  219\n",
      "414      R.IBANEZ               [ROMA]  193\n",
      "267        K.GLIK          [BENEVENTO]  188\n",
      "148      F.ACERBI              [LAZIO]  184\n",
      "203    G.PEZZELLA  [PARMA, FIORENTINA]  181\n",
      "83         BREMER             [TORINO]  176\n",
      "377  N.MILENKOVIC         [FIORENTINA]  175\n",
      "97       C.ROMERO           [ATALANTA]  174\n",
      "284      L.DANILO            [BOLOGNA]  167\n",
      "76     B.DJIMSITI           [ATALANTA]  162\n"
     ]
    }
   ],
   "source": [
    "players = players.sort_values(by='R', ascending=False)\n",
    "print(players[[\"Name\", \"Team\", \"R\"]].head(n=10))"
   ]
  },
  {
   "cell_type": "code",
   "execution_count": 24,
   "metadata": {},
   "outputs": [
    {
     "name": "stdout",
     "output_type": "stream",
     "text": [
      "            Name             Team       R_M       M_R\n",
      "195    G.MAGNANI  [HELLAS VERONA]  0.152149  6.572519\n",
      "268     K.GUNTER  [HELLAS VERONA]  0.138735  7.208000\n",
      "97      C.ROMERO       [ATALANTA]  0.124910  8.005747\n",
      "483  V.CHIRICHES       [SASSUOLO]  0.112116  8.919355\n",
      "443    S.DE MAIO        [UDINESE]  0.111929  8.934211\n",
      "313       M.BANI   [GENOA, PARMA]  0.107047  9.341667\n",
      "495      W.HOEDT          [LAZIO]  0.106469  9.392405\n",
      "451      S.KJAER          [MILAN]  0.106302  9.407143\n",
      "148     F.ACERBI          [LAZIO]  0.104903  9.532609\n",
      "76    B.DJIMSITI       [ATALANTA]  0.104584  9.561728\n"
     ]
    }
   ],
   "source": [
    "players['R_M'] = players['R'] / players['M']\n",
    "players = players.sort_values(by='R_M', ascending=False)\n",
    "top_players = players[[\"Name\", \"Team\", \"R_M\"]].head(n=10)\n",
    "top_players['M_R'] = players['M'] / players['R']\n",
    "print(top_players.head(n=10))"
   ]
  },
  {
   "cell_type": "code",
   "execution_count": 25,
   "metadata": {},
   "outputs": [],
   "source": [
    "thisdir = os.getcwd()\n",
    "thisdir += \"/2020-2021/Player Data/Goalkeeper/\"\n",
    "csv_list = []\n",
    "\n",
    "for r, d, f in os.walk(thisdir):\n",
    "    for file in f:\n",
    "        if file.endswith(\".csv\"):\n",
    "            csv_list.append(os.path.join(r, file))\n",
    "\n",
    "csv_list = sorted(csv_list)\n",
    "\n",
    "players = []\n",
    "\n",
    "for csv_file in csv_list:\n",
    "#     print(csv_file)\n",
    "    if csv_file[-5:] == \"/.csv\":\n",
    "        continue\n",
    "    player_data = pd.read_csv(csv_file, encoding='latin-1')\n",
    "    player_data[\"M_played\"] = player_data.apply(lambda row:convert_to_minutes(row), axis=1)\n",
    "    player_data = player_data.astype({'GC':'int32', 'OG':'int32', 'S':'int32', 'STP':'int32', 'SF':'int32', 'FYC':'int32', 'SYC':'int32', 'RC':'int32'})\n",
    "\n",
    "    players.append([player_data[\"Name\"].unique()[0], player_data[\"Team\"].unique(), player_data[\"M_played\"].sum(), player_data[\"GC\"].sum(), player_data[\"OG\"].sum(), player_data[\"S\"].sum(), player_data[\"STP\"].sum(), player_data[\"SF\"].sum(), player_data[\"FYC\"].sum(), player_data[\"SYC\"].sum(), player_data[\"RC\"].sum(), player_data[\"M_played\"].size])\n",
    "\n",
    "players = pd.DataFrame(np.array(players), columns=['Name', 'Team' , 'M', 'GC', 'OG', 'S', 'STP', 'SF', 'FYC', 'SYC', 'RC', 'N'])\n",
    "players = players.astype({'M':'int32', 'GC':'int32', 'OG':'int32', 'S':'int32', 'STP':'int32', 'SF':'int32', 'FYC':'int32', 'SYC':'int32', 'RC':'int32', 'N':'int32'})\n",
    "players = players[players['M'] >= min_time]\n",
    "players = players[players['N'] >= min_games]"
   ]
  },
  {
   "cell_type": "code",
   "execution_count": 26,
   "metadata": {},
   "outputs": [
    {
     "name": "stdout",
     "output_type": "stream",
     "text": [
      "            Name             Team     M\n",
      "23   M.SILVESTRI  [HELLAS VERONA]  2111\n",
      "7    B.DRAGOWSKI     [FIORENTINA]  2111\n",
      "19    L.MONTIPO'      [BENEVENTO]  2109\n",
      "30  S.HANDANOVIC          [INTER]  2108\n",
      "10      E.AUDERO      [SAMPDORIA]  2107\n",
      "20        L.SEPE          [PARMA]  2103\n",
      "2       A.CRAGNO       [CAGLIARI]  2102\n",
      "1       A.CORDAZ        [CROTONE]  2098\n",
      "0     A.CONSIGLI       [SASSUOLO]  2030\n",
      "14  G.DONNARUMMA          [MILAN]  2019\n"
     ]
    }
   ],
   "source": [
    "players = players.sort_values(by='M', ascending=False)\n",
    "print(players[[\"Name\", \"Team\", \"M\"]].head(n=10))"
   ]
  },
  {
   "cell_type": "code",
   "execution_count": 27,
   "metadata": {},
   "outputs": [
    {
     "name": "stdout",
     "output_type": "stream",
     "text": [
      "            Name             Team        M_N\n",
      "31      S.SIRIGU         [TORINO]  97.300000\n",
      "0     A.CONSIGLI       [SASSUOLO]  96.666667\n",
      "4        A.MERET         [NAPOLI]  96.555556\n",
      "34    W.SZCZESNY       [JUVENTUS]  96.294118\n",
      "14  G.DONNARUMMA          [MILAN]  96.142857\n",
      "28       P.REINA          [LAZIO]  96.062500\n",
      "17       J.MUSSO        [UDINESE]  96.000000\n",
      "21   L.SKORUPSKI        [BOLOGNA]  96.000000\n",
      "7    B.DRAGOWSKI     [FIORENTINA]  95.954545\n",
      "23   M.SILVESTRI  [HELLAS VERONA]  95.954545\n"
     ]
    }
   ],
   "source": [
    "players['M_N'] = players['M'] / players['N']\n",
    "players = players.sort_values(by='M_N', ascending=False)\n",
    "print(players[[\"Name\", \"Team\", \"M_N\"]].head(n=10))"
   ]
  },
  {
   "cell_type": "code",
   "execution_count": 28,
   "metadata": {},
   "outputs": [
    {
     "name": "stdout",
     "output_type": "stream",
     "text": [
      "           Name          Team  GC\n",
      "1      A.CORDAZ     [CROTONE]  52\n",
      "20       L.SEPE       [PARMA]  43\n",
      "19   L.MONTIPO'   [BENEVENTO]  42\n",
      "2      A.CRAGNO    [CAGLIARI]  40\n",
      "31     S.SIRIGU      [TORINO]  37\n",
      "7   B.DRAGOWSKI  [FIORENTINA]  35\n",
      "10     E.AUDERO   [SAMPDORIA]  33\n",
      "0    A.CONSIGLI    [SASSUOLO]  33\n",
      "16   I.PROVEDEL      [SPEZIA]  31\n",
      "17      J.MUSSO     [UDINESE]  26\n"
     ]
    }
   ],
   "source": [
    "players = players.sort_values(by='GC', ascending=False)\n",
    "print(players[[\"Name\", \"Team\", \"GC\"]].head(n=10))"
   ]
  },
  {
   "cell_type": "code",
   "execution_count": 29,
   "metadata": {},
   "outputs": [
    {
     "name": "stdout",
     "output_type": "stream",
     "text": [
      "            Name          Team      GC_M       M_GC\n",
      "1       A.CORDAZ     [CROTONE]  0.024786  40.346154\n",
      "20        L.SEPE       [PARMA]  0.020447  48.906977\n",
      "19    L.MONTIPO'   [BENEVENTO]  0.019915  50.214286\n",
      "2       A.CRAGNO    [CAGLIARI]  0.019029  52.550000\n",
      "31      S.SIRIGU      [TORINO]  0.019013  52.594595\n",
      "24  M.SPORTIELLO    [ATALANTA]  0.018987  52.666667\n",
      "16    I.PROVEDEL      [SPEZIA]  0.017052  58.645161\n",
      "7    B.DRAGOWSKI  [FIORENTINA]  0.016580  60.314286\n",
      "0     A.CONSIGLI    [SASSUOLO]  0.016256  61.515152\n",
      "10      E.AUDERO   [SAMPDORIA]  0.015662  63.848485\n"
     ]
    }
   ],
   "source": [
    "players['GC_M'] = players['GC'] / players['M']\n",
    "players = players.sort_values(by='GC_M', ascending=False)\n",
    "top_players = players[[\"Name\", \"Team\", \"GC_M\"]].head(n=10)\n",
    "top_players['M_GC'] = players['M'] / players['GC']\n",
    "print(top_players.head(n=10))"
   ]
  },
  {
   "cell_type": "code",
   "execution_count": 30,
   "metadata": {},
   "outputs": [
    {
     "name": "stdout",
     "output_type": "stream",
     "text": [
      "            Name        Team  GC\n",
      "4        A.MERET    [NAPOLI]  10\n",
      "9       D.OSPINA    [NAPOLI]  11\n",
      "26     P.GOLLINI  [ATALANTA]  14\n",
      "24  M.SPORTIELLO  [ATALANTA]  15\n",
      "27       P.LOPEZ      [ROMA]  16\n",
      "5      A.MIRANTE      [ROMA]  16\n",
      "34    W.SZCZESNY  [JUVENTUS]  17\n",
      "28       P.REINA     [LAZIO]  18\n",
      "14  G.DONNARUMMA     [MILAN]  22\n",
      "22       M.PERIN     [GENOA]  22\n"
     ]
    }
   ],
   "source": [
    "players = players.sort_values(by='GC')\n",
    "print(players[[\"Name\", \"Team\", \"GC\"]].head(n=10))"
   ]
  },
  {
   "cell_type": "code",
   "execution_count": 31,
   "metadata": {},
   "outputs": [
    {
     "name": "stdout",
     "output_type": "stream",
     "text": [
      "            Name             Team      GC_M        M_GC\n",
      "9       D.OSPINA         [NAPOLI]  0.009615  104.000000\n",
      "34    W.SZCZESNY       [JUVENTUS]  0.010385   96.294118\n",
      "26     P.GOLLINI       [ATALANTA]  0.010720   93.285714\n",
      "14  G.DONNARUMMA          [MILAN]  0.010896   91.772727\n",
      "23   M.SILVESTRI  [HELLAS VERONA]  0.011369   87.958333\n",
      "30  S.HANDANOVIC          [INTER]  0.011385   87.833333\n",
      "4        A.MERET         [NAPOLI]  0.011507   86.900000\n",
      "28       P.REINA          [LAZIO]  0.011711   85.388889\n",
      "22       M.PERIN          [GENOA]  0.012168   82.181818\n",
      "17       J.MUSSO        [UDINESE]  0.013542   73.846154\n"
     ]
    }
   ],
   "source": [
    "players['GC_M'] = players['GC'] / players['M']\n",
    "players = players.sort_values(by='GC_M')\n",
    "top_players = players[[\"Name\", \"Team\", \"GC_M\"]].head(n=10)\n",
    "top_players['M_GC'] = players['M'] / players['GC']\n",
    "print(top_players.head(n=10))"
   ]
  },
  {
   "cell_type": "code",
   "execution_count": 32,
   "metadata": {},
   "outputs": [
    {
     "name": "stdout",
     "output_type": "stream",
     "text": [
      "            Name             Team    S\n",
      "2       A.CRAGNO       [CAGLIARI]  101\n",
      "10      E.AUDERO      [SAMPDORIA]   80\n",
      "20        L.SEPE          [PARMA]   77\n",
      "1       A.CORDAZ        [CROTONE]   76\n",
      "0     A.CONSIGLI       [SASSUOLO]   76\n",
      "23   M.SILVESTRI  [HELLAS VERONA]   74\n",
      "22       M.PERIN          [GENOA]   71\n",
      "14  G.DONNARUMMA          [MILAN]   69\n",
      "19    L.MONTIPO'      [BENEVENTO]   63\n",
      "21   L.SKORUPSKI        [BOLOGNA]   62\n"
     ]
    }
   ],
   "source": [
    "players = players.sort_values(by='S', ascending=False)\n",
    "print(players[[\"Name\", \"Team\", \"S\"]].head(n=10))"
   ]
  },
  {
   "cell_type": "code",
   "execution_count": 33,
   "metadata": {},
   "outputs": [
    {
     "name": "stdout",
     "output_type": "stream",
     "text": [
      "            Name             Team       S_M        M_S\n",
      "2       A.CRAGNO       [CAGLIARI]  0.048049  20.811881\n",
      "21   L.SKORUPSKI        [BOLOGNA]  0.043056  23.225806\n",
      "22       M.PERIN          [GENOA]  0.039270  25.464789\n",
      "10      E.AUDERO      [SAMPDORIA]  0.037969  26.337500\n",
      "0     A.CONSIGLI       [SASSUOLO]  0.037438  26.710526\n",
      "20        L.SEPE          [PARMA]  0.036614  27.311688\n",
      "1       A.CORDAZ        [CROTONE]  0.036225  27.605263\n",
      "23   M.SILVESTRI  [HELLAS VERONA]  0.035054  28.527027\n",
      "14  G.DONNARUMMA          [MILAN]  0.034175  29.260870\n",
      "28       P.REINA          [LAZIO]  0.032531  30.740000\n"
     ]
    }
   ],
   "source": [
    "players['S_M'] = players['S'] / players['M']\n",
    "players = players.sort_values(by='S_M', ascending=False)\n",
    "top_players = players[[\"Name\", \"Team\", \"S_M\"]].head(n=10)\n",
    "top_players['M_S'] = players['M'] / players['S']\n",
    "print(top_players.head(n=10))"
   ]
  },
  {
   "cell_type": "code",
   "execution_count": 34,
   "metadata": {},
   "outputs": [
    {
     "name": "stdout",
     "output_type": "stream",
     "text": [
      "            Name             Team  Set_S\n",
      "0     A.CONSIGLI       [SASSUOLO]     14\n",
      "2       A.CRAGNO       [CAGLIARI]     13\n",
      "20        L.SEPE          [PARMA]     13\n",
      "14  G.DONNARUMMA          [MILAN]     12\n",
      "7    B.DRAGOWSKI     [FIORENTINA]     10\n",
      "23   M.SILVESTRI  [HELLAS VERONA]      9\n",
      "17       J.MUSSO        [UDINESE]      8\n",
      "1       A.CORDAZ        [CROTONE]      8\n",
      "19    L.MONTIPO'      [BENEVENTO]      7\n",
      "5      A.MIRANTE           [ROMA]      7\n"
     ]
    }
   ],
   "source": [
    "players['Set_S'] = players['STP'] + players['SF']\n",
    "players = players.sort_values(by='Set_S', ascending=False)\n",
    "print(players[[\"Name\", \"Team\", \"Set_S\"]].head(n=10))"
   ]
  }
 ],
 "metadata": {
  "kernelspec": {
   "display_name": "Python 3",
   "language": "python",
   "name": "python3"
  },
  "language_info": {
   "codemirror_mode": {
    "name": "ipython",
    "version": 3
   },
   "file_extension": ".py",
   "mimetype": "text/x-python",
   "name": "python",
   "nbconvert_exporter": "python",
   "pygments_lexer": "ipython3",
   "version": "3.7.4"
  }
 },
 "nbformat": 4,
 "nbformat_minor": 2
}
