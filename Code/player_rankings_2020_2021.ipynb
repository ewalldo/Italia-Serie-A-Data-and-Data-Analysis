{
 "cells": [
  {
   "cell_type": "code",
   "execution_count": 1,
   "metadata": {},
   "outputs": [],
   "source": [
    "import os\n",
    "import csv\n",
    "import pandas as pd\n",
    "import numpy as np\n",
    "import math"
   ]
  },
  {
   "cell_type": "code",
   "execution_count": 2,
   "metadata": {},
   "outputs": [
    {
     "name": "stdout",
     "output_type": "stream",
     "text": [
      "810.0\n",
      "9\n"
     ]
    }
   ],
   "source": [
    "thisdir = os.getcwd()\n",
    "thisdir += \"/2020-2021/Player Data/Non-goalkeeper/\"\n",
    "csv_list = []\n",
    "\n",
    "n_games = 27 #total games played\n",
    "min_time = n_games / 3 * 90 #min time played to be eligible\n",
    "min_games = math.floor(n_games / 3) #min games played to be eligible\n",
    "print(min_time)\n",
    "print(min_games)"
   ]
  },
  {
   "cell_type": "code",
   "execution_count": 3,
   "metadata": {},
   "outputs": [],
   "source": [
    "for r, d, f in os.walk(thisdir):\n",
    "    for file in f:\n",
    "        if file.endswith(\".csv\"):\n",
    "            csv_list.append(os.path.join(r, file))\n",
    "\n",
    "csv_list = sorted(csv_list)"
   ]
  },
  {
   "cell_type": "code",
   "execution_count": 4,
   "metadata": {},
   "outputs": [],
   "source": [
    "def convert_to_minutes(row):\n",
    "    return int(row['M'][:-1])\n",
    "\n",
    "def convert_to_int(row, col):\n",
    "    return int(row[col])"
   ]
  },
  {
   "cell_type": "code",
   "execution_count": 5,
   "metadata": {},
   "outputs": [],
   "source": [
    "players = []\n",
    "\n",
    "for csv_file in csv_list:\n",
    "#     print(csv_file)\n",
    "    if csv_file[-5:] == \"/.csv\":\n",
    "        continue\n",
    "    player_data = pd.read_csv(csv_file, encoding='latin-1')\n",
    "    player_data[\"M_played\"] = player_data.apply(lambda row:convert_to_minutes(row), axis=1)\n",
    "    player_data = player_data.astype({'G':'int32', 'OG':'int32', 'A':'int32', 'AT':'int32', 'BS':'int32', 'SC':'int32', 'FS':'int32', 'BP':'int32', 'AS':'int32', 'KP':'int32', 'P':'int32', 'P%':'int32', 'R':'int32', 'FYC':'int32', 'SYC':'int32', 'RC':'int32'})\n",
    "\n",
    "    players.append([player_data[\"Name\"].unique()[0], player_data[\"Team\"].unique(), player_data[\"M_played\"].sum(), player_data[\"G\"].sum(), player_data[\"OG\"].sum(), player_data[\"A\"].sum(), player_data[\"AT\"].sum(), player_data[\"BS\"].sum(), player_data[\"SC\"].sum(), player_data[\"FS\"].sum(), player_data[\"BP\"].sum(), player_data[\"AS\"].sum(), player_data[\"KP\"].sum(), player_data[\"P\"].sum(), player_data[\"P%\"].sum()  / player_data[\"P%\"].size, player_data[\"R\"].sum(), player_data[\"FYC\"].sum(), player_data[\"SYC\"].sum(), player_data[\"RC\"].sum(), player_data[\"M_played\"].size])\n",
    "\n",
    "players = pd.DataFrame(np.array(players), columns=['Name', 'Team' , 'M', 'G', 'OG', 'A', 'AT', 'BS', 'SC', 'FS', 'BP', 'AS', 'KP', 'P', 'P%', 'R', 'FYC', 'SYC', 'RC', \"N\"])\n",
    "players = players.astype({'M':'int32', 'G':'int32', 'OG':'int32', 'A':'int32', 'AT':'int32', 'BS':'int32', 'SC':'int32', 'FS':'int32', 'BP':'int32', 'AS':'int32', 'KP':'int32', 'P':'int32', 'P%':'float', 'R':'int32', 'FYC':'int32', 'SYC':'int32', 'RC':'int32', 'N':'int32'})\n",
    "players = players[players['M'] >= min_time]\n",
    "players = players[players['N'] >= min_games]"
   ]
  },
  {
   "cell_type": "code",
   "execution_count": 6,
   "metadata": {},
   "outputs": [
    {
     "name": "stdout",
     "output_type": "stream",
     "text": [
      "             Name                 Team     M\n",
      "213    G.PEZZELLA  [PARMA, FIORENTINA]  3372\n",
      "311  L.PELLEGRINI        [ROMA, GENOA]  2812\n",
      "450     R.SORIANO            [BOLOGNA]  2543\n",
      "269    JOAO PEDRO           [CAGLIARI]  2496\n",
      "423     R.DE PAUL            [UDINESE]  2477\n",
      "296      L.DANILO            [BOLOGNA]  2465\n",
      "256     J.MESSIAS            [CROTONE]  2458\n",
      "279        K.GLIK          [BENEVENTO]  2451\n",
      "195  G.DI LORENZO             [NAPOLI]  2400\n",
      "171      F.KESSIE              [MILAN]  2379\n"
     ]
    }
   ],
   "source": [
    "players = players.sort_values(by='M', ascending=False)\n",
    "print(players[[\"Name\", \"Team\", \"M\"]].head(n=10))"
   ]
  },
  {
   "cell_type": "code",
   "execution_count": 7,
   "metadata": {},
   "outputs": [
    {
     "name": "stdout",
     "output_type": "stream",
     "text": [
      "             Name          Team        M_N\n",
      "87         BREMER      [TORINO]  96.800000\n",
      "492   T.HERNANDEZ       [MILAN]  96.391304\n",
      "198     G.FERRARI    [SASSUOLO]  96.291667\n",
      "57    A.ROMAGNOLI       [MILAN]  96.050000\n",
      "195  G.DI LORENZO      [NAPOLI]  96.000000\n",
      "496    T.TOMIYASU     [BOLOGNA]  95.375000\n",
      "423     R.DE PAUL     [UDINESE]  95.269231\n",
      "392  N.MILENKOVIC  [FIORENTINA]  95.000000\n",
      "124       D.GODIN    [CAGLIARI]  94.944444\n",
      "403      O.COLLEY   [SAMPDORIA]  94.842105\n"
     ]
    }
   ],
   "source": [
    "players['M_N'] = players['M'] / players['N']\n",
    "players = players.sort_values(by='M_N', ascending=False)\n",
    "print(players[[\"Name\", \"Team\", \"M_N\"]].head(n=10))"
   ]
  },
  {
   "cell_type": "code",
   "execution_count": 8,
   "metadata": {},
   "outputs": [
    {
     "name": "stdout",
     "output_type": "stream",
     "text": [
      "              Name          Team   G\n",
      "103      C.RONALDO    [JUVENTUS]  23\n",
      "437       R.LUKAKU       [INTER]  19\n",
      "309       L.MURIEL    [ATALANTA]  16\n",
      "517  Z.IBRAHIMOVIC       [MILAN]  14\n",
      "307     L.MARTINEZ       [INTER]  14\n",
      "93      C.IMMOBILE       [LAZIO]  14\n",
      "269     JOAO PEDRO    [CAGLIARI]  13\n",
      "301      L.INSIGNE      [NAPOLI]  13\n",
      "487           SIMY     [CROTONE]  12\n",
      "135     D.VLAHOVIC  [FIORENTINA]  12\n"
     ]
    }
   ],
   "source": [
    "players = players.sort_values(by='G', ascending=False)\n",
    "print(players[[\"Name\", \"Team\", \"G\"]].head(n=10))"
   ]
  },
  {
   "cell_type": "code",
   "execution_count": 9,
   "metadata": {},
   "outputs": [
    {
     "name": "stdout",
     "output_type": "stream",
     "text": [
      "              Name        Team       G_M         M_G\n",
      "309       L.MURIEL  [ATALANTA]  0.015489   64.562500\n",
      "517  Z.IBRAHIMOVIC     [MILAN]  0.012048   83.000000\n",
      "103      C.RONALDO  [JUVENTUS]  0.011258   88.826087\n",
      "437       R.LUKAKU     [INTER]  0.008772  114.000000\n",
      "159      F.CAICEDO     [LAZIO]  0.007928  126.142857\n",
      "340       M.DESTRO     [GENOA]  0.007550  132.444444\n",
      "307     L.MARTINEZ     [INTER]  0.007258  137.785714\n",
      "93      C.IMMOBILE     [LAZIO]  0.007004  142.785714\n",
      "301      L.INSIGNE    [NAPOLI]  0.006860  145.769231\n",
      "161       F.CAPUTO  [SASSUOLO]  0.006687  149.545455\n"
     ]
    }
   ],
   "source": [
    "players['G_M'] = players['G'] / players['M']\n",
    "players = players.sort_values(by='G_M', ascending=False)\n",
    "top_players = players[[\"Name\", \"Team\", \"G_M\"]].head(n=10)\n",
    "top_players['M_G'] = players['M'] / players['G']\n",
    "print(top_players.head(n=10))"
   ]
  },
  {
   "cell_type": "code",
   "execution_count": 10,
   "metadata": {},
   "outputs": [
    {
     "name": "stdout",
     "output_type": "stream",
     "text": [
      "             Name        Team    A\n",
      "103     C.RONALDO  [JUVENTUS]  111\n",
      "301     L.INSIGNE    [NAPOLI]   91\n",
      "307    L.MARTINEZ     [INTER]   80\n",
      "5       A.BELOTTI    [TORINO]   71\n",
      "93     C.IMMOBILE     [LAZIO]   69\n",
      "109     D.BERARDI  [SASSUOLO]   68\n",
      "437      R.LUKAKU     [INTER]   65\n",
      "256     J.MESSIAS   [CROTONE]   64\n",
      "226  H.MKHITARYAN      [ROMA]   64\n",
      "326      M.BARROW   [BOLOGNA]   63\n"
     ]
    }
   ],
   "source": [
    "players = players.sort_values(by='A', ascending=False)\n",
    "print(players[[\"Name\", \"Team\", \"A\"]].head(n=10))"
   ]
  },
  {
   "cell_type": "code",
   "execution_count": 11,
   "metadata": {},
   "outputs": [
    {
     "name": "stdout",
     "output_type": "stream",
     "text": [
      "              Name        Team       A_M        M_A\n",
      "103      C.RONALDO  [JUVENTUS]  0.054332  18.405405\n",
      "309       L.MURIEL  [ATALANTA]  0.053243  18.781818\n",
      "517  Z.IBRAHIMOVIC     [MILAN]  0.052496  19.049180\n",
      "301      L.INSIGNE    [NAPOLI]  0.048021  20.824176\n",
      "307     L.MARTINEZ     [INTER]  0.041472  24.112500\n",
      "129      D.MERTENS    [NAPOLI]  0.038140  26.219512\n",
      "109      D.BERARDI  [SASSUOLO]  0.036757  27.205882\n",
      "249       J.ILICIC  [ATALANTA]  0.036725  27.229167\n",
      "506      V.OSIMHEN    [NAPOLI]  0.035583  28.103448\n",
      "93      C.IMMOBILE     [LAZIO]  0.034517  28.971014\n"
     ]
    }
   ],
   "source": [
    "players['A_M'] = players['A'] / players['M']\n",
    "players = players.sort_values(by='A_M', ascending=False)\n",
    "top_players = players[[\"Name\", \"Team\", \"A_M\"]].head(n=10)\n",
    "top_players['M_A'] = players['M'] / players['A']\n",
    "print(top_players.head(n=10))"
   ]
  },
  {
   "cell_type": "code",
   "execution_count": 12,
   "metadata": {},
   "outputs": [
    {
     "name": "stdout",
     "output_type": "stream",
     "text": [
      "                   Name                    Team  AS\n",
      "226        H.MKHITARYAN                  [ROMA]   8\n",
      "223        H.CALHANOGLU                 [MILAN]   8\n",
      "249            J.ILICIC              [ATALANTA]   7\n",
      "136            D.ZAPATA              [ATALANTA]   7\n",
      "164            F.CHIESA  [FIORENTINA, JUVENTUS]   7\n",
      "473  S.MILINKOVIC-SAVIC                 [LAZIO]   7\n",
      "44             A.MORATA              [JUVENTUS]   7\n",
      "309            L.MURIEL              [ATALANTA]   7\n",
      "311        L.PELLEGRINI           [ROMA, GENOA]   7\n",
      "328          M.BROZOVIC                 [INTER]   6\n",
      "418         P.ZIELINSKI                [NAPOLI]   6\n",
      "129           D.MERTENS                [NAPOLI]   6\n",
      "10           A.CANDREVA             [SAMPDORIA]   6\n",
      "423           R.DE PAUL               [UDINESE]   6\n",
      "61            A.SANCHEZ                 [INTER]   6\n",
      "437            R.LUKAKU                 [INTER]   6\n",
      "246          J.CUADRADO              [JUVENTUS]   6\n",
      "326            M.BARROW               [BOLOGNA]   6\n",
      "386           N.BARELLA                 [INTER]   5\n",
      "179            F.RIBERY            [FIORENTINA]   5\n",
      "428            R.GOSENS              [ATALANTA]   5\n",
      "433          R.KARSDORP                  [ROMA]   5\n",
      "436              R.LEAO                 [MILAN]   5\n",
      "450           R.SORIANO               [BOLOGNA]   5\n",
      "5             A.BELOTTI                [TORINO]   5\n"
     ]
    }
   ],
   "source": [
    "players = players.sort_values(by='AS', ascending=False)\n",
    "print(players[[\"Name\", \"Team\", \"AS\"]].head(n=25))"
   ]
  },
  {
   "cell_type": "code",
   "execution_count": 13,
   "metadata": {},
   "outputs": [
    {
     "name": "stdout",
     "output_type": "stream",
     "text": [
      "             Name        Team      AS_M        M_AS\n",
      "309      L.MURIEL  [ATALANTA]  0.006776  147.571429\n",
      "61      A.SANCHEZ     [INTER]  0.006572  152.166667\n",
      "129     D.MERTENS    [NAPOLI]  0.005581  179.166667\n",
      "249      J.ILICIC  [ATALANTA]  0.005356  186.714286\n",
      "44       A.MORATA  [JUVENTUS]  0.004944  202.285714\n",
      "223  H.CALHANOGLU     [MILAN]  0.004510  221.750000\n",
      "136      D.ZAPATA  [ATALANTA]  0.004300  232.571429\n",
      "246    J.CUADRADO  [JUVENTUS]  0.004132  242.000000\n",
      "52       A.RAMSEY  [JUVENTUS]  0.003872  258.250000\n",
      "482       S.VERDI    [TORINO]  0.003788  264.000000\n"
     ]
    }
   ],
   "source": [
    "players['AS_M'] = players['AS'] / players['M']\n",
    "players = players.sort_values(by='AS_M', ascending=False)\n",
    "top_players = players[[\"Name\", \"Team\", \"AS_M\"]].head(n=10)\n",
    "top_players['M_AS'] = players['M'] / players['AS']\n",
    "print(top_players.head(n=10))"
   ]
  },
  {
   "cell_type": "code",
   "execution_count": 14,
   "metadata": {},
   "outputs": [
    {
     "name": "stdout",
     "output_type": "stream",
     "text": [
      "             Name                 Team    BP\n",
      "350   M.LOCATELLI           [SASSUOLO]  2345\n",
      "198     G.FERRARI           [SASSUOLO]  2110\n",
      "195  G.DI LORENZO             [NAPOLI]  2072\n",
      "138        DANILO           [JUVENTUS]  2069\n",
      "213    G.PEZZELLA  [PARMA, FIORENTINA]  2043\n",
      "311  L.PELLEGRINI        [ROMA, GENOA]  2023\n",
      "423     R.DE PAUL            [UDINESE]  2015\n",
      "4       A.BASTONI              [INTER]  1918\n",
      "328    M.BROZOVIC              [INTER]  1815\n",
      "112    D.CALABRIA              [MILAN]  1813\n"
     ]
    }
   ],
   "source": [
    "players = players.sort_values(by='BP', ascending=False)\n",
    "print(players[[\"Name\", \"Team\", \"BP\"]].head(n=10))"
   ]
  },
  {
   "cell_type": "code",
   "execution_count": 15,
   "metadata": {},
   "outputs": [
    {
     "name": "stdout",
     "output_type": "stream",
     "text": [
      "            Name        Team      BP_M      M_BP\n",
      "350  M.LOCATELLI  [SASSUOLO]  1.032130  0.968870\n",
      "72        ARTHUR  [JUVENTUS]  0.972856  1.027902\n",
      "384    MARIO RUI    [NAPOLI]  0.935773  1.068635\n",
      "328   M.BROZOVIC     [INTER]  0.933642  1.071074\n",
      "421  R.BENTANCUR  [JUVENTUS]  0.929311  1.076066\n",
      "246   J.CUADRADO  [JUVENTUS]  0.926309  1.079554\n",
      "138       DANILO  [JUVENTUS]  0.918331  1.088932\n",
      "198    G.FERRARI  [SASSUOLO]  0.913025  1.095261\n",
      "117      D.DEMME    [NAPOLI]  0.903754  1.106496\n",
      "71   ALEX SANDRO  [JUVENTUS]  0.900411  1.110604\n"
     ]
    }
   ],
   "source": [
    "players['BP_M'] = players['BP'] / players['M']\n",
    "players = players.sort_values(by='BP_M', ascending=False)\n",
    "top_players = players[[\"Name\", \"Team\", \"BP_M\"]].head(n=10)\n",
    "top_players['M_BP'] = players['M'] / players['BP']\n",
    "print(top_players.head(n=10))"
   ]
  },
  {
   "cell_type": "code",
   "execution_count": 16,
   "metadata": {},
   "outputs": [
    {
     "name": "stdout",
     "output_type": "stream",
     "text": [
      "             Name        Team     P\n",
      "350   M.LOCATELLI  [SASSUOLO]  1698\n",
      "198     G.FERRARI  [SASSUOLO]  1673\n",
      "138        DANILO  [JUVENTUS]  1506\n",
      "4       A.BASTONI     [INTER]  1488\n",
      "371    M.SKRINIAR     [INTER]  1388\n",
      "459     S.DE VRIJ     [INTER]  1353\n",
      "328    M.BROZOVIC     [INTER]  1342\n",
      "195  G.DI LORENZO    [NAPOLI]  1301\n",
      "337     M.DE ROON  [ATALANTA]  1267\n",
      "155      F.ACERBI     [LAZIO]  1233\n"
     ]
    }
   ],
   "source": [
    "players = players.sort_values(by='P', ascending=False)\n",
    "print(players[[\"Name\", \"Team\", \"P\"]].head(n=10))"
   ]
  },
  {
   "cell_type": "code",
   "execution_count": 17,
   "metadata": {},
   "outputs": [
    {
     "name": "stdout",
     "output_type": "stream",
     "text": [
      "             Name        Team       P_M       M_P\n",
      "72         ARTHUR  [JUVENTUS]  0.803474  1.244595\n",
      "350   M.LOCATELLI  [SASSUOLO]  0.747359  1.338045\n",
      "385        MARLON  [SASSUOLO]  0.743966  1.344148\n",
      "198     G.FERRARI  [SASSUOLO]  0.723929  1.381351\n",
      "336     M.DE LIGT  [JUVENTUS]  0.711918  1.404656\n",
      "281   K.KOULIBALY    [NAPOLI]  0.696067  1.436644\n",
      "391  N.MAKSIMOVIC    [NAPOLI]  0.693915  1.441099\n",
      "328    M.BROZOVIC     [INTER]  0.690329  1.448584\n",
      "499   V.CHIRICHES  [SASSUOLO]  0.684255  1.461444\n",
      "117       D.DEMME    [NAPOLI]  0.682387  1.465444\n"
     ]
    }
   ],
   "source": [
    "players['P_M'] = players['P'] / players['M']\n",
    "players = players.sort_values(by='P_M', ascending=False)\n",
    "top_players = players[[\"Name\", \"Team\", \"P_M\"]].head(n=10)\n",
    "top_players['M_P'] = players['M'] / players['P']\n",
    "print(top_players.head(n=10))"
   ]
  },
  {
   "cell_type": "code",
   "execution_count": 18,
   "metadata": {},
   "outputs": [
    {
     "name": "stdout",
     "output_type": "stream",
     "text": [
      "             Name        Team         P%\n",
      "459     S.DE VRIJ     [INTER]  92.600000\n",
      "391  N.MAKSIMOVIC    [NAPOLI]  92.466667\n",
      "351       M.LOPEZ  [SASSUOLO]  92.315789\n",
      "336     M.DE LIGT  [JUVENTUS]  92.266667\n",
      "72         ARTHUR  [JUVENTUS]  92.133333\n",
      "371    M.SKRINIAR     [INTER]  92.086957\n",
      "421   R.BENTANCUR  [JUVENTUS]  91.181818\n",
      "285     K.MANOLAS    [NAPOLI]  91.000000\n",
      "266      J.TOLJAN  [SASSUOLO]  90.800000\n",
      "51       A.RABIOT  [JUVENTUS]  90.727273\n"
     ]
    }
   ],
   "source": [
    "players = players.sort_values(by='P%', ascending=False)\n",
    "print(players[[\"Name\", \"Team\", \"P%\"]].head(n=10))"
   ]
  },
  {
   "cell_type": "code",
   "execution_count": 19,
   "metadata": {},
   "outputs": [
    {
     "name": "stdout",
     "output_type": "stream",
     "text": [
      "              Name                    Team  KP\n",
      "423      R.DE PAUL               [UDINESE]  29\n",
      "249       J.ILICIC              [ATALANTA]  28\n",
      "321   LUIS ALBERTO                 [LAZIO]  22\n",
      "223   H.CALHANOGLU                 [MILAN]  20\n",
      "109      D.BERARDI              [SASSUOLO]  19\n",
      "311   L.PELLEGRINI           [ROMA, GENOA]  19\n",
      "450      R.SORIANO               [BOLOGNA]  16\n",
      "381     M.ZACCAGNI         [HELLAS VERONA]  16\n",
      "31        A.HAKIMI                 [INTER]  15\n",
      "315   L.SPINAZZOLA                  [ROMA]  15\n",
      "166      F.DIMARCO         [HELLAS VERONA]  15\n",
      "441        R.MARIN              [CAGLIARI]  14\n",
      "386      N.BARELLA                 [INTER]  14\n",
      "164       F.CHIESA  [FIORENTINA, JUVENTUS]  13\n",
      "438  R.MALINOVSKYI              [ATALANTA]  13\n"
     ]
    }
   ],
   "source": [
    "players = players.sort_values(by='KP', ascending=False)\n",
    "print(players[[\"Name\", \"Team\", \"KP\"]].head(n=15))"
   ]
  },
  {
   "cell_type": "code",
   "execution_count": 20,
   "metadata": {},
   "outputs": [
    {
     "name": "stdout",
     "output_type": "stream",
     "text": [
      "               Name        Team      KP_M        M_KP\n",
      "249        J.ILICIC  [ATALANTA]  0.021423   46.678571\n",
      "321    LUIS ALBERTO     [LAZIO]  0.011790   84.818182\n",
      "423       R.DE PAUL   [UDINESE]  0.011708   85.413793\n",
      "223    H.CALHANOGLU     [MILAN]  0.011274   88.700000\n",
      "438   R.MALINOVSKYI  [ATALANTA]  0.010682   93.615385\n",
      "109       D.BERARDI  [SASSUOLO]  0.010270   97.368421\n",
      "61        A.SANCHEZ     [INTER]  0.009858  101.444444\n",
      "482         S.VERDI    [TORINO]  0.009470  105.600000\n",
      "157  F.BERNARDESCHI  [JUVENTUS]  0.009313  107.375000\n",
      "48        A.PETAGNA    [NAPOLI]  0.008946  111.777778\n"
     ]
    }
   ],
   "source": [
    "players['KP_M'] = players['KP'] / players['M']\n",
    "players = players.sort_values(by='KP_M', ascending=False)\n",
    "top_players = players[[\"Name\", \"Team\", \"KP_M\"]].head(n=10)\n",
    "top_players['M_KP'] = players['M'] / players['KP']\n",
    "print(top_players.head(n=10))"
   ]
  },
  {
   "cell_type": "code",
   "execution_count": 21,
   "metadata": {
    "scrolled": true
   },
   "outputs": [
    {
     "name": "stdout",
     "output_type": "stream",
     "text": [
      "             Name             Team  FS\n",
      "423     R.DE PAUL        [UDINESE]  95\n",
      "5       A.BELOTTI         [TORINO]  93\n",
      "381    M.ZACCAGNI  [HELLAS VERONA]  74\n",
      "256     J.MESSIAS        [CROTONE]  73\n",
      "269    JOAO PEDRO       [CAGLIARI]  72\n",
      "492   T.HERNANDEZ          [MILAN]  59\n",
      "225      H.LOZANO         [NAPOLI]  59\n",
      "252       J.KUCKA          [PARMA]  57\n",
      "249      J.ILICIC       [ATALANTA]  55\n",
      "311  L.PELLEGRINI    [ROMA, GENOA]  54\n"
     ]
    }
   ],
   "source": [
    "players = players.sort_values(by='FS', ascending=False)\n",
    "print(players[[\"Name\", \"Team\", \"FS\"]].head(n=10))"
   ]
  },
  {
   "cell_type": "code",
   "execution_count": 22,
   "metadata": {
    "scrolled": true
   },
   "outputs": [
    {
     "name": "stdout",
     "output_type": "stream",
     "text": [
      "             Name                      Team      FS_M       M_FS\n",
      "5       A.BELOTTI                  [TORINO]  0.044370  22.537634\n",
      "249      J.ILICIC                [ATALANTA]  0.042081  23.763636\n",
      "423     R.DE PAUL                 [UDINESE]  0.038353  26.073684\n",
      "381    M.ZACCAGNI           [HELLAS VERONA]  0.036525  27.378378\n",
      "225      H.LOZANO                  [NAPOLI]  0.035910  27.847458\n",
      "179      F.RIBERY              [FIORENTINA]  0.035053  28.528302\n",
      "209      G.PANDEV                   [GENOA]  0.033171  30.147059\n",
      "214     G.RAMIREZ               [SAMPDORIA]  0.032901  30.393939\n",
      "461  S.DI CARMINE  [HELLAS VERONA, CROTONE]  0.032644  30.633333\n",
      "411     P.HETEMAJ               [BENEVENTO]  0.031211  32.040000\n"
     ]
    }
   ],
   "source": [
    "players['FS_M'] = players['FS'] / players['M']\n",
    "players = players.sort_values(by='FS_M', ascending=False)\n",
    "top_players = players[[\"Name\", \"Team\", \"FS_M\"]].head(n=10)\n",
    "top_players['M_FS'] = players['M'] / players['FS']\n",
    "print(top_players.head(n=10))"
   ]
  },
  {
   "cell_type": "code",
   "execution_count": 23,
   "metadata": {},
   "outputs": [
    {
     "name": "stdout",
     "output_type": "stream",
     "text": [
      "             Name                 Team    R\n",
      "213    G.PEZZELLA  [PARMA, FIORENTINA]  244\n",
      "279        K.GLIK          [BENEVENTO]  242\n",
      "496    T.TOMIYASU            [BOLOGNA]  238\n",
      "102      C.ROMERO           [ATALANTA]  227\n",
      "155      F.ACERBI              [LAZIO]  216\n",
      "392  N.MILENKOVIC         [FIORENTINA]  210\n",
      "87         BREMER             [TORINO]  203\n",
      "429      R.IBANEZ               [ROMA]  203\n",
      "296      L.DANILO            [BOLOGNA]  202\n",
      "204     G.MAGNANI      [HELLAS VERONA]  191\n"
     ]
    }
   ],
   "source": [
    "players = players.sort_values(by='R', ascending=False)\n",
    "print(players[[\"Name\", \"Team\", \"R\"]].head(n=10))"
   ]
  },
  {
   "cell_type": "code",
   "execution_count": 24,
   "metadata": {},
   "outputs": [
    {
     "name": "stdout",
     "output_type": "stream",
     "text": [
      "            Name             Team       R_M       M_R\n",
      "204    G.MAGNANI  [HELLAS VERONA]  0.146697  6.816754\n",
      "280     K.GUNTER  [HELLAS VERONA]  0.132308  7.558140\n",
      "102     C.ROMERO       [ATALANTA]  0.127029  7.872247\n",
      "325       M.BANI   [GENOA, PARMA]  0.110738  9.030303\n",
      "499  V.CHIRICHES       [SASSUOLO]  0.109715  9.114504\n",
      "458    S.DE MAIO        [UDINESE]  0.106529  9.387097\n",
      "64    A.SOUMAORO        [BOLOGNA]  0.105781  9.453488\n",
      "403     O.COLLEY      [SAMPDORIA]  0.104883  9.534392\n",
      "87        BREMER         [TORINO]  0.104855  9.536946\n",
      "124      D.GODIN       [CAGLIARI]  0.104154  9.601124\n"
     ]
    }
   ],
   "source": [
    "players['R_M'] = players['R'] / players['M']\n",
    "players = players.sort_values(by='R_M', ascending=False)\n",
    "top_players = players[[\"Name\", \"Team\", \"R_M\"]].head(n=10)\n",
    "top_players['M_R'] = players['M'] / players['R']\n",
    "print(top_players.head(n=10))"
   ]
  },
  {
   "cell_type": "code",
   "execution_count": 25,
   "metadata": {},
   "outputs": [],
   "source": [
    "thisdir = os.getcwd()\n",
    "thisdir += \"/2020-2021/Player Data/Goalkeeper/\"\n",
    "csv_list = []\n",
    "\n",
    "for r, d, f in os.walk(thisdir):\n",
    "    for file in f:\n",
    "        if file.endswith(\".csv\"):\n",
    "            csv_list.append(os.path.join(r, file))\n",
    "\n",
    "csv_list = sorted(csv_list)\n",
    "\n",
    "players = []\n",
    "\n",
    "for csv_file in csv_list:\n",
    "#     print(csv_file)\n",
    "    if csv_file[-5:] == \"/.csv\":\n",
    "        continue\n",
    "    player_data = pd.read_csv(csv_file, encoding='latin-1')\n",
    "    player_data[\"M_played\"] = player_data.apply(lambda row:convert_to_minutes(row), axis=1)\n",
    "    player_data = player_data.astype({'GC':'int32', 'OG':'int32', 'S':'int32', 'STP':'int32', 'SF':'int32', 'FYC':'int32', 'SYC':'int32', 'RC':'int32'})\n",
    "\n",
    "    players.append([player_data[\"Name\"].unique()[0], player_data[\"Team\"].unique(), player_data[\"M_played\"].sum(), player_data[\"GC\"].sum(), player_data[\"OG\"].sum(), player_data[\"S\"].sum(), player_data[\"STP\"].sum(), player_data[\"SF\"].sum(), player_data[\"FYC\"].sum(), player_data[\"SYC\"].sum(), player_data[\"RC\"].sum(), player_data[\"M_played\"].size])\n",
    "\n",
    "players = pd.DataFrame(np.array(players), columns=['Name', 'Team' , 'M', 'GC', 'OG', 'S', 'STP', 'SF', 'FYC', 'SYC', 'RC', 'N'])\n",
    "players = players.astype({'M':'int32', 'GC':'int32', 'OG':'int32', 'S':'int32', 'STP':'int32', 'SF':'int32', 'FYC':'int32', 'SYC':'int32', 'RC':'int32', 'N':'int32'})\n",
    "players = players[players['M'] >= min_time]\n",
    "players = players[players['N'] >= min_games]"
   ]
  },
  {
   "cell_type": "code",
   "execution_count": 26,
   "metadata": {},
   "outputs": [
    {
     "name": "stdout",
     "output_type": "stream",
     "text": [
      "            Name             Team     M\n",
      "7    B.DRAGOWSKI     [FIORENTINA]  2598\n",
      "2       A.CRAGNO       [CAGLIARI]  2586\n",
      "23   M.SILVESTRI  [HELLAS VERONA]  2586\n",
      "19    L.MONTIPO'      [BENEVENTO]  2585\n",
      "30  S.HANDANOVIC          [INTER]  2583\n",
      "20        L.SEPE          [PARMA]  2583\n",
      "10      E.AUDERO      [SAMPDORIA]  2580\n",
      "1       A.CORDAZ        [CROTONE]  2573\n",
      "14  G.DONNARUMMA          [MILAN]  2501\n",
      "0     A.CONSIGLI       [SASSUOLO]  2414\n"
     ]
    }
   ],
   "source": [
    "players = players.sort_values(by='M', ascending=False)\n",
    "print(players[[\"Name\", \"Team\", \"M\"]].head(n=10))"
   ]
  },
  {
   "cell_type": "code",
   "execution_count": 27,
   "metadata": {},
   "outputs": [
    {
     "name": "stdout",
     "output_type": "stream",
     "text": [
      "            Name          Team        M_N\n",
      "31      S.SIRIGU      [TORINO]  97.000000\n",
      "0     A.CONSIGLI    [SASSUOLO]  96.560000\n",
      "4        A.MERET      [NAPOLI]  96.333333\n",
      "7    B.DRAGOWSKI  [FIORENTINA]  96.222222\n",
      "14  G.DONNARUMMA       [MILAN]  96.192308\n",
      "34    W.SZCZESNY    [JUVENTUS]  96.142857\n",
      "17       J.MUSSO     [UDINESE]  96.000000\n",
      "16    I.PROVEDEL      [SPEZIA]  95.954545\n",
      "21   L.SKORUPSKI     [BOLOGNA]  95.900000\n",
      "28       P.REINA       [LAZIO]  95.800000\n"
     ]
    }
   ],
   "source": [
    "players['M_N'] = players['M'] / players['N']\n",
    "players = players.sort_values(by='M_N', ascending=False)\n",
    "print(players[[\"Name\", \"Team\", \"M_N\"]].head(n=10))"
   ]
  },
  {
   "cell_type": "code",
   "execution_count": 28,
   "metadata": {},
   "outputs": [
    {
     "name": "stdout",
     "output_type": "stream",
     "text": [
      "           Name             Team  GC\n",
      "1      A.CORDAZ        [CROTONE]  67\n",
      "19   L.MONTIPO'      [BENEVENTO]  52\n",
      "20       L.SEPE          [PARMA]  52\n",
      "2      A.CRAGNO       [CAGLIARI]  46\n",
      "31     S.SIRIGU         [TORINO]  43\n",
      "7   B.DRAGOWSKI     [FIORENTINA]  42\n",
      "10     E.AUDERO      [SAMPDORIA]  42\n",
      "0    A.CONSIGLI       [SASSUOLO]  41\n",
      "16   I.PROVEDEL         [SPEZIA]  39\n",
      "23  M.SILVESTRI  [HELLAS VERONA]  32\n"
     ]
    }
   ],
   "source": [
    "players = players.sort_values(by='GC', ascending=False)\n",
    "print(players[[\"Name\", \"Team\", \"GC\"]].head(n=10))"
   ]
  },
  {
   "cell_type": "code",
   "execution_count": 29,
   "metadata": {},
   "outputs": [
    {
     "name": "stdout",
     "output_type": "stream",
     "text": [
      "           Name          Team      GC_M       M_GC\n",
      "1      A.CORDAZ     [CROTONE]  0.026040  38.402985\n",
      "20       L.SEPE       [PARMA]  0.020132  49.673077\n",
      "19   L.MONTIPO'   [BENEVENTO]  0.020116  49.711538\n",
      "31     S.SIRIGU      [TORINO]  0.019274  51.883721\n",
      "16   I.PROVEDEL      [SPEZIA]  0.018475  54.128205\n",
      "2      A.CRAGNO    [CAGLIARI]  0.017788  56.217391\n",
      "0    A.CONSIGLI    [SASSUOLO]  0.016984  58.878049\n",
      "10     E.AUDERO   [SAMPDORIA]  0.016279  61.428571\n",
      "7   B.DRAGOWSKI  [FIORENTINA]  0.016166  61.857143\n",
      "5     A.MIRANTE        [ROMA]  0.015640  63.937500\n"
     ]
    }
   ],
   "source": [
    "players['GC_M'] = players['GC'] / players['M']\n",
    "players = players.sort_values(by='GC_M', ascending=False)\n",
    "top_players = players[[\"Name\", \"Team\", \"GC_M\"]].head(n=10)\n",
    "top_players['M_GC'] = players['M'] / players['GC']\n",
    "print(top_players.head(n=10))"
   ]
  },
  {
   "cell_type": "code",
   "execution_count": 30,
   "metadata": {},
   "outputs": [
    {
     "name": "stdout",
     "output_type": "stream",
     "text": [
      "            Name        Team  GC\n",
      "9       D.OSPINA    [NAPOLI]  12\n",
      "26     P.GOLLINI  [ATALANTA]  16\n",
      "5      A.MIRANTE      [ROMA]  16\n",
      "4        A.MERET    [NAPOLI]  17\n",
      "24  M.SPORTIELLO  [ATALANTA]  18\n",
      "34    W.SZCZESNY  [JUVENTUS]  20\n",
      "27       P.LOPEZ      [ROMA]  21\n",
      "28       P.REINA     [LAZIO]  25\n",
      "30  S.HANDANOVIC     [INTER]  26\n",
      "14  G.DONNARUMMA     [MILAN]  28\n"
     ]
    }
   ],
   "source": [
    "players = players.sort_values(by='GC')\n",
    "print(players[[\"Name\", \"Team\", \"GC\"]].head(n=10))"
   ]
  },
  {
   "cell_type": "code",
   "execution_count": 31,
   "metadata": {},
   "outputs": [
    {
     "name": "stdout",
     "output_type": "stream",
     "text": [
      "            Name             Team      GC_M        M_GC\n",
      "9       D.OSPINA         [NAPOLI]  0.008975  111.416667\n",
      "34    W.SZCZESNY       [JUVENTUS]  0.009906  100.950000\n",
      "30  S.HANDANOVIC          [INTER]  0.010066   99.346154\n",
      "14  G.DONNARUMMA          [MILAN]  0.011196   89.321429\n",
      "26     P.GOLLINI       [ATALANTA]  0.011412   87.625000\n",
      "23   M.SILVESTRI  [HELLAS VERONA]  0.012374   80.812500\n",
      "17       J.MUSSO        [UDINESE]  0.012500   80.000000\n",
      "28       P.REINA          [LAZIO]  0.013048   76.640000\n",
      "22       M.PERIN          [GENOA]  0.013254   75.448276\n",
      "27       P.LOPEZ           [ROMA]  0.013470   74.238095\n"
     ]
    }
   ],
   "source": [
    "players['GC_M'] = players['GC'] / players['M']\n",
    "players = players.sort_values(by='GC_M')\n",
    "top_players = players[[\"Name\", \"Team\", \"GC_M\"]].head(n=10)\n",
    "top_players['M_GC'] = players['M'] / players['GC']\n",
    "print(top_players.head(n=10))"
   ]
  },
  {
   "cell_type": "code",
   "execution_count": 32,
   "metadata": {},
   "outputs": [
    {
     "name": "stdout",
     "output_type": "stream",
     "text": [
      "            Name             Team    S\n",
      "2       A.CRAGNO       [CAGLIARI]  119\n",
      "10      E.AUDERO      [SAMPDORIA]   99\n",
      "1       A.CORDAZ        [CROTONE]   96\n",
      "20        L.SEPE          [PARMA]   95\n",
      "21   L.SKORUPSKI        [BOLOGNA]   93\n",
      "22       M.PERIN          [GENOA]   89\n",
      "0     A.CONSIGLI       [SASSUOLO]   89\n",
      "23   M.SILVESTRI  [HELLAS VERONA]   87\n",
      "14  G.DONNARUMMA          [MILAN]   86\n",
      "19    L.MONTIPO'      [BENEVENTO]   86\n"
     ]
    }
   ],
   "source": [
    "players = players.sort_values(by='S', ascending=False)\n",
    "print(players[[\"Name\", \"Team\", \"S\"]].head(n=10))"
   ]
  },
  {
   "cell_type": "code",
   "execution_count": 33,
   "metadata": {},
   "outputs": [
    {
     "name": "stdout",
     "output_type": "stream",
     "text": [
      "            Name             Team       S_M        M_S\n",
      "21   L.SKORUPSKI        [BOLOGNA]  0.048488  20.623656\n",
      "2       A.CRAGNO       [CAGLIARI]  0.046017  21.731092\n",
      "22       M.PERIN          [GENOA]  0.040676  24.584270\n",
      "10      E.AUDERO      [SAMPDORIA]  0.038372  26.060606\n",
      "1       A.CORDAZ        [CROTONE]  0.037311  26.802083\n",
      "0     A.CONSIGLI       [SASSUOLO]  0.036868  27.123596\n",
      "20        L.SEPE          [PARMA]  0.036779  27.189474\n",
      "14  G.DONNARUMMA          [MILAN]  0.034386  29.081395\n",
      "4        A.MERET         [NAPOLI]  0.033737  29.641026\n",
      "23   M.SILVESTRI  [HELLAS VERONA]  0.033643  29.724138\n"
     ]
    }
   ],
   "source": [
    "players['S_M'] = players['S'] / players['M']\n",
    "players = players.sort_values(by='S_M', ascending=False)\n",
    "top_players = players[[\"Name\", \"Team\", \"S_M\"]].head(n=10)\n",
    "top_players['M_S'] = players['M'] / players['S']\n",
    "print(top_players.head(n=10))"
   ]
  },
  {
   "cell_type": "code",
   "execution_count": 34,
   "metadata": {},
   "outputs": [
    {
     "name": "stdout",
     "output_type": "stream",
     "text": [
      "            Name             Team  Set_S\n",
      "20        L.SEPE          [PARMA]     15\n",
      "0     A.CONSIGLI       [SASSUOLO]     14\n",
      "2       A.CRAGNO       [CAGLIARI]     14\n",
      "14  G.DONNARUMMA          [MILAN]     13\n",
      "23   M.SILVESTRI  [HELLAS VERONA]     13\n",
      "19    L.MONTIPO'      [BENEVENTO]     13\n",
      "7    B.DRAGOWSKI     [FIORENTINA]     13\n",
      "17       J.MUSSO        [UDINESE]     10\n",
      "30  S.HANDANOVIC          [INTER]      9\n",
      "16    I.PROVEDEL         [SPEZIA]      9\n"
     ]
    }
   ],
   "source": [
    "players['Set_S'] = players['STP'] + players['SF']\n",
    "players = players.sort_values(by='Set_S', ascending=False)\n",
    "print(players[[\"Name\", \"Team\", \"Set_S\"]].head(n=10))"
   ]
  }
 ],
 "metadata": {
  "kernelspec": {
   "display_name": "Python 3",
   "language": "python",
   "name": "python3"
  },
  "language_info": {
   "codemirror_mode": {
    "name": "ipython",
    "version": 3
   },
   "file_extension": ".py",
   "mimetype": "text/x-python",
   "name": "python",
   "nbconvert_exporter": "python",
   "pygments_lexer": "ipython3",
   "version": "3.7.4"
  }
 },
 "nbformat": 4,
 "nbformat_minor": 2
}
