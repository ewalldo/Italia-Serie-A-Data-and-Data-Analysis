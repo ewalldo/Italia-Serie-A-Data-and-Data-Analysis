{
 "cells": [
  {
   "cell_type": "code",
   "execution_count": 1,
   "metadata": {},
   "outputs": [],
   "source": [
    "import os\n",
    "import csv\n",
    "import pandas as pd\n",
    "import numpy as np\n",
    "import math"
   ]
  },
  {
   "cell_type": "code",
   "execution_count": 2,
   "metadata": {},
   "outputs": [
    {
     "name": "stdout",
     "output_type": "stream",
     "text": [
      "630.0\n",
      "7\n"
     ]
    }
   ],
   "source": [
    "thisdir = os.getcwd()\n",
    "thisdir += \"/2020-2021/Player Data/Non-goalkeeper/\"\n",
    "csv_list = []\n",
    "\n",
    "n_games = 21 #total games played\n",
    "min_time = n_games / 3 * 90 #min time played to be eligible\n",
    "min_games = math.floor(n_games / 3) #min games played to be eligible\n",
    "print(min_time)\n",
    "print(min_games)"
   ]
  },
  {
   "cell_type": "code",
   "execution_count": 3,
   "metadata": {},
   "outputs": [],
   "source": [
    "for r, d, f in os.walk(thisdir):\n",
    "    for file in f:\n",
    "        if file.endswith(\".csv\"):\n",
    "            csv_list.append(os.path.join(r, file))\n",
    "\n",
    "csv_list = sorted(csv_list)"
   ]
  },
  {
   "cell_type": "code",
   "execution_count": 4,
   "metadata": {},
   "outputs": [],
   "source": [
    "def convert_to_minutes(row):\n",
    "    return int(row['M'][:-1])\n",
    "\n",
    "def convert_to_int(row, col):\n",
    "    return int(row[col])"
   ]
  },
  {
   "cell_type": "code",
   "execution_count": 5,
   "metadata": {},
   "outputs": [],
   "source": [
    "players = []\n",
    "\n",
    "for csv_file in csv_list:\n",
    "#     print(csv_file)\n",
    "    if csv_file[-5:] == \"/.csv\":\n",
    "        continue\n",
    "    player_data = pd.read_csv(csv_file, encoding='latin-1')\n",
    "    player_data[\"M_played\"] = player_data.apply(lambda row:convert_to_minutes(row), axis=1)\n",
    "    player_data = player_data.astype({'G':'int32', 'OG':'int32', 'A':'int32', 'AT':'int32', 'BS':'int32', 'SC':'int32', 'FS':'int32', 'BP':'int32', 'AS':'int32', 'KP':'int32', 'P':'int32', 'P%':'int32', 'R':'int32', 'FYC':'int32', 'SYC':'int32', 'RC':'int32'})\n",
    "\n",
    "    players.append([player_data[\"Name\"].unique()[0], player_data[\"Team\"].unique(), player_data[\"M_played\"].sum(), player_data[\"G\"].sum(), player_data[\"OG\"].sum(), player_data[\"A\"].sum(), player_data[\"AT\"].sum(), player_data[\"BS\"].sum(), player_data[\"SC\"].sum(), player_data[\"FS\"].sum(), player_data[\"BP\"].sum(), player_data[\"AS\"].sum(), player_data[\"KP\"].sum(), player_data[\"P\"].sum(), player_data[\"P%\"].sum()  / player_data[\"P%\"].size, player_data[\"R\"].sum(), player_data[\"FYC\"].sum(), player_data[\"SYC\"].sum(), player_data[\"RC\"].sum(), player_data[\"M_played\"].size])\n",
    "\n",
    "players = pd.DataFrame(np.array(players), columns=['Name', 'Team' , 'M', 'G', 'OG', 'A', 'AT', 'BS', 'SC', 'FS', 'BP', 'AS', 'KP', 'P', 'P%', 'R', 'FYC', 'SYC', 'RC', \"N\"])\n",
    "players = players.astype({'M':'int32', 'G':'int32', 'OG':'int32', 'A':'int32', 'AT':'int32', 'BS':'int32', 'SC':'int32', 'FS':'int32', 'BP':'int32', 'AS':'int32', 'KP':'int32', 'P':'int32', 'P%':'float', 'R':'int32', 'FYC':'int32', 'SYC':'int32', 'RC':'int32', 'N':'int32'})\n",
    "players = players[players['M'] >= min_time]\n",
    "players = players[players['N'] >= min_games]"
   ]
  },
  {
   "cell_type": "code",
   "execution_count": 6,
   "metadata": {},
   "outputs": [
    {
     "name": "stdout",
     "output_type": "stream",
     "text": [
      "             Name                 Team     M\n",
      "203    G.PEZZELLA  [PARMA, FIORENTINA]  2384\n",
      "299  L.PELLEGRINI        [ROMA, GENOA]  2203\n",
      "267        K.GLIK          [BENEVENTO]  2013\n",
      "481    T.TOMIYASU            [BOLOGNA]  2006\n",
      "284      L.DANILO            [BOLOGNA]  1988\n",
      "435     R.SORIANO            [BOLOGNA]  1969\n",
      "107    D.CALABRIA              [MILAN]  1969\n",
      "258    JOAO PEDRO           [CAGLIARI]  1965\n",
      "189     G.FERRARI           [SASSUOLO]  1927\n",
      "5       A.BELOTTI             [TORINO]  1902\n"
     ]
    }
   ],
   "source": [
    "players = players.sort_values(by='M', ascending=False)\n",
    "print(players[[\"Name\", \"Team\", \"M\"]].head(n=10))"
   ]
  },
  {
   "cell_type": "code",
   "execution_count": 7,
   "metadata": {},
   "outputs": [
    {
     "name": "stdout",
     "output_type": "stream",
     "text": [
      "             Name         Team        M_N\n",
      "83         BREMER     [TORINO]  97.176471\n",
      "477   T.HERNANDEZ      [MILAN]  96.500000\n",
      "189     G.FERRARI   [SASSUOLO]  96.350000\n",
      "55    A.ROMAGNOLI      [MILAN]  96.250000\n",
      "267        K.GLIK  [BENEVENTO]  95.857143\n",
      "186  G.DI LORENZO     [NAPOLI]  95.842105\n",
      "481    T.TOMIYASU    [BOLOGNA]  95.523810\n",
      "70        B.ALVES      [PARMA]  95.466667\n",
      "5       A.BELOTTI     [TORINO]  95.100000\n",
      "408     R.DE PAUL    [UDINESE]  95.000000\n"
     ]
    }
   ],
   "source": [
    "players['M_N'] = players['M'] / players['N']\n",
    "players = players.sort_values(by='M_N', ascending=False)\n",
    "print(players[[\"Name\", \"Team\", \"M_N\"]].head(n=10))"
   ]
  },
  {
   "cell_type": "code",
   "execution_count": 8,
   "metadata": {},
   "outputs": [
    {
     "name": "stdout",
     "output_type": "stream",
     "text": [
      "              Name        Team   G\n",
      "98       C.RONALDO  [JUVENTUS]  16\n",
      "501  Z.IBRAHIMOVIC     [MILAN]  14\n",
      "422       R.LUKAKU     [INTER]  14\n",
      "89      C.IMMOBILE     [LAZIO]  14\n",
      "297       L.MURIEL  [ATALANTA]  12\n",
      "258     JOAO PEDRO  [CAGLIARI]  11\n",
      "5        A.BELOTTI    [TORINO]  11\n",
      "295     L.MARTINEZ     [INTER]  10\n",
      "344        M.NZOLA    [SPEZIA]   9\n",
      "215       H.LOZANO    [NAPOLI]   9\n"
     ]
    }
   ],
   "source": [
    "players = players.sort_values(by='G', ascending=False)\n",
    "print(players[[\"Name\", \"Team\", \"G\"]].head(n=10))"
   ]
  },
  {
   "cell_type": "code",
   "execution_count": 9,
   "metadata": {},
   "outputs": [
    {
     "name": "stdout",
     "output_type": "stream",
     "text": [
      "              Name        Team       G_M         M_G\n",
      "297       L.MURIEL  [ATALANTA]  0.017118   58.416667\n",
      "501  Z.IBRAHIMOVIC     [MILAN]  0.014973   66.785714\n",
      "98       C.RONALDO  [JUVENTUS]  0.010430   95.875000\n",
      "328       M.DESTRO     [GENOA]  0.010274   97.333333\n",
      "422       R.LUKAKU     [INTER]  0.008772  114.000000\n",
      "89      C.IMMOBILE     [LAZIO]  0.008679  115.214286\n",
      "344        M.NZOLA    [SPEZIA]  0.007888  126.777778\n",
      "351     M.POLITANO    [NAPOLI]  0.007634  131.000000\n",
      "152      F.CAICEDO     [LAZIO]  0.007481  133.666667\n",
      "295     L.MARTINEZ     [INTER]  0.006640  150.600000\n"
     ]
    }
   ],
   "source": [
    "players['G_M'] = players['G'] / players['M']\n",
    "players = players.sort_values(by='G_M', ascending=False)\n",
    "top_players = players[[\"Name\", \"Team\", \"G_M\"]].head(n=10)\n",
    "top_players['M_G'] = players['M'] / players['G']\n",
    "print(top_players.head(n=10))"
   ]
  },
  {
   "cell_type": "code",
   "execution_count": 10,
   "metadata": {},
   "outputs": [
    {
     "name": "stdout",
     "output_type": "stream",
     "text": [
      "              Name          Team   A\n",
      "98       C.RONALDO    [JUVENTUS]  72\n",
      "289      L.INSIGNE      [NAPOLI]  72\n",
      "5        A.BELOTTI      [TORINO]  64\n",
      "295     L.MARTINEZ       [INTER]  61\n",
      "89      C.IMMOBILE       [LAZIO]  56\n",
      "216   H.MKHITARYAN        [ROMA]  53\n",
      "314       M.BARROW     [BOLOGNA]  51\n",
      "501  Z.IBRAHIMOVIC       [MILAN]  49\n",
      "245      J.MESSIAS     [CROTONE]  48\n",
      "129     D.VLAHOVIC  [FIORENTINA]  46\n"
     ]
    }
   ],
   "source": [
    "players = players.sort_values(by='A', ascending=False)\n",
    "print(players[[\"Name\", \"Team\", \"A\"]].head(n=10))"
   ]
  },
  {
   "cell_type": "code",
   "execution_count": 11,
   "metadata": {},
   "outputs": [
    {
     "name": "stdout",
     "output_type": "stream",
     "text": [
      "              Name        Team       A_M        M_A\n",
      "297       L.MURIEL  [ATALANTA]  0.058488  17.097561\n",
      "501  Z.IBRAHIMOVIC     [MILAN]  0.052406  19.081633\n",
      "289      L.INSIGNE    [NAPOLI]  0.051613  19.375000\n",
      "98       C.RONALDO  [JUVENTUS]  0.046936  21.305556\n",
      "351     M.POLITANO    [NAPOLI]  0.040712  24.562500\n",
      "393       P.DYBALA  [JUVENTUS]  0.040698  24.571429\n",
      "295     L.MARTINEZ     [INTER]  0.040505  24.688525\n",
      "123      D.MERTENS    [NAPOLI]  0.038272  26.129032\n",
      "238       J.ILICIC  [ATALANTA]  0.038114  26.236842\n",
      "27         A.GOMEZ  [ATALANTA]  0.036075  27.720000\n"
     ]
    }
   ],
   "source": [
    "players['A_M'] = players['A'] / players['M']\n",
    "players = players.sort_values(by='A_M', ascending=False)\n",
    "top_players = players[[\"Name\", \"Team\", \"A_M\"]].head(n=10)\n",
    "top_players['M_A'] = players['M'] / players['A']\n",
    "print(top_players.head(n=10))"
   ]
  },
  {
   "cell_type": "code",
   "execution_count": 12,
   "metadata": {},
   "outputs": [
    {
     "name": "stdout",
     "output_type": "stream",
     "text": [
      "                   Name                    Team  AS\n",
      "216        H.MKHITARYAN                  [ROMA]   8\n",
      "213        H.CALHANOGLU                 [MILAN]   8\n",
      "458  S.MILINKOVIC-SAVIC                 [LAZIO]   6\n",
      "42             A.MORATA              [JUVENTUS]   6\n",
      "316          M.BROZOVIC                 [INTER]   6\n",
      "123           D.MERTENS                [NAPOLI]   6\n",
      "299        L.PELLEGRINI           [ROMA, GENOA]   6\n",
      "421              R.LEAO                 [MILAN]   5\n",
      "372           N.BARELLA                 [INTER]   5\n",
      "235          J.CUADRADO              [JUVENTUS]   5\n",
      "5             A.BELOTTI                [TORINO]   5\n",
      "367          M.ZACCAGNI         [HELLAS VERONA]   5\n",
      "238            J.ILICIC              [ATALANTA]   5\n",
      "435           R.SORIANO               [BOLOGNA]   5\n",
      "58            A.SANCHEZ                 [INTER]   5\n",
      "418          R.KARSDORP                  [ROMA]   4\n",
      "467             S.VERDI                [TORINO]   4\n",
      "38            A.MARUSIC                 [LAZIO]   4\n",
      "322         M.DAMSGAARD             [SAMPDORIA]   4\n",
      "431           R.PEREYRA               [UDINESE]   4\n",
      "156            F.CHIESA  [FIORENTINA, JUVENTUS]   4\n",
      "139             E.GYASI                [SPEZIA]   4\n",
      "86            C.BIRAGHI            [FIORENTINA]   4\n",
      "170            F.RIBERY            [FIORENTINA]   4\n",
      "104           D.BERARDI              [SASSUOLO]   4\n"
     ]
    }
   ],
   "source": [
    "players = players.sort_values(by='AS', ascending=False)\n",
    "print(players[[\"Name\", \"Team\", \"AS\"]].head(n=25))"
   ]
  },
  {
   "cell_type": "code",
   "execution_count": 13,
   "metadata": {},
   "outputs": [
    {
     "name": "stdout",
     "output_type": "stream",
     "text": [
      "             Name        Team      AS_M        M_AS\n",
      "123     D.MERTENS    [NAPOLI]  0.007407  135.000000\n",
      "58      A.SANCHEZ     [INTER]  0.006623  151.000000\n",
      "213  H.CALHANOGLU     [MILAN]  0.005376  186.000000\n",
      "42       A.MORATA  [JUVENTUS]  0.005348  187.000000\n",
      "238      J.ILICIC  [ATALANTA]  0.005015  199.400000\n",
      "216  H.MKHITARYAN      [ROMA]  0.004324  231.250000\n",
      "441     S.BASTONI    [SPEZIA]  0.004320  231.500000\n",
      "297      L.MURIEL  [ATALANTA]  0.004280  233.666667\n",
      "467       S.VERDI    [TORINO]  0.004274  234.000000\n",
      "316    M.BROZOVIC     [INTER]  0.004231  236.333333\n"
     ]
    }
   ],
   "source": [
    "players['AS_M'] = players['AS'] / players['M']\n",
    "players = players.sort_values(by='AS_M', ascending=False)\n",
    "top_players = players[[\"Name\", \"Team\", \"AS_M\"]].head(n=10)\n",
    "top_players['M_AS'] = players['M'] / players['AS']\n",
    "print(top_players.head(n=10))"
   ]
  },
  {
   "cell_type": "code",
   "execution_count": 14,
   "metadata": {},
   "outputs": [
    {
     "name": "stdout",
     "output_type": "stream",
     "text": [
      "             Name                 Team    BP\n",
      "338   M.LOCATELLI           [SASSUOLO]  1854\n",
      "189     G.FERRARI           [SASSUOLO]  1732\n",
      "132        DANILO           [JUVENTUS]  1681\n",
      "186  G.DI LORENZO             [NAPOLI]  1653\n",
      "299  L.PELLEGRINI        [ROMA, GENOA]  1583\n",
      "408     R.DE PAUL            [UDINESE]  1540\n",
      "203    G.PEZZELLA  [PARMA, FIORENTINA]  1538\n",
      "414      R.IBANEZ               [ROMA]  1525\n",
      "107    D.CALABRIA              [MILAN]  1517\n",
      "4       A.BASTONI              [INTER]  1471\n"
     ]
    }
   ],
   "source": [
    "players = players.sort_values(by='BP', ascending=False)\n",
    "print(players[[\"Name\", \"Team\", \"BP\"]].head(n=10))"
   ]
  },
  {
   "cell_type": "code",
   "execution_count": 15,
   "metadata": {},
   "outputs": [
    {
     "name": "stdout",
     "output_type": "stream",
     "text": [
      "             Name        Team      BP_M      M_BP\n",
      "338   M.LOCATELLI  [SASSUOLO]  1.029428  0.971413\n",
      "69         ARTHUR  [JUVENTUS]  0.989842  1.010262\n",
      "376  N.MAKSIMOVIC    [NAPOLI]  0.986226  1.013966\n",
      "112       D.DEMME    [NAPOLI]  0.986041  1.014157\n",
      "370     MARIO RUI    [NAPOLI]  0.976930  1.023615\n",
      "316    M.BROZOVIC     [INTER]  0.971791  1.029028\n",
      "406   R.BENTANCUR  [JUVENTUS]  0.953149  1.049154\n",
      "132        DANILO  [JUVENTUS]  0.950254  1.052350\n",
      "324     M.DE LIGT  [JUVENTUS]  0.937429  1.066748\n",
      "235    J.CUADRADO  [JUVENTUS]  0.931034  1.074074\n"
     ]
    }
   ],
   "source": [
    "players['BP_M'] = players['BP'] / players['M']\n",
    "players = players.sort_values(by='BP_M', ascending=False)\n",
    "top_players = players[[\"Name\", \"Team\", \"BP_M\"]].head(n=10)\n",
    "top_players['M_BP'] = players['M'] / players['BP']\n",
    "print(top_players.head(n=10))"
   ]
  },
  {
   "cell_type": "code",
   "execution_count": 16,
   "metadata": {},
   "outputs": [
    {
     "name": "stdout",
     "output_type": "stream",
     "text": [
      "             Name        Team     P\n",
      "189     G.FERRARI  [SASSUOLO]  1392\n",
      "338   M.LOCATELLI  [SASSUOLO]  1346\n",
      "132        DANILO  [JUVENTUS]  1242\n",
      "4       A.BASTONI     [INTER]  1163\n",
      "186  G.DI LORENZO    [NAPOLI]  1079\n",
      "278     L.BONUCCI  [JUVENTUS]  1066\n",
      "414      R.IBANEZ      [ROMA]  1056\n",
      "358    M.SKRINIAR     [INTER]  1053\n",
      "316    M.BROZOVIC     [INTER]  1022\n",
      "273     K.MANOLAS    [NAPOLI]  1018\n"
     ]
    }
   ],
   "source": [
    "players = players.sort_values(by='P', ascending=False)\n",
    "print(players[[\"Name\", \"Team\", \"P\"]].head(n=10))"
   ]
  },
  {
   "cell_type": "code",
   "execution_count": 17,
   "metadata": {},
   "outputs": [
    {
     "name": "stdout",
     "output_type": "stream",
     "text": [
      "             Name        Team       P_M       M_P\n",
      "376  N.MAKSIMOVIC    [NAPOLI]  0.833333  1.200000\n",
      "69         ARTHUR  [JUVENTUS]  0.825056  1.212038\n",
      "371        MARLON  [SASSUOLO]  0.768407  1.301394\n",
      "324     M.DE LIGT  [JUVENTUS]  0.767918  1.302222\n",
      "112       D.DEMME    [NAPOLI]  0.751269  1.331081\n",
      "338   M.LOCATELLI  [SASSUOLO]  0.747363  1.338039\n",
      "269   K.KOULIBALY    [NAPOLI]  0.724585  1.380100\n",
      "189     G.FERRARI  [SASSUOLO]  0.722366  1.384339\n",
      "316    M.BROZOVIC     [INTER]  0.720733  1.387476\n",
      "174   FABIAN RUIZ    [NAPOLI]  0.716379  1.395909\n"
     ]
    }
   ],
   "source": [
    "players['P_M'] = players['P'] / players['M']\n",
    "players = players.sort_values(by='P_M', ascending=False)\n",
    "top_players = players[[\"Name\", \"Team\", \"P_M\"]].head(n=10)\n",
    "top_players['M_P'] = players['M'] / players['P']\n",
    "print(top_players.head(n=10))"
   ]
  },
  {
   "cell_type": "code",
   "execution_count": 18,
   "metadata": {},
   "outputs": [
    {
     "name": "stdout",
     "output_type": "stream",
     "text": [
      "             Name        Team         P%\n",
      "376  N.MAKSIMOVIC    [NAPOLI]  96.100000\n",
      "69         ARTHUR  [JUVENTUS]  94.769231\n",
      "358    M.SKRINIAR     [INTER]  93.294118\n",
      "324     M.DE LIGT  [JUVENTUS]  93.272727\n",
      "273     K.MANOLAS    [NAPOLI]  93.157895\n",
      "381     N.NKOULOU    [TORINO]  92.888889\n",
      "444     S.DE VRIJ     [INTER]  92.578947\n",
      "339       M.LOPEZ  [SASSUOLO]  91.571429\n",
      "406   R.BENTANCUR  [JUVENTUS]  91.555556\n",
      "49       A.RABIOT  [JUVENTUS]  91.470588\n"
     ]
    }
   ],
   "source": [
    "players = players.sort_values(by='P%', ascending=False)\n",
    "print(players[[\"Name\", \"Team\", \"P%\"]].head(n=10))"
   ]
  },
  {
   "cell_type": "code",
   "execution_count": 19,
   "metadata": {},
   "outputs": [
    {
     "name": "stdout",
     "output_type": "stream",
     "text": [
      "             Name             Team  KP\n",
      "408     R.DE PAUL        [UDINESE]  26\n",
      "238      J.ILICIC       [ATALANTA]  23\n",
      "299  L.PELLEGRINI    [ROMA, GENOA]  18\n",
      "213  H.CALHANOGLU          [MILAN]  16\n",
      "104     D.BERARDI       [SASSUOLO]  15\n",
      "435     R.SORIANO        [BOLOGNA]  15\n",
      "309  LUIS ALBERTO          [LAZIO]  14\n",
      "29       A.HAKIMI          [INTER]  13\n",
      "303  L.SPINAZZOLA           [ROMA]  12\n",
      "367    M.ZACCAGNI  [HELLAS VERONA]  12\n",
      "158     F.DIMARCO  [HELLAS VERONA]  12\n",
      "216  H.MKHITARYAN           [ROMA]  12\n",
      "256    J.VERETOUT           [ROMA]  10\n",
      "5       A.BELOTTI         [TORINO]  10\n",
      "372     N.BARELLA          [INTER]  10\n"
     ]
    }
   ],
   "source": [
    "players = players.sort_values(by='KP', ascending=False)\n",
    "print(players[[\"Name\", \"Team\", \"KP\"]].head(n=15))"
   ]
  },
  {
   "cell_type": "code",
   "execution_count": 20,
   "metadata": {},
   "outputs": [
    {
     "name": "stdout",
     "output_type": "stream",
     "text": [
      "             Name        Team      KP_M        M_KP\n",
      "238      J.ILICIC  [ATALANTA]  0.023069   43.347826\n",
      "408     R.DE PAUL   [UDINESE]  0.013684   73.076923\n",
      "58      A.SANCHEZ     [INTER]  0.011921   83.888889\n",
      "84    BRUNO PERES      [ROMA]  0.011006   90.857143\n",
      "104     D.BERARDI  [SASSUOLO]  0.010823   92.400000\n",
      "213  H.CALHANOGLU     [MILAN]  0.010753   93.000000\n",
      "27        A.GOMEZ  [ATALANTA]  0.010101   99.000000\n",
      "496    W.MCKENNIE  [JUVENTUS]  0.009625  103.900000\n",
      "309  LUIS ALBERTO     [LAZIO]  0.009543  104.785714\n",
      "46      A.PETAGNA    [NAPOLI]  0.009137  109.444444\n"
     ]
    }
   ],
   "source": [
    "players['KP_M'] = players['KP'] / players['M']\n",
    "players = players.sort_values(by='KP_M', ascending=False)\n",
    "top_players = players[[\"Name\", \"Team\", \"KP_M\"]].head(n=10)\n",
    "top_players['M_KP'] = players['M'] / players['KP']\n",
    "print(top_players.head(n=10))"
   ]
  },
  {
   "cell_type": "code",
   "execution_count": 21,
   "metadata": {
    "scrolled": true
   },
   "outputs": [
    {
     "name": "stdout",
     "output_type": "stream",
     "text": [
      "             Name             Team  FS\n",
      "5       A.BELOTTI         [TORINO]  88\n",
      "408     R.DE PAUL        [UDINESE]  66\n",
      "367    M.ZACCAGNI  [HELLAS VERONA]  61\n",
      "245     J.MESSIAS        [CROTONE]  59\n",
      "215      H.LOZANO         [NAPOLI]  56\n",
      "258    JOAO PEDRO       [CAGLIARI]  50\n",
      "238      J.ILICIC       [ATALANTA]  46\n",
      "241       J.KUCKA          [PARMA]  46\n",
      "299  L.PELLEGRINI    [ROMA, GENOA]  45\n",
      "430     R.PALACIO        [BOLOGNA]  44\n"
     ]
    }
   ],
   "source": [
    "players = players.sort_values(by='FS', ascending=False)\n",
    "print(players[[\"Name\", \"Team\", \"FS\"]].head(n=10))"
   ]
  },
  {
   "cell_type": "code",
   "execution_count": 22,
   "metadata": {
    "scrolled": true
   },
   "outputs": [
    {
     "name": "stdout",
     "output_type": "stream",
     "text": [
      "             Name                      Team      FS_M       M_FS\n",
      "5       A.BELOTTI                  [TORINO]  0.046267  21.613636\n",
      "238      J.ILICIC                [ATALANTA]  0.046138  21.673913\n",
      "367    M.ZACCAGNI           [HELLAS VERONA]  0.037263  26.836066\n",
      "204     G.RAMIREZ               [SAMPDORIA]  0.036388  27.481481\n",
      "200      G.PANDEV                   [GENOA]  0.036320  27.533333\n",
      "215      H.LOZANO                  [NAPOLI]  0.036269  27.571429\n",
      "408     R.DE PAUL                 [UDINESE]  0.034737  28.787879\n",
      "170      F.RIBERY              [FIORENTINA]  0.033938  29.465116\n",
      "446  S.DI CARMINE  [HELLAS VERONA, CROTONE]  0.032885  30.409091\n",
      "90       C.KOUAME              [FIORENTINA]  0.032641  30.636364\n"
     ]
    }
   ],
   "source": [
    "players['FS_M'] = players['FS'] / players['M']\n",
    "players = players.sort_values(by='FS_M', ascending=False)\n",
    "top_players = players[[\"Name\", \"Team\", \"FS_M\"]].head(n=10)\n",
    "top_players['M_FS'] = players['M'] / players['FS']\n",
    "print(top_players.head(n=10))"
   ]
  },
  {
   "cell_type": "code",
   "execution_count": 23,
   "metadata": {},
   "outputs": [
    {
     "name": "stdout",
     "output_type": "stream",
     "text": [
      "             Name                 Team    R\n",
      "481    T.TOMIYASU            [BOLOGNA]  211\n",
      "414      R.IBANEZ               [ROMA]  186\n",
      "267        K.GLIK          [BENEVENTO]  173\n",
      "148      F.ACERBI              [LAZIO]  171\n",
      "377  N.MILENKOVIC         [FIORENTINA]  170\n",
      "203    G.PEZZELLA  [PARMA, FIORENTINA]  169\n",
      "83         BREMER             [TORINO]  164\n",
      "284      L.DANILO            [BOLOGNA]  161\n",
      "97       C.ROMERO           [ATALANTA]  161\n",
      "470         SAMIR            [UDINESE]  152\n"
     ]
    }
   ],
   "source": [
    "players = players.sort_values(by='R', ascending=False)\n",
    "print(players[[\"Name\", \"Team\", \"R\"]].head(n=10))"
   ]
  },
  {
   "cell_type": "code",
   "execution_count": 24,
   "metadata": {},
   "outputs": [
    {
     "name": "stdout",
     "output_type": "stream",
     "text": [
      "            Name             Team       R_M       M_R\n",
      "195    G.MAGNANI  [HELLAS VERONA]  0.152123  6.573643\n",
      "268     K.GUNTER  [HELLAS VERONA]  0.134496  7.435185\n",
      "97      C.ROMERO       [ATALANTA]  0.124228  8.049689\n",
      "483  V.CHIRICHES       [SASSUOLO]  0.112116  8.919355\n",
      "443    S.DE MAIO        [UDINESE]  0.111929  8.934211\n",
      "495      W.HOEDT          [LAZIO]  0.108225  9.240000\n",
      "451      S.KJAER          [MILAN]  0.107029  9.343284\n",
      "101     C.ZAPATA          [GENOA]  0.105590  9.470588\n",
      "481   T.TOMIYASU        [BOLOGNA]  0.105184  9.507109\n",
      "313       M.BANI   [GENOA, PARMA]  0.103617  9.650943\n"
     ]
    }
   ],
   "source": [
    "players['R_M'] = players['R'] / players['M']\n",
    "players = players.sort_values(by='R_M', ascending=False)\n",
    "top_players = players[[\"Name\", \"Team\", \"R_M\"]].head(n=10)\n",
    "top_players['M_R'] = players['M'] / players['R']\n",
    "print(top_players.head(n=10))"
   ]
  },
  {
   "cell_type": "code",
   "execution_count": 25,
   "metadata": {},
   "outputs": [],
   "source": [
    "thisdir = os.getcwd()\n",
    "thisdir += \"/2020-2021/Player Data/Goalkeeper/\"\n",
    "csv_list = []\n",
    "\n",
    "for r, d, f in os.walk(thisdir):\n",
    "    for file in f:\n",
    "        if file.endswith(\".csv\"):\n",
    "            csv_list.append(os.path.join(r, file))\n",
    "\n",
    "csv_list = sorted(csv_list)\n",
    "\n",
    "players = []\n",
    "\n",
    "for csv_file in csv_list:\n",
    "#     print(csv_file)\n",
    "    if csv_file[-5:] == \"/.csv\":\n",
    "        continue\n",
    "    player_data = pd.read_csv(csv_file, encoding='latin-1')\n",
    "    player_data[\"M_played\"] = player_data.apply(lambda row:convert_to_minutes(row), axis=1)\n",
    "    player_data = player_data.astype({'GC':'int32', 'OG':'int32', 'S':'int32', 'STP':'int32', 'SF':'int32', 'FYC':'int32', 'SYC':'int32', 'RC':'int32'})\n",
    "\n",
    "    players.append([player_data[\"Name\"].unique()[0], player_data[\"Team\"].unique(), player_data[\"M_played\"].sum(), player_data[\"GC\"].sum(), player_data[\"OG\"].sum(), player_data[\"S\"].sum(), player_data[\"STP\"].sum(), player_data[\"SF\"].sum(), player_data[\"FYC\"].sum(), player_data[\"SYC\"].sum(), player_data[\"RC\"].sum(), player_data[\"M_played\"].size])\n",
    "\n",
    "players = pd.DataFrame(np.array(players), columns=['Name', 'Team' , 'M', 'GC', 'OG', 'S', 'STP', 'SF', 'FYC', 'SYC', 'RC', 'N'])\n",
    "players = players.astype({'M':'int32', 'GC':'int32', 'OG':'int32', 'S':'int32', 'STP':'int32', 'SF':'int32', 'FYC':'int32', 'SYC':'int32', 'RC':'int32', 'N':'int32'})\n",
    "players = players[players['M'] >= min_time]\n",
    "players = players[players['N'] >= min_games]"
   ]
  },
  {
   "cell_type": "code",
   "execution_count": 26,
   "metadata": {},
   "outputs": [
    {
     "name": "stdout",
     "output_type": "stream",
     "text": [
      "            Name             Team     M\n",
      "7    B.DRAGOWSKI     [FIORENTINA]  2014\n",
      "19    L.MONTIPO'      [BENEVENTO]  2013\n",
      "23   M.SILVESTRI  [HELLAS VERONA]  2013\n",
      "30  S.HANDANOVIC          [INTER]  2010\n",
      "10      E.AUDERO      [SAMPDORIA]  2010\n",
      "2       A.CRAGNO       [CAGLIARI]  2005\n",
      "20        L.SEPE          [PARMA]  2005\n",
      "1       A.CORDAZ        [CROTONE]  2001\n",
      "0     A.CONSIGLI       [SASSUOLO]  1933\n",
      "14  G.DONNARUMMA          [MILAN]  1926\n"
     ]
    }
   ],
   "source": [
    "players = players.sort_values(by='M', ascending=False)\n",
    "print(players[[\"Name\", \"Team\", \"M\"]].head(n=10))"
   ]
  },
  {
   "cell_type": "code",
   "execution_count": 27,
   "metadata": {},
   "outputs": [
    {
     "name": "stdout",
     "output_type": "stream",
     "text": [
      "            Name          Team        M_N\n",
      "31      S.SIRIGU      [TORINO]  97.421053\n",
      "0     A.CONSIGLI    [SASSUOLO]  96.650000\n",
      "14  G.DONNARUMMA       [MILAN]  96.300000\n",
      "4        A.MERET      [NAPOLI]  96.250000\n",
      "34    W.SZCZESNY    [JUVENTUS]  96.125000\n",
      "21   L.SKORUPSKI     [BOLOGNA]  96.000000\n",
      "17       J.MUSSO     [UDINESE]  95.947368\n",
      "28       P.REINA       [LAZIO]  95.933333\n",
      "7    B.DRAGOWSKI  [FIORENTINA]  95.904762\n",
      "19    L.MONTIPO'   [BENEVENTO]  95.857143\n"
     ]
    }
   ],
   "source": [
    "players['M_N'] = players['M'] / players['N']\n",
    "players = players.sort_values(by='M_N', ascending=False)\n",
    "print(players[[\"Name\", \"Team\", \"M_N\"]].head(n=10))"
   ]
  },
  {
   "cell_type": "code",
   "execution_count": 28,
   "metadata": {},
   "outputs": [
    {
     "name": "stdout",
     "output_type": "stream",
     "text": [
      "           Name             Team  GC\n",
      "1      A.CORDAZ        [CROTONE]  50\n",
      "20       L.SEPE          [PARMA]  41\n",
      "19   L.MONTIPO'      [BENEVENTO]  41\n",
      "2      A.CRAGNO       [CAGLIARI]  39\n",
      "31     S.SIRIGU         [TORINO]  37\n",
      "7   B.DRAGOWSKI     [FIORENTINA]  33\n",
      "10     E.AUDERO      [SAMPDORIA]  32\n",
      "0    A.CONSIGLI       [SASSUOLO]  32\n",
      "16   I.PROVEDEL         [SPEZIA]  31\n",
      "23  M.SILVESTRI  [HELLAS VERONA]  23\n"
     ]
    }
   ],
   "source": [
    "players = players.sort_values(by='GC', ascending=False)\n",
    "print(players[[\"Name\", \"Team\", \"GC\"]].head(n=10))"
   ]
  },
  {
   "cell_type": "code",
   "execution_count": 29,
   "metadata": {},
   "outputs": [
    {
     "name": "stdout",
     "output_type": "stream",
     "text": [
      "            Name          Team      GC_M       M_GC\n",
      "1       A.CORDAZ     [CROTONE]  0.024988  40.020000\n",
      "24  M.SPORTIELLO    [ATALANTA]  0.021645  46.200000\n",
      "20        L.SEPE       [PARMA]  0.020449  48.902439\n",
      "19    L.MONTIPO'   [BENEVENTO]  0.020368  49.097561\n",
      "31      S.SIRIGU      [TORINO]  0.019989  50.027027\n",
      "2       A.CRAGNO    [CAGLIARI]  0.019451  51.410256\n",
      "16    I.PROVEDEL      [SPEZIA]  0.017971  55.645161\n",
      "0     A.CONSIGLI    [SASSUOLO]  0.016555  60.406250\n",
      "7    B.DRAGOWSKI  [FIORENTINA]  0.016385  61.030303\n",
      "27       P.LOPEZ        [ROMA]  0.016360  61.125000\n"
     ]
    }
   ],
   "source": [
    "players['GC_M'] = players['GC'] / players['M']\n",
    "players = players.sort_values(by='GC_M', ascending=False)\n",
    "top_players = players[[\"Name\", \"Team\", \"GC_M\"]].head(n=10)\n",
    "top_players['M_GC'] = players['M'] / players['GC']\n",
    "print(top_players.head(n=10))"
   ]
  },
  {
   "cell_type": "code",
   "execution_count": 30,
   "metadata": {},
   "outputs": [
    {
     "name": "stdout",
     "output_type": "stream",
     "text": [
      "            Name        Team  GC\n",
      "4        A.MERET    [NAPOLI]  10\n",
      "9       D.OSPINA    [NAPOLI]  11\n",
      "26     P.GOLLINI  [ATALANTA]  14\n",
      "24  M.SPORTIELLO  [ATALANTA]  15\n",
      "28       P.REINA     [LAZIO]  15\n",
      "34    W.SZCZESNY  [JUVENTUS]  16\n",
      "27       P.LOPEZ      [ROMA]  16\n",
      "5      A.MIRANTE      [ROMA]  16\n",
      "14  G.DONNARUMMA     [MILAN]  20\n",
      "21   L.SKORUPSKI   [BOLOGNA]  21\n"
     ]
    }
   ],
   "source": [
    "players = players.sort_values(by='GC')\n",
    "print(players[[\"Name\", \"Team\", \"GC\"]].head(n=10))"
   ]
  },
  {
   "cell_type": "code",
   "execution_count": 31,
   "metadata": {},
   "outputs": [
    {
     "name": "stdout",
     "output_type": "stream",
     "text": [
      "            Name             Team      GC_M        M_GC\n",
      "9       D.OSPINA         [NAPOLI]  0.009615  104.000000\n",
      "14  G.DONNARUMMA          [MILAN]  0.010384   96.300000\n",
      "34    W.SZCZESNY       [JUVENTUS]  0.010403   96.125000\n",
      "28       P.REINA          [LAZIO]  0.010424   95.933333\n",
      "26     P.GOLLINI       [ATALANTA]  0.010720   93.285714\n",
      "23   M.SILVESTRI  [HELLAS VERONA]  0.011426   87.521739\n",
      "30  S.HANDANOVIC          [INTER]  0.011443   87.391304\n",
      "17       J.MUSSO        [UDINESE]  0.012617   79.260870\n",
      "22       M.PERIN          [GENOA]  0.012843   77.863636\n",
      "4        A.MERET         [NAPOLI]  0.012987   77.000000\n"
     ]
    }
   ],
   "source": [
    "players['GC_M'] = players['GC'] / players['M']\n",
    "players = players.sort_values(by='GC_M')\n",
    "top_players = players[[\"Name\", \"Team\", \"GC_M\"]].head(n=10)\n",
    "top_players['M_GC'] = players['M'] / players['GC']\n",
    "print(top_players.head(n=10))"
   ]
  },
  {
   "cell_type": "code",
   "execution_count": 32,
   "metadata": {},
   "outputs": [
    {
     "name": "stdout",
     "output_type": "stream",
     "text": [
      "            Name             Team    S\n",
      "2       A.CRAGNO       [CAGLIARI]  100\n",
      "10      E.AUDERO      [SAMPDORIA]   75\n",
      "1       A.CORDAZ        [CROTONE]   74\n",
      "20        L.SEPE          [PARMA]   74\n",
      "23   M.SILVESTRI  [HELLAS VERONA]   72\n",
      "0     A.CONSIGLI       [SASSUOLO]   71\n",
      "22       M.PERIN          [GENOA]   69\n",
      "14  G.DONNARUMMA          [MILAN]   67\n",
      "19    L.MONTIPO'      [BENEVENTO]   62\n",
      "7    B.DRAGOWSKI     [FIORENTINA]   60\n"
     ]
    }
   ],
   "source": [
    "players = players.sort_values(by='S', ascending=False)\n",
    "print(players[[\"Name\", \"Team\", \"S\"]].head(n=10))"
   ]
  },
  {
   "cell_type": "code",
   "execution_count": 33,
   "metadata": {},
   "outputs": [
    {
     "name": "stdout",
     "output_type": "stream",
     "text": [
      "            Name             Team       S_M        M_S\n",
      "2       A.CRAGNO       [CAGLIARI]  0.049875  20.050000\n",
      "21   L.SKORUPSKI        [BOLOGNA]  0.042411  23.578947\n",
      "22       M.PERIN          [GENOA]  0.040280  24.826087\n",
      "10      E.AUDERO      [SAMPDORIA]  0.037313  26.800000\n",
      "1       A.CORDAZ        [CROTONE]  0.036982  27.040541\n",
      "20        L.SEPE          [PARMA]  0.036908  27.094595\n",
      "0     A.CONSIGLI       [SASSUOLO]  0.036730  27.225352\n",
      "23   M.SILVESTRI  [HELLAS VERONA]  0.035768  27.958333\n",
      "14  G.DONNARUMMA          [MILAN]  0.034787  28.746269\n",
      "28       P.REINA          [LAZIO]  0.031967  31.282609\n"
     ]
    }
   ],
   "source": [
    "players['S_M'] = players['S'] / players['M']\n",
    "players = players.sort_values(by='S_M', ascending=False)\n",
    "top_players = players[[\"Name\", \"Team\", \"S_M\"]].head(n=10)\n",
    "top_players['M_S'] = players['M'] / players['S']\n",
    "print(top_players.head(n=10))"
   ]
  },
  {
   "cell_type": "code",
   "execution_count": 34,
   "metadata": {},
   "outputs": [
    {
     "name": "stdout",
     "output_type": "stream",
     "text": [
      "            Name             Team  Set_S\n",
      "0     A.CONSIGLI       [SASSUOLO]     13\n",
      "2       A.CRAGNO       [CAGLIARI]     12\n",
      "20        L.SEPE          [PARMA]     12\n",
      "14  G.DONNARUMMA          [MILAN]     11\n",
      "7    B.DRAGOWSKI     [FIORENTINA]     10\n",
      "1       A.CORDAZ        [CROTONE]      8\n",
      "23   M.SILVESTRI  [HELLAS VERONA]      8\n",
      "17       J.MUSSO        [UDINESE]      8\n",
      "19    L.MONTIPO'      [BENEVENTO]      7\n",
      "5      A.MIRANTE           [ROMA]      7\n"
     ]
    }
   ],
   "source": [
    "players['Set_S'] = players['STP'] + players['SF']\n",
    "players = players.sort_values(by='Set_S', ascending=False)\n",
    "print(players[[\"Name\", \"Team\", \"Set_S\"]].head(n=10))"
   ]
  }
 ],
 "metadata": {
  "kernelspec": {
   "display_name": "Python 3",
   "language": "python",
   "name": "python3"
  },
  "language_info": {
   "codemirror_mode": {
    "name": "ipython",
    "version": 3
   },
   "file_extension": ".py",
   "mimetype": "text/x-python",
   "name": "python",
   "nbconvert_exporter": "python",
   "pygments_lexer": "ipython3",
   "version": "3.7.4"
  }
 },
 "nbformat": 4,
 "nbformat_minor": 2
}
