{
 "cells": [
  {
   "cell_type": "code",
   "execution_count": 1,
   "metadata": {},
   "outputs": [],
   "source": [
    "import os\n",
    "import csv\n",
    "import pandas as pd\n",
    "import numpy as np\n",
    "import math"
   ]
  },
  {
   "cell_type": "code",
   "execution_count": 2,
   "metadata": {},
   "outputs": [
    {
     "name": "stdout",
     "output_type": "stream",
     "text": [
      "570.0\n",
      "6\n"
     ]
    }
   ],
   "source": [
    "thisdir = os.getcwd()\n",
    "thisdir += \"/2020-2021/Player Data/Non-goalkeeper/\"\n",
    "csv_list = []\n",
    "\n",
    "n_games = 19 #total games played\n",
    "min_time = n_games / 3 * 90 #min time played to be eligible\n",
    "min_games = math.floor(n_games / 3) #min games played to be eligible\n",
    "print(min_time)\n",
    "print(min_games)"
   ]
  },
  {
   "cell_type": "code",
   "execution_count": 3,
   "metadata": {},
   "outputs": [],
   "source": [
    "for r, d, f in os.walk(thisdir):\n",
    "    for file in f:\n",
    "        if file.endswith(\".csv\"):\n",
    "            csv_list.append(os.path.join(r, file))\n",
    "\n",
    "csv_list = sorted(csv_list)"
   ]
  },
  {
   "cell_type": "code",
   "execution_count": 4,
   "metadata": {},
   "outputs": [],
   "source": [
    "def convert_to_minutes(row):\n",
    "    return int(row['M'][:-1])\n",
    "\n",
    "def convert_to_int(row, col):\n",
    "    return int(row[col])"
   ]
  },
  {
   "cell_type": "code",
   "execution_count": 5,
   "metadata": {},
   "outputs": [],
   "source": [
    "players = []\n",
    "\n",
    "for csv_file in csv_list:\n",
    "#     print(csv_file)\n",
    "    if csv_file[-5:] == \"/.csv\":\n",
    "        continue\n",
    "    player_data = pd.read_csv(csv_file, encoding='latin-1')\n",
    "    player_data[\"M_played\"] = player_data.apply(lambda row:convert_to_minutes(row), axis=1)\n",
    "    player_data = player_data.astype({'G':'int32', 'OG':'int32', 'A':'int32', 'AT':'int32', 'BS':'int32', 'SC':'int32', 'FS':'int32', 'BP':'int32', 'AS':'int32', 'KP':'int32', 'P':'int32', 'P%':'int32', 'R':'int32', 'FYC':'int32', 'SYC':'int32', 'RC':'int32'})\n",
    "\n",
    "    players.append([player_data[\"Name\"].unique()[0], player_data[\"Team\"].unique(), player_data[\"M_played\"].sum(), player_data[\"G\"].sum(), player_data[\"OG\"].sum(), player_data[\"A\"].sum(), player_data[\"AT\"].sum(), player_data[\"BS\"].sum(), player_data[\"SC\"].sum(), player_data[\"FS\"].sum(), player_data[\"BP\"].sum(), player_data[\"AS\"].sum(), player_data[\"KP\"].sum(), player_data[\"P\"].sum(), player_data[\"P%\"].sum()  / player_data[\"P%\"].size, player_data[\"R\"].sum(), player_data[\"FYC\"].sum(), player_data[\"SYC\"].sum(), player_data[\"RC\"].sum(), player_data[\"M_played\"].size])\n",
    "\n",
    "players = pd.DataFrame(np.array(players), columns=['Name', 'Team' , 'M', 'G', 'OG', 'A', 'AT', 'BS', 'SC', 'FS', 'BP', 'AS', 'KP', 'P', 'P%', 'R', 'FYC', 'SYC', 'RC', \"N\"])\n",
    "players = players.astype({'M':'int32', 'G':'int32', 'OG':'int32', 'A':'int32', 'AT':'int32', 'BS':'int32', 'SC':'int32', 'FS':'int32', 'BP':'int32', 'AS':'int32', 'KP':'int32', 'P':'int32', 'P%':'float', 'R':'int32', 'FYC':'int32', 'SYC':'int32', 'RC':'int32', 'N':'int32'})\n",
    "players = players[players['M'] >= min_time]\n",
    "players = players[players['N'] >= min_games]"
   ]
  },
  {
   "cell_type": "code",
   "execution_count": 6,
   "metadata": {},
   "outputs": [
    {
     "name": "stdout",
     "output_type": "stream",
     "text": [
      "             Name                 Team     M\n",
      "199    G.PEZZELLA  [PARMA, FIORENTINA]  2112\n",
      "294  L.PELLEGRINI        [ROMA, GENOA]  2107\n",
      "262        K.GLIK          [BENEVENTO]  1827\n",
      "476    T.TOMIYASU            [BOLOGNA]  1816\n",
      "279      L.DANILO            [BOLOGNA]  1798\n",
      "241     J.MESSIAS            [CROTONE]  1791\n",
      "106    D.CALABRIA              [MILAN]  1784\n",
      "430     R.SORIANO            [BOLOGNA]  1779\n",
      "253    JOAO PEDRO           [CAGLIARI]  1775\n",
      "185     G.FERRARI           [SASSUOLO]  1736\n"
     ]
    }
   ],
   "source": [
    "players = players.sort_values(by='M', ascending=False)\n",
    "print(players[[\"Name\", \"Team\", \"M\"]].head(n=10))"
   ]
  },
  {
   "cell_type": "code",
   "execution_count": 7,
   "metadata": {},
   "outputs": [
    {
     "name": "stdout",
     "output_type": "stream",
     "text": [
      "             Name             Team        M_N\n",
      "82         BREMER         [TORINO]  97.266667\n",
      "472   T.HERNANDEZ          [MILAN]  97.000000\n",
      "54    A.ROMAGNOLI          [MILAN]  96.785714\n",
      "185     G.FERRARI       [SASSUOLO]  96.444444\n",
      "262        K.GLIK      [BENEVENTO]  96.157895\n",
      "182  G.DI LORENZO         [NAPOLI]  96.000000\n",
      "114     D.FARAONI  [HELLAS VERONA]  95.937500\n",
      "403     R.DE PAUL        [UDINESE]  95.888889\n",
      "476    T.TOMIYASU        [BOLOGNA]  95.578947\n",
      "372  N.MILENKOVIC     [FIORENTINA]  95.555556\n"
     ]
    }
   ],
   "source": [
    "players['M_N'] = players['M'] / players['N']\n",
    "players = players.sort_values(by='M_N', ascending=False)\n",
    "print(players[[\"Name\", \"Team\", \"M_N\"]].head(n=10))"
   ]
  },
  {
   "cell_type": "code",
   "execution_count": 8,
   "metadata": {},
   "outputs": [
    {
     "name": "stdout",
     "output_type": "stream",
     "text": [
      "              Name        Team   G\n",
      "97       C.RONALDO  [JUVENTUS]  15\n",
      "88      C.IMMOBILE     [LAZIO]  13\n",
      "496  Z.IBRAHIMOVIC     [MILAN]  12\n",
      "417       R.LUKAKU     [INTER]  12\n",
      "253     JOAO PEDRO  [CAGLIARI]  10\n",
      "211       H.LOZANO    [NAPOLI]   9\n",
      "5        A.BELOTTI    [TORINO]   9\n",
      "284      L.INSIGNE    [NAPOLI]   9\n",
      "339        M.NZOLA    [SPEZIA]   9\n",
      "290     L.MARTINEZ     [INTER]   9\n"
     ]
    }
   ],
   "source": [
    "players = players.sort_values(by='G', ascending=False)\n",
    "print(players[[\"Name\", \"Team\", \"G\"]].head(n=10))"
   ]
  },
  {
   "cell_type": "code",
   "execution_count": 9,
   "metadata": {},
   "outputs": [
    {
     "name": "stdout",
     "output_type": "stream",
     "text": [
      "              Name        Team       G_M         M_G\n",
      "496  Z.IBRAHIMOVIC     [MILAN]  0.015727   63.583333\n",
      "97       C.RONALDO  [JUVENTUS]  0.011186   89.400000\n",
      "323       M.DESTRO     [GENOA]  0.009655  103.571429\n",
      "88      C.IMMOBILE     [LAZIO]  0.009047  110.538462\n",
      "417       R.LUKAKU     [INTER]  0.008415  118.833333\n",
      "339        M.NZOLA    [SPEZIA]  0.007888  126.777778\n",
      "149      F.CAICEDO     [LAZIO]  0.007481  133.666667\n",
      "284      L.INSIGNE    [NAPOLI]  0.007143  140.000000\n",
      "127       D.ZAPATA  [ATALANTA]  0.006656  150.250000\n",
      "211       H.LOZANO    [NAPOLI]  0.006642  150.555556\n"
     ]
    }
   ],
   "source": [
    "players['G_M'] = players['G'] / players['M']\n",
    "players = players.sort_values(by='G_M', ascending=False)\n",
    "top_players = players[[\"Name\", \"Team\", \"G_M\"]].head(n=10)\n",
    "top_players['M_G'] = players['M'] / players['G']\n",
    "print(top_players.head(n=10))"
   ]
  },
  {
   "cell_type": "code",
   "execution_count": 10,
   "metadata": {},
   "outputs": [
    {
     "name": "stdout",
     "output_type": "stream",
     "text": [
      "             Name          Team   A\n",
      "284     L.INSIGNE      [NAPOLI]  66\n",
      "97      C.RONALDO    [JUVENTUS]  64\n",
      "290    L.MARTINEZ       [INTER]  57\n",
      "5       A.BELOTTI      [TORINO]  54\n",
      "88     C.IMMOBILE       [LAZIO]  50\n",
      "309      M.BARROW     [BOLOGNA]  47\n",
      "212  H.MKHITARYAN        [ROMA]  47\n",
      "241     J.MESSIAS     [CROTONE]  45\n",
      "126    D.VLAHOVIC  [FIORENTINA]  43\n",
      "209  H.CALHANOGLU       [MILAN]  43\n"
     ]
    }
   ],
   "source": [
    "players = players.sort_values(by='A', ascending=False)\n",
    "print(players[[\"Name\", \"Team\", \"A\"]].head(n=10))"
   ]
  },
  {
   "cell_type": "code",
   "execution_count": 11,
   "metadata": {},
   "outputs": [
    {
     "name": "stdout",
     "output_type": "stream",
     "text": [
      "              Name        Team       A_M        M_A\n",
      "284      L.INSIGNE    [NAPOLI]  0.052381  19.090909\n",
      "496  Z.IBRAHIMOVIC     [MILAN]  0.049803  20.078947\n",
      "97       C.RONALDO  [JUVENTUS]  0.047726  20.953125\n",
      "346     M.POLITANO    [NAPOLI]  0.042360  23.607143\n",
      "234       J.ILICIC  [ATALANTA]  0.040865  24.470588\n",
      "290     L.MARTINEZ     [INTER]  0.040714  24.561404\n",
      "388       P.DYBALA  [JUVENTUS]  0.040698  24.571429\n",
      "121      D.MERTENS    [NAPOLI]  0.038272  26.129032\n",
      "27         A.GOMEZ  [ATALANTA]  0.036075  27.720000\n",
      "88      C.IMMOBILE     [LAZIO]  0.034795  28.740000\n"
     ]
    }
   ],
   "source": [
    "players['A_M'] = players['A'] / players['M']\n",
    "players = players.sort_values(by='A_M', ascending=False)\n",
    "top_players = players[[\"Name\", \"Team\", \"A_M\"]].head(n=10)\n",
    "top_players['M_A'] = players['M'] / players['A']\n",
    "print(top_players.head(n=10))"
   ]
  },
  {
   "cell_type": "code",
   "execution_count": 12,
   "metadata": {},
   "outputs": [
    {
     "name": "stdout",
     "output_type": "stream",
     "text": [
      "                   Name             Team  AS\n",
      "212        H.MKHITARYAN           [ROMA]   8\n",
      "311          M.BROZOVIC          [INTER]   6\n",
      "209        H.CALHANOGLU          [MILAN]   6\n",
      "121           D.MERTENS         [NAPOLI]   6\n",
      "453  S.MILINKOVIC-SAVIC          [LAZIO]   5\n",
      "5             A.BELOTTI         [TORINO]   5\n",
      "367           N.BARELLA          [INTER]   5\n",
      "294        L.PELLEGRINI    [ROMA, GENOA]   5\n",
      "362          M.ZACCAGNI  [HELLAS VERONA]   5\n",
      "234            J.ILICIC       [ATALANTA]   5\n",
      "41             A.MORATA       [JUVENTUS]   4\n",
      "103           D.BERARDI       [SASSUOLO]   4\n",
      "416              R.LEAO          [MILAN]   4\n",
      "10           A.CANDREVA      [SAMPDORIA]   4\n",
      "37            A.MARUSIC          [LAZIO]   4\n",
      "331           M.LAZZARI          [LAZIO]   4\n",
      "430           R.SORIANO        [BOLOGNA]   4\n",
      "136             E.GYASI         [SPEZIA]   4\n",
      "390         P.GHIGLIONE          [GENOA]   4\n",
      "408            R.GOSENS       [ATALANTA]   4\n",
      "231          J.CUADRADO       [JUVENTUS]   4\n",
      "85            C.BIRAGHI     [FIORENTINA]   4\n",
      "426           R.PEREYRA        [UDINESE]   4\n",
      "167            F.RIBERY     [FIORENTINA]   4\n",
      "127            D.ZAPATA       [ATALANTA]   4\n"
     ]
    }
   ],
   "source": [
    "players = players.sort_values(by='AS', ascending=False)\n",
    "print(players[[\"Name\", \"Team\", \"AS\"]].head(n=25))"
   ]
  },
  {
   "cell_type": "code",
   "execution_count": 13,
   "metadata": {},
   "outputs": [
    {
     "name": "stdout",
     "output_type": "stream",
     "text": [
      "             Name        Team      AS_M        M_AS\n",
      "121     D.MERTENS    [NAPOLI]  0.007407  135.000000\n",
      "234      J.ILICIC  [ATALANTA]  0.006010  166.400000\n",
      "212  H.MKHITARYAN      [ROMA]  0.004825  207.250000\n",
      "311    M.BROZOVIC     [INTER]  0.004535  220.500000\n",
      "57      A.SANCHEZ     [INTER]  0.004438  225.333333\n",
      "209  H.CALHANOGLU     [MILAN]  0.004110  243.333333\n",
      "41       A.MORATA  [JUVENTUS]  0.004098  244.000000\n",
      "436     S.BASTONI    [SPEZIA]  0.004082  245.000000\n",
      "390   P.GHIGLIONE     [GENOA]  0.003899  256.500000\n",
      "49       A.RAMSEY  [JUVENTUS]  0.003856  259.333333\n"
     ]
    }
   ],
   "source": [
    "players['AS_M'] = players['AS'] / players['M']\n",
    "players = players.sort_values(by='AS_M', ascending=False)\n",
    "top_players = players[[\"Name\", \"Team\", \"AS_M\"]].head(n=10)\n",
    "top_players['M_AS'] = players['M'] / players['AS']\n",
    "print(top_players.head(n=10))"
   ]
  },
  {
   "cell_type": "code",
   "execution_count": 14,
   "metadata": {},
   "outputs": [
    {
     "name": "stdout",
     "output_type": "stream",
     "text": [
      "             Name                 Team    BP\n",
      "333   M.LOCATELLI           [SASSUOLO]  1690\n",
      "185     G.FERRARI           [SASSUOLO]  1575\n",
      "129        DANILO           [JUVENTUS]  1527\n",
      "294  L.PELLEGRINI        [ROMA, GENOA]  1516\n",
      "182  G.DI LORENZO             [NAPOLI]  1453\n",
      "403     R.DE PAUL            [UDINESE]  1411\n",
      "409      R.IBANEZ               [ROMA]  1384\n",
      "199    G.PEZZELLA  [PARMA, FIORENTINA]  1377\n",
      "106    D.CALABRIA              [MILAN]  1373\n",
      "476    T.TOMIYASU            [BOLOGNA]  1317\n"
     ]
    }
   ],
   "source": [
    "players = players.sort_values(by='BP', ascending=False)\n",
    "print(players[[\"Name\", \"Team\", \"BP\"]].head(n=10))"
   ]
  },
  {
   "cell_type": "code",
   "execution_count": 15,
   "metadata": {},
   "outputs": [
    {
     "name": "stdout",
     "output_type": "stream",
     "text": [
      "             Name        Team      BP_M      M_BP\n",
      "333   M.LOCATELLI  [SASSUOLO]  1.049689  0.952663\n",
      "111       D.DEMME    [NAPOLI]  0.993485  1.006557\n",
      "68         ARTHUR  [JUVENTUS]  0.991489  1.008584\n",
      "129        DANILO  [JUVENTUS]  0.968909  1.032089\n",
      "311    M.BROZOVIC     [INTER]  0.962963  1.038462\n",
      "371  N.MAKSIMOVIC    [NAPOLI]  0.962602  1.038851\n",
      "365     MARIO RUI    [NAPOLI]  0.944503  1.058758\n",
      "319     M.DE LIGT  [JUVENTUS]  0.939010  1.064951\n",
      "231    J.CUADRADO  [JUVENTUS]  0.932143  1.072797\n",
      "264   K.KOULIBALY    [NAPOLI]  0.931115  1.073982\n"
     ]
    }
   ],
   "source": [
    "players['BP_M'] = players['BP'] / players['M']\n",
    "players = players.sort_values(by='BP_M', ascending=False)\n",
    "top_players = players[[\"Name\", \"Team\", \"BP_M\"]].head(n=10)\n",
    "top_players['M_BP'] = players['M'] / players['BP']\n",
    "print(top_players.head(n=10))"
   ]
  },
  {
   "cell_type": "code",
   "execution_count": 16,
   "metadata": {},
   "outputs": [
    {
     "name": "stdout",
     "output_type": "stream",
     "text": [
      "             Name        Team     P\n",
      "185     G.FERRARI  [SASSUOLO]  1261\n",
      "333   M.LOCATELLI  [SASSUOLO]  1225\n",
      "129        DANILO  [JUVENTUS]  1133\n",
      "4       A.BASTONI     [INTER]  1022\n",
      "182  G.DI LORENZO    [NAPOLI]   967\n",
      "409      R.IBANEZ      [ROMA]   963\n",
      "264   K.KOULIBALY    [NAPOLI]   961\n",
      "439     S.DE VRIJ     [INTER]   937\n",
      "311    M.BROZOVIC     [INTER]   934\n",
      "273     L.BONUCCI  [JUVENTUS]   931\n"
     ]
    }
   ],
   "source": [
    "players = players.sort_values(by='P', ascending=False)\n",
    "print(players[[\"Name\", \"Team\", \"P\"]].head(n=10))"
   ]
  },
  {
   "cell_type": "code",
   "execution_count": 17,
   "metadata": {},
   "outputs": [
    {
     "name": "stdout",
     "output_type": "stream",
     "text": [
      "             Name        Team       P_M       M_P\n",
      "68         ARTHUR  [JUVENTUS]  0.838298  1.192893\n",
      "371  N.MAKSIMOVIC    [NAPOLI]  0.808130  1.237425\n",
      "111       D.DEMME    [NAPOLI]  0.776873  1.287212\n",
      "319     M.DE LIGT  [JUVENTUS]  0.768700  1.300898\n",
      "333   M.LOCATELLI  [SASSUOLO]  0.760870  1.314286\n",
      "264   K.KOULIBALY    [NAPOLI]  0.743808  1.344433\n",
      "185     G.FERRARI  [SASSUOLO]  0.726382  1.376685\n",
      "129        DANILO  [JUVENTUS]  0.718909  1.390997\n",
      "170   FABIAN RUIZ    [NAPOLI]  0.716379  1.395909\n",
      "478   V.CHIRICHES  [SASSUOLO]  0.713382  1.401774\n"
     ]
    }
   ],
   "source": [
    "players['P_M'] = players['P'] / players['M']\n",
    "players = players.sort_values(by='P_M', ascending=False)\n",
    "top_players = players[[\"Name\", \"Team\", \"P_M\"]].head(n=10)\n",
    "top_players['M_P'] = players['M'] / players['P']\n",
    "print(top_players.head(n=10))"
   ]
  },
  {
   "cell_type": "code",
   "execution_count": 18,
   "metadata": {},
   "outputs": [
    {
     "name": "stdout",
     "output_type": "stream",
     "text": [
      "             Name        Team         P%\n",
      "371  N.MAKSIMOVIC    [NAPOLI]  95.875000\n",
      "68         ARTHUR  [JUVENTUS]  95.181818\n",
      "319     M.DE LIGT  [JUVENTUS]  93.800000\n",
      "376     N.NKOULOU    [TORINO]  93.750000\n",
      "353    M.SKRINIAR     [INTER]  93.200000\n",
      "268     K.MANOLAS    [NAPOLI]  93.000000\n",
      "439     S.DE VRIJ     [INTER]  92.529412\n",
      "401   R.BENTANCUR  [JUVENTUS]  91.647059\n",
      "478   V.CHIRICHES  [SASSUOLO]  91.384615\n",
      "170   FABIAN RUIZ    [NAPOLI]  91.066667\n"
     ]
    }
   ],
   "source": [
    "players = players.sort_values(by='P%', ascending=False)\n",
    "print(players[[\"Name\", \"Team\", \"P%\"]].head(n=10))"
   ]
  },
  {
   "cell_type": "code",
   "execution_count": 19,
   "metadata": {},
   "outputs": [
    {
     "name": "stdout",
     "output_type": "stream",
     "text": [
      "             Name             Team  KP\n",
      "403     R.DE PAUL        [UDINESE]  24\n",
      "234      J.ILICIC       [ATALANTA]  21\n",
      "294  L.PELLEGRINI    [ROMA, GENOA]  17\n",
      "103     D.BERARDI       [SASSUOLO]  15\n",
      "209  H.CALHANOGLU          [MILAN]  14\n",
      "430     R.SORIANO        [BOLOGNA]  13\n",
      "304  LUIS ALBERTO          [LAZIO]  13\n",
      "155     F.DIMARCO  [HELLAS VERONA]  12\n",
      "298  L.SPINAZZOLA           [ROMA]  11\n",
      "362    M.ZACCAGNI  [HELLAS VERONA]  11\n",
      "212  H.MKHITARYAN           [ROMA]  11\n",
      "29       A.HAKIMI          [INTER]  11\n",
      "491    W.MCKENNIE       [JUVENTUS]  10\n",
      "309      M.BARROW        [BOLOGNA]   9\n",
      "85      C.BIRAGHI     [FIORENTINA]   9\n"
     ]
    }
   ],
   "source": [
    "players = players.sort_values(by='KP', ascending=False)\n",
    "print(players[[\"Name\", \"Team\", \"KP\"]].head(n=15))"
   ]
  },
  {
   "cell_type": "code",
   "execution_count": 20,
   "metadata": {},
   "outputs": [
    {
     "name": "stdout",
     "output_type": "stream",
     "text": [
      "             Name        Team      KP_M        M_KP\n",
      "234      J.ILICIC  [ATALANTA]  0.025240   39.619048\n",
      "403     R.DE PAUL   [UDINESE]  0.013905   71.916667\n",
      "57      A.SANCHEZ     [INTER]  0.011834   84.500000\n",
      "83    BRUNO PERES      [ROMA]  0.011475   87.142857\n",
      "491    W.MCKENNIE  [JUVENTUS]  0.011416   87.600000\n",
      "103     D.BERARDI  [SASSUOLO]  0.011062   90.400000\n",
      "27        A.GOMEZ  [ATALANTA]  0.010101   99.000000\n",
      "304  LUIS ALBERTO     [LAZIO]  0.009680  103.307692\n",
      "209  H.CALHANOGLU     [MILAN]  0.009589  104.285714\n",
      "45      A.PETAGNA    [NAPOLI]  0.009227  108.375000\n"
     ]
    }
   ],
   "source": [
    "players['KP_M'] = players['KP'] / players['M']\n",
    "players = players.sort_values(by='KP_M', ascending=False)\n",
    "top_players = players[[\"Name\", \"Team\", \"KP_M\"]].head(n=10)\n",
    "top_players['M_KP'] = players['M'] / players['KP']\n",
    "print(top_players.head(n=10))"
   ]
  },
  {
   "cell_type": "code",
   "execution_count": 21,
   "metadata": {
    "scrolled": true
   },
   "outputs": [
    {
     "name": "stdout",
     "output_type": "stream",
     "text": [
      "              Name             Team  FS\n",
      "5        A.BELOTTI         [TORINO]  80\n",
      "362     M.ZACCAGNI  [HELLAS VERONA]  54\n",
      "241      J.MESSIAS        [CROTONE]  54\n",
      "403      R.DE PAUL        [UDINESE]  53\n",
      "211       H.LOZANO         [NAPOLI]  48\n",
      "253     JOAO PEDRO       [CAGLIARI]  45\n",
      "294   L.PELLEGRINI    [ROMA, GENOA]  43\n",
      "425      R.PALACIO        [BOLOGNA]  43\n",
      "167       F.RIBERY     [FIORENTINA]  41\n",
      "176  G.CASTROVILLI     [FIORENTINA]  39\n"
     ]
    }
   ],
   "source": [
    "players = players.sort_values(by='FS', ascending=False)\n",
    "print(players[[\"Name\", \"Team\", \"FS\"]].head(n=10))"
   ]
  },
  {
   "cell_type": "code",
   "execution_count": 22,
   "metadata": {
    "scrolled": true
   },
   "outputs": [
    {
     "name": "stdout",
     "output_type": "stream",
     "text": [
      "           Name             Team      FS_M       M_FS\n",
      "5     A.BELOTTI         [TORINO]  0.046811  21.362500\n",
      "234    J.ILICIC       [ATALANTA]  0.044471  22.486486\n",
      "362  M.ZACCAGNI  [HELLAS VERONA]  0.035976  27.796296\n",
      "211    H.LOZANO         [NAPOLI]  0.035424  28.229167\n",
      "200   G.RAMIREZ      [SAMPDORIA]  0.034965  28.600000\n",
      "167    F.RIBERY     [FIORENTINA]  0.034367  29.097561\n",
      "196    G.PANDEV          [GENOA]  0.033967  29.440000\n",
      "391   P.HETEMAJ      [BENEVENTO]  0.033099  30.212121\n",
      "205    G.VILLAR           [ROMA]  0.032787  30.500000\n",
      "174   G.CAPRARI      [BENEVENTO]  0.031760  31.486486\n"
     ]
    }
   ],
   "source": [
    "players['FS_M'] = players['FS'] / players['M']\n",
    "players = players.sort_values(by='FS_M', ascending=False)\n",
    "top_players = players[[\"Name\", \"Team\", \"FS_M\"]].head(n=10)\n",
    "top_players['M_FS'] = players['M'] / players['FS']\n",
    "print(top_players.head(n=10))"
   ]
  },
  {
   "cell_type": "code",
   "execution_count": 23,
   "metadata": {},
   "outputs": [
    {
     "name": "stdout",
     "output_type": "stream",
     "text": [
      "             Name                         Team    R\n",
      "476    T.TOMIYASU                    [BOLOGNA]  192\n",
      "409      R.IBANEZ                       [ROMA]  169\n",
      "372  N.MILENKOVIC                 [FIORENTINA]  164\n",
      "145      F.ACERBI                      [LAZIO]  153\n",
      "199    G.PEZZELLA          [PARMA, FIORENTINA]  151\n",
      "82         BREMER                     [TORINO]  149\n",
      "262        K.GLIK                  [BENEVENTO]  148\n",
      "279      L.DANILO                    [BOLOGNA]  147\n",
      "96       C.ROMERO                   [ATALANTA]  141\n",
      "152  F.CECCHERINI  [FIORENTINA, HELLAS VERONA]  137\n"
     ]
    }
   ],
   "source": [
    "players = players.sort_values(by='R', ascending=False)\n",
    "print(players[[\"Name\", \"Team\", \"R\"]].head(n=10))"
   ]
  },
  {
   "cell_type": "code",
   "execution_count": 24,
   "metadata": {},
   "outputs": [
    {
     "name": "stdout",
     "output_type": "stream",
     "text": [
      "             Name                         Team       R_M       M_R\n",
      "191     G.MAGNANI              [HELLAS VERONA]  0.155000  6.451613\n",
      "263      K.GUNTER              [HELLAS VERONA]  0.135053  7.404494\n",
      "96       C.ROMERO                   [ATALANTA]  0.128065  7.808511\n",
      "438     S.DE MAIO                    [UDINESE]  0.112952  8.853333\n",
      "478   V.CHIRICHES                   [SASSUOLO]  0.112116  8.919355\n",
      "152  F.CECCHERINI  [FIORENTINA, HELLAS VERONA]  0.108386  9.226277\n",
      "490       W.HOEDT                      [LAZIO]  0.108225  9.240000\n",
      "446       S.KJAER                      [MILAN]  0.107029  9.343284\n",
      "322     M.DEMIRAL                   [JUVENTUS]  0.106489  9.390625\n",
      "476    T.TOMIYASU                    [BOLOGNA]  0.105727  9.458333\n"
     ]
    }
   ],
   "source": [
    "players['R_M'] = players['R'] / players['M']\n",
    "players = players.sort_values(by='R_M', ascending=False)\n",
    "top_players = players[[\"Name\", \"Team\", \"R_M\"]].head(n=10)\n",
    "top_players['M_R'] = players['M'] / players['R']\n",
    "print(top_players.head(n=10))"
   ]
  },
  {
   "cell_type": "code",
   "execution_count": 25,
   "metadata": {},
   "outputs": [],
   "source": [
    "thisdir = os.getcwd()\n",
    "thisdir += \"/2020-2021/Player Data/Goalkeeper/\"\n",
    "csv_list = []\n",
    "\n",
    "for r, d, f in os.walk(thisdir):\n",
    "    for file in f:\n",
    "        if file.endswith(\".csv\"):\n",
    "            csv_list.append(os.path.join(r, file))\n",
    "\n",
    "csv_list = sorted(csv_list)\n",
    "\n",
    "players = []\n",
    "\n",
    "for csv_file in csv_list:\n",
    "#     print(csv_file)\n",
    "    if csv_file[-5:] == \"/.csv\":\n",
    "        continue\n",
    "    player_data = pd.read_csv(csv_file, encoding='latin-1')\n",
    "    player_data[\"M_played\"] = player_data.apply(lambda row:convert_to_minutes(row), axis=1)\n",
    "    player_data = player_data.astype({'GC':'int32', 'OG':'int32', 'S':'int32', 'STP':'int32', 'SF':'int32', 'FYC':'int32', 'SYC':'int32', 'RC':'int32'})\n",
    "\n",
    "    players.append([player_data[\"Name\"].unique()[0], player_data[\"Team\"].unique(), player_data[\"M_played\"].sum(), player_data[\"GC\"].sum(), player_data[\"OG\"].sum(), player_data[\"S\"].sum(), player_data[\"STP\"].sum(), player_data[\"SF\"].sum(), player_data[\"FYC\"].sum(), player_data[\"SYC\"].sum(), player_data[\"RC\"].sum(), player_data[\"M_played\"].size])\n",
    "\n",
    "players = pd.DataFrame(np.array(players), columns=['Name', 'Team' , 'M', 'GC', 'OG', 'S', 'STP', 'SF', 'FYC', 'SYC', 'RC', 'N'])\n",
    "players = players.astype({'M':'int32', 'GC':'int32', 'OG':'int32', 'S':'int32', 'STP':'int32', 'SF':'int32', 'FYC':'int32', 'SYC':'int32', 'RC':'int32', 'N':'int32'})\n",
    "players = players[players['M'] >= min_time]\n",
    "players = players[players['N'] >= min_games]"
   ]
  },
  {
   "cell_type": "code",
   "execution_count": 26,
   "metadata": {},
   "outputs": [
    {
     "name": "stdout",
     "output_type": "stream",
     "text": [
      "            Name             Team     M\n",
      "19    L.MONTIPO'      [BENEVENTO]  1827\n",
      "30  S.HANDANOVIC          [INTER]  1825\n",
      "7    B.DRAGOWSKI     [FIORENTINA]  1822\n",
      "23   M.SILVESTRI  [HELLAS VERONA]  1821\n",
      "10      E.AUDERO      [SAMPDORIA]  1817\n",
      "1       A.CORDAZ        [CROTONE]  1816\n",
      "20        L.SEPE          [PARMA]  1815\n",
      "2       A.CRAGNO       [CAGLIARI]  1815\n",
      "0     A.CONSIGLI       [SASSUOLO]  1742\n",
      "14  G.DONNARUMMA          [MILAN]  1741\n"
     ]
    }
   ],
   "source": [
    "players = players.sort_values(by='M', ascending=False)\n",
    "print(players[[\"Name\", \"Team\", \"M\"]].head(n=10))"
   ]
  },
  {
   "cell_type": "code",
   "execution_count": 27,
   "metadata": {},
   "outputs": [
    {
     "name": "stdout",
     "output_type": "stream",
     "text": [
      "            Name          Team        M_N\n",
      "31      S.SIRIGU      [TORINO]  97.529412\n",
      "0     A.CONSIGLI    [SASSUOLO]  96.777778\n",
      "14  G.DONNARUMMA       [MILAN]  96.722222\n",
      "4        A.MERET      [NAPOLI]  96.250000\n",
      "21   L.SKORUPSKI     [BOLOGNA]  96.166667\n",
      "19    L.MONTIPO'   [BENEVENTO]  96.157895\n",
      "28       P.REINA       [LAZIO]  96.153846\n",
      "34    W.SZCZESNY    [JUVENTUS]  96.071429\n",
      "30  S.HANDANOVIC       [INTER]  96.052632\n",
      "7    B.DRAGOWSKI  [FIORENTINA]  95.894737\n"
     ]
    }
   ],
   "source": [
    "players['M_N'] = players['M'] / players['N']\n",
    "players = players.sort_values(by='M_N', ascending=False)\n",
    "print(players[[\"Name\", \"Team\", \"M_N\"]].head(n=10))"
   ]
  },
  {
   "cell_type": "code",
   "execution_count": 28,
   "metadata": {},
   "outputs": [
    {
     "name": "stdout",
     "output_type": "stream",
     "text": [
      "            Name          Team  GC\n",
      "1       A.CORDAZ     [CROTONE]  43\n",
      "2       A.CRAGNO    [CAGLIARI]  37\n",
      "20        L.SEPE       [PARMA]  36\n",
      "19    L.MONTIPO'   [BENEVENTO]  36\n",
      "31      S.SIRIGU      [TORINO]  33\n",
      "7    B.DRAGOWSKI  [FIORENTINA]  30\n",
      "16    I.PROVEDEL      [SPEZIA]  29\n",
      "10      E.AUDERO   [SAMPDORIA]  29\n",
      "0     A.CONSIGLI    [SASSUOLO]  29\n",
      "30  S.HANDANOVIC       [INTER]  23\n"
     ]
    }
   ],
   "source": [
    "players = players.sort_values(by='GC', ascending=False)\n",
    "print(players[[\"Name\", \"Team\", \"GC\"]].head(n=10))"
   ]
  },
  {
   "cell_type": "code",
   "execution_count": 29,
   "metadata": {},
   "outputs": [
    {
     "name": "stdout",
     "output_type": "stream",
     "text": [
      "            Name         Team      GC_M       M_GC\n",
      "1       A.CORDAZ    [CROTONE]  0.023678  42.232558\n",
      "24  M.SPORTIELLO   [ATALANTA]  0.021645  46.200000\n",
      "32   T.STRAKOSHA      [LAZIO]  0.020906  47.833333\n",
      "2       A.CRAGNO   [CAGLIARI]  0.020386  49.054054\n",
      "31      S.SIRIGU     [TORINO]  0.019903  50.242424\n",
      "20        L.SEPE      [PARMA]  0.019835  50.416667\n",
      "19    L.MONTIPO'  [BENEVENTO]  0.019704  50.750000\n",
      "16    I.PROVEDEL     [SPEZIA]  0.018905  52.896552\n",
      "0     A.CONSIGLI   [SASSUOLO]  0.016648  60.068966\n",
      "27       P.LOPEZ       [ROMA]  0.016539  60.461538\n"
     ]
    }
   ],
   "source": [
    "players['GC_M'] = players['GC'] / players['M']\n",
    "players = players.sort_values(by='GC_M', ascending=False)\n",
    "top_players = players[[\"Name\", \"Team\", \"GC_M\"]].head(n=10)\n",
    "top_players['M_GC'] = players['M'] / players['GC']\n",
    "print(top_players.head(n=10))"
   ]
  },
  {
   "cell_type": "code",
   "execution_count": 30,
   "metadata": {},
   "outputs": [
    {
     "name": "stdout",
     "output_type": "stream",
     "text": [
      "            Name             Team  GC\n",
      "26     P.GOLLINI       [ATALANTA]   7\n",
      "9       D.OSPINA         [NAPOLI]   9\n",
      "4        A.MERET         [NAPOLI]  10\n",
      "32   T.STRAKOSHA          [LAZIO]  12\n",
      "27       P.LOPEZ           [ROMA]  13\n",
      "28       P.REINA          [LAZIO]  14\n",
      "24  M.SPORTIELLO       [ATALANTA]  15\n",
      "34    W.SZCZESNY       [JUVENTUS]  16\n",
      "5      A.MIRANTE           [ROMA]  16\n",
      "23   M.SILVESTRI  [HELLAS VERONA]  18\n"
     ]
    }
   ],
   "source": [
    "players = players.sort_values(by='GC')\n",
    "print(players[[\"Name\", \"Team\", \"GC\"]].head(n=10))"
   ]
  },
  {
   "cell_type": "code",
   "execution_count": 31,
   "metadata": {},
   "outputs": [
    {
     "name": "stdout",
     "output_type": "stream",
     "text": [
      "            Name             Team      GC_M        M_GC\n",
      "26     P.GOLLINI       [ATALANTA]  0.006883  145.285714\n",
      "9       D.OSPINA         [NAPOLI]  0.009424  106.111111\n",
      "23   M.SILVESTRI  [HELLAS VERONA]  0.009885  101.166667\n",
      "14  G.DONNARUMMA          [MILAN]  0.010913   91.631579\n",
      "28       P.REINA          [LAZIO]  0.011200   89.285714\n",
      "34    W.SZCZESNY       [JUVENTUS]  0.011896   84.062500\n",
      "30  S.HANDANOVIC          [INTER]  0.012603   79.347826\n",
      "4        A.MERET         [NAPOLI]  0.012987   77.000000\n",
      "22       M.PERIN          [GENOA]  0.013780   72.571429\n",
      "17       J.MUSSO        [UDINESE]  0.014351   69.681818\n"
     ]
    }
   ],
   "source": [
    "players['GC_M'] = players['GC'] / players['M']\n",
    "players = players.sort_values(by='GC_M')\n",
    "top_players = players[[\"Name\", \"Team\", \"GC_M\"]].head(n=10)\n",
    "top_players['M_GC'] = players['M'] / players['GC']\n",
    "print(top_players.head(n=10))"
   ]
  },
  {
   "cell_type": "code",
   "execution_count": 32,
   "metadata": {},
   "outputs": [
    {
     "name": "stdout",
     "output_type": "stream",
     "text": [
      "            Name             Team   S\n",
      "2       A.CRAGNO       [CAGLIARI]  90\n",
      "10      E.AUDERO      [SAMPDORIA]  71\n",
      "20        L.SEPE          [PARMA]  69\n",
      "1       A.CORDAZ        [CROTONE]  66\n",
      "23   M.SILVESTRI  [HELLAS VERONA]  63\n",
      "0     A.CONSIGLI       [SASSUOLO]  63\n",
      "14  G.DONNARUMMA          [MILAN]  61\n",
      "22       M.PERIN          [GENOA]  57\n",
      "19    L.MONTIPO'      [BENEVENTO]  54\n",
      "7    B.DRAGOWSKI     [FIORENTINA]  53\n"
     ]
    }
   ],
   "source": [
    "players = players.sort_values(by='S', ascending=False)\n",
    "print(players[[\"Name\", \"Team\", \"S\"]].head(n=10))"
   ]
  },
  {
   "cell_type": "code",
   "execution_count": 33,
   "metadata": {},
   "outputs": [
    {
     "name": "stdout",
     "output_type": "stream",
     "text": [
      "            Name             Team       S_M        M_S\n",
      "2       A.CRAGNO       [CAGLIARI]  0.049587  20.166667\n",
      "10      E.AUDERO      [SAMPDORIA]  0.039075  25.591549\n",
      "20        L.SEPE          [PARMA]  0.038017  26.304348\n",
      "22       M.PERIN          [GENOA]  0.037402  26.736842\n",
      "21   L.SKORUPSKI        [BOLOGNA]  0.036395  27.476190\n",
      "1       A.CORDAZ        [CROTONE]  0.036344  27.515152\n",
      "0     A.CONSIGLI       [SASSUOLO]  0.036165  27.650794\n",
      "14  G.DONNARUMMA          [MILAN]  0.035037  28.540984\n",
      "23   M.SILVESTRI  [HELLAS VERONA]  0.034596  28.904762\n",
      "28       P.REINA          [LAZIO]  0.033600  29.761905\n"
     ]
    }
   ],
   "source": [
    "players['S_M'] = players['S'] / players['M']\n",
    "players = players.sort_values(by='S_M', ascending=False)\n",
    "top_players = players[[\"Name\", \"Team\", \"S_M\"]].head(n=10)\n",
    "top_players['M_S'] = players['M'] / players['S']\n",
    "print(top_players.head(n=10))"
   ]
  },
  {
   "cell_type": "code",
   "execution_count": 34,
   "metadata": {},
   "outputs": [
    {
     "name": "stdout",
     "output_type": "stream",
     "text": [
      "            Name          Team  Set_S\n",
      "0     A.CONSIGLI    [SASSUOLO]     11\n",
      "14  G.DONNARUMMA       [MILAN]     11\n",
      "2       A.CRAGNO    [CAGLIARI]     10\n",
      "7    B.DRAGOWSKI  [FIORENTINA]     10\n",
      "20        L.SEPE       [PARMA]     10\n",
      "1       A.CORDAZ     [CROTONE]      8\n",
      "5      A.MIRANTE        [ROMA]      7\n",
      "28       P.REINA       [LAZIO]      6\n",
      "30  S.HANDANOVIC       [INTER]      5\n",
      "22       M.PERIN       [GENOA]      5\n"
     ]
    }
   ],
   "source": [
    "players['Set_S'] = players['STP'] + players['SF']\n",
    "players = players.sort_values(by='Set_S', ascending=False)\n",
    "print(players[[\"Name\", \"Team\", \"Set_S\"]].head(n=10))"
   ]
  }
 ],
 "metadata": {
  "kernelspec": {
   "display_name": "Python 3",
   "language": "python",
   "name": "python3"
  },
  "language_info": {
   "codemirror_mode": {
    "name": "ipython",
    "version": 3
   },
   "file_extension": ".py",
   "mimetype": "text/x-python",
   "name": "python",
   "nbconvert_exporter": "python",
   "pygments_lexer": "ipython3",
   "version": "3.7.4"
  }
 },
 "nbformat": 4,
 "nbformat_minor": 2
}
