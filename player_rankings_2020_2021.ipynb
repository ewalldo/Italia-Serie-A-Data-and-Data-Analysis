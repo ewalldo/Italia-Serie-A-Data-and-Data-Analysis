{
 "cells": [
  {
   "cell_type": "code",
   "execution_count": 1,
   "metadata": {},
   "outputs": [],
   "source": [
    "import os\n",
    "import csv\n",
    "import pandas as pd\n",
    "import numpy as np\n",
    "import math"
   ]
  },
  {
   "cell_type": "code",
   "execution_count": 2,
   "metadata": {},
   "outputs": [
    {
     "name": "stdout",
     "output_type": "stream",
     "text": [
      "390.0\n",
      "6\n"
     ]
    }
   ],
   "source": [
    "thisdir = os.getcwd()\n",
    "thisdir += \"/2020-2021/Player Data/Non-goalkeeper/\"\n",
    "csv_list = []\n",
    "\n",
    "n_games = 13 #total games played\n",
    "min_time = n_games / 3 * 90 #min time played to be eligible\n",
    "min_games = math.floor(n_games / 2) #min games played to be eligible\n",
    "print(min_time)\n",
    "print(min_games)"
   ]
  },
  {
   "cell_type": "code",
   "execution_count": 3,
   "metadata": {},
   "outputs": [],
   "source": [
    "for r, d, f in os.walk(thisdir):\n",
    "    for file in f:\n",
    "        if file.endswith(\".csv\"):\n",
    "            csv_list.append(os.path.join(r, file))\n",
    "\n",
    "csv_list = sorted(csv_list)"
   ]
  },
  {
   "cell_type": "code",
   "execution_count": 4,
   "metadata": {},
   "outputs": [],
   "source": [
    "def convert_to_minutes(row):\n",
    "    return int(row['M'][:-1])\n",
    "\n",
    "def convert_to_int(row, col):\n",
    "    return int(row[col])"
   ]
  },
  {
   "cell_type": "code",
   "execution_count": 7,
   "metadata": {},
   "outputs": [],
   "source": [
    "players = []\n",
    "\n",
    "for csv_file in csv_list:\n",
    "#     print(csv_file)\n",
    "    if csv_file[-5:] == \"/.csv\":\n",
    "        continue\n",
    "    player_data = pd.read_csv(csv_file, encoding='latin-1')\n",
    "    player_data[\"M_played\"] = player_data.apply(lambda row:convert_to_minutes(row), axis=1)\n",
    "    player_data = player_data.astype({'G':'int32', 'OG':'int32', 'A':'int32', 'AT':'int32', 'BS':'int32', 'SC':'int32', 'FS':'int32', 'BP':'int32', 'AS':'int32', 'KP':'int32', 'P':'int32', 'P%':'int32', 'R':'int32', 'FYC':'int32', 'SYC':'int32', 'RC':'int32'})\n",
    "\n",
    "    players.append([player_data[\"Name\"].unique()[0], player_data[\"Team\"].unique(), player_data[\"M_played\"].sum(), player_data[\"G\"].sum(), player_data[\"OG\"].sum(), player_data[\"A\"].sum(), player_data[\"AT\"].sum(), player_data[\"BS\"].sum(), player_data[\"SC\"].sum(), player_data[\"FS\"].sum(), player_data[\"BP\"].sum(), player_data[\"AS\"].sum(), player_data[\"KP\"].sum(), player_data[\"P\"].sum(), player_data[\"P%\"].sum()  / player_data[\"P%\"].size, player_data[\"R\"].sum(), player_data[\"FYC\"].sum(), player_data[\"SYC\"].sum(), player_data[\"RC\"].sum(), player_data[\"M_played\"].size])\n",
    "\n",
    "players = pd.DataFrame(np.array(players), columns=['Name', 'Team' , 'M', 'G', 'OG', 'A', 'AT', 'BS', 'SC', 'FS', 'BP', 'AS', 'KP', 'P', 'P%', 'R', 'FYC', 'SYC', 'RC', \"N\"])\n",
    "players = players.astype({'M':'int32', 'G':'int32', 'OG':'int32', 'A':'int32', 'AT':'int32', 'BS':'int32', 'SC':'int32', 'FS':'int32', 'BP':'int32', 'AS':'int32', 'KP':'int32', 'P':'int32', 'P%':'float', 'R':'int32', 'FYC':'int32', 'SYC':'int32', 'RC':'int32', 'N':'int32'})\n",
    "players = players[players['M'] >= min_time]\n",
    "players = players[players['N'] >= min_games]"
   ]
  },
  {
   "cell_type": "code",
   "execution_count": 8,
   "metadata": {},
   "outputs": [
    {
     "name": "stdout",
     "output_type": "stream",
     "text": [
      "             Name                 Team     M\n",
      "277  L.PELLEGRINI        [ROMA, GENOA]  1670\n",
      "187    G.PEZZELLA  [PARMA, FIORENTINA]  1379\n",
      "352  N.MILENKOVIC         [FIORENTINA]  1254\n",
      "454    T.TOMIYASU            [BOLOGNA]  1249\n",
      "247        K.GLIK          [BENEVENTO]  1246\n",
      "227     J.MESSIAS            [CROTONE]  1235\n",
      "97     D.CALABRIA              [MILAN]  1234\n",
      "263      L.DANILO            [BOLOGNA]  1231\n",
      "445          SIMY            [CROTONE]  1221\n",
      "329         M.ROG           [CAGLIARI]  1213\n"
     ]
    }
   ],
   "source": [
    "players = players.sort_values(by='M', ascending=False)\n",
    "print(players[[\"Name\", \"Team\", \"M\"]].head(n=10))"
   ]
  },
  {
   "cell_type": "code",
   "execution_count": 9,
   "metadata": {},
   "outputs": [
    {
     "name": "stdout",
     "output_type": "stream",
     "text": [
      "             Name             Team        M_N\n",
      "76         BREMER         [TORINO]  97.200000\n",
      "450   T.HERNANDEZ          [MILAN]  96.916667\n",
      "288        LYANCO         [TORINO]  96.909091\n",
      "51    A.ROMAGNOLI          [MILAN]  96.888889\n",
      "173     G.FERRARI       [SASSUOLO]  96.666667\n",
      "352  N.MILENKOVIC     [FIORENTINA]  96.461538\n",
      "104     D.FARAONI  [HELLAS VERONA]  96.300000\n",
      "454    T.TOMIYASU        [BOLOGNA]  96.076923\n",
      "170  G.DI LORENZO         [NAPOLI]  96.000000\n",
      "315   M.LOCATELLI       [SASSUOLO]  95.916667\n"
     ]
    }
   ],
   "source": [
    "players['M_N'] = players['M'] / players['N']\n",
    "players = players.sort_values(by='M_N', ascending=False)\n",
    "print(players[[\"Name\", \"Team\", \"M_N\"]].head(n=10))"
   ]
  },
  {
   "cell_type": "code",
   "execution_count": 10,
   "metadata": {},
   "outputs": [
    {
     "name": "stdout",
     "output_type": "stream",
     "text": [
      "              Name        Team   G\n",
      "90       C.RONALDO  [JUVENTUS]  12\n",
      "396       R.LUKAKU     [INTER]  11\n",
      "473  Z.IBRAHIMOVIC     [MILAN]  10\n",
      "5        A.BELOTTI    [TORINO]   9\n",
      "82      C.IMMOBILE     [LAZIO]   8\n",
      "199   H.MKHITARYAN      [ROMA]   7\n",
      "238     JOAO PEDRO  [CAGLIARI]   6\n",
      "319        M.NZOLA    [SPEZIA]   6\n",
      "409      R.SORIANO   [BOLOGNA]   6\n",
      "198       H.LOZANO    [NAPOLI]   6\n"
     ]
    }
   ],
   "source": [
    "players = players.sort_values(by='G', ascending=False)\n",
    "print(players[[\"Name\", \"Team\", \"G\"]].head(n=10))"
   ]
  },
  {
   "cell_type": "code",
   "execution_count": 11,
   "metadata": {},
   "outputs": [
    {
     "name": "stdout",
     "output_type": "stream",
     "text": [
      "              Name        Team       G_M         M_G\n",
      "473  Z.IBRAHIMOVIC     [MILAN]  0.017825   56.100000\n",
      "90       C.RONALDO  [JUVENTUS]  0.015625   64.000000\n",
      "396       R.LUKAKU     [INTER]  0.011828   84.545455\n",
      "82      C.IMMOBILE     [LAZIO]  0.008820  113.375000\n",
      "138      F.CAICEDO     [LAZIO]  0.008130  123.000000\n",
      "5        A.BELOTTI    [TORINO]  0.007888  126.777778\n",
      "319        M.NZOLA    [SPEZIA]  0.007782  128.500000\n",
      "140       F.CAPUTO  [SASSUOLO]  0.007622  131.200000\n",
      "305       M.DESTRO     [GENOA]  0.007143  140.000000\n",
      "100   D.D'AMBROSIO     [INTER]  0.007009  142.666667\n"
     ]
    }
   ],
   "source": [
    "players['G_M'] = players['G'] / players['M']\n",
    "players = players.sort_values(by='G_M', ascending=False)\n",
    "top_players = players[[\"Name\", \"Team\", \"G_M\"]].head(n=10)\n",
    "top_players['M_G'] = players['M'] / players['G']\n",
    "print(top_players.head(n=10))"
   ]
  },
  {
   "cell_type": "code",
   "execution_count": 12,
   "metadata": {},
   "outputs": [
    {
     "name": "stdout",
     "output_type": "stream",
     "text": [
      "              Name         Team   A\n",
      "90       C.RONALDO   [JUVENTUS]  42\n",
      "5        A.BELOTTI     [TORINO]  36\n",
      "199   H.MKHITARYAN       [ROMA]  36\n",
      "95       D.BERARDI   [SASSUOLO]  35\n",
      "291       M.BARROW    [BOLOGNA]  34\n",
      "176     G.LAPADULA  [BENEVENTO]  32\n",
      "273     L.MARTINEZ      [INTER]  32\n",
      "473  Z.IBRAHIMOVIC      [MILAN]  32\n",
      "196   H.CALHANOGLU      [MILAN]  31\n",
      "111      D.MERTENS     [NAPOLI]  31\n"
     ]
    }
   ],
   "source": [
    "players = players.sort_values(by='A', ascending=False)\n",
    "print(players[[\"Name\", \"Team\", \"A\"]].head(n=10))"
   ]
  },
  {
   "cell_type": "code",
   "execution_count": 13,
   "metadata": {},
   "outputs": [
    {
     "name": "stdout",
     "output_type": "stream",
     "text": [
      "              Name         Team       A_M        M_A\n",
      "473  Z.IBRAHIMOVIC      [MILAN]  0.057041  17.531250\n",
      "90       C.RONALDO   [JUVENTUS]  0.054688  18.285714\n",
      "367       P.DYBALA   [JUVENTUS]  0.047131  21.217391\n",
      "462      V.OSIMHEN     [NAPOLI]  0.044625  22.409091\n",
      "111      D.MERTENS     [NAPOLI]  0.040843  24.483871\n",
      "276    L.PAVOLETTI   [CAGLIARI]  0.040100  24.937500\n",
      "267      L.INSIGNE     [NAPOLI]  0.039617  25.241379\n",
      "176     G.LAPADULA  [BENEVENTO]  0.036530  27.375000\n",
      "273     L.MARTINEZ      [INTER]  0.036364  27.500000\n",
      "326     M.POLITANO     [NAPOLI]  0.036093  27.705882\n"
     ]
    }
   ],
   "source": [
    "players['A_M'] = players['A'] / players['M']\n",
    "players = players.sort_values(by='A_M', ascending=False)\n",
    "top_players = players[[\"Name\", \"Team\", \"A_M\"]].head(n=10)\n",
    "top_players['M_A'] = players['M'] / players['A']\n",
    "print(top_players.head(n=10))"
   ]
  },
  {
   "cell_type": "code",
   "execution_count": 14,
   "metadata": {},
   "outputs": [
    {
     "name": "stdout",
     "output_type": "stream",
     "text": [
      "                   Name                    Team  AS\n",
      "199        H.MKHITARYAN                  [ROMA]   6\n",
      "111           D.MERTENS                [NAPOLI]   6\n",
      "347           N.BARELLA                 [INTER]   4\n",
      "277        L.PELLEGRINI           [ROMA, GENOA]   4\n",
      "95            D.BERARDI              [SASSUOLO]   4\n",
      "409           R.SORIANO               [BOLOGNA]   4\n",
      "405           R.PEREYRA               [UDINESE]   4\n",
      "142            F.CHIESA  [FIORENTINA, JUVENTUS]   4\n",
      "196        H.CALHANOGLU                 [MILAN]   4\n",
      "38             A.MORATA              [JUVENTUS]   4\n",
      "117            D.ZAPATA              [ATALANTA]   3\n",
      "137         F.BONAZZOLI     [SAMPDORIA, TORINO]   3\n",
      "415           S.BASTONI                [SPEZIA]   3\n",
      "126             E.GYASI                [SPEZIA]   3\n",
      "431  S.MILINKOVIC-SAVIC                 [LAZIO]   3\n"
     ]
    }
   ],
   "source": [
    "players = players.sort_values(by='AS', ascending=False)\n",
    "print(players[[\"Name\", \"Team\", \"AS\"]].head(n=15))"
   ]
  },
  {
   "cell_type": "code",
   "execution_count": 15,
   "metadata": {},
   "outputs": [
    {
     "name": "stdout",
     "output_type": "stream",
     "text": [
      "             Name                    Team      AS_M        M_AS\n",
      "111     D.MERTENS                [NAPOLI]  0.007905  126.500000\n",
      "137   F.BONAZZOLI     [SAMPDORIA, TORINO]  0.006479  154.333333\n",
      "142      F.CHIESA  [FIORENTINA, JUVENTUS]  0.005270  189.750000\n",
      "53      A.SANCHEZ                 [INTER]  0.005263  190.000000\n",
      "38       A.MORATA              [JUVENTUS]  0.005000  200.000000\n",
      "199  H.MKHITARYAN                  [ROMA]  0.004967  201.333333\n",
      "221      J.ILICIC              [ATALANTA]  0.004950  202.000000\n",
      "395        R.LEAO                 [MILAN]  0.004792  208.666667\n",
      "405     R.PEREYRA               [UDINESE]  0.004592  217.750000\n",
      "46       A.RAMSEY              [JUVENTUS]  0.004348  230.000000\n"
     ]
    }
   ],
   "source": [
    "players['AS_M'] = players['AS'] / players['M']\n",
    "players = players.sort_values(by='AS_M', ascending=False)\n",
    "top_players = players[[\"Name\", \"Team\", \"AS_M\"]].head(n=10)\n",
    "top_players['M_AS'] = players['M'] / players['AS']\n",
    "print(top_players.head(n=10))"
   ]
  },
  {
   "cell_type": "code",
   "execution_count": 16,
   "metadata": {},
   "outputs": [
    {
     "name": "stdout",
     "output_type": "stream",
     "text": [
      "             Name           Team    BP\n",
      "277  L.PELLEGRINI  [ROMA, GENOA]  1241\n",
      "315   M.LOCATELLI     [SASSUOLO]  1228\n",
      "173     G.FERRARI     [SASSUOLO]  1061\n",
      "249   K.KOULIBALY       [NAPOLI]  1059\n",
      "170  G.DI LORENZO       [NAPOLI]  1010\n",
      "119        DANILO     [JUVENTUS]  1006\n",
      "382     R.DE PAUL      [UDINESE]   981\n",
      "97     D.CALABRIA        [MILAN]   977\n",
      "352  N.MILENKOVIC   [FIORENTINA]   930\n",
      "218    J.CUADRADO     [JUVENTUS]   926\n"
     ]
    }
   ],
   "source": [
    "players = players.sort_values(by='BP', ascending=False)\n",
    "print(players[[\"Name\", \"Team\", \"BP\"]].head(n=10))"
   ]
  },
  {
   "cell_type": "code",
   "execution_count": 17,
   "metadata": {},
   "outputs": [
    {
     "name": "stdout",
     "output_type": "stream",
     "text": [
      "            Name        Team      BP_M      M_BP\n",
      "315  M.LOCATELLI  [SASSUOLO]  1.066898  0.937296\n",
      "102      D.DEMME    [NAPOLI]  1.056872  0.946188\n",
      "63        ARTHUR  [JUVENTUS]  1.031381  0.969574\n",
      "293   M.BROZOVIC     [INTER]  1.006702  0.993342\n",
      "119       DANILO  [JUVENTUS]  0.983382  1.016899\n",
      "456  V.CHIRICHES  [SASSUOLO]  0.980952  1.019417\n",
      "301    M.DE LIGT  [JUVENTUS]  0.980803  1.019573\n",
      "249  K.KOULIBALY    [NAPOLI]  0.960109  1.041549\n",
      "380  R.BENTANCUR  [JUVENTUS]  0.955617  1.046444\n",
      "346       MARLON  [SASSUOLO]  0.943723  1.059633\n"
     ]
    }
   ],
   "source": [
    "players['BP_M'] = players['BP'] / players['M']\n",
    "players = players.sort_values(by='BP_M', ascending=False)\n",
    "top_players = players[[\"Name\", \"Team\", \"BP_M\"]].head(n=10)\n",
    "top_players['M_BP'] = players['M'] / players['BP']\n",
    "print(top_players.head(n=10))"
   ]
  },
  {
   "cell_type": "code",
   "execution_count": 18,
   "metadata": {},
   "outputs": [
    {
     "name": "stdout",
     "output_type": "stream",
     "text": [
      "             Name           Team    P\n",
      "315   M.LOCATELLI     [SASSUOLO]  890\n",
      "173     G.FERRARI     [SASSUOLO]  866\n",
      "249   K.KOULIBALY       [NAPOLI]  859\n",
      "119        DANILO     [JUVENTUS]  747\n",
      "253     K.MANOLAS       [NAPOLI]  675\n",
      "170  G.DI LORENZO       [NAPOLI]  670\n",
      "352  N.MILENKOVIC   [FIORENTINA]  663\n",
      "4       A.BASTONI        [INTER]  644\n",
      "257     L.BONUCCI     [JUVENTUS]  636\n",
      "277  L.PELLEGRINI  [ROMA, GENOA]  633\n"
     ]
    }
   ],
   "source": [
    "players = players.sort_values(by='P', ascending=False)\n",
    "print(players[[\"Name\", \"Team\", \"P\"]].head(n=10))"
   ]
  },
  {
   "cell_type": "code",
   "execution_count": 19,
   "metadata": {},
   "outputs": [
    {
     "name": "stdout",
     "output_type": "stream",
     "text": [
      "            Name        Team       P_M       M_P\n",
      "102      D.DEMME    [NAPOLI]  0.879147  1.137466\n",
      "63        ARTHUR  [JUVENTUS]  0.864017  1.157385\n",
      "301    M.DE LIGT  [JUVENTUS]  0.815009  1.226981\n",
      "346       MARLON  [SASSUOLO]  0.811688  1.232000\n",
      "456  V.CHIRICHES  [SASSUOLO]  0.789116  1.267241\n",
      "249  K.KOULIBALY    [NAPOLI]  0.778785  1.284051\n",
      "315  M.LOCATELLI  [SASSUOLO]  0.773241  1.293258\n",
      "293   M.BROZOVIC     [INTER]  0.766756  1.304196\n",
      "173    G.FERRARI  [SASSUOLO]  0.746552  1.339492\n",
      "119       DANILO  [JUVENTUS]  0.730205  1.369478\n"
     ]
    }
   ],
   "source": [
    "players['P_M'] = players['P'] / players['M']\n",
    "players = players.sort_values(by='P_M', ascending=False)\n",
    "top_players = players[[\"Name\", \"Team\", \"P_M\"]].head(n=10)\n",
    "top_players['M_P'] = players['M'] / players['P']\n",
    "print(top_players.head(n=10))"
   ]
  },
  {
   "cell_type": "code",
   "execution_count": 20,
   "metadata": {},
   "outputs": [
    {
     "name": "stdout",
     "output_type": "stream",
     "text": [
      "            Name        Team         P%\n",
      "63        ARTHUR  [JUVENTUS]  95.000000\n",
      "304    M.DEMIRAL  [JUVENTUS]  93.833333\n",
      "356    N.NKOULOU    [TORINO]  93.750000\n",
      "333   M.SKRINIAR     [INTER]  93.222222\n",
      "301    M.DE LIGT  [JUVENTUS]  93.166667\n",
      "253    K.MANOLAS    [NAPOLI]  93.083333\n",
      "418    S.DE VRIJ     [INTER]  92.818182\n",
      "380  R.BENTANCUR  [JUVENTUS]  92.545455\n",
      "102      D.DEMME    [NAPOLI]  92.285714\n",
      "456  V.CHIRICHES  [SASSUOLO]  92.000000\n"
     ]
    }
   ],
   "source": [
    "players = players.sort_values(by='P%', ascending=False)\n",
    "print(players[[\"Name\", \"Team\", \"P%\"]].head(n=10))"
   ]
  },
  {
   "cell_type": "code",
   "execution_count": 21,
   "metadata": {},
   "outputs": [
    {
     "name": "stdout",
     "output_type": "stream",
     "text": [
      "             Name             Team  KP\n",
      "382     R.DE PAUL        [UDINESE]  15\n",
      "196  H.CALHANOGLU          [MILAN]  13\n",
      "277  L.PELLEGRINI    [ROMA, GENOA]  11\n",
      "95      D.BERARDI       [SASSUOLO]  11\n",
      "409     R.SORIANO        [BOLOGNA]  10\n",
      "281  L.SPINAZZOLA           [ROMA]  10\n",
      "342    M.ZACCAGNI  [HELLAS VERONA]   9\n",
      "199  H.MKHITARYAN           [ROMA]   9\n",
      "221      J.ILICIC       [ATALANTA]   8\n",
      "79      C.BIRAGHI     [FIORENTINA]   8\n",
      "144     F.DIMARCO  [HELLAS VERONA]   8\n",
      "145    F.DJURICIC       [SASSUOLO]   7\n",
      "291      M.BARROW        [BOLOGNA]   7\n",
      "177     G.LETIZIA      [BENEVENTO]   7\n",
      "24        A.GOMEZ       [ATALANTA]   7\n"
     ]
    }
   ],
   "source": [
    "players = players.sort_values(by='KP', ascending=False)\n",
    "print(players[[\"Name\", \"Team\", \"KP\"]].head(n=15))"
   ]
  },
  {
   "cell_type": "code",
   "execution_count": 22,
   "metadata": {},
   "outputs": [
    {
     "name": "stdout",
     "output_type": "stream",
     "text": [
      "             Name        Team      KP_M        M_KP\n",
      "221      J.ILICIC  [ATALANTA]  0.019802   50.500000\n",
      "382     R.DE PAUL   [UDINESE]  0.013032   76.733333\n",
      "440       S.VERDI    [TORINO]  0.012195   82.000000\n",
      "196  H.CALHANOGLU     [MILAN]  0.011464   87.230769\n",
      "105      D.FARIAS    [SPEZIA]  0.011070   90.333333\n",
      "42      A.PETAGNA    [NAPOLI]  0.010870   92.000000\n",
      "46       A.RAMSEY  [JUVENTUS]  0.010870   92.000000\n",
      "24        A.GOMEZ  [ATALANTA]  0.010101   99.000000\n",
      "95      D.BERARDI  [SASSUOLO]  0.009582  104.363636\n",
      "281  L.SPINAZZOLA      [ROMA]  0.009191  108.800000\n"
     ]
    }
   ],
   "source": [
    "players['KP_M'] = players['KP'] / players['M']\n",
    "players = players.sort_values(by='KP_M', ascending=False)\n",
    "top_players = players[[\"Name\", \"Team\", \"KP_M\"]].head(n=10)\n",
    "top_players['M_KP'] = players['M'] / players['KP']\n",
    "print(top_players.head(n=10))"
   ]
  },
  {
   "cell_type": "code",
   "execution_count": 23,
   "metadata": {
    "scrolled": true
   },
   "outputs": [
    {
     "name": "stdout",
     "output_type": "stream",
     "text": [
      "              Name             Team  FS\n",
      "5        A.BELOTTI         [TORINO]  53\n",
      "342     M.ZACCAGNI  [HELLAS VERONA]  42\n",
      "382      R.DE PAUL        [UDINESE]  40\n",
      "155       F.RIBERY     [FIORENTINA]  33\n",
      "227      J.MESSIAS        [CROTONE]  32\n",
      "277   L.PELLEGRINI    [ROMA, GENOA]  32\n",
      "164  G.CASTROVILLI     [FIORENTINA]  32\n",
      "198       H.LOZANO         [NAPOLI]  31\n",
      "404      R.PALACIO        [BOLOGNA]  30\n",
      "238     JOAO PEDRO       [CAGLIARI]  29\n"
     ]
    }
   ],
   "source": [
    "players = players.sort_values(by='FS', ascending=False)\n",
    "print(players[[\"Name\", \"Team\", \"FS\"]].head(n=10))"
   ]
  },
  {
   "cell_type": "code",
   "execution_count": 24,
   "metadata": {
    "scrolled": true
   },
   "outputs": [
    {
     "name": "stdout",
     "output_type": "stream",
     "text": [
      "             Name             Team      FS_M       M_FS\n",
      "5       A.BELOTTI         [TORINO]  0.046450  21.528302\n",
      "342    M.ZACCAGNI  [HELLAS VERONA]  0.041339  24.190476\n",
      "221      J.ILICIC       [ATALANTA]  0.039604  25.250000\n",
      "155      F.RIBERY     [FIORENTINA]  0.039146  25.545455\n",
      "420  S.DI CARMINE  [HELLAS VERONA]  0.037406  26.733333\n",
      "198      H.LOZANO         [NAPOLI]  0.035429  28.225806\n",
      "382     R.DE PAUL        [UDINESE]  0.034752  28.775000\n",
      "469       W.SINGO         [TORINO]  0.034014  29.400000\n",
      "162     G.CAPRARI      [BENEVENTO]  0.033175  30.142857\n",
      "38       A.MORATA       [JUVENTUS]  0.032500  30.769231\n"
     ]
    }
   ],
   "source": [
    "players['FS_M'] = players['FS'] / players['M']\n",
    "players = players.sort_values(by='FS_M', ascending=False)\n",
    "top_players = players[[\"Name\", \"Team\", \"FS_M\"]].head(n=10)\n",
    "top_players['M_FS'] = players['M'] / players['FS']\n",
    "print(top_players.head(n=10))"
   ]
  },
  {
   "cell_type": "code",
   "execution_count": 25,
   "metadata": {},
   "outputs": [
    {
     "name": "stdout",
     "output_type": "stream",
     "text": [
      "             Name                         Team    R\n",
      "454    T.TOMIYASU                    [BOLOGNA]  131\n",
      "388      R.IBANEZ                       [ROMA]  129\n",
      "352  N.MILENKOVIC                 [FIORENTINA]  122\n",
      "187    G.PEZZELLA          [PARMA, FIORENTINA]  109\n",
      "134      F.ACERBI                      [LAZIO]  108\n",
      "141  F.CECCHERINI  [FIORENTINA, HELLAS VERONA]  105\n",
      "336     M.THORSBY                  [SAMPDORIA]  102\n",
      "282     L.TONELLI                  [SAMPDORIA]  101\n",
      "216      J.CHABOT                     [SPEZIA]  100\n",
      "76         BREMER                     [TORINO]   99\n"
     ]
    }
   ],
   "source": [
    "players = players.sort_values(by='R', ascending=False)\n",
    "print(players[[\"Name\", \"Team\", \"R\"]].head(n=10))"
   ]
  },
  {
   "cell_type": "code",
   "execution_count": 26,
   "metadata": {},
   "outputs": [
    {
     "name": "stdout",
     "output_type": "stream",
     "text": [
      "           Name             Team       R_M       M_R\n",
      "179   G.MAGNANI  [HELLAS VERONA]  0.162095  6.169231\n",
      "89     C.ROMERO       [ATALANTA]  0.128631  7.774194\n",
      "362    O.COLLEY      [SAMPDORIA]  0.127496  7.843373\n",
      "417   S.DE MAIO        [UDINESE]  0.122124  8.188406\n",
      "304   M.DEMIRAL       [JUVENTUS]  0.117647  8.500000\n",
      "216    J.CHABOT         [SPEZIA]  0.117509  8.510000\n",
      "70   B.DJIMSITI       [ATALANTA]  0.111372  8.978947\n",
      "388    R.IBANEZ           [ROMA]  0.109601  9.124031\n",
      "134    F.ACERBI          [LAZIO]  0.109422  9.138889\n",
      "467     W.HOEDT          [LAZIO]  0.109375  9.142857\n"
     ]
    }
   ],
   "source": [
    "players['R_M'] = players['R'] / players['M']\n",
    "players = players.sort_values(by='R_M', ascending=False)\n",
    "top_players = players[[\"Name\", \"Team\", \"R_M\"]].head(n=10)\n",
    "top_players['M_R'] = players['M'] / players['R']\n",
    "print(top_players.head(n=10))"
   ]
  },
  {
   "cell_type": "code",
   "execution_count": 27,
   "metadata": {},
   "outputs": [],
   "source": [
    "thisdir = os.getcwd()\n",
    "thisdir += \"/2020-2021/Player Data/Goalkeeper/\"\n",
    "csv_list = []\n",
    "\n",
    "for r, d, f in os.walk(thisdir):\n",
    "    for file in f:\n",
    "        if file.endswith(\".csv\"):\n",
    "            csv_list.append(os.path.join(r, file))\n",
    "\n",
    "csv_list = sorted(csv_list)\n",
    "\n",
    "players = []\n",
    "\n",
    "for csv_file in csv_list:\n",
    "#     print(csv_file)\n",
    "    if csv_file[-5:] == \"/.csv\":\n",
    "        continue\n",
    "    player_data = pd.read_csv(csv_file, encoding='latin-1')\n",
    "    player_data[\"M_played\"] = player_data.apply(lambda row:convert_to_minutes(row), axis=1)\n",
    "    player_data = player_data.astype({'GC':'int32', 'OG':'int32', 'S':'int32', 'STP':'int32', 'SF':'int32', 'FYC':'int32', 'SYC':'int32', 'RC':'int32'})\n",
    "\n",
    "    players.append([player_data[\"Name\"].unique()[0], player_data[\"Team\"].unique(), player_data[\"M_played\"].sum(), player_data[\"GC\"].sum(), player_data[\"OG\"].sum(), player_data[\"S\"].sum(), player_data[\"STP\"].sum(), player_data[\"SF\"].sum(), player_data[\"FYC\"].sum(), player_data[\"SYC\"].sum(), player_data[\"RC\"].sum(), player_data[\"M_played\"].size])\n",
    "\n",
    "players = pd.DataFrame(np.array(players), columns=['Name', 'Team' , 'M', 'GC', 'OG', 'S', 'STP', 'SF', 'FYC', 'SYC', 'RC', 'N'])\n",
    "players = players.astype({'M':'int32', 'GC':'int32', 'OG':'int32', 'S':'int32', 'STP':'int32', 'SF':'int32', 'FYC':'int32', 'SYC':'int32', 'RC':'int32', 'N':'int32'})\n",
    "players = players[players['M'] >= min_time]\n",
    "players = players[players['N'] >= min_games]"
   ]
  },
  {
   "cell_type": "code",
   "execution_count": 28,
   "metadata": {},
   "outputs": [
    {
     "name": "stdout",
     "output_type": "stream",
     "text": [
      "            Name             Team     M\n",
      "7    B.DRAGOWSKI     [FIORENTINA]  1254\n",
      "23   M.SILVESTRI  [HELLAS VERONA]  1249\n",
      "30  S.HANDANOVIC          [INTER]  1248\n",
      "19    L.MONTIPO'      [BENEVENTO]  1246\n",
      "1       A.CORDAZ        [CROTONE]  1246\n",
      "2       A.CRAGNO       [CAGLIARI]  1244\n",
      "10      E.AUDERO      [SAMPDORIA]  1242\n",
      "20        L.SEPE          [PARMA]  1241\n",
      "0     A.CONSIGLI       [SASSUOLO]  1166\n",
      "14  G.DONNARUMMA          [MILAN]  1161\n"
     ]
    }
   ],
   "source": [
    "players = players.sort_values(by='M', ascending=False)\n",
    "print(players[[\"Name\", \"Team\", \"M\"]].head(n=10))"
   ]
  },
  {
   "cell_type": "code",
   "execution_count": 29,
   "metadata": {},
   "outputs": [
    {
     "name": "stdout",
     "output_type": "stream",
     "text": [
      "            Name             Team        M_N\n",
      "31      S.SIRIGU         [TORINO]  97.454545\n",
      "0     A.CONSIGLI       [SASSUOLO]  97.166667\n",
      "14  G.DONNARUMMA          [MILAN]  96.750000\n",
      "34    W.SZCZESNY       [JUVENTUS]  96.500000\n",
      "7    B.DRAGOWSKI     [FIORENTINA]  96.461538\n",
      "21   L.SKORUPSKI        [BOLOGNA]  96.300000\n",
      "9       D.OSPINA         [NAPOLI]  96.142857\n",
      "28       P.REINA          [LAZIO]  96.125000\n",
      "23   M.SILVESTRI  [HELLAS VERONA]  96.076923\n",
      "30  S.HANDANOVIC          [INTER]  96.000000\n"
     ]
    }
   ],
   "source": [
    "players['M_N'] = players['M'] / players['N']\n",
    "players = players.sort_values(by='M_N', ascending=False)\n",
    "print(players[[\"Name\", \"Team\", \"M_N\"]].head(n=10))"
   ]
  },
  {
   "cell_type": "code",
   "execution_count": 30,
   "metadata": {},
   "outputs": [
    {
     "name": "stdout",
     "output_type": "stream",
     "text": [
      "           Name          Team  GC\n",
      "1      A.CORDAZ     [CROTONE]  28\n",
      "31     S.SIRIGU      [TORINO]  27\n",
      "2      A.CRAGNO    [CAGLIARI]  24\n",
      "19   L.MONTIPO'   [BENEVENTO]  23\n",
      "20       L.SEPE       [PARMA]  23\n",
      "7   B.DRAGOWSKI  [FIORENTINA]  21\n",
      "10     E.AUDERO   [SAMPDORIA]  21\n",
      "16   I.PROVEDEL      [SPEZIA]  20\n",
      "21  L.SKORUPSKI     [BOLOGNA]  17\n",
      "22      M.PERIN       [GENOA]  17\n"
     ]
    }
   ],
   "source": [
    "players = players.sort_values(by='GC', ascending=False)\n",
    "print(players[[\"Name\", \"Team\", \"GC\"]].head(n=10))"
   ]
  },
  {
   "cell_type": "code",
   "execution_count": 31,
   "metadata": {},
   "outputs": [
    {
     "name": "stdout",
     "output_type": "stream",
     "text": [
      "            Name         Team      GC_M       M_GC\n",
      "31      S.SIRIGU     [TORINO]  0.025187  39.703704\n",
      "1       A.CORDAZ    [CROTONE]  0.022472  44.500000\n",
      "24  M.SPORTIELLO   [ATALANTA]  0.021645  46.200000\n",
      "16    I.PROVEDEL     [SPEZIA]  0.020942  47.750000\n",
      "2       A.CRAGNO   [CAGLIARI]  0.019293  51.833333\n",
      "20        L.SEPE      [PARMA]  0.018533  53.956522\n",
      "19    L.MONTIPO'  [BENEVENTO]  0.018459  54.173913\n",
      "22       M.PERIN      [GENOA]  0.017838  56.058824\n",
      "21   L.SKORUPSKI    [BOLOGNA]  0.017653  56.647059\n",
      "10      E.AUDERO  [SAMPDORIA]  0.016908  59.142857\n"
     ]
    }
   ],
   "source": [
    "players['GC_M'] = players['GC'] / players['M']\n",
    "players = players.sort_values(by='GC_M', ascending=False)\n",
    "top_players = players[[\"Name\", \"Team\", \"GC_M\"]].head(n=10)\n",
    "top_players['M_GC'] = players['M'] / players['GC']\n",
    "print(top_players.head(n=10))"
   ]
  },
  {
   "cell_type": "code",
   "execution_count": 32,
   "metadata": {},
   "outputs": [
    {
     "name": "stdout",
     "output_type": "stream",
     "text": [
      "            Name             Team  GC\n",
      "9       D.OSPINA         [NAPOLI]   6\n",
      "34    W.SZCZESNY       [JUVENTUS]   8\n",
      "28       P.REINA          [LAZIO]   9\n",
      "17       J.MUSSO        [UDINESE]  10\n",
      "14  G.DONNARUMMA          [MILAN]  11\n",
      "23   M.SILVESTRI  [HELLAS VERONA]  12\n",
      "24  M.SPORTIELLO       [ATALANTA]  15\n",
      "5      A.MIRANTE           [ROMA]  15\n",
      "0     A.CONSIGLI       [SASSUOLO]  15\n",
      "30  S.HANDANOVIC          [INTER]  16\n"
     ]
    }
   ],
   "source": [
    "players = players.sort_values(by='GC')\n",
    "print(players[[\"Name\", \"Team\", \"GC\"]].head(n=10))"
   ]
  },
  {
   "cell_type": "code",
   "execution_count": 33,
   "metadata": {},
   "outputs": [
    {
     "name": "stdout",
     "output_type": "stream",
     "text": [
      "            Name             Team      GC_M        M_GC\n",
      "9       D.OSPINA         [NAPOLI]  0.008915  112.166667\n",
      "14  G.DONNARUMMA          [MILAN]  0.009475  105.545455\n",
      "23   M.SILVESTRI  [HELLAS VERONA]  0.009608  104.083333\n",
      "34    W.SZCZESNY       [JUVENTUS]  0.010363   96.500000\n",
      "17       J.MUSSO        [UDINESE]  0.010438   95.800000\n",
      "28       P.REINA          [LAZIO]  0.011704   85.444444\n",
      "30  S.HANDANOVIC          [INTER]  0.012821   78.000000\n",
      "0     A.CONSIGLI       [SASSUOLO]  0.012864   77.733333\n",
      "5      A.MIRANTE           [ROMA]  0.015839   63.133333\n",
      "7    B.DRAGOWSKI     [FIORENTINA]  0.016746   59.714286\n"
     ]
    }
   ],
   "source": [
    "players['GC_M'] = players['GC'] / players['M']\n",
    "players = players.sort_values(by='GC_M')\n",
    "top_players = players[[\"Name\", \"Team\", \"GC_M\"]].head(n=10)\n",
    "top_players['M_GC'] = players['M'] / players['GC']\n",
    "print(top_players.head(n=10))"
   ]
  },
  {
   "cell_type": "code",
   "execution_count": 34,
   "metadata": {},
   "outputs": [
    {
     "name": "stdout",
     "output_type": "stream",
     "text": [
      "           Name             Team   S\n",
      "2      A.CRAGNO       [CAGLIARI]  62\n",
      "20       L.SEPE          [PARMA]  50\n",
      "23  M.SILVESTRI  [HELLAS VERONA]  48\n",
      "0    A.CONSIGLI       [SASSUOLO]  46\n",
      "10     E.AUDERO      [SAMPDORIA]  43\n",
      "1      A.CORDAZ        [CROTONE]  43\n",
      "7   B.DRAGOWSKI     [FIORENTINA]  39\n",
      "22      M.PERIN          [GENOA]  37\n",
      "19   L.MONTIPO'      [BENEVENTO]  35\n",
      "28      P.REINA          [LAZIO]  33\n"
     ]
    }
   ],
   "source": [
    "players = players.sort_values(by='S', ascending=False)\n",
    "print(players[[\"Name\", \"Team\", \"S\"]].head(n=10))"
   ]
  },
  {
   "cell_type": "code",
   "execution_count": 35,
   "metadata": {},
   "outputs": [
    {
     "name": "stdout",
     "output_type": "stream",
     "text": [
      "           Name             Team       S_M        M_S\n",
      "2      A.CRAGNO       [CAGLIARI]  0.049839  20.064516\n",
      "28      P.REINA          [LAZIO]  0.042913  23.303030\n",
      "20       L.SEPE          [PARMA]  0.040290  24.820000\n",
      "0    A.CONSIGLI       [SASSUOLO]  0.039451  25.347826\n",
      "22      M.PERIN          [GENOA]  0.038825  25.756757\n",
      "23  M.SILVESTRI  [HELLAS VERONA]  0.038431  26.020833\n",
      "10     E.AUDERO      [SAMPDORIA]  0.034622  28.883721\n",
      "1      A.CORDAZ        [CROTONE]  0.034510  28.976744\n",
      "5     A.MIRANTE           [ROMA]  0.032735  30.548387\n",
      "21  L.SKORUPSKI        [BOLOGNA]  0.032191  31.064516\n"
     ]
    }
   ],
   "source": [
    "players['S_M'] = players['S'] / players['M']\n",
    "players = players.sort_values(by='S_M', ascending=False)\n",
    "top_players = players[[\"Name\", \"Team\", \"S_M\"]].head(n=10)\n",
    "top_players['M_S'] = players['M'] / players['S']\n",
    "print(top_players.head(n=10))"
   ]
  },
  {
   "cell_type": "code",
   "execution_count": 36,
   "metadata": {},
   "outputs": [
    {
     "name": "stdout",
     "output_type": "stream",
     "text": [
      "            Name             Team  Set_S\n",
      "0     A.CONSIGLI       [SASSUOLO]      9\n",
      "7    B.DRAGOWSKI     [FIORENTINA]      8\n",
      "20        L.SEPE          [PARMA]      8\n",
      "5      A.MIRANTE           [ROMA]      7\n",
      "28       P.REINA          [LAZIO]      6\n",
      "14  G.DONNARUMMA          [MILAN]      5\n",
      "2       A.CRAGNO       [CAGLIARI]      5\n",
      "23   M.SILVESTRI  [HELLAS VERONA]      5\n",
      "1       A.CORDAZ        [CROTONE]      4\n",
      "10      E.AUDERO      [SAMPDORIA]      4\n"
     ]
    }
   ],
   "source": [
    "players['Set_S'] = players['STP'] + players['SF']\n",
    "players = players.sort_values(by='Set_S', ascending=False)\n",
    "print(players[[\"Name\", \"Team\", \"Set_S\"]].head(n=10))"
   ]
  }
 ],
 "metadata": {
  "kernelspec": {
   "display_name": "Python 3",
   "language": "python",
   "name": "python3"
  },
  "language_info": {
   "codemirror_mode": {
    "name": "ipython",
    "version": 3
   },
   "file_extension": ".py",
   "mimetype": "text/x-python",
   "name": "python",
   "nbconvert_exporter": "python",
   "pygments_lexer": "ipython3",
   "version": "3.7.4"
  }
 },
 "nbformat": 4,
 "nbformat_minor": 2
}
