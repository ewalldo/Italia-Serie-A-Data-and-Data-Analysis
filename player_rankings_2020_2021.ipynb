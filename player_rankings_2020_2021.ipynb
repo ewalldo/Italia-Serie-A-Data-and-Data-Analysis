{
 "cells": [
  {
   "cell_type": "code",
   "execution_count": 1,
   "metadata": {},
   "outputs": [],
   "source": [
    "import os\n",
    "import csv\n",
    "import pandas as pd\n",
    "import numpy as np\n",
    "import math"
   ]
  },
  {
   "cell_type": "code",
   "execution_count": 2,
   "metadata": {},
   "outputs": [
    {
     "name": "stdout",
     "output_type": "stream",
     "text": [
      "180.0\n",
      "3\n"
     ]
    }
   ],
   "source": [
    "thisdir = os.getcwd()\n",
    "thisdir += \"/2020-2021/Player Data/Non-goalkeeper/\"\n",
    "csv_list = []\n",
    "\n",
    "n_games = 6 #total games played\n",
    "min_time = n_games / 3 * 90 #min time played to be eligible\n",
    "min_games = math.floor(n_games / 2) #min games played to be eligible\n",
    "print(min_time)\n",
    "print(min_games)"
   ]
  },
  {
   "cell_type": "code",
   "execution_count": 3,
   "metadata": {},
   "outputs": [],
   "source": [
    "for r, d, f in os.walk(thisdir):\n",
    "    for file in f:\n",
    "        if file.endswith(\".csv\"):\n",
    "            csv_list.append(os.path.join(r, file))\n",
    "\n",
    "csv_list = sorted(csv_list)"
   ]
  },
  {
   "cell_type": "code",
   "execution_count": 4,
   "metadata": {},
   "outputs": [],
   "source": [
    "def convert_to_minutes(row):\n",
    "    return int(row['M'][:-1])\n",
    "\n",
    "def convert_to_int(row, col):\n",
    "    return int(row[col])"
   ]
  },
  {
   "cell_type": "code",
   "execution_count": 8,
   "metadata": {},
   "outputs": [],
   "source": [
    "players = []\n",
    "\n",
    "for csv_file in csv_list:\n",
    "#     print(csv_file)\n",
    "    if csv_file[-5:] == \"/.csv\":\n",
    "        continue\n",
    "    player_data = pd.read_csv(csv_file, encoding='latin-1')\n",
    "    player_data[\"M_played\"] = player_data.apply(lambda row:convert_to_minutes(row), axis=1)\n",
    "    player_data = player_data.astype({'G':'int32', 'OG':'int32', 'A':'int32', 'AT':'int32', 'BS':'int32', 'SC':'int32', 'FS':'int32', 'BP':'int32', 'AS':'int32', 'KP':'int32', 'P':'int32', 'P%':'int32', 'R':'int32', 'FYC':'int32', 'SYC':'int32', 'RC':'int32'})\n",
    "\n",
    "    players.append([player_data[\"Name\"].unique()[0], player_data[\"Team\"].unique(), player_data[\"M_played\"].sum(), player_data[\"G\"].sum(), player_data[\"OG\"].sum(), player_data[\"A\"].sum(), player_data[\"AT\"].sum(), player_data[\"BS\"].sum(), player_data[\"SC\"].sum(), player_data[\"FS\"].sum(), player_data[\"BP\"].sum(), player_data[\"AS\"].sum(), player_data[\"KP\"].sum(), player_data[\"P\"].sum(), player_data[\"P%\"].sum()  / player_data[\"P%\"].size, player_data[\"R\"].sum(), player_data[\"FYC\"].sum(), player_data[\"SYC\"].sum(), player_data[\"RC\"].sum(), player_data[\"M_played\"].size])\n",
    "\n",
    "players = pd.DataFrame(np.array(players), columns=['Name', 'Team' , 'M', 'G', 'OG', 'A', 'AT', 'BS', 'SC', 'FS', 'BP', 'AS', 'KP', 'P', 'P%', 'R', 'FYC', 'SYC', 'RC', \"N\"])\n",
    "players = players.astype({'M':'int32', 'G':'int32', 'OG':'int32', 'A':'int32', 'AT':'int32', 'BS':'int32', 'SC':'int32', 'FS':'int32', 'BP':'int32', 'AS':'int32', 'KP':'int32', 'P':'int32', 'P%':'float', 'R':'int32', 'FYC':'int32', 'SYC':'int32', 'RC':'int32', 'N':'int32'})\n",
    "players = players[players['M'] >= min_time]\n",
    "players = players[players['N'] >= min_games]"
   ]
  },
  {
   "cell_type": "code",
   "execution_count": 9,
   "metadata": {},
   "outputs": [
    {
     "name": "stdout",
     "output_type": "stream",
     "text": [
      "             Name                 Team    M\n",
      "253  L.PELLEGRINI        [ROMA, GENOA]  610\n",
      "285   M.LOCATELLI           [SASSUOLO]  592\n",
      "167    G.PEZZELLA  [PARMA, FIORENTINA]  590\n",
      "155     G.FERRARI           [SASSUOLO]  585\n",
      "212    J.SCHOUTEN            [BOLOGNA]  581\n",
      "410    T.TOMIYASU            [BOLOGNA]  581\n",
      "267     M.CACERES         [FIORENTINA]  578\n",
      "319  N.MILENKOVIC         [FIORENTINA]  578\n",
      "224        K.GLIK          [BENEVENTO]  578\n",
      "406   T.HERNANDEZ              [MILAN]  577\n"
     ]
    }
   ],
   "source": [
    "players = players.sort_values(by='M', ascending=False)\n",
    "print(players[[\"Name\", \"Team\", \"M\"]].head(n=10))"
   ]
  },
  {
   "cell_type": "code",
   "execution_count": 10,
   "metadata": {},
   "outputs": [
    {
     "name": "stdout",
     "output_type": "stream",
     "text": [
      "             Name        Team        M_N\n",
      "285   M.LOCATELLI  [SASSUOLO]  98.666667\n",
      "126      F.CAPUTO  [SASSUOLO]  98.600000\n",
      "66         BREMER    [TORINO]  98.500000\n",
      "261        LYANCO    [TORINO]  98.000000\n",
      "155     G.FERRARI  [SASSUOLO]  97.500000\n",
      "84      D.BERARDI  [SASSUOLO]  97.200000\n",
      "212    J.SCHOUTEN   [BOLOGNA]  96.833333\n",
      "410    T.TOMIYASU   [BOLOGNA]  96.833333\n",
      "377     S.DE VRIJ     [INTER]  96.750000\n",
      "152  G.DI LORENZO    [NAPOLI]  96.400000\n"
     ]
    }
   ],
   "source": [
    "players['M_N'] = players['M'] / players['N']\n",
    "players = players.sort_values(by='M_N', ascending=False)\n",
    "print(players[[\"Name\", \"Team\", \"M_N\"]].head(n=10))"
   ]
  },
  {
   "cell_type": "code",
   "execution_count": 11,
   "metadata": {},
   "outputs": [
    {
     "name": "stdout",
     "output_type": "stream",
     "text": [
      "              Name          Team  G\n",
      "427  Z.IBRAHIMOVIC       [MILAN]  7\n",
      "4        A.BELOTTI      [TORINO]  6\n",
      "126       F.CAPUTO    [SASSUOLO]  5\n",
      "79       C.RONALDO    [JUVENTUS]  5\n",
      "171      G.SIMEONE    [CAGLIARI]  5\n",
      "356       R.LUKAKU       [INTER]  5\n",
      "216     J.VERETOUT        [ROMA]  4\n",
      "368      R.SORIANO     [BOLOGNA]  4\n",
      "147  G.CASTROVILLI  [FIORENTINA]  4\n",
      "18         A.GOMEZ    [ATALANTA]  4\n"
     ]
    }
   ],
   "source": [
    "players = players.sort_values(by='G', ascending=False)\n",
    "print(players[[\"Name\", \"Team\", \"G\"]].head(n=10))"
   ]
  },
  {
   "cell_type": "code",
   "execution_count": 12,
   "metadata": {},
   "outputs": [
    {
     "name": "stdout",
     "output_type": "stream",
     "text": [
      "              Name        Team       G_M         M_G\n",
      "79       C.RONALDO  [JUVENTUS]  0.022321   44.800000\n",
      "251       L.MURIEL  [ATALANTA]  0.018957   52.750000\n",
      "427  Z.IBRAHIMOVIC     [MILAN]  0.018277   54.714286\n",
      "17     A.GALABINOV    [SPEZIA]  0.013043   76.666667\n",
      "4        A.BELOTTI    [TORINO]  0.012848   77.833333\n",
      "356       R.LUKAKU     [INTER]  0.011086   90.200000\n",
      "178       H.LOZANO    [NAPOLI]  0.010782   92.750000\n",
      "126       F.CAPUTO  [SASSUOLO]  0.010142   98.600000\n",
      "171      G.SIMEONE  [CAGLIARI]  0.009980  100.200000\n",
      "124      F.CAICEDO     [LAZIO]  0.009756  102.500000\n"
     ]
    }
   ],
   "source": [
    "players['G_M'] = players['G'] / players['M']\n",
    "players = players.sort_values(by='G_M', ascending=False)\n",
    "top_players = players[[\"Name\", \"Team\", \"G_M\"]].head(n=10)\n",
    "top_players['M_G'] = players['M'] / players['G']\n",
    "print(top_players.head(n=10))"
   ]
  },
  {
   "cell_type": "code",
   "execution_count": 13,
   "metadata": {},
   "outputs": [
    {
     "name": "stdout",
     "output_type": "stream",
     "text": [
      "              Name        Team   A\n",
      "417      V.OSIMHEN    [NAPOLI]  20\n",
      "18         A.GOMEZ  [ATALANTA]  20\n",
      "126       F.CAPUTO  [SASSUOLO]  19\n",
      "179   H.MKHITARYAN      [ROMA]  18\n",
      "264       M.BARROW   [BOLOGNA]  17\n",
      "427  Z.IBRAHIMOVIC     [MILAN]  17\n",
      "4        A.BELOTTI    [TORINO]  17\n",
      "251       L.MURIEL  [ATALANTA]  16\n",
      "84       D.BERARDI  [SASSUOLO]  16\n",
      "249     L.MARTINEZ     [INTER]  16\n"
     ]
    }
   ],
   "source": [
    "players = players.sort_values(by='A', ascending=False)\n",
    "print(players[[\"Name\", \"Team\", \"A\"]].head(n=10))"
   ]
  },
  {
   "cell_type": "code",
   "execution_count": 14,
   "metadata": {},
   "outputs": [
    {
     "name": "stdout",
     "output_type": "stream",
     "text": [
      "              Name             Team       A_M        M_A\n",
      "251       L.MURIEL       [ATALANTA]  0.075829  13.187500\n",
      "79       C.RONALDO       [JUVENTUS]  0.066964  14.933333\n",
      "417      V.OSIMHEN         [NAPOLI]  0.048780  20.500000\n",
      "18         A.GOMEZ       [ATALANTA]  0.046296  21.600000\n",
      "295     M.POLITANO         [NAPOLI]  0.045872  21.800000\n",
      "427  Z.IBRAHIMOVIC          [MILAN]  0.044386  22.529412\n",
      "243      L.INSIGNE         [NAPOLI]  0.043269  23.111111\n",
      "100      D.MERTENS         [NAPOLI]  0.041322  24.200000\n",
      "16       A.FAVILLI  [HELLAS VERONA]  0.041096  24.333333\n",
      "105       D.ZAPATA       [ATALANTA]  0.039578  25.266667\n"
     ]
    }
   ],
   "source": [
    "players['A_M'] = players['A'] / players['M']\n",
    "players = players.sort_values(by='A_M', ascending=False)\n",
    "top_players = players[[\"Name\", \"Team\", \"A_M\"]].head(n=10)\n",
    "top_players['M_A'] = players['M'] / players['A']\n",
    "print(top_players.head(n=10))"
   ]
  },
  {
   "cell_type": "code",
   "execution_count": 15,
   "metadata": {},
   "outputs": [
    {
     "name": "stdout",
     "output_type": "stream",
     "text": [
      "              Name                    Team  AS\n",
      "179   H.MKHITARYAN                  [ROMA]   4\n",
      "128       F.CHIESA  [FIORENTINA, JUVENTUS]   3\n",
      "314      N.BARELLA                 [INTER]   3\n",
      "355         R.LEAO                 [MILAN]   3\n",
      "100      D.MERTENS                [NAPOLI]   3\n",
      "69       C.BIRAGHI            [FIORENTINA]   3\n",
      "368      R.SORIANO               [BOLOGNA]   3\n",
      "155      G.FERRARI              [SASSUOLO]   2\n",
      "84       D.BERARDI              [SASSUOLO]   2\n",
      "357  R.MALINOVSKYI              [ATALANTA]   2\n"
     ]
    }
   ],
   "source": [
    "players = players.sort_values(by='AS', ascending=False)\n",
    "print(players[[\"Name\", \"Team\", \"AS\"]].head(n=10))"
   ]
  },
  {
   "cell_type": "code",
   "execution_count": 16,
   "metadata": {},
   "outputs": [
    {
     "name": "stdout",
     "output_type": "stream",
     "text": [
      "              Name                    Team      AS_M        M_AS\n",
      "355         R.LEAO                 [MILAN]  0.009836  101.666667\n",
      "295     M.POLITANO                [NAPOLI]  0.009174  109.000000\n",
      "100      D.MERTENS                [NAPOLI]  0.008264  121.000000\n",
      "123    F.BONAZZOLI     [SAMPDORIA, TORINO]  0.007905  126.500000\n",
      "128       F.CHIESA  [FIORENTINA, JUVENTUS]  0.007353  136.000000\n",
      "179   H.MKHITARYAN                  [ROMA]  0.007286  137.250000\n",
      "314      N.BARELLA                 [INTER]  0.007009  142.666667\n",
      "357  R.MALINOVSKYI              [ATALANTA]  0.006536  153.000000\n",
      "27       A.MARUSIC                 [LAZIO]  0.006390  156.500000\n",
      "306      M.VOJVODA                [TORINO]  0.006270  159.500000\n"
     ]
    }
   ],
   "source": [
    "players['AS_M'] = players['AS'] / players['M']\n",
    "players = players.sort_values(by='AS_M', ascending=False)\n",
    "top_players = players[[\"Name\", \"Team\", \"AS_M\"]].head(n=10)\n",
    "top_players['M_AS'] = players['M'] / players['AS']\n",
    "print(top_players.head(n=10))"
   ]
  },
  {
   "cell_type": "code",
   "execution_count": 17,
   "metadata": {},
   "outputs": [
    {
     "name": "stdout",
     "output_type": "stream",
     "text": [
      "             Name           Team   BP\n",
      "285   M.LOCATELLI     [SASSUOLO]  632\n",
      "155     G.FERRARI     [SASSUOLO]  560\n",
      "343     R.DE PAUL      [UDINESE]  518\n",
      "412   V.CHIRICHES     [SASSUOLO]  510\n",
      "107        DANILO     [JUVENTUS]  482\n",
      "120      F.ACERBI        [LAZIO]  478\n",
      "253  L.PELLEGRINI  [ROMA, GENOA]  467\n",
      "226   K.KOULIBALY       [NAPOLI]  451\n",
      "166      G.PATRIC        [LAZIO]  445\n",
      "86     D.CALABRIA        [MILAN]  443\n"
     ]
    }
   ],
   "source": [
    "players = players.sort_values(by='BP', ascending=False)\n",
    "print(players[[\"Name\", \"Team\", \"BP\"]].head(n=10))"
   ]
  },
  {
   "cell_type": "code",
   "execution_count": 18,
   "metadata": {},
   "outputs": [
    {
     "name": "stdout",
     "output_type": "stream",
     "text": [
      "             Name        Team      BP_M      M_BP\n",
      "266    M.BROZOVIC     [INTER]  1.126543  0.887671\n",
      "285   M.LOCATELLI  [SASSUOLO]  1.067568  0.936709\n",
      "3       A.BASTONI     [INTER]  1.052448  0.950166\n",
      "412   V.CHIRICHES  [SASSUOLO]  1.013917  0.986275\n",
      "107        DANILO  [JUVENTUS]  1.008368  0.991701\n",
      "26      A.KOLAROV     [INTER]  0.974874  1.025773\n",
      "54         ARTHUR  [JUVENTUS]  0.969900  1.031034\n",
      "142   FABIAN RUIZ    [NAPOLI]  0.964206  1.037123\n",
      "155     G.FERRARI  [SASSUOLO]  0.957265  1.044643\n",
      "259  LUIS ALBERTO     [LAZIO]  0.949640  1.053030\n"
     ]
    }
   ],
   "source": [
    "players['BP_M'] = players['BP'] / players['M']\n",
    "players = players.sort_values(by='BP_M', ascending=False)\n",
    "top_players = players[[\"Name\", \"Team\", \"BP_M\"]].head(n=10)\n",
    "top_players['M_BP'] = players['M'] / players['BP']\n",
    "print(top_players.head(n=10))"
   ]
  },
  {
   "cell_type": "code",
   "execution_count": 19,
   "metadata": {},
   "outputs": [
    {
     "name": "stdout",
     "output_type": "stream",
     "text": [
      "            Name        Team    P\n",
      "155    G.FERRARI  [SASSUOLO]  466\n",
      "285  M.LOCATELLI  [SASSUOLO]  460\n",
      "412  V.CHIRICHES  [SASSUOLO]  423\n",
      "226  K.KOULIBALY    [NAPOLI]  356\n",
      "107       DANILO  [JUVENTUS]  348\n",
      "142  FABIAN RUIZ    [NAPOLI]  335\n",
      "166     G.PATRIC     [LAZIO]  331\n",
      "120     F.ACERBI     [LAZIO]  327\n",
      "292    M.PASALIC  [ATALANTA]  300\n",
      "234    L.BONUCCI  [JUVENTUS]  299\n"
     ]
    }
   ],
   "source": [
    "players = players.sort_values(by='P', ascending=False)\n",
    "print(players[[\"Name\", \"Team\", \"P\"]].head(n=10))"
   ]
  },
  {
   "cell_type": "code",
   "execution_count": 20,
   "metadata": {},
   "outputs": [
    {
     "name": "stdout",
     "output_type": "stream",
     "text": [
      "            Name        Team       P_M       M_P\n",
      "3      A.BASTONI     [INTER]  0.863636  1.157895\n",
      "412  V.CHIRICHES  [SASSUOLO]  0.840954  1.189125\n",
      "266   M.BROZOVIC     [INTER]  0.839506  1.191176\n",
      "54        ARTHUR  [JUVENTUS]  0.819398  1.220408\n",
      "155    G.FERRARI  [SASSUOLO]  0.796581  1.255365\n",
      "285  M.LOCATELLI  [SASSUOLO]  0.777027  1.286957\n",
      "142  FABIAN RUIZ    [NAPOLI]  0.749441  1.334328\n",
      "226  K.KOULIBALY    [NAPOLI]  0.738589  1.353933\n",
      "107       DANILO  [JUVENTUS]  0.728033  1.373563\n",
      "26     A.KOLAROV     [INTER]  0.726131  1.377163\n"
     ]
    }
   ],
   "source": [
    "players['P_M'] = players['P'] / players['M']\n",
    "players = players.sort_values(by='P_M', ascending=False)\n",
    "top_players = players[[\"Name\", \"Team\", \"P_M\"]].head(n=10)\n",
    "top_players['M_P'] = players['M'] / players['P']\n",
    "print(top_players.head(n=10))"
   ]
  },
  {
   "cell_type": "code",
   "execution_count": 21,
   "metadata": {},
   "outputs": [
    {
     "name": "stdout",
     "output_type": "stream",
     "text": [
      "             Name        Team         P%\n",
      "323     N.NKOULOU    [TORINO]  95.600000\n",
      "280      M.GABBIA     [MILAN]  94.666667\n",
      "54         ARTHUR  [JUVENTUS]  94.500000\n",
      "342   R.BENTANCUR  [JUVENTUS]  94.500000\n",
      "412   V.CHIRICHES  [SASSUOLO]  93.666667\n",
      "230     K.MANOLAS    [NAPOLI]  93.200000\n",
      "155     G.FERRARI  [SASSUOLO]  93.166667\n",
      "344     R.FREULER  [ATALANTA]  93.000000\n",
      "215      J.TOLJAN  [SASSUOLO]  93.000000\n",
      "89   D.D'AMBROSIO     [INTER]  92.750000\n"
     ]
    }
   ],
   "source": [
    "players = players.sort_values(by='P%', ascending=False)\n",
    "print(players[[\"Name\", \"Team\", \"P%\"]].head(n=10))"
   ]
  },
  {
   "cell_type": "code",
   "execution_count": 23,
   "metadata": {},
   "outputs": [
    {
     "name": "stdout",
     "output_type": "stream",
     "text": [
      "              Name           Team  KP\n",
      "343      R.DE PAUL      [UDINESE]  10\n",
      "176   H.CALHANOGLU        [MILAN]   9\n",
      "131     F.DJURICIC     [SASSUOLO]   7\n",
      "84       D.BERARDI     [SASSUOLO]   6\n",
      "264       M.BARROW      [BOLOGNA]   5\n",
      "200       J.ILICIC     [ATALANTA]   5\n",
      "187      I.PERISIC        [INTER]   5\n",
      "18         A.GOMEZ     [ATALANTA]   5\n",
      "396        S.VERDI       [TORINO]   5\n",
      "255   L.SPINAZZOLA         [ROMA]   5\n",
      "322       N.NANDEZ     [CAGLIARI]   5\n",
      "368      R.SORIANO      [BOLOGNA]   4\n",
      "253   L.PELLEGRINI  [ROMA, GENOA]   4\n",
      "249     L.MARTINEZ        [INTER]   4\n",
      "357  R.MALINOVSKYI     [ATALANTA]   4\n"
     ]
    }
   ],
   "source": [
    "players = players.sort_values(by='KP', ascending=False)\n",
    "print(players[[\"Name\", \"Team\", \"KP\"]].head(n=15))"
   ]
  },
  {
   "cell_type": "code",
   "execution_count": 24,
   "metadata": {},
   "outputs": [
    {
     "name": "stdout",
     "output_type": "stream",
     "text": [
      "              Name        Team      KP_M       M_KP\n",
      "200       J.ILICIC  [ATALANTA]  0.023923  41.800000\n",
      "396        S.VERDI    [TORINO]  0.022624  44.200000\n",
      "176   H.CALHANOGLU     [MILAN]  0.018443  54.222222\n",
      "343      R.DE PAUL   [UDINESE]  0.017391  57.500000\n",
      "131     F.DJURICIC  [SASSUOLO]  0.014925  67.000000\n",
      "38        A.RAMSEY  [JUVENTUS]  0.013986  71.500000\n",
      "289        M.NZOLA    [SPEZIA]  0.013825  72.333333\n",
      "295     M.POLITANO    [NAPOLI]  0.013761  72.666667\n",
      "357  R.MALINOVSKYI  [ATALANTA]  0.013072  76.500000\n",
      "84       D.BERARDI  [SASSUOLO]  0.012346  81.000000\n"
     ]
    }
   ],
   "source": [
    "players['KP_M'] = players['KP'] / players['M']\n",
    "players = players.sort_values(by='KP_M', ascending=False)\n",
    "top_players = players[[\"Name\", \"Team\", \"KP_M\"]].head(n=10)\n",
    "top_players['M_KP'] = players['M'] / players['KP']\n",
    "print(top_players.head(n=10))"
   ]
  },
  {
   "cell_type": "code",
   "execution_count": 25,
   "metadata": {
    "scrolled": true
   },
   "outputs": [
    {
     "name": "stdout",
     "output_type": "stream",
     "text": [
      "                Name             Team  FS\n",
      "343        R.DE PAUL        [UDINESE]  22\n",
      "206        J.MESSIAS        [CROTONE]  21\n",
      "4          A.BELOTTI         [TORINO]  21\n",
      "309       M.ZACCAGNI  [HELLAS VERONA]  20\n",
      "340            PEDRO           [ROMA]  16\n",
      "406      T.HERNANDEZ          [MILAN]  16\n",
      "146        G.CAPRARI      [BENEVENTO]  15\n",
      "203          J.KUCKA          [PARMA]  15\n",
      "139         F.RIBERY     [FIORENTINA]  14\n",
      "338  P.SCHIATTARELLA      [BENEVENTO]  14\n"
     ]
    }
   ],
   "source": [
    "players = players.sort_values(by='FS', ascending=False)\n",
    "print(players[[\"Name\", \"Team\", \"FS\"]].head(n=10))"
   ]
  },
  {
   "cell_type": "code",
   "execution_count": 26,
   "metadata": {
    "scrolled": true
   },
   "outputs": [
    {
     "name": "stdout",
     "output_type": "stream",
     "text": [
      "            Name             Team      FS_M       M_FS\n",
      "309   M.ZACCAGNI  [HELLAS VERONA]  0.050761  19.700000\n",
      "4      A.BELOTTI         [TORINO]  0.044968  22.238095\n",
      "139     F.RIBERY     [FIORENTINA]  0.041543  24.071429\n",
      "343    R.DE PAUL        [UDINESE]  0.038261  26.136364\n",
      "165     G.PANDEV          [GENOA]  0.037534  26.642857\n",
      "9    A.CORNELIUS          [PARMA]  0.037313  26.800000\n",
      "206    J.MESSIAS        [CROTONE]  0.036458  27.428571\n",
      "60        B.DIAZ          [MILAN]  0.036364  27.500000\n",
      "404   T.BAKAYOKO         [NAPOLI]  0.036000  27.777778\n",
      "200     J.ILICIC       [ATALANTA]  0.033493  29.857143\n"
     ]
    }
   ],
   "source": [
    "players['FS_M'] = players['FS'] / players['M']\n",
    "players = players.sort_values(by='FS_M', ascending=False)\n",
    "top_players = players[[\"Name\", \"Team\", \"FS_M\"]].head(n=10)\n",
    "top_players['M_FS'] = players['M'] / players['FS']\n",
    "print(top_players.head(n=10))"
   ]
  },
  {
   "cell_type": "code",
   "execution_count": 27,
   "metadata": {},
   "outputs": [
    {
     "name": "stdout",
     "output_type": "stream",
     "text": [
      "              Name                         Team   R\n",
      "376      S.DE MAIO                    [UDINESE]  68\n",
      "348       R.IBANEZ                       [ROMA]  66\n",
      "120       F.ACERBI                      [LAZIO]  64\n",
      "319   N.MILENKOVIC                 [FIORENTINA]  61\n",
      "256      L.TONELLI                  [SAMPDORIA]  57\n",
      "127   F.CECCHERINI  [FIORENTINA, HELLAS VERONA]  55\n",
      "74   C.LYKOGIANNIS                   [CAGLIARI]  53\n",
      "61      B.DJIMSITI                   [ATALANTA]  53\n",
      "246     L.MAGALLAN                    [CROTONE]  52\n",
      "303      M.THORSBY                  [SAMPDORIA]  52\n"
     ]
    }
   ],
   "source": [
    "players = players.sort_values(by='R', ascending=False)\n",
    "print(players[[\"Name\", \"Team\", \"R\"]].head(n=10))"
   ]
  },
  {
   "cell_type": "code",
   "execution_count": 28,
   "metadata": {},
   "outputs": [
    {
     "name": "stdout",
     "output_type": "stream",
     "text": [
      "           Name             Team       R_M       M_R\n",
      "225    K.GUNTER  [HELLAS VERONA]  0.152091  6.575000\n",
      "61   B.DJIMSITI       [ATALANTA]  0.139474  7.169811\n",
      "82     C.ZAPATA          [GENOA]  0.125000  8.000000\n",
      "78     C.ROMERO       [ATALANTA]  0.121795  8.210526\n",
      "376   S.DE MAIO        [UDINESE]  0.121429  8.235294\n",
      "348    R.IBANEZ           [ROMA]  0.118280  8.454545\n",
      "422     W.HOEDT          [LAZIO]  0.113281  8.827586\n",
      "275   M.DEMIRAL       [JUVENTUS]  0.112957  8.852941\n",
      "66       BREMER         [TORINO]  0.111675  8.954545\n",
      "120    F.ACERBI          [LAZIO]  0.111111  9.000000\n"
     ]
    }
   ],
   "source": [
    "players['R_M'] = players['R'] / players['M']\n",
    "players = players.sort_values(by='R_M', ascending=False)\n",
    "top_players = players[[\"Name\", \"Team\", \"R_M\"]].head(n=10)\n",
    "top_players['M_R'] = players['M'] / players['R']\n",
    "print(top_players.head(n=10))"
   ]
  },
  {
   "cell_type": "code",
   "execution_count": 29,
   "metadata": {},
   "outputs": [],
   "source": [
    "thisdir = os.getcwd()\n",
    "thisdir += \"/2020-2021/Player Data/Goalkeeper/\"\n",
    "csv_list = []\n",
    "\n",
    "for r, d, f in os.walk(thisdir):\n",
    "    for file in f:\n",
    "        if file.endswith(\".csv\"):\n",
    "            csv_list.append(os.path.join(r, file))\n",
    "\n",
    "csv_list = sorted(csv_list)\n",
    "\n",
    "players = []\n",
    "\n",
    "for csv_file in csv_list:\n",
    "#     print(csv_file)\n",
    "    if csv_file[-5:] == \"/.csv\":\n",
    "        continue\n",
    "    player_data = pd.read_csv(csv_file, encoding='latin-1')\n",
    "    player_data[\"M_played\"] = player_data.apply(lambda row:convert_to_minutes(row), axis=1)\n",
    "    player_data = player_data.astype({'GC':'int32', 'OG':'int32', 'S':'int32', 'STP':'int32', 'SF':'int32', 'FYC':'int32', 'SYC':'int32', 'RC':'int32'})\n",
    "\n",
    "    players.append([player_data[\"Name\"].unique()[0], player_data[\"Team\"].unique(), player_data[\"M_played\"].sum(), player_data[\"GC\"].sum(), player_data[\"OG\"].sum(), player_data[\"S\"].sum(), player_data[\"STP\"].sum(), player_data[\"SF\"].sum(), player_data[\"FYC\"].sum(), player_data[\"SYC\"].sum(), player_data[\"RC\"].sum(), player_data[\"M_played\"].size])\n",
    "\n",
    "players = pd.DataFrame(np.array(players), columns=['Name', 'Team' , 'M', 'GC', 'OG', 'S', 'STP', 'SF', 'FYC', 'SYC', 'RC', 'N'])\n",
    "players = players.astype({'M':'int32', 'GC':'int32', 'OG':'int32', 'S':'int32', 'STP':'int32', 'SF':'int32', 'FYC':'int32', 'SYC':'int32', 'RC':'int32', 'N':'int32'})\n",
    "players = players[players['M'] >= min_time]\n",
    "players = players[players['N'] >= min_games]"
   ]
  },
  {
   "cell_type": "code",
   "execution_count": 30,
   "metadata": {},
   "outputs": [
    {
     "name": "stdout",
     "output_type": "stream",
     "text": [
      "            Name             Team    M\n",
      "0     A.CONSIGLI       [SASSUOLO]  592\n",
      "17   L.SKORUPSKI        [BOLOGNA]  581\n",
      "5    B.DRAGOWSKI     [FIORENTINA]  578\n",
      "15    L.MONTIPO'      [BENEVENTO]  578\n",
      "1       A.CORDAZ        [CROTONE]  576\n",
      "19   M.SILVESTRI  [HELLAS VERONA]  576\n",
      "24  S.HANDANOVIC          [INTER]  576\n",
      "16        L.SEPE          [PARMA]  575\n",
      "2       A.CRAGNO       [CAGLIARI]  574\n",
      "4      A.MIRANTE           [ROMA]  573\n"
     ]
    }
   ],
   "source": [
    "players = players.sort_values(by='M', ascending=False)\n",
    "print(players[[\"Name\", \"Team\", \"M\"]].head(n=10))"
   ]
  },
  {
   "cell_type": "code",
   "execution_count": 31,
   "metadata": {},
   "outputs": [
    {
     "name": "stdout",
     "output_type": "stream",
     "text": [
      "            Name             Team        M_N\n",
      "0     A.CONSIGLI       [SASSUOLO]  98.666667\n",
      "25      S.SIRIGU         [TORINO]  98.000000\n",
      "7       D.OSPINA         [NAPOLI]  97.000000\n",
      "17   L.SKORUPSKI        [BOLOGNA]  96.833333\n",
      "5    B.DRAGOWSKI     [FIORENTINA]  96.333333\n",
      "15    L.MONTIPO'      [BENEVENTO]  96.333333\n",
      "11  G.DONNARUMMA          [MILAN]  96.200000\n",
      "1       A.CORDAZ        [CROTONE]  96.000000\n",
      "19   M.SILVESTRI  [HELLAS VERONA]  96.000000\n",
      "24  S.HANDANOVIC          [INTER]  96.000000\n"
     ]
    }
   ],
   "source": [
    "players['M_N'] = players['M'] / players['N']\n",
    "players = players.sort_values(by='M_N', ascending=False)\n",
    "print(players[[\"Name\", \"Team\", \"M_N\"]].head(n=10))"
   ]
  },
  {
   "cell_type": "code",
   "execution_count": 32,
   "metadata": {},
   "outputs": [
    {
     "name": "stdout",
     "output_type": "stream",
     "text": [
      "            Name          Team  GC\n",
      "15    L.MONTIPO'   [BENEVENTO]  17\n",
      "1       A.CORDAZ     [CROTONE]  17\n",
      "25      S.SIRIGU      [TORINO]  15\n",
      "2       A.CRAGNO    [CAGLIARI]  15\n",
      "16        L.SEPE       [PARMA]  13\n",
      "20  M.SPORTIELLO    [ATALANTA]  13\n",
      "17   L.SKORUPSKI     [BOLOGNA]  12\n",
      "5    B.DRAGOWSKI  [FIORENTINA]  12\n",
      "24  S.HANDANOVIC       [INTER]  10\n",
      "8       E.AUDERO   [SAMPDORIA]   9\n"
     ]
    }
   ],
   "source": [
    "players = players.sort_values(by='GC', ascending=False)\n",
    "print(players[[\"Name\", \"Team\", \"GC\"]].head(n=10))"
   ]
  },
  {
   "cell_type": "code",
   "execution_count": 33,
   "metadata": {},
   "outputs": [
    {
     "name": "stdout",
     "output_type": "stream",
     "text": [
      "            Name          Team      GC_M       M_GC\n",
      "25      S.SIRIGU      [TORINO]  0.030612  32.666667\n",
      "1       A.CORDAZ     [CROTONE]  0.029514  33.882353\n",
      "15    L.MONTIPO'   [BENEVENTO]  0.029412  34.000000\n",
      "12    I.PROVEDEL      [SPEZIA]  0.028070  35.625000\n",
      "2       A.CRAGNO    [CAGLIARI]  0.026132  38.266667\n",
      "20  M.SPORTIELLO    [ATALANTA]  0.022767  43.923077\n",
      "16        L.SEPE       [PARMA]  0.022609  44.230769\n",
      "26   T.STRAKOSHA       [LAZIO]  0.021108  47.375000\n",
      "5    B.DRAGOWSKI  [FIORENTINA]  0.020761  48.166667\n",
      "17   L.SKORUPSKI     [BOLOGNA]  0.020654  48.416667\n"
     ]
    }
   ],
   "source": [
    "players['GC_M'] = players['GC'] / players['M']\n",
    "players = players.sort_values(by='GC_M', ascending=False)\n",
    "top_players = players[[\"Name\", \"Team\", \"GC_M\"]].head(n=10)\n",
    "top_players['M_GC'] = players['M'] / players['GC']\n",
    "print(top_players.head(n=10))"
   ]
  },
  {
   "cell_type": "code",
   "execution_count": 34,
   "metadata": {},
   "outputs": [
    {
     "name": "stdout",
     "output_type": "stream",
     "text": [
      "            Name             Team  GC\n",
      "11  G.DONNARUMMA          [MILAN]   2\n",
      "7       D.OSPINA         [NAPOLI]   3\n",
      "27    W.SZCZESNY       [JUVENTUS]   3\n",
      "19   M.SILVESTRI  [HELLAS VERONA]   3\n",
      "18       M.PERIN          [GENOA]   4\n",
      "13       J.MUSSO        [UDINESE]   6\n",
      "4      A.MIRANTE           [ROMA]   7\n",
      "12    I.PROVEDEL         [SPEZIA]   8\n",
      "26   T.STRAKOSHA          [LAZIO]   8\n",
      "0     A.CONSIGLI       [SASSUOLO]   9\n"
     ]
    }
   ],
   "source": [
    "players = players.sort_values(by='GC')\n",
    "print(players[[\"Name\", \"Team\", \"GC\"]].head(n=10))"
   ]
  },
  {
   "cell_type": "code",
   "execution_count": 35,
   "metadata": {},
   "outputs": [
    {
     "name": "stdout",
     "output_type": "stream",
     "text": [
      "            Name             Team      GC_M        M_GC\n",
      "11  G.DONNARUMMA          [MILAN]  0.004158  240.500000\n",
      "19   M.SILVESTRI  [HELLAS VERONA]  0.005208  192.000000\n",
      "7       D.OSPINA         [NAPOLI]  0.010309   97.000000\n",
      "27    W.SZCZESNY       [JUVENTUS]  0.010490   95.333333\n",
      "18       M.PERIN          [GENOA]  0.010638   94.000000\n",
      "4      A.MIRANTE           [ROMA]  0.012216   81.857143\n",
      "0     A.CONSIGLI       [SASSUOLO]  0.015203   65.777778\n",
      "13       J.MUSSO        [UDINESE]  0.015707   63.666667\n",
      "8       E.AUDERO      [SAMPDORIA]  0.015929   62.777778\n",
      "24  S.HANDANOVIC          [INTER]  0.017361   57.600000\n"
     ]
    }
   ],
   "source": [
    "players['GC_M'] = players['GC'] / players['M']\n",
    "players = players.sort_values(by='GC_M')\n",
    "top_players = players[[\"Name\", \"Team\", \"GC_M\"]].head(n=10)\n",
    "top_players['M_GC'] = players['M'] / players['GC']\n",
    "print(top_players.head(n=10))"
   ]
  },
  {
   "cell_type": "code",
   "execution_count": 36,
   "metadata": {},
   "outputs": [
    {
     "name": "stdout",
     "output_type": "stream",
     "text": [
      "            Name             Team   S\n",
      "2       A.CRAGNO       [CAGLIARI]  35\n",
      "0     A.CONSIGLI       [SASSUOLO]  30\n",
      "19   M.SILVESTRI  [HELLAS VERONA]  25\n",
      "16        L.SEPE          [PARMA]  23\n",
      "5    B.DRAGOWSKI     [FIORENTINA]  21\n",
      "15    L.MONTIPO'      [BENEVENTO]  21\n",
      "17   L.SKORUPSKI        [BOLOGNA]  20\n",
      "4      A.MIRANTE           [ROMA]  20\n",
      "18       M.PERIN          [GENOA]  19\n",
      "20  M.SPORTIELLO       [ATALANTA]  19\n"
     ]
    }
   ],
   "source": [
    "players = players.sort_values(by='S', ascending=False)\n",
    "print(players[[\"Name\", \"Team\", \"S\"]].head(n=10))"
   ]
  },
  {
   "cell_type": "code",
   "execution_count": 37,
   "metadata": {},
   "outputs": [
    {
     "name": "stdout",
     "output_type": "stream",
     "text": [
      "           Name             Team       S_M        M_S\n",
      "2      A.CRAGNO       [CAGLIARI]  0.060976  16.400000\n",
      "0    A.CONSIGLI       [SASSUOLO]  0.050676  19.733333\n",
      "18      M.PERIN          [GENOA]  0.050532  19.789474\n",
      "19  M.SILVESTRI  [HELLAS VERONA]  0.043403  23.040000\n",
      "16       L.SEPE          [PARMA]  0.040000  25.000000\n",
      "25     S.SIRIGU         [TORINO]  0.036735  27.222222\n",
      "5   B.DRAGOWSKI     [FIORENTINA]  0.036332  27.523810\n",
      "15   L.MONTIPO'      [BENEVENTO]  0.036332  27.523810\n",
      "4     A.MIRANTE           [ROMA]  0.034904  28.650000\n",
      "17  L.SKORUPSKI        [BOLOGNA]  0.034423  29.050000\n"
     ]
    }
   ],
   "source": [
    "players['S_M'] = players['S'] / players['M']\n",
    "players = players.sort_values(by='S_M', ascending=False)\n",
    "top_players = players[[\"Name\", \"Team\", \"S_M\"]].head(n=10)\n",
    "top_players['M_S'] = players['M'] / players['S']\n",
    "print(top_players.head(n=10))"
   ]
  },
  {
   "cell_type": "code",
   "execution_count": 38,
   "metadata": {},
   "outputs": [
    {
     "name": "stdout",
     "output_type": "stream",
     "text": [
      "            Name          Team  Set_S\n",
      "4      A.MIRANTE        [ROMA]      6\n",
      "0     A.CONSIGLI    [SASSUOLO]      6\n",
      "16        L.SEPE       [PARMA]      4\n",
      "5    B.DRAGOWSKI  [FIORENTINA]      4\n",
      "2       A.CRAGNO    [CAGLIARI]      3\n",
      "20  M.SPORTIELLO    [ATALANTA]      3\n",
      "18       M.PERIN       [GENOA]      2\n",
      "24  S.HANDANOVIC       [INTER]      2\n",
      "15    L.MONTIPO'   [BENEVENTO]      2\n",
      "8       E.AUDERO   [SAMPDORIA]      2\n"
     ]
    }
   ],
   "source": [
    "players['Set_S'] = players['STP'] + players['SF']\n",
    "players = players.sort_values(by='Set_S', ascending=False)\n",
    "print(players[[\"Name\", \"Team\", \"Set_S\"]].head(n=10))"
   ]
  }
 ],
 "metadata": {
  "kernelspec": {
   "display_name": "Python 3",
   "language": "python",
   "name": "python3"
  },
  "language_info": {
   "codemirror_mode": {
    "name": "ipython",
    "version": 3
   },
   "file_extension": ".py",
   "mimetype": "text/x-python",
   "name": "python",
   "nbconvert_exporter": "python",
   "pygments_lexer": "ipython3",
   "version": "3.7.4"
  }
 },
 "nbformat": 4,
 "nbformat_minor": 2
}
