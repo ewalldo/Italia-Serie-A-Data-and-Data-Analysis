{
 "cells": [
  {
   "cell_type": "code",
   "execution_count": 1,
   "metadata": {},
   "outputs": [],
   "source": [
    "import os\n",
    "import csv\n",
    "import pandas as pd\n",
    "import numpy as np\n",
    "import math"
   ]
  },
  {
   "cell_type": "code",
   "execution_count": 39,
   "metadata": {},
   "outputs": [
    {
     "name": "stdout",
     "output_type": "stream",
     "text": [
      "270.0\n",
      "4\n"
     ]
    }
   ],
   "source": [
    "thisdir = os.getcwd()\n",
    "thisdir += \"/2020-2021/Player Data/Non-goalkeeper/\"\n",
    "csv_list = []\n",
    "\n",
    "n_games = 9 #total games played\n",
    "min_time = n_games / 3 * 90 #min time played to be eligible\n",
    "min_games = math.floor(n_games / 2) #min games played to be eligible\n",
    "print(min_time)\n",
    "print(min_games)"
   ]
  },
  {
   "cell_type": "code",
   "execution_count": 40,
   "metadata": {},
   "outputs": [],
   "source": [
    "for r, d, f in os.walk(thisdir):\n",
    "    for file in f:\n",
    "        if file.endswith(\".csv\"):\n",
    "            csv_list.append(os.path.join(r, file))\n",
    "\n",
    "csv_list = sorted(csv_list)"
   ]
  },
  {
   "cell_type": "code",
   "execution_count": 4,
   "metadata": {},
   "outputs": [],
   "source": [
    "def convert_to_minutes(row):\n",
    "    return int(row['M'][:-1])\n",
    "\n",
    "def convert_to_int(row, col):\n",
    "    return int(row[col])"
   ]
  },
  {
   "cell_type": "code",
   "execution_count": 41,
   "metadata": {},
   "outputs": [],
   "source": [
    "players = []\n",
    "\n",
    "for csv_file in csv_list:\n",
    "#     print(csv_file)\n",
    "    if csv_file[-5:] == \"/.csv\":\n",
    "        continue\n",
    "    player_data = pd.read_csv(csv_file, encoding='latin-1')\n",
    "    player_data[\"M_played\"] = player_data.apply(lambda row:convert_to_minutes(row), axis=1)\n",
    "    player_data = player_data.astype({'G':'int32', 'OG':'int32', 'A':'int32', 'AT':'int32', 'BS':'int32', 'SC':'int32', 'FS':'int32', 'BP':'int32', 'AS':'int32', 'KP':'int32', 'P':'int32', 'P%':'int32', 'R':'int32', 'FYC':'int32', 'SYC':'int32', 'RC':'int32'})\n",
    "\n",
    "    players.append([player_data[\"Name\"].unique()[0], player_data[\"Team\"].unique(), player_data[\"M_played\"].sum(), player_data[\"G\"].sum(), player_data[\"OG\"].sum(), player_data[\"A\"].sum(), player_data[\"AT\"].sum(), player_data[\"BS\"].sum(), player_data[\"SC\"].sum(), player_data[\"FS\"].sum(), player_data[\"BP\"].sum(), player_data[\"AS\"].sum(), player_data[\"KP\"].sum(), player_data[\"P\"].sum(), player_data[\"P%\"].sum()  / player_data[\"P%\"].size, player_data[\"R\"].sum(), player_data[\"FYC\"].sum(), player_data[\"SYC\"].sum(), player_data[\"RC\"].sum(), player_data[\"M_played\"].size])\n",
    "\n",
    "players = pd.DataFrame(np.array(players), columns=['Name', 'Team' , 'M', 'G', 'OG', 'A', 'AT', 'BS', 'SC', 'FS', 'BP', 'AS', 'KP', 'P', 'P%', 'R', 'FYC', 'SYC', 'RC', \"N\"])\n",
    "players = players.astype({'M':'int32', 'G':'int32', 'OG':'int32', 'A':'int32', 'AT':'int32', 'BS':'int32', 'SC':'int32', 'FS':'int32', 'BP':'int32', 'AS':'int32', 'KP':'int32', 'P':'int32', 'P%':'float', 'R':'int32', 'FYC':'int32', 'SYC':'int32', 'RC':'int32', 'N':'int32'})\n",
    "players = players[players['M'] >= min_time]\n",
    "players = players[players['N'] >= min_games]"
   ]
  },
  {
   "cell_type": "code",
   "execution_count": 42,
   "metadata": {},
   "outputs": [
    {
     "name": "stdout",
     "output_type": "stream",
     "text": [
      "             Name                 Team     M\n",
      "267  L.PELLEGRINI        [ROMA, GENOA]  1072\n",
      "179    G.PEZZELLA  [PARMA, FIORENTINA]   963\n",
      "304   M.LOCATELLI           [SASSUOLO]   876\n",
      "167     G.FERRARI           [SASSUOLO]   869\n",
      "435    T.TOMIYASU            [BOLOGNA]   869\n",
      "431   T.HERNANDEZ              [MILAN]   869\n",
      "238        K.GLIK          [BENEVENTO]   868\n",
      "365     R.DE PAUL            [UDINESE]   867\n",
      "340  N.MILENKOVIC         [FIORENTINA]   866\n",
      "130      F.ACERBI              [LAZIO]   865\n"
     ]
    }
   ],
   "source": [
    "players = players.sort_values(by='M', ascending=False)\n",
    "print(players[[\"Name\", \"Team\", \"M\"]].head(n=10))"
   ]
  },
  {
   "cell_type": "code",
   "execution_count": 43,
   "metadata": {},
   "outputs": [
    {
     "name": "stdout",
     "output_type": "stream",
     "text": [
      "            Name         Team        M_N\n",
      "74        BREMER     [TORINO]  97.750000\n",
      "277       LYANCO     [TORINO]  97.428571\n",
      "304  M.LOCATELLI   [SASSUOLO]  97.333333\n",
      "49   A.ROMAGNOLI      [MILAN]  96.800000\n",
      "167    G.FERRARI   [SASSUOLO]  96.555556\n",
      "435   T.TOMIYASU    [BOLOGNA]  96.555556\n",
      "431  T.HERNANDEZ      [MILAN]  96.555556\n",
      "238       K.GLIK  [BENEVENTO]  96.444444\n",
      "365    R.DE PAUL    [UDINESE]  96.333333\n",
      "298     M.GABBIA      [MILAN]  96.250000\n"
     ]
    }
   ],
   "source": [
    "players['M_N'] = players['M'] / players['N']\n",
    "players = players.sort_values(by='M_N', ascending=False)\n",
    "print(players[[\"Name\", \"Team\", \"M_N\"]].head(n=10))"
   ]
  },
  {
   "cell_type": "code",
   "execution_count": 15,
   "metadata": {},
   "outputs": [
    {
     "name": "stdout",
     "output_type": "stream",
     "text": [
      "               Name         Team   G\n",
      "453   Z.IBRAHIMOVIC      [MILAN]  10\n",
      "88        C.RONALDO   [JUVENTUS]   8\n",
      "4         A.BELOTTI     [TORINO]   7\n",
      "378        R.LUKAKU      [INTER]   7\n",
      "230      JOAO PEDRO   [CAGLIARI]   6\n",
      "263      L.MARTINEZ      [INTER]   5\n",
      "136        F.CAPUTO   [SASSUOLO]   5\n",
      "149  F.QUAGLIARELLA  [SAMPDORIA]   5\n",
      "183       G.SIMEONE   [CAGLIARI]   5\n",
      "80       C.IMMOBILE      [LAZIO]   5\n"
     ]
    }
   ],
   "source": [
    "players = players.sort_values(by='G', ascending=False)\n",
    "print(players[[\"Name\", \"Team\", \"G\"]].head(n=10))"
   ]
  },
  {
   "cell_type": "code",
   "execution_count": 16,
   "metadata": {},
   "outputs": [
    {
     "name": "stdout",
     "output_type": "stream",
     "text": [
      "              Name        Team       G_M         M_G\n",
      "88       C.RONALDO  [JUVENTUS]  0.020151   49.625000\n",
      "453  Z.IBRAHIMOVIC     [MILAN]  0.017825   56.100000\n",
      "378       R.LUKAKU     [INTER]  0.012007   83.285714\n",
      "134      F.CAICEDO     [LAZIO]  0.009740  102.666667\n",
      "4        A.BELOTTI    [TORINO]  0.009247  108.142857\n",
      "314     M.POLITANO    [NAPOLI]  0.009036  110.666667\n",
      "136       F.CAPUTO  [SASSUOLO]  0.008757  114.200000\n",
      "80      C.IMMOBILE     [LAZIO]  0.008681  115.200000\n",
      "263     L.MARTINEZ     [INTER]  0.007599  131.600000\n",
      "183      G.SIMEONE  [CAGLIARI]  0.007452  134.200000\n"
     ]
    }
   ],
   "source": [
    "players['G_M'] = players['G'] / players['M']\n",
    "players = players.sort_values(by='G_M', ascending=False)\n",
    "top_players = players[[\"Name\", \"Team\", \"G_M\"]].head(n=10)\n",
    "top_players['M_G'] = players['M'] / players['G']\n",
    "print(top_players.head(n=10))"
   ]
  },
  {
   "cell_type": "code",
   "execution_count": 17,
   "metadata": {},
   "outputs": [
    {
     "name": "stdout",
     "output_type": "stream",
     "text": [
      "               Name         Team   A\n",
      "453   Z.IBRAHIMOVIC      [MILAN]  32\n",
      "191    H.MKHITARYAN       [ROMA]  29\n",
      "263      L.MARTINEZ      [INTER]  27\n",
      "109       D.MERTENS     [NAPOLI]  26\n",
      "88        C.RONALDO   [JUVENTUS]  24\n",
      "22          A.GOMEZ   [ATALANTA]  24\n",
      "280        M.BARROW    [BOLOGNA]  23\n",
      "149  F.QUAGLIARELLA  [SAMPDORIA]  22\n",
      "93        D.BERARDI   [SASSUOLO]  22\n",
      "442       V.OSIMHEN     [NAPOLI]  22\n"
     ]
    }
   ],
   "source": [
    "players = players.sort_values(by='A', ascending=False)\n",
    "print(players[[\"Name\", \"Team\", \"A\"]].head(n=10))"
   ]
  },
  {
   "cell_type": "code",
   "execution_count": 18,
   "metadata": {},
   "outputs": [
    {
     "name": "stdout",
     "output_type": "stream",
     "text": [
      "              Name         Team       A_M        M_A\n",
      "88       C.RONALDO   [JUVENTUS]  0.060453  16.541667\n",
      "453  Z.IBRAHIMOVIC      [MILAN]  0.057041  17.531250\n",
      "353       P.DYBALA   [JUVENTUS]  0.056478  17.705882\n",
      "442      V.OSIMHEN     [NAPOLI]  0.044625  22.409091\n",
      "314     M.POLITANO     [NAPOLI]  0.042169  23.714286\n",
      "109      D.MERTENS     [NAPOLI]  0.041734  23.961538\n",
      "263     L.MARTINEZ      [INTER]  0.041033  24.370370\n",
      "170     G.LAPADULA  [BENEVENTO]  0.036832  27.150000\n",
      "22         A.GOMEZ   [ATALANTA]  0.036810  27.166667\n",
      "134      F.CAICEDO      [LAZIO]  0.035714  28.000000\n"
     ]
    }
   ],
   "source": [
    "players['A_M'] = players['A'] / players['M']\n",
    "players = players.sort_values(by='A_M', ascending=False)\n",
    "top_players = players[[\"Name\", \"Team\", \"A_M\"]].head(n=10)\n",
    "top_players['M_A'] = players['M'] / players['A']\n",
    "print(top_players.head(n=10))"
   ]
  },
  {
   "cell_type": "code",
   "execution_count": 20,
   "metadata": {},
   "outputs": [
    {
     "name": "stdout",
     "output_type": "stream",
     "text": [
      "             Name                    Team  AS\n",
      "138      F.CHIESA  [FIORENTINA, JUVENTUS]   4\n",
      "191  H.MKHITARYAN                  [ROMA]   4\n",
      "77      C.BIRAGHI            [FIORENTINA]   3\n",
      "186       G.ZAPPA              [CAGLIARI]   3\n",
      "7      A.CANDREVA             [SAMPDORIA]   3\n",
      "51      A.SANCHEZ                 [INTER]   3\n",
      "93      D.BERARDI              [SASSUOLO]   3\n",
      "391     R.SORIANO               [BOLOGNA]   3\n",
      "109     D.MERTENS                [NAPOLI]   3\n",
      "335     N.BARELLA                 [INTER]   3\n",
      "377        R.LEAO                 [MILAN]   3\n",
      "22        A.GOMEZ              [ATALANTA]   2\n",
      "431   T.HERNANDEZ                 [MILAN]   2\n",
      "123       E.GYASI                [SPEZIA]   2\n",
      "24       A.HAKIMI                 [INTER]   2\n"
     ]
    }
   ],
   "source": [
    "players = players.sort_values(by='AS', ascending=False)\n",
    "print(players[[\"Name\", \"Team\", \"AS\"]].head(n=15))"
   ]
  },
  {
   "cell_type": "code",
   "execution_count": 21,
   "metadata": {},
   "outputs": [
    {
     "name": "stdout",
     "output_type": "stream",
     "text": [
      "              Name                    Team      AS_M        M_AS\n",
      "138       F.CHIESA  [FIORENTINA, JUVENTUS]  0.008163  122.500000\n",
      "51       A.SANCHEZ                 [INTER]  0.007853  127.333333\n",
      "377         R.LEAO                 [MILAN]  0.007833  127.666667\n",
      "314     M.POLITANO                [NAPOLI]  0.006024  166.000000\n",
      "7       A.CANDREVA             [SAMPDORIA]  0.005964  167.666667\n",
      "59         A.YOUNG                 [INTER]  0.005698  175.500000\n",
      "133    F.BONAZZOLI     [SAMPDORIA, TORINO]  0.005479  182.500000\n",
      "379  R.MALINOVSKYI              [ATALANTA]  0.005479  182.500000\n",
      "327      M.VOJVODA                [TORINO]  0.004914  203.500000\n",
      "191   H.MKHITARYAN                  [ROMA]  0.004819  207.500000\n"
     ]
    }
   ],
   "source": [
    "players['AS_M'] = players['AS'] / players['M']\n",
    "players = players.sort_values(by='AS_M', ascending=False)\n",
    "top_players = players[[\"Name\", \"Team\", \"AS_M\"]].head(n=10)\n",
    "top_players['M_AS'] = players['M'] / players['AS']\n",
    "print(top_players.head(n=10))"
   ]
  },
  {
   "cell_type": "code",
   "execution_count": 22,
   "metadata": {},
   "outputs": [
    {
     "name": "stdout",
     "output_type": "stream",
     "text": [
      "             Name           Team   BP\n",
      "304   M.LOCATELLI     [SASSUOLO]  932\n",
      "267  L.PELLEGRINI  [ROMA, GENOA]  822\n",
      "167     G.FERRARI     [SASSUOLO]  786\n",
      "117        DANILO     [JUVENTUS]  764\n",
      "365     R.DE PAUL      [UDINESE]  752\n",
      "130      F.ACERBI        [LAZIO]  712\n",
      "153   FABIAN RUIZ       [NAPOLI]  686\n",
      "240   K.KOULIBALY       [NAPOLI]  667\n",
      "77      C.BIRAGHI   [FIORENTINA]  666\n",
      "340  N.MILENKOVIC   [FIORENTINA]  662\n"
     ]
    }
   ],
   "source": [
    "players = players.sort_values(by='BP', ascending=False)\n",
    "print(players[[\"Name\", \"Team\", \"BP\"]].head(n=10))"
   ]
  },
  {
   "cell_type": "code",
   "execution_count": 23,
   "metadata": {},
   "outputs": [
    {
     "name": "stdout",
     "output_type": "stream",
     "text": [
      "             Name          Team      BP_M      M_BP\n",
      "282    M.BROZOVIC       [INTER]  1.069378  0.935123\n",
      "304   M.LOCATELLI    [SASSUOLO]  1.063927  0.939914\n",
      "61         ARTHUR    [JUVENTUS]  1.044346  0.957537\n",
      "117        DANILO    [JUVENTUS]  1.002625  0.997382\n",
      "30      A.KOLAROV       [INTER]  0.974874  1.025773\n",
      "333     MARIO RUI      [NAPOLI]  0.968553  1.032468\n",
      "125      E.PULGAR  [FIORENTINA]  0.961538  1.040000\n",
      "437   V.CHIRICHES    [SASSUOLO]  0.951562  1.050903\n",
      "153   FABIAN RUIZ      [NAPOLI]  0.943604  1.059767\n",
      "275  LUIS ALBERTO       [LAZIO]  0.939117  1.064830\n"
     ]
    }
   ],
   "source": [
    "players['BP_M'] = players['BP'] / players['M']\n",
    "players = players.sort_values(by='BP_M', ascending=False)\n",
    "top_players = players[[\"Name\", \"Team\", \"BP_M\"]].head(n=10)\n",
    "top_players['M_BP'] = players['M'] / players['BP']\n",
    "print(top_players.head(n=10))"
   ]
  },
  {
   "cell_type": "code",
   "execution_count": 24,
   "metadata": {},
   "outputs": [
    {
     "name": "stdout",
     "output_type": "stream",
     "text": [
      "             Name           Team    P\n",
      "304   M.LOCATELLI     [SASSUOLO]  677\n",
      "167     G.FERRARI     [SASSUOLO]  640\n",
      "117        DANILO     [JUVENTUS]  566\n",
      "240   K.KOULIBALY       [NAPOLI]  530\n",
      "153   FABIAN RUIZ       [NAPOLI]  521\n",
      "130      F.ACERBI        [LAZIO]  495\n",
      "437   V.CHIRICHES     [SASSUOLO]  485\n",
      "340  N.MILENKOVIC   [FIORENTINA]  473\n",
      "267  L.PELLEGRINI  [ROMA, GENOA]  423\n",
      "396     S.AMRABAT   [FIORENTINA]  420\n"
     ]
    }
   ],
   "source": [
    "players = players.sort_values(by='P', ascending=False)\n",
    "print(players[[\"Name\", \"Team\", \"P\"]].head(n=10))"
   ]
  },
  {
   "cell_type": "code",
   "execution_count": 25,
   "metadata": {},
   "outputs": [
    {
     "name": "stdout",
     "output_type": "stream",
     "text": [
      "            Name        Team       P_M       M_P\n",
      "61        ARTHUR  [JUVENTUS]  0.875831  1.141772\n",
      "282   M.BROZOVIC     [INTER]  0.803828  1.244048\n",
      "304  M.LOCATELLI  [SASSUOLO]  0.772831  1.293944\n",
      "437  V.CHIRICHES  [SASSUOLO]  0.757812  1.319588\n",
      "117       DANILO  [JUVENTUS]  0.742782  1.346290\n",
      "167    G.FERRARI  [SASSUOLO]  0.736479  1.357813\n",
      "30     A.KOLAROV     [INTER]  0.726131  1.377163\n",
      "3      A.BASTONI     [INTER]  0.726003  1.377404\n",
      "153  FABIAN RUIZ    [NAPOLI]  0.716644  1.395393\n",
      "305      M.LOPEZ  [SASSUOLO]  0.715556  1.397516\n"
     ]
    }
   ],
   "source": [
    "players['P_M'] = players['P'] / players['M']\n",
    "players = players.sort_values(by='P_M', ascending=False)\n",
    "top_players = players[[\"Name\", \"Team\", \"P_M\"]].head(n=10)\n",
    "top_players['M_P'] = players['M'] / players['P']\n",
    "print(top_players.head(n=10))"
   ]
  },
  {
   "cell_type": "code",
   "execution_count": 26,
   "metadata": {},
   "outputs": [
    {
     "name": "stdout",
     "output_type": "stream",
     "text": [
      "             Name        Team         P%\n",
      "344     N.NKOULOU    [TORINO]  95.166667\n",
      "61         ARTHUR  [JUVENTUS]  94.166667\n",
      "293     M.DEMIRAL  [JUVENTUS]  93.833333\n",
      "98   D.D'AMBROSIO     [INTER]  93.833333\n",
      "298      M.GABBIA     [MILAN]  93.500000\n",
      "321    M.SKRINIAR     [INTER]  93.200000\n",
      "364   R.BENTANCUR  [JUVENTUS]  93.142857\n",
      "353      P.DYBALA  [JUVENTUS]  93.000000\n",
      "244     K.MANOLAS    [NAPOLI]  92.375000\n",
      "400     S.DE VRIJ     [INTER]  91.857143\n"
     ]
    }
   ],
   "source": [
    "players = players.sort_values(by='P%', ascending=False)\n",
    "print(players[[\"Name\", \"Team\", \"P%\"]].head(n=10))"
   ]
  },
  {
   "cell_type": "code",
   "execution_count": 27,
   "metadata": {},
   "outputs": [
    {
     "name": "stdout",
     "output_type": "stream",
     "text": [
      "             Name             Team  KP\n",
      "365     R.DE PAUL        [UDINESE]  12\n",
      "188  H.CALHANOGLU          [MILAN]  11\n",
      "267  L.PELLEGRINI    [ROMA, GENOA]   9\n",
      "330    M.ZACCAGNI  [HELLAS VERONA]   8\n",
      "213      J.ILICIC       [ATALANTA]   8\n",
      "391     R.SORIANO        [BOLOGNA]   8\n",
      "140     F.DIMARCO  [HELLAS VERONA]   7\n",
      "93      D.BERARDI       [SASSUOLO]   7\n",
      "141    F.DJURICIC       [SASSUOLO]   7\n",
      "275  LUIS ALBERTO          [LAZIO]   6\n",
      "191  H.MKHITARYAN           [ROMA]   6\n",
      "421       S.VERDI         [TORINO]   6\n",
      "22        A.GOMEZ       [ATALANTA]   6\n",
      "280      M.BARROW        [BOLOGNA]   6\n",
      "150      F.RIBERY     [FIORENTINA]   5\n"
     ]
    }
   ],
   "source": [
    "players = players.sort_values(by='KP', ascending=False)\n",
    "print(players[[\"Name\", \"Team\", \"KP\"]].head(n=15))"
   ]
  },
  {
   "cell_type": "code",
   "execution_count": 28,
   "metadata": {},
   "outputs": [
    {
     "name": "stdout",
     "output_type": "stream",
     "text": [
      "              Name             Team      KP_M       M_KP\n",
      "213       J.ILICIC       [ATALANTA]  0.022284  44.875000\n",
      "188   H.CALHANOGLU          [MILAN]  0.014455  69.181818\n",
      "44        A.RAMSEY       [JUVENTUS]  0.014205  70.400000\n",
      "421        S.VERDI         [TORINO]  0.014085  71.000000\n",
      "365      R.DE PAUL        [UDINESE]  0.013841  72.250000\n",
      "330     M.ZACCAGNI  [HELLAS VERONA]  0.011765  85.000000\n",
      "141     F.DJURICIC       [SASSUOLO]  0.011570  86.428571\n",
      "379  R.MALINOVSKYI       [ATALANTA]  0.010959  91.250000\n",
      "337      N.ESTEVEZ         [SPEZIA]  0.010563  94.666667\n",
      "106   D.KULUSEVSKI       [JUVENTUS]  0.010267  97.400000\n"
     ]
    }
   ],
   "source": [
    "players['KP_M'] = players['KP'] / players['M']\n",
    "players = players.sort_values(by='KP_M', ascending=False)\n",
    "top_players = players[[\"Name\", \"Team\", \"KP_M\"]].head(n=10)\n",
    "top_players['M_KP'] = players['M'] / players['KP']\n",
    "print(top_players.head(n=10))"
   ]
  },
  {
   "cell_type": "code",
   "execution_count": 29,
   "metadata": {
    "scrolled": true
   },
   "outputs": [
    {
     "name": "stdout",
     "output_type": "stream",
     "text": [
      "                Name             Team  FS\n",
      "4          A.BELOTTI         [TORINO]  32\n",
      "365        R.DE PAUL        [UDINESE]  32\n",
      "330       M.ZACCAGNI  [HELLAS VERONA]  32\n",
      "219        J.MESSIAS        [CROTONE]  25\n",
      "150         F.RIBERY     [FIORENTINA]  25\n",
      "431      T.HERNANDEZ          [MILAN]  23\n",
      "158    G.CASTROVILLI     [FIORENTINA]  22\n",
      "230       JOAO PEDRO       [CAGLIARI]  21\n",
      "317            M.ROG       [CAGLIARI]  21\n",
      "360  P.SCHIATTARELLA      [BENEVENTO]  19\n"
     ]
    }
   ],
   "source": [
    "players = players.sort_values(by='FS', ascending=False)\n",
    "print(players[[\"Name\", \"Team\", \"FS\"]].head(n=10))"
   ]
  },
  {
   "cell_type": "code",
   "execution_count": 30,
   "metadata": {
    "scrolled": true
   },
   "outputs": [
    {
     "name": "stdout",
     "output_type": "stream",
     "text": [
      "            Name             Team      FS_M       M_FS\n",
      "330   M.ZACCAGNI  [HELLAS VERONA]  0.047059  21.250000\n",
      "150     F.RIBERY     [FIORENTINA]  0.045956  21.760000\n",
      "4      A.BELOTTI         [TORINO]  0.042272  23.656250\n",
      "449      W.SINGO         [TORINO]  0.042105  23.750000\n",
      "213     J.ILICIC       [ATALANTA]  0.038997  25.642857\n",
      "10   A.CORNELIUS          [PARMA]  0.038147  26.214286\n",
      "333    MARIO RUI         [NAPOLI]  0.037736  26.500000\n",
      "365    R.DE PAUL        [UDINESE]  0.036909  27.093750\n",
      "338    N.KALINIC  [HELLAS VERONA]  0.035842  27.900000\n",
      "177     G.PANDEV          [GENOA]  0.034296  29.157895\n"
     ]
    }
   ],
   "source": [
    "players['FS_M'] = players['FS'] / players['M']\n",
    "players = players.sort_values(by='FS_M', ascending=False)\n",
    "top_players = players[[\"Name\", \"Team\", \"FS_M\"]].head(n=10)\n",
    "top_players['M_FS'] = players['M'] / players['FS']\n",
    "print(top_players.head(n=10))"
   ]
  },
  {
   "cell_type": "code",
   "execution_count": 31,
   "metadata": {},
   "outputs": [
    {
     "name": "stdout",
     "output_type": "stream",
     "text": [
      "             Name                         Team   R\n",
      "130      F.ACERBI                      [LAZIO]  98\n",
      "435    T.TOMIYASU                    [BOLOGNA]  91\n",
      "370      R.IBANEZ                       [ROMA]  89\n",
      "340  N.MILENKOVIC                 [FIORENTINA]  86\n",
      "260    L.MAGALLAN                    [CROTONE]  85\n",
      "74         BREMER                     [TORINO]  78\n",
      "407       S.KJAER                      [MILAN]  78\n",
      "137  F.CECCHERINI  [FIORENTINA, HELLAS VERONA]  77\n",
      "324     M.THORSBY                  [SAMPDORIA]  77\n",
      "68     B.DJIMSITI                   [ATALANTA]  72\n"
     ]
    }
   ],
   "source": [
    "players = players.sort_values(by='R', ascending=False)\n",
    "print(players[[\"Name\", \"Team\", \"R\"]].head(n=10))"
   ]
  },
  {
   "cell_type": "code",
   "execution_count": 32,
   "metadata": {},
   "outputs": [
    {
     "name": "stdout",
     "output_type": "stream",
     "text": [
      "           Name        Team       R_M       M_R\n",
      "87     C.ROMERO  [ATALANTA]  0.143141  6.986111\n",
      "68   B.DJIMSITI  [ATALANTA]  0.126538  7.902778\n",
      "447     W.HOEDT     [LAZIO]  0.121795  8.210526\n",
      "399   S.DE MAIO   [UDINESE]  0.121429  8.235294\n",
      "293   M.DEMIRAL  [JUVENTUS]  0.117647  8.500000\n",
      "208    J.CHABOT    [SPEZIA]  0.117229  8.530303\n",
      "279      M.BANI     [GENOA]  0.116000  8.620690\n",
      "130    F.ACERBI     [LAZIO]  0.113295  8.826531\n",
      "296     M.ERLIC    [SPEZIA]  0.112172  8.914894\n",
      "370    R.IBANEZ      [ROMA]  0.111389  8.977528\n"
     ]
    }
   ],
   "source": [
    "players['R_M'] = players['R'] / players['M']\n",
    "players = players.sort_values(by='R_M', ascending=False)\n",
    "top_players = players[[\"Name\", \"Team\", \"R_M\"]].head(n=10)\n",
    "top_players['M_R'] = players['M'] / players['R']\n",
    "print(top_players.head(n=10))"
   ]
  },
  {
   "cell_type": "code",
   "execution_count": 44,
   "metadata": {},
   "outputs": [],
   "source": [
    "thisdir = os.getcwd()\n",
    "thisdir += \"/2020-2021/Player Data/Goalkeeper/\"\n",
    "csv_list = []\n",
    "\n",
    "for r, d, f in os.walk(thisdir):\n",
    "    for file in f:\n",
    "        if file.endswith(\".csv\"):\n",
    "            csv_list.append(os.path.join(r, file))\n",
    "\n",
    "csv_list = sorted(csv_list)\n",
    "\n",
    "players = []\n",
    "\n",
    "for csv_file in csv_list:\n",
    "#     print(csv_file)\n",
    "    if csv_file[-5:] == \"/.csv\":\n",
    "        continue\n",
    "    player_data = pd.read_csv(csv_file, encoding='latin-1')\n",
    "    player_data[\"M_played\"] = player_data.apply(lambda row:convert_to_minutes(row), axis=1)\n",
    "    player_data = player_data.astype({'GC':'int32', 'OG':'int32', 'S':'int32', 'STP':'int32', 'SF':'int32', 'FYC':'int32', 'SYC':'int32', 'RC':'int32'})\n",
    "\n",
    "    players.append([player_data[\"Name\"].unique()[0], player_data[\"Team\"].unique(), player_data[\"M_played\"].sum(), player_data[\"GC\"].sum(), player_data[\"OG\"].sum(), player_data[\"S\"].sum(), player_data[\"STP\"].sum(), player_data[\"SF\"].sum(), player_data[\"FYC\"].sum(), player_data[\"SYC\"].sum(), player_data[\"RC\"].sum(), player_data[\"M_played\"].size])\n",
    "\n",
    "players = pd.DataFrame(np.array(players), columns=['Name', 'Team' , 'M', 'GC', 'OG', 'S', 'STP', 'SF', 'FYC', 'SYC', 'RC', 'N'])\n",
    "players = players.astype({'M':'int32', 'GC':'int32', 'OG':'int32', 'S':'int32', 'STP':'int32', 'SF':'int32', 'FYC':'int32', 'SYC':'int32', 'RC':'int32', 'N':'int32'})\n",
    "players = players[players['M'] >= min_time]\n",
    "players = players[players['N'] >= min_games]"
   ]
  },
  {
   "cell_type": "code",
   "execution_count": 45,
   "metadata": {},
   "outputs": [
    {
     "name": "stdout",
     "output_type": "stream",
     "text": [
      "            Name             Team    M\n",
      "28      S.SIRIGU         [TORINO]  878\n",
      "0     A.CONSIGLI       [SASSUOLO]  876\n",
      "18   L.SKORUPSKI        [BOLOGNA]  869\n",
      "16    L.MONTIPO'      [BENEVENTO]  868\n",
      "6    B.DRAGOWSKI     [FIORENTINA]  866\n",
      "27  S.HANDANOVIC          [INTER]  863\n",
      "2       A.CRAGNO       [CAGLIARI]  863\n",
      "1       A.CORDAZ        [CROTONE]  863\n",
      "20   M.SILVESTRI  [HELLAS VERONA]  862\n",
      "17        L.SEPE          [PARMA]  861\n"
     ]
    }
   ],
   "source": [
    "players = players.sort_values(by='M', ascending=False)\n",
    "print(players[[\"Name\", \"Team\", \"M\"]].head(n=10))"
   ]
  },
  {
   "cell_type": "code",
   "execution_count": 46,
   "metadata": {},
   "outputs": [
    {
     "name": "stdout",
     "output_type": "stream",
     "text": [
      "            Name          Team        M_N\n",
      "28      S.SIRIGU      [TORINO]  97.555556\n",
      "0     A.CONSIGLI    [SASSUOLO]  97.333333\n",
      "25       P.REINA       [LAZIO]  97.000000\n",
      "12  G.DONNARUMMA       [MILAN]  96.625000\n",
      "30    W.SZCZESNY    [JUVENTUS]  96.600000\n",
      "18   L.SKORUPSKI     [BOLOGNA]  96.555556\n",
      "8       D.OSPINA      [NAPOLI]  96.500000\n",
      "16    L.MONTIPO'   [BENEVENTO]  96.444444\n",
      "14       J.MUSSO     [UDINESE]  96.285714\n",
      "6    B.DRAGOWSKI  [FIORENTINA]  96.222222\n"
     ]
    }
   ],
   "source": [
    "players['M_N'] = players['M'] / players['N']\n",
    "players = players.sort_values(by='M_N', ascending=False)\n",
    "print(players[[\"Name\", \"Team\", \"M_N\"]].head(n=10))"
   ]
  },
  {
   "cell_type": "code",
   "execution_count": 47,
   "metadata": {},
   "outputs": [
    {
     "name": "stdout",
     "output_type": "stream",
     "text": [
      "            Name          Team  GC\n",
      "28      S.SIRIGU      [TORINO]  22\n",
      "16    L.MONTIPO'   [BENEVENTO]  21\n",
      "1       A.CORDAZ     [CROTONE]  20\n",
      "2       A.CRAGNO    [CAGLIARI]  19\n",
      "17        L.SEPE       [PARMA]  17\n",
      "21  M.SPORTIELLO    [ATALANTA]  15\n",
      "6    B.DRAGOWSKI  [FIORENTINA]  15\n",
      "9       E.AUDERO   [SAMPDORIA]  15\n",
      "18   L.SKORUPSKI     [BOLOGNA]  14\n",
      "27  S.HANDANOVIC       [INTER]  13\n"
     ]
    }
   ],
   "source": [
    "players = players.sort_values(by='GC', ascending=False)\n",
    "print(players[[\"Name\", \"Team\", \"GC\"]].head(n=10))"
   ]
  },
  {
   "cell_type": "code",
   "execution_count": 48,
   "metadata": {},
   "outputs": [
    {
     "name": "stdout",
     "output_type": "stream",
     "text": [
      "            Name          Team      GC_M       M_GC\n",
      "28      S.SIRIGU      [TORINO]  0.025057  39.909091\n",
      "16    L.MONTIPO'   [BENEVENTO]  0.024194  41.333333\n",
      "1       A.CORDAZ     [CROTONE]  0.023175  43.150000\n",
      "29   T.STRAKOSHA       [LAZIO]  0.023061  43.363636\n",
      "2       A.CRAGNO    [CAGLIARI]  0.022016  45.421053\n",
      "21  M.SPORTIELLO    [ATALANTA]  0.021645  46.200000\n",
      "17        L.SEPE       [PARMA]  0.019744  50.647059\n",
      "9       E.AUDERO   [SAMPDORIA]  0.017564  56.933333\n",
      "13    I.PROVEDEL      [SPEZIA]  0.017544  57.000000\n",
      "6    B.DRAGOWSKI  [FIORENTINA]  0.017321  57.733333\n"
     ]
    }
   ],
   "source": [
    "players['GC_M'] = players['GC'] / players['M']\n",
    "players = players.sort_values(by='GC_M', ascending=False)\n",
    "top_players = players[[\"Name\", \"Team\", \"GC_M\"]].head(n=10)\n",
    "top_players['M_GC'] = players['M'] / players['GC']\n",
    "print(top_players.head(n=10))"
   ]
  },
  {
   "cell_type": "code",
   "execution_count": 49,
   "metadata": {},
   "outputs": [
    {
     "name": "stdout",
     "output_type": "stream",
     "text": [
      "            Name             Team  GC\n",
      "8       D.OSPINA         [NAPOLI]   3\n",
      "3        A.MERET         [NAPOLI]   4\n",
      "12  G.DONNARUMMA          [MILAN]   5\n",
      "30    W.SZCZESNY       [JUVENTUS]   5\n",
      "25       P.REINA          [LAZIO]   5\n",
      "20   M.SILVESTRI  [HELLAS VERONA]   7\n",
      "14       J.MUSSO        [UDINESE]   7\n",
      "13    I.PROVEDEL         [SPEZIA]  10\n",
      "19       M.PERIN          [GENOA]  10\n",
      "29   T.STRAKOSHA          [LAZIO]  11\n"
     ]
    }
   ],
   "source": [
    "players = players.sort_values(by='GC')\n",
    "print(players[[\"Name\", \"Team\", \"GC\"]].head(n=10))"
   ]
  },
  {
   "cell_type": "code",
   "execution_count": 50,
   "metadata": {},
   "outputs": [
    {
     "name": "stdout",
     "output_type": "stream",
     "text": [
      "            Name             Team      GC_M        M_GC\n",
      "12  G.DONNARUMMA          [MILAN]  0.006468  154.600000\n",
      "8       D.OSPINA         [NAPOLI]  0.007772  128.666667\n",
      "20   M.SILVESTRI  [HELLAS VERONA]  0.008121  123.142857\n",
      "30    W.SZCZESNY       [JUVENTUS]  0.010352   96.600000\n",
      "14       J.MUSSO        [UDINESE]  0.010386   96.285714\n",
      "3        A.MERET         [NAPOLI]  0.010444   95.750000\n",
      "25       P.REINA          [LAZIO]  0.012887   77.600000\n",
      "0     A.CONSIGLI       [SASSUOLO]  0.013699   73.000000\n",
      "4      A.MIRANTE           [ROMA]  0.014512   68.909091\n",
      "19       M.PERIN          [GENOA]  0.014925   67.000000\n"
     ]
    }
   ],
   "source": [
    "players['GC_M'] = players['GC'] / players['M']\n",
    "players = players.sort_values(by='GC_M')\n",
    "top_players = players[[\"Name\", \"Team\", \"GC_M\"]].head(n=10)\n",
    "top_players['M_GC'] = players['M'] / players['GC']\n",
    "print(top_players.head(n=10))"
   ]
  },
  {
   "cell_type": "code",
   "execution_count": 51,
   "metadata": {},
   "outputs": [
    {
     "name": "stdout",
     "output_type": "stream",
     "text": [
      "           Name             Team   S\n",
      "2      A.CRAGNO       [CAGLIARI]  44\n",
      "20  M.SILVESTRI  [HELLAS VERONA]  40\n",
      "17       L.SEPE          [PARMA]  35\n",
      "0    A.CONSIGLI       [SASSUOLO]  35\n",
      "16   L.MONTIPO'      [BENEVENTO]  31\n",
      "9      E.AUDERO      [SAMPDORIA]  31\n",
      "1      A.CORDAZ        [CROTONE]  30\n",
      "19      M.PERIN          [GENOA]  28\n",
      "18  L.SKORUPSKI        [BOLOGNA]  27\n",
      "6   B.DRAGOWSKI     [FIORENTINA]  26\n"
     ]
    }
   ],
   "source": [
    "players = players.sort_values(by='S', ascending=False)\n",
    "print(players[[\"Name\", \"Team\", \"S\"]].head(n=10))"
   ]
  },
  {
   "cell_type": "code",
   "execution_count": 52,
   "metadata": {},
   "outputs": [
    {
     "name": "stdout",
     "output_type": "stream",
     "text": [
      "           Name             Team       S_M        M_S\n",
      "2      A.CRAGNO       [CAGLIARI]  0.050985  19.613636\n",
      "20  M.SILVESTRI  [HELLAS VERONA]  0.046404  21.550000\n",
      "19      M.PERIN          [GENOA]  0.041791  23.928571\n",
      "25      P.REINA          [LAZIO]  0.041237  24.250000\n",
      "17       L.SEPE          [PARMA]  0.040650  24.600000\n",
      "0    A.CONSIGLI       [SASSUOLO]  0.039954  25.028571\n",
      "9      E.AUDERO      [SAMPDORIA]  0.036300  27.548387\n",
      "16   L.MONTIPO'      [BENEVENTO]  0.035714  28.000000\n",
      "1      A.CORDAZ        [CROTONE]  0.034762  28.766667\n",
      "4     A.MIRANTE           [ROMA]  0.034301  29.153846\n"
     ]
    }
   ],
   "source": [
    "players['S_M'] = players['S'] / players['M']\n",
    "players = players.sort_values(by='S_M', ascending=False)\n",
    "top_players = players[[\"Name\", \"Team\", \"S_M\"]].head(n=10)\n",
    "top_players['M_S'] = players['M'] / players['S']\n",
    "print(top_players.head(n=10))"
   ]
  },
  {
   "cell_type": "code",
   "execution_count": 53,
   "metadata": {},
   "outputs": [
    {
     "name": "stdout",
     "output_type": "stream",
     "text": [
      "            Name             Team  Set_S\n",
      "6    B.DRAGOWSKI     [FIORENTINA]      7\n",
      "0     A.CONSIGLI       [SASSUOLO]      7\n",
      "4      A.MIRANTE           [ROMA]      6\n",
      "17        L.SEPE          [PARMA]      5\n",
      "12  G.DONNARUMMA          [MILAN]      4\n",
      "27  S.HANDANOVIC          [INTER]      4\n",
      "1       A.CORDAZ        [CROTONE]      4\n",
      "21  M.SPORTIELLO       [ATALANTA]      3\n",
      "20   M.SILVESTRI  [HELLAS VERONA]      3\n",
      "2       A.CRAGNO       [CAGLIARI]      3\n"
     ]
    }
   ],
   "source": [
    "players['Set_S'] = players['STP'] + players['SF']\n",
    "players = players.sort_values(by='Set_S', ascending=False)\n",
    "print(players[[\"Name\", \"Team\", \"Set_S\"]].head(n=10))"
   ]
  }
 ],
 "metadata": {
  "kernelspec": {
   "display_name": "Python 3",
   "language": "python",
   "name": "python3"
  },
  "language_info": {
   "codemirror_mode": {
    "name": "ipython",
    "version": 3
   },
   "file_extension": ".py",
   "mimetype": "text/x-python",
   "name": "python",
   "nbconvert_exporter": "python",
   "pygments_lexer": "ipython3",
   "version": "3.7.4"
  }
 },
 "nbformat": 4,
 "nbformat_minor": 2
}
