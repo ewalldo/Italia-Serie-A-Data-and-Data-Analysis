{
 "cells": [
  {
   "cell_type": "code",
   "execution_count": 1,
   "metadata": {},
   "outputs": [],
   "source": [
    "import os\n",
    "import csv\n",
    "import pandas as pd\n",
    "import numpy as np\n",
    "import math"
   ]
  },
  {
   "cell_type": "code",
   "execution_count": 5,
   "metadata": {},
   "outputs": [
    {
     "name": "stdout",
     "output_type": "stream",
     "text": [
      "150.0\n",
      "2\n"
     ]
    }
   ],
   "source": [
    "thisdir = os.getcwd()\n",
    "thisdir += \"/2020-2021/Player Data/Non-goalkeeper/\"\n",
    "csv_list = []\n",
    "\n",
    "n_games = 5 #total games played\n",
    "min_time = n_games / 3 * 90 #min time played to be eligible\n",
    "min_games = math.floor(n_games / 2) #min games played to be eligible\n",
    "print(min_time)\n",
    "print(min_games)"
   ]
  },
  {
   "cell_type": "code",
   "execution_count": 6,
   "metadata": {},
   "outputs": [],
   "source": [
    "for r, d, f in os.walk(thisdir):\n",
    "    for file in f:\n",
    "        if file.endswith(\".csv\"):\n",
    "            csv_list.append(os.path.join(r, file))\n",
    "\n",
    "csv_list = sorted(csv_list)"
   ]
  },
  {
   "cell_type": "code",
   "execution_count": 7,
   "metadata": {},
   "outputs": [],
   "source": [
    "def convert_to_minutes(row):\n",
    "    return int(row['M'][:-1])\n",
    "\n",
    "def convert_to_int(row, col):\n",
    "    return int(row[col])"
   ]
  },
  {
   "cell_type": "code",
   "execution_count": 10,
   "metadata": {},
   "outputs": [],
   "source": [
    "players = []\n",
    "\n",
    "for csv_file in csv_list:\n",
    "#     print(csv_file)\n",
    "    if csv_file[-5:] == \"/.csv\":\n",
    "        continue\n",
    "    player_data = pd.read_csv(csv_file, encoding='latin-1')\n",
    "    player_data[\"M_played\"] = player_data.apply(lambda row:convert_to_minutes(row), axis=1)\n",
    "    player_data = player_data.astype({'G':'int32', 'OG':'int32', 'A':'int32', 'AT':'int32', 'BS':'int32', 'SC':'int32', 'FS':'int32', 'BP':'int32', 'AS':'int32', 'KP':'int32', 'P':'int32', 'P%':'int32', 'R':'int32', 'FYC':'int32', 'SYC':'int32', 'RC':'int32'})\n",
    "\n",
    "    players.append([player_data[\"Name\"].unique()[0], player_data[\"Team\"].unique(), player_data[\"M_played\"].sum(), player_data[\"G\"].sum(), player_data[\"OG\"].sum(), player_data[\"A\"].sum(), player_data[\"AT\"].sum(), player_data[\"BS\"].sum(), player_data[\"SC\"].sum(), player_data[\"FS\"].sum(), player_data[\"BP\"].sum(), player_data[\"AS\"].sum(), player_data[\"KP\"].sum(), player_data[\"P\"].sum(), player_data[\"P%\"].sum()  / player_data[\"P%\"].size, player_data[\"R\"].sum(), player_data[\"FYC\"].sum(), player_data[\"SYC\"].sum(), player_data[\"RC\"].sum(), player_data[\"M_played\"].size])\n",
    "\n",
    "players = pd.DataFrame(np.array(players), columns=['Name', 'Team' , 'M', 'G', 'OG', 'A', 'AT', 'BS', 'SC', 'FS', 'BP', 'AS', 'KP', 'P', 'P%', 'R', 'FYC', 'SYC', 'RC', \"N\"])\n",
    "players = players.astype({'M':'int32', 'G':'int32', 'OG':'int32', 'A':'int32', 'AT':'int32', 'BS':'int32', 'SC':'int32', 'FS':'int32', 'BP':'int32', 'AS':'int32', 'KP':'int32', 'P':'int32', 'P%':'float', 'R':'int32', 'FYC':'int32', 'SYC':'int32', 'RC':'int32', 'N':'int32'})\n",
    "players = players[players['M'] >= min_time]\n",
    "players = players[players['N'] >= min_games]"
   ]
  },
  {
   "cell_type": "code",
   "execution_count": 11,
   "metadata": {},
   "outputs": [
    {
     "name": "stdout",
     "output_type": "stream",
     "text": [
      "             Name                 Team    M\n",
      "245  L.PELLEGRINI        [ROMA, GENOA]  515\n",
      "160    G.PEZZELLA  [PARMA, FIORENTINA]  493\n",
      "119      F.CAPUTO           [SASSUOLO]  493\n",
      "276   M.LOCATELLI           [SASSUOLO]  493\n",
      "79      D.BERARDI           [SASSUOLO]  486\n",
      "148     G.FERRARI           [SASSUOLO]  486\n",
      "308  N.MILENKOVIC         [FIORENTINA]  484\n",
      "399    T.TOMIYASU            [BOLOGNA]  484\n",
      "258     M.CACERES         [FIORENTINA]  484\n",
      "205    J.SCHOUTEN            [BOLOGNA]  484\n"
     ]
    }
   ],
   "source": [
    "players = players.sort_values(by='M', ascending=False)\n",
    "print(players[[\"Name\", \"Team\", \"M\"]].head(n=10))"
   ]
  },
  {
   "cell_type": "code",
   "execution_count": 12,
   "metadata": {},
   "outputs": [
    {
     "name": "stdout",
     "output_type": "stream",
     "text": [
      "             Name             Team        M_N\n",
      "203       J.RAMOS         [SPEZIA]  99.000000\n",
      "119      F.CAPUTO       [SASSUOLO]  98.600000\n",
      "276   M.LOCATELLI       [SASSUOLO]  98.600000\n",
      "62         BREMER         [TORINO]  97.666667\n",
      "4       A.BELOTTI         [TORINO]  97.250000\n",
      "79      D.BERARDI       [SASSUOLO]  97.200000\n",
      "148     G.FERRARI       [SASSUOLO]  97.200000\n",
      "41    A.ROMAGNOLI          [MILAN]  97.000000\n",
      "360      R.VIEIRA  [HELLAS VERONA]  97.000000\n",
      "308  N.MILENKOVIC     [FIORENTINA]  96.800000\n"
     ]
    }
   ],
   "source": [
    "players['M_N'] = players['M'] / players['N']\n",
    "players = players.sort_values(by='M_N', ascending=False)\n",
    "print(players[[\"Name\", \"Team\", \"M_N\"]].head(n=10))"
   ]
  },
  {
   "cell_type": "code",
   "execution_count": 15,
   "metadata": {},
   "outputs": [
    {
     "name": "stdout",
     "output_type": "stream",
     "text": [
      "               Name          Team  G\n",
      "416   Z.IBRAHIMOVIC       [MILAN]  6\n",
      "345        R.LUKAKU       [INTER]  5\n",
      "4         A.BELOTTI      [TORINO]  5\n",
      "119        F.CAPUTO    [SASSUOLO]  5\n",
      "131  F.QUAGLIARELLA   [SAMPDORIA]  4\n",
      "171        H.LOZANO      [NAPOLI]  4\n",
      "140   G.CASTROVILLI  [FIORENTINA]  4\n",
      "17          A.GOMEZ    [ATALANTA]  4\n",
      "208      J.VERETOUT        [ROMA]  4\n",
      "164       G.SIMEONE    [CAGLIARI]  4\n"
     ]
    }
   ],
   "source": [
    "players = players.sort_values(by='G', ascending=False)\n",
    "print(players[[\"Name\", \"Team\", \"G\"]].head(n=10))"
   ]
  },
  {
   "cell_type": "code",
   "execution_count": 16,
   "metadata": {},
   "outputs": [
    {
     "name": "stdout",
     "output_type": "stream",
     "text": [
      "               Name         Team       G_M        M_G\n",
      "416   Z.IBRAHIMOVIC      [MILAN]  0.020761  48.166667\n",
      "75        C.RONALDO   [JUVENTUS]  0.016043  62.333333\n",
      "171        H.LOZANO     [NAPOLI]  0.013115  76.250000\n",
      "16      A.GALABINOV     [SPEZIA]  0.013043  76.666667\n",
      "4         A.BELOTTI     [TORINO]  0.012853  77.800000\n",
      "243        L.MURIEL   [ATALANTA]  0.012121  82.500000\n",
      "345        R.LUKAKU      [INTER]  0.011086  90.200000\n",
      "131  F.QUAGLIARELLA  [SAMPDORIA]  0.010724  93.250000\n",
      "17          A.GOMEZ   [ATALANTA]  0.010363  96.500000\n",
      "119        F.CAPUTO   [SASSUOLO]  0.010142  98.600000\n"
     ]
    }
   ],
   "source": [
    "players['G_M'] = players['G'] / players['M']\n",
    "players = players.sort_values(by='G_M', ascending=False)\n",
    "top_players = players[[\"Name\", \"Team\", \"G_M\"]].head(n=10)\n",
    "top_players['M_G'] = players['M'] / players['G']\n",
    "print(top_players.head(n=10))"
   ]
  },
  {
   "cell_type": "code",
   "execution_count": 17,
   "metadata": {},
   "outputs": [
    {
     "name": "stdout",
     "output_type": "stream",
     "text": [
      "               Name         Team   A\n",
      "17          A.GOMEZ   [ATALANTA]  19\n",
      "119        F.CAPUTO   [SASSUOLO]  19\n",
      "79        D.BERARDI   [SASSUOLO]  16\n",
      "219       K.LASAGNA    [UDINESE]  15\n",
      "199       J.MESSIAS    [CROTONE]  15\n",
      "172    H.MKHITARYAN       [ROMA]  14\n",
      "4         A.BELOTTI     [TORINO]  14\n",
      "345        R.LUKAKU      [INTER]  14\n",
      "131  F.QUAGLIARELLA  [SAMPDORIA]  14\n",
      "251    LUIS ALBERTO      [LAZIO]  14\n"
     ]
    }
   ],
   "source": [
    "players = players.sort_values(by='A', ascending=False)\n",
    "print(players[[\"Name\", \"Team\", \"A\"]].head(n=10))"
   ]
  },
  {
   "cell_type": "code",
   "execution_count": 18,
   "metadata": {},
   "outputs": [
    {
     "name": "stdout",
     "output_type": "stream",
     "text": [
      "               Name             Team       A_M        M_A\n",
      "75        C.RONALDO       [JUVENTUS]  0.069519  14.384615\n",
      "243        L.MURIEL       [ATALANTA]  0.060606  16.500000\n",
      "17          A.GOMEZ       [ATALANTA]  0.049223  20.315789\n",
      "416   Z.IBRAHIMOVIC          [MILAN]  0.044983  22.230769\n",
      "235       L.INSIGNE         [NAPOLI]  0.043269  23.111111\n",
      "406       V.OSIMHEN         [NAPOLI]  0.041801  23.923077\n",
      "15        A.FAVILLI  [HELLAS VERONA]  0.041096  24.333333\n",
      "119        F.CAPUTO       [SASSUOLO]  0.038540  25.947368\n",
      "56           B.DIAZ          [MILAN]  0.038251  26.142857\n",
      "131  F.QUAGLIARELLA      [SAMPDORIA]  0.037534  26.642857\n"
     ]
    }
   ],
   "source": [
    "players['A_M'] = players['A'] / players['M']\n",
    "players = players.sort_values(by='A_M', ascending=False)\n",
    "top_players = players[[\"Name\", \"Team\", \"A_M\"]].head(n=10)\n",
    "top_players['M_A'] = players['M'] / players['A']\n",
    "print(top_players.head(n=10))"
   ]
  },
  {
   "cell_type": "code",
   "execution_count": 23,
   "metadata": {},
   "outputs": [
    {
     "name": "stdout",
     "output_type": "stream",
     "text": [
      "             Name           Team  AS\n",
      "344        R.LEAO        [MILAN]   3\n",
      "172  H.MKHITARYAN         [ROMA]   3\n",
      "93      D.MERTENS       [NAPOLI]   3\n",
      "65      C.BIRAGHI   [FIORENTINA]   3\n",
      "148     G.FERRARI     [SASSUOLO]   2\n",
      "322   P.GHIGLIONE        [GENOA]   2\n",
      "209    JOAO PEDRO     [CAGLIARI]   2\n",
      "303     N.BARELLA        [INTER]   2\n",
      "245  L.PELLEGRINI  [ROMA, GENOA]   2\n",
      "336      R.GOSENS     [ATALANTA]   2\n"
     ]
    }
   ],
   "source": [
    "players = players.sort_values(by='AS', ascending=False)\n",
    "print(players[[\"Name\", \"Team\", \"AS\"]].head(n=10))"
   ]
  },
  {
   "cell_type": "code",
   "execution_count": 24,
   "metadata": {},
   "outputs": [
    {
     "name": "stdout",
     "output_type": "stream",
     "text": [
      "              Name                    Team      AS_M        M_AS\n",
      "344         R.LEAO                 [MILAN]  0.012821   78.000000\n",
      "93       D.MERTENS                [NAPOLI]  0.010274   97.333333\n",
      "116    F.BONAZZOLI     [SAMPDORIA, TORINO]  0.008696  115.000000\n",
      "296      M.VOJVODA                [TORINO]  0.008065  124.000000\n",
      "132       F.RIBERY            [FIORENTINA]  0.007843  127.500000\n",
      "151     G.LAPADULA             [BENEVENTO]  0.007067  141.500000\n",
      "172   H.MKHITARYAN                  [ROMA]  0.006593  151.666667\n",
      "334  R.GAGLIARDINI                 [INTER]  0.006536  153.000000\n",
      "25       A.MARUSIC                 [LAZIO]  0.006390  156.500000\n",
      "121       F.CHIESA  [FIORENTINA, JUVENTUS]  0.006390  156.500000\n"
     ]
    }
   ],
   "source": [
    "players['AS_M'] = players['AS'] / players['M']\n",
    "players = players.sort_values(by='AS_M', ascending=False)\n",
    "top_players = players[[\"Name\", \"Team\", \"AS_M\"]].head(n=10)\n",
    "top_players['M_AS'] = players['M'] / players['AS']\n",
    "print(top_players.head(n=10))"
   ]
  },
  {
   "cell_type": "code",
   "execution_count": 25,
   "metadata": {},
   "outputs": [
    {
     "name": "stdout",
     "output_type": "stream",
     "text": [
      "             Name           Team   BP\n",
      "276   M.LOCATELLI     [SASSUOLO]  529\n",
      "148     G.FERRARI     [SASSUOLO]  470\n",
      "332     R.DE PAUL      [UDINESE]  434\n",
      "401   V.CHIRICHES     [SASSUOLO]  418\n",
      "100        DANILO     [JUVENTUS]  416\n",
      "245  L.PELLEGRINI  [ROMA, GENOA]  399\n",
      "251  LUIS ALBERTO        [LAZIO]  396\n",
      "113      F.ACERBI        [LAZIO]  393\n",
      "81     D.CALABRIA        [MILAN]  393\n",
      "159      G.PATRIC        [LAZIO]  381\n"
     ]
    }
   ],
   "source": [
    "players = players.sort_values(by='BP', ascending=False)\n",
    "print(players[[\"Name\", \"Team\", \"BP\"]].head(n=10))"
   ]
  },
  {
   "cell_type": "code",
   "execution_count": 26,
   "metadata": {},
   "outputs": [
    {
     "name": "stdout",
     "output_type": "stream",
     "text": [
      "            Name        Team      BP_M      M_BP\n",
      "257   M.BROZOVIC     [INTER]  1.104530  0.905363\n",
      "100       DANILO  [JUVENTUS]  1.086162  0.920673\n",
      "276  M.LOCATELLI  [SASSUOLO]  1.073022  0.931947\n",
      "3      A.BASTONI     [INTER]  1.052448  0.950166\n",
      "107      E.HYSAJ    [NAPOLI]  1.038596  0.962838\n",
      "401  V.CHIRICHES  [SASSUOLO]  1.009662  0.990431\n",
      "141  G.CHIELLINI  [JUVENTUS]  1.005650  0.994382\n",
      "290   M.SKRINIAR     [INTER]  0.994350  1.005682\n",
      "218  K.KOULIBALY    [NAPOLI]  0.992167  1.007895\n",
      "135  FABIAN RUIZ    [NAPOLI]  0.991379  1.008696\n"
     ]
    }
   ],
   "source": [
    "players['BP_M'] = players['BP'] / players['M']\n",
    "players = players.sort_values(by='BP_M', ascending=False)\n",
    "top_players = players[[\"Name\", \"Team\", \"BP_M\"]].head(n=10)\n",
    "top_players['M_BP'] = players['M'] / players['BP']\n",
    "print(top_players.head(n=10))"
   ]
  },
  {
   "cell_type": "code",
   "execution_count": 27,
   "metadata": {},
   "outputs": [
    {
     "name": "stdout",
     "output_type": "stream",
     "text": [
      "             Name        Team    P\n",
      "148     G.FERRARI  [SASSUOLO]  391\n",
      "276   M.LOCATELLI  [SASSUOLO]  382\n",
      "401   V.CHIRICHES  [SASSUOLO]  347\n",
      "218   K.KOULIBALY    [NAPOLI]  304\n",
      "100        DANILO  [JUVENTUS]  299\n",
      "159      G.PATRIC     [LAZIO]  295\n",
      "113      F.ACERBI     [LAZIO]  265\n",
      "135   FABIAN RUIZ    [NAPOLI]  264\n",
      "3       A.BASTONI     [INTER]  247\n",
      "145  G.DI LORENZO    [NAPOLI]  247\n"
     ]
    }
   ],
   "source": [
    "players = players.sort_values(by='P', ascending=False)\n",
    "print(players[[\"Name\", \"Team\", \"P\"]].head(n=10))"
   ]
  },
  {
   "cell_type": "code",
   "execution_count": 28,
   "metadata": {},
   "outputs": [
    {
     "name": "stdout",
     "output_type": "stream",
     "text": [
      "            Name        Team       P_M       M_P\n",
      "3      A.BASTONI     [INTER]  0.863636  1.157895\n",
      "401  V.CHIRICHES  [SASSUOLO]  0.838164  1.193084\n",
      "257   M.BROZOVIC     [INTER]  0.836237  1.195833\n",
      "141  G.CHIELLINI  [JUVENTUS]  0.819209  1.220690\n",
      "290   M.SKRINIAR     [INTER]  0.807910  1.237762\n",
      "148    G.FERRARI  [SASSUOLO]  0.804527  1.242967\n",
      "218  K.KOULIBALY    [NAPOLI]  0.793734  1.259868\n",
      "100       DANILO  [JUVENTUS]  0.780679  1.280936\n",
      "276  M.LOCATELLI  [SASSUOLO]  0.774848  1.290576\n",
      "135  FABIAN RUIZ    [NAPOLI]  0.758621  1.318182\n"
     ]
    }
   ],
   "source": [
    "players['P_M'] = players['P'] / players['M']\n",
    "players = players.sort_values(by='P_M', ascending=False)\n",
    "top_players = players[[\"Name\", \"Team\", \"P_M\"]].head(n=10)\n",
    "top_players['M_P'] = players['M'] / players['P']\n",
    "print(top_players.head(n=10))"
   ]
  },
  {
   "cell_type": "code",
   "execution_count": 29,
   "metadata": {},
   "outputs": [
    {
     "name": "stdout",
     "output_type": "stream",
     "text": [
      "             Name        Team         P%\n",
      "99   D.ZAPPACOSTA     [GENOA]  96.500000\n",
      "222     K.MANOLAS    [NAPOLI]  95.250000\n",
      "271      M.GABBIA     [MILAN]  94.666667\n",
      "312     N.NKOULOU    [TORINO]  94.500000\n",
      "51         ARTHUR  [JUVENTUS]  94.333333\n",
      "148     G.FERRARI  [SASSUOLO]  93.800000\n",
      "141   G.CHIELLINI  [JUVENTUS]  93.500000\n",
      "333     R.FREULER  [ATALANTA]  93.333333\n",
      "401   V.CHIRICHES  [SASSUOLO]  93.200000\n",
      "19       A.HAKIMI     [INTER]  93.200000\n"
     ]
    }
   ],
   "source": [
    "players = players.sort_values(by='P%', ascending=False)\n",
    "print(players[[\"Name\", \"Team\", \"P%\"]].head(n=10))"
   ]
  },
  {
   "cell_type": "code",
   "execution_count": 30,
   "metadata": {},
   "outputs": [
    {
     "name": "stdout",
     "output_type": "stream",
     "text": [
      "             Name             Team  KP\n",
      "332     R.DE PAUL        [UDINESE]  10\n",
      "169  H.CALHANOGLU          [MILAN]   9\n",
      "124    F.DJURICIC       [SASSUOLO]   7\n",
      "79      D.BERARDI       [SASSUOLO]   6\n",
      "247  L.SPINAZZOLA           [ROMA]   5\n",
      "385       S.VERDI         [TORINO]   5\n",
      "255      M.BARROW        [BOLOGNA]   5\n",
      "36       A.RAMSEY       [JUVENTUS]   4\n",
      "132      F.RIBERY     [FIORENTINA]   4\n",
      "123     F.DIMARCO  [HELLAS VERONA]   4\n"
     ]
    }
   ],
   "source": [
    "players = players.sort_values(by='KP', ascending=False)\n",
    "print(players[[\"Name\", \"Team\", \"KP\"]].head(n=10))"
   ]
  },
  {
   "cell_type": "code",
   "execution_count": 31,
   "metadata": {},
   "outputs": [
    {
     "name": "stdout",
     "output_type": "stream",
     "text": [
      "             Name          Team      KP_M       M_KP\n",
      "385       S.VERDI      [TORINO]  0.033333  30.000000\n",
      "193      J.ILICIC    [ATALANTA]  0.025000  40.000000\n",
      "169  H.CALHANOGLU       [MILAN]  0.022500  44.444444\n",
      "332     R.DE PAUL     [UDINESE]  0.020790  48.100000\n",
      "36       A.RAMSEY    [JUVENTUS]  0.015686  63.750000\n",
      "132      F.RIBERY  [FIORENTINA]  0.015686  63.750000\n",
      "124    F.DJURICIC    [SASSUOLO]  0.014925  67.000000\n",
      "255      M.BARROW     [BOLOGNA]  0.013774  72.600000\n",
      "197      J.KURTIC       [PARMA]  0.013636  73.333333\n",
      "393    T.BAKAYOKO      [NAPOLI]  0.013245  75.500000\n"
     ]
    }
   ],
   "source": [
    "players['KP_M'] = players['KP'] / players['M']\n",
    "players = players.sort_values(by='KP_M', ascending=False)\n",
    "top_players = players[[\"Name\", \"Team\", \"KP_M\"]].head(n=10)\n",
    "top_players['M_KP'] = players['M'] / players['KP']\n",
    "print(top_players.head(n=10))"
   ]
  },
  {
   "cell_type": "code",
   "execution_count": 32,
   "metadata": {
    "scrolled": true
   },
   "outputs": [
    {
     "name": "stdout",
     "output_type": "stream",
     "text": [
      "            Name             Team  FS\n",
      "199    J.MESSIAS        [CROTONE]  19\n",
      "332    R.DE PAUL        [UDINESE]  18\n",
      "4      A.BELOTTI         [TORINO]  17\n",
      "299   M.ZACCAGNI  [HELLAS VERONA]  15\n",
      "395  T.HERNANDEZ          [MILAN]  15\n",
      "79     D.BERARDI       [SASSUOLO]  13\n",
      "139    G.CAPRARI      [BENEVENTO]  13\n",
      "329        PEDRO           [ROMA]  13\n",
      "228   L.CIGARINI        [CROTONE]  13\n",
      "196      J.KUCKA          [PARMA]  13\n"
     ]
    }
   ],
   "source": [
    "players = players.sort_values(by='FS', ascending=False)\n",
    "print(players[[\"Name\", \"Team\", \"FS\"]].head(n=10))"
   ]
  },
  {
   "cell_type": "code",
   "execution_count": 33,
   "metadata": {
    "scrolled": true
   },
   "outputs": [
    {
     "name": "stdout",
     "output_type": "stream",
     "text": [
      "            Name             Team      FS_M       M_FS\n",
      "299   M.ZACCAGNI  [HELLAS VERONA]  0.050167  19.933333\n",
      "393   T.BAKAYOKO         [NAPOLI]  0.046358  21.571429\n",
      "4      A.BELOTTI         [TORINO]  0.043702  22.882353\n",
      "199    J.MESSIAS        [CROTONE]  0.039501  25.315789\n",
      "158     G.PANDEV          [GENOA]  0.039286  25.454545\n",
      "56        B.DIAZ          [MILAN]  0.038251  26.142857\n",
      "332    R.DE PAUL        [UDINESE]  0.037422  26.722222\n",
      "8    A.CORNELIUS          [PARMA]  0.036199  27.625000\n",
      "171     H.LOZANO         [NAPOLI]  0.036066  27.727273\n",
      "132     F.RIBERY     [FIORENTINA]  0.035294  28.333333\n"
     ]
    }
   ],
   "source": [
    "players['FS_M'] = players['FS'] / players['M']\n",
    "players = players.sort_values(by='FS_M', ascending=False)\n",
    "top_players = players[[\"Name\", \"Team\", \"FS_M\"]].head(n=10)\n",
    "top_players['M_FS'] = players['M'] / players['FS']\n",
    "print(top_players.head(n=10))"
   ]
  },
  {
   "cell_type": "code",
   "execution_count": 34,
   "metadata": {},
   "outputs": [
    {
     "name": "stdout",
     "output_type": "stream",
     "text": [
      "              Name                         Team   R\n",
      "113       F.ACERBI                      [LAZIO]  59\n",
      "365      S.DE MAIO                    [UDINESE]  58\n",
      "248      L.TONELLI                  [SAMPDORIA]  51\n",
      "337       R.IBANEZ                       [ROMA]  50\n",
      "308   N.MILENKOVIC                 [FIORENTINA]  49\n",
      "120   F.CECCHERINI  [FIORENTINA, HELLAS VERONA]  48\n",
      "238     L.MAGALLAN                    [CROTONE]  46\n",
      "70   C.LYKOGIANNIS                   [CAGLIARI]  44\n",
      "293      M.THORSBY                  [SAMPDORIA]  43\n",
      "372        S.KJAER                      [MILAN]  42\n"
     ]
    }
   ],
   "source": [
    "players = players.sort_values(by='R', ascending=False)\n",
    "print(players[[\"Name\", \"Team\", \"R\"]].head(n=10))"
   ]
  },
  {
   "cell_type": "code",
   "execution_count": 35,
   "metadata": {},
   "outputs": [
    {
     "name": "stdout",
     "output_type": "stream",
     "text": [
      "           Name             Team       R_M       M_R\n",
      "254      M.BANI          [GENOA]  0.159509  6.269231\n",
      "217    K.GUNTER  [HELLAS VERONA]  0.153846  6.500000\n",
      "57   B.DJIMSITI       [ATALANTA]  0.140351  7.125000\n",
      "266   M.DEMIRAL       [JUVENTUS]  0.135922  7.357143\n",
      "411     W.HOEDT          [LAZIO]  0.135484  7.380952\n",
      "77     C.ZAPATA          [GENOA]  0.134276  7.447368\n",
      "365   S.DE MAIO        [UDINESE]  0.124464  8.034483\n",
      "113    F.ACERBI          [LAZIO]  0.124211  8.050847\n",
      "248   L.TONELLI      [SAMPDORIA]  0.120000  8.333333\n",
      "316    O.COLLEY      [SAMPDORIA]  0.117647  8.500000\n"
     ]
    }
   ],
   "source": [
    "players['R_M'] = players['R'] / players['M']\n",
    "players = players.sort_values(by='R_M', ascending=False)\n",
    "top_players = players[[\"Name\", \"Team\", \"R_M\"]].head(n=10)\n",
    "top_players['M_R'] = players['M'] / players['R']\n",
    "print(top_players.head(n=10))"
   ]
  },
  {
   "cell_type": "code",
   "execution_count": 36,
   "metadata": {},
   "outputs": [],
   "source": [
    "thisdir = os.getcwd()\n",
    "thisdir += \"/2020-2021/Player Data/Goalkeeper/\"\n",
    "csv_list = []\n",
    "\n",
    "for r, d, f in os.walk(thisdir):\n",
    "    for file in f:\n",
    "        if file.endswith(\".csv\"):\n",
    "            csv_list.append(os.path.join(r, file))\n",
    "\n",
    "csv_list = sorted(csv_list)\n",
    "\n",
    "players = []\n",
    "\n",
    "for csv_file in csv_list:\n",
    "#     print(csv_file)\n",
    "    if csv_file[-5:] == \"/.csv\":\n",
    "        continue\n",
    "    player_data = pd.read_csv(csv_file, encoding='latin-1')\n",
    "    player_data[\"M_played\"] = player_data.apply(lambda row:convert_to_minutes(row), axis=1)\n",
    "    player_data = player_data.astype({'GC':'int32', 'OG':'int32', 'S':'int32', 'STP':'int32', 'SF':'int32', 'FYC':'int32', 'SYC':'int32', 'RC':'int32'})\n",
    "\n",
    "    players.append([player_data[\"Name\"].unique()[0], player_data[\"Team\"].unique(), player_data[\"M_played\"].sum(), player_data[\"GC\"].sum(), player_data[\"OG\"].sum(), player_data[\"S\"].sum(), player_data[\"STP\"].sum(), player_data[\"SF\"].sum(), player_data[\"FYC\"].sum(), player_data[\"SYC\"].sum(), player_data[\"RC\"].sum(), player_data[\"M_played\"].size])\n",
    "\n",
    "players = pd.DataFrame(np.array(players), columns=['Name', 'Team' , 'M', 'GC', 'OG', 'S', 'STP', 'SF', 'FYC', 'SYC', 'RC', 'N'])\n",
    "players = players.astype({'M':'int32', 'GC':'int32', 'OG':'int32', 'S':'int32', 'STP':'int32', 'SF':'int32', 'FYC':'int32', 'SYC':'int32', 'RC':'int32', 'N':'int32'})\n",
    "players = players[players['M'] >= min_time]\n",
    "players = players[players['N'] >= min_games]"
   ]
  },
  {
   "cell_type": "code",
   "execution_count": 37,
   "metadata": {},
   "outputs": [
    {
     "name": "stdout",
     "output_type": "stream",
     "text": [
      "            Name             Team    M\n",
      "0     A.CONSIGLI       [SASSUOLO]  493\n",
      "5    B.DRAGOWSKI     [FIORENTINA]  484\n",
      "17   L.SKORUPSKI        [BOLOGNA]  484\n",
      "15    L.MONTIPO'      [BENEVENTO]  483\n",
      "19   M.SILVESTRI  [HELLAS VERONA]  481\n",
      "1       A.CORDAZ        [CROTONE]  481\n",
      "4      A.MIRANTE           [ROMA]  479\n",
      "24  S.HANDANOVIC          [INTER]  479\n",
      "16        L.SEPE          [PARMA]  478\n",
      "2       A.CRAGNO       [CAGLIARI]  477\n"
     ]
    }
   ],
   "source": [
    "players = players.sort_values(by='M', ascending=False)\n",
    "print(players[[\"Name\", \"Team\", \"M\"]].head(n=10))"
   ]
  },
  {
   "cell_type": "code",
   "execution_count": 38,
   "metadata": {},
   "outputs": [
    {
     "name": "stdout",
     "output_type": "stream",
     "text": [
      "            Name             Team    M_N\n",
      "0     A.CONSIGLI       [SASSUOLO]  98.60\n",
      "25      S.SIRIGU         [TORINO]  97.25\n",
      "5    B.DRAGOWSKI     [FIORENTINA]  96.80\n",
      "17   L.SKORUPSKI        [BOLOGNA]  96.80\n",
      "11  G.DONNARUMMA          [MILAN]  96.75\n",
      "15    L.MONTIPO'      [BENEVENTO]  96.60\n",
      "21       NICOLAS        [UDINESE]  96.50\n",
      "19   M.SILVESTRI  [HELLAS VERONA]  96.20\n",
      "1       A.CORDAZ        [CROTONE]  96.20\n",
      "13       J.MUSSO        [UDINESE]  96.00\n"
     ]
    }
   ],
   "source": [
    "players['M_N'] = players['M'] / players['N']\n",
    "players = players.sort_values(by='M_N', ascending=False)\n",
    "print(players[[\"Name\", \"Team\", \"M_N\"]].head(n=10))"
   ]
  },
  {
   "cell_type": "code",
   "execution_count": 39,
   "metadata": {},
   "outputs": [
    {
     "name": "stdout",
     "output_type": "stream",
     "text": [
      "            Name          Team  GC\n",
      "1       A.CORDAZ     [CROTONE]  15\n",
      "15    L.MONTIPO'   [BENEVENTO]  14\n",
      "20  M.SPORTIELLO    [ATALANTA]  12\n",
      "2       A.CRAGNO    [CAGLIARI]  12\n",
      "25      S.SIRIGU      [TORINO]  11\n",
      "16        L.SEPE       [PARMA]  11\n",
      "5    B.DRAGOWSKI  [FIORENTINA]  10\n",
      "17   L.SKORUPSKI     [BOLOGNA]  10\n",
      "0     A.CONSIGLI    [SASSUOLO]   9\n",
      "8       E.AUDERO   [SAMPDORIA]   8\n"
     ]
    }
   ],
   "source": [
    "players = players.sort_values(by='GC', ascending=False)\n",
    "print(players[[\"Name\", \"Team\", \"GC\"]].head(n=10))"
   ]
  },
  {
   "cell_type": "code",
   "execution_count": 40,
   "metadata": {},
   "outputs": [
    {
     "name": "stdout",
     "output_type": "stream",
     "text": [
      "            Name         Team      GC_M       M_GC\n",
      "1       A.CORDAZ    [CROTONE]  0.031185  32.066667\n",
      "15    L.MONTIPO'  [BENEVENTO]  0.028986  34.500000\n",
      "25      S.SIRIGU     [TORINO]  0.028278  35.363636\n",
      "21       NICOLAS    [UDINESE]  0.025907  38.600000\n",
      "20  M.SPORTIELLO   [ATALANTA]  0.025210  39.666667\n",
      "2       A.CRAGNO   [CAGLIARI]  0.025157  39.750000\n",
      "14        J.ZOET     [SPEZIA]  0.023952  41.750000\n",
      "16        L.SEPE      [PARMA]  0.023013  43.454545\n",
      "26   T.STRAKOSHA      [LAZIO]  0.021108  47.375000\n",
      "12    I.PROVEDEL     [SPEZIA]  0.021053  47.500000\n"
     ]
    }
   ],
   "source": [
    "players['GC_M'] = players['GC'] / players['M']\n",
    "players = players.sort_values(by='GC_M', ascending=False)\n",
    "top_players = players[[\"Name\", \"Team\", \"GC_M\"]].head(n=10)\n",
    "top_players['M_GC'] = players['M'] / players['GC']\n",
    "print(top_players.head(n=10))"
   ]
  },
  {
   "cell_type": "code",
   "execution_count": 41,
   "metadata": {},
   "outputs": [
    {
     "name": "stdout",
     "output_type": "stream",
     "text": [
      "            Name             Team  GC\n",
      "11  G.DONNARUMMA          [MILAN]   1\n",
      "7       D.OSPINA         [NAPOLI]   1\n",
      "3        A.MERET         [NAPOLI]   1\n",
      "19   M.SILVESTRI  [HELLAS VERONA]   2\n",
      "27    W.SZCZESNY       [JUVENTUS]   3\n",
      "18       M.PERIN          [GENOA]   3\n",
      "14        J.ZOET         [SPEZIA]   4\n",
      "13       J.MUSSO        [UDINESE]   4\n",
      "12    I.PROVEDEL         [SPEZIA]   4\n",
      "21       NICOLAS        [UDINESE]   5\n"
     ]
    }
   ],
   "source": [
    "players = players.sort_values(by='GC')\n",
    "print(players[[\"Name\", \"Team\", \"GC\"]].head(n=10))"
   ]
  },
  {
   "cell_type": "code",
   "execution_count": 42,
   "metadata": {},
   "outputs": [
    {
     "name": "stdout",
     "output_type": "stream",
     "text": [
      "            Name             Team      GC_M        M_GC\n",
      "11  G.DONNARUMMA          [MILAN]  0.002584  387.000000\n",
      "19   M.SILVESTRI  [HELLAS VERONA]  0.004158  240.500000\n",
      "7       D.OSPINA         [NAPOLI]  0.005208  192.000000\n",
      "3        A.MERET         [NAPOLI]  0.005236  191.000000\n",
      "27    W.SZCZESNY       [JUVENTUS]  0.010490   95.333333\n",
      "18       M.PERIN          [GENOA]  0.010601   94.333333\n",
      "13       J.MUSSO        [UDINESE]  0.013889   72.000000\n",
      "4      A.MIRANTE           [ROMA]  0.014614   68.428571\n",
      "24  S.HANDANOVIC          [INTER]  0.016701   59.875000\n",
      "8       E.AUDERO      [SAMPDORIA]  0.016949   59.000000\n"
     ]
    }
   ],
   "source": [
    "players['GC_M'] = players['GC'] / players['M']\n",
    "players = players.sort_values(by='GC_M')\n",
    "top_players = players[[\"Name\", \"Team\", \"GC_M\"]].head(n=10)\n",
    "top_players['M_GC'] = players['M'] / players['GC']\n",
    "print(top_players.head(n=10))"
   ]
  },
  {
   "cell_type": "code",
   "execution_count": 43,
   "metadata": {},
   "outputs": [
    {
     "name": "stdout",
     "output_type": "stream",
     "text": [
      "            Name             Team   S\n",
      "2       A.CRAGNO       [CAGLIARI]  28\n",
      "0     A.CONSIGLI       [SASSUOLO]  23\n",
      "19   M.SILVESTRI  [HELLAS VERONA]  21\n",
      "4      A.MIRANTE           [ROMA]  19\n",
      "15    L.MONTIPO'      [BENEVENTO]  18\n",
      "25      S.SIRIGU         [TORINO]  18\n",
      "20  M.SPORTIELLO       [ATALANTA]  18\n",
      "17   L.SKORUPSKI        [BOLOGNA]  18\n",
      "5    B.DRAGOWSKI     [FIORENTINA]  17\n",
      "18       M.PERIN          [GENOA]  17\n"
     ]
    }
   ],
   "source": [
    "players = players.sort_values(by='S', ascending=False)\n",
    "print(players[[\"Name\", \"Team\", \"S\"]].head(n=10))"
   ]
  },
  {
   "cell_type": "code",
   "execution_count": 44,
   "metadata": {},
   "outputs": [
    {
     "name": "stdout",
     "output_type": "stream",
     "text": [
      "            Name             Team       S_M        M_S\n",
      "18       M.PERIN          [GENOA]  0.060071  16.647059\n",
      "2       A.CRAGNO       [CAGLIARI]  0.058700  17.035714\n",
      "0     A.CONSIGLI       [SASSUOLO]  0.046653  21.434783\n",
      "25      S.SIRIGU         [TORINO]  0.046272  21.611111\n",
      "19   M.SILVESTRI  [HELLAS VERONA]  0.043659  22.904762\n",
      "4      A.MIRANTE           [ROMA]  0.039666  25.210526\n",
      "20  M.SPORTIELLO       [ATALANTA]  0.037815  26.444444\n",
      "15    L.MONTIPO'      [BENEVENTO]  0.037267  26.833333\n",
      "17   L.SKORUPSKI        [BOLOGNA]  0.037190  26.888889\n",
      "12    I.PROVEDEL         [SPEZIA]  0.036842  27.142857\n"
     ]
    }
   ],
   "source": [
    "players['S_M'] = players['S'] / players['M']\n",
    "players = players.sort_values(by='S_M', ascending=False)\n",
    "top_players = players[[\"Name\", \"Team\", \"S_M\"]].head(n=10)\n",
    "top_players['M_S'] = players['M'] / players['S']\n",
    "print(top_players.head(n=10))"
   ]
  },
  {
   "cell_type": "code",
   "execution_count": 45,
   "metadata": {},
   "outputs": [
    {
     "name": "stdout",
     "output_type": "stream",
     "text": [
      "            Name          Team  Set_S\n",
      "4      A.MIRANTE        [ROMA]      6\n",
      "0     A.CONSIGLI    [SASSUOLO]      4\n",
      "16        L.SEPE       [PARMA]      3\n",
      "5    B.DRAGOWSKI  [FIORENTINA]      3\n",
      "18       M.PERIN       [GENOA]      2\n",
      "15    L.MONTIPO'   [BENEVENTO]      2\n",
      "11  G.DONNARUMMA       [MILAN]      2\n",
      "24  S.HANDANOVIC       [INTER]      2\n",
      "20  M.SPORTIELLO    [ATALANTA]      2\n",
      "2       A.CRAGNO    [CAGLIARI]      1\n"
     ]
    }
   ],
   "source": [
    "players['Set_S'] = players['STP'] + players['SF']\n",
    "players = players.sort_values(by='Set_S', ascending=False)\n",
    "print(players[[\"Name\", \"Team\", \"Set_S\"]].head(n=10))"
   ]
  }
 ],
 "metadata": {
  "kernelspec": {
   "display_name": "Python 3",
   "language": "python",
   "name": "python3"
  },
  "language_info": {
   "codemirror_mode": {
    "name": "ipython",
    "version": 3
   },
   "file_extension": ".py",
   "mimetype": "text/x-python",
   "name": "python",
   "nbconvert_exporter": "python",
   "pygments_lexer": "ipython3",
   "version": "3.7.4"
  }
 },
 "nbformat": 4,
 "nbformat_minor": 2
}
