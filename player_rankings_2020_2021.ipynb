{
 "cells": [
  {
   "cell_type": "code",
   "execution_count": 1,
   "metadata": {},
   "outputs": [],
   "source": [
    "import os\n",
    "import csv\n",
    "import pandas as pd\n",
    "import numpy as np\n",
    "import math"
   ]
  },
  {
   "cell_type": "code",
   "execution_count": 2,
   "metadata": {},
   "outputs": [
    {
     "name": "stdout",
     "output_type": "stream",
     "text": [
      "480.0\n",
      "5\n"
     ]
    }
   ],
   "source": [
    "thisdir = os.getcwd()\n",
    "thisdir += \"/2020-2021/Player Data/Non-goalkeeper/\"\n",
    "csv_list = []\n",
    "\n",
    "n_games = 16 #total games played\n",
    "min_time = n_games / 3 * 90 #min time played to be eligible\n",
    "min_games = math.floor(n_games / 3) #min games played to be eligible\n",
    "print(min_time)\n",
    "print(min_games)"
   ]
  },
  {
   "cell_type": "code",
   "execution_count": 3,
   "metadata": {},
   "outputs": [],
   "source": [
    "for r, d, f in os.walk(thisdir):\n",
    "    for file in f:\n",
    "        if file.endswith(\".csv\"):\n",
    "            csv_list.append(os.path.join(r, file))\n",
    "\n",
    "csv_list = sorted(csv_list)"
   ]
  },
  {
   "cell_type": "code",
   "execution_count": 4,
   "metadata": {},
   "outputs": [],
   "source": [
    "def convert_to_minutes(row):\n",
    "    return int(row['M'][:-1])\n",
    "\n",
    "def convert_to_int(row, col):\n",
    "    return int(row[col])"
   ]
  },
  {
   "cell_type": "code",
   "execution_count": 5,
   "metadata": {},
   "outputs": [],
   "source": [
    "players = []\n",
    "\n",
    "for csv_file in csv_list:\n",
    "#     print(csv_file)\n",
    "    if csv_file[-5:] == \"/.csv\":\n",
    "        continue\n",
    "    player_data = pd.read_csv(csv_file, encoding='latin-1')\n",
    "    player_data[\"M_played\"] = player_data.apply(lambda row:convert_to_minutes(row), axis=1)\n",
    "    player_data = player_data.astype({'G':'int32', 'OG':'int32', 'A':'int32', 'AT':'int32', 'BS':'int32', 'SC':'int32', 'FS':'int32', 'BP':'int32', 'AS':'int32', 'KP':'int32', 'P':'int32', 'P%':'int32', 'R':'int32', 'FYC':'int32', 'SYC':'int32', 'RC':'int32'})\n",
    "\n",
    "    players.append([player_data[\"Name\"].unique()[0], player_data[\"Team\"].unique(), player_data[\"M_played\"].sum(), player_data[\"G\"].sum(), player_data[\"OG\"].sum(), player_data[\"A\"].sum(), player_data[\"AT\"].sum(), player_data[\"BS\"].sum(), player_data[\"SC\"].sum(), player_data[\"FS\"].sum(), player_data[\"BP\"].sum(), player_data[\"AS\"].sum(), player_data[\"KP\"].sum(), player_data[\"P\"].sum(), player_data[\"P%\"].sum()  / player_data[\"P%\"].size, player_data[\"R\"].sum(), player_data[\"FYC\"].sum(), player_data[\"SYC\"].sum(), player_data[\"RC\"].sum(), player_data[\"M_played\"].size])\n",
    "\n",
    "players = pd.DataFrame(np.array(players), columns=['Name', 'Team' , 'M', 'G', 'OG', 'A', 'AT', 'BS', 'SC', 'FS', 'BP', 'AS', 'KP', 'P', 'P%', 'R', 'FYC', 'SYC', 'RC', \"N\"])\n",
    "players = players.astype({'M':'int32', 'G':'int32', 'OG':'int32', 'A':'int32', 'AT':'int32', 'BS':'int32', 'SC':'int32', 'FS':'int32', 'BP':'int32', 'AS':'int32', 'KP':'int32', 'P':'int32', 'P%':'float', 'R':'int32', 'FYC':'int32', 'SYC':'int32', 'RC':'int32', 'N':'int32'})\n",
    "players = players[players['M'] >= min_time]\n",
    "players = players[players['N'] >= min_games]"
   ]
  },
  {
   "cell_type": "code",
   "execution_count": 6,
   "metadata": {},
   "outputs": [
    {
     "name": "stdout",
     "output_type": "stream",
     "text": [
      "             Name                 Team     M\n",
      "282  L.PELLEGRINI        [ROMA, GENOA]  1814\n",
      "191    G.PEZZELLA  [PARMA, FIORENTINA]  1722\n",
      "252        K.GLIK          [BENEVENTO]  1539\n",
      "460    T.TOMIYASU            [BOLOGNA]  1532\n",
      "268      L.DANILO            [BOLOGNA]  1514\n",
      "232     J.MESSIAS            [CROTONE]  1514\n",
      "415     R.SORIANO            [BOLOGNA]  1495\n",
      "100    D.CALABRIA              [MILAN]  1494\n",
      "243    JOAO PEDRO           [CAGLIARI]  1490\n",
      "459      T.RINCON             [TORINO]  1475\n"
     ]
    }
   ],
   "source": [
    "players = players.sort_values(by='M', ascending=False)\n",
    "print(players[[\"Name\", \"Team\", \"M\"]].head(n=10))"
   ]
  },
  {
   "cell_type": "code",
   "execution_count": 7,
   "metadata": {},
   "outputs": [
    {
     "name": "stdout",
     "output_type": "stream",
     "text": [
      "             Name             Team        M_N\n",
      "79         BREMER         [TORINO]  97.230769\n",
      "294        LYANCO         [TORINO]  96.923077\n",
      "456   T.HERNANDEZ          [MILAN]  96.857143\n",
      "53    A.ROMAGNOLI          [MILAN]  96.833333\n",
      "177     G.FERRARI       [SASSUOLO]  96.466667\n",
      "252        K.GLIK      [BENEVENTO]  96.187500\n",
      "107     D.FARAONI  [HELLAS VERONA]  96.153846\n",
      "174  G.DI LORENZO         [NAPOLI]  95.933333\n",
      "388     R.DE PAUL        [UDINESE]  95.933333\n",
      "358  N.MILENKOVIC     [FIORENTINA]  95.933333\n"
     ]
    }
   ],
   "source": [
    "players['M_N'] = players['M'] / players['N']\n",
    "players = players.sort_values(by='M_N', ascending=False)\n",
    "print(players[[\"Name\", \"Team\", \"M_N\"]].head(n=10))"
   ]
  },
  {
   "cell_type": "code",
   "execution_count": 8,
   "metadata": {},
   "outputs": [
    {
     "name": "stdout",
     "output_type": "stream",
     "text": [
      "              Name        Team   G\n",
      "93       C.RONALDO  [JUVENTUS]  14\n",
      "402       R.LUKAKU     [INTER]  12\n",
      "85      C.IMMOBILE     [LAZIO]  11\n",
      "480  Z.IBRAHIMOVIC     [MILAN]  10\n",
      "243     JOAO PEDRO  [CAGLIARI]  10\n",
      "278     L.MARTINEZ     [INTER]   9\n",
      "5        A.BELOTTI    [TORINO]   9\n",
      "203   H.MKHITARYAN      [ROMA]   8\n",
      "325        M.NZOLA    [SPEZIA]   8\n",
      "98       D.BERARDI  [SASSUOLO]   7\n"
     ]
    }
   ],
   "source": [
    "players = players.sort_values(by='G', ascending=False)\n",
    "print(players[[\"Name\", \"Team\", \"G\"]].head(n=10))"
   ]
  },
  {
   "cell_type": "code",
   "execution_count": 9,
   "metadata": {},
   "outputs": [
    {
     "name": "stdout",
     "output_type": "stream",
     "text": [
      "              Name        Team       G_M         M_G\n",
      "480  Z.IBRAHIMOVIC     [MILAN]  0.017825   56.100000\n",
      "93       C.RONALDO  [JUVENTUS]  0.013333   75.000000\n",
      "402       R.LUKAKU     [INTER]  0.010573   94.583333\n",
      "85      C.IMMOBILE     [LAZIO]  0.009402  106.363636\n",
      "311       M.DESTRO     [GENOA]  0.008666  115.400000\n",
      "141      F.CAICEDO     [LAZIO]  0.007874  127.000000\n",
      "278     L.MARTINEZ     [INTER]  0.007759  128.888889\n",
      "325        M.NZOLA    [SPEZIA]  0.007554  132.375000\n",
      "143       F.CAPUTO  [SASSUOLO]  0.007067  141.500000\n",
      "125        E.DZEKO      [ROMA]  0.006737  148.428571\n"
     ]
    }
   ],
   "source": [
    "players['G_M'] = players['G'] / players['M']\n",
    "players = players.sort_values(by='G_M', ascending=False)\n",
    "top_players = players[[\"Name\", \"Team\", \"G_M\"]].head(n=10)\n",
    "top_players['M_G'] = players['M'] / players['G']\n",
    "print(top_players.head(n=10))"
   ]
  },
  {
   "cell_type": "code",
   "execution_count": 10,
   "metadata": {},
   "outputs": [
    {
     "name": "stdout",
     "output_type": "stream",
     "text": [
      "             Name        Team   A\n",
      "93      C.RONALDO  [JUVENTUS]  52\n",
      "272     L.INSIGNE    [NAPOLI]  50\n",
      "278    L.MARTINEZ     [INTER]  50\n",
      "5       A.BELOTTI    [TORINO]  48\n",
      "200  H.CALHANOGLU     [MILAN]  43\n",
      "203  H.MKHITARYAN      [ROMA]  42\n",
      "232     J.MESSIAS   [CROTONE]  40\n",
      "98      D.BERARDI  [SASSUOLO]  40\n",
      "85     C.IMMOBILE     [LAZIO]  38\n",
      "297      M.BARROW   [BOLOGNA]  38\n"
     ]
    }
   ],
   "source": [
    "players = players.sort_values(by='A', ascending=False)\n",
    "print(players[[\"Name\", \"Team\", \"A\"]].head(n=10))"
   ]
  },
  {
   "cell_type": "code",
   "execution_count": 11,
   "metadata": {},
   "outputs": [
    {
     "name": "stdout",
     "output_type": "stream",
     "text": [
      "              Name        Team       A_M        M_A\n",
      "480  Z.IBRAHIMOVIC     [MILAN]  0.057041  17.531250\n",
      "93       C.RONALDO  [JUVENTUS]  0.049524  20.192308\n",
      "272      L.INSIGNE    [NAPOLI]  0.049068  20.380000\n",
      "469      V.OSIMHEN    [NAPOLI]  0.044625  22.409091\n",
      "373       P.DYBALA  [JUVENTUS]  0.043344  23.071429\n",
      "278     L.MARTINEZ     [INTER]  0.043103  23.200000\n",
      "114      D.MERTENS    [NAPOLI]  0.040843  24.483871\n",
      "332     M.POLITANO    [NAPOLI]  0.039735  25.166667\n",
      "26         A.GOMEZ  [ATALANTA]  0.036075  27.720000\n",
      "5        A.BELOTTI    [TORINO]  0.033684  29.687500\n"
     ]
    }
   ],
   "source": [
    "players['A_M'] = players['A'] / players['M']\n",
    "players = players.sort_values(by='A_M', ascending=False)\n",
    "top_players = players[[\"Name\", \"Team\", \"A_M\"]].head(n=10)\n",
    "top_players['M_A'] = players['M'] / players['A']\n",
    "print(top_players.head(n=10))"
   ]
  },
  {
   "cell_type": "code",
   "execution_count": 13,
   "metadata": {},
   "outputs": [
    {
     "name": "stdout",
     "output_type": "stream",
     "text": [
      "                   Name                    Team  AS\n",
      "203        H.MKHITARYAN                  [ROMA]   7\n",
      "114           D.MERTENS                [NAPOLI]   6\n",
      "200        H.CALHANOGLU                 [MILAN]   6\n",
      "10           A.CANDREVA             [SAMPDORIA]   4\n",
      "353           N.BARELLA                 [INTER]   4\n",
      "299          M.BROZOVIC                 [INTER]   4\n",
      "5             A.BELOTTI                [TORINO]   4\n",
      "225            J.ILICIC              [ATALANTA]   4\n",
      "411           R.PEREYRA               [UDINESE]   4\n",
      "415           R.SORIANO               [BOLOGNA]   4\n",
      "40             A.MORATA              [JUVENTUS]   4\n",
      "129             E.GYASI                [SPEZIA]   4\n",
      "82            C.BIRAGHI            [FIORENTINA]   4\n",
      "398          R.KARSDORP                  [ROMA]   4\n",
      "401              R.LEAO                 [MILAN]   4\n",
      "145            F.CHIESA  [FIORENTINA, JUVENTUS]   4\n",
      "375         P.GHIGLIONE                 [GENOA]   4\n",
      "120            D.ZAPATA              [ATALANTA]   4\n",
      "282        L.PELLEGRINI           [ROMA, GENOA]   4\n",
      "98            D.BERARDI              [SASSUOLO]   4\n",
      "437  S.MILINKOVIC-SAVIC                 [LAZIO]   4\n",
      "305         M.DAMSGAARD             [SAMPDORIA]   3\n",
      "409          R.ORSOLINI               [BOLOGNA]   3\n",
      "56            A.SANCHEZ                 [INTER]   3\n",
      "166           G.CAPRARI             [BENEVENTO]   3\n"
     ]
    }
   ],
   "source": [
    "players = players.sort_values(by='AS', ascending=False)\n",
    "print(players[[\"Name\", \"Team\", \"AS\"]].head(n=25))"
   ]
  },
  {
   "cell_type": "code",
   "execution_count": 14,
   "metadata": {},
   "outputs": [
    {
     "name": "stdout",
     "output_type": "stream",
     "text": [
      "             Name         Team      AS_M        M_AS\n",
      "114     D.MERTENS     [NAPOLI]  0.007905  126.500000\n",
      "225      J.ILICIC   [ATALANTA]  0.006969  143.500000\n",
      "203  H.MKHITARYAN       [ROMA]  0.004791  208.714286\n",
      "48       A.RAMSEY   [JUVENTUS]  0.004762  210.000000\n",
      "40       A.MORATA   [JUVENTUS]  0.004723  211.750000\n",
      "56      A.SANCHEZ      [INTER]  0.004666  214.333333\n",
      "401        R.LEAO      [MILAN]  0.004440  225.250000\n",
      "10     A.CANDREVA  [SAMPDORIA]  0.004367  229.000000\n",
      "421     S.BASTONI     [SPEZIA]  0.004292  233.000000\n",
      "200  H.CALHANOGLU      [MILAN]  0.004213  237.333333\n"
     ]
    }
   ],
   "source": [
    "players['AS_M'] = players['AS'] / players['M']\n",
    "players = players.sort_values(by='AS_M', ascending=False)\n",
    "top_players = players[[\"Name\", \"Team\", \"AS_M\"]].head(n=10)\n",
    "top_players['M_AS'] = players['M'] / players['AS']\n",
    "print(top_players.head(n=10))"
   ]
  },
  {
   "cell_type": "code",
   "execution_count": 15,
   "metadata": {},
   "outputs": [
    {
     "name": "stdout",
     "output_type": "stream",
     "text": [
      "             Name                 Team    BP\n",
      "321   M.LOCATELLI           [SASSUOLO]  1513\n",
      "282  L.PELLEGRINI        [ROMA, GENOA]  1348\n",
      "177     G.FERRARI           [SASSUOLO]  1296\n",
      "174  G.DI LORENZO             [NAPOLI]  1274\n",
      "122        DANILO           [JUVENTUS]  1269\n",
      "388     R.DE PAUL            [UDINESE]  1216\n",
      "100    D.CALABRIA              [MILAN]  1138\n",
      "460    T.TOMIYASU            [BOLOGNA]  1117\n",
      "191    G.PEZZELLA  [PARMA, FIORENTINA]  1114\n",
      "394      R.IBANEZ               [ROMA]  1108\n"
     ]
    }
   ],
   "source": [
    "players = players.sort_values(by='BP', ascending=False)\n",
    "print(players[[\"Name\", \"Team\", \"BP\"]].head(n=10))"
   ]
  },
  {
   "cell_type": "code",
   "execution_count": 16,
   "metadata": {},
   "outputs": [
    {
     "name": "stdout",
     "output_type": "stream",
     "text": [
      "            Name        Team      BP_M      M_BP\n",
      "321  M.LOCATELLI  [SASSUOLO]  1.066996  0.937211\n",
      "66        ARTHUR  [JUVENTUS]  1.020873  0.979554\n",
      "122       DANILO  [JUVENTUS]  0.987549  1.012608\n",
      "299   M.BROZOVIC     [INTER]  0.966085  1.035105\n",
      "254  K.KOULIBALY    [NAPOLI]  0.960109  1.041549\n",
      "386  R.BENTANCUR  [JUVENTUS]  0.955193  1.046908\n",
      "351    MARIO RUI    [NAPOLI]  0.951970  1.050453\n",
      "307    M.DE LIGT  [JUVENTUS]  0.947245  1.055693\n",
      "462  V.CHIRICHES  [SASSUOLO]  0.935730  1.068685\n",
      "162  FABIAN RUIZ    [NAPOLI]  0.933028  1.071780\n"
     ]
    }
   ],
   "source": [
    "players['BP_M'] = players['BP'] / players['M']\n",
    "players = players.sort_values(by='BP_M', ascending=False)\n",
    "top_players = players[[\"Name\", \"Team\", \"BP_M\"]].head(n=10)\n",
    "top_players['M_BP'] = players['M'] / players['BP']\n",
    "print(top_players.head(n=10))"
   ]
  },
  {
   "cell_type": "code",
   "execution_count": 17,
   "metadata": {},
   "outputs": [
    {
     "name": "stdout",
     "output_type": "stream",
     "text": [
      "             Name        Team     P\n",
      "321   M.LOCATELLI  [SASSUOLO]  1090\n",
      "177     G.FERRARI  [SASSUOLO]  1042\n",
      "122        DANILO  [JUVENTUS]   943\n",
      "258     K.MANOLAS    [NAPOLI]   868\n",
      "254   K.KOULIBALY    [NAPOLI]   859\n",
      "174  G.DI LORENZO    [NAPOLI]   842\n",
      "4       A.BASTONI     [INTER]   820\n",
      "162   FABIAN RUIZ    [NAPOLI]   783\n",
      "262     L.BONUCCI  [JUVENTUS]   764\n",
      "394      R.IBANEZ      [ROMA]   748\n"
     ]
    }
   ],
   "source": [
    "players = players.sort_values(by='P', ascending=False)\n",
    "print(players[[\"Name\", \"Team\", \"P\"]].head(n=10))"
   ]
  },
  {
   "cell_type": "code",
   "execution_count": 18,
   "metadata": {},
   "outputs": [
    {
     "name": "stdout",
     "output_type": "stream",
     "text": [
      "            Name        Team       P_M       M_P\n",
      "66        ARTHUR  [JUVENTUS]  0.859583  1.163355\n",
      "254  K.KOULIBALY    [NAPOLI]  0.778785  1.284051\n",
      "307    M.DE LIGT  [JUVENTUS]  0.777257  1.286576\n",
      "321  M.LOCATELLI  [SASSUOLO]  0.768688  1.300917\n",
      "122       DANILO  [JUVENTUS]  0.733852  1.362672\n",
      "462  V.CHIRICHES  [SASSUOLO]  0.728758  1.372197\n",
      "177    G.FERRARI  [SASSUOLO]  0.720111  1.388676\n",
      "162  FABIAN RUIZ    [NAPOLI]  0.718349  1.392082\n",
      "299   M.BROZOVIC     [INTER]  0.708333  1.411765\n",
      "386  R.BENTANCUR  [JUVENTUS]  0.686354  1.456973\n"
     ]
    }
   ],
   "source": [
    "players['P_M'] = players['P'] / players['M']\n",
    "players = players.sort_values(by='P_M', ascending=False)\n",
    "top_players = players[[\"Name\", \"Team\", \"P_M\"]].head(n=10)\n",
    "top_players['M_P'] = players['M'] / players['P']\n",
    "print(top_players.head(n=10))"
   ]
  },
  {
   "cell_type": "code",
   "execution_count": 19,
   "metadata": {},
   "outputs": [
    {
     "name": "stdout",
     "output_type": "stream",
     "text": [
      "            Name        Team         P%\n",
      "66        ARTHUR  [JUVENTUS]  95.333333\n",
      "310    M.DEMIRAL  [JUVENTUS]  94.714286\n",
      "362    N.NKOULOU    [TORINO]  93.750000\n",
      "339   M.SKRINIAR     [INTER]  93.583333\n",
      "307    M.DE LIGT  [JUVENTUS]  93.111111\n",
      "258    K.MANOLAS    [NAPOLI]  93.000000\n",
      "424    S.DE VRIJ     [INTER]  92.142857\n",
      "293  LUIZ FELIPE     [LAZIO]  91.625000\n",
      "241     J.TOLJAN  [SASSUOLO]  91.375000\n",
      "386  R.BENTANCUR  [JUVENTUS]  91.357143\n"
     ]
    }
   ],
   "source": [
    "players = players.sort_values(by='P%', ascending=False)\n",
    "print(players[[\"Name\", \"Team\", \"P%\"]].head(n=10))"
   ]
  },
  {
   "cell_type": "code",
   "execution_count": 20,
   "metadata": {},
   "outputs": [
    {
     "name": "stdout",
     "output_type": "stream",
     "text": [
      "             Name             Team  KP\n",
      "388     R.DE PAUL        [UDINESE]  18\n",
      "282  L.PELLEGRINI    [ROMA, GENOA]  16\n",
      "98      D.BERARDI       [SASSUOLO]  15\n",
      "200  H.CALHANOGLU          [MILAN]  14\n",
      "415     R.SORIANO        [BOLOGNA]  12\n",
      "225      J.ILICIC       [ATALANTA]  11\n",
      "147     F.DIMARCO  [HELLAS VERONA]  10\n",
      "348    M.ZACCAGNI  [HELLAS VERONA]  10\n",
      "203  H.MKHITARYAN           [ROMA]  10\n",
      "286  L.SPINAZZOLA           [ROMA]  10\n",
      "28       A.HAKIMI          [INTER]   9\n",
      "226      J.JANKTO      [SAMPDORIA]   8\n",
      "242    J.VERETOUT           [ROMA]   8\n",
      "211     I.PERISIC          [INTER]   8\n",
      "181     G.LETIZIA      [BENEVENTO]   8\n"
     ]
    }
   ],
   "source": [
    "players = players.sort_values(by='KP', ascending=False)\n",
    "print(players[[\"Name\", \"Team\", \"KP\"]].head(n=15))"
   ]
  },
  {
   "cell_type": "code",
   "execution_count": 21,
   "metadata": {},
   "outputs": [
    {
     "name": "stdout",
     "output_type": "stream",
     "text": [
      "             Name        Team      KP_M        M_KP\n",
      "225      J.ILICIC  [ATALANTA]  0.019164   52.181818\n",
      "80    BRUNO PERES      [ROMA]  0.012727   78.571429\n",
      "388     R.DE PAUL   [UDINESE]  0.012509   79.944444\n",
      "98      D.BERARDI  [SASSUOLO]  0.011062   90.400000\n",
      "44      A.PETAGNA    [NAPOLI]  0.010703   93.428571\n",
      "446       S.VERDI    [TORINO]  0.010219   97.857143\n",
      "26        A.GOMEZ  [ATALANTA]  0.010101   99.000000\n",
      "200  H.CALHANOGLU     [MILAN]  0.009831  101.714286\n",
      "475    W.MCKENNIE  [JUVENTUS]  0.009642  103.714286\n",
      "211     I.PERISIC     [INTER]  0.009368  106.750000\n"
     ]
    }
   ],
   "source": [
    "players['KP_M'] = players['KP'] / players['M']\n",
    "players = players.sort_values(by='KP_M', ascending=False)\n",
    "top_players = players[[\"Name\", \"Team\", \"KP_M\"]].head(n=10)\n",
    "top_players['M_KP'] = players['M'] / players['KP']\n",
    "print(top_players.head(n=10))"
   ]
  },
  {
   "cell_type": "code",
   "execution_count": 22,
   "metadata": {
    "scrolled": true
   },
   "outputs": [
    {
     "name": "stdout",
     "output_type": "stream",
     "text": [
      "              Name             Team  FS\n",
      "5        A.BELOTTI         [TORINO]  65\n",
      "388      R.DE PAUL        [UDINESE]  47\n",
      "348     M.ZACCAGNI  [HELLAS VERONA]  47\n",
      "232      J.MESSIAS        [CROTONE]  41\n",
      "243     JOAO PEDRO       [CAGLIARI]  40\n",
      "410      R.PALACIO        [BOLOGNA]  39\n",
      "159       F.RIBERY     [FIORENTINA]  38\n",
      "168  G.CASTROVILLI     [FIORENTINA]  37\n",
      "202       H.LOZANO         [NAPOLI]  37\n",
      "282   L.PELLEGRINI    [ROMA, GENOA]  36\n"
     ]
    }
   ],
   "source": [
    "players = players.sort_values(by='FS', ascending=False)\n",
    "print(players[[\"Name\", \"Team\", \"FS\"]].head(n=10))"
   ]
  },
  {
   "cell_type": "code",
   "execution_count": 23,
   "metadata": {
    "scrolled": true
   },
   "outputs": [
    {
     "name": "stdout",
     "output_type": "stream",
     "text": [
      "           Name             Team      FS_M       M_FS\n",
      "5     A.BELOTTI         [TORINO]  0.045614  21.923077\n",
      "225    J.ILICIC       [ATALANTA]  0.038328  26.090909\n",
      "348  M.ZACCAGNI  [HELLAS VERONA]  0.037751  26.489362\n",
      "196    G.VILLAR           [ROMA]  0.036496  27.400000\n",
      "159    F.RIBERY     [FIORENTINA]  0.035917  27.842105\n",
      "188    G.PANDEV          [GENOA]  0.035556  28.125000\n",
      "192   G.RAMIREZ      [SAMPDORIA]  0.034202  29.238095\n",
      "202    H.LOZANO         [NAPOLI]  0.033728  29.648649\n",
      "388   R.DE PAUL        [UDINESE]  0.032662  30.617021\n",
      "166   G.CAPRARI      [BENEVENTO]  0.031098  32.156250\n"
     ]
    }
   ],
   "source": [
    "players['FS_M'] = players['FS'] / players['M']\n",
    "players = players.sort_values(by='FS_M', ascending=False)\n",
    "top_players = players[[\"Name\", \"Team\", \"FS_M\"]].head(n=10)\n",
    "top_players['M_FS'] = players['M'] / players['FS']\n",
    "print(top_players.head(n=10))"
   ]
  },
  {
   "cell_type": "code",
   "execution_count": 24,
   "metadata": {},
   "outputs": [
    {
     "name": "stdout",
     "output_type": "stream",
     "text": [
      "             Name                         Team    R\n",
      "460    T.TOMIYASU                    [BOLOGNA]  164\n",
      "394      R.IBANEZ                       [ROMA]  156\n",
      "144  F.CECCHERINI  [FIORENTINA, HELLAS VERONA]  135\n",
      "358  N.MILENKOVIC                 [FIORENTINA]  134\n",
      "191    G.PEZZELLA          [PARMA, FIORENTINA]  128\n",
      "137      F.ACERBI                      [LAZIO]  126\n",
      "79         BREMER                     [TORINO]  126\n",
      "287     L.TONELLI                  [SAMPDORIA]  124\n",
      "67        B.ALVES                      [PARMA]  122\n",
      "268      L.DANILO                    [BOLOGNA]  122\n"
     ]
    }
   ],
   "source": [
    "players = players.sort_values(by='R', ascending=False)\n",
    "print(players[[\"Name\", \"Team\", \"R\"]].head(n=10))"
   ]
  },
  {
   "cell_type": "code",
   "execution_count": 25,
   "metadata": {},
   "outputs": [
    {
     "name": "stdout",
     "output_type": "stream",
     "text": [
      "             Name                         Team       R_M       M_R\n",
      "183     G.MAGNANI              [HELLAS VERONA]  0.172471  5.798077\n",
      "92       C.ROMERO                   [ATALANTA]  0.131723  7.591667\n",
      "423     S.DE MAIO                    [UDINESE]  0.117274  8.527027\n",
      "310     M.DEMIRAL                   [JUVENTUS]  0.115768  8.637931\n",
      "394      R.IBANEZ                       [ROMA]  0.114286  8.750000\n",
      "462   V.CHIRICHES                   [SASSUOLO]  0.113290  8.826923\n",
      "144  F.CECCHERINI  [FIORENTINA, HELLAS VERONA]  0.110837  9.022222\n",
      "368      O.COLLEY                  [SAMPDORIA]  0.110638  9.038462\n",
      "220      J.CHABOT                     [SPEZIA]  0.109845  9.103774\n",
      "474       W.HOEDT                      [LAZIO]  0.108984  9.175676\n"
     ]
    }
   ],
   "source": [
    "players['R_M'] = players['R'] / players['M']\n",
    "players = players.sort_values(by='R_M', ascending=False)\n",
    "top_players = players[[\"Name\", \"Team\", \"R_M\"]].head(n=10)\n",
    "top_players['M_R'] = players['M'] / players['R']\n",
    "print(top_players.head(n=10))"
   ]
  },
  {
   "cell_type": "code",
   "execution_count": 26,
   "metadata": {},
   "outputs": [],
   "source": [
    "thisdir = os.getcwd()\n",
    "thisdir += \"/2020-2021/Player Data/Goalkeeper/\"\n",
    "csv_list = []\n",
    "\n",
    "for r, d, f in os.walk(thisdir):\n",
    "    for file in f:\n",
    "        if file.endswith(\".csv\"):\n",
    "            csv_list.append(os.path.join(r, file))\n",
    "\n",
    "csv_list = sorted(csv_list)\n",
    "\n",
    "players = []\n",
    "\n",
    "for csv_file in csv_list:\n",
    "#     print(csv_file)\n",
    "    if csv_file[-5:] == \"/.csv\":\n",
    "        continue\n",
    "    player_data = pd.read_csv(csv_file, encoding='latin-1')\n",
    "    player_data[\"M_played\"] = player_data.apply(lambda row:convert_to_minutes(row), axis=1)\n",
    "    player_data = player_data.astype({'GC':'int32', 'OG':'int32', 'S':'int32', 'STP':'int32', 'SF':'int32', 'FYC':'int32', 'SYC':'int32', 'RC':'int32'})\n",
    "\n",
    "    players.append([player_data[\"Name\"].unique()[0], player_data[\"Team\"].unique(), player_data[\"M_played\"].sum(), player_data[\"GC\"].sum(), player_data[\"OG\"].sum(), player_data[\"S\"].sum(), player_data[\"STP\"].sum(), player_data[\"SF\"].sum(), player_data[\"FYC\"].sum(), player_data[\"SYC\"].sum(), player_data[\"RC\"].sum(), player_data[\"M_played\"].size])\n",
    "\n",
    "players = pd.DataFrame(np.array(players), columns=['Name', 'Team' , 'M', 'GC', 'OG', 'S', 'STP', 'SF', 'FYC', 'SYC', 'RC', 'N'])\n",
    "players = players.astype({'M':'int32', 'GC':'int32', 'OG':'int32', 'S':'int32', 'STP':'int32', 'SF':'int32', 'FYC':'int32', 'SYC':'int32', 'RC':'int32', 'N':'int32'})\n",
    "players = players[players['M'] >= min_time]\n",
    "players = players[players['N'] >= min_games]"
   ]
  },
  {
   "cell_type": "code",
   "execution_count": 27,
   "metadata": {},
   "outputs": [
    {
     "name": "stdout",
     "output_type": "stream",
     "text": [
      "            Name             Team     M\n",
      "19    L.MONTIPO'      [BENEVENTO]  1539\n",
      "23   M.SILVESTRI  [HELLAS VERONA]  1536\n",
      "7    B.DRAGOWSKI     [FIORENTINA]  1536\n",
      "30  S.HANDANOVIC          [INTER]  1534\n",
      "10      E.AUDERO      [SAMPDORIA]  1531\n",
      "20        L.SEPE          [PARMA]  1530\n",
      "2       A.CRAGNO       [CAGLIARI]  1530\n",
      "1       A.CORDAZ        [CROTONE]  1530\n",
      "0     A.CONSIGLI       [SASSUOLO]  1453\n",
      "14  G.DONNARUMMA          [MILAN]  1451\n"
     ]
    }
   ],
   "source": [
    "players = players.sort_values(by='M', ascending=False)\n",
    "print(players[[\"Name\", \"Team\", \"M\"]].head(n=10))"
   ]
  },
  {
   "cell_type": "code",
   "execution_count": 28,
   "metadata": {},
   "outputs": [
    {
     "name": "stdout",
     "output_type": "stream",
     "text": [
      "            Name             Team        M_N\n",
      "31      S.SIRIGU         [TORINO]  97.428571\n",
      "0     A.CONSIGLI       [SASSUOLO]  96.866667\n",
      "14  G.DONNARUMMA          [MILAN]  96.733333\n",
      "21   L.SKORUPSKI        [BOLOGNA]  96.300000\n",
      "28       P.REINA          [LAZIO]  96.200000\n",
      "19    L.MONTIPO'      [BENEVENTO]  96.187500\n",
      "4        A.MERET         [NAPOLI]  96.166667\n",
      "23   M.SILVESTRI  [HELLAS VERONA]  96.000000\n",
      "7    B.DRAGOWSKI     [FIORENTINA]  96.000000\n",
      "30  S.HANDANOVIC          [INTER]  95.875000\n"
     ]
    }
   ],
   "source": [
    "players['M_N'] = players['M'] / players['N']\n",
    "players = players.sort_values(by='M_N', ascending=False)\n",
    "print(players[[\"Name\", \"Team\", \"M_N\"]].head(n=10))"
   ]
  },
  {
   "cell_type": "code",
   "execution_count": 29,
   "metadata": {},
   "outputs": [
    {
     "name": "stdout",
     "output_type": "stream",
     "text": [
      "           Name          Team  GC\n",
      "1      A.CORDAZ     [CROTONE]  38\n",
      "2      A.CRAGNO    [CAGLIARI]  33\n",
      "20       L.SEPE       [PARMA]  31\n",
      "31     S.SIRIGU      [TORINO]  29\n",
      "19   L.MONTIPO'   [BENEVENTO]  26\n",
      "10     E.AUDERO   [SAMPDORIA]  26\n",
      "16   I.PROVEDEL      [SPEZIA]  24\n",
      "0    A.CONSIGLI    [SASSUOLO]  23\n",
      "7   B.DRAGOWSKI  [FIORENTINA]  23\n",
      "22      M.PERIN       [GENOA]  21\n"
     ]
    }
   ],
   "source": [
    "players = players.sort_values(by='GC', ascending=False)\n",
    "print(players[[\"Name\", \"Team\", \"GC\"]].head(n=10))"
   ]
  },
  {
   "cell_type": "code",
   "execution_count": 30,
   "metadata": {},
   "outputs": [
    {
     "name": "stdout",
     "output_type": "stream",
     "text": [
      "            Name         Team      GC_M       M_GC\n",
      "1       A.CORDAZ    [CROTONE]  0.024837  40.263158\n",
      "24  M.SPORTIELLO   [ATALANTA]  0.021645  46.200000\n",
      "2       A.CRAGNO   [CAGLIARI]  0.021569  46.363636\n",
      "31      S.SIRIGU     [TORINO]  0.021261  47.034483\n",
      "32   T.STRAKOSHA      [LAZIO]  0.020906  47.833333\n",
      "20        L.SEPE      [PARMA]  0.020261  49.354839\n",
      "16    I.PROVEDEL     [SPEZIA]  0.019308  51.791667\n",
      "21   L.SKORUPSKI    [BOLOGNA]  0.017653  56.647059\n",
      "10      E.AUDERO  [SAMPDORIA]  0.016982  58.884615\n",
      "22       M.PERIN      [GENOA]  0.016935  59.047619\n"
     ]
    }
   ],
   "source": [
    "players['GC_M'] = players['GC'] / players['M']\n",
    "players = players.sort_values(by='GC_M', ascending=False)\n",
    "top_players = players[[\"Name\", \"Team\", \"GC_M\"]].head(n=10)\n",
    "top_players['M_GC'] = players['M'] / players['GC']\n",
    "print(top_players.head(n=10))"
   ]
  },
  {
   "cell_type": "code",
   "execution_count": 31,
   "metadata": {},
   "outputs": [
    {
     "name": "stdout",
     "output_type": "stream",
     "text": [
      "            Name             Team  GC\n",
      "27       P.LOPEZ           [ROMA]   5\n",
      "26     P.GOLLINI       [ATALANTA]   6\n",
      "4        A.MERET         [NAPOLI]   6\n",
      "9       D.OSPINA         [NAPOLI]   9\n",
      "32   T.STRAKOSHA          [LAZIO]  12\n",
      "34    W.SZCZESNY       [JUVENTUS]  13\n",
      "28       P.REINA          [LAZIO]  13\n",
      "24  M.SPORTIELLO       [ATALANTA]  15\n",
      "23   M.SILVESTRI  [HELLAS VERONA]  15\n",
      "14  G.DONNARUMMA          [MILAN]  16\n"
     ]
    }
   ],
   "source": [
    "players = players.sort_values(by='GC')\n",
    "print(players[[\"Name\", \"Team\", \"GC\"]].head(n=10))"
   ]
  },
  {
   "cell_type": "code",
   "execution_count": 32,
   "metadata": {},
   "outputs": [
    {
     "name": "stdout",
     "output_type": "stream",
     "text": [
      "            Name             Team      GC_M        M_GC\n",
      "26     P.GOLLINI       [ATALANTA]  0.008219  121.666667\n",
      "23   M.SILVESTRI  [HELLAS VERONA]  0.009766  102.400000\n",
      "27       P.LOPEZ           [ROMA]  0.010142   98.600000\n",
      "4        A.MERET         [NAPOLI]  0.010399   96.166667\n",
      "9       D.OSPINA         [NAPOLI]  0.010441   95.777778\n",
      "14  G.DONNARUMMA          [MILAN]  0.011027   90.687500\n",
      "34    W.SZCZESNY       [JUVENTUS]  0.012334   81.076923\n",
      "28       P.REINA          [LAZIO]  0.013514   74.000000\n",
      "30  S.HANDANOVIC          [INTER]  0.013690   73.047619\n",
      "17       J.MUSSO        [UDINESE]  0.014446   69.222222\n"
     ]
    }
   ],
   "source": [
    "players['GC_M'] = players['GC'] / players['M']\n",
    "players = players.sort_values(by='GC_M')\n",
    "top_players = players[[\"Name\", \"Team\", \"GC_M\"]].head(n=10)\n",
    "top_players['M_GC'] = players['M'] / players['GC']\n",
    "print(top_players.head(n=10))"
   ]
  },
  {
   "cell_type": "code",
   "execution_count": 33,
   "metadata": {},
   "outputs": [
    {
     "name": "stdout",
     "output_type": "stream",
     "text": [
      "            Name             Team   S\n",
      "2       A.CRAGNO       [CAGLIARI]  77\n",
      "20        L.SEPE          [PARMA]  60\n",
      "10      E.AUDERO      [SAMPDORIA]  60\n",
      "23   M.SILVESTRI  [HELLAS VERONA]  55\n",
      "0     A.CONSIGLI       [SASSUOLO]  53\n",
      "1       A.CORDAZ        [CROTONE]  53\n",
      "14  G.DONNARUMMA          [MILAN]  51\n",
      "7    B.DRAGOWSKI     [FIORENTINA]  48\n",
      "22       M.PERIN          [GENOA]  45\n",
      "19    L.MONTIPO'      [BENEVENTO]  41\n"
     ]
    }
   ],
   "source": [
    "players = players.sort_values(by='S', ascending=False)\n",
    "print(players[[\"Name\", \"Team\", \"S\"]].head(n=10))"
   ]
  },
  {
   "cell_type": "code",
   "execution_count": 34,
   "metadata": {},
   "outputs": [
    {
     "name": "stdout",
     "output_type": "stream",
     "text": [
      "            Name             Team       S_M        M_S\n",
      "2       A.CRAGNO       [CAGLIARI]  0.050327  19.870130\n",
      "20        L.SEPE          [PARMA]  0.039216  25.500000\n",
      "10      E.AUDERO      [SAMPDORIA]  0.039190  25.516667\n",
      "28       P.REINA          [LAZIO]  0.038462  26.000000\n",
      "0     A.CONSIGLI       [SASSUOLO]  0.036476  27.415094\n",
      "22       M.PERIN          [GENOA]  0.036290  27.555556\n",
      "23   M.SILVESTRI  [HELLAS VERONA]  0.035807  27.927273\n",
      "14  G.DONNARUMMA          [MILAN]  0.035148  28.450980\n",
      "1       A.CORDAZ        [CROTONE]  0.034641  28.867925\n",
      "21   L.SKORUPSKI        [BOLOGNA]  0.032191  31.064516\n"
     ]
    }
   ],
   "source": [
    "players['S_M'] = players['S'] / players['M']\n",
    "players = players.sort_values(by='S_M', ascending=False)\n",
    "top_players = players[[\"Name\", \"Team\", \"S_M\"]].head(n=10)\n",
    "top_players['M_S'] = players['M'] / players['S']\n",
    "print(top_players.head(n=10))"
   ]
  },
  {
   "cell_type": "code",
   "execution_count": 35,
   "metadata": {},
   "outputs": [
    {
     "name": "stdout",
     "output_type": "stream",
     "text": [
      "            Name             Team  Set_S\n",
      "0     A.CONSIGLI       [SASSUOLO]     10\n",
      "2       A.CRAGNO       [CAGLIARI]      9\n",
      "20        L.SEPE          [PARMA]      9\n",
      "7    B.DRAGOWSKI     [FIORENTINA]      9\n",
      "14  G.DONNARUMMA          [MILAN]      8\n",
      "5      A.MIRANTE           [ROMA]      7\n",
      "28       P.REINA          [LAZIO]      6\n",
      "1       A.CORDAZ        [CROTONE]      5\n",
      "16    I.PROVEDEL         [SPEZIA]      5\n",
      "23   M.SILVESTRI  [HELLAS VERONA]      5\n"
     ]
    }
   ],
   "source": [
    "players['Set_S'] = players['STP'] + players['SF']\n",
    "players = players.sort_values(by='Set_S', ascending=False)\n",
    "print(players[[\"Name\", \"Team\", \"Set_S\"]].head(n=10))"
   ]
  }
 ],
 "metadata": {
  "kernelspec": {
   "display_name": "Python 3",
   "language": "python",
   "name": "python3"
  },
  "language_info": {
   "codemirror_mode": {
    "name": "ipython",
    "version": 3
   },
   "file_extension": ".py",
   "mimetype": "text/x-python",
   "name": "python",
   "nbconvert_exporter": "python",
   "pygments_lexer": "ipython3",
   "version": "3.7.4"
  }
 },
 "nbformat": 4,
 "nbformat_minor": 2
}
