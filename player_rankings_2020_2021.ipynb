{
 "cells": [
  {
   "cell_type": "code",
   "execution_count": 1,
   "metadata": {},
   "outputs": [],
   "source": [
    "import os\n",
    "import csv\n",
    "import pandas as pd\n",
    "import numpy as np\n",
    "import math"
   ]
  },
  {
   "cell_type": "code",
   "execution_count": 2,
   "metadata": {},
   "outputs": [
    {
     "name": "stdout",
     "output_type": "stream",
     "text": [
      "360.0\n",
      "6\n"
     ]
    }
   ],
   "source": [
    "thisdir = os.getcwd()\n",
    "thisdir += \"/2020-2021/Player Data/Non-goalkeeper/\"\n",
    "csv_list = []\n",
    "\n",
    "n_games = 12 #total games played\n",
    "min_time = n_games / 3 * 90 #min time played to be eligible\n",
    "min_games = math.floor(n_games / 2) #min games played to be eligible\n",
    "print(min_time)\n",
    "print(min_games)"
   ]
  },
  {
   "cell_type": "code",
   "execution_count": 3,
   "metadata": {},
   "outputs": [],
   "source": [
    "for r, d, f in os.walk(thisdir):\n",
    "    for file in f:\n",
    "        if file.endswith(\".csv\"):\n",
    "            csv_list.append(os.path.join(r, file))\n",
    "\n",
    "csv_list = sorted(csv_list)"
   ]
  },
  {
   "cell_type": "code",
   "execution_count": 4,
   "metadata": {},
   "outputs": [],
   "source": [
    "def convert_to_minutes(row):\n",
    "    return int(row['M'][:-1])\n",
    "\n",
    "def convert_to_int(row, col):\n",
    "    return int(row[col])"
   ]
  },
  {
   "cell_type": "code",
   "execution_count": 5,
   "metadata": {},
   "outputs": [],
   "source": [
    "players = []\n",
    "\n",
    "for csv_file in csv_list:\n",
    "#     print(csv_file)\n",
    "    if csv_file[-5:] == \"/.csv\":\n",
    "        continue\n",
    "    player_data = pd.read_csv(csv_file, encoding='latin-1')\n",
    "    player_data[\"M_played\"] = player_data.apply(lambda row:convert_to_minutes(row), axis=1)\n",
    "    player_data = player_data.astype({'G':'int32', 'OG':'int32', 'A':'int32', 'AT':'int32', 'BS':'int32', 'SC':'int32', 'FS':'int32', 'BP':'int32', 'AS':'int32', 'KP':'int32', 'P':'int32', 'P%':'int32', 'R':'int32', 'FYC':'int32', 'SYC':'int32', 'RC':'int32'})\n",
    "\n",
    "    players.append([player_data[\"Name\"].unique()[0], player_data[\"Team\"].unique(), player_data[\"M_played\"].sum(), player_data[\"G\"].sum(), player_data[\"OG\"].sum(), player_data[\"A\"].sum(), player_data[\"AT\"].sum(), player_data[\"BS\"].sum(), player_data[\"SC\"].sum(), player_data[\"FS\"].sum(), player_data[\"BP\"].sum(), player_data[\"AS\"].sum(), player_data[\"KP\"].sum(), player_data[\"P\"].sum(), player_data[\"P%\"].sum()  / player_data[\"P%\"].size, player_data[\"R\"].sum(), player_data[\"FYC\"].sum(), player_data[\"SYC\"].sum(), player_data[\"RC\"].sum(), player_data[\"M_played\"].size])\n",
    "\n",
    "players = pd.DataFrame(np.array(players), columns=['Name', 'Team' , 'M', 'G', 'OG', 'A', 'AT', 'BS', 'SC', 'FS', 'BP', 'AS', 'KP', 'P', 'P%', 'R', 'FYC', 'SYC', 'RC', \"N\"])\n",
    "players = players.astype({'M':'int32', 'G':'int32', 'OG':'int32', 'A':'int32', 'AT':'int32', 'BS':'int32', 'SC':'int32', 'FS':'int32', 'BP':'int32', 'AS':'int32', 'KP':'int32', 'P':'int32', 'P%':'float', 'R':'int32', 'FYC':'int32', 'SYC':'int32', 'RC':'int32', 'N':'int32'})\n",
    "players = players[players['M'] >= min_time]\n",
    "players = players[players['N'] >= min_games]"
   ]
  },
  {
   "cell_type": "code",
   "execution_count": 6,
   "metadata": {},
   "outputs": [
    {
     "name": "stdout",
     "output_type": "stream",
     "text": [
      "             Name                 Team     M\n",
      "275  L.PELLEGRINI        [ROMA, GENOA]  1586\n",
      "186    G.PEZZELLA  [PARMA, FIORENTINA]  1281\n",
      "349  N.MILENKOVIC         [FIORENTINA]  1156\n",
      "450    T.TOMIYASU            [BOLOGNA]  1154\n",
      "312   M.LOCATELLI           [SASSUOLO]  1151\n",
      "245        K.GLIK          [BENEVENTO]  1151\n",
      "226     J.MESSIAS            [CROTONE]  1138\n",
      "261      L.DANILO            [BOLOGNA]  1136\n",
      "97     D.CALABRIA              [MILAN]  1134\n",
      "441          SIMY            [CROTONE]  1133\n"
     ]
    }
   ],
   "source": [
    "players = players.sort_values(by='M', ascending=False)\n",
    "print(players[[\"Name\", \"Team\", \"M\"]].head(n=10))"
   ]
  },
  {
   "cell_type": "code",
   "execution_count": 7,
   "metadata": {},
   "outputs": [
    {
     "name": "stdout",
     "output_type": "stream",
     "text": [
      "             Name             Team        M_N\n",
      "76         BREMER         [TORINO]  97.444444\n",
      "285        LYANCO         [TORINO]  97.100000\n",
      "446   T.HERNANDEZ          [MILAN]  96.636364\n",
      "51    A.ROMAGNOLI          [MILAN]  96.500000\n",
      "173     G.FERRARI       [SASSUOLO]  96.363636\n",
      "349  N.MILENKOVIC     [FIORENTINA]  96.333333\n",
      "450    T.TOMIYASU        [BOLOGNA]  96.166667\n",
      "104     D.FARAONI  [HELLAS VERONA]  96.111111\n",
      "378     R.DE PAUL        [UDINESE]  96.090909\n",
      "170  G.DI LORENZO         [NAPOLI]  96.090909\n"
     ]
    }
   ],
   "source": [
    "players['M_N'] = players['M'] / players['N']\n",
    "players = players.sort_values(by='M_N', ascending=False)\n",
    "print(players[[\"Name\", \"Team\", \"M_N\"]].head(n=10))"
   ]
  },
  {
   "cell_type": "code",
   "execution_count": 8,
   "metadata": {},
   "outputs": [
    {
     "name": "stdout",
     "output_type": "stream",
     "text": [
      "              Name        Team   G\n",
      "90       C.RONALDO  [JUVENTUS]  10\n",
      "392       R.LUKAKU     [INTER]  10\n",
      "469  Z.IBRAHIMOVIC     [MILAN]  10\n",
      "5        A.BELOTTI    [TORINO]   9\n",
      "198   H.MKHITARYAN      [ROMA]   7\n",
      "82      C.IMMOBILE     [LAZIO]   7\n",
      "236     J.VERETOUT      [ROMA]   6\n",
      "197       H.LOZANO    [NAPOLI]   6\n",
      "316        M.NZOLA    [SPEZIA]   6\n",
      "237     JOAO PEDRO  [CAGLIARI]   6\n"
     ]
    }
   ],
   "source": [
    "players = players.sort_values(by='G', ascending=False)\n",
    "print(players[[\"Name\", \"Team\", \"G\"]].head(n=10))"
   ]
  },
  {
   "cell_type": "code",
   "execution_count": 9,
   "metadata": {},
   "outputs": [
    {
     "name": "stdout",
     "output_type": "stream",
     "text": [
      "              Name        Team       G_M         M_G\n",
      "469  Z.IBRAHIMOVIC     [MILAN]  0.017825   56.100000\n",
      "90       C.RONALDO  [JUVENTUS]  0.014577   68.600000\n",
      "392       R.LUKAKU     [INTER]  0.011792   84.800000\n",
      "138      F.CAICEDO     [LAZIO]  0.009434  106.000000\n",
      "316        M.NZOLA    [SPEZIA]  0.008708  114.833333\n",
      "5        A.BELOTTI    [TORINO]  0.008604  116.222222\n",
      "82      C.IMMOBILE     [LAZIO]  0.008464  118.142857\n",
      "140       F.CAPUTO  [SASSUOLO]  0.008278  120.800000\n",
      "42       A.PETAGNA    [NAPOLI]  0.008219  121.666667\n",
      "197       H.LOZANO    [NAPOLI]  0.007500  133.333333\n"
     ]
    }
   ],
   "source": [
    "players['G_M'] = players['G'] / players['M']\n",
    "players = players.sort_values(by='G_M', ascending=False)\n",
    "top_players = players[[\"Name\", \"Team\", \"G_M\"]].head(n=10)\n",
    "top_players['M_G'] = players['M'] / players['G']\n",
    "print(top_players.head(n=10))"
   ]
  },
  {
   "cell_type": "code",
   "execution_count": 10,
   "metadata": {},
   "outputs": [
    {
     "name": "stdout",
     "output_type": "stream",
     "text": [
      "              Name         Team   A\n",
      "90       C.RONALDO   [JUVENTUS]  38\n",
      "198   H.MKHITARYAN       [ROMA]  36\n",
      "469  Z.IBRAHIMOVIC      [MILAN]  32\n",
      "5        A.BELOTTI     [TORINO]  32\n",
      "288       M.BARROW    [BOLOGNA]  31\n",
      "176     G.LAPADULA  [BENEVENTO]  31\n",
      "111      D.MERTENS     [NAPOLI]  31\n",
      "195   H.CALHANOGLU      [MILAN]  30\n",
      "271     L.MARTINEZ      [INTER]  30\n",
      "226      J.MESSIAS    [CROTONE]  29\n"
     ]
    }
   ],
   "source": [
    "players = players.sort_values(by='A', ascending=False)\n",
    "print(players[[\"Name\", \"Team\", \"A\"]].head(n=10))"
   ]
  },
  {
   "cell_type": "code",
   "execution_count": 11,
   "metadata": {},
   "outputs": [
    {
     "name": "stdout",
     "output_type": "stream",
     "text": [
      "              Name         Team       A_M        M_A\n",
      "469  Z.IBRAHIMOVIC      [MILAN]  0.057041  17.531250\n",
      "90       C.RONALDO   [JUVENTUS]  0.055394  18.052632\n",
      "364       P.DYBALA   [JUVENTUS]  0.047131  21.217391\n",
      "458      V.OSIMHEN     [NAPOLI]  0.044625  22.409091\n",
      "323     M.POLITANO     [NAPOLI]  0.040964  24.411765\n",
      "111      D.MERTENS     [NAPOLI]  0.040843  24.483871\n",
      "265      L.INSIGNE     [NAPOLI]  0.039617  25.241379\n",
      "176     G.LAPADULA  [BENEVENTO]  0.038945  25.677419\n",
      "271     L.MARTINEZ      [INTER]  0.038314  26.100000\n",
      "24         A.GOMEZ   [ATALANTA]  0.036075  27.720000\n"
     ]
    }
   ],
   "source": [
    "players['A_M'] = players['A'] / players['M']\n",
    "players = players.sort_values(by='A_M', ascending=False)\n",
    "top_players = players[[\"Name\", \"Team\", \"A_M\"]].head(n=10)\n",
    "top_players['M_A'] = players['M'] / players['A']\n",
    "print(top_players.head(n=10))"
   ]
  },
  {
   "cell_type": "code",
   "execution_count": 12,
   "metadata": {},
   "outputs": [
    {
     "name": "stdout",
     "output_type": "stream",
     "text": [
      "             Name                    Team  AS\n",
      "111     D.MERTENS                [NAPOLI]   6\n",
      "198  H.MKHITARYAN                  [ROMA]   5\n",
      "405     R.SORIANO               [BOLOGNA]   4\n",
      "275  L.PELLEGRINI           [ROMA, GENOA]   4\n",
      "401     R.PEREYRA               [UDINESE]   4\n",
      "95      D.BERARDI              [SASSUOLO]   4\n",
      "142      F.CHIESA  [FIORENTINA, JUVENTUS]   4\n",
      "344     N.BARELLA                 [INTER]   4\n",
      "126       E.GYASI                [SPEZIA]   3\n",
      "137   F.BONAZZOLI     [SAMPDORIA, TORINO]   3\n",
      "79      C.BIRAGHI            [FIORENTINA]   3\n",
      "53      A.SANCHEZ                 [INTER]   3\n",
      "391        R.LEAO                 [MILAN]   3\n",
      "193       G.ZAPPA              [CAGLIARI]   3\n",
      "195  H.CALHANOGLU                 [MILAN]   3\n"
     ]
    }
   ],
   "source": [
    "players = players.sort_values(by='AS', ascending=False)\n",
    "print(players[[\"Name\", \"Team\", \"AS\"]].head(n=15))"
   ]
  },
  {
   "cell_type": "code",
   "execution_count": 13,
   "metadata": {},
   "outputs": [
    {
     "name": "stdout",
     "output_type": "stream",
     "text": [
      "             Name                    Team      AS_M        M_AS\n",
      "111     D.MERTENS                [NAPOLI]  0.007905  126.500000\n",
      "137   F.BONAZZOLI     [SAMPDORIA, TORINO]  0.006912  144.666667\n",
      "391        R.LEAO                 [MILAN]  0.005703  175.333333\n",
      "142      F.CHIESA  [FIORENTINA, JUVENTUS]  0.005340  187.250000\n",
      "53      A.SANCHEZ                 [INTER]  0.005263  190.000000\n",
      "401     R.PEREYRA               [UDINESE]  0.005044  198.250000\n",
      "461       V.VERRE             [SAMPDORIA]  0.005025  199.000000\n",
      "323    M.POLITANO                [NAPOLI]  0.004819  207.500000\n",
      "436       S.VERDI                [TORINO]  0.004695  213.000000\n",
      "198  H.MKHITARYAN                  [ROMA]  0.004484  223.000000\n"
     ]
    }
   ],
   "source": [
    "players['AS_M'] = players['AS'] / players['M']\n",
    "players = players.sort_values(by='AS_M', ascending=False)\n",
    "top_players = players[[\"Name\", \"Team\", \"AS_M\"]].head(n=10)\n",
    "top_players['M_AS'] = players['M'] / players['AS']\n",
    "print(top_players.head(n=10))"
   ]
  },
  {
   "cell_type": "code",
   "execution_count": 14,
   "metadata": {},
   "outputs": [
    {
     "name": "stdout",
     "output_type": "stream",
     "text": [
      "             Name           Team    BP\n",
      "312   M.LOCATELLI     [SASSUOLO]  1228\n",
      "275  L.PELLEGRINI  [ROMA, GENOA]  1191\n",
      "247   K.KOULIBALY       [NAPOLI]  1004\n",
      "173     G.FERRARI     [SASSUOLO]   950\n",
      "97     D.CALABRIA        [MILAN]   934\n",
      "170  G.DI LORENZO       [NAPOLI]   934\n",
      "119        DANILO     [JUVENTUS]   923\n",
      "217    J.CUADRADO     [JUVENTUS]   909\n",
      "378     R.DE PAUL      [UDINESE]   892\n",
      "79      C.BIRAGHI   [FIORENTINA]   876\n"
     ]
    }
   ],
   "source": [
    "players = players.sort_values(by='BP', ascending=False)\n",
    "print(players[[\"Name\", \"Team\", \"BP\"]].head(n=10))"
   ]
  },
  {
   "cell_type": "code",
   "execution_count": 15,
   "metadata": {},
   "outputs": [
    {
     "name": "stdout",
     "output_type": "stream",
     "text": [
      "            Name        Team      BP_M      M_BP\n",
      "312  M.LOCATELLI  [SASSUOLO]  1.066898  0.937296\n",
      "102      D.DEMME    [NAPOLI]  1.056872  0.946188\n",
      "63        ARTHUR  [JUVENTUS]  1.031381  0.969574\n",
      "290   M.BROZOVIC     [INTER]  1.019174  0.981187\n",
      "119       DANILO  [JUVENTUS]  0.991407  1.008667\n",
      "452  V.CHIRICHES  [SASSUOLO]  0.980952  1.019417\n",
      "247  K.KOULIBALY    [NAPOLI]  0.958930  1.042829\n",
      "158  FABIAN RUIZ    [NAPOLI]  0.947103  1.055851\n",
      "342    MARIO RUI    [NAPOLI]  0.927239  1.078471\n",
      "343       MARLON  [SASSUOLO]  0.925414  1.080597\n"
     ]
    }
   ],
   "source": [
    "players['BP_M'] = players['BP'] / players['M']\n",
    "players = players.sort_values(by='BP_M', ascending=False)\n",
    "top_players = players[[\"Name\", \"Team\", \"BP_M\"]].head(n=10)\n",
    "top_players['M_BP'] = players['M'] / players['BP']\n",
    "print(top_players.head(n=10))"
   ]
  },
  {
   "cell_type": "code",
   "execution_count": 16,
   "metadata": {},
   "outputs": [
    {
     "name": "stdout",
     "output_type": "stream",
     "text": [
      "             Name           Team    P\n",
      "312   M.LOCATELLI     [SASSUOLO]  890\n",
      "247   K.KOULIBALY       [NAPOLI]  814\n",
      "173     G.FERRARI     [SASSUOLO]  773\n",
      "119        DANILO     [JUVENTUS]  685\n",
      "251     K.MANOLAS       [NAPOLI]  638\n",
      "349  N.MILENKOVIC   [FIORENTINA]  626\n",
      "170  G.DI LORENZO       [NAPOLI]  622\n",
      "275  L.PELLEGRINI  [ROMA, GENOA]  602\n",
      "4       A.BASTONI        [INTER]  580\n",
      "452   V.CHIRICHES     [SASSUOLO]  580\n"
     ]
    }
   ],
   "source": [
    "players = players.sort_values(by='P', ascending=False)\n",
    "print(players[[\"Name\", \"Team\", \"P\"]].head(n=10))"
   ]
  },
  {
   "cell_type": "code",
   "execution_count": 17,
   "metadata": {},
   "outputs": [
    {
     "name": "stdout",
     "output_type": "stream",
     "text": [
      "            Name        Team       P_M       M_P\n",
      "102      D.DEMME    [NAPOLI]  0.879147  1.137466\n",
      "63        ARTHUR  [JUVENTUS]  0.864017  1.157385\n",
      "452  V.CHIRICHES  [SASSUOLO]  0.789116  1.267241\n",
      "343       MARLON  [SASSUOLO]  0.787293  1.270175\n",
      "290   M.BROZOVIC     [INTER]  0.781711  1.279245\n",
      "247  K.KOULIBALY    [NAPOLI]  0.777459  1.286241\n",
      "312  M.LOCATELLI  [SASSUOLO]  0.773241  1.293258\n",
      "119       DANILO  [JUVENTUS]  0.735768  1.359124\n",
      "173    G.FERRARI  [SASSUOLO]  0.729245  1.371281\n",
      "158  FABIAN RUIZ    [NAPOLI]  0.722922  1.383275\n"
     ]
    }
   ],
   "source": [
    "players['P_M'] = players['P'] / players['M']\n",
    "players = players.sort_values(by='P_M', ascending=False)\n",
    "top_players = players[[\"Name\", \"Team\", \"P_M\"]].head(n=10)\n",
    "top_players['M_P'] = players['M'] / players['P']\n",
    "print(top_players.head(n=10))"
   ]
  },
  {
   "cell_type": "code",
   "execution_count": 18,
   "metadata": {},
   "outputs": [
    {
     "name": "stdout",
     "output_type": "stream",
     "text": [
      "            Name        Team         P%\n",
      "63        ARTHUR  [JUVENTUS]  95.000000\n",
      "301    M.DEMIRAL  [JUVENTUS]  93.833333\n",
      "353    N.NKOULOU    [TORINO]  93.750000\n",
      "330   M.SKRINIAR     [INTER]  93.375000\n",
      "251    K.MANOLAS    [NAPOLI]  92.909091\n",
      "414    S.DE VRIJ     [INTER]  92.500000\n",
      "102      D.DEMME    [NAPOLI]  92.285714\n",
      "376  R.BENTANCUR  [JUVENTUS]  92.000000\n",
      "452  V.CHIRICHES  [SASSUOLO]  92.000000\n",
      "4      A.BASTONI     [INTER]  92.000000\n"
     ]
    }
   ],
   "source": [
    "players = players.sort_values(by='P%', ascending=False)\n",
    "print(players[[\"Name\", \"Team\", \"P%\"]].head(n=10))"
   ]
  },
  {
   "cell_type": "code",
   "execution_count": 19,
   "metadata": {},
   "outputs": [
    {
     "name": "stdout",
     "output_type": "stream",
     "text": [
      "             Name             Team  KP\n",
      "378     R.DE PAUL        [UDINESE]  14\n",
      "195  H.CALHANOGLU          [MILAN]  12\n",
      "275  L.PELLEGRINI    [ROMA, GENOA]  11\n",
      "278  L.SPINAZZOLA           [ROMA]  10\n",
      "198  H.MKHITARYAN           [ROMA]   9\n",
      "405     R.SORIANO        [BOLOGNA]   9\n",
      "95      D.BERARDI       [SASSUOLO]   9\n",
      "339    M.ZACCAGNI  [HELLAS VERONA]   9\n",
      "144     F.DIMARCO  [HELLAS VERONA]   8\n",
      "79      C.BIRAGHI     [FIORENTINA]   8\n",
      "288      M.BARROW        [BOLOGNA]   7\n",
      "24        A.GOMEZ       [ATALANTA]   7\n",
      "145    F.DJURICIC       [SASSUOLO]   7\n",
      "177     G.LETIZIA      [BENEVENTO]   7\n",
      "236    J.VERETOUT           [ROMA]   6\n"
     ]
    }
   ],
   "source": [
    "players = players.sort_values(by='KP', ascending=False)\n",
    "print(players[[\"Name\", \"Team\", \"KP\"]].head(n=15))"
   ]
  },
  {
   "cell_type": "code",
   "execution_count": 20,
   "metadata": {},
   "outputs": [
    {
     "name": "stdout",
     "output_type": "stream",
     "text": [
      "              Name        Team      KP_M        M_KP\n",
      "436        S.VERDI    [TORINO]  0.014085   71.000000\n",
      "378      R.DE PAUL   [UDINESE]  0.013245   75.500000\n",
      "46        A.RAMSEY  [JUVENTUS]  0.012755   78.400000\n",
      "195   H.CALHANOGLU     [MILAN]  0.011483   87.083333\n",
      "105       D.FARIAS    [SPEZIA]  0.011385   87.833333\n",
      "42       A.PETAGNA    [NAPOLI]  0.010959   91.250000\n",
      "24         A.GOMEZ  [ATALANTA]  0.010101   99.000000\n",
      "278   L.SPINAZZOLA      [ROMA]  0.009804  102.000000\n",
      "393  R.MALINOVSKYI  [ATALANTA]  0.009728  102.800000\n",
      "323     M.POLITANO    [NAPOLI]  0.009639  103.750000\n"
     ]
    }
   ],
   "source": [
    "players['KP_M'] = players['KP'] / players['M']\n",
    "players = players.sort_values(by='KP_M', ascending=False)\n",
    "top_players = players[[\"Name\", \"Team\", \"KP_M\"]].head(n=10)\n",
    "top_players['M_KP'] = players['M'] / players['KP']\n",
    "print(top_players.head(n=10))"
   ]
  },
  {
   "cell_type": "code",
   "execution_count": 21,
   "metadata": {
    "scrolled": true
   },
   "outputs": [
    {
     "name": "stdout",
     "output_type": "stream",
     "text": [
      "              Name             Team  FS\n",
      "5        A.BELOTTI         [TORINO]  50\n",
      "339     M.ZACCAGNI  [HELLAS VERONA]  41\n",
      "378      R.DE PAUL        [UDINESE]  38\n",
      "155       F.RIBERY     [FIORENTINA]  32\n",
      "275   L.PELLEGRINI    [ROMA, GENOA]  30\n",
      "226      J.MESSIAS        [CROTONE]  29\n",
      "400      R.PALACIO        [BOLOGNA]  28\n",
      "197       H.LOZANO         [NAPOLI]  28\n",
      "164  G.CASTROVILLI     [FIORENTINA]  28\n",
      "237     JOAO PEDRO       [CAGLIARI]  28\n"
     ]
    }
   ],
   "source": [
    "players = players.sort_values(by='FS', ascending=False)\n",
    "print(players[[\"Name\", \"Team\", \"FS\"]].head(n=10))"
   ]
  },
  {
   "cell_type": "code",
   "execution_count": 22,
   "metadata": {
    "scrolled": true
   },
   "outputs": [
    {
     "name": "stdout",
     "output_type": "stream",
     "text": [
      "             Name             Team      FS_M       M_FS\n",
      "5       A.BELOTTI         [TORINO]  0.047801  20.920000\n",
      "339    M.ZACCAGNI  [HELLAS VERONA]  0.043897  22.780488\n",
      "155      F.RIBERY     [FIORENTINA]  0.042440  23.562500\n",
      "416  S.DI CARMINE  [HELLAS VERONA]  0.037406  26.733333\n",
      "378     R.DE PAUL        [UDINESE]  0.035951  27.815789\n",
      "197      H.LOZANO         [NAPOLI]  0.035000  28.571429\n",
      "465       W.SINGO         [TORINO]  0.034014  29.400000\n",
      "184      G.PANDEV          [GENOA]  0.033628  29.736842\n",
      "187     G.RAMIREZ      [SAMPDORIA]  0.031746  31.500000\n",
      "258    L.CIGARINI        [CROTONE]  0.031315  31.933333\n"
     ]
    }
   ],
   "source": [
    "players['FS_M'] = players['FS'] / players['M']\n",
    "players = players.sort_values(by='FS_M', ascending=False)\n",
    "top_players = players[[\"Name\", \"Team\", \"FS_M\"]].head(n=10)\n",
    "top_players['M_FS'] = players['M'] / players['FS']\n",
    "print(top_players.head(n=10))"
   ]
  },
  {
   "cell_type": "code",
   "execution_count": 23,
   "metadata": {},
   "outputs": [
    {
     "name": "stdout",
     "output_type": "stream",
     "text": [
      "             Name                         Team    R\n",
      "450    T.TOMIYASU                    [BOLOGNA]  118\n",
      "384      R.IBANEZ                       [ROMA]  115\n",
      "134      F.ACERBI                      [LAZIO]  108\n",
      "349  N.MILENKOVIC                 [FIORENTINA]  107\n",
      "215      J.CHABOT                     [SPEZIA]  100\n",
      "186    G.PEZZELLA          [PARMA, FIORENTINA]   97\n",
      "333     M.THORSBY                  [SAMPDORIA]   96\n",
      "141  F.CECCHERINI  [FIORENTINA, HELLAS VERONA]   92\n",
      "70     B.DJIMSITI                   [ATALANTA]   91\n",
      "76         BREMER                     [TORINO]   91\n"
     ]
    }
   ],
   "source": [
    "players = players.sort_values(by='R', ascending=False)\n",
    "print(players[[\"Name\", \"Team\", \"R\"]].head(n=10))"
   ]
  },
  {
   "cell_type": "code",
   "execution_count": 24,
   "metadata": {},
   "outputs": [
    {
     "name": "stdout",
     "output_type": "stream",
     "text": [
      "           Name         Team       R_M       M_R\n",
      "89     C.ROMERO   [ATALANTA]  0.133333  7.500000\n",
      "359    O.COLLEY  [SAMPDORIA]  0.128159  7.802817\n",
      "413   S.DE MAIO    [UDINESE]  0.121429  8.235294\n",
      "463     W.HOEDT      [LAZIO]  0.120582  8.293103\n",
      "70   B.DJIMSITI   [ATALANTA]  0.119737  8.351648\n",
      "301   M.DEMIRAL   [JUVENTUS]  0.117647  8.500000\n",
      "215    J.CHABOT     [SPEZIA]  0.117509  8.510000\n",
      "287      M.BANI      [GENOA]  0.110266  9.068966\n",
      "134    F.ACERBI      [LAZIO]  0.109422  9.138889\n",
      "93     C.ZAPATA      [GENOA]  0.106383  9.400000\n"
     ]
    }
   ],
   "source": [
    "players['R_M'] = players['R'] / players['M']\n",
    "players = players.sort_values(by='R_M', ascending=False)\n",
    "top_players = players[[\"Name\", \"Team\", \"R_M\"]].head(n=10)\n",
    "top_players['M_R'] = players['M'] / players['R']\n",
    "print(top_players.head(n=10))"
   ]
  },
  {
   "cell_type": "code",
   "execution_count": 25,
   "metadata": {},
   "outputs": [],
   "source": [
    "thisdir = os.getcwd()\n",
    "thisdir += \"/2020-2021/Player Data/Goalkeeper/\"\n",
    "csv_list = []\n",
    "\n",
    "for r, d, f in os.walk(thisdir):\n",
    "    for file in f:\n",
    "        if file.endswith(\".csv\"):\n",
    "            csv_list.append(os.path.join(r, file))\n",
    "\n",
    "csv_list = sorted(csv_list)\n",
    "\n",
    "players = []\n",
    "\n",
    "for csv_file in csv_list:\n",
    "#     print(csv_file)\n",
    "    if csv_file[-5:] == \"/.csv\":\n",
    "        continue\n",
    "    player_data = pd.read_csv(csv_file, encoding='latin-1')\n",
    "    player_data[\"M_played\"] = player_data.apply(lambda row:convert_to_minutes(row), axis=1)\n",
    "    player_data = player_data.astype({'GC':'int32', 'OG':'int32', 'S':'int32', 'STP':'int32', 'SF':'int32', 'FYC':'int32', 'SYC':'int32', 'RC':'int32'})\n",
    "\n",
    "    players.append([player_data[\"Name\"].unique()[0], player_data[\"Team\"].unique(), player_data[\"M_played\"].sum(), player_data[\"GC\"].sum(), player_data[\"OG\"].sum(), player_data[\"S\"].sum(), player_data[\"STP\"].sum(), player_data[\"SF\"].sum(), player_data[\"FYC\"].sum(), player_data[\"SYC\"].sum(), player_data[\"RC\"].sum(), player_data[\"M_played\"].size])\n",
    "\n",
    "players = pd.DataFrame(np.array(players), columns=['Name', 'Team' , 'M', 'GC', 'OG', 'S', 'STP', 'SF', 'FYC', 'SYC', 'RC', 'N'])\n",
    "players = players.astype({'M':'int32', 'GC':'int32', 'OG':'int32', 'S':'int32', 'STP':'int32', 'SF':'int32', 'FYC':'int32', 'SYC':'int32', 'RC':'int32', 'N':'int32'})\n",
    "players = players[players['M'] >= min_time]\n",
    "players = players[players['N'] >= min_games]"
   ]
  },
  {
   "cell_type": "code",
   "execution_count": 26,
   "metadata": {},
   "outputs": [
    {
     "name": "stdout",
     "output_type": "stream",
     "text": [
      "            Name             Team     M\n",
      "7    B.DRAGOWSKI     [FIORENTINA]  1156\n",
      "19    L.MONTIPO'      [BENEVENTO]  1151\n",
      "30  S.HANDANOVIC          [INTER]  1151\n",
      "23   M.SILVESTRI  [HELLAS VERONA]  1151\n",
      "2       A.CRAGNO       [CAGLIARI]  1150\n",
      "1       A.CORDAZ        [CROTONE]  1149\n",
      "20        L.SEPE          [PARMA]  1149\n",
      "10      E.AUDERO      [SAMPDORIA]  1145\n",
      "31      S.SIRIGU         [TORINO]  1072\n",
      "0     A.CONSIGLI       [SASSUOLO]  1066\n"
     ]
    }
   ],
   "source": [
    "players = players.sort_values(by='M', ascending=False)\n",
    "print(players[[\"Name\", \"Team\", \"M\"]].head(n=10))"
   ]
  },
  {
   "cell_type": "code",
   "execution_count": 27,
   "metadata": {},
   "outputs": [
    {
     "name": "stdout",
     "output_type": "stream",
     "text": [
      "            Name             Team        M_N\n",
      "31      S.SIRIGU         [TORINO]  97.454545\n",
      "0     A.CONSIGLI       [SASSUOLO]  96.909091\n",
      "34    W.SZCZESNY       [JUVENTUS]  96.500000\n",
      "14  G.DONNARUMMA          [MILAN]  96.454545\n",
      "7    B.DRAGOWSKI     [FIORENTINA]  96.333333\n",
      "9       D.OSPINA         [NAPOLI]  96.333333\n",
      "21   L.SKORUPSKI        [BOLOGNA]  96.300000\n",
      "28       P.REINA          [LAZIO]  96.285714\n",
      "17       J.MUSSO        [UDINESE]  96.000000\n",
      "23   M.SILVESTRI  [HELLAS VERONA]  95.916667\n"
     ]
    }
   ],
   "source": [
    "players['M_N'] = players['M'] / players['N']\n",
    "players = players.sort_values(by='M_N', ascending=False)\n",
    "print(players[[\"Name\", \"Team\", \"M_N\"]].head(n=10))"
   ]
  },
  {
   "cell_type": "code",
   "execution_count": 28,
   "metadata": {},
   "outputs": [
    {
     "name": "stdout",
     "output_type": "stream",
     "text": [
      "            Name          Team  GC\n",
      "31      S.SIRIGU      [TORINO]  27\n",
      "1       A.CORDAZ     [CROTONE]  25\n",
      "2       A.CRAGNO    [CAGLIARI]  23\n",
      "19    L.MONTIPO'   [BENEVENTO]  23\n",
      "7    B.DRAGOWSKI  [FIORENTINA]  20\n",
      "10      E.AUDERO   [SAMPDORIA]  20\n",
      "20        L.SEPE       [PARMA]  19\n",
      "16    I.PROVEDEL      [SPEZIA]  18\n",
      "21   L.SKORUPSKI     [BOLOGNA]  17\n",
      "30  S.HANDANOVIC       [INTER]  15\n"
     ]
    }
   ],
   "source": [
    "players = players.sort_values(by='GC', ascending=False)\n",
    "print(players[[\"Name\", \"Team\", \"GC\"]].head(n=10))"
   ]
  },
  {
   "cell_type": "code",
   "execution_count": 29,
   "metadata": {},
   "outputs": [
    {
     "name": "stdout",
     "output_type": "stream",
     "text": [
      "            Name          Team      GC_M       M_GC\n",
      "31      S.SIRIGU      [TORINO]  0.025187  39.703704\n",
      "1       A.CORDAZ     [CROTONE]  0.021758  45.960000\n",
      "24  M.SPORTIELLO    [ATALANTA]  0.021645  46.200000\n",
      "16    I.PROVEDEL      [SPEZIA]  0.020979  47.666667\n",
      "2       A.CRAGNO    [CAGLIARI]  0.020000  50.000000\n",
      "19    L.MONTIPO'   [BENEVENTO]  0.019983  50.043478\n",
      "21   L.SKORUPSKI     [BOLOGNA]  0.017653  56.647059\n",
      "22       M.PERIN       [GENOA]  0.017483  57.200000\n",
      "10      E.AUDERO   [SAMPDORIA]  0.017467  57.250000\n",
      "7    B.DRAGOWSKI  [FIORENTINA]  0.017301  57.800000\n"
     ]
    }
   ],
   "source": [
    "players['GC_M'] = players['GC'] / players['M']\n",
    "players = players.sort_values(by='GC_M', ascending=False)\n",
    "top_players = players[[\"Name\", \"Team\", \"GC_M\"]].head(n=10)\n",
    "top_players['M_GC'] = players['M'] / players['GC']\n",
    "print(top_players.head(n=10))"
   ]
  },
  {
   "cell_type": "code",
   "execution_count": 30,
   "metadata": {},
   "outputs": [
    {
     "name": "stdout",
     "output_type": "stream",
     "text": [
      "            Name             Team  GC\n",
      "9       D.OSPINA         [NAPOLI]   4\n",
      "34    W.SZCZESNY       [JUVENTUS]   8\n",
      "17       J.MUSSO        [UDINESE]   9\n",
      "28       P.REINA          [LAZIO]   9\n",
      "14  G.DONNARUMMA          [MILAN]  10\n",
      "23   M.SILVESTRI  [HELLAS VERONA]  11\n",
      "5      A.MIRANTE           [ROMA]  11\n",
      "0     A.CONSIGLI       [SASSUOLO]  13\n",
      "24  M.SPORTIELLO       [ATALANTA]  15\n",
      "22       M.PERIN          [GENOA]  15\n"
     ]
    }
   ],
   "source": [
    "players = players.sort_values(by='GC')\n",
    "print(players[[\"Name\", \"Team\", \"GC\"]].head(n=10))"
   ]
  },
  {
   "cell_type": "code",
   "execution_count": 31,
   "metadata": {},
   "outputs": [
    {
     "name": "stdout",
     "output_type": "stream",
     "text": [
      "            Name             Team      GC_M        M_GC\n",
      "9       D.OSPINA         [NAPOLI]  0.006920  144.500000\n",
      "14  G.DONNARUMMA          [MILAN]  0.009425  106.100000\n",
      "23   M.SILVESTRI  [HELLAS VERONA]  0.009557  104.636364\n",
      "34    W.SZCZESNY       [JUVENTUS]  0.010363   96.500000\n",
      "17       J.MUSSO        [UDINESE]  0.010417   96.000000\n",
      "0     A.CONSIGLI       [SASSUOLO]  0.012195   82.000000\n",
      "5      A.MIRANTE           [ROMA]  0.012881   77.636364\n",
      "30  S.HANDANOVIC          [INTER]  0.013032   76.733333\n",
      "28       P.REINA          [LAZIO]  0.013353   74.888889\n",
      "20        L.SEPE          [PARMA]  0.016536   60.473684\n"
     ]
    }
   ],
   "source": [
    "players['GC_M'] = players['GC'] / players['M']\n",
    "players = players.sort_values(by='GC_M')\n",
    "top_players = players[[\"Name\", \"Team\", \"GC_M\"]].head(n=10)\n",
    "top_players['M_GC'] = players['M'] / players['GC']\n",
    "print(top_players.head(n=10))"
   ]
  },
  {
   "cell_type": "code",
   "execution_count": 32,
   "metadata": {},
   "outputs": [
    {
     "name": "stdout",
     "output_type": "stream",
     "text": [
      "            Name             Team   S\n",
      "2       A.CRAGNO       [CAGLIARI]  59\n",
      "23   M.SILVESTRI  [HELLAS VERONA]  48\n",
      "20        L.SEPE          [PARMA]  47\n",
      "0     A.CONSIGLI       [SASSUOLO]  43\n",
      "1       A.CORDAZ        [CROTONE]  42\n",
      "10      E.AUDERO      [SAMPDORIA]  42\n",
      "7    B.DRAGOWSKI     [FIORENTINA]  37\n",
      "22       M.PERIN          [GENOA]  36\n",
      "19    L.MONTIPO'      [BENEVENTO]  33\n",
      "30  S.HANDANOVIC          [INTER]  32\n"
     ]
    }
   ],
   "source": [
    "players = players.sort_values(by='S', ascending=False)\n",
    "print(players[[\"Name\", \"Team\", \"S\"]].head(n=10))"
   ]
  },
  {
   "cell_type": "code",
   "execution_count": 33,
   "metadata": {},
   "outputs": [
    {
     "name": "stdout",
     "output_type": "stream",
     "text": [
      "           Name             Team       S_M        M_S\n",
      "2      A.CRAGNO       [CAGLIARI]  0.051304  19.491525\n",
      "22      M.PERIN          [GENOA]  0.041958  23.833333\n",
      "23  M.SILVESTRI  [HELLAS VERONA]  0.041703  23.979167\n",
      "20       L.SEPE          [PARMA]  0.040905  24.446809\n",
      "0    A.CONSIGLI       [SASSUOLO]  0.040338  24.790698\n",
      "28      P.REINA          [LAZIO]  0.040059  24.962963\n",
      "10     E.AUDERO      [SAMPDORIA]  0.036681  27.261905\n",
      "1      A.CORDAZ        [CROTONE]  0.036554  27.357143\n",
      "5     A.MIRANTE           [ROMA]  0.032787  30.500000\n",
      "21  L.SKORUPSKI        [BOLOGNA]  0.032191  31.064516\n"
     ]
    }
   ],
   "source": [
    "players['S_M'] = players['S'] / players['M']\n",
    "players = players.sort_values(by='S_M', ascending=False)\n",
    "top_players = players[[\"Name\", \"Team\", \"S_M\"]].head(n=10)\n",
    "top_players['M_S'] = players['M'] / players['S']\n",
    "print(top_players.head(n=10))"
   ]
  },
  {
   "cell_type": "code",
   "execution_count": 34,
   "metadata": {},
   "outputs": [
    {
     "name": "stdout",
     "output_type": "stream",
     "text": [
      "            Name             Team  Set_S\n",
      "7    B.DRAGOWSKI     [FIORENTINA]      8\n",
      "5      A.MIRANTE           [ROMA]      7\n",
      "20        L.SEPE          [PARMA]      7\n",
      "0     A.CONSIGLI       [SASSUOLO]      7\n",
      "14  G.DONNARUMMA          [MILAN]      5\n",
      "2       A.CRAGNO       [CAGLIARI]      5\n",
      "28       P.REINA          [LAZIO]      5\n",
      "23   M.SILVESTRI  [HELLAS VERONA]      5\n",
      "10      E.AUDERO      [SAMPDORIA]      4\n",
      "1       A.CORDAZ        [CROTONE]      4\n"
     ]
    }
   ],
   "source": [
    "players['Set_S'] = players['STP'] + players['SF']\n",
    "players = players.sort_values(by='Set_S', ascending=False)\n",
    "print(players[[\"Name\", \"Team\", \"Set_S\"]].head(n=10))"
   ]
  }
 ],
 "metadata": {
  "kernelspec": {
   "display_name": "Python 3",
   "language": "python",
   "name": "python3"
  },
  "language_info": {
   "codemirror_mode": {
    "name": "ipython",
    "version": 3
   },
   "file_extension": ".py",
   "mimetype": "text/x-python",
   "name": "python",
   "nbconvert_exporter": "python",
   "pygments_lexer": "ipython3",
   "version": "3.7.4"
  }
 },
 "nbformat": 4,
 "nbformat_minor": 2
}
