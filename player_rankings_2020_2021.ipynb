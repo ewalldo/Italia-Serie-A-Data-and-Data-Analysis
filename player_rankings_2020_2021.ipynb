{
 "cells": [
  {
   "cell_type": "code",
   "execution_count": 1,
   "metadata": {},
   "outputs": [],
   "source": [
    "import os\n",
    "import csv\n",
    "import pandas as pd\n",
    "import numpy as np\n",
    "import math"
   ]
  },
  {
   "cell_type": "code",
   "execution_count": 3,
   "metadata": {},
   "outputs": [
    {
     "name": "stdout",
     "output_type": "stream",
     "text": [
      "330.0\n",
      "5\n"
     ]
    }
   ],
   "source": [
    "thisdir = os.getcwd()\n",
    "thisdir += \"/2020-2021/Player Data/Non-goalkeeper/\"\n",
    "csv_list = []\n",
    "\n",
    "n_games = 11 #total games played\n",
    "min_time = n_games / 3 * 90 #min time played to be eligible\n",
    "min_games = math.floor(n_games / 2) #min games played to be eligible\n",
    "print(min_time)\n",
    "print(min_games)"
   ]
  },
  {
   "cell_type": "code",
   "execution_count": 4,
   "metadata": {},
   "outputs": [],
   "source": [
    "for r, d, f in os.walk(thisdir):\n",
    "    for file in f:\n",
    "        if file.endswith(\".csv\"):\n",
    "            csv_list.append(os.path.join(r, file))\n",
    "\n",
    "csv_list = sorted(csv_list)"
   ]
  },
  {
   "cell_type": "code",
   "execution_count": 5,
   "metadata": {},
   "outputs": [],
   "source": [
    "def convert_to_minutes(row):\n",
    "    return int(row['M'][:-1])\n",
    "\n",
    "def convert_to_int(row, col):\n",
    "    return int(row[col])"
   ]
  },
  {
   "cell_type": "code",
   "execution_count": 10,
   "metadata": {},
   "outputs": [],
   "source": [
    "players = []\n",
    "\n",
    "for csv_file in csv_list:\n",
    "#     print(csv_file)\n",
    "    if csv_file[-5:] == \"/.csv\":\n",
    "        continue\n",
    "    player_data = pd.read_csv(csv_file, encoding='latin-1')\n",
    "    player_data[\"M_played\"] = player_data.apply(lambda row:convert_to_minutes(row), axis=1)\n",
    "    player_data = player_data.astype({'G':'int32', 'OG':'int32', 'A':'int32', 'AT':'int32', 'BS':'int32', 'SC':'int32', 'FS':'int32', 'BP':'int32', 'AS':'int32', 'KP':'int32', 'P':'int32', 'P%':'int32', 'R':'int32', 'FYC':'int32', 'SYC':'int32', 'RC':'int32'})\n",
    "\n",
    "    players.append([player_data[\"Name\"].unique()[0], player_data[\"Team\"].unique(), player_data[\"M_played\"].sum(), player_data[\"G\"].sum(), player_data[\"OG\"].sum(), player_data[\"A\"].sum(), player_data[\"AT\"].sum(), player_data[\"BS\"].sum(), player_data[\"SC\"].sum(), player_data[\"FS\"].sum(), player_data[\"BP\"].sum(), player_data[\"AS\"].sum(), player_data[\"KP\"].sum(), player_data[\"P\"].sum(), player_data[\"P%\"].sum()  / player_data[\"P%\"].size, player_data[\"R\"].sum(), player_data[\"FYC\"].sum(), player_data[\"SYC\"].sum(), player_data[\"RC\"].sum(), player_data[\"M_played\"].size])\n",
    "\n",
    "players = pd.DataFrame(np.array(players), columns=['Name', 'Team' , 'M', 'G', 'OG', 'A', 'AT', 'BS', 'SC', 'FS', 'BP', 'AS', 'KP', 'P', 'P%', 'R', 'FYC', 'SYC', 'RC', \"N\"])\n",
    "players = players.astype({'M':'int32', 'G':'int32', 'OG':'int32', 'A':'int32', 'AT':'int32', 'BS':'int32', 'SC':'int32', 'FS':'int32', 'BP':'int32', 'AS':'int32', 'KP':'int32', 'P':'int32', 'P%':'float', 'R':'int32', 'FYC':'int32', 'SYC':'int32', 'RC':'int32', 'N':'int32'})\n",
    "players = players[players['M'] >= min_time]\n",
    "players = players[players['N'] >= min_games]"
   ]
  },
  {
   "cell_type": "code",
   "execution_count": 11,
   "metadata": {},
   "outputs": [
    {
     "name": "stdout",
     "output_type": "stream",
     "text": [
      "              Name                 Team     M\n",
      "272   L.PELLEGRINI        [ROMA, GENOA]  1446\n",
      "184     G.PEZZELLA  [PARMA, FIORENTINA]  1158\n",
      "309    M.LOCATELLI           [SASSUOLO]  1067\n",
      "443    T.HERNANDEZ              [MILAN]  1063\n",
      "346   N.MILENKOVIC         [FIORENTINA]  1061\n",
      "171      G.FERRARI           [SASSUOLO]  1060\n",
      "243         K.GLIK          [BENEVENTO]  1057\n",
      "447     T.TOMIYASU            [BOLOGNA]  1057\n",
      "224      J.MESSIAS            [CROTONE]  1055\n",
      "434  S.WALUKIEWICZ           [CAGLIARI]  1053\n"
     ]
    }
   ],
   "source": [
    "players = players.sort_values(by='M', ascending=False)\n",
    "print(players[[\"Name\", \"Team\", \"M\"]].head(n=10))"
   ]
  },
  {
   "cell_type": "code",
   "execution_count": 12,
   "metadata": {},
   "outputs": [
    {
     "name": "stdout",
     "output_type": "stream",
     "text": [
      "             Name          Team        M_N\n",
      "75         BREMER      [TORINO]  97.750000\n",
      "282        LYANCO      [TORINO]  97.333333\n",
      "309   M.LOCATELLI    [SASSUOLO]  97.000000\n",
      "50    A.ROMAGNOLI       [MILAN]  96.857143\n",
      "443   T.HERNANDEZ       [MILAN]  96.636364\n",
      "346  N.MILENKOVIC  [FIORENTINA]  96.454545\n",
      "171     G.FERRARI    [SASSUOLO]  96.363636\n",
      "375     R.DE PAUL     [UDINESE]  96.300000\n",
      "243        K.GLIK   [BENEVENTO]  96.090909\n",
      "447    T.TOMIYASU     [BOLOGNA]  96.090909\n"
     ]
    }
   ],
   "source": [
    "players['M_N'] = players['M'] / players['N']\n",
    "players = players.sort_values(by='M_N', ascending=False)\n",
    "print(players[[\"Name\", \"Team\", \"M_N\"]].head(n=10))"
   ]
  },
  {
   "cell_type": "code",
   "execution_count": 13,
   "metadata": {},
   "outputs": [
    {
     "name": "stdout",
     "output_type": "stream",
     "text": [
      "              Name        Team   G\n",
      "466  Z.IBRAHIMOVIC     [MILAN]  10\n",
      "89       C.RONALDO  [JUVENTUS]  10\n",
      "389       R.LUKAKU     [INTER]   9\n",
      "5        A.BELOTTI    [TORINO]   8\n",
      "196   H.MKHITARYAN      [ROMA]   6\n",
      "81      C.IMMOBILE     [LAZIO]   6\n",
      "235     JOAO PEDRO  [CAGLIARI]   6\n",
      "195       H.LOZANO    [NAPOLI]   6\n",
      "94       D.BERARDI  [SASSUOLO]   5\n",
      "268     L.MARTINEZ     [INTER]   5\n"
     ]
    }
   ],
   "source": [
    "players = players.sort_values(by='G', ascending=False)\n",
    "print(players[[\"Name\", \"Team\", \"G\"]].head(n=10))"
   ]
  },
  {
   "cell_type": "code",
   "execution_count": 14,
   "metadata": {},
   "outputs": [
    {
     "name": "stdout",
     "output_type": "stream",
     "text": [
      "              Name        Team       G_M         M_G\n",
      "466  Z.IBRAHIMOVIC     [MILAN]  0.017825   56.100000\n",
      "89       C.RONALDO  [JUVENTUS]  0.016978   58.900000\n",
      "389       R.LUKAKU     [INTER]  0.011984   83.444444\n",
      "137      F.CAICEDO     [LAZIO]  0.009756  102.500000\n",
      "139       F.CAPUTO  [SASSUOLO]  0.008757  114.200000\n",
      "195       H.LOZANO    [NAPOLI]  0.008535  117.166667\n",
      "5        A.BELOTTI    [TORINO]  0.008412  118.875000\n",
      "81      C.IMMOBILE     [LAZIO]  0.008186  122.166667\n",
      "320     M.POLITANO    [NAPOLI]  0.007614  131.333333\n",
      "99    D.D'AMBROSIO     [INTER]  0.007426  134.666667\n"
     ]
    }
   ],
   "source": [
    "players['G_M'] = players['G'] / players['M']\n",
    "players = players.sort_values(by='G_M', ascending=False)\n",
    "top_players = players[[\"Name\", \"Team\", \"G_M\"]].head(n=10)\n",
    "top_players['M_G'] = players['M'] / players['G']\n",
    "print(top_players.head(n=10))"
   ]
  },
  {
   "cell_type": "code",
   "execution_count": 15,
   "metadata": {},
   "outputs": [
    {
     "name": "stdout",
     "output_type": "stream",
     "text": [
      "              Name         Team   A\n",
      "89       C.RONALDO   [JUVENTUS]  35\n",
      "196   H.MKHITARYAN       [ROMA]  34\n",
      "466  Z.IBRAHIMOVIC      [MILAN]  32\n",
      "110      D.MERTENS     [NAPOLI]  31\n",
      "268     L.MARTINEZ      [INTER]  29\n",
      "174     G.LAPADULA  [BENEVENTO]  28\n",
      "121        E.DZEKO       [ROMA]  27\n",
      "193   H.CALHANOGLU      [MILAN]  27\n",
      "224      J.MESSIAS    [CROTONE]  27\n",
      "285       M.BARROW    [BOLOGNA]  26\n"
     ]
    }
   ],
   "source": [
    "players = players.sort_values(by='A', ascending=False)\n",
    "print(players[[\"Name\", \"Team\", \"A\"]].head(n=10))"
   ]
  },
  {
   "cell_type": "code",
   "execution_count": 16,
   "metadata": {},
   "outputs": [
    {
     "name": "stdout",
     "output_type": "stream",
     "text": [
      "              Name         Team       A_M        M_A\n",
      "89       C.RONALDO   [JUVENTUS]  0.059423  16.828571\n",
      "466  Z.IBRAHIMOVIC      [MILAN]  0.057041  17.531250\n",
      "271    L.PAVOLETTI   [CAGLIARI]  0.047761  20.937500\n",
      "361       P.DYBALA   [JUVENTUS]  0.046025  21.727273\n",
      "455      V.OSIMHEN     [NAPOLI]  0.044625  22.409091\n",
      "110      D.MERTENS     [NAPOLI]  0.041723  23.967742\n",
      "268     L.MARTINEZ      [INTER]  0.041193  24.275862\n",
      "174     G.LAPADULA  [BENEVENTO]  0.038621  25.892857\n",
      "121        E.DZEKO       [ROMA]  0.038082  26.259259\n",
      "320     M.POLITANO     [NAPOLI]  0.038071  26.266667\n"
     ]
    }
   ],
   "source": [
    "players['A_M'] = players['A'] / players['M']\n",
    "players = players.sort_values(by='A_M', ascending=False)\n",
    "top_players = players[[\"Name\", \"Team\", \"A_M\"]].head(n=10)\n",
    "top_players['M_A'] = players['M'] / players['A']\n",
    "print(top_players.head(n=10))"
   ]
  },
  {
   "cell_type": "code",
   "execution_count": 17,
   "metadata": {},
   "outputs": [
    {
     "name": "stdout",
     "output_type": "stream",
     "text": [
      "             Name                    Team  AS\n",
      "110     D.MERTENS                [NAPOLI]   6\n",
      "196  H.MKHITARYAN                  [ROMA]   5\n",
      "141      F.CHIESA  [FIORENTINA, JUVENTUS]   4\n",
      "402     R.SORIANO               [BOLOGNA]   4\n",
      "272  L.PELLEGRINI           [ROMA, GENOA]   4\n",
      "341     N.BARELLA                 [INTER]   4\n",
      "398     R.PEREYRA               [UDINESE]   4\n",
      "388        R.LEAO                 [MILAN]   3\n",
      "136   F.BONAZZOLI     [SAMPDORIA, TORINO]   3\n",
      "8      A.CANDREVA             [SAMPDORIA]   3\n",
      "94      D.BERARDI              [SASSUOLO]   3\n",
      "116      D.ZAPATA              [ATALANTA]   3\n",
      "52      A.SANCHEZ                 [INTER]   3\n",
      "215    J.CUADRADO              [JUVENTUS]   3\n",
      "78      C.BIRAGHI            [FIORENTINA]   3\n"
     ]
    }
   ],
   "source": [
    "players = players.sort_values(by='AS', ascending=False)\n",
    "print(players[[\"Name\", \"Team\", \"AS\"]].head(n=15))"
   ]
  },
  {
   "cell_type": "code",
   "execution_count": 18,
   "metadata": {},
   "outputs": [
    {
     "name": "stdout",
     "output_type": "stream",
     "text": [
      "             Name                    Team      AS_M        M_AS\n",
      "110     D.MERTENS                [NAPOLI]  0.008075  123.833333\n",
      "136   F.BONAZZOLI     [SAMPDORIA, TORINO]  0.007177  139.333333\n",
      "388        R.LEAO                 [MILAN]  0.006944  144.000000\n",
      "141      F.CHIESA  [FIORENTINA, JUVENTUS]  0.005952  168.000000\n",
      "398     R.PEREYRA               [UDINESE]  0.005722  174.750000\n",
      "52      A.SANCHEZ                 [INTER]  0.005263  190.000000\n",
      "461    W.MCKENNIE              [JUVENTUS]  0.005263  190.000000\n",
      "60        A.YOUNG                 [INTER]  0.005155  194.000000\n",
      "320    M.POLITANO                [NAPOLI]  0.005076  197.000000\n",
      "196  H.MKHITARYAN                  [ROMA]  0.004902  204.000000\n"
     ]
    }
   ],
   "source": [
    "players['AS_M'] = players['AS'] / players['M']\n",
    "players = players.sort_values(by='AS_M', ascending=False)\n",
    "top_players = players[[\"Name\", \"Team\", \"AS_M\"]].head(n=10)\n",
    "top_players['M_AS'] = players['M'] / players['AS']\n",
    "print(top_players.head(n=10))"
   ]
  },
  {
   "cell_type": "code",
   "execution_count": 19,
   "metadata": {},
   "outputs": [
    {
     "name": "stdout",
     "output_type": "stream",
     "text": [
      "             Name           Team    BP\n",
      "309   M.LOCATELLI     [SASSUOLO]  1123\n",
      "272  L.PELLEGRINI  [ROMA, GENOA]  1047\n",
      "171     G.FERRARI     [SASSUOLO]   950\n",
      "245   K.KOULIBALY       [NAPOLI]   898\n",
      "96     D.CALABRIA        [MILAN]   839\n",
      "118        DANILO     [JUVENTUS]   838\n",
      "78      C.BIRAGHI   [FIORENTINA]   824\n",
      "346  N.MILENKOVIC   [FIORENTINA]   822\n",
      "168  G.DI LORENZO       [NAPOLI]   817\n",
      "215    J.CUADRADO     [JUVENTUS]   816\n"
     ]
    }
   ],
   "source": [
    "players = players.sort_values(by='BP', ascending=False)\n",
    "print(players[[\"Name\", \"Team\", \"BP\"]].head(n=10))"
   ]
  },
  {
   "cell_type": "code",
   "execution_count": 20,
   "metadata": {},
   "outputs": [
    {
     "name": "stdout",
     "output_type": "stream",
     "text": [
      "            Name        Team      BP_M      M_BP\n",
      "101      D.DEMME    [NAPOLI]  1.086567  0.920330\n",
      "309  M.LOCATELLI  [SASSUOLO]  1.052484  0.950134\n",
      "62        ARTHUR  [JUVENTUS]  1.044346  0.957537\n",
      "287   M.BROZOVIC     [INTER]  1.029557  0.971292\n",
      "118       DANILO  [JUVENTUS]  1.004796  0.995227\n",
      "339    MARIO RUI    [NAPOLI]  1.002227  0.997778\n",
      "31     A.KOLAROV     [INTER]  0.974874  1.025773\n",
      "449  V.CHIRICHES  [SASSUOLO]  0.951562  1.050903\n",
      "156  FABIAN RUIZ    [NAPOLI]  0.946960  1.056011\n",
      "245  K.KOULIBALY    [NAPOLI]  0.945263  1.057906\n"
     ]
    }
   ],
   "source": [
    "players['BP_M'] = players['BP'] / players['M']\n",
    "players = players.sort_values(by='BP_M', ascending=False)\n",
    "top_players = players[[\"Name\", \"Team\", \"BP_M\"]].head(n=10)\n",
    "top_players['M_BP'] = players['M'] / players['BP']\n",
    "print(top_players.head(n=10))"
   ]
  },
  {
   "cell_type": "code",
   "execution_count": 21,
   "metadata": {},
   "outputs": [
    {
     "name": "stdout",
     "output_type": "stream",
     "text": [
      "             Name          Team    P\n",
      "309   M.LOCATELLI    [SASSUOLO]  808\n",
      "171     G.FERRARI    [SASSUOLO]  773\n",
      "245   K.KOULIBALY      [NAPOLI]  732\n",
      "118        DANILO    [JUVENTUS]  626\n",
      "346  N.MILENKOVIC  [FIORENTINA]  597\n",
      "156   FABIAN RUIZ      [NAPOLI]  558\n",
      "249     K.MANOLAS      [NAPOLI]  555\n",
      "322       M.RICCI      [SPEZIA]  544\n",
      "133      F.ACERBI       [LAZIO]  544\n",
      "168  G.DI LORENZO      [NAPOLI]  533\n"
     ]
    }
   ],
   "source": [
    "players = players.sort_values(by='P', ascending=False)\n",
    "print(players[[\"Name\", \"Team\", \"P\"]].head(n=10))"
   ]
  },
  {
   "cell_type": "code",
   "execution_count": 22,
   "metadata": {},
   "outputs": [
    {
     "name": "stdout",
     "output_type": "stream",
     "text": [
      "            Name        Team       P_M       M_P\n",
      "101      D.DEMME    [NAPOLI]  0.895522  1.116667\n",
      "62        ARTHUR  [JUVENTUS]  0.875831  1.141772\n",
      "287   M.BROZOVIC     [INTER]  0.793103  1.260870\n",
      "340       MARLON  [SASSUOLO]  0.787293  1.270175\n",
      "245  K.KOULIBALY    [NAPOLI]  0.770526  1.297814\n",
      "449  V.CHIRICHES  [SASSUOLO]  0.757812  1.319588\n",
      "309  M.LOCATELLI  [SASSUOLO]  0.757263  1.320545\n",
      "118       DANILO  [JUVENTUS]  0.750600  1.332268\n",
      "171    G.FERRARI  [SASSUOLO]  0.729245  1.371281\n",
      "31     A.KOLAROV     [INTER]  0.726131  1.377163\n"
     ]
    }
   ],
   "source": [
    "players['P_M'] = players['P'] / players['M']\n",
    "players = players.sort_values(by='P_M', ascending=False)\n",
    "top_players = players[[\"Name\", \"Team\", \"P_M\"]].head(n=10)\n",
    "top_players['M_P'] = players['M'] / players['P']\n",
    "print(top_players.head(n=10))"
   ]
  },
  {
   "cell_type": "code",
   "execution_count": 23,
   "metadata": {},
   "outputs": [
    {
     "name": "stdout",
     "output_type": "stream",
     "text": [
      "            Name        Team         P%\n",
      "62        ARTHUR  [JUVENTUS]  94.166667\n",
      "298    M.DEMIRAL  [JUVENTUS]  93.833333\n",
      "350    N.NKOULOU    [TORINO]  93.750000\n",
      "327   M.SKRINIAR     [INTER]  93.000000\n",
      "249    K.MANOLAS    [NAPOLI]  92.700000\n",
      "411    S.DE VRIJ     [INTER]  92.000000\n",
      "233     J.TOLJAN  [SASSUOLO]  91.666667\n",
      "101      D.DEMME    [NAPOLI]  91.666667\n",
      "171    G.FERRARI  [SASSUOLO]  91.545455\n",
      "373  R.BENTANCUR  [JUVENTUS]  91.444444\n"
     ]
    }
   ],
   "source": [
    "players = players.sort_values(by='P%', ascending=False)\n",
    "print(players[[\"Name\", \"Team\", \"P%\"]].head(n=10))"
   ]
  },
  {
   "cell_type": "code",
   "execution_count": 24,
   "metadata": {},
   "outputs": [
    {
     "name": "stdout",
     "output_type": "stream",
     "text": [
      "             Name             Team  KP\n",
      "375     R.DE PAUL        [UDINESE]  12\n",
      "193  H.CALHANOGLU          [MILAN]  11\n",
      "272  L.PELLEGRINI    [ROMA, GENOA]  11\n",
      "402     R.SORIANO        [BOLOGNA]   9\n",
      "275  L.SPINAZZOLA           [ROMA]   8\n",
      "196  H.MKHITARYAN           [ROMA]   8\n",
      "143     F.DIMARCO  [HELLAS VERONA]   8\n",
      "336    M.ZACCAGNI  [HELLAS VERONA]   8\n",
      "218      J.ILICIC       [ATALANTA]   8\n",
      "94      D.BERARDI       [SASSUOLO]   8\n",
      "78      C.BIRAGHI     [FIORENTINA]   8\n",
      "285      M.BARROW        [BOLOGNA]   7\n",
      "144    F.DJURICIC       [SASSUOLO]   7\n",
      "175     G.LETIZIA      [BENEVENTO]   6\n",
      "104      D.FARIAS         [SPEZIA]   6\n"
     ]
    }
   ],
   "source": [
    "players = players.sort_values(by='KP', ascending=False)\n",
    "print(players[[\"Name\", \"Team\", \"KP\"]].head(n=15))"
   ]
  },
  {
   "cell_type": "code",
   "execution_count": 25,
   "metadata": {},
   "outputs": [
    {
     "name": "stdout",
     "output_type": "stream",
     "text": [
      "              Name             Team      KP_M        M_KP\n",
      "218       J.ILICIC       [ATALANTA]  0.022284   44.875000\n",
      "433        S.VERDI         [TORINO]  0.014085   71.000000\n",
      "45        A.RAMSEY       [JUVENTUS]  0.012755   78.400000\n",
      "375      R.DE PAUL        [UDINESE]  0.012461   80.250000\n",
      "104       D.FARIAS         [SPEZIA]  0.012121   82.500000\n",
      "193   H.CALHANOGLU          [MILAN]  0.011567   86.454545\n",
      "390  R.MALINOVSKYI       [ATALANTA]  0.011364   88.000000\n",
      "320     M.POLITANO         [NAPOLI]  0.010152   98.500000\n",
      "336     M.ZACCAGNI  [HELLAS VERONA]  0.009569  104.500000\n",
      "144     F.DJURICIC       [SASSUOLO]  0.009511  105.142857\n"
     ]
    }
   ],
   "source": [
    "players['KP_M'] = players['KP'] / players['M']\n",
    "players = players.sort_values(by='KP_M', ascending=False)\n",
    "top_players = players[[\"Name\", \"Team\", \"KP_M\"]].head(n=10)\n",
    "top_players['M_KP'] = players['M'] / players['KP']\n",
    "print(top_players.head(n=10))"
   ]
  },
  {
   "cell_type": "code",
   "execution_count": 26,
   "metadata": {
    "scrolled": true
   },
   "outputs": [
    {
     "name": "stdout",
     "output_type": "stream",
     "text": [
      "             Name             Team  FS\n",
      "5       A.BELOTTI         [TORINO]  44\n",
      "336    M.ZACCAGNI  [HELLAS VERONA]  38\n",
      "375     R.DE PAUL        [UDINESE]  34\n",
      "272  L.PELLEGRINI    [ROMA, GENOA]  29\n",
      "153      F.RIBERY     [FIORENTINA]  28\n",
      "224     J.MESSIAS        [CROTONE]  28\n",
      "397     R.PALACIO        [BOLOGNA]  26\n",
      "443   T.HERNANDEZ          [MILAN]  26\n",
      "235    JOAO PEDRO       [CAGLIARI]  26\n",
      "94      D.BERARDI       [SASSUOLO]  26\n"
     ]
    }
   ],
   "source": [
    "players = players.sort_values(by='FS', ascending=False)\n",
    "print(players[[\"Name\", \"Team\", \"FS\"]].head(n=10))"
   ]
  },
  {
   "cell_type": "code",
   "execution_count": 27,
   "metadata": {
    "scrolled": true
   },
   "outputs": [
    {
     "name": "stdout",
     "output_type": "stream",
     "text": [
      "             Name             Team      FS_M       M_FS\n",
      "5       A.BELOTTI         [TORINO]  0.046267  21.613636\n",
      "336    M.ZACCAGNI  [HELLAS VERONA]  0.045455  22.000000\n",
      "153      F.RIBERY     [FIORENTINA]  0.042489  23.535714\n",
      "218      J.ILICIC       [ATALANTA]  0.038997  25.642857\n",
      "413  S.DI CARMINE  [HELLAS VERONA]  0.038576  25.923077\n",
      "375     R.DE PAUL        [UDINESE]  0.035306  28.323529\n",
      "462       W.SINGO         [TORINO]  0.034843  28.700000\n",
      "182      G.PANDEV          [GENOA]  0.033628  29.736842\n",
      "195      H.LOZANO         [NAPOLI]  0.032717  30.565217\n",
      "255    L.CIGARINI        [CROTONE]  0.031315  31.933333\n"
     ]
    }
   ],
   "source": [
    "players['FS_M'] = players['FS'] / players['M']\n",
    "players = players.sort_values(by='FS_M', ascending=False)\n",
    "top_players = players[[\"Name\", \"Team\", \"FS_M\"]].head(n=10)\n",
    "top_players['M_FS'] = players['M'] / players['FS']\n",
    "print(top_players.head(n=10))"
   ]
  },
  {
   "cell_type": "code",
   "execution_count": 28,
   "metadata": {},
   "outputs": [
    {
     "name": "stdout",
     "output_type": "stream",
     "text": [
      "             Name                         Team    R\n",
      "381      R.IBANEZ                       [ROMA]  111\n",
      "133      F.ACERBI                      [LAZIO]  108\n",
      "447    T.TOMIYASU                    [BOLOGNA]  104\n",
      "346  N.MILENKOVIC                 [FIORENTINA]  100\n",
      "330     M.THORSBY                  [SAMPDORIA]   96\n",
      "184    G.PEZZELLA          [PARMA, FIORENTINA]   91\n",
      "140  F.CECCHERINI  [FIORENTINA, HELLAS VERONA]   87\n",
      "213      J.CHABOT                     [SPEZIA]   86\n",
      "265    L.MAGALLAN                    [CROTONE]   86\n",
      "88       C.ROMERO                   [ATALANTA]   83\n"
     ]
    }
   ],
   "source": [
    "players = players.sort_values(by='R', ascending=False)\n",
    "print(players[[\"Name\", \"Team\", \"R\"]].head(n=10))"
   ]
  },
  {
   "cell_type": "code",
   "execution_count": 29,
   "metadata": {},
   "outputs": [
    {
     "name": "stdout",
     "output_type": "stream",
     "text": [
      "           Name             Team       R_M       M_R\n",
      "177   G.MAGNANI  [HELLAS VERONA]  0.159664  6.263158\n",
      "88     C.ROMERO       [ATALANTA]  0.143599  6.963855\n",
      "460     W.HOEDT          [LAZIO]  0.129199  7.740000\n",
      "69   B.DJIMSITI       [ATALANTA]  0.125189  7.987952\n",
      "410   S.DE MAIO        [UDINESE]  0.121429  8.235294\n",
      "298   M.DEMIRAL       [JUVENTUS]  0.117647  8.500000\n",
      "213    J.CHABOT         [SPEZIA]  0.114058  8.767442\n",
      "381    R.IBANEZ           [ROMA]  0.112235  8.909910\n",
      "301     M.ERLIC         [SPEZIA]  0.112172  8.914894\n",
      "284      M.BANI          [GENOA]  0.110791  9.025974\n"
     ]
    }
   ],
   "source": [
    "players['R_M'] = players['R'] / players['M']\n",
    "players = players.sort_values(by='R_M', ascending=False)\n",
    "top_players = players[[\"Name\", \"Team\", \"R_M\"]].head(n=10)\n",
    "top_players['M_R'] = players['M'] / players['R']\n",
    "print(top_players.head(n=10))"
   ]
  },
  {
   "cell_type": "code",
   "execution_count": 30,
   "metadata": {},
   "outputs": [],
   "source": [
    "thisdir = os.getcwd()\n",
    "thisdir += \"/2020-2021/Player Data/Goalkeeper/\"\n",
    "csv_list = []\n",
    "\n",
    "for r, d, f in os.walk(thisdir):\n",
    "    for file in f:\n",
    "        if file.endswith(\".csv\"):\n",
    "            csv_list.append(os.path.join(r, file))\n",
    "\n",
    "csv_list = sorted(csv_list)\n",
    "\n",
    "players = []\n",
    "\n",
    "for csv_file in csv_list:\n",
    "#     print(csv_file)\n",
    "    if csv_file[-5:] == \"/.csv\":\n",
    "        continue\n",
    "    player_data = pd.read_csv(csv_file, encoding='latin-1')\n",
    "    player_data[\"M_played\"] = player_data.apply(lambda row:convert_to_minutes(row), axis=1)\n",
    "    player_data = player_data.astype({'GC':'int32', 'OG':'int32', 'S':'int32', 'STP':'int32', 'SF':'int32', 'FYC':'int32', 'SYC':'int32', 'RC':'int32'})\n",
    "\n",
    "    players.append([player_data[\"Name\"].unique()[0], player_data[\"Team\"].unique(), player_data[\"M_played\"].sum(), player_data[\"GC\"].sum(), player_data[\"OG\"].sum(), player_data[\"S\"].sum(), player_data[\"STP\"].sum(), player_data[\"SF\"].sum(), player_data[\"FYC\"].sum(), player_data[\"SYC\"].sum(), player_data[\"RC\"].sum(), player_data[\"M_played\"].size])\n",
    "\n",
    "players = pd.DataFrame(np.array(players), columns=['Name', 'Team' , 'M', 'GC', 'OG', 'S', 'STP', 'SF', 'FYC', 'SYC', 'RC', 'N'])\n",
    "players = players.astype({'M':'int32', 'GC':'int32', 'OG':'int32', 'S':'int32', 'STP':'int32', 'SF':'int32', 'FYC':'int32', 'SYC':'int32', 'RC':'int32', 'N':'int32'})\n",
    "players = players[players['M'] >= min_time]\n",
    "players = players[players['N'] >= min_games]"
   ]
  },
  {
   "cell_type": "code",
   "execution_count": 31,
   "metadata": {},
   "outputs": [
    {
     "name": "stdout",
     "output_type": "stream",
     "text": [
      "            Name             Team     M\n",
      "30      S.SIRIGU         [TORINO]  1072\n",
      "6    B.DRAGOWSKI     [FIORENTINA]  1061\n",
      "18    L.MONTIPO'      [BENEVENTO]  1057\n",
      "1       A.CORDAZ        [CROTONE]  1055\n",
      "29  S.HANDANOVIC          [INTER]  1054\n",
      "2       A.CRAGNO       [CAGLIARI]  1053\n",
      "22   M.SILVESTRI  [HELLAS VERONA]  1053\n",
      "19        L.SEPE          [PARMA]  1052\n",
      "9       E.AUDERO      [SAMPDORIA]  1047\n",
      "0     A.CONSIGLI       [SASSUOLO]   971\n"
     ]
    }
   ],
   "source": [
    "players = players.sort_values(by='M', ascending=False)\n",
    "print(players[[\"Name\", \"Team\", \"M\"]].head(n=10))"
   ]
  },
  {
   "cell_type": "code",
   "execution_count": 32,
   "metadata": {},
   "outputs": [
    {
     "name": "stdout",
     "output_type": "stream",
     "text": [
      "            Name          Team        M_N\n",
      "30      S.SIRIGU      [TORINO]  97.454545\n",
      "0     A.CONSIGLI    [SASSUOLO]  97.100000\n",
      "13  G.DONNARUMMA       [MILAN]  96.700000\n",
      "27       P.REINA       [LAZIO]  96.666667\n",
      "6    B.DRAGOWSKI  [FIORENTINA]  96.454545\n",
      "32    W.SZCZESNY    [JUVENTUS]  96.428571\n",
      "20   L.SKORUPSKI     [BOLOGNA]  96.300000\n",
      "16       J.MUSSO     [UDINESE]  96.250000\n",
      "8       D.OSPINA      [NAPOLI]  96.200000\n",
      "18    L.MONTIPO'   [BENEVENTO]  96.090909\n"
     ]
    }
   ],
   "source": [
    "players['M_N'] = players['M'] / players['N']\n",
    "players = players.sort_values(by='M_N', ascending=False)\n",
    "print(players[[\"Name\", \"Team\", \"M_N\"]].head(n=10))"
   ]
  },
  {
   "cell_type": "code",
   "execution_count": 33,
   "metadata": {},
   "outputs": [
    {
     "name": "stdout",
     "output_type": "stream",
     "text": [
      "            Name          Team  GC\n",
      "30      S.SIRIGU      [TORINO]  27\n",
      "1       A.CORDAZ     [CROTONE]  25\n",
      "2       A.CRAGNO    [CAGLIARI]  23\n",
      "18    L.MONTIPO'   [BENEVENTO]  22\n",
      "9       E.AUDERO   [SAMPDORIA]  19\n",
      "6    B.DRAGOWSKI  [FIORENTINA]  19\n",
      "19        L.SEPE       [PARMA]  19\n",
      "20   L.SKORUPSKI     [BOLOGNA]  17\n",
      "15    I.PROVEDEL      [SPEZIA]  16\n",
      "29  S.HANDANOVIC       [INTER]  15\n"
     ]
    }
   ],
   "source": [
    "players = players.sort_values(by='GC', ascending=False)\n",
    "print(players[[\"Name\", \"Team\", \"GC\"]].head(n=10))"
   ]
  },
  {
   "cell_type": "code",
   "execution_count": 34,
   "metadata": {},
   "outputs": [
    {
     "name": "stdout",
     "output_type": "stream",
     "text": [
      "            Name          Team      GC_M       M_GC\n",
      "30      S.SIRIGU      [TORINO]  0.025187  39.703704\n",
      "1       A.CORDAZ     [CROTONE]  0.023697  42.200000\n",
      "31   T.STRAKOSHA       [LAZIO]  0.023061  43.363636\n",
      "2       A.CRAGNO    [CAGLIARI]  0.021842  45.782609\n",
      "23  M.SPORTIELLO    [ATALANTA]  0.021645  46.200000\n",
      "15    I.PROVEDEL      [SPEZIA]  0.021025  47.562500\n",
      "18    L.MONTIPO'   [BENEVENTO]  0.020814  48.045455\n",
      "9       E.AUDERO   [SAMPDORIA]  0.018147  55.105263\n",
      "19        L.SEPE       [PARMA]  0.018061  55.368421\n",
      "6    B.DRAGOWSKI  [FIORENTINA]  0.017908  55.842105\n"
     ]
    }
   ],
   "source": [
    "players['GC_M'] = players['GC'] / players['M']\n",
    "players = players.sort_values(by='GC_M', ascending=False)\n",
    "top_players = players[[\"Name\", \"Team\", \"GC_M\"]].head(n=10)\n",
    "top_players['M_GC'] = players['M'] / players['GC']\n",
    "print(top_players.head(n=10))"
   ]
  },
  {
   "cell_type": "code",
   "execution_count": 35,
   "metadata": {},
   "outputs": [
    {
     "name": "stdout",
     "output_type": "stream",
     "text": [
      "            Name             Team  GC\n",
      "8       D.OSPINA         [NAPOLI]   3\n",
      "3        A.MERET         [NAPOLI]   5\n",
      "32    W.SZCZESNY       [JUVENTUS]   7\n",
      "13  G.DONNARUMMA          [MILAN]   8\n",
      "27       P.REINA          [LAZIO]   8\n",
      "22   M.SILVESTRI  [HELLAS VERONA]   9\n",
      "16       J.MUSSO        [UDINESE]   9\n",
      "31   T.STRAKOSHA          [LAZIO]  11\n",
      "4      A.MIRANTE           [ROMA]  11\n",
      "0     A.CONSIGLI       [SASSUOLO]  12\n"
     ]
    }
   ],
   "source": [
    "players = players.sort_values(by='GC')\n",
    "print(players[[\"Name\", \"Team\", \"GC\"]].head(n=10))"
   ]
  },
  {
   "cell_type": "code",
   "execution_count": 36,
   "metadata": {},
   "outputs": [
    {
     "name": "stdout",
     "output_type": "stream",
     "text": [
      "            Name             Team      GC_M        M_GC\n",
      "8       D.OSPINA         [NAPOLI]  0.006237  160.333333\n",
      "13  G.DONNARUMMA          [MILAN]  0.008273  120.875000\n",
      "22   M.SILVESTRI  [HELLAS VERONA]  0.008547  117.000000\n",
      "32    W.SZCZESNY       [JUVENTUS]  0.010370   96.428571\n",
      "3        A.MERET         [NAPOLI]  0.010438   95.800000\n",
      "16       J.MUSSO        [UDINESE]  0.011688   85.555556\n",
      "0     A.CONSIGLI       [SASSUOLO]  0.012358   80.916667\n",
      "4      A.MIRANTE           [ROMA]  0.012881   77.636364\n",
      "27       P.REINA          [LAZIO]  0.013793   72.500000\n",
      "29  S.HANDANOVIC          [INTER]  0.014231   70.266667\n"
     ]
    }
   ],
   "source": [
    "players['GC_M'] = players['GC'] / players['M']\n",
    "players = players.sort_values(by='GC_M')\n",
    "top_players = players[[\"Name\", \"Team\", \"GC_M\"]].head(n=10)\n",
    "top_players['M_GC'] = players['M'] / players['GC']\n",
    "print(top_players.head(n=10))"
   ]
  },
  {
   "cell_type": "code",
   "execution_count": 37,
   "metadata": {},
   "outputs": [
    {
     "name": "stdout",
     "output_type": "stream",
     "text": [
      "           Name             Team   S\n",
      "2      A.CRAGNO       [CAGLIARI]  56\n",
      "22  M.SILVESTRI  [HELLAS VERONA]  47\n",
      "19       L.SEPE          [PARMA]  43\n",
      "0    A.CONSIGLI       [SASSUOLO]  39\n",
      "9      E.AUDERO      [SAMPDORIA]  38\n",
      "1      A.CORDAZ        [CROTONE]  36\n",
      "21      M.PERIN          [GENOA]  34\n",
      "6   B.DRAGOWSKI     [FIORENTINA]  33\n",
      "18   L.MONTIPO'      [BENEVENTO]  32\n",
      "20  L.SKORUPSKI        [BOLOGNA]  31\n"
     ]
    }
   ],
   "source": [
    "players = players.sort_values(by='S', ascending=False)\n",
    "print(players[[\"Name\", \"Team\", \"S\"]].head(n=10))"
   ]
  },
  {
   "cell_type": "code",
   "execution_count": 38,
   "metadata": {},
   "outputs": [
    {
     "name": "stdout",
     "output_type": "stream",
     "text": [
      "           Name             Team       S_M        M_S\n",
      "2      A.CRAGNO       [CAGLIARI]  0.053181  18.803571\n",
      "22  M.SILVESTRI  [HELLAS VERONA]  0.044634  22.404255\n",
      "21      M.PERIN          [GENOA]  0.044503  22.470588\n",
      "19       L.SEPE          [PARMA]  0.040875  24.465116\n",
      "0    A.CONSIGLI       [SASSUOLO]  0.040165  24.897436\n",
      "27      P.REINA          [LAZIO]  0.037931  26.363636\n",
      "9      E.AUDERO      [SAMPDORIA]  0.036294  27.552632\n",
      "1      A.CORDAZ        [CROTONE]  0.034123  29.305556\n",
      "4     A.MIRANTE           [ROMA]  0.032787  30.500000\n",
      "20  L.SKORUPSKI        [BOLOGNA]  0.032191  31.064516\n"
     ]
    }
   ],
   "source": [
    "players['S_M'] = players['S'] / players['M']\n",
    "players = players.sort_values(by='S_M', ascending=False)\n",
    "top_players = players[[\"Name\", \"Team\", \"S_M\"]].head(n=10)\n",
    "top_players['M_S'] = players['M'] / players['S']\n",
    "print(top_players.head(n=10))"
   ]
  },
  {
   "cell_type": "code",
   "execution_count": 39,
   "metadata": {},
   "outputs": [
    {
     "name": "stdout",
     "output_type": "stream",
     "text": [
      "            Name             Team  Set_S\n",
      "6    B.DRAGOWSKI     [FIORENTINA]      8\n",
      "19        L.SEPE          [PARMA]      7\n",
      "0     A.CONSIGLI       [SASSUOLO]      7\n",
      "4      A.MIRANTE           [ROMA]      7\n",
      "13  G.DONNARUMMA          [MILAN]      5\n",
      "2       A.CRAGNO       [CAGLIARI]      4\n",
      "22   M.SILVESTRI  [HELLAS VERONA]      4\n",
      "29  S.HANDANOVIC          [INTER]      4\n",
      "27       P.REINA          [LAZIO]      4\n",
      "1       A.CORDAZ        [CROTONE]      4\n"
     ]
    }
   ],
   "source": [
    "players['Set_S'] = players['STP'] + players['SF']\n",
    "players = players.sort_values(by='Set_S', ascending=False)\n",
    "print(players[[\"Name\", \"Team\", \"Set_S\"]].head(n=10))"
   ]
  }
 ],
 "metadata": {
  "kernelspec": {
   "display_name": "Python 3",
   "language": "python",
   "name": "python3"
  },
  "language_info": {
   "codemirror_mode": {
    "name": "ipython",
    "version": 3
   },
   "file_extension": ".py",
   "mimetype": "text/x-python",
   "name": "python",
   "nbconvert_exporter": "python",
   "pygments_lexer": "ipython3",
   "version": "3.7.4"
  }
 },
 "nbformat": 4,
 "nbformat_minor": 2
}
