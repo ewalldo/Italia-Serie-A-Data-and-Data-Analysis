{
 "cells": [
  {
   "cell_type": "code",
   "execution_count": 1,
   "metadata": {},
   "outputs": [],
   "source": [
    "import os\n",
    "import csv\n",
    "import pandas as pd\n",
    "import numpy as np\n",
    "import math"
   ]
  },
  {
   "cell_type": "code",
   "execution_count": 2,
   "metadata": {},
   "outputs": [
    {
     "name": "stdout",
     "output_type": "stream",
     "text": [
      "210.0\n",
      "3\n"
     ]
    }
   ],
   "source": [
    "thisdir = os.getcwd()\n",
    "thisdir += \"/2020-2021/Player Data/Non-goalkeeper/\"\n",
    "csv_list = []\n",
    "\n",
    "n_games = 7 #total games played\n",
    "min_time = n_games / 3 * 90 #min time played to be eligible\n",
    "min_games = math.floor(n_games / 2) #min games played to be eligible\n",
    "print(min_time)\n",
    "print(min_games)"
   ]
  },
  {
   "cell_type": "code",
   "execution_count": 3,
   "metadata": {},
   "outputs": [],
   "source": [
    "for r, d, f in os.walk(thisdir):\n",
    "    for file in f:\n",
    "        if file.endswith(\".csv\"):\n",
    "            csv_list.append(os.path.join(r, file))\n",
    "\n",
    "csv_list = sorted(csv_list)"
   ]
  },
  {
   "cell_type": "code",
   "execution_count": 4,
   "metadata": {},
   "outputs": [],
   "source": [
    "def convert_to_minutes(row):\n",
    "    return int(row['M'][:-1])\n",
    "\n",
    "def convert_to_int(row, col):\n",
    "    return int(row[col])"
   ]
  },
  {
   "cell_type": "code",
   "execution_count": 33,
   "metadata": {},
   "outputs": [],
   "source": [
    "players = []\n",
    "\n",
    "for csv_file in csv_list:\n",
    "#     print(csv_file)\n",
    "    if csv_file[-5:] == \"/.csv\":\n",
    "        continue\n",
    "    player_data = pd.read_csv(csv_file, encoding='latin-1')\n",
    "    player_data[\"M_played\"] = player_data.apply(lambda row:convert_to_minutes(row), axis=1)\n",
    "    player_data = player_data.astype({'G':'int32', 'OG':'int32', 'A':'int32', 'AT':'int32', 'BS':'int32', 'SC':'int32', 'FS':'int32', 'BP':'int32', 'AS':'int32', 'KP':'int32', 'P':'int32', 'P%':'int32', 'R':'int32', 'FYC':'int32', 'SYC':'int32', 'RC':'int32'})\n",
    "\n",
    "    players.append([player_data[\"Name\"].unique()[0], player_data[\"Team\"].unique(), player_data[\"M_played\"].sum(), player_data[\"G\"].sum(), player_data[\"OG\"].sum(), player_data[\"A\"].sum(), player_data[\"AT\"].sum(), player_data[\"BS\"].sum(), player_data[\"SC\"].sum(), player_data[\"FS\"].sum(), player_data[\"BP\"].sum(), player_data[\"AS\"].sum(), player_data[\"KP\"].sum(), player_data[\"P\"].sum(), player_data[\"P%\"].sum()  / player_data[\"P%\"].size, player_data[\"R\"].sum(), player_data[\"FYC\"].sum(), player_data[\"SYC\"].sum(), player_data[\"RC\"].sum(), player_data[\"M_played\"].size])\n",
    "\n",
    "players = pd.DataFrame(np.array(players), columns=['Name', 'Team' , 'M', 'G', 'OG', 'A', 'AT', 'BS', 'SC', 'FS', 'BP', 'AS', 'KP', 'P', 'P%', 'R', 'FYC', 'SYC', 'RC', \"N\"])\n",
    "players = players.astype({'M':'int32', 'G':'int32', 'OG':'int32', 'A':'int32', 'AT':'int32', 'BS':'int32', 'SC':'int32', 'FS':'int32', 'BP':'int32', 'AS':'int32', 'KP':'int32', 'P':'int32', 'P%':'float', 'R':'int32', 'FYC':'int32', 'SYC':'int32', 'RC':'int32', 'N':'int32'})\n",
    "players = players[players['M'] >= min_time]\n",
    "players = players[players['N'] >= min_games]"
   ]
  },
  {
   "cell_type": "code",
   "execution_count": 34,
   "metadata": {},
   "outputs": [
    {
     "name": "stdout",
     "output_type": "stream",
     "text": [
      "             Name                 Team    M\n",
      "260  L.PELLEGRINI        [ROMA, GENOA]  795\n",
      "293   M.LOCATELLI           [SASSUOLO]  686\n",
      "173    G.PEZZELLA  [PARMA, FIORENTINA]  684\n",
      "161     G.FERRARI           [SASSUOLO]  679\n",
      "219    J.SCHOUTEN            [BOLOGNA]  676\n",
      "419    T.TOMIYASU            [BOLOGNA]  676\n",
      "125      F.ACERBI              [LAZIO]  673\n",
      "415   T.HERNANDEZ              [MILAN]  673\n",
      "275     M.CACERES         [FIORENTINA]  672\n",
      "253    L.MAGALLAN            [CROTONE]  672\n"
     ]
    }
   ],
   "source": [
    "players = players.sort_values(by='M', ascending=False)\n",
    "print(players[[\"Name\", \"Team\", \"M\"]].head(n=10))"
   ]
  },
  {
   "cell_type": "code",
   "execution_count": 35,
   "metadata": {},
   "outputs": [
    {
     "name": "stdout",
     "output_type": "stream",
     "text": [
      "            Name             Team        M_N\n",
      "70        BREMER         [TORINO]  98.166667\n",
      "293  M.LOCATELLI       [SASSUOLO]  98.000000\n",
      "269       LYANCO         [TORINO]  97.800000\n",
      "161    G.FERRARI       [SASSUOLO]  97.000000\n",
      "88     D.BERARDI       [SASSUOLO]  96.666667\n",
      "219   J.SCHOUTEN        [BOLOGNA]  96.571429\n",
      "419   T.TOMIYASU        [BOLOGNA]  96.571429\n",
      "288     M.GABBIA          [MILAN]  96.250000\n",
      "97     D.FARAONI  [HELLAS VERONA]  96.200000\n",
      "386    S.DE VRIJ          [INTER]  96.200000\n"
     ]
    }
   ],
   "source": [
    "players['M_N'] = players['M'] / players['N']\n",
    "players = players.sort_values(by='M_N', ascending=False)\n",
    "print(players[[\"Name\", \"Team\", \"M_N\"]].head(n=10))"
   ]
  },
  {
   "cell_type": "code",
   "execution_count": 36,
   "metadata": {},
   "outputs": [
    {
     "name": "stdout",
     "output_type": "stream",
     "text": [
      "               Name         Team  G\n",
      "437   Z.IBRAHIMOVIC      [MILAN]  8\n",
      "4         A.BELOTTI     [TORINO]  6\n",
      "83        C.RONALDO   [JUVENTUS]  6\n",
      "131        F.CAPUTO   [SASSUOLO]  5\n",
      "365        R.LUKAKU      [INTER]  5\n",
      "177       G.SIMEONE   [CAGLIARI]  5\n",
      "224      JOAO PEDRO   [CAGLIARI]  5\n",
      "19          A.GOMEZ   [ATALANTA]  4\n",
      "184        H.LOZANO     [NAPOLI]  4\n",
      "143  F.QUAGLIARELLA  [SAMPDORIA]  4\n"
     ]
    }
   ],
   "source": [
    "players = players.sort_values(by='G', ascending=False)\n",
    "print(players[[\"Name\", \"Team\", \"G\"]].head(n=10))"
   ]
  },
  {
   "cell_type": "code",
   "execution_count": 37,
   "metadata": {},
   "outputs": [
    {
     "name": "stdout",
     "output_type": "stream",
     "text": [
      "              Name             Team       G_M         M_G\n",
      "83       C.RONALDO       [JUVENTUS]  0.019868   50.333333\n",
      "258       L.MURIEL       [ATALANTA]  0.017241   58.000000\n",
      "437  Z.IBRAHIMOVIC          [MILAN]  0.016701   59.875000\n",
      "17     A.GALABINOV         [SPEZIA]  0.013043   76.666667\n",
      "129      F.CAICEDO          [LAZIO]  0.012195   82.000000\n",
      "365       R.LUKAKU          [INTER]  0.010616   94.200000\n",
      "16       A.FAVILLI  [HELLAS VERONA]  0.009132  109.500000\n",
      "4        A.BELOTTI         [TORINO]  0.009063  110.333333\n",
      "184       H.LOZANO         [NAPOLI]  0.008969  111.500000\n",
      "131       F.CAPUTO       [SASSUOLO]  0.008757  114.200000\n"
     ]
    }
   ],
   "source": [
    "players['G_M'] = players['G'] / players['M']\n",
    "players = players.sort_values(by='G_M', ascending=False)\n",
    "top_players = players[[\"Name\", \"Team\", \"G_M\"]].head(n=10)\n",
    "top_players['M_G'] = players['M'] / players['G']\n",
    "print(top_players.head(n=10))"
   ]
  },
  {
   "cell_type": "code",
   "execution_count": 38,
   "metadata": {},
   "outputs": [
    {
     "name": "stdout",
     "output_type": "stream",
     "text": [
      "              Name        Team   A\n",
      "437  Z.IBRAHIMOVIC     [MILAN]  30\n",
      "185   H.MKHITARYAN      [ROMA]  23\n",
      "426      V.OSIMHEN    [NAPOLI]  22\n",
      "256     L.MARTINEZ     [INTER]  21\n",
      "19         A.GOMEZ  [ATALANTA]  21\n",
      "83       C.RONALDO  [JUVENTUS]  20\n",
      "213      J.MESSIAS   [CROTONE]  20\n",
      "4        A.BELOTTI    [TORINO]  19\n",
      "131       F.CAPUTO  [SASSUOLO]  19\n",
      "258       L.MURIEL  [ATALANTA]  18\n"
     ]
    }
   ],
   "source": [
    "players = players.sort_values(by='A', ascending=False)\n",
    "print(players[[\"Name\", \"Team\", \"A\"]].head(n=10))"
   ]
  },
  {
   "cell_type": "code",
   "execution_count": 39,
   "metadata": {},
   "outputs": [
    {
     "name": "stdout",
     "output_type": "stream",
     "text": [
      "              Name             Team       A_M        M_A\n",
      "258       L.MURIEL       [ATALANTA]  0.077586  12.888889\n",
      "83       C.RONALDO       [JUVENTUS]  0.066225  15.100000\n",
      "437  Z.IBRAHIMOVIC          [MILAN]  0.062630  15.966667\n",
      "250      L.INSIGNE         [NAPOLI]  0.044674  22.384615\n",
      "426      V.OSIMHEN         [NAPOLI]  0.044625  22.409091\n",
      "303     M.POLITANO         [NAPOLI]  0.042017  23.800000\n",
      "104      D.MERTENS         [NAPOLI]  0.041096  24.333333\n",
      "16       A.FAVILLI  [HELLAS VERONA]  0.041096  24.333333\n",
      "19         A.GOMEZ       [ATALANTA]  0.039924  25.047619\n",
      "256     L.MARTINEZ          [INTER]  0.038391  26.047619\n"
     ]
    }
   ],
   "source": [
    "players['A_M'] = players['A'] / players['M']\n",
    "players = players.sort_values(by='A_M', ascending=False)\n",
    "top_players = players[[\"Name\", \"Team\", \"A_M\"]].head(n=10)\n",
    "top_players['M_A'] = players['M'] / players['A']\n",
    "print(top_players.head(n=10))"
   ]
  },
  {
   "cell_type": "code",
   "execution_count": 40,
   "metadata": {},
   "outputs": [
    {
     "name": "stdout",
     "output_type": "stream",
     "text": [
      "             Name                    Team  AS\n",
      "185  H.MKHITARYAN                  [ROMA]   4\n",
      "323     N.BARELLA                 [INTER]   3\n",
      "133      F.CHIESA  [FIORENTINA, JUVENTUS]   3\n",
      "104     D.MERTENS                [NAPOLI]   3\n",
      "73      C.BIRAGHI            [FIORENTINA]   3\n",
      "377     R.SORIANO               [BOLOGNA]   3\n",
      "364        R.LEAO                 [MILAN]   3\n",
      "258      L.MURIEL              [ATALANTA]   2\n",
      "180       G.ZAPPA              [CAGLIARI]   2\n",
      "118       E.GYASI                [SPEZIA]   2\n"
     ]
    }
   ],
   "source": [
    "players = players.sort_values(by='AS', ascending=False)\n",
    "print(players[[\"Name\", \"Team\", \"AS\"]].head(n=10))"
   ]
  },
  {
   "cell_type": "code",
   "execution_count": 41,
   "metadata": {},
   "outputs": [
    {
     "name": "stdout",
     "output_type": "stream",
     "text": [
      "             Name                    Team      AS_M        M_AS\n",
      "48      A.SANCHEZ                 [INTER]  0.009434  106.000000\n",
      "258      L.MURIEL              [ATALANTA]  0.008621  116.000000\n",
      "303    M.POLITANO                [NAPOLI]  0.008403  119.000000\n",
      "364        R.LEAO                 [MILAN]  0.007833  127.666667\n",
      "56        A.YOUNG                 [INTER]  0.007692  130.000000\n",
      "133      F.CHIESA  [FIORENTINA, JUVENTUS]  0.007353  136.000000\n",
      "104     D.MERTENS                [NAPOLI]  0.006849  146.000000\n",
      "128   F.BONAZZOLI     [SAMPDORIA, TORINO]  0.006472  154.500000\n",
      "185  H.MKHITARYAN                  [ROMA]  0.006202  161.250000\n",
      "323     N.BARELLA                 [INTER]  0.005747  174.000000\n"
     ]
    }
   ],
   "source": [
    "players['AS_M'] = players['AS'] / players['M']\n",
    "players = players.sort_values(by='AS_M', ascending=False)\n",
    "top_players = players[[\"Name\", \"Team\", \"AS_M\"]].head(n=10)\n",
    "top_players['M_AS'] = players['M'] / players['AS']\n",
    "print(top_players.head(n=10))"
   ]
  },
  {
   "cell_type": "code",
   "execution_count": 42,
   "metadata": {},
   "outputs": [
    {
     "name": "stdout",
     "output_type": "stream",
     "text": [
      "             Name           Team   BP\n",
      "293   M.LOCATELLI     [SASSUOLO]  739\n",
      "161     G.FERRARI     [SASSUOLO]  649\n",
      "260  L.PELLEGRINI  [ROMA, GENOA]  616\n",
      "352     R.DE PAUL      [UDINESE]  590\n",
      "112        DANILO     [JUVENTUS]  576\n",
      "125      F.ACERBI        [LAZIO]  572\n",
      "90     D.CALABRIA        [MILAN]  522\n",
      "233   K.KOULIBALY       [NAPOLI]  517\n",
      "147   FABIAN RUIZ       [NAPOLI]  516\n",
      "328  N.MILENKOVIC   [FIORENTINA]  511\n"
     ]
    }
   ],
   "source": [
    "players = players.sort_values(by='BP', ascending=False)\n",
    "print(players[[\"Name\", \"Team\", \"BP\"]].head(n=10))"
   ]
  },
  {
   "cell_type": "code",
   "execution_count": 43,
   "metadata": {},
   "outputs": [
    {
     "name": "stdout",
     "output_type": "stream",
     "text": [
      "             Name        Team      BP_M      M_BP\n",
      "293   M.LOCATELLI  [SASSUOLO]  1.077259  0.928281\n",
      "274    M.BROZOVIC     [INTER]  1.069378  0.935123\n",
      "421   V.CHIRICHES  [SASSUOLO]  1.013917  0.986275\n",
      "112        DANILO  [JUVENTUS]  1.001739  0.998264\n",
      "3       A.BASTONI     [INTER]  1.000000  1.000000\n",
      "27      A.KOLAROV     [INTER]  0.974874  1.025773\n",
      "57         ARTHUR  [JUVENTUS]  0.969900  1.031034\n",
      "267  LUIS ALBERTO     [LAZIO]  0.957661  1.044211\n",
      "161     G.FERRARI  [SASSUOLO]  0.955817  1.046225\n",
      "147   FABIAN RUIZ    [NAPOLI]  0.952030  1.050388\n"
     ]
    }
   ],
   "source": [
    "players['BP_M'] = players['BP'] / players['M']\n",
    "players = players.sort_values(by='BP_M', ascending=False)\n",
    "top_players = players[[\"Name\", \"Team\", \"BP_M\"]].head(n=10)\n",
    "top_players['M_BP'] = players['M'] / players['BP']\n",
    "print(top_players.head(n=10))"
   ]
  },
  {
   "cell_type": "code",
   "execution_count": 44,
   "metadata": {},
   "outputs": [
    {
     "name": "stdout",
     "output_type": "stream",
     "text": [
      "             Name           Team    P\n",
      "293   M.LOCATELLI     [SASSUOLO]  536\n",
      "161     G.FERRARI     [SASSUOLO]  533\n",
      "421   V.CHIRICHES     [SASSUOLO]  423\n",
      "112        DANILO     [JUVENTUS]  416\n",
      "233   K.KOULIBALY       [NAPOLI]  409\n",
      "147   FABIAN RUIZ       [NAPOLI]  404\n",
      "125      F.ACERBI        [LAZIO]  402\n",
      "328  N.MILENKOVIC   [FIORENTINA]  369\n",
      "241     L.BONUCCI     [JUVENTUS]  353\n",
      "260  L.PELLEGRINI  [ROMA, GENOA]  345\n"
     ]
    }
   ],
   "source": [
    "players = players.sort_values(by='P', ascending=False)\n",
    "print(players[[\"Name\", \"Team\", \"P\"]].head(n=10))"
   ]
  },
  {
   "cell_type": "code",
   "execution_count": 45,
   "metadata": {},
   "outputs": [
    {
     "name": "stdout",
     "output_type": "stream",
     "text": [
      "            Name        Team       P_M       M_P\n",
      "421  V.CHIRICHES  [SASSUOLO]  0.840954  1.189125\n",
      "57        ARTHUR  [JUVENTUS]  0.819398  1.220408\n",
      "3      A.BASTONI     [INTER]  0.810526  1.233766\n",
      "274   M.BROZOVIC     [INTER]  0.803828  1.244048\n",
      "161    G.FERRARI  [SASSUOLO]  0.784978  1.273921\n",
      "293  M.LOCATELLI  [SASSUOLO]  0.781341  1.279851\n",
      "294      M.LOPEZ  [SASSUOLO]  0.751724  1.330275\n",
      "147  FABIAN RUIZ    [NAPOLI]  0.745387  1.341584\n",
      "309   M.SKRINIAR     [INTER]  0.726937  1.375635\n",
      "27     A.KOLAROV     [INTER]  0.726131  1.377163\n"
     ]
    }
   ],
   "source": [
    "players['P_M'] = players['P'] / players['M']\n",
    "players = players.sort_values(by='P_M', ascending=False)\n",
    "top_players = players[[\"Name\", \"Team\", \"P_M\"]].head(n=10)\n",
    "top_players['M_P'] = players['M'] / players['P']\n",
    "print(top_players.head(n=10))"
   ]
  },
  {
   "cell_type": "code",
   "execution_count": 46,
   "metadata": {},
   "outputs": [
    {
     "name": "stdout",
     "output_type": "stream",
     "text": [
      "             Name          Team         P%\n",
      "332     N.NKOULOU      [TORINO]  95.600000\n",
      "57         ARTHUR    [JUVENTUS]  94.500000\n",
      "93   D.D'AMBROSIO       [INTER]  94.200000\n",
      "421   V.CHIRICHES    [SASSUOLO]  93.666667\n",
      "288      M.GABBIA       [MILAN]  93.500000\n",
      "431       W.HOEDT       [LAZIO]  93.500000\n",
      "351   R.BENTANCUR    [JUVENTUS]  93.200000\n",
      "222      J.TOLJAN    [SASSUOLO]  93.000000\n",
      "283     M.DEMIRAL    [JUVENTUS]  92.800000\n",
      "144      F.RIBERY  [FIORENTINA]  92.800000\n"
     ]
    }
   ],
   "source": [
    "players = players.sort_values(by='P%', ascending=False)\n",
    "print(players[[\"Name\", \"Team\", \"P%\"]].head(n=10))"
   ]
  },
  {
   "cell_type": "code",
   "execution_count": 47,
   "metadata": {},
   "outputs": [
    {
     "name": "stdout",
     "output_type": "stream",
     "text": [
      "             Name             Team  KP\n",
      "352     R.DE PAUL        [UDINESE]  10\n",
      "182  H.CALHANOGLU          [MILAN]  10\n",
      "136    F.DJURICIC       [SASSUOLO]   7\n",
      "260  L.PELLEGRINI    [ROMA, GENOA]   6\n",
      "377     R.SORIANO        [BOLOGNA]   6\n",
      "88      D.BERARDI       [SASSUOLO]   6\n",
      "331      N.NANDEZ       [CAGLIARI]   5\n",
      "272      M.BARROW        [BOLOGNA]   5\n",
      "263  L.SPINAZZOLA           [ROMA]   5\n",
      "193     I.PERISIC          [INTER]   5\n",
      "318    M.ZACCAGNI  [HELLAS VERONA]   5\n",
      "19        A.GOMEZ       [ATALANTA]   5\n",
      "405       S.VERDI         [TORINO]   5\n",
      "135     F.DIMARCO  [HELLAS VERONA]   5\n",
      "256    L.MARTINEZ          [INTER]   5\n"
     ]
    }
   ],
   "source": [
    "players = players.sort_values(by='KP', ascending=False)\n",
    "print(players[[\"Name\", \"Team\", \"KP\"]].head(n=15))"
   ]
  },
  {
   "cell_type": "code",
   "execution_count": 48,
   "metadata": {},
   "outputs": [
    {
     "name": "stdout",
     "output_type": "stream",
     "text": [
      "              Name        Team      KP_M       M_KP\n",
      "182   H.CALHANOGLU     [MILAN]  0.017391  57.500000\n",
      "352      R.DE PAUL   [UDINESE]  0.014948  66.900000\n",
      "136     F.DJURICIC  [SASSUOLO]  0.014925  67.000000\n",
      "41        A.RAMSEY  [JUVENTUS]  0.013986  71.500000\n",
      "405        S.VERDI    [TORINO]  0.013889  72.000000\n",
      "43         A.REBIC     [MILAN]  0.013043  76.666667\n",
      "303     M.POLITANO    [NAPOLI]  0.012605  79.333333\n",
      "193      I.PERISIC     [INTER]  0.011086  90.200000\n",
      "366  R.MALINOVSKYI  [ATALANTA]  0.010959  91.250000\n",
      "101   D.KULUSEVSKI  [JUVENTUS]  0.010899  91.750000\n"
     ]
    }
   ],
   "source": [
    "players['KP_M'] = players['KP'] / players['M']\n",
    "players = players.sort_values(by='KP_M', ascending=False)\n",
    "top_players = players[[\"Name\", \"Team\", \"KP_M\"]].head(n=10)\n",
    "top_players['M_KP'] = players['M'] / players['KP']\n",
    "print(top_players.head(n=10))"
   ]
  },
  {
   "cell_type": "code",
   "execution_count": 49,
   "metadata": {
    "scrolled": true
   },
   "outputs": [
    {
     "name": "stdout",
     "output_type": "stream",
     "text": [
      "                Name             Team  FS\n",
      "4          A.BELOTTI         [TORINO]  29\n",
      "352        R.DE PAUL        [UDINESE]  27\n",
      "318       M.ZACCAGNI  [HELLAS VERONA]  24\n",
      "213        J.MESSIAS        [CROTONE]  22\n",
      "144         F.RIBERY     [FIORENTINA]  20\n",
      "349            PEDRO           [ROMA]  18\n",
      "171         G.PANDEV          [GENOA]  17\n",
      "189       I.BENNACER          [MILAN]  17\n",
      "347  P.SCHIATTARELLA      [BENEVENTO]  17\n",
      "415      T.HERNANDEZ          [MILAN]  16\n"
     ]
    }
   ],
   "source": [
    "players = players.sort_values(by='FS', ascending=False)\n",
    "print(players[[\"Name\", \"Team\", \"FS\"]].head(n=10))"
   ]
  },
  {
   "cell_type": "code",
   "execution_count": 50,
   "metadata": {
    "scrolled": true
   },
   "outputs": [
    {
     "name": "stdout",
     "output_type": "stream",
     "text": [
      "            Name             Team      FS_M       M_FS\n",
      "318   M.ZACCAGNI  [HELLAS VERONA]  0.048980  20.416667\n",
      "144     F.RIBERY     [FIORENTINA]  0.046404  21.550000\n",
      "4      A.BELOTTI         [TORINO]  0.043807  22.827586\n",
      "352    R.DE PAUL        [UDINESE]  0.040359  24.777778\n",
      "326    N.KALINIC  [HELLAS VERONA]  0.037344  26.777778\n",
      "9    A.CORNELIUS          [PARMA]  0.037313  26.800000\n",
      "171     G.PANDEV          [GENOA]  0.037281  26.823529\n",
      "189   I.BENNACER          [MILAN]  0.034000  29.411765\n",
      "63        B.DIAZ          [MILAN]  0.033613  29.750000\n",
      "213    J.MESSIAS        [CROTONE]  0.032738  30.545455\n"
     ]
    }
   ],
   "source": [
    "players['FS_M'] = players['FS'] / players['M']\n",
    "players = players.sort_values(by='FS_M', ascending=False)\n",
    "top_players = players[[\"Name\", \"Team\", \"FS_M\"]].head(n=10)\n",
    "top_players['M_FS'] = players['M'] / players['FS']\n",
    "print(top_players.head(n=10))"
   ]
  },
  {
   "cell_type": "code",
   "execution_count": 51,
   "metadata": {},
   "outputs": [
    {
     "name": "stdout",
     "output_type": "stream",
     "text": [
      "              Name                         Team   R\n",
      "357       R.IBANEZ                       [ROMA]  79\n",
      "125       F.ACERBI                      [LAZIO]  73\n",
      "385      S.DE MAIO                    [UDINESE]  68\n",
      "132   F.CECCHERINI  [FIORENTINA, HELLAS VERONA]  66\n",
      "328   N.MILENKOVIC                 [FIORENTINA]  65\n",
      "64      B.DJIMSITI                   [ATALANTA]  64\n",
      "419     T.TOMIYASU                    [BOLOGNA]  63\n",
      "70          BREMER                     [TORINO]  62\n",
      "264      L.TONELLI                  [SAMPDORIA]  61\n",
      "78   C.LYKOGIANNIS                   [CAGLIARI]  60\n"
     ]
    }
   ],
   "source": [
    "players = players.sort_values(by='R', ascending=False)\n",
    "print(players[[\"Name\", \"Team\", \"R\"]].head(n=10))"
   ]
  },
  {
   "cell_type": "code",
   "execution_count": 52,
   "metadata": {},
   "outputs": [
    {
     "name": "stdout",
     "output_type": "stream",
     "text": [
      "           Name             Team       R_M       M_R\n",
      "232    K.GUNTER  [HELLAS VERONA]  0.152091  6.575000\n",
      "64   B.DJIMSITI       [ATALANTA]  0.135021  7.406250\n",
      "283   M.DEMIRAL       [JUVENTUS]  0.123116  8.122449\n",
      "271      M.BANI          [GENOA]  0.122977  8.131579\n",
      "385   S.DE MAIO        [UDINESE]  0.121429  8.235294\n",
      "357    R.IBANEZ           [ROMA]  0.120795  8.278481\n",
      "82     C.ROMERO       [ATALANTA]  0.120690  8.285714\n",
      "86     C.ZAPATA          [GENOA]  0.109474  9.134615\n",
      "125    F.ACERBI          [LAZIO]  0.108470  9.219178\n",
      "431     W.HOEDT          [LAZIO]  0.107744  9.281250\n"
     ]
    }
   ],
   "source": [
    "players['R_M'] = players['R'] / players['M']\n",
    "players = players.sort_values(by='R_M', ascending=False)\n",
    "top_players = players[[\"Name\", \"Team\", \"R_M\"]].head(n=10)\n",
    "top_players['M_R'] = players['M'] / players['R']\n",
    "print(top_players.head(n=10))"
   ]
  },
  {
   "cell_type": "code",
   "execution_count": 57,
   "metadata": {},
   "outputs": [],
   "source": [
    "thisdir = os.getcwd()\n",
    "thisdir += \"/2020-2021/Player Data/Goalkeeper/\"\n",
    "csv_list = []\n",
    "\n",
    "for r, d, f in os.walk(thisdir):\n",
    "    for file in f:\n",
    "        if file.endswith(\".csv\"):\n",
    "            csv_list.append(os.path.join(r, file))\n",
    "\n",
    "csv_list = sorted(csv_list)\n",
    "\n",
    "players = []\n",
    "\n",
    "for csv_file in csv_list:\n",
    "#     print(csv_file)\n",
    "    if csv_file[-5:] == \"/.csv\":\n",
    "        continue\n",
    "    player_data = pd.read_csv(csv_file, encoding='latin-1')\n",
    "    player_data[\"M_played\"] = player_data.apply(lambda row:convert_to_minutes(row), axis=1)\n",
    "    player_data = player_data.astype({'GC':'int32', 'OG':'int32', 'S':'int32', 'STP':'int32', 'SF':'int32', 'FYC':'int32', 'SYC':'int32', 'RC':'int32'})\n",
    "\n",
    "    players.append([player_data[\"Name\"].unique()[0], player_data[\"Team\"].unique(), player_data[\"M_played\"].sum(), player_data[\"GC\"].sum(), player_data[\"OG\"].sum(), player_data[\"S\"].sum(), player_data[\"STP\"].sum(), player_data[\"SF\"].sum(), player_data[\"FYC\"].sum(), player_data[\"SYC\"].sum(), player_data[\"RC\"].sum(), player_data[\"M_played\"].size])\n",
    "\n",
    "players = pd.DataFrame(np.array(players), columns=['Name', 'Team' , 'M', 'GC', 'OG', 'S', 'STP', 'SF', 'FYC', 'SYC', 'RC', 'N'])\n",
    "players = players.astype({'M':'int32', 'GC':'int32', 'OG':'int32', 'S':'int32', 'STP':'int32', 'SF':'int32', 'FYC':'int32', 'SYC':'int32', 'RC':'int32', 'N':'int32'})\n",
    "players = players[players['M'] >= min_time]\n",
    "players = players[players['N'] >= min_games]"
   ]
  },
  {
   "cell_type": "code",
   "execution_count": 58,
   "metadata": {},
   "outputs": [
    {
     "name": "stdout",
     "output_type": "stream",
     "text": [
      "            Name             Team    M\n",
      "0     A.CONSIGLI       [SASSUOLO]  686\n",
      "26      S.SIRIGU         [TORINO]  685\n",
      "17   L.SKORUPSKI        [BOLOGNA]  676\n",
      "1       A.CORDAZ        [CROTONE]  672\n",
      "2       A.CRAGNO       [CAGLIARI]  672\n",
      "5    B.DRAGOWSKI     [FIORENTINA]  672\n",
      "19   M.SILVESTRI  [HELLAS VERONA]  672\n",
      "25  S.HANDANOVIC          [INTER]  670\n",
      "15    L.MONTIPO'      [BENEVENTO]  670\n",
      "16        L.SEPE          [PARMA]  669\n"
     ]
    }
   ],
   "source": [
    "players = players.sort_values(by='M', ascending=False)\n",
    "print(players[[\"Name\", \"Team\", \"M\"]].head(n=10))"
   ]
  },
  {
   "cell_type": "code",
   "execution_count": 59,
   "metadata": {},
   "outputs": [
    {
     "name": "stdout",
     "output_type": "stream",
     "text": [
      "            Name             Team        M_N\n",
      "0     A.CONSIGLI       [SASSUOLO]  98.000000\n",
      "23       P.REINA          [LAZIO]  98.000000\n",
      "26      S.SIRIGU         [TORINO]  97.857143\n",
      "17   L.SKORUPSKI        [BOLOGNA]  96.571429\n",
      "7       D.OSPINA         [NAPOLI]  96.500000\n",
      "11  G.DONNARUMMA          [MILAN]  96.166667\n",
      "2       A.CRAGNO       [CAGLIARI]  96.000000\n",
      "5    B.DRAGOWSKI     [FIORENTINA]  96.000000\n",
      "19   M.SILVESTRI  [HELLAS VERONA]  96.000000\n",
      "1       A.CORDAZ        [CROTONE]  96.000000\n"
     ]
    }
   ],
   "source": [
    "players['M_N'] = players['M'] / players['N']\n",
    "players = players.sort_values(by='M_N', ascending=False)\n",
    "print(players[[\"Name\", \"Team\", \"M_N\"]].head(n=10))"
   ]
  },
  {
   "cell_type": "code",
   "execution_count": 60,
   "metadata": {},
   "outputs": [
    {
     "name": "stdout",
     "output_type": "stream",
     "text": [
      "            Name          Team  GC\n",
      "15    L.MONTIPO'   [BENEVENTO]  20\n",
      "1       A.CORDAZ     [CROTONE]  17\n",
      "26      S.SIRIGU      [TORINO]  16\n",
      "2       A.CRAGNO    [CAGLIARI]  15\n",
      "20  M.SPORTIELLO    [ATALANTA]  14\n",
      "16        L.SEPE       [PARMA]  13\n",
      "17   L.SKORUPSKI     [BOLOGNA]  13\n",
      "5    B.DRAGOWSKI  [FIORENTINA]  12\n",
      "8       E.AUDERO   [SAMPDORIA]  11\n",
      "25  S.HANDANOVIC       [INTER]  11\n"
     ]
    }
   ],
   "source": [
    "players = players.sort_values(by='GC', ascending=False)\n",
    "print(players[[\"Name\", \"Team\", \"GC\"]].head(n=10))"
   ]
  },
  {
   "cell_type": "code",
   "execution_count": 61,
   "metadata": {},
   "outputs": [
    {
     "name": "stdout",
     "output_type": "stream",
     "text": [
      "            Name          Team      GC_M       M_GC\n",
      "15    L.MONTIPO'   [BENEVENTO]  0.029851  33.500000\n",
      "1       A.CORDAZ     [CROTONE]  0.025298  39.529412\n",
      "26      S.SIRIGU      [TORINO]  0.023358  42.812500\n",
      "2       A.CRAGNO    [CAGLIARI]  0.022321  44.800000\n",
      "12    I.PROVEDEL      [SPEZIA]  0.021220  47.125000\n",
      "27   T.STRAKOSHA       [LAZIO]  0.021108  47.375000\n",
      "20  M.SPORTIELLO    [ATALANTA]  0.021053  47.500000\n",
      "16        L.SEPE       [PARMA]  0.019432  51.461538\n",
      "17   L.SKORUPSKI     [BOLOGNA]  0.019231  52.000000\n",
      "5    B.DRAGOWSKI  [FIORENTINA]  0.017857  56.000000\n"
     ]
    }
   ],
   "source": [
    "players['GC_M'] = players['GC'] / players['M']\n",
    "players = players.sort_values(by='GC_M', ascending=False)\n",
    "top_players = players[[\"Name\", \"Team\", \"GC_M\"]].head(n=10)\n",
    "top_players['M_GC'] = players['M'] / players['GC']\n",
    "print(top_players.head(n=10))"
   ]
  },
  {
   "cell_type": "code",
   "execution_count": 62,
   "metadata": {},
   "outputs": [
    {
     "name": "stdout",
     "output_type": "stream",
     "text": [
      "            Name             Team  GC\n",
      "7       D.OSPINA         [NAPOLI]   3\n",
      "11  G.DONNARUMMA          [MILAN]   4\n",
      "28    W.SZCZESNY       [JUVENTUS]   4\n",
      "19   M.SILVESTRI  [HELLAS VERONA]   5\n",
      "23       P.REINA          [LAZIO]   5\n",
      "13       J.MUSSO        [UDINESE]   6\n",
      "4      A.MIRANTE           [ROMA]   7\n",
      "27   T.STRAKOSHA          [LAZIO]   8\n",
      "12    I.PROVEDEL         [SPEZIA]   8\n",
      "18       M.PERIN          [GENOA]   9\n"
     ]
    }
   ],
   "source": [
    "players = players.sort_values(by='GC')\n",
    "print(players[[\"Name\", \"Team\", \"GC\"]].head(n=10))"
   ]
  },
  {
   "cell_type": "code",
   "execution_count": 63,
   "metadata": {},
   "outputs": [
    {
     "name": "stdout",
     "output_type": "stream",
     "text": [
      "            Name             Team      GC_M        M_GC\n",
      "11  G.DONNARUMMA          [MILAN]  0.006932  144.250000\n",
      "19   M.SILVESTRI  [HELLAS VERONA]  0.007440  134.400000\n",
      "7       D.OSPINA         [NAPOLI]  0.007772  128.666667\n",
      "28    W.SZCZESNY       [JUVENTUS]  0.010444   95.750000\n",
      "4      A.MIRANTE           [ROMA]  0.012216   81.857143\n",
      "13       J.MUSSO        [UDINESE]  0.012605   79.333333\n",
      "0     A.CONSIGLI       [SASSUOLO]  0.013120   76.222222\n",
      "18       M.PERIN          [GENOA]  0.015762   63.444444\n",
      "25  S.HANDANOVIC          [INTER]  0.016418   60.909091\n",
      "8       E.AUDERO      [SAMPDORIA]  0.016591   60.272727\n"
     ]
    }
   ],
   "source": [
    "players['GC_M'] = players['GC'] / players['M']\n",
    "players = players.sort_values(by='GC_M')\n",
    "top_players = players[[\"Name\", \"Team\", \"GC_M\"]].head(n=10)\n",
    "top_players['M_GC'] = players['M'] / players['GC']\n",
    "print(top_players.head(n=10))"
   ]
  },
  {
   "cell_type": "code",
   "execution_count": 64,
   "metadata": {},
   "outputs": [
    {
     "name": "stdout",
     "output_type": "stream",
     "text": [
      "            Name             Team   S\n",
      "2       A.CRAGNO       [CAGLIARI]  36\n",
      "19   M.SILVESTRI  [HELLAS VERONA]  32\n",
      "0     A.CONSIGLI       [SASSUOLO]  30\n",
      "16        L.SEPE          [PARMA]  27\n",
      "18       M.PERIN          [GENOA]  26\n",
      "15    L.MONTIPO'      [BENEVENTO]  24\n",
      "8       E.AUDERO      [SAMPDORIA]  23\n",
      "17   L.SKORUPSKI        [BOLOGNA]  23\n",
      "26      S.SIRIGU         [TORINO]  21\n",
      "20  M.SPORTIELLO       [ATALANTA]  21\n"
     ]
    }
   ],
   "source": [
    "players = players.sort_values(by='S', ascending=False)\n",
    "print(players[[\"Name\", \"Team\", \"S\"]].head(n=10))"
   ]
  },
  {
   "cell_type": "code",
   "execution_count": 65,
   "metadata": {},
   "outputs": [
    {
     "name": "stdout",
     "output_type": "stream",
     "text": [
      "           Name             Team       S_M        M_S\n",
      "2      A.CRAGNO       [CAGLIARI]  0.053571  18.666667\n",
      "19  M.SILVESTRI  [HELLAS VERONA]  0.047619  21.000000\n",
      "18      M.PERIN          [GENOA]  0.045534  21.961538\n",
      "0    A.CONSIGLI       [SASSUOLO]  0.043732  22.866667\n",
      "16       L.SEPE          [PARMA]  0.040359  24.777778\n",
      "15   L.MONTIPO'      [BENEVENTO]  0.035821  27.916667\n",
      "4     A.MIRANTE           [ROMA]  0.034904  28.650000\n",
      "8      E.AUDERO      [SAMPDORIA]  0.034691  28.826087\n",
      "27  T.STRAKOSHA          [LAZIO]  0.034301  29.153846\n",
      "17  L.SKORUPSKI        [BOLOGNA]  0.034024  29.391304\n"
     ]
    }
   ],
   "source": [
    "players['S_M'] = players['S'] / players['M']\n",
    "players = players.sort_values(by='S_M', ascending=False)\n",
    "top_players = players[[\"Name\", \"Team\", \"S_M\"]].head(n=10)\n",
    "top_players['M_S'] = players['M'] / players['S']\n",
    "print(top_players.head(n=10))"
   ]
  },
  {
   "cell_type": "code",
   "execution_count": 66,
   "metadata": {},
   "outputs": [
    {
     "name": "stdout",
     "output_type": "stream",
     "text": [
      "            Name          Team  Set_S\n",
      "4      A.MIRANTE        [ROMA]      6\n",
      "0     A.CONSIGLI    [SASSUOLO]      6\n",
      "16        L.SEPE       [PARMA]      5\n",
      "5    B.DRAGOWSKI  [FIORENTINA]      4\n",
      "2       A.CRAGNO    [CAGLIARI]      3\n",
      "20  M.SPORTIELLO    [ATALANTA]      3\n",
      "23       P.REINA       [LAZIO]      3\n",
      "8       E.AUDERO   [SAMPDORIA]      2\n",
      "15    L.MONTIPO'   [BENEVENTO]      2\n",
      "18       M.PERIN       [GENOA]      2\n"
     ]
    }
   ],
   "source": [
    "players['Set_S'] = players['STP'] + players['SF']\n",
    "players = players.sort_values(by='Set_S', ascending=False)\n",
    "print(players[[\"Name\", \"Team\", \"Set_S\"]].head(n=10))"
   ]
  }
 ],
 "metadata": {
  "kernelspec": {
   "display_name": "Python 3",
   "language": "python",
   "name": "python3"
  },
  "language_info": {
   "codemirror_mode": {
    "name": "ipython",
    "version": 3
   },
   "file_extension": ".py",
   "mimetype": "text/x-python",
   "name": "python",
   "nbconvert_exporter": "python",
   "pygments_lexer": "ipython3",
   "version": "3.7.4"
  }
 },
 "nbformat": 4,
 "nbformat_minor": 2
}
