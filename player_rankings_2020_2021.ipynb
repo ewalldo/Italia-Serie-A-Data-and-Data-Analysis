{
 "cells": [
  {
   "cell_type": "code",
   "execution_count": 1,
   "metadata": {},
   "outputs": [],
   "source": [
    "import os\n",
    "import csv\n",
    "import pandas as pd\n",
    "import numpy as np\n",
    "import math"
   ]
  },
  {
   "cell_type": "code",
   "execution_count": 4,
   "metadata": {},
   "outputs": [
    {
     "name": "stdout",
     "output_type": "stream",
     "text": [
      "180.0\n",
      "2\n"
     ]
    }
   ],
   "source": [
    "thisdir = os.getcwd()\n",
    "thisdir += \"/2020-2021/Player Data/Non-goalkeeper/\"\n",
    "csv_list = []\n",
    "\n",
    "n_games = 4 #total games played\n",
    "min_time = n_games / 2 * 90 #min time played to be eligible\n",
    "min_games = math.floor(n_games / 2) #min games played to be eligible\n",
    "print(min_time)\n",
    "print(min_games)"
   ]
  },
  {
   "cell_type": "code",
   "execution_count": 5,
   "metadata": {},
   "outputs": [],
   "source": [
    "for r, d, f in os.walk(thisdir):\n",
    "    for file in f:\n",
    "        if file.endswith(\".csv\"):\n",
    "            csv_list.append(os.path.join(r, file))\n",
    "\n",
    "csv_list = sorted(csv_list)"
   ]
  },
  {
   "cell_type": "code",
   "execution_count": 6,
   "metadata": {},
   "outputs": [],
   "source": [
    "def convert_to_minutes(row):\n",
    "    return int(row['M'][:-1])\n",
    "\n",
    "def convert_to_int(row, col):\n",
    "    return int(row[col])"
   ]
  },
  {
   "cell_type": "code",
   "execution_count": 7,
   "metadata": {},
   "outputs": [],
   "source": [
    "players = []\n",
    "\n",
    "for csv_file in csv_list:\n",
    "#     print(csv_file)\n",
    "    if csv_file[-5:] == \"/.csv\":\n",
    "        continue\n",
    "    player_data = pd.read_csv(csv_file, encoding='latin-1')\n",
    "    player_data[\"M_played\"] = player_data.apply(lambda row:convert_to_minutes(row), axis=1)\n",
    "    player_data = player_data.astype({'G':'int32', 'OG':'int32', 'A':'int32', 'AT':'int32', 'BS':'int32', 'SC':'int32', 'FS':'int32', 'BP':'int32', 'AS':'int32', 'KP':'int32', 'P':'int32', 'P%':'int32', 'R':'int32', 'FYC':'int32', 'SYC':'int32', 'RC':'int32'})\n",
    "\n",
    "    players.append([player_data[\"Name\"].unique()[0], player_data[\"Team\"].unique(), player_data[\"M_played\"].sum(), player_data[\"G\"].sum(), player_data[\"OG\"].sum(), player_data[\"A\"].sum(), player_data[\"AT\"].sum(), player_data[\"BS\"].sum(), player_data[\"SC\"].sum(), player_data[\"FS\"].sum(), player_data[\"BP\"].sum(), player_data[\"AS\"].sum(), player_data[\"KP\"].sum(), player_data[\"P\"].sum(), player_data[\"P%\"].sum()  / player_data[\"P%\"].size, player_data[\"R\"].sum(), player_data[\"FYC\"].sum(), player_data[\"SYC\"].sum(), player_data[\"RC\"].sum(), player_data[\"M_played\"].size])\n",
    "\n",
    "players = pd.DataFrame(np.array(players), columns=['Name', 'Team' , 'M', 'G', 'OG', 'A', 'AT', 'BS', 'SC', 'FS', 'BP', 'AS', 'KP', 'P', 'P%', 'R', 'FYC', 'SYC', 'RC', \"N\"])\n",
    "players = players.astype({'M':'int32', 'G':'int32', 'OG':'int32', 'A':'int32', 'AT':'int32', 'BS':'int32', 'SC':'int32', 'FS':'int32', 'BP':'int32', 'AS':'int32', 'KP':'int32', 'P':'int32', 'P%':'float', 'R':'int32', 'FYC':'int32', 'SYC':'int32', 'RC':'int32', 'N':'int32'})\n",
    "players = players[players['M'] >= min_time]\n",
    "players = players[players['N'] >= min_games]"
   ]
  },
  {
   "cell_type": "code",
   "execution_count": 8,
   "metadata": {},
   "outputs": [
    {
     "name": "stdout",
     "output_type": "stream",
     "text": [
      "             Name           Team    M\n",
      "263   M.LOCATELLI     [SASSUOLO]  396\n",
      "114      F.CAPUTO     [SASSUOLO]  396\n",
      "232  L.PELLEGRINI  [ROMA, GENOA]  391\n",
      "141     G.FERRARI     [SASSUOLO]  389\n",
      "74      D.BERARDI     [SASSUOLO]  389\n",
      "195    J.SCHOUTEN      [BOLOGNA]  388\n",
      "293  N.MILENKOVIC   [FIORENTINA]  388\n",
      "245     M.CACERES   [FIORENTINA]  388\n",
      "383    T.TOMIYASU      [BOLOGNA]  388\n",
      "379   T.HERNANDEZ        [MILAN]  387\n"
     ]
    }
   ],
   "source": [
    "players = players.sort_values(by='M', ascending=False)\n",
    "print(players[[\"Name\", \"Team\", \"M\"]].head(n=10))"
   ]
  },
  {
   "cell_type": "code",
   "execution_count": 9,
   "metadata": {},
   "outputs": [
    {
     "name": "stdout",
     "output_type": "stream",
     "text": [
      "             Name          Team        M_N\n",
      "263   M.LOCATELLI    [SASSUOLO]  99.000000\n",
      "114      F.CAPUTO    [SASSUOLO]  99.000000\n",
      "193       J.RAMOS      [SPEZIA]  99.000000\n",
      "57         BREMER      [TORINO]  98.000000\n",
      "3       A.BELOTTI      [TORINO]  97.333333\n",
      "297     N.NKOULOU      [TORINO]  97.333333\n",
      "141     G.FERRARI    [SASSUOLO]  97.250000\n",
      "74      D.BERARDI    [SASSUOLO]  97.250000\n",
      "293  N.MILENKOVIC  [FIORENTINA]  97.000000\n",
      "383    T.TOMIYASU     [BOLOGNA]  97.000000\n"
     ]
    }
   ],
   "source": [
    "players['M_N'] = players['M'] / players['N']\n",
    "players = players.sort_values(by='M_N', ascending=False)\n",
    "print(players[[\"Name\", \"Team\", \"M_N\"]].head(n=10))"
   ]
  },
  {
   "cell_type": "code",
   "execution_count": 10,
   "metadata": {},
   "outputs": [
    {
     "name": "stdout",
     "output_type": "stream",
     "text": [
      "               Name         Team  G\n",
      "114        F.CAPUTO   [SASSUOLO]  4\n",
      "329        R.LUKAKU      [INTER]  4\n",
      "3         A.BELOTTI     [TORINO]  4\n",
      "162        H.LOZANO     [NAPOLI]  4\n",
      "399   Z.IBRAHIMOVIC      [MILAN]  4\n",
      "15          A.GOMEZ   [ATALANTA]  4\n",
      "126  F.QUAGLIARELLA  [SAMPDORIA]  3\n",
      "228      L.MARTINEZ      [INTER]  3\n",
      "156       G.SIMEONE   [CAGLIARI]  3\n",
      "14      A.GALABINOV     [SPEZIA]  3\n"
     ]
    }
   ],
   "source": [
    "players = players.sort_values(by='G', ascending=False)\n",
    "print(players[[\"Name\", \"Team\", \"G\"]].head(n=10))"
   ]
  },
  {
   "cell_type": "code",
   "execution_count": 11,
   "metadata": {},
   "outputs": [
    {
     "name": "stdout",
     "output_type": "stream",
     "text": [
      "               Name         Team       G_M         M_G\n",
      "399   Z.IBRAHIMOVIC      [MILAN]  0.020725   48.250000\n",
      "162        H.LOZANO     [NAPOLI]  0.016260   61.500000\n",
      "70        C.RONALDO   [JUVENTUS]  0.016043   62.333333\n",
      "15          A.GOMEZ   [ATALANTA]  0.013793   72.500000\n",
      "3         A.BELOTTI     [TORINO]  0.013699   73.000000\n",
      "14      A.GALABINOV     [SPEZIA]  0.013043   76.666667\n",
      "329        R.LUKAKU      [INTER]  0.011173   89.500000\n",
      "114        F.CAPUTO   [SASSUOLO]  0.010101   99.000000\n",
      "228      L.MARTINEZ      [INTER]  0.009868  101.333333\n",
      "126  F.QUAGLIARELLA  [SAMPDORIA]  0.009804  102.000000\n"
     ]
    }
   ],
   "source": [
    "players['G_M'] = players['G'] / players['M']\n",
    "players = players.sort_values(by='G_M', ascending=False)\n",
    "top_players = players[[\"Name\", \"Team\", \"G_M\"]].head(n=10)\n",
    "top_players['M_G'] = players['M'] / players['G']\n",
    "print(top_players.head(n=10))"
   ]
  },
  {
   "cell_type": "code",
   "execution_count": 12,
   "metadata": {},
   "outputs": [
    {
     "name": "stdout",
     "output_type": "stream",
     "text": [
      "               Name         Team   A\n",
      "114        F.CAPUTO   [SASSUOLO]  17\n",
      "74        D.BERARDI   [SASSUOLO]  14\n",
      "70        C.RONALDO   [JUVENTUS]  13\n",
      "208       K.LASAGNA    [UDINESE]  13\n",
      "329        R.LUKAKU      [INTER]  13\n",
      "15          A.GOMEZ   [ATALANTA]  12\n",
      "126  F.QUAGLIARELLA  [SAMPDORIA]  12\n",
      "399   Z.IBRAHIMOVIC      [MILAN]  11\n",
      "390       V.OSIMHEN     [NAPOLI]  11\n",
      "163    H.MKHITARYAN       [ROMA]  11\n"
     ]
    }
   ],
   "source": [
    "players = players.sort_values(by='A', ascending=False)\n",
    "print(players[[\"Name\", \"Team\", \"A\"]].head(n=10))"
   ]
  },
  {
   "cell_type": "code",
   "execution_count": 13,
   "metadata": {},
   "outputs": [
    {
     "name": "stdout",
     "output_type": "stream",
     "text": [
      "               Name          Team       A_M        M_A\n",
      "70        C.RONALDO    [JUVENTUS]  0.069519  14.384615\n",
      "399   Z.IBRAHIMOVIC       [MILAN]  0.056995  17.545455\n",
      "390       V.OSIMHEN      [NAPOLI]  0.051643  19.363636\n",
      "162        H.LOZANO      [NAPOLI]  0.044715  22.363636\n",
      "114        F.CAPUTO    [SASSUOLO]  0.042929  23.294118\n",
      "63       C.IMMOBILE       [LAZIO]  0.041985  23.818182\n",
      "15          A.GOMEZ    [ATALANTA]  0.041379  24.166667\n",
      "92       D.VLAHOVIC  [FIORENTINA]  0.041096  24.333333\n",
      "126  F.QUAGLIARELLA   [SAMPDORIA]  0.039216  25.500000\n",
      "88        D.MERTENS      [NAPOLI]  0.038627  25.888889\n"
     ]
    }
   ],
   "source": [
    "players['A_M'] = players['A'] / players['M']\n",
    "players = players.sort_values(by='A_M', ascending=False)\n",
    "top_players = players[[\"Name\", \"Team\", \"A_M\"]].head(n=10)\n",
    "top_players['M_A'] = players['M'] / players['A']\n",
    "print(top_players.head(n=10))"
   ]
  },
  {
   "cell_type": "code",
   "execution_count": 14,
   "metadata": {},
   "outputs": [
    {
     "name": "stdout",
     "output_type": "stream",
     "text": [
      "             Name                    Team  AS\n",
      "163  H.MKHITARYAN                  [ROMA]   3\n",
      "88      D.MERTENS                [NAPOLI]   3\n",
      "111   F.BONAZZOLI     [SAMPDORIA, TORINO]   2\n",
      "320      R.GOSENS              [ATALANTA]   2\n",
      "23      A.MARUSIC                 [LAZIO]   2\n",
      "93       D.ZAPATA              [ATALANTA]   2\n",
      "116      F.CHIESA  [FIORENTINA, JUVENTUS]   2\n",
      "17       A.HAKIMI                 [INTER]   2\n",
      "127      F.RIBERY            [FIORENTINA]   2\n",
      "306   P.GHIGLIONE                 [GENOA]   2\n"
     ]
    }
   ],
   "source": [
    "players = players.sort_values(by='AS', ascending=False)\n",
    "print(players[[\"Name\", \"Team\", \"AS\"]].head(n=10))"
   ]
  },
  {
   "cell_type": "code",
   "execution_count": 15,
   "metadata": {},
   "outputs": [
    {
     "name": "stdout",
     "output_type": "stream",
     "text": [
      "             Name                    Team      AS_M        M_AS\n",
      "88      D.MERTENS                [NAPOLI]  0.012876   77.666667\n",
      "306   P.GHIGLIONE                 [GENOA]  0.008811  113.500000\n",
      "111   F.BONAZZOLI     [SAMPDORIA, TORINO]  0.008696  115.000000\n",
      "163  H.MKHITARYAN                  [ROMA]  0.008357  119.666667\n",
      "127      F.RIBERY            [FIORENTINA]  0.007843  127.500000\n",
      "23      A.MARUSIC                 [LAZIO]  0.007380  135.500000\n",
      "93       D.ZAPATA              [ATALANTA]  0.007117  140.500000\n",
      "191    J.PALOMINO              [ATALANTA]  0.007018  142.500000\n",
      "15        A.GOMEZ              [ATALANTA]  0.006897  145.000000\n",
      "116      F.CHIESA  [FIORENTINA, JUVENTUS]  0.006390  156.500000\n"
     ]
    }
   ],
   "source": [
    "players['AS_M'] = players['AS'] / players['M']\n",
    "players = players.sort_values(by='AS_M', ascending=False)\n",
    "top_players = players[[\"Name\", \"Team\", \"AS_M\"]].head(n=10)\n",
    "top_players['M_AS'] = players['M'] / players['AS']\n",
    "print(top_players.head(n=10))"
   ]
  },
  {
   "cell_type": "code",
   "execution_count": 16,
   "metadata": {},
   "outputs": [
    {
     "name": "stdout",
     "output_type": "stream",
     "text": [
      "             Name           Team   BP\n",
      "263   M.LOCATELLI     [SASSUOLO]  414\n",
      "141     G.FERRARI     [SASSUOLO]  376\n",
      "316     R.DE PAUL      [UDINESE]  353\n",
      "216    L.CIGARINI      [CROTONE]  332\n",
      "95         DANILO     [JUVENTUS]  326\n",
      "151      G.PATRIC        [LAZIO]  325\n",
      "76     D.CALABRIA        [MILAN]  316\n",
      "238  LUIS ALBERTO        [LAZIO]  315\n",
      "385   V.CHIRICHES     [SASSUOLO]  301\n",
      "232  L.PELLEGRINI  [ROMA, GENOA]  301\n"
     ]
    }
   ],
   "source": [
    "players = players.sort_values(by='BP', ascending=False)\n",
    "print(players[[\"Name\", \"Team\", \"BP\"]].head(n=10))"
   ]
  },
  {
   "cell_type": "code",
   "execution_count": 17,
   "metadata": {},
   "outputs": [
    {
     "name": "stdout",
     "output_type": "stream",
     "text": [
      "            Name             Team      BP_M      M_BP\n",
      "95        DANILO       [JUVENTUS]  1.147887  0.871166\n",
      "2      A.BASTONI          [INTER]  1.093264  0.914692\n",
      "263  M.LOCATELLI       [SASSUOLO]  1.045455  0.956522\n",
      "102      E.HYSAJ         [NAPOLI]  1.038596  0.962838\n",
      "244   M.BROZOVIC          [INTER]  1.005155  0.994872\n",
      "31      A.RABIOT       [JUVENTUS]  0.994536  1.005495\n",
      "207  K.KOULIBALY         [NAPOLI]  0.982456  1.017857\n",
      "130  FABIAN RUIZ         [NAPOLI]  0.973077  1.027668\n",
      "141    G.FERRARI       [SASSUOLO]  0.966581  1.034574\n",
      "168       I.ILIC  [HELLAS VERONA]  0.956098  1.045918\n"
     ]
    }
   ],
   "source": [
    "players['BP_M'] = players['BP'] / players['M']\n",
    "players = players.sort_values(by='BP_M', ascending=False)\n",
    "top_players = players[[\"Name\", \"Team\", \"BP_M\"]].head(n=10)\n",
    "top_players['M_BP'] = players['M'] / players['BP']\n",
    "print(top_players.head(n=10))"
   ]
  },
  {
   "cell_type": "code",
   "execution_count": 18,
   "metadata": {},
   "outputs": [
    {
     "name": "stdout",
     "output_type": "stream",
     "text": [
      "            Name        Team    P\n",
      "141    G.FERRARI  [SASSUOLO]  309\n",
      "263  M.LOCATELLI  [SASSUOLO]  291\n",
      "151     G.PATRIC     [LAZIO]  252\n",
      "385  V.CHIRICHES  [SASSUOLO]  246\n",
      "95        DANILO  [JUVENTUS]  232\n",
      "207  K.KOULIBALY    [NAPOLI]  221\n",
      "216   L.CIGARINI   [CROTONE]  214\n",
      "102      E.HYSAJ    [NAPOLI]  207\n",
      "321     R.IBANEZ      [ROMA]  198\n",
      "316    R.DE PAUL   [UDINESE]  198\n"
     ]
    }
   ],
   "source": [
    "players = players.sort_values(by='P', ascending=False)\n",
    "print(players[[\"Name\", \"Team\", \"P\"]].head(n=10))"
   ]
  },
  {
   "cell_type": "code",
   "execution_count": 19,
   "metadata": {},
   "outputs": [
    {
     "name": "stdout",
     "output_type": "stream",
     "text": [
      "            Name        Team       P_M       M_P\n",
      "2      A.BASTONI     [INTER]  0.911917  1.096591\n",
      "95        DANILO  [JUVENTUS]  0.816901  1.224138\n",
      "141    G.FERRARI  [SASSUOLO]  0.794344  1.258900\n",
      "385  V.CHIRICHES  [SASSUOLO]  0.776025  1.288618\n",
      "207  K.KOULIBALY    [NAPOLI]  0.775439  1.289593\n",
      "244   M.BROZOVIC     [INTER]  0.762887  1.310811\n",
      "31      A.RABIOT  [JUVENTUS]  0.743169  1.345588\n",
      "263  M.LOCATELLI  [SASSUOLO]  0.734848  1.360825\n",
      "130  FABIAN RUIZ    [NAPOLI]  0.730769  1.368421\n",
      "102      E.HYSAJ    [NAPOLI]  0.726316  1.376812\n"
     ]
    }
   ],
   "source": [
    "players['P_M'] = players['P'] / players['M']\n",
    "players = players.sort_values(by='P_M', ascending=False)\n",
    "top_players = players[[\"Name\", \"Team\", \"P_M\"]].head(n=10)\n",
    "top_players['M_P'] = players['M'] / players['P']\n",
    "print(top_players.head(n=10))"
   ]
  },
  {
   "cell_type": "code",
   "execution_count": 20,
   "metadata": {},
   "outputs": [
    {
     "name": "stdout",
     "output_type": "stream",
     "text": [
      "             Name        Team         P%\n",
      "211     K.MANOLAS    [NAPOLI]  96.000000\n",
      "258      M.GABBIA     [MILAN]  94.666667\n",
      "139  G.DI LORENZO    [NAPOLI]  93.666667\n",
      "317     R.FREULER  [ATALANTA]  93.333333\n",
      "141     G.FERRARI  [SASSUOLO]  93.250000\n",
      "197      J.TOLJAN  [SASSUOLO]  93.000000\n",
      "214     L.BONUCCI  [JUVENTUS]  93.000000\n",
      "297     N.NKOULOU    [TORINO]  92.666667\n",
      "385   V.CHIRICHES  [SASSUOLO]  92.500000\n",
      "2       A.BASTONI     [INTER]  92.000000\n"
     ]
    }
   ],
   "source": [
    "players = players.sort_values(by='P%', ascending=False)\n",
    "print(players[[\"Name\", \"Team\", \"P%\"]].head(n=10))"
   ]
  },
  {
   "cell_type": "code",
   "execution_count": 21,
   "metadata": {},
   "outputs": [
    {
     "name": "stdout",
     "output_type": "stream",
     "text": [
      "             Name             Team  KP\n",
      "316     R.DE PAUL        [UDINESE]   9\n",
      "119    F.DJURICIC       [SASSUOLO]   6\n",
      "160  H.CALHANOGLU          [MILAN]   5\n",
      "234  L.SPINAZZOLA           [ROMA]   5\n",
      "228    L.MARTINEZ          [INTER]   4\n",
      "118     F.DIMARCO  [HELLAS VERONA]   4\n",
      "242      M.BARROW        [BOLOGNA]   4\n",
      "341     R.SORIANO        [BOLOGNA]   4\n",
      "127      F.RIBERY     [FIORENTINA]   4\n",
      "74      D.BERARDI       [SASSUOLO]   4\n"
     ]
    }
   ],
   "source": [
    "players = players.sort_values(by='KP', ascending=False)\n",
    "print(players[[\"Name\", \"Team\", \"KP\"]].head(n=10))"
   ]
  },
  {
   "cell_type": "code",
   "execution_count": 22,
   "metadata": {},
   "outputs": [
    {
     "name": "stdout",
     "output_type": "stream",
     "text": [
      "             Name             Team      KP_M       M_KP\n",
      "316     R.DE PAUL        [UDINESE]  0.023377  42.777778\n",
      "160  H.CALHANOGLU          [MILAN]  0.016447  60.800000\n",
      "119    F.DJURICIC       [SASSUOLO]  0.016086  62.166667\n",
      "127      F.RIBERY     [FIORENTINA]  0.015686  63.750000\n",
      "228    L.MARTINEZ          [INTER]  0.013158  76.000000\n",
      "234  L.SPINAZZOLA           [ROMA]  0.013055  76.600000\n",
      "118     F.DIMARCO  [HELLAS VERONA]  0.012739  78.500000\n",
      "242      M.BARROW        [BOLOGNA]  0.011730  85.250000\n",
      "270     M.PASALIC       [ATALANTA]  0.011673  85.666667\n",
      "1         A.BARAK  [HELLAS VERONA]  0.010929  91.500000\n"
     ]
    }
   ],
   "source": [
    "players['KP_M'] = players['KP'] / players['M']\n",
    "players = players.sort_values(by='KP_M', ascending=False)\n",
    "top_players = players[[\"Name\", \"Team\", \"KP_M\"]].head(n=10)\n",
    "top_players['M_KP'] = players['M'] / players['KP']\n",
    "print(top_players.head(n=10))"
   ]
  },
  {
   "cell_type": "code",
   "execution_count": 23,
   "metadata": {
    "scrolled": true
   },
   "outputs": [
    {
     "name": "stdout",
     "output_type": "stream",
     "text": [
      "              Name             Team  FS\n",
      "316      R.DE PAUL        [UDINESE]  15\n",
      "189      J.MESSIAS        [CROTONE]  15\n",
      "3        A.BELOTTI         [TORINO]  13\n",
      "379    T.HERNANDEZ          [MILAN]  12\n",
      "286     M.ZACCAGNI  [HELLAS VERONA]  11\n",
      "135  G.CASTROVILLI     [FIORENTINA]  11\n",
      "216     L.CIGARINI        [CROTONE]  11\n",
      "134      G.CAPRARI      [BENEVENTO]  10\n",
      "127       F.RIBERY     [FIORENTINA]   9\n",
      "50          B.DABO      [BENEVENTO]   9\n"
     ]
    }
   ],
   "source": [
    "players = players.sort_values(by='FS', ascending=False)\n",
    "print(players[[\"Name\", \"Team\", \"FS\"]].head(n=10))"
   ]
  },
  {
   "cell_type": "code",
   "execution_count": 24,
   "metadata": {
    "scrolled": true
   },
   "outputs": [
    {
     "name": "stdout",
     "output_type": "stream",
     "text": [
      "           Name             Team      FS_M       M_FS\n",
      "286  M.ZACCAGNI  [HELLAS VERONA]  0.055000  18.181818\n",
      "3     A.BELOTTI         [TORINO]  0.044521  22.461538\n",
      "180  J.CUADRADO       [JUVENTUS]  0.042056  23.777778\n",
      "316   R.DE PAUL        [UDINESE]  0.038961  25.666667\n",
      "189   J.MESSIAS        [CROTONE]  0.038860  25.733333\n",
      "51       B.DIAZ          [MILAN]  0.038251  26.142857\n",
      "50       B.DABO      [BENEVENTO]  0.036885  27.111111\n",
      "162    H.LOZANO         [NAPOLI]  0.036585  27.333333\n",
      "167  I.BENNACER          [MILAN]  0.035857  27.888889\n",
      "127    F.RIBERY     [FIORENTINA]  0.035294  28.333333\n"
     ]
    }
   ],
   "source": [
    "players['FS_M'] = players['FS'] / players['M']\n",
    "players = players.sort_values(by='FS_M', ascending=False)\n",
    "top_players = players[[\"Name\", \"Team\", \"FS_M\"]].head(n=10)\n",
    "top_players['M_FS'] = players['M'] / players['FS']\n",
    "print(top_players.head(n=10))"
   ]
  },
  {
   "cell_type": "code",
   "execution_count": 25,
   "metadata": {},
   "outputs": [
    {
     "name": "stdout",
     "output_type": "stream",
     "text": [
      "             Name                         Team   R\n",
      "108      F.ACERBI                      [LAZIO]  46\n",
      "349     S.DE MAIO                    [UDINESE]  45\n",
      "321      R.IBANEZ                       [ROMA]  44\n",
      "115  F.CECCHERINI  [FIORENTINA, HELLAS VERONA]  42\n",
      "226    L.MAGALLAN                    [CROTONE]  41\n",
      "206      K.GUNTER              [HELLAS VERONA]  40\n",
      "235     L.TONELLI                  [SAMPDORIA]  39\n",
      "356       S.KJAER                      [MILAN]  35\n",
      "147     G.MANCINI                       [ROMA]  34\n",
      "178      J.CHABOT                     [SPEZIA]  34\n"
     ]
    }
   ],
   "source": [
    "players = players.sort_values(by='R', ascending=False)\n",
    "print(players[[\"Name\", \"Team\", \"R\"]].head(n=10))"
   ]
  },
  {
   "cell_type": "code",
   "execution_count": 26,
   "metadata": {},
   "outputs": [
    {
     "name": "stdout",
     "output_type": "stream",
     "text": [
      "           Name             Team       R_M       M_R\n",
      "206    K.GUNTER  [HELLAS VERONA]  0.153846  6.500000\n",
      "52   B.DJIMSITI       [ATALANTA]  0.142857  7.000000\n",
      "72     C.ZAPATA          [GENOA]  0.131579  7.600000\n",
      "57       BREMER         [TORINO]  0.127551  7.840000\n",
      "349   S.DE MAIO        [UDINESE]  0.121622  8.222222\n",
      "108    F.ACERBI          [LAZIO]  0.121372  8.239130\n",
      "321    R.IBANEZ           [ROMA]  0.119565  8.363636\n",
      "235   L.TONELLI      [SAMPDORIA]  0.118541  8.435897\n",
      "69     C.ROMERO       [ATALANTA]  0.117647  8.500000\n",
      "301    O.COLLEY      [SAMPDORIA]  0.117647  8.500000\n"
     ]
    }
   ],
   "source": [
    "players['R_M'] = players['R'] / players['M']\n",
    "players = players.sort_values(by='R_M', ascending=False)\n",
    "top_players = players[[\"Name\", \"Team\", \"R_M\"]].head(n=10)\n",
    "top_players['M_R'] = players['M'] / players['R']\n",
    "print(top_players.head(n=10))"
   ]
  }
 ],
 "metadata": {
  "kernelspec": {
   "display_name": "Python 3",
   "language": "python",
   "name": "python3"
  },
  "language_info": {
   "codemirror_mode": {
    "name": "ipython",
    "version": 3
   },
   "file_extension": ".py",
   "mimetype": "text/x-python",
   "name": "python",
   "nbconvert_exporter": "python",
   "pygments_lexer": "ipython3",
   "version": "3.7.4"
  }
 },
 "nbformat": 4,
 "nbformat_minor": 2
}
