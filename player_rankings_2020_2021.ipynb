{
 "cells": [
  {
   "cell_type": "code",
   "execution_count": 1,
   "metadata": {},
   "outputs": [],
   "source": [
    "import os\n",
    "import csv\n",
    "import pandas as pd\n",
    "import numpy as np\n",
    "import math"
   ]
  },
  {
   "cell_type": "code",
   "execution_count": 2,
   "metadata": {},
   "outputs": [
    {
     "name": "stdout",
     "output_type": "stream",
     "text": [
      "510.0\n",
      "5\n"
     ]
    }
   ],
   "source": [
    "thisdir = os.getcwd()\n",
    "thisdir += \"/2020-2021/Player Data/Non-goalkeeper/\"\n",
    "csv_list = []\n",
    "\n",
    "n_games = 17 #total games played\n",
    "min_time = n_games / 3 * 90 #min time played to be eligible\n",
    "min_games = math.floor(n_games / 3) #min games played to be eligible\n",
    "print(min_time)\n",
    "print(min_games)"
   ]
  },
  {
   "cell_type": "code",
   "execution_count": 3,
   "metadata": {},
   "outputs": [],
   "source": [
    "for r, d, f in os.walk(thisdir):\n",
    "    for file in f:\n",
    "        if file.endswith(\".csv\"):\n",
    "            csv_list.append(os.path.join(r, file))\n",
    "\n",
    "csv_list = sorted(csv_list)"
   ]
  },
  {
   "cell_type": "code",
   "execution_count": 4,
   "metadata": {},
   "outputs": [],
   "source": [
    "def convert_to_minutes(row):\n",
    "    return int(row['M'][:-1])\n",
    "\n",
    "def convert_to_int(row, col):\n",
    "    return int(row[col])"
   ]
  },
  {
   "cell_type": "code",
   "execution_count": 5,
   "metadata": {},
   "outputs": [],
   "source": [
    "players = []\n",
    "\n",
    "for csv_file in csv_list:\n",
    "#     print(csv_file)\n",
    "    if csv_file[-5:] == \"/.csv\":\n",
    "        continue\n",
    "    player_data = pd.read_csv(csv_file, encoding='latin-1')\n",
    "    player_data[\"M_played\"] = player_data.apply(lambda row:convert_to_minutes(row), axis=1)\n",
    "    player_data = player_data.astype({'G':'int32', 'OG':'int32', 'A':'int32', 'AT':'int32', 'BS':'int32', 'SC':'int32', 'FS':'int32', 'BP':'int32', 'AS':'int32', 'KP':'int32', 'P':'int32', 'P%':'int32', 'R':'int32', 'FYC':'int32', 'SYC':'int32', 'RC':'int32'})\n",
    "\n",
    "    players.append([player_data[\"Name\"].unique()[0], player_data[\"Team\"].unique(), player_data[\"M_played\"].sum(), player_data[\"G\"].sum(), player_data[\"OG\"].sum(), player_data[\"A\"].sum(), player_data[\"AT\"].sum(), player_data[\"BS\"].sum(), player_data[\"SC\"].sum(), player_data[\"FS\"].sum(), player_data[\"BP\"].sum(), player_data[\"AS\"].sum(), player_data[\"KP\"].sum(), player_data[\"P\"].sum(), player_data[\"P%\"].sum()  / player_data[\"P%\"].size, player_data[\"R\"].sum(), player_data[\"FYC\"].sum(), player_data[\"SYC\"].sum(), player_data[\"RC\"].sum(), player_data[\"M_played\"].size])\n",
    "\n",
    "players = pd.DataFrame(np.array(players), columns=['Name', 'Team' , 'M', 'G', 'OG', 'A', 'AT', 'BS', 'SC', 'FS', 'BP', 'AS', 'KP', 'P', 'P%', 'R', 'FYC', 'SYC', 'RC', \"N\"])\n",
    "players = players.astype({'M':'int32', 'G':'int32', 'OG':'int32', 'A':'int32', 'AT':'int32', 'BS':'int32', 'SC':'int32', 'FS':'int32', 'BP':'int32', 'AS':'int32', 'KP':'int32', 'P':'int32', 'P%':'float', 'R':'int32', 'FYC':'int32', 'SYC':'int32', 'RC':'int32', 'N':'int32'})\n",
    "players = players[players['M'] >= min_time]\n",
    "players = players[players['N'] >= min_games]"
   ]
  },
  {
   "cell_type": "code",
   "execution_count": 6,
   "metadata": {},
   "outputs": [
    {
     "name": "stdout",
     "output_type": "stream",
     "text": [
      "             Name                 Team     M\n",
      "286  L.PELLEGRINI        [ROMA, GENOA]  1912\n",
      "193    G.PEZZELLA  [PARMA, FIORENTINA]  1760\n",
      "255        K.GLIK          [BENEVENTO]  1632\n",
      "464    T.TOMIYASU            [BOLOGNA]  1625\n",
      "235     J.MESSIAS            [CROTONE]  1608\n",
      "271      L.DANILO            [BOLOGNA]  1607\n",
      "102    D.CALABRIA              [MILAN]  1593\n",
      "419     R.SORIANO            [BOLOGNA]  1588\n",
      "246    JOAO PEDRO           [CAGLIARI]  1587\n",
      "206  H.MKHITARYAN               [ROMA]  1559\n"
     ]
    }
   ],
   "source": [
    "players = players.sort_values(by='M', ascending=False)\n",
    "print(players[[\"Name\", \"Team\", \"M\"]].head(n=10))"
   ]
  },
  {
   "cell_type": "code",
   "execution_count": 7,
   "metadata": {},
   "outputs": [
    {
     "name": "stdout",
     "output_type": "stream",
     "text": [
      "             Name             Team        M_N\n",
      "80         BREMER         [TORINO]  97.357143\n",
      "298        LYANCO         [TORINO]  97.071429\n",
      "460   T.HERNANDEZ          [MILAN]  97.000000\n",
      "53    A.ROMAGNOLI          [MILAN]  97.000000\n",
      "179     G.FERRARI       [SASSUOLO]  96.562500\n",
      "255        K.GLIK      [BENEVENTO]  96.000000\n",
      "392     R.DE PAUL        [UDINESE]  96.000000\n",
      "362  N.MILENKOVIC     [FIORENTINA]  96.000000\n",
      "176  G.DI LORENZO         [NAPOLI]  96.000000\n",
      "109     D.FARAONI  [HELLAS VERONA]  96.000000\n"
     ]
    }
   ],
   "source": [
    "players['M_N'] = players['M'] / players['N']\n",
    "players = players.sort_values(by='M_N', ascending=False)\n",
    "print(players[[\"Name\", \"Team\", \"M_N\"]].head(n=10))"
   ]
  },
  {
   "cell_type": "code",
   "execution_count": 8,
   "metadata": {},
   "outputs": [
    {
     "name": "stdout",
     "output_type": "stream",
     "text": [
      "              Name        Team   G\n",
      "95       C.RONALDO  [JUVENTUS]  15\n",
      "406       R.LUKAKU     [INTER]  12\n",
      "86      C.IMMOBILE     [LAZIO]  11\n",
      "246     JOAO PEDRO  [CAGLIARI]  10\n",
      "484  Z.IBRAHIMOVIC     [MILAN]  10\n",
      "5        A.BELOTTI    [TORINO]   9\n",
      "329        M.NZOLA    [SPEZIA]   9\n",
      "282     L.MARTINEZ     [INTER]   9\n",
      "206   H.MKHITARYAN      [ROMA]   8\n",
      "100      D.BERARDI  [SASSUOLO]   7\n"
     ]
    }
   ],
   "source": [
    "players = players.sort_values(by='G', ascending=False)\n",
    "print(players[[\"Name\", \"Team\", \"G\"]].head(n=10))"
   ]
  },
  {
   "cell_type": "code",
   "execution_count": 9,
   "metadata": {},
   "outputs": [
    {
     "name": "stdout",
     "output_type": "stream",
     "text": [
      "              Name        Team       G_M         M_G\n",
      "484  Z.IBRAHIMOVIC     [MILAN]  0.017483   57.200000\n",
      "95       C.RONALDO  [JUVENTUS]  0.013066   76.533333\n",
      "406       R.LUKAKU     [INTER]  0.009732  102.750000\n",
      "315       M.DESTRO     [GENOA]  0.009050  110.500000\n",
      "86      C.IMMOBILE     [LAZIO]  0.008696  115.000000\n",
      "143      F.CAICEDO     [LAZIO]  0.008475  118.000000\n",
      "329        M.NZOLA    [SPEZIA]  0.007888  126.777778\n",
      "282     L.MARTINEZ     [INTER]  0.007258  137.777778\n",
      "122       D.ZAPATA  [ATALANTA]  0.006679  149.714286\n",
      "145       F.CAPUTO  [SASSUOLO]  0.006674  149.833333\n"
     ]
    }
   ],
   "source": [
    "players['G_M'] = players['G'] / players['M']\n",
    "players = players.sort_values(by='G_M', ascending=False)\n",
    "top_players = players[[\"Name\", \"Team\", \"G_M\"]].head(n=10)\n",
    "top_players['M_G'] = players['M'] / players['G']\n",
    "print(top_players.head(n=10))"
   ]
  },
  {
   "cell_type": "code",
   "execution_count": 10,
   "metadata": {},
   "outputs": [
    {
     "name": "stdout",
     "output_type": "stream",
     "text": [
      "             Name        Team   A\n",
      "276     L.INSIGNE    [NAPOLI]  59\n",
      "95      C.RONALDO  [JUVENTUS]  57\n",
      "282    L.MARTINEZ     [INTER]  53\n",
      "5       A.BELOTTI    [TORINO]  50\n",
      "206  H.MKHITARYAN      [ROMA]  46\n",
      "235     J.MESSIAS   [CROTONE]  43\n",
      "203  H.CALHANOGLU     [MILAN]  43\n",
      "86     C.IMMOBILE     [LAZIO]  42\n",
      "100     D.BERARDI  [SASSUOLO]  40\n",
      "301      M.BARROW   [BOLOGNA]  39\n"
     ]
    }
   ],
   "source": [
    "players = players.sort_values(by='A', ascending=False)\n",
    "print(players[[\"Name\", \"Team\", \"A\"]].head(n=10))"
   ]
  },
  {
   "cell_type": "code",
   "execution_count": 11,
   "metadata": {},
   "outputs": [
    {
     "name": "stdout",
     "output_type": "stream",
     "text": [
      "              Name        Team       A_M        M_A\n",
      "484  Z.IBRAHIMOVIC     [MILAN]  0.055944  17.875000\n",
      "276      L.INSIGNE    [NAPOLI]  0.052867  18.915254\n",
      "95       C.RONALDO  [JUVENTUS]  0.049652  20.140351\n",
      "282     L.MARTINEZ     [INTER]  0.042742  23.396226\n",
      "116      D.MERTENS    [NAPOLI]  0.040843  24.483871\n",
      "377       P.DYBALA  [JUVENTUS]  0.040698  24.571429\n",
      "336     M.POLITANO    [NAPOLI]  0.039735  25.166667\n",
      "228       J.ILICIC  [ATALANTA]  0.037821  26.440000\n",
      "26         A.GOMEZ  [ATALANTA]  0.036075  27.720000\n",
      "86      C.IMMOBILE     [LAZIO]  0.033202  30.119048\n"
     ]
    }
   ],
   "source": [
    "players['A_M'] = players['A'] / players['M']\n",
    "players = players.sort_values(by='A_M', ascending=False)\n",
    "top_players = players[[\"Name\", \"Team\", \"A_M\"]].head(n=10)\n",
    "top_players['M_A'] = players['M'] / players['A']\n",
    "print(top_players.head(n=10))"
   ]
  },
  {
   "cell_type": "code",
   "execution_count": 12,
   "metadata": {},
   "outputs": [
    {
     "name": "stdout",
     "output_type": "stream",
     "text": [
      "                   Name                    Team  AS\n",
      "206        H.MKHITARYAN                  [ROMA]   8\n",
      "303          M.BROZOVIC                 [INTER]   6\n",
      "203        H.CALHANOGLU                 [MILAN]   6\n",
      "116           D.MERTENS                [NAPOLI]   6\n",
      "441  S.MILINKOVIC-SAVIC                 [LAZIO]   5\n",
      "228            J.ILICIC              [ATALANTA]   5\n",
      "40             A.MORATA              [JUVENTUS]   4\n",
      "357           N.BARELLA                 [INTER]   4\n",
      "415           R.PEREYRA               [UDINESE]   4\n",
      "83            C.BIRAGHI            [FIORENTINA]   4\n",
      "147            F.CHIESA  [FIORENTINA, JUVENTUS]   4\n",
      "10           A.CANDREVA             [SAMPDORIA]   4\n",
      "379         P.GHIGLIONE                 [GENOA]   4\n",
      "405              R.LEAO                 [MILAN]   4\n",
      "419           R.SORIANO               [BOLOGNA]   4\n",
      "286        L.PELLEGRINI           [ROMA, GENOA]   4\n",
      "100           D.BERARDI              [SASSUOLO]   4\n",
      "402          R.KARSDORP                  [ROMA]   4\n",
      "122            D.ZAPATA              [ATALANTA]   4\n",
      "131             E.GYASI                [SPEZIA]   4\n",
      "5             A.BELOTTI                [TORINO]   4\n",
      "352          M.ZACCAGNI         [HELLAS VERONA]   4\n",
      "397            R.GOSENS              [ATALANTA]   3\n",
      "425           S.BASTONI                [SPEZIA]   3\n",
      "50              A.REBIC                 [MILAN]   3\n"
     ]
    }
   ],
   "source": [
    "players = players.sort_values(by='AS', ascending=False)\n",
    "print(players[[\"Name\", \"Team\", \"AS\"]].head(n=25))"
   ]
  },
  {
   "cell_type": "code",
   "execution_count": 13,
   "metadata": {},
   "outputs": [
    {
     "name": "stdout",
     "output_type": "stream",
     "text": [
      "                   Name        Team      AS_M        M_AS\n",
      "116           D.MERTENS    [NAPOLI]  0.007905  126.500000\n",
      "228            J.ILICIC  [ATALANTA]  0.007564  132.200000\n",
      "303          M.BROZOVIC     [INTER]  0.005310  188.333333\n",
      "206        H.MKHITARYAN      [ROMA]  0.005131  194.875000\n",
      "40             A.MORATA  [JUVENTUS]  0.004684  213.500000\n",
      "56            A.SANCHEZ     [INTER]  0.004666  214.333333\n",
      "425           S.BASTONI    [SPEZIA]  0.004292  233.000000\n",
      "48             A.RAMSEY  [JUVENTUS]  0.004274  234.000000\n",
      "203        H.CALHANOGLU     [MILAN]  0.004110  243.333333\n",
      "441  S.MILINKOVIC-SAVIC     [LAZIO]  0.004055  246.600000\n"
     ]
    }
   ],
   "source": [
    "players['AS_M'] = players['AS'] / players['M']\n",
    "players = players.sort_values(by='AS_M', ascending=False)\n",
    "top_players = players[[\"Name\", \"Team\", \"AS_M\"]].head(n=10)\n",
    "top_players['M_AS'] = players['M'] / players['AS']\n",
    "print(top_players.head(n=10))"
   ]
  },
  {
   "cell_type": "code",
   "execution_count": 14,
   "metadata": {},
   "outputs": [
    {
     "name": "stdout",
     "output_type": "stream",
     "text": [
      "             Name                 Team    BP\n",
      "325   M.LOCATELLI           [SASSUOLO]  1606\n",
      "286  L.PELLEGRINI        [ROMA, GENOA]  1403\n",
      "176  G.DI LORENZO             [NAPOLI]  1374\n",
      "179     G.FERRARI           [SASSUOLO]  1373\n",
      "124        DANILO           [JUVENTUS]  1351\n",
      "392     R.DE PAUL            [UDINESE]  1279\n",
      "464    T.TOMIYASU            [BOLOGNA]  1208\n",
      "102    D.CALABRIA              [MILAN]  1196\n",
      "398      R.IBANEZ               [ROMA]  1184\n",
      "193    G.PEZZELLA  [PARMA, FIORENTINA]  1136\n"
     ]
    }
   ],
   "source": [
    "players = players.sort_values(by='BP', ascending=False)\n",
    "print(players[[\"Name\", \"Team\", \"BP\"]].head(n=10))"
   ]
  },
  {
   "cell_type": "code",
   "execution_count": 15,
   "metadata": {},
   "outputs": [
    {
     "name": "stdout",
     "output_type": "stream",
     "text": [
      "             Name        Team      BP_M      M_BP\n",
      "325   M.LOCATELLI  [SASSUOLO]  1.059367  0.943960\n",
      "66         ARTHUR  [JUVENTUS]  1.024000  0.976562\n",
      "361  N.MAKSIMOVIC    [NAPOLI]  1.007707  0.992352\n",
      "132       E.HYSAJ    [NAPOLI]  0.987118  1.013051\n",
      "124        DANILO  [JUVENTUS]  0.976862  1.023686\n",
      "390   R.BENTANCUR  [JUVENTUS]  0.964147  1.037186\n",
      "303    M.BROZOVIC     [INTER]  0.961947  1.039558\n",
      "257   K.KOULIBALY    [NAPOLI]  0.960109  1.041549\n",
      "355     MARIO RUI    [NAPOLI]  0.959397  1.042322\n",
      "311     M.DE LIGT  [JUVENTUS]  0.947245  1.055693\n"
     ]
    }
   ],
   "source": [
    "players['BP_M'] = players['BP'] / players['M']\n",
    "players = players.sort_values(by='BP_M', ascending=False)\n",
    "top_players = players[[\"Name\", \"Team\", \"BP_M\"]].head(n=10)\n",
    "top_players['M_BP'] = players['M'] / players['BP']\n",
    "print(top_players.head(n=10))"
   ]
  },
  {
   "cell_type": "code",
   "execution_count": 16,
   "metadata": {},
   "outputs": [
    {
     "name": "stdout",
     "output_type": "stream",
     "text": [
      "             Name        Team     P\n",
      "325   M.LOCATELLI  [SASSUOLO]  1165\n",
      "179     G.FERRARI  [SASSUOLO]  1102\n",
      "124        DANILO  [JUVENTUS]   999\n",
      "176  G.DI LORENZO    [NAPOLI]   925\n",
      "4       A.BASTONI     [INTER]   885\n",
      "261     K.MANOLAS    [NAPOLI]   878\n",
      "257   K.KOULIBALY    [NAPOLI]   859\n",
      "164   FABIAN RUIZ    [NAPOLI]   831\n",
      "265     L.BONUCCI  [JUVENTUS]   810\n",
      "398      R.IBANEZ      [ROMA]   809\n"
     ]
    }
   ],
   "source": [
    "players = players.sort_values(by='P', ascending=False)\n",
    "print(players[[\"Name\", \"Team\", \"P\"]].head(n=10))"
   ]
  },
  {
   "cell_type": "code",
   "execution_count": 17,
   "metadata": {},
   "outputs": [
    {
     "name": "stdout",
     "output_type": "stream",
     "text": [
      "             Name        Team       P_M       M_P\n",
      "66         ARTHUR  [JUVENTUS]  0.870400  1.148897\n",
      "361  N.MAKSIMOVIC    [NAPOLI]  0.865125  1.155902\n",
      "257   K.KOULIBALY    [NAPOLI]  0.778785  1.284051\n",
      "311     M.DE LIGT  [JUVENTUS]  0.777257  1.286576\n",
      "325   M.LOCATELLI  [SASSUOLO]  0.768470  1.301288\n",
      "124        DANILO  [JUVENTUS]  0.722343  1.384384\n",
      "164   FABIAN RUIZ    [NAPOLI]  0.716379  1.395909\n",
      "179     G.FERRARI  [SASSUOLO]  0.713269  1.401996\n",
      "303    M.BROZOVIC     [INTER]  0.704425  1.419598\n",
      "390   R.BENTANCUR  [JUVENTUS]  0.698643  1.431345\n"
     ]
    }
   ],
   "source": [
    "players['P_M'] = players['P'] / players['M']\n",
    "players = players.sort_values(by='P_M', ascending=False)\n",
    "top_players = players[[\"Name\", \"Team\", \"P_M\"]].head(n=10)\n",
    "top_players['M_P'] = players['M'] / players['P']\n",
    "print(top_players.head(n=10))"
   ]
  },
  {
   "cell_type": "code",
   "execution_count": 18,
   "metadata": {},
   "outputs": [
    {
     "name": "stdout",
     "output_type": "stream",
     "text": [
      "             Name        Team         P%\n",
      "361  N.MAKSIMOVIC    [NAPOLI]  96.142857\n",
      "66         ARTHUR  [JUVENTUS]  95.500000\n",
      "314     M.DEMIRAL  [JUVENTUS]  95.000000\n",
      "366     N.NKOULOU    [TORINO]  93.750000\n",
      "311     M.DE LIGT  [JUVENTUS]  93.111111\n",
      "343    M.SKRINIAR     [INTER]  93.000000\n",
      "261     K.MANOLAS    [NAPOLI]  92.875000\n",
      "428     S.DE VRIJ     [INTER]  92.333333\n",
      "390   R.BENTANCUR  [JUVENTUS]  91.666667\n",
      "244      J.TOLJAN  [SASSUOLO]  91.555556\n"
     ]
    }
   ],
   "source": [
    "players = players.sort_values(by='P%', ascending=False)\n",
    "print(players[[\"Name\", \"Team\", \"P%\"]].head(n=10))"
   ]
  },
  {
   "cell_type": "code",
   "execution_count": 19,
   "metadata": {},
   "outputs": [
    {
     "name": "stdout",
     "output_type": "stream",
     "text": [
      "             Name             Team  KP\n",
      "392     R.DE PAUL        [UDINESE]  23\n",
      "286  L.PELLEGRINI    [ROMA, GENOA]  17\n",
      "228      J.ILICIC       [ATALANTA]  16\n",
      "100     D.BERARDI       [SASSUOLO]  15\n",
      "203  H.CALHANOGLU          [MILAN]  14\n",
      "149     F.DIMARCO  [HELLAS VERONA]  12\n",
      "419     R.SORIANO        [BOLOGNA]  12\n",
      "28       A.HAKIMI          [INTER]  11\n",
      "296  LUIS ALBERTO          [LAZIO]  11\n",
      "206  H.MKHITARYAN           [ROMA]  10\n",
      "290  L.SPINAZZOLA           [ROMA]  10\n",
      "352    M.ZACCAGNI  [HELLAS VERONA]  10\n",
      "83      C.BIRAGHI     [FIORENTINA]   9\n",
      "214     I.PERISIC          [INTER]   8\n",
      "183     G.LETIZIA      [BENEVENTO]   8\n"
     ]
    }
   ],
   "source": [
    "players = players.sort_values(by='KP', ascending=False)\n",
    "print(players[[\"Name\", \"Team\", \"KP\"]].head(n=15))"
   ]
  },
  {
   "cell_type": "code",
   "execution_count": 20,
   "metadata": {},
   "outputs": [
    {
     "name": "stdout",
     "output_type": "stream",
     "text": [
      "              Name        Team      KP_M        M_KP\n",
      "228       J.ILICIC  [ATALANTA]  0.024206   41.312500\n",
      "392      R.DE PAUL   [UDINESE]  0.014974   66.782609\n",
      "81     BRUNO PERES      [ROMA]  0.012238   81.714286\n",
      "100      D.BERARDI  [SASSUOLO]  0.011062   90.400000\n",
      "479     W.MCKENNIE  [JUVENTUS]  0.010738   93.125000\n",
      "450        S.VERDI    [TORINO]  0.010204   98.000000\n",
      "26         A.GOMEZ  [ATALANTA]  0.010101   99.000000\n",
      "407  R.MALINOVSKYI  [ATALANTA]  0.010000  100.000000\n",
      "28        A.HAKIMI     [INTER]  0.009778  102.272727\n",
      "44       A.PETAGNA    [NAPOLI]  0.009669  103.428571\n"
     ]
    }
   ],
   "source": [
    "players['KP_M'] = players['KP'] / players['M']\n",
    "players = players.sort_values(by='KP_M', ascending=False)\n",
    "top_players = players[[\"Name\", \"Team\", \"KP_M\"]].head(n=10)\n",
    "top_players['M_KP'] = players['M'] / players['KP']\n",
    "print(top_players.head(n=10))"
   ]
  },
  {
   "cell_type": "code",
   "execution_count": 21,
   "metadata": {
    "scrolled": true
   },
   "outputs": [
    {
     "name": "stdout",
     "output_type": "stream",
     "text": [
      "              Name             Team  FS\n",
      "5        A.BELOTTI         [TORINO]  71\n",
      "392      R.DE PAUL        [UDINESE]  48\n",
      "352     M.ZACCAGNI  [HELLAS VERONA]  48\n",
      "235      J.MESSIAS        [CROTONE]  45\n",
      "246     JOAO PEDRO       [CAGLIARI]  44\n",
      "414      R.PALACIO        [BOLOGNA]  42\n",
      "205       H.LOZANO         [NAPOLI]  42\n",
      "286   L.PELLEGRINI    [ROMA, GENOA]  38\n",
      "161       F.RIBERY     [FIORENTINA]  38\n",
      "170  G.CASTROVILLI     [FIORENTINA]  37\n"
     ]
    }
   ],
   "source": [
    "players = players.sort_values(by='FS', ascending=False)\n",
    "print(players[[\"Name\", \"Team\", \"FS\"]].head(n=10))"
   ]
  },
  {
   "cell_type": "code",
   "execution_count": 22,
   "metadata": {
    "scrolled": true
   },
   "outputs": [
    {
     "name": "stdout",
     "output_type": "stream",
     "text": [
      "           Name             Team      FS_M       M_FS\n",
      "5     A.BELOTTI         [TORINO]  0.046896  21.323944\n",
      "228    J.ILICIC       [ATALANTA]  0.039334  25.423077\n",
      "194   G.RAMIREZ      [SAMPDORIA]  0.036859  27.130435\n",
      "352  M.ZACCAGNI  [HELLAS VERONA]  0.036336  27.520833\n",
      "161    F.RIBERY     [FIORENTINA]  0.035917  27.842105\n",
      "190    G.PANDEV          [GENOA]  0.035556  28.125000\n",
      "205    H.LOZANO         [NAPOLI]  0.035176  28.428571\n",
      "199    G.VILLAR           [ROMA]  0.033206  30.115385\n",
      "392   R.DE PAUL        [UDINESE]  0.031250  32.000000\n",
      "168   G.CAPRARI      [BENEVENTO]  0.031098  32.156250\n"
     ]
    }
   ],
   "source": [
    "players['FS_M'] = players['FS'] / players['M']\n",
    "players = players.sort_values(by='FS_M', ascending=False)\n",
    "top_players = players[[\"Name\", \"Team\", \"FS_M\"]].head(n=10)\n",
    "top_players['M_FS'] = players['M'] / players['FS']\n",
    "print(top_players.head(n=10))"
   ]
  },
  {
   "cell_type": "code",
   "execution_count": 23,
   "metadata": {},
   "outputs": [
    {
     "name": "stdout",
     "output_type": "stream",
     "text": [
      "             Name                         Team    R\n",
      "464    T.TOMIYASU                    [BOLOGNA]  171\n",
      "398      R.IBANEZ                       [ROMA]  161\n",
      "362  N.MILENKOVIC                 [FIORENTINA]  149\n",
      "80         BREMER                     [TORINO]  139\n",
      "146  F.CECCHERINI  [FIORENTINA, HELLAS VERONA]  137\n",
      "139      F.ACERBI                      [LAZIO]  133\n",
      "271      L.DANILO                    [BOLOGNA]  133\n",
      "94       C.ROMERO                   [ATALANTA]  132\n",
      "67        B.ALVES                      [PARMA]  132\n",
      "193    G.PEZZELLA          [PARMA, FIORENTINA]  130\n"
     ]
    }
   ],
   "source": [
    "players = players.sort_values(by='R', ascending=False)\n",
    "print(players[[\"Name\", \"Team\", \"R\"]].head(n=10))"
   ]
  },
  {
   "cell_type": "code",
   "execution_count": 24,
   "metadata": {},
   "outputs": [
    {
     "name": "stdout",
     "output_type": "stream",
     "text": [
      "             Name                         Team       R_M       M_R\n",
      "185     G.MAGNANI              [HELLAS VERONA]  0.172414  5.800000\n",
      "94       C.ROMERO                   [ATALANTA]  0.131474  7.606061\n",
      "427     S.DE MAIO                    [UDINESE]  0.117274  8.527027\n",
      "372      O.COLLEY                  [SAMPDORIA]  0.111646  8.956897\n",
      "223      J.CHABOT                     [SPEZIA]  0.110902  9.016949\n",
      "398      R.IBANEZ                       [ROMA]  0.110048  9.086957\n",
      "466   V.CHIRICHES                   [SASSUOLO]  0.109019  9.172727\n",
      "478       W.HOEDT                      [LAZIO]  0.108984  9.175676\n",
      "146  F.CECCHERINI  [FIORENTINA, HELLAS VERONA]  0.108386  9.226277\n",
      "314     M.DEMIRAL                   [JUVENTUS]  0.106845  9.359375\n"
     ]
    }
   ],
   "source": [
    "players['R_M'] = players['R'] / players['M']\n",
    "players = players.sort_values(by='R_M', ascending=False)\n",
    "top_players = players[[\"Name\", \"Team\", \"R_M\"]].head(n=10)\n",
    "top_players['M_R'] = players['M'] / players['R']\n",
    "print(top_players.head(n=10))"
   ]
  },
  {
   "cell_type": "code",
   "execution_count": 25,
   "metadata": {},
   "outputs": [],
   "source": [
    "thisdir = os.getcwd()\n",
    "thisdir += \"/2020-2021/Player Data/Goalkeeper/\"\n",
    "csv_list = []\n",
    "\n",
    "for r, d, f in os.walk(thisdir):\n",
    "    for file in f:\n",
    "        if file.endswith(\".csv\"):\n",
    "            csv_list.append(os.path.join(r, file))\n",
    "\n",
    "csv_list = sorted(csv_list)\n",
    "\n",
    "players = []\n",
    "\n",
    "for csv_file in csv_list:\n",
    "#     print(csv_file)\n",
    "    if csv_file[-5:] == \"/.csv\":\n",
    "        continue\n",
    "    player_data = pd.read_csv(csv_file, encoding='latin-1')\n",
    "    player_data[\"M_played\"] = player_data.apply(lambda row:convert_to_minutes(row), axis=1)\n",
    "    player_data = player_data.astype({'GC':'int32', 'OG':'int32', 'S':'int32', 'STP':'int32', 'SF':'int32', 'FYC':'int32', 'SYC':'int32', 'RC':'int32'})\n",
    "\n",
    "    players.append([player_data[\"Name\"].unique()[0], player_data[\"Team\"].unique(), player_data[\"M_played\"].sum(), player_data[\"GC\"].sum(), player_data[\"OG\"].sum(), player_data[\"S\"].sum(), player_data[\"STP\"].sum(), player_data[\"SF\"].sum(), player_data[\"FYC\"].sum(), player_data[\"SYC\"].sum(), player_data[\"RC\"].sum(), player_data[\"M_played\"].size])\n",
    "\n",
    "players = pd.DataFrame(np.array(players), columns=['Name', 'Team' , 'M', 'GC', 'OG', 'S', 'STP', 'SF', 'FYC', 'SYC', 'RC', 'N'])\n",
    "players = players.astype({'M':'int32', 'GC':'int32', 'OG':'int32', 'S':'int32', 'STP':'int32', 'SF':'int32', 'FYC':'int32', 'SYC':'int32', 'RC':'int32', 'N':'int32'})\n",
    "players = players[players['M'] >= min_time]\n",
    "players = players[players['N'] >= min_games]"
   ]
  },
  {
   "cell_type": "code",
   "execution_count": 26,
   "metadata": {},
   "outputs": [
    {
     "name": "stdout",
     "output_type": "stream",
     "text": [
      "            Name             Team     M\n",
      "7    B.DRAGOWSKI     [FIORENTINA]  1633\n",
      "19    L.MONTIPO'      [BENEVENTO]  1632\n",
      "30  S.HANDANOVIC          [INTER]  1632\n",
      "10      E.AUDERO      [SAMPDORIA]  1630\n",
      "23   M.SILVESTRI  [HELLAS VERONA]  1630\n",
      "2       A.CRAGNO       [CAGLIARI]  1627\n",
      "20        L.SEPE          [PARMA]  1625\n",
      "1       A.CORDAZ        [CROTONE]  1624\n",
      "0     A.CONSIGLI       [SASSUOLO]  1551\n",
      "14  G.DONNARUMMA          [MILAN]  1550\n"
     ]
    }
   ],
   "source": [
    "players = players.sort_values(by='M', ascending=False)\n",
    "print(players[[\"Name\", \"Team\", \"M\"]].head(n=10))"
   ]
  },
  {
   "cell_type": "code",
   "execution_count": 27,
   "metadata": {},
   "outputs": [
    {
     "name": "stdout",
     "output_type": "stream",
     "text": [
      "            Name          Team        M_N\n",
      "31      S.SIRIGU      [TORINO]  97.533333\n",
      "0     A.CONSIGLI    [SASSUOLO]  96.937500\n",
      "14  G.DONNARUMMA       [MILAN]  96.875000\n",
      "21   L.SKORUPSKI     [BOLOGNA]  96.300000\n",
      "4        A.MERET      [NAPOLI]  96.285714\n",
      "28       P.REINA       [LAZIO]  96.090909\n",
      "7    B.DRAGOWSKI  [FIORENTINA]  96.058824\n",
      "34    W.SZCZESNY    [JUVENTUS]  96.000000\n",
      "30  S.HANDANOVIC       [INTER]  96.000000\n",
      "19    L.MONTIPO'   [BENEVENTO]  96.000000\n"
     ]
    }
   ],
   "source": [
    "players['M_N'] = players['M'] / players['N']\n",
    "players = players.sort_values(by='M_N', ascending=False)\n",
    "print(players[[\"Name\", \"Team\", \"M_N\"]].head(n=10))"
   ]
  },
  {
   "cell_type": "code",
   "execution_count": 28,
   "metadata": {},
   "outputs": [
    {
     "name": "stdout",
     "output_type": "stream",
     "text": [
      "            Name          Team  GC\n",
      "1       A.CORDAZ     [CROTONE]  40\n",
      "2       A.CRAGNO    [CAGLIARI]  34\n",
      "20        L.SEPE       [PARMA]  33\n",
      "31      S.SIRIGU      [TORINO]  31\n",
      "19    L.MONTIPO'   [BENEVENTO]  30\n",
      "10      E.AUDERO   [SAMPDORIA]  28\n",
      "0     A.CONSIGLI    [SASSUOLO]  26\n",
      "16    I.PROVEDEL      [SPEZIA]  25\n",
      "7    B.DRAGOWSKI  [FIORENTINA]  23\n",
      "30  S.HANDANOVIC       [INTER]  23\n"
     ]
    }
   ],
   "source": [
    "players = players.sort_values(by='GC', ascending=False)\n",
    "print(players[[\"Name\", \"Team\", \"GC\"]].head(n=10))"
   ]
  },
  {
   "cell_type": "code",
   "execution_count": 29,
   "metadata": {},
   "outputs": [
    {
     "name": "stdout",
     "output_type": "stream",
     "text": [
      "            Name         Team      GC_M       M_GC\n",
      "1       A.CORDAZ    [CROTONE]  0.024631  40.600000\n",
      "24  M.SPORTIELLO   [ATALANTA]  0.021645  46.200000\n",
      "31      S.SIRIGU     [TORINO]  0.021189  47.193548\n",
      "32   T.STRAKOSHA      [LAZIO]  0.020906  47.833333\n",
      "2       A.CRAGNO   [CAGLIARI]  0.020897  47.852941\n",
      "20        L.SEPE      [PARMA]  0.020308  49.242424\n",
      "16    I.PROVEDEL     [SPEZIA]  0.018629  53.680000\n",
      "19    L.MONTIPO'  [BENEVENTO]  0.018382  54.400000\n",
      "21   L.SKORUPSKI    [BOLOGNA]  0.017653  56.647059\n",
      "10      E.AUDERO  [SAMPDORIA]  0.017178  58.214286\n"
     ]
    }
   ],
   "source": [
    "players['GC_M'] = players['GC'] / players['M']\n",
    "players = players.sort_values(by='GC_M', ascending=False)\n",
    "top_players = players[[\"Name\", \"Team\", \"GC_M\"]].head(n=10)\n",
    "top_players['M_GC'] = players['M'] / players['GC']\n",
    "print(top_players.head(n=10))"
   ]
  },
  {
   "cell_type": "code",
   "execution_count": 30,
   "metadata": {},
   "outputs": [
    {
     "name": "stdout",
     "output_type": "stream",
     "text": [
      "            Name        Team  GC\n",
      "26     P.GOLLINI  [ATALANTA]   7\n",
      "4        A.MERET    [NAPOLI]   7\n",
      "27       P.LOPEZ      [ROMA]   7\n",
      "9       D.OSPINA    [NAPOLI]   9\n",
      "3     A.DA COSTA   [BOLOGNA]   9\n",
      "32   T.STRAKOSHA     [LAZIO]  12\n",
      "28       P.REINA     [LAZIO]  13\n",
      "34    W.SZCZESNY  [JUVENTUS]  14\n",
      "24  M.SPORTIELLO  [ATALANTA]  15\n",
      "14  G.DONNARUMMA     [MILAN]  16\n"
     ]
    }
   ],
   "source": [
    "players = players.sort_values(by='GC')\n",
    "print(players[[\"Name\", \"Team\", \"GC\"]].head(n=10))"
   ]
  },
  {
   "cell_type": "code",
   "execution_count": 31,
   "metadata": {},
   "outputs": [
    {
     "name": "stdout",
     "output_type": "stream",
     "text": [
      "            Name             Team      GC_M        M_GC\n",
      "26     P.GOLLINI       [ATALANTA]  0.008505  117.571429\n",
      "23   M.SILVESTRI  [HELLAS VERONA]  0.009816  101.875000\n",
      "14  G.DONNARUMMA          [MILAN]  0.010323   96.875000\n",
      "4        A.MERET         [NAPOLI]  0.010386   96.285714\n",
      "9       D.OSPINA         [NAPOLI]  0.010441   95.777778\n",
      "27       P.LOPEZ           [ROMA]  0.011844   84.428571\n",
      "34    W.SZCZESNY       [JUVENTUS]  0.012153   82.285714\n",
      "28       P.REINA          [LAZIO]  0.012299   81.307692\n",
      "7    B.DRAGOWSKI     [FIORENTINA]  0.014085   71.000000\n",
      "30  S.HANDANOVIC          [INTER]  0.014093   70.956522\n"
     ]
    }
   ],
   "source": [
    "players['GC_M'] = players['GC'] / players['M']\n",
    "players = players.sort_values(by='GC_M')\n",
    "top_players = players[[\"Name\", \"Team\", \"GC_M\"]].head(n=10)\n",
    "top_players['M_GC'] = players['M'] / players['GC']\n",
    "print(top_players.head(n=10))"
   ]
  },
  {
   "cell_type": "code",
   "execution_count": 32,
   "metadata": {},
   "outputs": [
    {
     "name": "stdout",
     "output_type": "stream",
     "text": [
      "            Name             Team   S\n",
      "2       A.CRAGNO       [CAGLIARI]  81\n",
      "20        L.SEPE          [PARMA]  63\n",
      "10      E.AUDERO      [SAMPDORIA]  62\n",
      "0     A.CONSIGLI       [SASSUOLO]  58\n",
      "1       A.CORDAZ        [CROTONE]  57\n",
      "23   M.SILVESTRI  [HELLAS VERONA]  57\n",
      "14  G.DONNARUMMA          [MILAN]  53\n",
      "19    L.MONTIPO'      [BENEVENTO]  50\n",
      "7    B.DRAGOWSKI     [FIORENTINA]  50\n",
      "22       M.PERIN          [GENOA]  49\n"
     ]
    }
   ],
   "source": [
    "players = players.sort_values(by='S', ascending=False)\n",
    "print(players[[\"Name\", \"Team\", \"S\"]].head(n=10))"
   ]
  },
  {
   "cell_type": "code",
   "execution_count": 33,
   "metadata": {},
   "outputs": [
    {
     "name": "stdout",
     "output_type": "stream",
     "text": [
      "            Name             Team       S_M        M_S\n",
      "2       A.CRAGNO       [CAGLIARI]  0.049785  20.086420\n",
      "20        L.SEPE          [PARMA]  0.038769  25.793651\n",
      "10      E.AUDERO      [SAMPDORIA]  0.038037  26.290323\n",
      "28       P.REINA          [LAZIO]  0.037843  26.425000\n",
      "0     A.CONSIGLI       [SASSUOLO]  0.037395  26.741379\n",
      "3     A.DA COSTA        [BOLOGNA]  0.036972  27.047619\n",
      "22       M.PERIN          [GENOA]  0.036759  27.204082\n",
      "1       A.CORDAZ        [CROTONE]  0.035099  28.491228\n",
      "23   M.SILVESTRI  [HELLAS VERONA]  0.034969  28.596491\n",
      "14  G.DONNARUMMA          [MILAN]  0.034194  29.245283\n"
     ]
    }
   ],
   "source": [
    "players['S_M'] = players['S'] / players['M']\n",
    "players = players.sort_values(by='S_M', ascending=False)\n",
    "top_players = players[[\"Name\", \"Team\", \"S_M\"]].head(n=10)\n",
    "top_players['M_S'] = players['M'] / players['S']\n",
    "print(top_players.head(n=10))"
   ]
  },
  {
   "cell_type": "code",
   "execution_count": 34,
   "metadata": {},
   "outputs": [
    {
     "name": "stdout",
     "output_type": "stream",
     "text": [
      "            Name          Team  Set_S\n",
      "0     A.CONSIGLI    [SASSUOLO]     11\n",
      "7    B.DRAGOWSKI  [FIORENTINA]     10\n",
      "2       A.CRAGNO    [CAGLIARI]      9\n",
      "14  G.DONNARUMMA       [MILAN]      9\n",
      "20        L.SEPE       [PARMA]      9\n",
      "5      A.MIRANTE        [ROMA]      7\n",
      "1       A.CORDAZ     [CROTONE]      6\n",
      "28       P.REINA       [LAZIO]      6\n",
      "22       M.PERIN       [GENOA]      5\n",
      "16    I.PROVEDEL      [SPEZIA]      5\n"
     ]
    }
   ],
   "source": [
    "players['Set_S'] = players['STP'] + players['SF']\n",
    "players = players.sort_values(by='Set_S', ascending=False)\n",
    "print(players[[\"Name\", \"Team\", \"Set_S\"]].head(n=10))"
   ]
  }
 ],
 "metadata": {
  "kernelspec": {
   "display_name": "Python 3",
   "language": "python",
   "name": "python3"
  },
  "language_info": {
   "codemirror_mode": {
    "name": "ipython",
    "version": 3
   },
   "file_extension": ".py",
   "mimetype": "text/x-python",
   "name": "python",
   "nbconvert_exporter": "python",
   "pygments_lexer": "ipython3",
   "version": "3.7.4"
  }
 },
 "nbformat": 4,
 "nbformat_minor": 2
}
