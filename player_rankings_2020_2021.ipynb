{
 "cells": [
  {
   "cell_type": "code",
   "execution_count": 4,
   "metadata": {},
   "outputs": [],
   "source": [
    "import os\n",
    "import csv\n",
    "import pandas as pd\n",
    "import numpy as np\n",
    "import math"
   ]
  },
  {
   "cell_type": "code",
   "execution_count": 6,
   "metadata": {},
   "outputs": [
    {
     "name": "stdout",
     "output_type": "stream",
     "text": [
      "135.0\n",
      "1\n"
     ]
    }
   ],
   "source": [
    "thisdir = os.getcwd()\n",
    "thisdir += \"/2020-2021/Player Data/Non-goalkeeper/\"\n",
    "csv_list = []\n",
    "\n",
    "n_games = 3 #total games played\n",
    "min_time = n_games / 2 * 90 #min time played to be eligible\n",
    "min_games = math.floor(n_games / 2) #min games played to be eligible\n",
    "print(min_time)\n",
    "print(min_games)"
   ]
  },
  {
   "cell_type": "code",
   "execution_count": 7,
   "metadata": {},
   "outputs": [],
   "source": [
    "for r, d, f in os.walk(thisdir):\n",
    "    for file in f:\n",
    "        if file.endswith(\".csv\"):\n",
    "            csv_list.append(os.path.join(r, file))\n",
    "\n",
    "csv_list = sorted(csv_list)"
   ]
  },
  {
   "cell_type": "code",
   "execution_count": 8,
   "metadata": {},
   "outputs": [],
   "source": [
    "def convert_to_minutes(row):\n",
    "    return int(row['M'][:-1])\n",
    "\n",
    "def convert_to_int(row, col):\n",
    "    return int(row[col])"
   ]
  },
  {
   "cell_type": "code",
   "execution_count": 13,
   "metadata": {},
   "outputs": [],
   "source": [
    "players = []\n",
    "\n",
    "for csv_file in csv_list:\n",
    "#     print(csv_file)\n",
    "    if csv_file[-5:] == \"/.csv\":\n",
    "        continue\n",
    "    player_data = pd.read_csv(csv_file, encoding='latin-1')\n",
    "    player_data[\"M_played\"] = player_data.apply(lambda row:convert_to_minutes(row), axis=1)\n",
    "    player_data = player_data.astype({'G':'int32', 'OG':'int32', 'A':'int32', 'AT':'int32', 'BS':'int32', 'SC':'int32', 'FS':'int32', 'BP':'int32', 'AS':'int32', 'KP':'int32', 'P':'int32', 'P%':'int32', 'R':'int32', 'FYC':'int32', 'SYC':'int32', 'RC':'int32'})\n",
    "\n",
    "    players.append([player_data[\"Name\"].unique()[0], player_data[\"Team\"].unique(), player_data[\"M_played\"].sum(), player_data[\"G\"].sum(), player_data[\"OG\"].sum(), player_data[\"A\"].sum(), player_data[\"AT\"].sum(), player_data[\"BS\"].sum(), player_data[\"SC\"].sum(), player_data[\"FS\"].sum(), player_data[\"BP\"].sum(), player_data[\"AS\"].sum(), player_data[\"KP\"].sum(), player_data[\"P\"].sum(), player_data[\"P%\"].sum()  / player_data[\"P%\"].size, player_data[\"R\"].sum(), player_data[\"FYC\"].sum(), player_data[\"SYC\"].sum(), player_data[\"RC\"].sum(), player_data[\"M_played\"].size])\n",
    "\n",
    "players = pd.DataFrame(np.array(players), columns=['Name', 'Team' , 'M', 'G', 'OG', 'A', 'AT', 'BS', 'SC', 'FS', 'BP', 'AS', 'KP', 'P', 'P%', 'R', 'FYC', 'SYC', 'RC', \"N\"])\n",
    "players = players.astype({'M':'int32', 'G':'int32', 'OG':'int32', 'A':'int32', 'AT':'int32', 'BS':'int32', 'SC':'int32', 'FS':'int32', 'BP':'int32', 'AS':'int32', 'KP':'int32', 'P':'int32', 'P%':'float', 'R':'int32', 'FYC':'int32', 'SYC':'int32', 'RC':'int32', 'N':'int32'})\n",
    "players = players[players['M'] >= min_time]\n",
    "players = players[players['N'] >= min_games]"
   ]
  },
  {
   "cell_type": "code",
   "execution_count": 14,
   "metadata": {},
   "outputs": [
    {
     "name": "stdout",
     "output_type": "stream",
     "text": [
      "             Name           Team    M\n",
      "133     G.FERRARI     [SASSUOLO]  296\n",
      "107      F.CAPUTO     [SASSUOLO]  296\n",
      "242   M.LOCATELLI     [SASSUOLO]  296\n",
      "213  L.PELLEGRINI  [ROMA, GENOA]  294\n",
      "224     M.CACERES   [FIORENTINA]  292\n",
      "108  F.CECCHERINI   [FIORENTINA]  292\n",
      "268  N.MILENKOVIC   [FIORENTINA]  292\n",
      "112    F.DJURICIC     [SASSUOLO]  290\n",
      "207    L.MAGALLAN      [CROTONE]  289\n",
      "352     V.GOLEMIC      [CROTONE]  289\n"
     ]
    }
   ],
   "source": [
    "players = players.sort_values(by='M', ascending=False)\n",
    "print(players[[\"Name\", \"Team\", \"M\"]].head(n=10))"
   ]
  },
  {
   "cell_type": "code",
   "execution_count": 16,
   "metadata": {},
   "outputs": [
    {
     "name": "stdout",
     "output_type": "stream",
     "text": [
      "             Name          Team        M_N\n",
      "176       J.RAMOS      [SPEZIA]  99.000000\n",
      "107      F.CAPUTO    [SASSUOLO]  98.666667\n",
      "133     G.FERRARI    [SASSUOLO]  98.666667\n",
      "242   M.LOCATELLI    [SASSUOLO]  98.666667\n",
      "53         BREMER      [TORINO]  98.000000\n",
      "272     N.NKOULOU      [TORINO]  98.000000\n",
      "3       A.BELOTTI      [TORINO]  98.000000\n",
      "108  F.CECCHERINI  [FIORENTINA]  97.333333\n",
      "224     M.CACERES  [FIORENTINA]  97.333333\n",
      "268  N.MILENKOVIC  [FIORENTINA]  97.333333\n"
     ]
    }
   ],
   "source": [
    "players['M_N'] = players['M'] / players['N']\n",
    "players = players.sort_values(by='M_N', ascending=False)\n",
    "print(players[[\"Name\", \"Team\", \"M_N\"]].head(n=10))"
   ]
  },
  {
   "cell_type": "code",
   "execution_count": 17,
   "metadata": {},
   "outputs": [
    {
     "name": "stdout",
     "output_type": "stream",
     "text": [
      "               Name          Team  G\n",
      "15          A.GOMEZ    [ATALANTA]  4\n",
      "303        R.LUKAKU       [INTER]  3\n",
      "66        C.RONALDO    [JUVENTUS]  3\n",
      "107        F.CAPUTO    [SASSUOLO]  3\n",
      "209      L.MARTINEZ       [INTER]  3\n",
      "14      A.GALABINOV      [SPEZIA]  3\n",
      "119  F.QUAGLIARELLA   [SAMPDORIA]  2\n",
      "151      H.HATEBOER    [ATALANTA]  2\n",
      "128   G.CASTROVILLI  [FIORENTINA]  2\n",
      "314       R.SORIANO     [BOLOGNA]  2\n"
     ]
    }
   ],
   "source": [
    "players = players.sort_values(by='G', ascending=False)\n",
    "print(players[[\"Name\", \"Team\", \"G\"]].head(n=10))"
   ]
  },
  {
   "cell_type": "code",
   "execution_count": 18,
   "metadata": {},
   "outputs": [
    {
     "name": "stdout",
     "output_type": "stream",
     "text": [
      "            Name        Team       G_M        M_G\n",
      "15       A.GOMEZ  [ATALANTA]  0.017094  58.500000\n",
      "66     C.RONALDO  [JUVENTUS]  0.016043  62.333333\n",
      "209   L.MARTINEZ     [INTER]  0.014563  68.666667\n",
      "152     H.LOZANO    [NAPOLI]  0.013245  75.500000\n",
      "211     L.MURIEL  [ATALANTA]  0.013158  76.000000\n",
      "14   A.GALABINOV    [SPEZIA]  0.013043  76.666667\n",
      "84     D.MERTENS    [NAPOLI]  0.012739  78.500000\n",
      "303     R.LUKAKU     [INTER]  0.011538  86.666667\n",
      "3      A.BELOTTI    [TORINO]  0.010204  98.000000\n",
      "107     F.CAPUTO  [SASSUOLO]  0.010135  98.666667\n"
     ]
    }
   ],
   "source": [
    "players['G_M'] = players['G'] / players['M']\n",
    "players = players.sort_values(by='G_M', ascending=False)\n",
    "top_players = players[[\"Name\", \"Team\", \"G_M\"]].head(n=10)\n",
    "top_players['M_G'] = players['M'] / players['G']\n",
    "print(top_players.head(n=10))"
   ]
  },
  {
   "cell_type": "code",
   "execution_count": 19,
   "metadata": {},
   "outputs": [
    {
     "name": "stdout",
     "output_type": "stream",
     "text": [
      "            Name        Team   A\n",
      "191    K.LASAGNA   [UDINESE]  13\n",
      "66     C.RONALDO  [JUVENTUS]  13\n",
      "107     F.CAPUTO  [SASSUOLO]  12\n",
      "59    C.IMMOBILE     [LAZIO]  11\n",
      "173    J.MESSIAS   [CROTONE]  11\n",
      "211     L.MURIEL  [ATALANTA]  10\n",
      "70     D.BERARDI  [SASSUOLO]  10\n",
      "242  M.LOCATELLI  [SASSUOLO]   9\n",
      "287        PEDRO      [ROMA]   9\n",
      "15       A.GOMEZ  [ATALANTA]   9\n"
     ]
    }
   ],
   "source": [
    "players = players.sort_values(by='A', ascending=False)\n",
    "print(players[[\"Name\", \"Team\", \"A\"]].head(n=10))"
   ]
  },
  {
   "cell_type": "code",
   "execution_count": 20,
   "metadata": {},
   "outputs": [
    {
     "name": "stdout",
     "output_type": "stream",
     "text": [
      "               Name          Team       A_M        M_A\n",
      "66        C.RONALDO    [JUVENTUS]  0.069519  14.384615\n",
      "211        L.MURIEL    [ATALANTA]  0.065789  15.200000\n",
      "87       D.VLAHOVIC  [FIORENTINA]  0.047945  20.857143\n",
      "191       K.LASAGNA     [UDINESE]  0.045139  22.153846\n",
      "59       C.IMMOBILE       [LAZIO]  0.041985  23.818182\n",
      "107        F.CAPUTO    [SASSUOLO]  0.040541  24.666667\n",
      "152        H.LOZANO      [NAPOLI]  0.039735  25.166667\n",
      "119  F.QUAGLIARELLA   [SAMPDORIA]  0.039648  25.222222\n",
      "15          A.GOMEZ    [ATALANTA]  0.038462  26.000000\n",
      "48           B.DIAZ       [MILAN]  0.038251  26.142857\n"
     ]
    }
   ],
   "source": [
    "players['A_M'] = players['A'] / players['M']\n",
    "players = players.sort_values(by='A_M', ascending=False)\n",
    "top_players = players[[\"Name\", \"Team\", \"A_M\"]].head(n=10)\n",
    "top_players['M_A'] = players['M'] / players['A']\n",
    "print(top_players.head(n=10))"
   ]
  },
  {
   "cell_type": "code",
   "execution_count": 21,
   "metadata": {},
   "outputs": [
    {
     "name": "stdout",
     "output_type": "stream",
     "text": [
      "           Name          Team  AS\n",
      "88     D.ZAPATA    [ATALANTA]   2\n",
      "15      A.GOMEZ    [ATALANTA]   2\n",
      "17     A.HAKIMI       [INTER]   2\n",
      "23    A.MARUSIC       [LAZIO]   2\n",
      "133   G.FERRARI    [SASSUOLO]   2\n",
      "294    R.GOSENS    [ATALANTA]   2\n",
      "175  J.PALOMINO    [ATALANTA]   2\n",
      "84    D.MERTENS      [NAPOLI]   2\n",
      "120    F.RIBERY  [FIORENTINA]   2\n",
      "211    L.MURIEL    [ATALANTA]   1\n"
     ]
    }
   ],
   "source": [
    "players = players.sort_values(by='AS', ascending=False)\n",
    "print(players[[\"Name\", \"Team\", \"AS\"]].head(n=10))"
   ]
  },
  {
   "cell_type": "code",
   "execution_count": 22,
   "metadata": {},
   "outputs": [
    {
     "name": "stdout",
     "output_type": "stream",
     "text": [
      "           Name          Team      AS_M   M_AS\n",
      "84    D.MERTENS      [NAPOLI]  0.012739   78.5\n",
      "120    F.RIBERY  [FIORENTINA]  0.011905   84.0\n",
      "17     A.HAKIMI       [INTER]  0.009009  111.0\n",
      "23    A.MARUSIC       [LAZIO]  0.008969  111.5\n",
      "15      A.GOMEZ    [ATALANTA]  0.008547  117.0\n",
      "88     D.ZAPATA    [ATALANTA]  0.008511  117.5\n",
      "175  J.PALOMINO    [ATALANTA]  0.008368  119.5\n",
      "294    R.GOSENS    [ATALANTA]  0.007968  125.5\n",
      "220    M.BADELJ       [GENOA]  0.007353  136.0\n",
      "133   G.FERRARI    [SASSUOLO]  0.006757  148.0\n"
     ]
    }
   ],
   "source": [
    "players['AS_M'] = players['AS'] / players['M']\n",
    "players = players.sort_values(by='AS_M', ascending=False)\n",
    "top_players = players[[\"Name\", \"Team\", \"AS_M\"]].head(n=10)\n",
    "top_players['M_AS'] = players['M'] / players['AS']\n",
    "print(top_players.head(n=10))"
   ]
  },
  {
   "cell_type": "code",
   "execution_count": 23,
   "metadata": {},
   "outputs": [
    {
     "name": "stdout",
     "output_type": "stream",
     "text": [
      "             Name           Team   BP\n",
      "242   M.LOCATELLI     [SASSUOLO]  341\n",
      "133     G.FERRARI     [SASSUOLO]  312\n",
      "290     R.DE PAUL      [UDINESE]  262\n",
      "351   V.CHIRICHES     [SASSUOLO]  254\n",
      "72     D.CALABRIA        [MILAN]  246\n",
      "295      R.IBANEZ         [ROMA]  243\n",
      "143      G.PATRIC        [LAZIO]  242\n",
      "213  L.PELLEGRINI  [ROMA, GENOA]  240\n",
      "197    L.CIGARINI      [CROTONE]  235\n",
      "219  LUIS ALBERTO        [LAZIO]  233\n"
     ]
    }
   ],
   "source": [
    "players = players.sort_values(by='BP', ascending=False)\n",
    "print(players[[\"Name\", \"Team\", \"BP\"]].head(n=10))"
   ]
  },
  {
   "cell_type": "code",
   "execution_count": 24,
   "metadata": {},
   "outputs": [
    {
     "name": "stdout",
     "output_type": "stream",
     "text": [
      "            Name        Team      BP_M      M_BP\n",
      "90        DANILO  [JUVENTUS]  1.245989  0.802575\n",
      "351  V.CHIRICHES  [SASSUOLO]  1.170507  0.854331\n",
      "242  M.LOCATELLI  [SASSUOLO]  1.152027  0.868035\n",
      "190  K.KOULIBALY    [NAPOLI]  1.136842  0.879630\n",
      "97       E.HYSAJ    [NAPOLI]  1.100000  0.909091\n",
      "2      A.BASTONI     [INTER]  1.093264  0.914692\n",
      "133    G.FERRARI  [SASSUOLO]  1.054054  0.948718\n",
      "30      A.RABIOT  [JUVENTUS]  1.051282  0.951220\n",
      "129  G.CHIELLINI  [JUVENTUS]  1.005650  0.994382\n",
      "253   M.SKRINIAR     [INTER]  0.994350  1.005682\n"
     ]
    }
   ],
   "source": [
    "players['BP_M'] = players['BP'] / players['M']\n",
    "players = players.sort_values(by='BP_M', ascending=False)\n",
    "top_players = players[[\"Name\", \"Team\", \"BP_M\"]].head(n=10)\n",
    "top_players['M_BP'] = players['M'] / players['BP']\n",
    "print(top_players.head(n=10))"
   ]
  },
  {
   "cell_type": "code",
   "execution_count": 25,
   "metadata": {},
   "outputs": [
    {
     "name": "stdout",
     "output_type": "stream",
     "text": [
      "            Name        Team    P\n",
      "133    G.FERRARI  [SASSUOLO]  264\n",
      "242  M.LOCATELLI  [SASSUOLO]  246\n",
      "351  V.CHIRICHES  [SASSUOLO]  219\n",
      "143     G.PATRIC     [LAZIO]  189\n",
      "190  K.KOULIBALY    [NAPOLI]  179\n",
      "2      A.BASTONI     [INTER]  176\n",
      "90        DANILO  [JUVENTUS]  163\n",
      "295     R.IBANEZ      [ROMA]  160\n",
      "237     M.GABBIA     [MILAN]  160\n",
      "352    V.GOLEMIC   [CROTONE]  156\n"
     ]
    }
   ],
   "source": [
    "players = players.sort_values(by='P', ascending=False)\n",
    "print(players[[\"Name\", \"Team\", \"P\"]].head(n=10))"
   ]
  },
  {
   "cell_type": "code",
   "execution_count": 26,
   "metadata": {},
   "outputs": [
    {
     "name": "stdout",
     "output_type": "stream",
     "text": [
      "            Name        Team       P_M       M_P\n",
      "351  V.CHIRICHES  [SASSUOLO]  1.009217  0.990868\n",
      "190  K.KOULIBALY    [NAPOLI]  0.942105  1.061453\n",
      "2      A.BASTONI     [INTER]  0.911917  1.096591\n",
      "133    G.FERRARI  [SASSUOLO]  0.891892  1.121212\n",
      "90        DANILO  [JUVENTUS]  0.871658  1.147239\n",
      "242  M.LOCATELLI  [SASSUOLO]  0.831081  1.203252\n",
      "129  G.CHIELLINI  [JUVENTUS]  0.819209  1.220690\n",
      "253   M.SKRINIAR     [INTER]  0.807910  1.237762\n",
      "97       E.HYSAJ    [NAPOLI]  0.800000  1.250000\n",
      "30      A.RABIOT  [JUVENTUS]  0.794872  1.258065\n"
     ]
    }
   ],
   "source": [
    "players['P_M'] = players['P'] / players['M']\n",
    "players = players.sort_values(by='P_M', ascending=False)\n",
    "top_players = players[[\"Name\", \"Team\", \"P_M\"]].head(n=10)\n",
    "top_players['M_P'] = players['M'] / players['P']\n",
    "print(top_players.head(n=10))"
   ]
  },
  {
   "cell_type": "code",
   "execution_count": 27,
   "metadata": {},
   "outputs": [
    {
     "name": "stdout",
     "output_type": "stream",
     "text": [
      "             Name        Team          P%\n",
      "193     K.MANOLAS    [NAPOLI]  100.000000\n",
      "89   D.ZAPPACOSTA     [GENOA]   96.500000\n",
      "131  G.DI LORENZO    [NAPOLI]   95.500000\n",
      "164      J.CHABOT    [SPEZIA]   95.333333\n",
      "351   V.CHIRICHES  [SASSUOLO]   95.333333\n",
      "195     L.BONUCCI  [JUVENTUS]   95.000000\n",
      "237      M.GABBIA     [MILAN]   94.666667\n",
      "133     G.FERRARI  [SASSUOLO]   94.333333\n",
      "17       A.HAKIMI     [INTER]   94.000000\n",
      "190   K.KOULIBALY    [NAPOLI]   94.000000\n"
     ]
    }
   ],
   "source": [
    "players = players.sort_values(by='P%', ascending=False)\n",
    "print(players[[\"Name\", \"Team\", \"P%\"]].head(n=10))"
   ]
  },
  {
   "cell_type": "code",
   "execution_count": 28,
   "metadata": {},
   "outputs": [
    {
     "name": "stdout",
     "output_type": "stream",
     "text": [
      "             Name             Team  KP\n",
      "290     R.DE PAUL        [UDINESE]   8\n",
      "150  H.CALHANOGLU          [MILAN]   5\n",
      "120      F.RIBERY     [FIORENTINA]   4\n",
      "31       A.RAMSEY       [JUVENTUS]   4\n",
      "221      M.BARROW        [BOLOGNA]   4\n",
      "197    L.CIGARINI        [CROTONE]   3\n",
      "215  L.SPINAZZOLA           [ROMA]   3\n",
      "333       S.OKAKA        [UDINESE]   3\n",
      "15        A.GOMEZ       [ATALANTA]   3\n",
      "111     F.DIMARCO  [HELLAS VERONA]   3\n"
     ]
    }
   ],
   "source": [
    "players = players.sort_values(by='KP', ascending=False)\n",
    "print(players[[\"Name\", \"Team\", \"KP\"]].head(n=10))"
   ]
  },
  {
   "cell_type": "code",
   "execution_count": 29,
   "metadata": {},
   "outputs": [
    {
     "name": "stdout",
     "output_type": "stream",
     "text": [
      "              Name          Team      KP_M       M_KP\n",
      "290      R.DE PAUL     [UDINESE]  0.027778  36.000000\n",
      "31        A.RAMSEY    [JUVENTUS]  0.024691  40.500000\n",
      "150   H.CALHANOGLU       [MILAN]  0.024272  41.200000\n",
      "120       F.RIBERY  [FIORENTINA]  0.023810  42.000000\n",
      "247      M.PASALIC    [ATALANTA]  0.018519  54.000000\n",
      "221       M.BARROW     [BOLOGNA]  0.015209  65.750000\n",
      "220       M.BADELJ       [GENOA]  0.014706  68.000000\n",
      "15         A.GOMEZ    [ATALANTA]  0.012821  78.000000\n",
      "42         A.YOUNG       [INTER]  0.012500  80.000000\n",
      "125  G.BONAVENTURA  [FIORENTINA]  0.012397  80.666667\n"
     ]
    }
   ],
   "source": [
    "players['KP_M'] = players['KP'] / players['M']\n",
    "players = players.sort_values(by='KP_M', ascending=False)\n",
    "top_players = players[[\"Name\", \"Team\", \"KP_M\"]].head(n=10)\n",
    "top_players['M_KP'] = players['M'] / players['KP']\n",
    "print(top_players.head(n=10))"
   ]
  },
  {
   "cell_type": "code",
   "execution_count": 30,
   "metadata": {
    "scrolled": true
   },
   "outputs": [
    {
     "name": "stdout",
     "output_type": "stream",
     "text": [
      "              Name             Team  FS\n",
      "290      R.DE PAUL        [UDINESE]  11\n",
      "3        A.BELOTTI         [TORINO]  11\n",
      "173      J.MESSIAS        [CROTONE]  11\n",
      "197     L.CIGARINI        [CROTONE]  10\n",
      "128  G.CASTROVILLI     [FIORENTINA]   9\n",
      "287          PEDRO           [ROMA]   8\n",
      "262     M.ZACCAGNI  [HELLAS VERONA]   8\n",
      "171        J.KUCKA          [PARMA]   8\n",
      "345    T.HERNANDEZ          [MILAN]   8\n",
      "310      R.PALACIO        [BOLOGNA]   7\n"
     ]
    }
   ],
   "source": [
    "players = players.sort_values(by='FS', ascending=False)\n",
    "print(players[[\"Name\", \"Team\", \"FS\"]].head(n=10))"
   ]
  },
  {
   "cell_type": "code",
   "execution_count": 31,
   "metadata": {
    "scrolled": true
   },
   "outputs": [
    {
     "name": "stdout",
     "output_type": "stream",
     "text": [
      "           Name             Team      FS_M       M_FS\n",
      "3     A.BELOTTI         [TORINO]  0.056122  17.818182\n",
      "152    H.LOZANO         [NAPOLI]  0.046358  21.571429\n",
      "262  M.ZACCAGNI  [HELLAS VERONA]  0.042781  23.375000\n",
      "157  I.BENNACER          [MILAN]  0.039216  25.500000\n",
      "48       B.DIAZ          [MILAN]  0.038251  26.142857\n",
      "290   R.DE PAUL        [UDINESE]  0.038194  26.181818\n",
      "173   J.MESSIAS        [CROTONE]  0.038062  26.272727\n",
      "197  L.CIGARINI        [CROTONE]  0.037879  26.400000\n",
      "47       B.DABO      [BENEVENTO]  0.036364  27.500000\n",
      "120    F.RIBERY     [FIORENTINA]  0.035714  28.000000\n"
     ]
    }
   ],
   "source": [
    "players['FS_M'] = players['FS'] / players['M']\n",
    "players = players.sort_values(by='FS_M', ascending=False)\n",
    "top_players = players[[\"Name\", \"Team\", \"FS_M\"]].head(n=10)\n",
    "top_players['M_FS'] = players['M'] / players['FS']\n",
    "print(top_players.head(n=10))"
   ]
  },
  {
   "cell_type": "code",
   "execution_count": 32,
   "metadata": {},
   "outputs": [
    {
     "name": "stdout",
     "output_type": "stream",
     "text": [
      "             Name             Team   R\n",
      "189      K.GUNTER  [HELLAS VERONA]  40\n",
      "295      R.IBANEZ           [ROMA]  38\n",
      "320     S.DE MAIO        [UDINESE]  32\n",
      "102      F.ACERBI          [LAZIO]  32\n",
      "326       S.KJAER          [MILAN]  31\n",
      "216     L.TONELLI      [SAMPDORIA]  30\n",
      "226       M.CETIN  [HELLAS VERONA]  27\n",
      "139     G.MANCINI           [ROMA]  26\n",
      "207    L.MAGALLAN        [CROTONE]  26\n",
      "108  F.CECCHERINI     [FIORENTINA]  26\n"
     ]
    }
   ],
   "source": [
    "players = players.sort_values(by='R', ascending=False)\n",
    "print(players[[\"Name\", \"Team\", \"R\"]].head(n=10))"
   ]
  },
  {
   "cell_type": "code",
   "execution_count": 33,
   "metadata": {},
   "outputs": [
    {
     "name": "stdout",
     "output_type": "stream",
     "text": [
      "           Name             Team       R_M       M_R\n",
      "189    K.GUNTER  [HELLAS VERONA]  0.153846  6.500000\n",
      "49   B.DJIMSITI       [ATALANTA]  0.135714  7.368421\n",
      "295    R.IBANEZ           [ROMA]  0.132867  7.526316\n",
      "53       BREMER         [TORINO]  0.127551  7.840000\n",
      "216   L.TONELLI      [SAMPDORIA]  0.127119  7.866667\n",
      "256   M.THORSBY      [SAMPDORIA]  0.119403  8.375000\n",
      "65     C.ROMERO       [ATALANTA]  0.118881  8.411765\n",
      "275    O.COLLEY      [SAMPDORIA]  0.117647  8.500000\n",
      "320   S.DE MAIO        [UDINESE]  0.117216  8.531250\n",
      "326     S.KJAER          [MILAN]  0.116541  8.580645\n"
     ]
    }
   ],
   "source": [
    "players['R_M'] = players['R'] / players['M']\n",
    "players = players.sort_values(by='R_M', ascending=False)\n",
    "top_players = players[[\"Name\", \"Team\", \"R_M\"]].head(n=10)\n",
    "top_players['M_R'] = players['M'] / players['R']\n",
    "print(top_players.head(n=10))"
   ]
  }
 ],
 "metadata": {
  "kernelspec": {
   "display_name": "Python 3",
   "language": "python",
   "name": "python3"
  },
  "language_info": {
   "codemirror_mode": {
    "name": "ipython",
    "version": 3
   },
   "file_extension": ".py",
   "mimetype": "text/x-python",
   "name": "python",
   "nbconvert_exporter": "python",
   "pygments_lexer": "ipython3",
   "version": "3.7.4"
  }
 },
 "nbformat": 4,
 "nbformat_minor": 2
}
