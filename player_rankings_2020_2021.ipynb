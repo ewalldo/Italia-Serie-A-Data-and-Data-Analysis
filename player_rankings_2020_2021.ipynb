{
 "cells": [
  {
   "cell_type": "code",
   "execution_count": 1,
   "metadata": {},
   "outputs": [],
   "source": [
    "import os\n",
    "import csv\n",
    "import pandas as pd\n",
    "import numpy as np\n",
    "import math"
   ]
  },
  {
   "cell_type": "code",
   "execution_count": 2,
   "metadata": {},
   "outputs": [
    {
     "name": "stdout",
     "output_type": "stream",
     "text": [
      "300.0\n",
      "5\n"
     ]
    }
   ],
   "source": [
    "thisdir = os.getcwd()\n",
    "thisdir += \"/2020-2021/Player Data/Non-goalkeeper/\"\n",
    "csv_list = []\n",
    "\n",
    "n_games = 10 #total games played\n",
    "min_time = n_games / 3 * 90 #min time played to be eligible\n",
    "min_games = math.floor(n_games / 2) #min games played to be eligible\n",
    "print(min_time)\n",
    "print(min_games)"
   ]
  },
  {
   "cell_type": "code",
   "execution_count": 3,
   "metadata": {},
   "outputs": [],
   "source": [
    "for r, d, f in os.walk(thisdir):\n",
    "    for file in f:\n",
    "        if file.endswith(\".csv\"):\n",
    "            csv_list.append(os.path.join(r, file))\n",
    "\n",
    "csv_list = sorted(csv_list)"
   ]
  },
  {
   "cell_type": "code",
   "execution_count": 4,
   "metadata": {},
   "outputs": [],
   "source": [
    "def convert_to_minutes(row):\n",
    "    return int(row['M'][:-1])\n",
    "\n",
    "def convert_to_int(row, col):\n",
    "    return int(row[col])"
   ]
  },
  {
   "cell_type": "code",
   "execution_count": 7,
   "metadata": {},
   "outputs": [],
   "source": [
    "players = []\n",
    "\n",
    "for csv_file in csv_list:\n",
    "#     print(csv_file)\n",
    "    if csv_file[-5:] == \"/.csv\":\n",
    "        continue\n",
    "    player_data = pd.read_csv(csv_file, encoding='latin-1')\n",
    "    player_data[\"M_played\"] = player_data.apply(lambda row:convert_to_minutes(row), axis=1)\n",
    "    player_data = player_data.astype({'G':'int32', 'OG':'int32', 'A':'int32', 'AT':'int32', 'BS':'int32', 'SC':'int32', 'FS':'int32', 'BP':'int32', 'AS':'int32', 'KP':'int32', 'P':'int32', 'P%':'int32', 'R':'int32', 'FYC':'int32', 'SYC':'int32', 'RC':'int32'})\n",
    "\n",
    "    players.append([player_data[\"Name\"].unique()[0], player_data[\"Team\"].unique(), player_data[\"M_played\"].sum(), player_data[\"G\"].sum(), player_data[\"OG\"].sum(), player_data[\"A\"].sum(), player_data[\"AT\"].sum(), player_data[\"BS\"].sum(), player_data[\"SC\"].sum(), player_data[\"FS\"].sum(), player_data[\"BP\"].sum(), player_data[\"AS\"].sum(), player_data[\"KP\"].sum(), player_data[\"P\"].sum(), player_data[\"P%\"].sum()  / player_data[\"P%\"].size, player_data[\"R\"].sum(), player_data[\"FYC\"].sum(), player_data[\"SYC\"].sum(), player_data[\"RC\"].sum(), player_data[\"M_played\"].size])\n",
    "\n",
    "players = pd.DataFrame(np.array(players), columns=['Name', 'Team' , 'M', 'G', 'OG', 'A', 'AT', 'BS', 'SC', 'FS', 'BP', 'AS', 'KP', 'P', 'P%', 'R', 'FYC', 'SYC', 'RC', \"N\"])\n",
    "players = players.astype({'M':'int32', 'G':'int32', 'OG':'int32', 'A':'int32', 'AT':'int32', 'BS':'int32', 'SC':'int32', 'FS':'int32', 'BP':'int32', 'AS':'int32', 'KP':'int32', 'P':'int32', 'P%':'float', 'R':'int32', 'FYC':'int32', 'SYC':'int32', 'RC':'int32', 'N':'int32'})\n",
    "players = players[players['M'] >= min_time]\n",
    "players = players[players['N'] >= min_games]"
   ]
  },
  {
   "cell_type": "code",
   "execution_count": 8,
   "metadata": {},
   "outputs": [
    {
     "name": "stdout",
     "output_type": "stream",
     "text": [
      "             Name                 Team     M\n",
      "269  L.PELLEGRINI        [ROMA, GENOA]  1258\n",
      "181    G.PEZZELLA  [PARMA, FIORENTINA]  1064\n",
      "306   M.LOCATELLI           [SASSUOLO]   972\n",
      "342  N.MILENKOVIC         [FIORENTINA]   967\n",
      "435   T.HERNANDEZ              [MILAN]   966\n",
      "168     G.FERRARI           [SASSUOLO]   965\n",
      "439    T.TOMIYASU            [BOLOGNA]   963\n",
      "240        K.GLIK          [BENEVENTO]   962\n",
      "77      C.BIRAGHI         [FIORENTINA]   959\n",
      "131      F.ACERBI              [LAZIO]   959\n"
     ]
    }
   ],
   "source": [
    "players = players.sort_values(by='M', ascending=False)\n",
    "print(players[[\"Name\", \"Team\", \"M\"]].head(n=10))"
   ]
  },
  {
   "cell_type": "code",
   "execution_count": 9,
   "metadata": {},
   "outputs": [
    {
     "name": "stdout",
     "output_type": "stream",
     "text": [
      "             Name          Team        M_N\n",
      "74         BREMER      [TORINO]  97.750000\n",
      "279        LYANCO      [TORINO]  97.500000\n",
      "306   M.LOCATELLI    [SASSUOLO]  97.200000\n",
      "49    A.ROMAGNOLI       [MILAN]  96.833333\n",
      "342  N.MILENKOVIC  [FIORENTINA]  96.700000\n",
      "435   T.HERNANDEZ       [MILAN]  96.600000\n",
      "168     G.FERRARI    [SASSUOLO]  96.500000\n",
      "300      M.GABBIA       [MILAN]  96.400000\n",
      "368     R.DE PAUL     [UDINESE]  96.333333\n",
      "439    T.TOMIYASU     [BOLOGNA]  96.300000\n"
     ]
    }
   ],
   "source": [
    "players['M_N'] = players['M'] / players['N']\n",
    "players = players.sort_values(by='M_N', ascending=False)\n",
    "print(players[[\"Name\", \"Team\", \"M_N\"]].head(n=10))"
   ]
  },
  {
   "cell_type": "code",
   "execution_count": 10,
   "metadata": {},
   "outputs": [
    {
     "name": "stdout",
     "output_type": "stream",
     "text": [
      "               Name         Team   G\n",
      "458   Z.IBRAHIMOVIC      [MILAN]  10\n",
      "381        R.LUKAKU      [INTER]   8\n",
      "88        C.RONALDO   [JUVENTUS]   8\n",
      "4         A.BELOTTI     [TORINO]   7\n",
      "232      JOAO PEDRO   [CAGLIARI]   6\n",
      "80       C.IMMOBILE      [LAZIO]   6\n",
      "265      L.MARTINEZ      [INTER]   5\n",
      "192        H.LOZANO     [NAPOLI]   5\n",
      "150  F.QUAGLIARELLA  [SAMPDORIA]   5\n",
      "193    H.MKHITARYAN       [ROMA]   5\n"
     ]
    }
   ],
   "source": [
    "players = players.sort_values(by='G', ascending=False)\n",
    "print(players[[\"Name\", \"Team\", \"G\"]].head(n=10))"
   ]
  },
  {
   "cell_type": "code",
   "execution_count": 11,
   "metadata": {},
   "outputs": [
    {
     "name": "stdout",
     "output_type": "stream",
     "text": [
      "              Name        Team       G_M         M_G\n",
      "458  Z.IBRAHIMOVIC     [MILAN]  0.017825   56.100000\n",
      "88       C.RONALDO  [JUVENTUS]  0.016162   61.875000\n",
      "381       R.LUKAKU     [INTER]  0.012232   81.750000\n",
      "80      C.IMMOBILE     [LAZIO]  0.009449  105.833333\n",
      "137       F.CAPUTO  [SASSUOLO]  0.008757  114.200000\n",
      "135      F.CAICEDO     [LAZIO]  0.008746  114.333333\n",
      "316     M.POLITANO    [NAPOLI]  0.008621  116.000000\n",
      "315        M.PJACA     [GENOA]  0.008197  122.000000\n",
      "4        A.BELOTTI    [TORINO]  0.008187  122.142857\n",
      "192       H.LOZANO    [NAPOLI]  0.007657  130.600000\n"
     ]
    }
   ],
   "source": [
    "players['G_M'] = players['G'] / players['M']\n",
    "players = players.sort_values(by='G_M', ascending=False)\n",
    "top_players = players[[\"Name\", \"Team\", \"G_M\"]].head(n=10)\n",
    "top_players['M_G'] = players['M'] / players['G']\n",
    "print(top_players.head(n=10))"
   ]
  },
  {
   "cell_type": "code",
   "execution_count": 12,
   "metadata": {},
   "outputs": [
    {
     "name": "stdout",
     "output_type": "stream",
     "text": [
      "               Name         Team   A\n",
      "458   Z.IBRAHIMOVIC      [MILAN]  32\n",
      "193    H.MKHITARYAN       [ROMA]  32\n",
      "265      L.MARTINEZ      [INTER]  28\n",
      "88        C.RONALDO   [JUVENTUS]  27\n",
      "109       D.MERTENS     [NAPOLI]  27\n",
      "282        M.BARROW    [BOLOGNA]  25\n",
      "22          A.GOMEZ   [ATALANTA]  24\n",
      "221       J.MESSIAS    [CROTONE]  24\n",
      "150  F.QUAGLIARELLA  [SAMPDORIA]  23\n",
      "120         E.DZEKO       [ROMA]  23\n"
     ]
    }
   ],
   "source": [
    "players = players.sort_values(by='A', ascending=False)\n",
    "print(players[[\"Name\", \"Team\", \"A\"]].head(n=10))"
   ]
  },
  {
   "cell_type": "code",
   "execution_count": 13,
   "metadata": {},
   "outputs": [
    {
     "name": "stdout",
     "output_type": "stream",
     "text": [
      "              Name        Team       A_M        M_A\n",
      "458  Z.IBRAHIMOVIC     [MILAN]  0.057041  17.531250\n",
      "88       C.RONALDO  [JUVENTUS]  0.054545  18.333333\n",
      "356       P.DYBALA  [JUVENTUS]  0.050761  19.700000\n",
      "447      V.OSIMHEN    [NAPOLI]  0.044625  22.409091\n",
      "109      D.MERTENS    [NAPOLI]  0.041731  23.962963\n",
      "265     L.MARTINEZ     [INTER]  0.041116  24.321429\n",
      "316     M.POLITANO    [NAPOLI]  0.040230  24.857143\n",
      "22         A.GOMEZ  [ATALANTA]  0.036810  27.166667\n",
      "120        E.DZEKO      [ROMA]  0.036741  27.217391\n",
      "259      L.INSIGNE    [NAPOLI]  0.035524  28.150000\n"
     ]
    }
   ],
   "source": [
    "players['A_M'] = players['A'] / players['M']\n",
    "players = players.sort_values(by='A_M', ascending=False)\n",
    "top_players = players[[\"Name\", \"Team\", \"A_M\"]].head(n=10)\n",
    "top_players['M_A'] = players['M'] / players['A']\n",
    "print(top_players.head(n=10))"
   ]
  },
  {
   "cell_type": "code",
   "execution_count": 14,
   "metadata": {},
   "outputs": [
    {
     "name": "stdout",
     "output_type": "stream",
     "text": [
      "             Name                    Team  AS\n",
      "109     D.MERTENS                [NAPOLI]   5\n",
      "139      F.CHIESA  [FIORENTINA, JUVENTUS]   4\n",
      "394     R.SORIANO               [BOLOGNA]   4\n",
      "193  H.MKHITARYAN                  [ROMA]   4\n",
      "93      D.BERARDI              [SASSUOLO]   3\n",
      "77      C.BIRAGHI            [FIORENTINA]   3\n",
      "188       G.ZAPPA              [CAGLIARI]   3\n",
      "51      A.SANCHEZ                 [INTER]   3\n",
      "212    J.CUADRADO              [JUVENTUS]   3\n",
      "7      A.CANDREVA             [SAMPDORIA]   3\n",
      "380        R.LEAO                 [MILAN]   3\n",
      "337     N.BARELLA                 [INTER]   3\n",
      "32      A.MARUSIC                 [LAZIO]   2\n",
      "318       M.RICCI                [SPEZIA]   2\n",
      "123       E.GYASI                [SPEZIA]   2\n"
     ]
    }
   ],
   "source": [
    "players = players.sort_values(by='AS', ascending=False)\n",
    "print(players[[\"Name\", \"Team\", \"AS\"]].head(n=15))"
   ]
  },
  {
   "cell_type": "code",
   "execution_count": 15,
   "metadata": {},
   "outputs": [
    {
     "name": "stdout",
     "output_type": "stream",
     "text": [
      "              Name                    Team      AS_M        M_AS\n",
      "380         R.LEAO                 [MILAN]  0.007833  127.666667\n",
      "109      D.MERTENS                [NAPOLI]  0.007728  129.400000\n",
      "139       F.CHIESA  [FIORENTINA, JUVENTUS]  0.006803  147.000000\n",
      "51       A.SANCHEZ                 [INTER]  0.006342  157.666667\n",
      "316     M.POLITANO                [NAPOLI]  0.005747  174.000000\n",
      "59         A.YOUNG                 [INTER]  0.005698  175.500000\n",
      "382  R.MALINOVSKYI              [ATALANTA]  0.005479  182.500000\n",
      "134    F.BONAZZOLI     [SAMPDORIA, TORINO]  0.005420  184.500000\n",
      "364    P.ZIELINSKI                [NAPOLI]  0.005076  197.000000\n",
      "7       A.CANDREVA             [SAMPDORIA]  0.005000  200.000000\n"
     ]
    }
   ],
   "source": [
    "players['AS_M'] = players['AS'] / players['M']\n",
    "players = players.sort_values(by='AS_M', ascending=False)\n",
    "top_players = players[[\"Name\", \"Team\", \"AS_M\"]].head(n=10)\n",
    "top_players['M_AS'] = players['M'] / players['AS']\n",
    "print(top_players.head(n=10))"
   ]
  },
  {
   "cell_type": "code",
   "execution_count": 16,
   "metadata": {},
   "outputs": [
    {
     "name": "stdout",
     "output_type": "stream",
     "text": [
      "             Name                 Team    BP\n",
      "306   M.LOCATELLI           [SASSUOLO]  1046\n",
      "269  L.PELLEGRINI        [ROMA, GENOA]   918\n",
      "168     G.FERRARI           [SASSUOLO]   875\n",
      "117        DANILO           [JUVENTUS]   838\n",
      "242   K.KOULIBALY             [NAPOLI]   779\n",
      "131      F.ACERBI              [LAZIO]   771\n",
      "77      C.BIRAGHI         [FIORENTINA]   769\n",
      "342  N.MILENKOVIC         [FIORENTINA]   759\n",
      "181    G.PEZZELLA  [PARMA, FIORENTINA]   759\n",
      "368     R.DE PAUL            [UDINESE]   752\n"
     ]
    }
   ],
   "source": [
    "players = players.sort_values(by='BP', ascending=False)\n",
    "print(players[[\"Name\", \"Team\", \"BP\"]].head(n=10))"
   ]
  },
  {
   "cell_type": "code",
   "execution_count": 17,
   "metadata": {},
   "outputs": [
    {
     "name": "stdout",
     "output_type": "stream",
     "text": [
      "            Name          Team      BP_M      M_BP\n",
      "306  M.LOCATELLI    [SASSUOLO]  1.076132  0.929254\n",
      "61        ARTHUR    [JUVENTUS]  1.044346  0.957537\n",
      "284   M.BROZOVIC       [INTER]  1.042969  0.958801\n",
      "335    MARIO RUI      [NAPOLI]  1.009685  0.990408\n",
      "117       DANILO    [JUVENTUS]  1.004796  0.995227\n",
      "30     A.KOLAROV       [INTER]  0.974874  1.025773\n",
      "441  V.CHIRICHES    [SASSUOLO]  0.951562  1.050903\n",
      "154  FABIAN RUIZ      [NAPOLI]  0.943604  1.059767\n",
      "125     E.PULGAR  [FIORENTINA]  0.936118  1.068241\n",
      "252   L.CIGARINI     [CROTONE]  0.912317  1.096110\n"
     ]
    }
   ],
   "source": [
    "players['BP_M'] = players['BP'] / players['M']\n",
    "players = players.sort_values(by='BP_M', ascending=False)\n",
    "top_players = players[[\"Name\", \"Team\", \"BP_M\"]].head(n=10)\n",
    "top_players['M_BP'] = players['M'] / players['BP']\n",
    "print(top_players.head(n=10))"
   ]
  },
  {
   "cell_type": "code",
   "execution_count": 18,
   "metadata": {},
   "outputs": [
    {
     "name": "stdout",
     "output_type": "stream",
     "text": [
      "             Name          Team    P\n",
      "306   M.LOCATELLI    [SASSUOLO]  758\n",
      "168     G.FERRARI    [SASSUOLO]  714\n",
      "242   K.KOULIBALY      [NAPOLI]  627\n",
      "117        DANILO    [JUVENTUS]  626\n",
      "342  N.MILENKOVIC  [FIORENTINA]  554\n",
      "131      F.ACERBI       [LAZIO]  528\n",
      "154   FABIAN RUIZ      [NAPOLI]  521\n",
      "441   V.CHIRICHES    [SASSUOLO]  485\n",
      "399     S.AMRABAT  [FIORENTINA]  482\n",
      "318       M.RICCI      [SPEZIA]  482\n"
     ]
    }
   ],
   "source": [
    "players = players.sort_values(by='P', ascending=False)\n",
    "print(players[[\"Name\", \"Team\", \"P\"]].head(n=10))"
   ]
  },
  {
   "cell_type": "code",
   "execution_count": 19,
   "metadata": {},
   "outputs": [
    {
     "name": "stdout",
     "output_type": "stream",
     "text": [
      "            Name        Team       P_M       M_P\n",
      "61        ARTHUR  [JUVENTUS]  0.875831  1.141772\n",
      "284   M.BROZOVIC     [INTER]  0.792969  1.261084\n",
      "306  M.LOCATELLI  [SASSUOLO]  0.779835  1.282322\n",
      "441  V.CHIRICHES  [SASSUOLO]  0.757812  1.319588\n",
      "117       DANILO  [JUVENTUS]  0.750600  1.332268\n",
      "168    G.FERRARI  [SASSUOLO]  0.739896  1.351541\n",
      "242  K.KOULIBALY    [NAPOLI]  0.734192  1.362041\n",
      "30     A.KOLAROV     [INTER]  0.726131  1.377163\n",
      "3      A.BASTONI     [INTER]  0.717988  1.392781\n",
      "154  FABIAN RUIZ    [NAPOLI]  0.716644  1.395393\n"
     ]
    }
   ],
   "source": [
    "players['P_M'] = players['P'] / players['M']\n",
    "players = players.sort_values(by='P_M', ascending=False)\n",
    "top_players = players[[\"Name\", \"Team\", \"P_M\"]].head(n=10)\n",
    "top_players['M_P'] = players['M'] / players['P']\n",
    "print(top_players.head(n=10))"
   ]
  },
  {
   "cell_type": "code",
   "execution_count": 20,
   "metadata": {},
   "outputs": [
    {
     "name": "stdout",
     "output_type": "stream",
     "text": [
      "             Name        Team         P%\n",
      "98   D.D'AMBROSIO     [INTER]  94.714286\n",
      "61         ARTHUR  [JUVENTUS]  94.166667\n",
      "346     N.NKOULOU    [TORINO]  93.857143\n",
      "295     M.DEMIRAL  [JUVENTUS]  93.833333\n",
      "246     K.MANOLAS    [NAPOLI]  92.777778\n",
      "323    M.SKRINIAR     [INTER]  92.666667\n",
      "403     S.DE VRIJ     [INTER]  92.500000\n",
      "356      P.DYBALA  [JUVENTUS]  92.500000\n",
      "367   R.BENTANCUR  [JUVENTUS]  92.375000\n",
      "300      M.GABBIA     [MILAN]  91.800000\n"
     ]
    }
   ],
   "source": [
    "players = players.sort_values(by='P%', ascending=False)\n",
    "print(players[[\"Name\", \"Team\", \"P%\"]].head(n=10))"
   ]
  },
  {
   "cell_type": "code",
   "execution_count": 21,
   "metadata": {},
   "outputs": [
    {
     "name": "stdout",
     "output_type": "stream",
     "text": [
      "             Name             Team  KP\n",
      "368     R.DE PAUL        [UDINESE]  12\n",
      "190  H.CALHANOGLU          [MILAN]  11\n",
      "269  L.PELLEGRINI    [ROMA, GENOA]  10\n",
      "215      J.ILICIC       [ATALANTA]   8\n",
      "394     R.SORIANO        [BOLOGNA]   8\n",
      "141     F.DIMARCO  [HELLAS VERONA]   8\n",
      "332    M.ZACCAGNI  [HELLAS VERONA]   8\n",
      "77      C.BIRAGHI     [FIORENTINA]   8\n",
      "93      D.BERARDI       [SASSUOLO]   8\n",
      "142    F.DJURICIC       [SASSUOLO]   7\n",
      "201     I.PERISIC          [INTER]   6\n",
      "193  H.MKHITARYAN           [ROMA]   6\n",
      "22        A.GOMEZ       [ATALANTA]   6\n",
      "277  LUIS ALBERTO          [LAZIO]   6\n",
      "272  L.SPINAZZOLA           [ROMA]   6\n"
     ]
    }
   ],
   "source": [
    "players = players.sort_values(by='KP', ascending=False)\n",
    "print(players[[\"Name\", \"Team\", \"KP\"]].head(n=15))"
   ]
  },
  {
   "cell_type": "code",
   "execution_count": 22,
   "metadata": {},
   "outputs": [
    {
     "name": "stdout",
     "output_type": "stream",
     "text": [
      "              Name             Team      KP_M       M_KP\n",
      "215       J.ILICIC       [ATALANTA]  0.022284  44.875000\n",
      "425        S.VERDI         [TORINO]  0.014085  71.000000\n",
      "368      R.DE PAUL        [UDINESE]  0.013841  72.250000\n",
      "190   H.CALHANOGLU          [MILAN]  0.012881  77.636364\n",
      "44        A.RAMSEY       [JUVENTUS]  0.012755  78.400000\n",
      "382  R.MALINOVSKYI       [ATALANTA]  0.010959  91.250000\n",
      "332     M.ZACCAGNI  [HELLAS VERONA]  0.010710  93.375000\n",
      "339      N.ESTEVEZ         [SPEZIA]  0.010695  93.500000\n",
      "142     F.DJURICIC       [SASSUOLO]  0.010294  97.142857\n",
      "141      F.DIMARCO  [HELLAS VERONA]  0.010152  98.500000\n"
     ]
    }
   ],
   "source": [
    "players['KP_M'] = players['KP'] / players['M']\n",
    "players = players.sort_values(by='KP_M', ascending=False)\n",
    "top_players = players[[\"Name\", \"Team\", \"KP_M\"]].head(n=10)\n",
    "top_players['M_KP'] = players['M'] / players['KP']\n",
    "print(top_players.head(n=10))"
   ]
  },
  {
   "cell_type": "code",
   "execution_count": 23,
   "metadata": {
    "scrolled": true
   },
   "outputs": [
    {
     "name": "stdout",
     "output_type": "stream",
     "text": [
      "              Name             Team  FS\n",
      "4        A.BELOTTI         [TORINO]  39\n",
      "332     M.ZACCAGNI  [HELLAS VERONA]  34\n",
      "368      R.DE PAUL        [UDINESE]  32\n",
      "151       F.RIBERY     [FIORENTINA]  28\n",
      "221      J.MESSIAS        [CROTONE]  27\n",
      "159  G.CASTROVILLI     [FIORENTINA]  24\n",
      "435    T.HERNANDEZ          [MILAN]  24\n",
      "389      R.PALACIO        [BOLOGNA]  24\n",
      "269   L.PELLEGRINI    [ROMA, GENOA]  23\n",
      "232     JOAO PEDRO       [CAGLIARI]  23\n"
     ]
    }
   ],
   "source": [
    "players = players.sort_values(by='FS', ascending=False)\n",
    "print(players[[\"Name\", \"Team\", \"FS\"]].head(n=10))"
   ]
  },
  {
   "cell_type": "code",
   "execution_count": 24,
   "metadata": {
    "scrolled": true
   },
   "outputs": [
    {
     "name": "stdout",
     "output_type": "stream",
     "text": [
      "             Name             Team      FS_M       M_FS\n",
      "4       A.BELOTTI         [TORINO]  0.045614  21.923077\n",
      "332    M.ZACCAGNI  [HELLAS VERONA]  0.045515  21.970588\n",
      "151      F.RIBERY     [FIORENTINA]  0.044872  22.285714\n",
      "215      J.ILICIC       [ATALANTA]  0.038997  25.642857\n",
      "405  S.DI CARMINE  [HELLAS VERONA]  0.038576  25.923077\n",
      "454       W.SINGO         [TORINO]  0.037657  26.555556\n",
      "368     R.DE PAUL        [UDINESE]  0.036909  27.093750\n",
      "179      G.PANDEV          [GENOA]  0.034296  29.157895\n",
      "192      H.LOZANO         [NAPOLI]  0.032159  31.095238\n",
      "335     MARIO RUI         [NAPOLI]  0.031477  31.769231\n"
     ]
    }
   ],
   "source": [
    "players['FS_M'] = players['FS'] / players['M']\n",
    "players = players.sort_values(by='FS_M', ascending=False)\n",
    "top_players = players[[\"Name\", \"Team\", \"FS_M\"]].head(n=10)\n",
    "top_players['M_FS'] = players['M'] / players['FS']\n",
    "print(top_players.head(n=10))"
   ]
  },
  {
   "cell_type": "code",
   "execution_count": 25,
   "metadata": {},
   "outputs": [
    {
     "name": "stdout",
     "output_type": "stream",
     "text": [
      "             Name                         Team    R\n",
      "131      F.ACERBI                      [LAZIO]  106\n",
      "373      R.IBANEZ                       [ROMA]   95\n",
      "439    T.TOMIYASU                    [BOLOGNA]   93\n",
      "342  N.MILENKOVIC                 [FIORENTINA]   91\n",
      "326     M.THORSBY                  [SAMPDORIA]   88\n",
      "138  F.CECCHERINI  [FIORENTINA, HELLAS VERONA]   87\n",
      "262    L.MAGALLAN                    [CROTONE]   85\n",
      "181    G.PEZZELLA          [PARMA, FIORENTINA]   83\n",
      "410       S.KJAER                      [MILAN]   78\n",
      "74         BREMER                     [TORINO]   78\n"
     ]
    }
   ],
   "source": [
    "players = players.sort_values(by='R', ascending=False)\n",
    "print(players[[\"Name\", \"Team\", \"R\"]].head(n=10))"
   ]
  },
  {
   "cell_type": "code",
   "execution_count": 26,
   "metadata": {},
   "outputs": [
    {
     "name": "stdout",
     "output_type": "stream",
     "text": [
      "           Name        Team       R_M       M_R\n",
      "87     C.ROMERO  [ATALANTA]  0.143141  6.986111\n",
      "68   B.DJIMSITI  [ATALANTA]  0.126538  7.902778\n",
      "402   S.DE MAIO   [UDINESE]  0.121429  8.235294\n",
      "452     W.HOEDT     [LAZIO]  0.119874  8.342105\n",
      "295   M.DEMIRAL  [JUVENTUS]  0.117647  8.500000\n",
      "210    J.CHABOT    [SPEZIA]  0.114155  8.760000\n",
      "281      M.BANI     [GENOA]  0.113145  8.838235\n",
      "298     M.ERLIC    [SPEZIA]  0.112172  8.914894\n",
      "131    F.ACERBI     [LAZIO]  0.110532  9.047170\n",
      "454     W.SINGO    [TORINO]  0.108787  9.192308\n"
     ]
    }
   ],
   "source": [
    "players['R_M'] = players['R'] / players['M']\n",
    "players = players.sort_values(by='R_M', ascending=False)\n",
    "top_players = players[[\"Name\", \"Team\", \"R_M\"]].head(n=10)\n",
    "top_players['M_R'] = players['M'] / players['R']\n",
    "print(top_players.head(n=10))"
   ]
  },
  {
   "cell_type": "code",
   "execution_count": 27,
   "metadata": {},
   "outputs": [],
   "source": [
    "thisdir = os.getcwd()\n",
    "thisdir += \"/2020-2021/Player Data/Goalkeeper/\"\n",
    "csv_list = []\n",
    "\n",
    "for r, d, f in os.walk(thisdir):\n",
    "    for file in f:\n",
    "        if file.endswith(\".csv\"):\n",
    "            csv_list.append(os.path.join(r, file))\n",
    "\n",
    "csv_list = sorted(csv_list)\n",
    "\n",
    "players = []\n",
    "\n",
    "for csv_file in csv_list:\n",
    "#     print(csv_file)\n",
    "    if csv_file[-5:] == \"/.csv\":\n",
    "        continue\n",
    "    player_data = pd.read_csv(csv_file, encoding='latin-1')\n",
    "    player_data[\"M_played\"] = player_data.apply(lambda row:convert_to_minutes(row), axis=1)\n",
    "    player_data = player_data.astype({'GC':'int32', 'OG':'int32', 'S':'int32', 'STP':'int32', 'SF':'int32', 'FYC':'int32', 'SYC':'int32', 'RC':'int32'})\n",
    "\n",
    "    players.append([player_data[\"Name\"].unique()[0], player_data[\"Team\"].unique(), player_data[\"M_played\"].sum(), player_data[\"GC\"].sum(), player_data[\"OG\"].sum(), player_data[\"S\"].sum(), player_data[\"STP\"].sum(), player_data[\"SF\"].sum(), player_data[\"FYC\"].sum(), player_data[\"SYC\"].sum(), player_data[\"RC\"].sum(), player_data[\"M_played\"].size])\n",
    "\n",
    "players = pd.DataFrame(np.array(players), columns=['Name', 'Team' , 'M', 'GC', 'OG', 'S', 'STP', 'SF', 'FYC', 'SYC', 'RC', 'N'])\n",
    "players = players.astype({'M':'int32', 'GC':'int32', 'OG':'int32', 'S':'int32', 'STP':'int32', 'SF':'int32', 'FYC':'int32', 'SYC':'int32', 'RC':'int32', 'N':'int32'})\n",
    "players = players[players['M'] >= min_time]\n",
    "players = players[players['N'] >= min_games]"
   ]
  },
  {
   "cell_type": "code",
   "execution_count": 28,
   "metadata": {},
   "outputs": [
    {
     "name": "stdout",
     "output_type": "stream",
     "text": [
      "            Name             Team    M\n",
      "29      S.SIRIGU         [TORINO]  976\n",
      "6    B.DRAGOWSKI     [FIORENTINA]  967\n",
      "19   L.SKORUPSKI        [BOLOGNA]  963\n",
      "17    L.MONTIPO'      [BENEVENTO]  962\n",
      "1       A.CORDAZ        [CROTONE]  958\n",
      "28  S.HANDANOVIC          [INTER]  957\n",
      "2       A.CRAGNO       [CAGLIARI]  956\n",
      "21   M.SILVESTRI  [HELLAS VERONA]  955\n",
      "18        L.SEPE          [PARMA]  955\n",
      "9       E.AUDERO      [SAMPDORIA]  951\n"
     ]
    }
   ],
   "source": [
    "players = players.sort_values(by='M', ascending=False)\n",
    "print(players[[\"Name\", \"Team\", \"M\"]].head(n=10))"
   ]
  },
  {
   "cell_type": "code",
   "execution_count": 29,
   "metadata": {},
   "outputs": [
    {
     "name": "stdout",
     "output_type": "stream",
     "text": [
      "            Name          Team        M_N\n",
      "29      S.SIRIGU      [TORINO]  97.600000\n",
      "0     A.CONSIGLI    [SASSUOLO]  97.333333\n",
      "31    W.SZCZESNY    [JUVENTUS]  96.833333\n",
      "6    B.DRAGOWSKI  [FIORENTINA]  96.700000\n",
      "12  G.DONNARUMMA       [MILAN]  96.666667\n",
      "26       P.REINA       [LAZIO]  96.400000\n",
      "19   L.SKORUPSKI     [BOLOGNA]  96.300000\n",
      "15       J.MUSSO     [UDINESE]  96.285714\n",
      "17    L.MONTIPO'   [BENEVENTO]  96.200000\n",
      "8       D.OSPINA      [NAPOLI]  96.200000\n"
     ]
    }
   ],
   "source": [
    "players['M_N'] = players['M'] / players['N']\n",
    "players = players.sort_values(by='M_N', ascending=False)\n",
    "print(players[[\"Name\", \"Team\", \"M_N\"]].head(n=10))"
   ]
  },
  {
   "cell_type": "code",
   "execution_count": 30,
   "metadata": {},
   "outputs": [
    {
     "name": "stdout",
     "output_type": "stream",
     "text": [
      "            Name          Team  GC\n",
      "29      S.SIRIGU      [TORINO]  24\n",
      "1       A.CORDAZ     [CROTONE]  24\n",
      "17    L.MONTIPO'   [BENEVENTO]  21\n",
      "2       A.CRAGNO    [CAGLIARI]  20\n",
      "18        L.SEPE       [PARMA]  17\n",
      "19   L.SKORUPSKI     [BOLOGNA]  17\n",
      "9       E.AUDERO   [SAMPDORIA]  17\n",
      "6    B.DRAGOWSKI  [FIORENTINA]  16\n",
      "22  M.SPORTIELLO    [ATALANTA]  15\n",
      "28  S.HANDANOVIC       [INTER]  14\n"
     ]
    }
   ],
   "source": [
    "players = players.sort_values(by='GC', ascending=False)\n",
    "print(players[[\"Name\", \"Team\", \"GC\"]].head(n=10))"
   ]
  },
  {
   "cell_type": "code",
   "execution_count": 31,
   "metadata": {},
   "outputs": [
    {
     "name": "stdout",
     "output_type": "stream",
     "text": [
      "            Name         Team      GC_M       M_GC\n",
      "1       A.CORDAZ    [CROTONE]  0.025052  39.916667\n",
      "29      S.SIRIGU     [TORINO]  0.024590  40.666667\n",
      "30   T.STRAKOSHA      [LAZIO]  0.023061  43.363636\n",
      "17    L.MONTIPO'  [BENEVENTO]  0.021830  45.809524\n",
      "22  M.SPORTIELLO   [ATALANTA]  0.021645  46.200000\n",
      "2       A.CRAGNO   [CAGLIARI]  0.020921  47.800000\n",
      "14    I.PROVEDEL     [SPEZIA]  0.018072  55.333333\n",
      "9       E.AUDERO  [SAMPDORIA]  0.017876  55.941176\n",
      "18        L.SEPE      [PARMA]  0.017801  56.176471\n",
      "19   L.SKORUPSKI    [BOLOGNA]  0.017653  56.647059\n"
     ]
    }
   ],
   "source": [
    "players['GC_M'] = players['GC'] / players['M']\n",
    "players = players.sort_values(by='GC_M', ascending=False)\n",
    "top_players = players[[\"Name\", \"Team\", \"GC_M\"]].head(n=10)\n",
    "top_players['M_GC'] = players['M'] / players['GC']\n",
    "print(top_players.head(n=10))"
   ]
  },
  {
   "cell_type": "code",
   "execution_count": 32,
   "metadata": {},
   "outputs": [
    {
     "name": "stdout",
     "output_type": "stream",
     "text": [
      "            Name             Team  GC\n",
      "8       D.OSPINA         [NAPOLI]   3\n",
      "31    W.SZCZESNY       [JUVENTUS]   6\n",
      "26       P.REINA          [LAZIO]   6\n",
      "12  G.DONNARUMMA          [MILAN]   6\n",
      "15       J.MUSSO        [UDINESE]   7\n",
      "21   M.SILVESTRI  [HELLAS VERONA]   8\n",
      "20       M.PERIN          [GENOA]  10\n",
      "30   T.STRAKOSHA          [LAZIO]  11\n",
      "4      A.MIRANTE           [ROMA]  11\n",
      "14    I.PROVEDEL         [SPEZIA]  12\n"
     ]
    }
   ],
   "source": [
    "players = players.sort_values(by='GC')\n",
    "print(players[[\"Name\", \"Team\", \"GC\"]].head(n=10))"
   ]
  },
  {
   "cell_type": "code",
   "execution_count": 33,
   "metadata": {},
   "outputs": [
    {
     "name": "stdout",
     "output_type": "stream",
     "text": [
      "            Name             Team      GC_M        M_GC\n",
      "8       D.OSPINA         [NAPOLI]  0.006237  160.333333\n",
      "12  G.DONNARUMMA          [MILAN]  0.006897  145.000000\n",
      "21   M.SILVESTRI  [HELLAS VERONA]  0.008377  119.375000\n",
      "31    W.SZCZESNY       [JUVENTUS]  0.010327   96.833333\n",
      "15       J.MUSSO        [UDINESE]  0.010386   96.285714\n",
      "26       P.REINA          [LAZIO]  0.012448   80.333333\n",
      "4      A.MIRANTE           [ROMA]  0.012881   77.636364\n",
      "0     A.CONSIGLI       [SASSUOLO]  0.013699   73.000000\n",
      "28  S.HANDANOVIC          [INTER]  0.014629   68.357143\n",
      "20       M.PERIN          [GENOA]  0.014925   67.000000\n"
     ]
    }
   ],
   "source": [
    "players['GC_M'] = players['GC'] / players['M']\n",
    "players = players.sort_values(by='GC_M')\n",
    "top_players = players[[\"Name\", \"Team\", \"GC_M\"]].head(n=10)\n",
    "top_players['M_GC'] = players['M'] / players['GC']\n",
    "print(top_players.head(n=10))"
   ]
  },
  {
   "cell_type": "code",
   "execution_count": 34,
   "metadata": {},
   "outputs": [
    {
     "name": "stdout",
     "output_type": "stream",
     "text": [
      "           Name             Team   S\n",
      "2      A.CRAGNO       [CAGLIARI]  48\n",
      "21  M.SILVESTRI  [HELLAS VERONA]  43\n",
      "18       L.SEPE          [PARMA]  39\n",
      "0    A.CONSIGLI       [SASSUOLO]  35\n",
      "9      E.AUDERO      [SAMPDORIA]  33\n",
      "1      A.CORDAZ        [CROTONE]  32\n",
      "17   L.MONTIPO'      [BENEVENTO]  31\n",
      "19  L.SKORUPSKI        [BOLOGNA]  31\n",
      "20      M.PERIN          [GENOA]  28\n",
      "6   B.DRAGOWSKI     [FIORENTINA]  28\n"
     ]
    }
   ],
   "source": [
    "players = players.sort_values(by='S', ascending=False)\n",
    "print(players[[\"Name\", \"Team\", \"S\"]].head(n=10))"
   ]
  },
  {
   "cell_type": "code",
   "execution_count": 35,
   "metadata": {},
   "outputs": [
    {
     "name": "stdout",
     "output_type": "stream",
     "text": [
      "           Name             Team       S_M        M_S\n",
      "2      A.CRAGNO       [CAGLIARI]  0.050209  19.916667\n",
      "21  M.SILVESTRI  [HELLAS VERONA]  0.045026  22.209302\n",
      "20      M.PERIN          [GENOA]  0.041791  23.928571\n",
      "26      P.REINA          [LAZIO]  0.041494  24.100000\n",
      "18       L.SEPE          [PARMA]  0.040838  24.487179\n",
      "0    A.CONSIGLI       [SASSUOLO]  0.039954  25.028571\n",
      "9      E.AUDERO      [SAMPDORIA]  0.034700  28.818182\n",
      "1      A.CORDAZ        [CROTONE]  0.033403  29.937500\n",
      "4     A.MIRANTE           [ROMA]  0.032787  30.500000\n",
      "17   L.MONTIPO'      [BENEVENTO]  0.032225  31.032258\n"
     ]
    }
   ],
   "source": [
    "players['S_M'] = players['S'] / players['M']\n",
    "players = players.sort_values(by='S_M', ascending=False)\n",
    "top_players = players[[\"Name\", \"Team\", \"S_M\"]].head(n=10)\n",
    "top_players['M_S'] = players['M'] / players['S']\n",
    "print(top_players.head(n=10))"
   ]
  },
  {
   "cell_type": "code",
   "execution_count": 36,
   "metadata": {},
   "outputs": [
    {
     "name": "stdout",
     "output_type": "stream",
     "text": [
      "            Name          Team  Set_S\n",
      "0     A.CONSIGLI    [SASSUOLO]      7\n",
      "4      A.MIRANTE        [ROMA]      7\n",
      "6    B.DRAGOWSKI  [FIORENTINA]      7\n",
      "18        L.SEPE       [PARMA]      6\n",
      "26       P.REINA       [LAZIO]      4\n",
      "1       A.CORDAZ     [CROTONE]      4\n",
      "12  G.DONNARUMMA       [MILAN]      4\n",
      "28  S.HANDANOVIC       [INTER]      4\n",
      "2       A.CRAGNO    [CAGLIARI]      3\n",
      "9       E.AUDERO   [SAMPDORIA]      3\n"
     ]
    }
   ],
   "source": [
    "players['Set_S'] = players['STP'] + players['SF']\n",
    "players = players.sort_values(by='Set_S', ascending=False)\n",
    "print(players[[\"Name\", \"Team\", \"Set_S\"]].head(n=10))"
   ]
  }
 ],
 "metadata": {
  "kernelspec": {
   "display_name": "Python 3",
   "language": "python",
   "name": "python3"
  },
  "language_info": {
   "codemirror_mode": {
    "name": "ipython",
    "version": 3
   },
   "file_extension": ".py",
   "mimetype": "text/x-python",
   "name": "python",
   "nbconvert_exporter": "python",
   "pygments_lexer": "ipython3",
   "version": "3.7.4"
  }
 },
 "nbformat": 4,
 "nbformat_minor": 2
}
