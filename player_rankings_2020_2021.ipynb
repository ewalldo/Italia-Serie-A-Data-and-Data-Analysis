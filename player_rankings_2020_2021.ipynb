{
 "cells": [
  {
   "cell_type": "code",
   "execution_count": 1,
   "metadata": {},
   "outputs": [],
   "source": [
    "import os\n",
    "import csv\n",
    "import pandas as pd\n",
    "import numpy as np\n",
    "import math"
   ]
  },
  {
   "cell_type": "code",
   "execution_count": 3,
   "metadata": {},
   "outputs": [
    {
     "name": "stdout",
     "output_type": "stream",
     "text": [
      "240.0\n",
      "4\n"
     ]
    }
   ],
   "source": [
    "thisdir = os.getcwd()\n",
    "thisdir += \"/2020-2021/Player Data/Non-goalkeeper/\"\n",
    "csv_list = []\n",
    "\n",
    "n_games = 8 #total games played\n",
    "min_time = n_games / 3 * 90 #min time played to be eligible\n",
    "min_games = math.floor(n_games / 2) #min games played to be eligible\n",
    "print(min_time)\n",
    "print(min_games)"
   ]
  },
  {
   "cell_type": "code",
   "execution_count": 4,
   "metadata": {},
   "outputs": [],
   "source": [
    "for r, d, f in os.walk(thisdir):\n",
    "    for file in f:\n",
    "        if file.endswith(\".csv\"):\n",
    "            csv_list.append(os.path.join(r, file))\n",
    "\n",
    "csv_list = sorted(csv_list)"
   ]
  },
  {
   "cell_type": "code",
   "execution_count": 5,
   "metadata": {},
   "outputs": [],
   "source": [
    "def convert_to_minutes(row):\n",
    "    return int(row['M'][:-1])\n",
    "\n",
    "def convert_to_int(row, col):\n",
    "    return int(row[col])"
   ]
  },
  {
   "cell_type": "code",
   "execution_count": 28,
   "metadata": {},
   "outputs": [],
   "source": [
    "players = []\n",
    "\n",
    "for csv_file in csv_list:\n",
    "#     print(csv_file)\n",
    "    if csv_file[-5:] == \"/.csv\":\n",
    "        continue\n",
    "    player_data = pd.read_csv(csv_file, encoding='latin-1')\n",
    "    player_data[\"M_played\"] = player_data.apply(lambda row:convert_to_minutes(row), axis=1)\n",
    "    player_data = player_data.astype({'G':'int32', 'OG':'int32', 'A':'int32', 'AT':'int32', 'BS':'int32', 'SC':'int32', 'FS':'int32', 'BP':'int32', 'AS':'int32', 'KP':'int32', 'P':'int32', 'P%':'int32', 'R':'int32', 'FYC':'int32', 'SYC':'int32', 'RC':'int32'})\n",
    "\n",
    "    players.append([player_data[\"Name\"].unique()[0], player_data[\"Team\"].unique(), player_data[\"M_played\"].sum(), player_data[\"G\"].sum(), player_data[\"OG\"].sum(), player_data[\"A\"].sum(), player_data[\"AT\"].sum(), player_data[\"BS\"].sum(), player_data[\"SC\"].sum(), player_data[\"FS\"].sum(), player_data[\"BP\"].sum(), player_data[\"AS\"].sum(), player_data[\"KP\"].sum(), player_data[\"P\"].sum(), player_data[\"P%\"].sum()  / player_data[\"P%\"].size, player_data[\"R\"].sum(), player_data[\"FYC\"].sum(), player_data[\"SYC\"].sum(), player_data[\"RC\"].sum(), player_data[\"M_played\"].size])\n",
    "\n",
    "players = pd.DataFrame(np.array(players), columns=['Name', 'Team' , 'M', 'G', 'OG', 'A', 'AT', 'BS', 'SC', 'FS', 'BP', 'AS', 'KP', 'P', 'P%', 'R', 'FYC', 'SYC', 'RC', \"N\"])\n",
    "players = players.astype({'M':'int32', 'G':'int32', 'OG':'int32', 'A':'int32', 'AT':'int32', 'BS':'int32', 'SC':'int32', 'FS':'int32', 'BP':'int32', 'AS':'int32', 'KP':'int32', 'P':'int32', 'P%':'float', 'R':'int32', 'FYC':'int32', 'SYC':'int32', 'RC':'int32', 'N':'int32'})\n",
    "players = players[players['M'] >= min_time]\n",
    "players = players[players['N'] >= min_games]"
   ]
  },
  {
   "cell_type": "code",
   "execution_count": 29,
   "metadata": {},
   "outputs": [
    {
     "name": "stdout",
     "output_type": "stream",
     "text": [
      "              Name                 Team    M\n",
      "265   L.PELLEGRINI        [ROMA, GENOA]  892\n",
      "177     G.PEZZELLA  [PARMA, FIORENTINA]  867\n",
      "301    M.LOCATELLI           [SASSUOLO]  781\n",
      "165      G.FERRARI           [SASSUOLO]  774\n",
      "426    T.HERNANDEZ              [MILAN]  773\n",
      "430     T.TOMIYASU            [BOLOGNA]  772\n",
      "336   N.MILENKOVIC         [FIORENTINA]  770\n",
      "360      R.DE PAUL            [UDINESE]  769\n",
      "236         K.GLIK          [BENEVENTO]  768\n",
      "417  S.WALUKIEWICZ           [CAGLIARI]  767\n"
     ]
    }
   ],
   "source": [
    "players = players.sort_values(by='M', ascending=False)\n",
    "print(players[[\"Name\", \"Team\", \"M\"]].head(n=10))"
   ]
  },
  {
   "cell_type": "code",
   "execution_count": 30,
   "metadata": {},
   "outputs": [
    {
     "name": "stdout",
     "output_type": "stream",
     "text": [
      "             Name        Team        M_N\n",
      "72         BREMER    [TORINO]  98.142857\n",
      "275        LYANCO    [TORINO]  97.833333\n",
      "301   M.LOCATELLI  [SASSUOLO]  97.625000\n",
      "47    A.ROMAGNOLI     [MILAN]  97.000000\n",
      "165     G.FERRARI  [SASSUOLO]  96.750000\n",
      "238   K.KOULIBALY    [NAPOLI]  96.714286\n",
      "162  G.DI LORENZO    [NAPOLI]  96.714286\n",
      "426   T.HERNANDEZ     [MILAN]  96.625000\n",
      "430    T.TOMIYASU   [BOLOGNA]  96.500000\n",
      "91      D.BERARDI  [SASSUOLO]  96.428571\n"
     ]
    }
   ],
   "source": [
    "players['M_N'] = players['M'] / players['N']\n",
    "players = players.sort_values(by='M_N', ascending=False)\n",
    "print(players[[\"Name\", \"Team\", \"M_N\"]].head(n=10))"
   ]
  },
  {
   "cell_type": "code",
   "execution_count": 31,
   "metadata": {},
   "outputs": [
    {
     "name": "stdout",
     "output_type": "stream",
     "text": [
      "              Name        Team   G\n",
      "448  Z.IBRAHIMOVIC     [MILAN]  10\n",
      "86       C.RONALDO  [JUVENTUS]   8\n",
      "373       R.LUKAKU     [INTER]   7\n",
      "4        A.BELOTTI    [TORINO]   6\n",
      "134       F.CAPUTO  [SASSUOLO]   5\n",
      "228     JOAO PEDRO  [CAGLIARI]   5\n",
      "181      G.SIMEONE  [CAGLIARI]   5\n",
      "189   H.MKHITARYAN      [ROMA]   5\n",
      "261     L.MARTINEZ     [INTER]   5\n",
      "20         A.GOMEZ  [ATALANTA]   4\n"
     ]
    }
   ],
   "source": [
    "players = players.sort_values(by='G', ascending=False)\n",
    "print(players[[\"Name\", \"Team\", \"G\"]].head(n=10))"
   ]
  },
  {
   "cell_type": "code",
   "execution_count": 32,
   "metadata": {},
   "outputs": [
    {
     "name": "stdout",
     "output_type": "stream",
     "text": [
      "              Name        Team       G_M         M_G\n",
      "86       C.RONALDO  [JUVENTUS]  0.020151   49.625000\n",
      "448  Z.IBRAHIMOVIC     [MILAN]  0.017825   56.100000\n",
      "373       R.LUKAKU     [INTER]  0.012302   81.285714\n",
      "132      F.CAICEDO     [LAZIO]  0.010830   92.333333\n",
      "4        A.BELOTTI    [TORINO]  0.009063  110.333333\n",
      "134       F.CAPUTO  [SASSUOLO]  0.008757  114.200000\n",
      "261     L.MARTINEZ     [INTER]  0.008666  115.400000\n",
      "78      C.IMMOBILE     [LAZIO]  0.008368  119.500000\n",
      "188       H.LOZANO    [NAPOLI]  0.007921  126.250000\n",
      "181      G.SIMEONE  [CAGLIARI]  0.007452  134.200000\n"
     ]
    }
   ],
   "source": [
    "players['G_M'] = players['G'] / players['M']\n",
    "players = players.sort_values(by='G_M', ascending=False)\n",
    "top_players = players[[\"Name\", \"Team\", \"G_M\"]].head(n=10)\n",
    "top_players['M_G'] = players['M'] / players['G']\n",
    "print(top_players.head(n=10))"
   ]
  },
  {
   "cell_type": "code",
   "execution_count": 33,
   "metadata": {},
   "outputs": [
    {
     "name": "stdout",
     "output_type": "stream",
     "text": [
      "              Name        Team   A\n",
      "448  Z.IBRAHIMOVIC     [MILAN]  32\n",
      "189   H.MKHITARYAN      [ROMA]  28\n",
      "86       C.RONALDO  [JUVENTUS]  24\n",
      "261     L.MARTINEZ     [INTER]  22\n",
      "107      D.MERTENS    [NAPOLI]  22\n",
      "20         A.GOMEZ  [ATALANTA]  22\n",
      "437      V.OSIMHEN    [NAPOLI]  22\n",
      "278       M.BARROW   [BOLOGNA]  21\n",
      "217      J.MESSIAS   [CROTONE]  21\n",
      "91       D.BERARDI  [SASSUOLO]  21\n"
     ]
    }
   ],
   "source": [
    "players = players.sort_values(by='A', ascending=False)\n",
    "print(players[[\"Name\", \"Team\", \"A\"]].head(n=10))"
   ]
  },
  {
   "cell_type": "code",
   "execution_count": 34,
   "metadata": {},
   "outputs": [
    {
     "name": "stdout",
     "output_type": "stream",
     "text": [
      "              Name         Team       A_M        M_A\n",
      "86       C.RONALDO   [JUVENTUS]  0.060453  16.541667\n",
      "448  Z.IBRAHIMOVIC      [MILAN]  0.057041  17.531250\n",
      "437      V.OSIMHEN     [NAPOLI]  0.044625  22.409091\n",
      "311     M.POLITANO     [NAPOLI]  0.042071  23.769231\n",
      "107      D.MERTENS     [NAPOLI]  0.040892  24.454545\n",
      "20         A.GOMEZ   [ATALANTA]  0.038394  26.045455\n",
      "261     L.MARTINEZ      [INTER]  0.038128  26.227273\n",
      "189   H.MKHITARYAN       [ROMA]  0.037940  26.357143\n",
      "168     G.LAPADULA  [BENEVENTO]  0.036403  27.470588\n",
      "132      F.CAICEDO      [LAZIO]  0.036101  27.700000\n"
     ]
    }
   ],
   "source": [
    "players['A_M'] = players['A'] / players['M']\n",
    "players = players.sort_values(by='A_M', ascending=False)\n",
    "top_players = players[[\"Name\", \"Team\", \"A_M\"]].head(n=10)\n",
    "top_players['M_A'] = players['M'] / players['A']\n",
    "print(top_players.head(n=10))"
   ]
  },
  {
   "cell_type": "code",
   "execution_count": 35,
   "metadata": {},
   "outputs": [
    {
     "name": "stdout",
     "output_type": "stream",
     "text": [
      "             Name                    Team  AS\n",
      "189  H.MKHITARYAN                  [ROMA]   4\n",
      "49      A.SANCHEZ                 [INTER]   3\n",
      "372        R.LEAO                 [MILAN]   3\n",
      "75      C.BIRAGHI            [FIORENTINA]   3\n",
      "107     D.MERTENS                [NAPOLI]   3\n",
      "386     R.SORIANO               [BOLOGNA]   3\n",
      "331     N.BARELLA                 [INTER]   3\n",
      "136      F.CHIESA  [FIORENTINA, JUVENTUS]   3\n",
      "91      D.BERARDI              [SASSUOLO]   3\n",
      "184       G.ZAPPA              [CAGLIARI]   2\n"
     ]
    }
   ],
   "source": [
    "players = players.sort_values(by='AS', ascending=False)\n",
    "print(players[[\"Name\", \"Team\", \"AS\"]].head(n=10))"
   ]
  },
  {
   "cell_type": "code",
   "execution_count": 36,
   "metadata": {},
   "outputs": [
    {
     "name": "stdout",
     "output_type": "stream",
     "text": [
      "              Name                    Team      AS_M        M_AS\n",
      "49       A.SANCHEZ                 [INTER]  0.009967  100.333333\n",
      "372         R.LEAO                 [MILAN]  0.007833  127.666667\n",
      "136       F.CHIESA  [FIORENTINA, JUVENTUS]  0.007194  139.000000\n",
      "311     M.POLITANO                [NAPOLI]  0.006472  154.500000\n",
      "57         A.YOUNG                 [INTER]  0.005935  168.500000\n",
      "107      D.MERTENS                [NAPOLI]  0.005576  179.333333\n",
      "374  R.MALINOVSKYI              [ATALANTA]  0.005479  182.500000\n",
      "131    F.BONAZZOLI     [SAMPDORIA, TORINO]  0.005479  182.500000\n",
      "189   H.MKHITARYAN                  [ROMA]  0.005420  184.500000\n",
      "323      M.VOJVODA                [TORINO]  0.004914  203.500000\n"
     ]
    }
   ],
   "source": [
    "players['AS_M'] = players['AS'] / players['M']\n",
    "players = players.sort_values(by='AS_M', ascending=False)\n",
    "top_players = players[[\"Name\", \"Team\", \"AS_M\"]].head(n=10)\n",
    "top_players['M_AS'] = players['M'] / players['AS']\n",
    "print(top_players.head(n=10))"
   ]
  },
  {
   "cell_type": "code",
   "execution_count": 37,
   "metadata": {},
   "outputs": [
    {
     "name": "stdout",
     "output_type": "stream",
     "text": [
      "             Name           Team   BP\n",
      "301   M.LOCATELLI     [SASSUOLO]  814\n",
      "165     G.FERRARI     [SASSUOLO]  688\n",
      "265  L.PELLEGRINI  [ROMA, GENOA]  677\n",
      "360     R.DE PAUL      [UDINESE]  673\n",
      "115        DANILO     [JUVENTUS]  661\n",
      "128      F.ACERBI        [LAZIO]  628\n",
      "151   FABIAN RUIZ       [NAPOLI]  622\n",
      "336  N.MILENKOVIC   [FIORENTINA]  611\n",
      "238   K.KOULIBALY       [NAPOLI]  587\n",
      "75      C.BIRAGHI   [FIORENTINA]  586\n"
     ]
    }
   ],
   "source": [
    "players = players.sort_values(by='BP', ascending=False)\n",
    "print(players[[\"Name\", \"Team\", \"BP\"]].head(n=10))"
   ]
  },
  {
   "cell_type": "code",
   "execution_count": 38,
   "metadata": {},
   "outputs": [
    {
     "name": "stdout",
     "output_type": "stream",
     "text": [
      "             Name        Team      BP_M      M_BP\n",
      "280    M.BROZOVIC     [INTER]  1.069378  0.935123\n",
      "301   M.LOCATELLI  [SASSUOLO]  1.042254  0.959459\n",
      "59         ARTHUR  [JUVENTUS]  1.038961  0.962500\n",
      "115        DANILO  [JUVENTUS]  0.998489  1.001513\n",
      "151   FABIAN RUIZ    [NAPOLI]  0.979528  1.020900\n",
      "3       A.BASTONI     [INTER]  0.979079  1.021368\n",
      "28      A.KOLAROV     [INTER]  0.974874  1.025773\n",
      "273  LUIS ALBERTO     [LAZIO]  0.947458  1.055456\n",
      "432   V.CHIRICHES  [SASSUOLO]  0.938127  1.065954\n",
      "317    M.SKRINIAR     [INTER]  0.916944  1.090580\n"
     ]
    }
   ],
   "source": [
    "players['BP_M'] = players['BP'] / players['M']\n",
    "players = players.sort_values(by='BP_M', ascending=False)\n",
    "top_players = players[[\"Name\", \"Team\", \"BP_M\"]].head(n=10)\n",
    "top_players['M_BP'] = players['M'] / players['BP']\n",
    "print(top_players.head(n=10))"
   ]
  },
  {
   "cell_type": "code",
   "execution_count": 39,
   "metadata": {},
   "outputs": [
    {
     "name": "stdout",
     "output_type": "stream",
     "text": [
      "             Name          Team    P\n",
      "301   M.LOCATELLI    [SASSUOLO]  587\n",
      "165     G.FERRARI    [SASSUOLO]  554\n",
      "115        DANILO    [JUVENTUS]  483\n",
      "151   FABIAN RUIZ      [NAPOLI]  481\n",
      "238   K.KOULIBALY      [NAPOLI]  461\n",
      "432   V.CHIRICHES    [SASSUOLO]  449\n",
      "336  N.MILENKOVIC  [FIORENTINA]  440\n",
      "128      F.ACERBI       [LAZIO]  424\n",
      "227    J.VERETOUT        [ROMA]  394\n",
      "3       A.BASTONI       [INTER]  383\n"
     ]
    }
   ],
   "source": [
    "players = players.sort_values(by='P', ascending=False)\n",
    "print(players[[\"Name\", \"Team\", \"P\"]].head(n=10))"
   ]
  },
  {
   "cell_type": "code",
   "execution_count": 40,
   "metadata": {},
   "outputs": [
    {
     "name": "stdout",
     "output_type": "stream",
     "text": [
      "            Name        Team       P_M       M_P\n",
      "59        ARTHUR  [JUVENTUS]  0.885714  1.129032\n",
      "280   M.BROZOVIC     [INTER]  0.803828  1.244048\n",
      "3      A.BASTONI     [INTER]  0.801255  1.248042\n",
      "151  FABIAN RUIZ    [NAPOLI]  0.757480  1.320166\n",
      "301  M.LOCATELLI  [SASSUOLO]  0.751601  1.330494\n",
      "432  V.CHIRICHES  [SASSUOLO]  0.750836  1.331849\n",
      "317   M.SKRINIAR     [INTER]  0.744186  1.343750\n",
      "115       DANILO  [JUVENTUS]  0.729607  1.370600\n",
      "28     A.KOLAROV     [INTER]  0.726131  1.377163\n",
      "165    G.FERRARI  [SASSUOLO]  0.715762  1.397112\n"
     ]
    }
   ],
   "source": [
    "players['P_M'] = players['P'] / players['M']\n",
    "players = players.sort_values(by='P_M', ascending=False)\n",
    "top_players = players[[\"Name\", \"Team\", \"P_M\"]].head(n=10)\n",
    "top_players['M_P'] = players['M'] / players['P']\n",
    "print(top_players.head(n=10))"
   ]
  },
  {
   "cell_type": "code",
   "execution_count": 41,
   "metadata": {},
   "outputs": [
    {
     "name": "stdout",
     "output_type": "stream",
     "text": [
      "             Name          Team         P%\n",
      "340     N.NKOULOU      [TORINO]  95.166667\n",
      "59         ARTHUR    [JUVENTUS]  94.400000\n",
      "317    M.SKRINIAR       [INTER]  94.000000\n",
      "96   D.D'AMBROSIO       [INTER]  93.833333\n",
      "291     M.DEMIRAL    [JUVENTUS]  93.833333\n",
      "296      M.GABBIA       [MILAN]  93.500000\n",
      "148      F.RIBERY  [FIORENTINA]  93.000000\n",
      "361     R.FREULER    [ATALANTA]  92.600000\n",
      "242     K.MANOLAS      [NAPOLI]  92.428571\n",
      "142      F.KESSIE       [MILAN]  92.250000\n"
     ]
    }
   ],
   "source": [
    "players = players.sort_values(by='P%', ascending=False)\n",
    "print(players[[\"Name\", \"Team\", \"P%\"]].head(n=10))"
   ]
  },
  {
   "cell_type": "code",
   "execution_count": 42,
   "metadata": {},
   "outputs": [
    {
     "name": "stdout",
     "output_type": "stream",
     "text": [
      "             Name             Team  KP\n",
      "360     R.DE PAUL        [UDINESE]  10\n",
      "186  H.CALHANOGLU          [MILAN]  10\n",
      "326    M.ZACCAGNI  [HELLAS VERONA]   8\n",
      "211      J.ILICIC       [ATALANTA]   8\n",
      "386     R.SORIANO        [BOLOGNA]   7\n",
      "91      D.BERARDI       [SASSUOLO]   7\n",
      "139    F.DJURICIC       [SASSUOLO]   7\n",
      "265  L.PELLEGRINI    [ROMA, GENOA]   7\n",
      "416       S.VERDI         [TORINO]   6\n",
      "138     F.DIMARCO  [HELLAS VERONA]   6\n",
      "189  H.MKHITARYAN           [ROMA]   6\n",
      "104  D.KULUSEVSKI       [JUVENTUS]   5\n",
      "197     I.PERISIC          [INTER]   5\n",
      "273  LUIS ALBERTO          [LAZIO]   5\n",
      "339      N.NANDEZ       [CAGLIARI]   5\n"
     ]
    }
   ],
   "source": [
    "players = players.sort_values(by='KP', ascending=False)\n",
    "print(players[[\"Name\", \"Team\", \"KP\"]].head(n=15))"
   ]
  },
  {
   "cell_type": "code",
   "execution_count": 43,
   "metadata": {},
   "outputs": [
    {
     "name": "stdout",
     "output_type": "stream",
     "text": [
      "              Name             Team      KP_M       M_KP\n",
      "211       J.ILICIC       [ATALANTA]  0.027119  36.875000\n",
      "186   H.CALHANOGLU          [MILAN]  0.015038  66.500000\n",
      "416        S.VERDI         [TORINO]  0.014925  67.000000\n",
      "42        A.RAMSEY       [JUVENTUS]  0.013986  71.500000\n",
      "326     M.ZACCAGNI  [HELLAS VERONA]  0.013675  73.125000\n",
      "360      R.DE PAUL        [UDINESE]  0.013004  76.900000\n",
      "139     F.DJURICIC       [SASSUOLO]  0.012868  77.714286\n",
      "104   D.KULUSEVSKI       [JUVENTUS]  0.011038  90.600000\n",
      "374  R.MALINOVSKYI       [ATALANTA]  0.010959  91.250000\n",
      "197      I.PERISIC          [INTER]  0.010593  94.400000\n"
     ]
    }
   ],
   "source": [
    "players['KP_M'] = players['KP'] / players['M']\n",
    "players = players.sort_values(by='KP_M', ascending=False)\n",
    "top_players = players[[\"Name\", \"Team\", \"KP_M\"]].head(n=10)\n",
    "top_players['M_KP'] = players['M'] / players['KP']\n",
    "print(top_players.head(n=10))"
   ]
  },
  {
   "cell_type": "code",
   "execution_count": 44,
   "metadata": {
    "scrolled": true
   },
   "outputs": [
    {
     "name": "stdout",
     "output_type": "stream",
     "text": [
      "              Name             Team  FS\n",
      "4        A.BELOTTI         [TORINO]  29\n",
      "326     M.ZACCAGNI  [HELLAS VERONA]  29\n",
      "360      R.DE PAUL        [UDINESE]  28\n",
      "217      J.MESSIAS        [CROTONE]  25\n",
      "148       F.RIBERY     [FIORENTINA]  23\n",
      "426    T.HERNANDEZ          [MILAN]  20\n",
      "156  G.CASTROVILLI     [FIORENTINA]  20\n",
      "175       G.PANDEV          [GENOA]  18\n",
      "208     J.CUADRADO       [JUVENTUS]  18\n",
      "207       J.CORREA          [LAZIO]  18\n"
     ]
    }
   ],
   "source": [
    "players = players.sort_values(by='FS', ascending=False)\n",
    "print(players[[\"Name\", \"Team\", \"FS\"]].head(n=10))"
   ]
  },
  {
   "cell_type": "code",
   "execution_count": 45,
   "metadata": {
    "scrolled": true
   },
   "outputs": [
    {
     "name": "stdout",
     "output_type": "stream",
     "text": [
      "            Name             Team      FS_M       M_FS\n",
      "326   M.ZACCAGNI  [HELLAS VERONA]  0.049573  20.172414\n",
      "148     F.RIBERY     [FIORENTINA]  0.048523  20.608696\n",
      "4      A.BELOTTI         [TORINO]  0.043807  22.827586\n",
      "444      W.SINGO         [TORINO]  0.042105  23.750000\n",
      "211     J.ILICIC       [ATALANTA]  0.040678  24.583333\n",
      "10   A.CORNELIUS          [PARMA]  0.037313  26.800000\n",
      "360    R.DE PAUL        [UDINESE]  0.036411  27.464286\n",
      "334    N.KALINIC  [HELLAS VERONA]  0.035842  27.900000\n",
      "175     G.PANDEV          [GENOA]  0.034221  29.222222\n",
      "424   T.BAKAYOKO         [NAPOLI]  0.033898  29.500000\n"
     ]
    }
   ],
   "source": [
    "players['FS_M'] = players['FS'] / players['M']\n",
    "players = players.sort_values(by='FS_M', ascending=False)\n",
    "top_players = players[[\"Name\", \"Team\", \"FS_M\"]].head(n=10)\n",
    "top_players['M_FS'] = players['M'] / players['FS']\n",
    "print(top_players.head(n=10))"
   ]
  },
  {
   "cell_type": "code",
   "execution_count": 46,
   "metadata": {},
   "outputs": [
    {
     "name": "stdout",
     "output_type": "stream",
     "text": [
      "             Name                         Team   R\n",
      "128      F.ACERBI                      [LAZIO]  88\n",
      "365      R.IBANEZ                       [ROMA]  84\n",
      "430    T.TOMIYASU                    [BOLOGNA]  80\n",
      "258    L.MAGALLAN                    [CROTONE]  74\n",
      "336  N.MILENKOVIC                 [FIORENTINA]  73\n",
      "85       C.ROMERO                   [ATALANTA]  72\n",
      "135  F.CECCHERINI  [FIORENTINA, HELLAS VERONA]  72\n",
      "72         BREMER                     [TORINO]  71\n",
      "402       S.KJAER                      [MILAN]  70\n",
      "320     M.THORSBY                  [SAMPDORIA]  69\n"
     ]
    }
   ],
   "source": [
    "players = players.sort_values(by='R', ascending=False)\n",
    "print(players[[\"Name\", \"Team\", \"R\"]].head(n=10))"
   ]
  },
  {
   "cell_type": "code",
   "execution_count": 47,
   "metadata": {},
   "outputs": [
    {
     "name": "stdout",
     "output_type": "stream",
     "text": [
      "           Name             Team       R_M       M_R\n",
      "237    K.GUNTER  [HELLAS VERONA]  0.152091  6.575000\n",
      "171   G.MAGNANI  [HELLAS VERONA]  0.146718  6.815789\n",
      "85     C.ROMERO       [ATALANTA]  0.143141  6.986111\n",
      "66   B.DJIMSITI       [ATALANTA]  0.135021  7.406250\n",
      "442     W.HOEDT          [LAZIO]  0.121795  8.210526\n",
      "394   S.DE MAIO        [UDINESE]  0.121429  8.235294\n",
      "277      M.BANI          [GENOA]  0.119804  8.346939\n",
      "365    R.IBANEZ           [ROMA]  0.118812  8.416667\n",
      "291   M.DEMIRAL       [JUVENTUS]  0.117647  8.500000\n",
      "128    F.ACERBI          [LAZIO]  0.114733  8.715909\n"
     ]
    }
   ],
   "source": [
    "players['R_M'] = players['R'] / players['M']\n",
    "players = players.sort_values(by='R_M', ascending=False)\n",
    "top_players = players[[\"Name\", \"Team\", \"R_M\"]].head(n=10)\n",
    "top_players['M_R'] = players['M'] / players['R']\n",
    "print(top_players.head(n=10))"
   ]
  },
  {
   "cell_type": "code",
   "execution_count": 52,
   "metadata": {},
   "outputs": [],
   "source": [
    "thisdir = os.getcwd()\n",
    "thisdir += \"/2020-2021/Player Data/Goalkeeper/\"\n",
    "csv_list = []\n",
    "\n",
    "for r, d, f in os.walk(thisdir):\n",
    "    for file in f:\n",
    "        if file.endswith(\".csv\"):\n",
    "            csv_list.append(os.path.join(r, file))\n",
    "\n",
    "csv_list = sorted(csv_list)\n",
    "\n",
    "players = []\n",
    "\n",
    "for csv_file in csv_list:\n",
    "#     print(csv_file)\n",
    "    if csv_file[-5:] == \"/.csv\":\n",
    "        continue\n",
    "    player_data = pd.read_csv(csv_file, encoding='latin-1')\n",
    "    player_data[\"M_played\"] = player_data.apply(lambda row:convert_to_minutes(row), axis=1)\n",
    "    player_data = player_data.astype({'GC':'int32', 'OG':'int32', 'S':'int32', 'STP':'int32', 'SF':'int32', 'FYC':'int32', 'SYC':'int32', 'RC':'int32'})\n",
    "\n",
    "    players.append([player_data[\"Name\"].unique()[0], player_data[\"Team\"].unique(), player_data[\"M_played\"].sum(), player_data[\"GC\"].sum(), player_data[\"OG\"].sum(), player_data[\"S\"].sum(), player_data[\"STP\"].sum(), player_data[\"SF\"].sum(), player_data[\"FYC\"].sum(), player_data[\"SYC\"].sum(), player_data[\"RC\"].sum(), player_data[\"M_played\"].size])\n",
    "\n",
    "players = pd.DataFrame(np.array(players), columns=['Name', 'Team' , 'M', 'GC', 'OG', 'S', 'STP', 'SF', 'FYC', 'SYC', 'RC', 'N'])\n",
    "players = players.astype({'M':'int32', 'GC':'int32', 'OG':'int32', 'S':'int32', 'STP':'int32', 'SF':'int32', 'FYC':'int32', 'SYC':'int32', 'RC':'int32', 'N':'int32'})\n",
    "players = players[players['M'] >= min_time]\n",
    "players = players[players['N'] >= min_games]"
   ]
  },
  {
   "cell_type": "code",
   "execution_count": 53,
   "metadata": {},
   "outputs": [
    {
     "name": "stdout",
     "output_type": "stream",
     "text": [
      "            Name             Team    M\n",
      "27      S.SIRIGU         [TORINO]  783\n",
      "0     A.CONSIGLI       [SASSUOLO]  781\n",
      "17   L.SKORUPSKI        [BOLOGNA]  772\n",
      "5    B.DRAGOWSKI     [FIORENTINA]  770\n",
      "26  S.HANDANOVIC          [INTER]  768\n",
      "15    L.MONTIPO'      [BENEVENTO]  768\n",
      "19   M.SILVESTRI  [HELLAS VERONA]  767\n",
      "2       A.CRAGNO       [CAGLIARI]  767\n",
      "1       A.CORDAZ        [CROTONE]  766\n",
      "16        L.SEPE          [PARMA]  762\n"
     ]
    }
   ],
   "source": [
    "players = players.sort_values(by='M', ascending=False)\n",
    "print(players[[\"Name\", \"Team\", \"M\"]].head(n=10))"
   ]
  },
  {
   "cell_type": "code",
   "execution_count": 54,
   "metadata": {},
   "outputs": [
    {
     "name": "stdout",
     "output_type": "stream",
     "text": [
      "            Name          Team        M_N\n",
      "27      S.SIRIGU      [TORINO]  97.875000\n",
      "0     A.CONSIGLI    [SASSUOLO]  97.625000\n",
      "24       P.REINA       [LAZIO]  97.000000\n",
      "11  G.DONNARUMMA       [MILAN]  96.714286\n",
      "7       D.OSPINA      [NAPOLI]  96.500000\n",
      "17   L.SKORUPSKI     [BOLOGNA]  96.500000\n",
      "5    B.DRAGOWSKI  [FIORENTINA]  96.250000\n",
      "26  S.HANDANOVIC       [INTER]  96.000000\n",
      "15    L.MONTIPO'   [BENEVENTO]  96.000000\n",
      "13       J.MUSSO     [UDINESE]  96.000000\n"
     ]
    }
   ],
   "source": [
    "players['M_N'] = players['M'] / players['N']\n",
    "players = players.sort_values(by='M_N', ascending=False)\n",
    "print(players[[\"Name\", \"Team\", \"M_N\"]].head(n=10))"
   ]
  },
  {
   "cell_type": "code",
   "execution_count": 55,
   "metadata": {},
   "outputs": [
    {
     "name": "stdout",
     "output_type": "stream",
     "text": [
      "            Name          Team  GC\n",
      "27      S.SIRIGU      [TORINO]  20\n",
      "15    L.MONTIPO'   [BENEVENTO]  20\n",
      "1       A.CORDAZ     [CROTONE]  19\n",
      "2       A.CRAGNO    [CAGLIARI]  17\n",
      "16        L.SEPE       [PARMA]  16\n",
      "20  M.SPORTIELLO    [ATALANTA]  14\n",
      "17   L.SKORUPSKI     [BOLOGNA]  14\n",
      "8       E.AUDERO   [SAMPDORIA]  13\n",
      "5    B.DRAGOWSKI  [FIORENTINA]  13\n",
      "26  S.HANDANOVIC       [INTER]  13\n"
     ]
    }
   ],
   "source": [
    "players = players.sort_values(by='GC', ascending=False)\n",
    "print(players[[\"Name\", \"Team\", \"GC\"]].head(n=10))"
   ]
  },
  {
   "cell_type": "code",
   "execution_count": 56,
   "metadata": {},
   "outputs": [
    {
     "name": "stdout",
     "output_type": "stream",
     "text": [
      "            Name         Team      GC_M       M_GC\n",
      "15    L.MONTIPO'  [BENEVENTO]  0.026042  38.400000\n",
      "27      S.SIRIGU     [TORINO]  0.025543  39.150000\n",
      "1       A.CORDAZ    [CROTONE]  0.024804  40.315789\n",
      "2       A.CRAGNO   [CAGLIARI]  0.022164  45.117647\n",
      "28   T.STRAKOSHA      [LAZIO]  0.021108  47.375000\n",
      "20  M.SPORTIELLO   [ATALANTA]  0.021053  47.500000\n",
      "16        L.SEPE      [PARMA]  0.020997  47.625000\n",
      "17   L.SKORUPSKI    [BOLOGNA]  0.018135  55.142857\n",
      "8       E.AUDERO  [SAMPDORIA]  0.017128  58.384615\n",
      "26  S.HANDANOVIC      [INTER]  0.016927  59.076923\n"
     ]
    }
   ],
   "source": [
    "players['GC_M'] = players['GC'] / players['M']\n",
    "players = players.sort_values(by='GC_M', ascending=False)\n",
    "top_players = players[[\"Name\", \"Team\", \"GC_M\"]].head(n=10)\n",
    "top_players['M_GC'] = players['M'] / players['GC']\n",
    "print(top_players.head(n=10))"
   ]
  },
  {
   "cell_type": "code",
   "execution_count": 57,
   "metadata": {},
   "outputs": [
    {
     "name": "stdout",
     "output_type": "stream",
     "text": [
      "            Name             Team  GC\n",
      "7       D.OSPINA         [NAPOLI]   3\n",
      "29    W.SZCZESNY       [JUVENTUS]   4\n",
      "11  G.DONNARUMMA          [MILAN]   5\n",
      "24       P.REINA          [LAZIO]   5\n",
      "13       J.MUSSO        [UDINESE]   6\n",
      "19   M.SILVESTRI  [HELLAS VERONA]   7\n",
      "4      A.MIRANTE           [ROMA]   7\n",
      "28   T.STRAKOSHA          [LAZIO]   8\n",
      "12    I.PROVEDEL         [SPEZIA]   8\n",
      "0     A.CONSIGLI       [SASSUOLO]   9\n"
     ]
    }
   ],
   "source": [
    "players = players.sort_values(by='GC')\n",
    "print(players[[\"Name\", \"Team\", \"GC\"]].head(n=10))"
   ]
  },
  {
   "cell_type": "code",
   "execution_count": 58,
   "metadata": {},
   "outputs": [
    {
     "name": "stdout",
     "output_type": "stream",
     "text": [
      "            Name             Team      GC_M        M_GC\n",
      "11  G.DONNARUMMA          [MILAN]  0.007386  135.400000\n",
      "7       D.OSPINA         [NAPOLI]  0.007772  128.666667\n",
      "19   M.SILVESTRI  [HELLAS VERONA]  0.009126  109.571429\n",
      "13       J.MUSSO        [UDINESE]  0.010417   96.000000\n",
      "29    W.SZCZESNY       [JUVENTUS]  0.010444   95.750000\n",
      "4      A.MIRANTE           [ROMA]  0.010511   95.142857\n",
      "0     A.CONSIGLI       [SASSUOLO]  0.011524   86.777778\n",
      "24       P.REINA          [LAZIO]  0.012887   77.600000\n",
      "18       M.PERIN          [GENOA]  0.014925   67.000000\n",
      "12    I.PROVEDEL         [SPEZIA]  0.016878   59.250000\n"
     ]
    }
   ],
   "source": [
    "players['GC_M'] = players['GC'] / players['M']\n",
    "players = players.sort_values(by='GC_M')\n",
    "top_players = players[[\"Name\", \"Team\", \"GC_M\"]].head(n=10)\n",
    "top_players['M_GC'] = players['M'] / players['GC']\n",
    "print(top_players.head(n=10))"
   ]
  },
  {
   "cell_type": "code",
   "execution_count": 59,
   "metadata": {},
   "outputs": [
    {
     "name": "stdout",
     "output_type": "stream",
     "text": [
      "           Name             Team   S\n",
      "2      A.CRAGNO       [CAGLIARI]  41\n",
      "19  M.SILVESTRI  [HELLAS VERONA]  35\n",
      "0    A.CONSIGLI       [SASSUOLO]  33\n",
      "16       L.SEPE          [PARMA]  31\n",
      "18      M.PERIN          [GENOA]  28\n",
      "15   L.MONTIPO'      [BENEVENTO]  27\n",
      "17  L.SKORUPSKI        [BOLOGNA]  26\n",
      "8      E.AUDERO      [SAMPDORIA]  25\n",
      "1      A.CORDAZ        [CROTONE]  24\n",
      "5   B.DRAGOWSKI     [FIORENTINA]  24\n"
     ]
    }
   ],
   "source": [
    "players = players.sort_values(by='S', ascending=False)\n",
    "print(players[[\"Name\", \"Team\", \"S\"]].head(n=10))"
   ]
  },
  {
   "cell_type": "code",
   "execution_count": 60,
   "metadata": {},
   "outputs": [
    {
     "name": "stdout",
     "output_type": "stream",
     "text": [
      "           Name             Team       S_M        M_S\n",
      "2      A.CRAGNO       [CAGLIARI]  0.053455  18.707317\n",
      "19  M.SILVESTRI  [HELLAS VERONA]  0.045632  21.914286\n",
      "0    A.CONSIGLI       [SASSUOLO]  0.042254  23.666667\n",
      "18      M.PERIN          [GENOA]  0.041791  23.928571\n",
      "24      P.REINA          [LAZIO]  0.041237  24.250000\n",
      "16       L.SEPE          [PARMA]  0.040682  24.580645\n",
      "15   L.MONTIPO'      [BENEVENTO]  0.035156  28.444444\n",
      "28  T.STRAKOSHA          [LAZIO]  0.034301  29.153846\n",
      "17  L.SKORUPSKI        [BOLOGNA]  0.033679  29.692308\n",
      "8      E.AUDERO      [SAMPDORIA]  0.032938  30.360000\n"
     ]
    }
   ],
   "source": [
    "players['S_M'] = players['S'] / players['M']\n",
    "players = players.sort_values(by='S_M', ascending=False)\n",
    "top_players = players[[\"Name\", \"Team\", \"S_M\"]].head(n=10)\n",
    "top_players['M_S'] = players['M'] / players['S']\n",
    "print(top_players.head(n=10))"
   ]
  },
  {
   "cell_type": "code",
   "execution_count": 61,
   "metadata": {},
   "outputs": [
    {
     "name": "stdout",
     "output_type": "stream",
     "text": [
      "            Name          Team  Set_S\n",
      "0     A.CONSIGLI    [SASSUOLO]      7\n",
      "4      A.MIRANTE        [ROMA]      6\n",
      "5    B.DRAGOWSKI  [FIORENTINA]      6\n",
      "16        L.SEPE       [PARMA]      5\n",
      "26  S.HANDANOVIC       [INTER]      4\n",
      "2       A.CRAGNO    [CAGLIARI]      3\n",
      "11  G.DONNARUMMA       [MILAN]      3\n",
      "20  M.SPORTIELLO    [ATALANTA]      3\n",
      "15    L.MONTIPO'   [BENEVENTO]      3\n",
      "24       P.REINA       [LAZIO]      3\n"
     ]
    }
   ],
   "source": [
    "players['Set_S'] = players['STP'] + players['SF']\n",
    "players = players.sort_values(by='Set_S', ascending=False)\n",
    "print(players[[\"Name\", \"Team\", \"Set_S\"]].head(n=10))"
   ]
  }
 ],
 "metadata": {
  "kernelspec": {
   "display_name": "Python 3",
   "language": "python",
   "name": "python3"
  },
  "language_info": {
   "codemirror_mode": {
    "name": "ipython",
    "version": 3
   },
   "file_extension": ".py",
   "mimetype": "text/x-python",
   "name": "python",
   "nbconvert_exporter": "python",
   "pygments_lexer": "ipython3",
   "version": "3.7.4"
  }
 },
 "nbformat": 4,
 "nbformat_minor": 2
}
