{
 "cells": [
  {
   "cell_type": "code",
   "execution_count": 49,
   "metadata": {},
   "outputs": [],
   "source": [
    "import os\n",
    "import csv\n",
    "import pandas as pd\n",
    "import numpy as np\n",
    "import math"
   ]
  },
  {
   "cell_type": "code",
   "execution_count": 51,
   "metadata": {},
   "outputs": [
    {
     "name": "stdout",
     "output_type": "stream",
     "text": [
      "420.0\n",
      "6\n"
     ]
    }
   ],
   "source": [
    "thisdir = os.getcwd()\n",
    "thisdir += \"/2020-2021/Player Data/Non-goalkeeper/\"\n",
    "csv_list = []\n",
    "\n",
    "n_games = 14 #total games played\n",
    "min_time = n_games / 3 * 90 #min time played to be eligible\n",
    "min_games = math.floor(n_games / 2) #min games played to be eligible\n",
    "print(min_time)\n",
    "print(min_games)"
   ]
  },
  {
   "cell_type": "code",
   "execution_count": 52,
   "metadata": {},
   "outputs": [],
   "source": [
    "for r, d, f in os.walk(thisdir):\n",
    "    for file in f:\n",
    "        if file.endswith(\".csv\"):\n",
    "            csv_list.append(os.path.join(r, file))\n",
    "\n",
    "csv_list = sorted(csv_list)"
   ]
  },
  {
   "cell_type": "code",
   "execution_count": 53,
   "metadata": {},
   "outputs": [],
   "source": [
    "def convert_to_minutes(row):\n",
    "    return int(row['M'][:-1])\n",
    "\n",
    "def convert_to_int(row, col):\n",
    "    return int(row[col])"
   ]
  },
  {
   "cell_type": "code",
   "execution_count": 54,
   "metadata": {},
   "outputs": [],
   "source": [
    "players = []\n",
    "\n",
    "for csv_file in csv_list:\n",
    "#     print(csv_file)\n",
    "    if csv_file[-5:] == \"/.csv\":\n",
    "        continue\n",
    "    player_data = pd.read_csv(csv_file, encoding='latin-1')\n",
    "    player_data[\"M_played\"] = player_data.apply(lambda row:convert_to_minutes(row), axis=1)\n",
    "    player_data = player_data.astype({'G':'int32', 'OG':'int32', 'A':'int32', 'AT':'int32', 'BS':'int32', 'SC':'int32', 'FS':'int32', 'BP':'int32', 'AS':'int32', 'KP':'int32', 'P':'int32', 'P%':'int32', 'R':'int32', 'FYC':'int32', 'SYC':'int32', 'RC':'int32'})\n",
    "\n",
    "    players.append([player_data[\"Name\"].unique()[0], player_data[\"Team\"].unique(), player_data[\"M_played\"].sum(), player_data[\"G\"].sum(), player_data[\"OG\"].sum(), player_data[\"A\"].sum(), player_data[\"AT\"].sum(), player_data[\"BS\"].sum(), player_data[\"SC\"].sum(), player_data[\"FS\"].sum(), player_data[\"BP\"].sum(), player_data[\"AS\"].sum(), player_data[\"KP\"].sum(), player_data[\"P\"].sum(), player_data[\"P%\"].sum()  / player_data[\"P%\"].size, player_data[\"R\"].sum(), player_data[\"FYC\"].sum(), player_data[\"SYC\"].sum(), player_data[\"RC\"].sum(), player_data[\"M_played\"].size])\n",
    "\n",
    "players = pd.DataFrame(np.array(players), columns=['Name', 'Team' , 'M', 'G', 'OG', 'A', 'AT', 'BS', 'SC', 'FS', 'BP', 'AS', 'KP', 'P', 'P%', 'R', 'FYC', 'SYC', 'RC', \"N\"])\n",
    "players = players.astype({'M':'int32', 'G':'int32', 'OG':'int32', 'A':'int32', 'AT':'int32', 'BS':'int32', 'SC':'int32', 'FS':'int32', 'BP':'int32', 'AS':'int32', 'KP':'int32', 'P':'int32', 'P%':'float', 'R':'int32', 'FYC':'int32', 'SYC':'int32', 'RC':'int32', 'N':'int32'})\n",
    "players = players[players['M'] >= min_time]\n",
    "players = players[players['N'] >= min_games]"
   ]
  },
  {
   "cell_type": "code",
   "execution_count": 55,
   "metadata": {},
   "outputs": [
    {
     "name": "stdout",
     "output_type": "stream",
     "text": [
      "             Name                 Team     M\n",
      "278  L.PELLEGRINI        [ROMA, GENOA]  1701\n",
      "188    G.PEZZELLA  [PARMA, FIORENTINA]  1471\n",
      "354  N.MILENKOVIC         [FIORENTINA]  1346\n",
      "456    T.TOMIYASU            [BOLOGNA]  1343\n",
      "248        K.GLIK          [BENEVENTO]  1343\n",
      "228     J.MESSIAS            [CROTONE]  1333\n",
      "97     D.CALABRIA              [MILAN]  1329\n",
      "264      L.DANILO            [BOLOGNA]  1325\n",
      "239    JOAO PEDRO           [CAGLIARI]  1307\n",
      "411     R.SORIANO            [BOLOGNA]  1306\n"
     ]
    }
   ],
   "source": [
    "players = players.sort_values(by='M', ascending=False)\n",
    "print(players[[\"Name\", \"Team\", \"M\"]].head(n=10))"
   ]
  },
  {
   "cell_type": "code",
   "execution_count": 56,
   "metadata": {},
   "outputs": [
    {
     "name": "stdout",
     "output_type": "stream",
     "text": [
      "             Name             Team        M_N\n",
      "76         BREMER         [TORINO]  97.272727\n",
      "452   T.HERNANDEZ          [MILAN]  97.000000\n",
      "51    A.ROMAGNOLI          [MILAN]  97.000000\n",
      "290        LYANCO         [TORINO]  96.909091\n",
      "174     G.FERRARI       [SASSUOLO]  96.692308\n",
      "104     D.FARAONI  [HELLAS VERONA]  96.272727\n",
      "171  G.DI LORENZO         [NAPOLI]  96.153846\n",
      "354  N.MILENKOVIC     [FIORENTINA]  96.142857\n",
      "384     R.DE PAUL        [UDINESE]  96.000000\n",
      "317   M.LOCATELLI       [SASSUOLO]  96.000000\n"
     ]
    }
   ],
   "source": [
    "players['M_N'] = players['M'] / players['N']\n",
    "players = players.sort_values(by='M_N', ascending=False)\n",
    "print(players[[\"Name\", \"Team\", \"M_N\"]].head(n=10))"
   ]
  },
  {
   "cell_type": "code",
   "execution_count": 57,
   "metadata": {},
   "outputs": [
    {
     "name": "stdout",
     "output_type": "stream",
     "text": [
      "              Name        Team   G\n",
      "90       C.RONALDO  [JUVENTUS]  12\n",
      "398       R.LUKAKU     [INTER]  11\n",
      "475  Z.IBRAHIMOVIC     [MILAN]  10\n",
      "5        A.BELOTTI    [TORINO]   9\n",
      "82      C.IMMOBILE     [LAZIO]   9\n",
      "239     JOAO PEDRO  [CAGLIARI]   8\n",
      "238     J.VERETOUT      [ROMA]   7\n",
      "95       D.BERARDI  [SASSUOLO]   7\n",
      "321        M.NZOLA    [SPEZIA]   7\n",
      "200   H.MKHITARYAN      [ROMA]   7\n"
     ]
    }
   ],
   "source": [
    "players = players.sort_values(by='G', ascending=False)\n",
    "print(players[[\"Name\", \"Team\", \"G\"]].head(n=10))"
   ]
  },
  {
   "cell_type": "code",
   "execution_count": 58,
   "metadata": {},
   "outputs": [
    {
     "name": "stdout",
     "output_type": "stream",
     "text": [
      "              Name        Team       G_M         M_G\n",
      "475  Z.IBRAHIMOVIC     [MILAN]  0.017825   56.100000\n",
      "90       C.RONALDO  [JUVENTUS]  0.013953   71.666667\n",
      "398       R.LUKAKU     [INTER]  0.010721   93.272727\n",
      "82      C.IMMOBILE     [LAZIO]  0.009146  109.333333\n",
      "140       F.CAPUTO  [SASSUOLO]  0.008219  121.666667\n",
      "138      F.CAICEDO     [LAZIO]  0.008130  123.000000\n",
      "321        M.NZOLA    [SPEZIA]  0.008074  123.857143\n",
      "307       M.DESTRO     [GENOA]  0.007952  125.750000\n",
      "5        A.BELOTTI    [TORINO]  0.007311  136.777778\n",
      "100   D.D'AMBROSIO     [INTER]  0.007009  142.666667\n"
     ]
    }
   ],
   "source": [
    "players['G_M'] = players['G'] / players['M']\n",
    "players = players.sort_values(by='G_M', ascending=False)\n",
    "top_players = players[[\"Name\", \"Team\", \"G_M\"]].head(n=10)\n",
    "top_players['M_G'] = players['M'] / players['G']\n",
    "print(top_players.head(n=10))"
   ]
  },
  {
   "cell_type": "code",
   "execution_count": 59,
   "metadata": {},
   "outputs": [
    {
     "name": "stdout",
     "output_type": "stream",
     "text": [
      "              Name        Team   A\n",
      "90       C.RONALDO  [JUVENTUS]  47\n",
      "5        A.BELOTTI    [TORINO]  40\n",
      "200   H.MKHITARYAN      [ROMA]  38\n",
      "95       D.BERARDI  [SASSUOLO]  38\n",
      "293       M.BARROW   [BOLOGNA]  36\n",
      "197   H.CALHANOGLU     [MILAN]  36\n",
      "274     L.MARTINEZ     [INTER]  35\n",
      "228      J.MESSIAS   [CROTONE]  34\n",
      "268      L.INSIGNE    [NAPOLI]  33\n",
      "475  Z.IBRAHIMOVIC     [MILAN]  32\n"
     ]
    }
   ],
   "source": [
    "players = players.sort_values(by='A', ascending=False)\n",
    "print(players[[\"Name\", \"Team\", \"A\"]].head(n=10))"
   ]
  },
  {
   "cell_type": "code",
   "execution_count": 60,
   "metadata": {},
   "outputs": [
    {
     "name": "stdout",
     "output_type": "stream",
     "text": [
      "              Name         Team       A_M        M_A\n",
      "475  Z.IBRAHIMOVIC      [MILAN]  0.057041  17.531250\n",
      "90       C.RONALDO   [JUVENTUS]  0.054651  18.297872\n",
      "369       P.DYBALA   [JUVENTUS]  0.047131  21.217391\n",
      "464      V.OSIMHEN     [NAPOLI]  0.044625  22.409091\n",
      "111      D.MERTENS     [NAPOLI]  0.040843  24.483871\n",
      "268      L.INSIGNE     [NAPOLI]  0.039759  25.151515\n",
      "274     L.MARTINEZ      [INTER]  0.036082  27.714286\n",
      "24         A.GOMEZ   [ATALANTA]  0.036075  27.720000\n",
      "177     G.LAPADULA  [BENEVENTO]  0.033755  29.625000\n",
      "328     M.POLITANO     [NAPOLI]  0.033582  29.777778\n"
     ]
    }
   ],
   "source": [
    "players['A_M'] = players['A'] / players['M']\n",
    "players = players.sort_values(by='A_M', ascending=False)\n",
    "top_players = players[[\"Name\", \"Team\", \"A_M\"]].head(n=10)\n",
    "top_players['M_A'] = players['M'] / players['A']\n",
    "print(top_players.head(n=10))"
   ]
  },
  {
   "cell_type": "code",
   "execution_count": 21,
   "metadata": {},
   "outputs": [
    {
     "name": "stdout",
     "output_type": "stream",
     "text": [
      "                   Name                    Team  AS\n",
      "197        H.CALHANOGLU                 [MILAN]   6\n",
      "111           D.MERTENS                [NAPOLI]   6\n",
      "200        H.MKHITARYAN                  [ROMA]   6\n",
      "349           N.BARELLA                 [INTER]   4\n",
      "407           R.PEREYRA               [UDINESE]   4\n",
      "433  S.MILINKOVIC-SAVIC                 [LAZIO]   4\n",
      "142            F.CHIESA  [FIORENTINA, JUVENTUS]   4\n",
      "79            C.BIRAGHI            [FIORENTINA]   4\n",
      "9            A.CANDREVA             [SAMPDORIA]   4\n",
      "38             A.MORATA              [JUVENTUS]   4\n",
      "126             E.GYASI                [SPEZIA]   4\n",
      "411           R.SORIANO               [BOLOGNA]   4\n",
      "278        L.PELLEGRINI           [ROMA, GENOA]   4\n",
      "95            D.BERARDI              [SASSUOLO]   4\n",
      "53            A.SANCHEZ                 [INTER]   3\n"
     ]
    }
   ],
   "source": [
    "players = players.sort_values(by='AS', ascending=False)\n",
    "print(players[[\"Name\", \"Team\", \"AS\"]].head(n=15))"
   ]
  },
  {
   "cell_type": "code",
   "execution_count": 22,
   "metadata": {},
   "outputs": [
    {
     "name": "stdout",
     "output_type": "stream",
     "text": [
      "             Name                    Team      AS_M        M_AS\n",
      "111     D.MERTENS                [NAPOLI]  0.007905  126.500000\n",
      "137   F.BONAZZOLI     [SAMPDORIA, TORINO]  0.006479  154.333333\n",
      "9      A.CANDREVA             [SAMPDORIA]  0.005525  181.000000\n",
      "53      A.SANCHEZ                 [INTER]  0.005263  190.000000\n",
      "197  H.CALHANOGLU                 [MILAN]  0.004870  205.333333\n",
      "38       A.MORATA              [JUVENTUS]  0.004723  211.750000\n",
      "142      F.CHIESA  [FIORENTINA, JUVENTUS]  0.004700  212.750000\n",
      "200  H.MKHITARYAN                  [ROMA]  0.004601  217.333333\n",
      "222      J.ILICIC              [ATALANTA]  0.004444  225.000000\n",
      "417     S.BASTONI                [SPEZIA]  0.004292  233.000000\n"
     ]
    }
   ],
   "source": [
    "players['AS_M'] = players['AS'] / players['M']\n",
    "players = players.sort_values(by='AS_M', ascending=False)\n",
    "top_players = players[[\"Name\", \"Team\", \"AS_M\"]].head(n=10)\n",
    "top_players['M_AS'] = players['M'] / players['AS']\n",
    "print(top_players.head(n=10))"
   ]
  },
  {
   "cell_type": "code",
   "execution_count": 23,
   "metadata": {},
   "outputs": [
    {
     "name": "stdout",
     "output_type": "stream",
     "text": [
      "             Name           Team    BP\n",
      "317   M.LOCATELLI     [SASSUOLO]  1317\n",
      "278  L.PELLEGRINI  [ROMA, GENOA]  1262\n",
      "174     G.FERRARI     [SASSUOLO]  1130\n",
      "171  G.DI LORENZO       [NAPOLI]  1112\n",
      "119        DANILO     [JUVENTUS]  1074\n",
      "384     R.DE PAUL      [UDINESE]  1061\n",
      "250   K.KOULIBALY       [NAPOLI]  1059\n",
      "97     D.CALABRIA        [MILAN]  1039\n",
      "456    T.TOMIYASU      [BOLOGNA]   999\n",
      "354  N.MILENKOVIC   [FIORENTINA]   993\n"
     ]
    }
   ],
   "source": [
    "players = players.sort_values(by='BP', ascending=False)\n",
    "print(players[[\"Name\", \"Team\", \"BP\"]].head(n=10))"
   ]
  },
  {
   "cell_type": "code",
   "execution_count": 24,
   "metadata": {},
   "outputs": [
    {
     "name": "stdout",
     "output_type": "stream",
     "text": [
      "            Name        Team      BP_M      M_BP\n",
      "102      D.DEMME    [NAPOLI]  1.068736  0.935685\n",
      "317  M.LOCATELLI  [SASSUOLO]  1.055288  0.947608\n",
      "63        ARTHUR  [JUVENTUS]  1.031381  0.969574\n",
      "295   M.BROZOVIC     [INTER]  1.007126  0.992925\n",
      "303    M.DE LIGT  [JUVENTUS]  0.981900  1.018433\n",
      "119       DANILO  [JUVENTUS]  0.980822  1.019553\n",
      "250  K.KOULIBALY    [NAPOLI]  0.960109  1.041549\n",
      "382  R.BENTANCUR  [JUVENTUS]  0.958180  1.043646\n",
      "458  V.CHIRICHES  [SASSUOLO]  0.956311  1.045685\n",
      "347    MARIO RUI    [NAPOLI]  0.947284  1.055649\n"
     ]
    }
   ],
   "source": [
    "players['BP_M'] = players['BP'] / players['M']\n",
    "players = players.sort_values(by='BP_M', ascending=False)\n",
    "top_players = players[[\"Name\", \"Team\", \"BP_M\"]].head(n=10)\n",
    "top_players['M_BP'] = players['M'] / players['BP']\n",
    "print(top_players.head(n=10))"
   ]
  },
  {
   "cell_type": "code",
   "execution_count": 25,
   "metadata": {},
   "outputs": [
    {
     "name": "stdout",
     "output_type": "stream",
     "text": [
      "             Name          Team    P\n",
      "317   M.LOCATELLI    [SASSUOLO]  949\n",
      "174     G.FERRARI    [SASSUOLO]  911\n",
      "250   K.KOULIBALY      [NAPOLI]  859\n",
      "119        DANILO    [JUVENTUS]  793\n",
      "254     K.MANOLAS      [NAPOLI]  752\n",
      "171  G.DI LORENZO      [NAPOLI]  736\n",
      "354  N.MILENKOVIC  [FIORENTINA]  703\n",
      "4       A.BASTONI       [INTER]  702\n",
      "330       M.RICCI      [SPEZIA]  696\n",
      "258     L.BONUCCI    [JUVENTUS]  688\n"
     ]
    }
   ],
   "source": [
    "players = players.sort_values(by='P', ascending=False)\n",
    "print(players[[\"Name\", \"Team\", \"P\"]].head(n=10))"
   ]
  },
  {
   "cell_type": "code",
   "execution_count": 26,
   "metadata": {},
   "outputs": [
    {
     "name": "stdout",
     "output_type": "stream",
     "text": [
      "            Name        Team       P_M       M_P\n",
      "102      D.DEMME    [NAPOLI]  0.886918  1.127500\n",
      "63        ARTHUR  [JUVENTUS]  0.864017  1.157385\n",
      "348       MARLON  [SASSUOLO]  0.811688  1.232000\n",
      "303    M.DE LIGT  [JUVENTUS]  0.809955  1.234637\n",
      "250  K.KOULIBALY    [NAPOLI]  0.778785  1.284051\n",
      "317  M.LOCATELLI  [SASSUOLO]  0.760417  1.315068\n",
      "458  V.CHIRICHES  [SASSUOLO]  0.756068  1.322632\n",
      "295   M.BROZOVIC     [INTER]  0.750594  1.332278\n",
      "174    G.FERRARI  [SASSUOLO]  0.724741  1.379802\n",
      "119       DANILO  [JUVENTUS]  0.724201  1.380832\n"
     ]
    }
   ],
   "source": [
    "players['P_M'] = players['P'] / players['M']\n",
    "players = players.sort_values(by='P_M', ascending=False)\n",
    "top_players = players[[\"Name\", \"Team\", \"P_M\"]].head(n=10)\n",
    "top_players['M_P'] = players['M'] / players['P']\n",
    "print(top_players.head(n=10))"
   ]
  },
  {
   "cell_type": "code",
   "execution_count": 27,
   "metadata": {},
   "outputs": [
    {
     "name": "stdout",
     "output_type": "stream",
     "text": [
      "            Name        Team         P%\n",
      "63        ARTHUR  [JUVENTUS]  95.000000\n",
      "306    M.DEMIRAL  [JUVENTUS]  93.833333\n",
      "358    N.NKOULOU    [TORINO]  93.750000\n",
      "303    M.DE LIGT  [JUVENTUS]  93.428571\n",
      "254    K.MANOLAS    [NAPOLI]  93.230769\n",
      "335   M.SKRINIAR     [INTER]  92.800000\n",
      "102      D.DEMME    [NAPOLI]  92.500000\n",
      "420    S.DE VRIJ     [INTER]  92.166667\n",
      "382  R.BENTANCUR  [JUVENTUS]  92.000000\n",
      "289  LUIZ FELIPE     [LAZIO]  91.666667\n"
     ]
    }
   ],
   "source": [
    "players = players.sort_values(by='P%', ascending=False)\n",
    "print(players[[\"Name\", \"Team\", \"P%\"]].head(n=10))"
   ]
  },
  {
   "cell_type": "code",
   "execution_count": 28,
   "metadata": {},
   "outputs": [
    {
     "name": "stdout",
     "output_type": "stream",
     "text": [
      "             Name             Team  KP\n",
      "384     R.DE PAUL        [UDINESE]  16\n",
      "95      D.BERARDI       [SASSUOLO]  13\n",
      "197  H.CALHANOGLU          [MILAN]  13\n",
      "278  L.PELLEGRINI    [ROMA, GENOA]  11\n",
      "200  H.MKHITARYAN           [ROMA]  10\n",
      "282  L.SPINAZZOLA           [ROMA]  10\n",
      "411     R.SORIANO        [BOLOGNA]  10\n",
      "344    M.ZACCAGNI  [HELLAS VERONA]  10\n",
      "222      J.ILICIC       [ATALANTA]   9\n",
      "144     F.DIMARCO  [HELLAS VERONA]   8\n",
      "79      C.BIRAGHI     [FIORENTINA]   8\n",
      "293      M.BARROW        [BOLOGNA]   7\n",
      "5       A.BELOTTI         [TORINO]   7\n",
      "238    J.VERETOUT           [ROMA]   7\n",
      "442       S.VERDI         [TORINO]   7\n"
     ]
    }
   ],
   "source": [
    "players = players.sort_values(by='KP', ascending=False)\n",
    "print(players[[\"Name\", \"Team\", \"KP\"]].head(n=15))"
   ]
  },
  {
   "cell_type": "code",
   "execution_count": 29,
   "metadata": {},
   "outputs": [
    {
     "name": "stdout",
     "output_type": "stream",
     "text": [
      "             Name        Team      KP_M        M_KP\n",
      "222      J.ILICIC  [ATALANTA]  0.020000   50.000000\n",
      "384     R.DE PAUL   [UDINESE]  0.012821   78.000000\n",
      "442       S.VERDI    [TORINO]  0.011864   84.285714\n",
      "197  H.CALHANOGLU     [MILAN]  0.010552   94.769231\n",
      "95      D.BERARDI  [SASSUOLO]  0.010509   95.153846\n",
      "46       A.RAMSEY  [JUVENTUS]  0.010417   96.000000\n",
      "24        A.GOMEZ  [ATALANTA]  0.010101   99.000000\n",
      "105      D.FARIAS    [SPEZIA]  0.009950  100.500000\n",
      "470    W.MCKENNIE  [JUVENTUS]  0.009569  104.500000\n",
      "42      A.PETAGNA    [NAPOLI]  0.009381  106.600000\n"
     ]
    }
   ],
   "source": [
    "players['KP_M'] = players['KP'] / players['M']\n",
    "players = players.sort_values(by='KP_M', ascending=False)\n",
    "top_players = players[[\"Name\", \"Team\", \"KP_M\"]].head(n=10)\n",
    "top_players['M_KP'] = players['M'] / players['KP']\n",
    "print(top_players.head(n=10))"
   ]
  },
  {
   "cell_type": "code",
   "execution_count": 30,
   "metadata": {
    "scrolled": true
   },
   "outputs": [
    {
     "name": "stdout",
     "output_type": "stream",
     "text": [
      "              Name             Team  FS\n",
      "5        A.BELOTTI         [TORINO]  56\n",
      "344     M.ZACCAGNI  [HELLAS VERONA]  45\n",
      "384      R.DE PAUL        [UDINESE]  42\n",
      "239     JOAO PEDRO       [CAGLIARI]  37\n",
      "406      R.PALACIO        [BOLOGNA]  35\n",
      "199       H.LOZANO         [NAPOLI]  34\n",
      "156       F.RIBERY     [FIORENTINA]  34\n",
      "228      J.MESSIAS        [CROTONE]  34\n",
      "278   L.PELLEGRINI    [ROMA, GENOA]  34\n",
      "165  G.CASTROVILLI     [FIORENTINA]  33\n"
     ]
    }
   ],
   "source": [
    "players = players.sort_values(by='FS', ascending=False)\n",
    "print(players[[\"Name\", \"Team\", \"FS\"]].head(n=10))"
   ]
  },
  {
   "cell_type": "code",
   "execution_count": 31,
   "metadata": {
    "scrolled": true
   },
   "outputs": [
    {
     "name": "stdout",
     "output_type": "stream",
     "text": [
      "           Name             Team      FS_M       M_FS\n",
      "5     A.BELOTTI         [TORINO]  0.045491  21.982143\n",
      "222    J.ILICIC       [ATALANTA]  0.042222  23.684211\n",
      "344  M.ZACCAGNI  [HELLAS VERONA]  0.041978  23.822222\n",
      "199    H.LOZANO         [NAPOLI]  0.037445  26.705882\n",
      "156    F.RIBERY     [FIORENTINA]  0.036677  27.264706\n",
      "185    G.PANDEV          [GENOA]  0.035556  28.125000\n",
      "189   G.RAMIREZ      [SAMPDORIA]  0.034202  29.238095\n",
      "384   R.DE PAUL        [UDINESE]  0.033654  29.714286\n",
      "163   G.CAPRARI      [BENEVENTO]  0.032468  30.800000\n",
      "471     W.SINGO         [TORINO]  0.032070  31.181818\n"
     ]
    }
   ],
   "source": [
    "players['FS_M'] = players['FS'] / players['M']\n",
    "players = players.sort_values(by='FS_M', ascending=False)\n",
    "top_players = players[[\"Name\", \"Team\", \"FS_M\"]].head(n=10)\n",
    "top_players['M_FS'] = players['M'] / players['FS']\n",
    "print(top_players.head(n=10))"
   ]
  },
  {
   "cell_type": "code",
   "execution_count": 32,
   "metadata": {},
   "outputs": [
    {
     "name": "stdout",
     "output_type": "stream",
     "text": [
      "             Name                         Team    R\n",
      "456    T.TOMIYASU                    [BOLOGNA]  138\n",
      "390      R.IBANEZ                       [ROMA]  133\n",
      "354  N.MILENKOVIC                 [FIORENTINA]  127\n",
      "141  F.CECCHERINI  [FIORENTINA, HELLAS VERONA]  115\n",
      "283     L.TONELLI                  [SAMPDORIA]  112\n",
      "188    G.PEZZELLA          [PARMA, FIORENTINA]  112\n",
      "76         BREMER                     [TORINO]  110\n",
      "89       C.ROMERO                   [ATALANTA]  110\n",
      "134      F.ACERBI                      [LAZIO]  108\n",
      "338     M.THORSBY                  [SAMPDORIA]  105\n"
     ]
    }
   ],
   "source": [
    "players = players.sort_values(by='R', ascending=False)\n",
    "print(players[[\"Name\", \"Team\", \"R\"]].head(n=10))"
   ]
  },
  {
   "cell_type": "code",
   "execution_count": 33,
   "metadata": {},
   "outputs": [
    {
     "name": "stdout",
     "output_type": "stream",
     "text": [
      "          Name             Team       R_M       M_R\n",
      "180  G.MAGNANI  [HELLAS VERONA]  0.167002  5.987952\n",
      "89    C.ROMERO       [ATALANTA]  0.134639  7.427273\n",
      "419  S.DE MAIO        [UDINESE]  0.122124  8.188406\n",
      "306  M.DEMIRAL       [JUVENTUS]  0.117647  8.500000\n",
      "364   O.COLLEY      [SAMPDORIA]  0.116310  8.597701\n",
      "217   J.CHABOT         [SPEZIA]  0.112723  8.871287\n",
      "390   R.IBANEZ           [ROMA]  0.110099  9.082707\n",
      "134   F.ACERBI          [LAZIO]  0.109422  9.138889\n",
      "469    W.HOEDT          [LAZIO]  0.108247  9.238095\n",
      "93    C.ZAPATA          [GENOA]  0.106383  9.400000\n"
     ]
    }
   ],
   "source": [
    "players['R_M'] = players['R'] / players['M']\n",
    "players = players.sort_values(by='R_M', ascending=False)\n",
    "top_players = players[[\"Name\", \"Team\", \"R_M\"]].head(n=10)\n",
    "top_players['M_R'] = players['M'] / players['R']\n",
    "print(top_players.head(n=10))"
   ]
  },
  {
   "cell_type": "code",
   "execution_count": 34,
   "metadata": {},
   "outputs": [],
   "source": [
    "thisdir = os.getcwd()\n",
    "thisdir += \"/2020-2021/Player Data/Goalkeeper/\"\n",
    "csv_list = []\n",
    "\n",
    "for r, d, f in os.walk(thisdir):\n",
    "    for file in f:\n",
    "        if file.endswith(\".csv\"):\n",
    "            csv_list.append(os.path.join(r, file))\n",
    "\n",
    "csv_list = sorted(csv_list)\n",
    "\n",
    "players = []\n",
    "\n",
    "for csv_file in csv_list:\n",
    "#     print(csv_file)\n",
    "    if csv_file[-5:] == \"/.csv\":\n",
    "        continue\n",
    "    player_data = pd.read_csv(csv_file, encoding='latin-1')\n",
    "    player_data[\"M_played\"] = player_data.apply(lambda row:convert_to_minutes(row), axis=1)\n",
    "    player_data = player_data.astype({'GC':'int32', 'OG':'int32', 'S':'int32', 'STP':'int32', 'SF':'int32', 'FYC':'int32', 'SYC':'int32', 'RC':'int32'})\n",
    "\n",
    "    players.append([player_data[\"Name\"].unique()[0], player_data[\"Team\"].unique(), player_data[\"M_played\"].sum(), player_data[\"GC\"].sum(), player_data[\"OG\"].sum(), player_data[\"S\"].sum(), player_data[\"STP\"].sum(), player_data[\"SF\"].sum(), player_data[\"FYC\"].sum(), player_data[\"SYC\"].sum(), player_data[\"RC\"].sum(), player_data[\"M_played\"].size])\n",
    "\n",
    "players = pd.DataFrame(np.array(players), columns=['Name', 'Team' , 'M', 'GC', 'OG', 'S', 'STP', 'SF', 'FYC', 'SYC', 'RC', 'N'])\n",
    "players = players.astype({'M':'int32', 'GC':'int32', 'OG':'int32', 'S':'int32', 'STP':'int32', 'SF':'int32', 'FYC':'int32', 'SYC':'int32', 'RC':'int32', 'N':'int32'})\n",
    "players = players[players['M'] >= min_time]\n",
    "players = players[players['N'] >= min_games]"
   ]
  },
  {
   "cell_type": "code",
   "execution_count": 35,
   "metadata": {},
   "outputs": [
    {
     "name": "stdout",
     "output_type": "stream",
     "text": [
      "            Name             Team     M\n",
      "7    B.DRAGOWSKI     [FIORENTINA]  1346\n",
      "23   M.SILVESTRI  [HELLAS VERONA]  1345\n",
      "1       A.CORDAZ        [CROTONE]  1344\n",
      "30  S.HANDANOVIC          [INTER]  1344\n",
      "19    L.MONTIPO'      [BENEVENTO]  1343\n",
      "2       A.CRAGNO       [CAGLIARI]  1340\n",
      "20        L.SEPE          [PARMA]  1339\n",
      "10      E.AUDERO      [SAMPDORIA]  1339\n",
      "0     A.CONSIGLI       [SASSUOLO]  1263\n",
      "14  G.DONNARUMMA          [MILAN]  1259\n"
     ]
    }
   ],
   "source": [
    "players = players.sort_values(by='M', ascending=False)\n",
    "print(players[[\"Name\", \"Team\", \"M\"]].head(n=10))"
   ]
  },
  {
   "cell_type": "code",
   "execution_count": 36,
   "metadata": {},
   "outputs": [
    {
     "name": "stdout",
     "output_type": "stream",
     "text": [
      "            Name             Team        M_N\n",
      "31      S.SIRIGU         [TORINO]  97.500000\n",
      "0     A.CONSIGLI       [SASSUOLO]  97.153846\n",
      "14  G.DONNARUMMA          [MILAN]  96.846154\n",
      "28       P.REINA          [LAZIO]  96.333333\n",
      "21   L.SKORUPSKI        [BOLOGNA]  96.300000\n",
      "4        A.MERET         [NAPOLI]  96.166667\n",
      "7    B.DRAGOWSKI     [FIORENTINA]  96.142857\n",
      "9       D.OSPINA         [NAPOLI]  96.142857\n",
      "23   M.SILVESTRI  [HELLAS VERONA]  96.071429\n",
      "1       A.CORDAZ        [CROTONE]  96.000000\n"
     ]
    }
   ],
   "source": [
    "players['M_N'] = players['M'] / players['N']\n",
    "players = players.sort_values(by='M_N', ascending=False)\n",
    "print(players[[\"Name\", \"Team\", \"M_N\"]].head(n=10))"
   ]
  },
  {
   "cell_type": "code",
   "execution_count": 37,
   "metadata": {},
   "outputs": [
    {
     "name": "stdout",
     "output_type": "stream",
     "text": [
      "           Name          Team  GC\n",
      "1      A.CORDAZ     [CROTONE]  29\n",
      "31     S.SIRIGU      [TORINO]  28\n",
      "2      A.CRAGNO    [CAGLIARI]  27\n",
      "20       L.SEPE       [PARMA]  25\n",
      "10     E.AUDERO   [SAMPDORIA]  24\n",
      "19   L.MONTIPO'   [BENEVENTO]  23\n",
      "16   I.PROVEDEL      [SPEZIA]  22\n",
      "7   B.DRAGOWSKI  [FIORENTINA]  21\n",
      "22      M.PERIN       [GENOA]  18\n",
      "21  L.SKORUPSKI     [BOLOGNA]  17\n"
     ]
    }
   ],
   "source": [
    "players = players.sort_values(by='GC', ascending=False)\n",
    "print(players[[\"Name\", \"Team\", \"GC\"]].head(n=10))"
   ]
  },
  {
   "cell_type": "code",
   "execution_count": 38,
   "metadata": {},
   "outputs": [
    {
     "name": "stdout",
     "output_type": "stream",
     "text": [
      "            Name         Team      GC_M       M_GC\n",
      "31      S.SIRIGU     [TORINO]  0.023932  41.785714\n",
      "24  M.SPORTIELLO   [ATALANTA]  0.021645  46.200000\n",
      "1       A.CORDAZ    [CROTONE]  0.021577  46.344828\n",
      "16    I.PROVEDEL     [SPEZIA]  0.020932  47.772727\n",
      "2       A.CRAGNO   [CAGLIARI]  0.020149  49.629630\n",
      "20        L.SEPE      [PARMA]  0.018671  53.560000\n",
      "10      E.AUDERO  [SAMPDORIA]  0.017924  55.791667\n",
      "21   L.SKORUPSKI    [BOLOGNA]  0.017653  56.647059\n",
      "22       M.PERIN      [GENOA]  0.017159  58.277778\n",
      "19    L.MONTIPO'  [BENEVENTO]  0.017126  58.391304\n"
     ]
    }
   ],
   "source": [
    "players['GC_M'] = players['GC'] / players['M']\n",
    "players = players.sort_values(by='GC_M', ascending=False)\n",
    "top_players = players[[\"Name\", \"Team\", \"GC_M\"]].head(n=10)\n",
    "top_players['M_GC'] = players['M'] / players['GC']\n",
    "print(top_players.head(n=10))"
   ]
  },
  {
   "cell_type": "code",
   "execution_count": 39,
   "metadata": {},
   "outputs": [
    {
     "name": "stdout",
     "output_type": "stream",
     "text": [
      "            Name             Team  GC\n",
      "26     P.GOLLINI       [ATALANTA]   5\n",
      "9       D.OSPINA         [NAPOLI]   6\n",
      "4        A.MERET         [NAPOLI]   6\n",
      "34    W.SZCZESNY       [JUVENTUS]  11\n",
      "17       J.MUSSO        [UDINESE]  12\n",
      "28       P.REINA          [LAZIO]  12\n",
      "14  G.DONNARUMMA          [MILAN]  13\n",
      "23   M.SILVESTRI  [HELLAS VERONA]  14\n",
      "24  M.SPORTIELLO       [ATALANTA]  15\n",
      "5      A.MIRANTE           [ROMA]  16\n"
     ]
    }
   ],
   "source": [
    "players = players.sort_values(by='GC')\n",
    "print(players[[\"Name\", \"Team\", \"GC\"]].head(n=10))"
   ]
  },
  {
   "cell_type": "code",
   "execution_count": 40,
   "metadata": {},
   "outputs": [
    {
     "name": "stdout",
     "output_type": "stream",
     "text": [
      "            Name             Team      GC_M        M_GC\n",
      "9       D.OSPINA         [NAPOLI]  0.008915  112.166667\n",
      "26     P.GOLLINI       [ATALANTA]  0.009225  108.400000\n",
      "14  G.DONNARUMMA          [MILAN]  0.010326   96.846154\n",
      "4        A.MERET         [NAPOLI]  0.010399   96.166667\n",
      "23   M.SILVESTRI  [HELLAS VERONA]  0.010409   96.071429\n",
      "17       J.MUSSO        [UDINESE]  0.011374   87.916667\n",
      "30  S.HANDANOVIC          [INTER]  0.012649   79.058824\n",
      "34    W.SZCZESNY       [JUVENTUS]  0.012731   78.545455\n",
      "0     A.CONSIGLI       [SASSUOLO]  0.013460   74.294118\n",
      "28       P.REINA          [LAZIO]  0.013841   72.250000\n"
     ]
    }
   ],
   "source": [
    "players['GC_M'] = players['GC'] / players['M']\n",
    "players = players.sort_values(by='GC_M')\n",
    "top_players = players[[\"Name\", \"Team\", \"GC_M\"]].head(n=10)\n",
    "top_players['M_GC'] = players['M'] / players['GC']\n",
    "print(top_players.head(n=10))"
   ]
  },
  {
   "cell_type": "code",
   "execution_count": 41,
   "metadata": {},
   "outputs": [
    {
     "name": "stdout",
     "output_type": "stream",
     "text": [
      "            Name             Team   S\n",
      "2       A.CRAGNO       [CAGLIARI]  68\n",
      "20        L.SEPE          [PARMA]  54\n",
      "23   M.SILVESTRI  [HELLAS VERONA]  51\n",
      "0     A.CONSIGLI       [SASSUOLO]  50\n",
      "1       A.CORDAZ        [CROTONE]  49\n",
      "10      E.AUDERO      [SAMPDORIA]  48\n",
      "7    B.DRAGOWSKI     [FIORENTINA]  43\n",
      "22       M.PERIN          [GENOA]  40\n",
      "14  G.DONNARUMMA          [MILAN]  39\n",
      "19    L.MONTIPO'      [BENEVENTO]  37\n"
     ]
    }
   ],
   "source": [
    "players = players.sort_values(by='S', ascending=False)\n",
    "print(players[[\"Name\", \"Team\", \"S\"]].head(n=10))"
   ]
  },
  {
   "cell_type": "code",
   "execution_count": 42,
   "metadata": {},
   "outputs": [
    {
     "name": "stdout",
     "output_type": "stream",
     "text": [
      "           Name             Team       S_M        M_S\n",
      "2      A.CRAGNO       [CAGLIARI]  0.050746  19.705882\n",
      "28      P.REINA          [LAZIO]  0.040369  24.771429\n",
      "20       L.SEPE          [PARMA]  0.040329  24.796296\n",
      "0    A.CONSIGLI       [SASSUOLO]  0.039588  25.260000\n",
      "22      M.PERIN          [GENOA]  0.038132  26.225000\n",
      "23  M.SILVESTRI  [HELLAS VERONA]  0.037918  26.372549\n",
      "1      A.CORDAZ        [CROTONE]  0.036458  27.428571\n",
      "10     E.AUDERO      [SAMPDORIA]  0.035848  27.895833\n",
      "21  L.SKORUPSKI        [BOLOGNA]  0.032191  31.064516\n",
      "7   B.DRAGOWSKI     [FIORENTINA]  0.031947  31.302326\n"
     ]
    }
   ],
   "source": [
    "players['S_M'] = players['S'] / players['M']\n",
    "players = players.sort_values(by='S_M', ascending=False)\n",
    "top_players = players[[\"Name\", \"Team\", \"S_M\"]].head(n=10)\n",
    "top_players['M_S'] = players['M'] / players['S']\n",
    "print(top_players.head(n=10))"
   ]
  },
  {
   "cell_type": "code",
   "execution_count": 43,
   "metadata": {},
   "outputs": [
    {
     "name": "stdout",
     "output_type": "stream",
     "text": [
      "            Name             Team  Set_S\n",
      "7    B.DRAGOWSKI     [FIORENTINA]      9\n",
      "20        L.SEPE          [PARMA]      9\n",
      "0     A.CONSIGLI       [SASSUOLO]      9\n",
      "2       A.CRAGNO       [CAGLIARI]      8\n",
      "14  G.DONNARUMMA          [MILAN]      8\n",
      "5      A.MIRANTE           [ROMA]      7\n",
      "28       P.REINA          [LAZIO]      6\n",
      "1       A.CORDAZ        [CROTONE]      5\n",
      "23   M.SILVESTRI  [HELLAS VERONA]      5\n",
      "16    I.PROVEDEL         [SPEZIA]      5\n"
     ]
    }
   ],
   "source": [
    "players['Set_S'] = players['STP'] + players['SF']\n",
    "players = players.sort_values(by='Set_S', ascending=False)\n",
    "print(players[[\"Name\", \"Team\", \"Set_S\"]].head(n=10))"
   ]
  }
 ],
 "metadata": {
  "kernelspec": {
   "display_name": "Python 3",
   "language": "python",
   "name": "python3"
  },
  "language_info": {
   "codemirror_mode": {
    "name": "ipython",
    "version": 3
   },
   "file_extension": ".py",
   "mimetype": "text/x-python",
   "name": "python",
   "nbconvert_exporter": "python",
   "pygments_lexer": "ipython3",
   "version": "3.7.4"
  }
 },
 "nbformat": 4,
 "nbformat_minor": 2
}
