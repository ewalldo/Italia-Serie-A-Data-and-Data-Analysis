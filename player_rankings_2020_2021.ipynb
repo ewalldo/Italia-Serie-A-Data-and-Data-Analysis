{
 "cells": [
  {
   "cell_type": "code",
   "execution_count": 1,
   "metadata": {},
   "outputs": [],
   "source": [
    "import os\n",
    "import csv\n",
    "import pandas as pd\n",
    "import numpy as np\n",
    "import math"
   ]
  },
  {
   "cell_type": "code",
   "execution_count": 3,
   "metadata": {},
   "outputs": [
    {
     "name": "stdout",
     "output_type": "stream",
     "text": [
      "450.0\n",
      "5\n"
     ]
    }
   ],
   "source": [
    "thisdir = os.getcwd()\n",
    "thisdir += \"/2020-2021/Player Data/Non-goalkeeper/\"\n",
    "csv_list = []\n",
    "\n",
    "n_games = 15 #total games played\n",
    "min_time = n_games / 3 * 90 #min time played to be eligible\n",
    "min_games = math.floor(n_games / 3) #min games played to be eligible\n",
    "print(min_time)\n",
    "print(min_games)"
   ]
  },
  {
   "cell_type": "code",
   "execution_count": 4,
   "metadata": {},
   "outputs": [],
   "source": [
    "for r, d, f in os.walk(thisdir):\n",
    "    for file in f:\n",
    "        if file.endswith(\".csv\"):\n",
    "            csv_list.append(os.path.join(r, file))\n",
    "\n",
    "csv_list = sorted(csv_list)"
   ]
  },
  {
   "cell_type": "code",
   "execution_count": 5,
   "metadata": {},
   "outputs": [],
   "source": [
    "def convert_to_minutes(row):\n",
    "    return int(row['M'][:-1])\n",
    "\n",
    "def convert_to_int(row, col):\n",
    "    return int(row[col])"
   ]
  },
  {
   "cell_type": "code",
   "execution_count": 6,
   "metadata": {},
   "outputs": [],
   "source": [
    "players = []\n",
    "\n",
    "for csv_file in csv_list:\n",
    "#     print(csv_file)\n",
    "    if csv_file[-5:] == \"/.csv\":\n",
    "        continue\n",
    "    player_data = pd.read_csv(csv_file, encoding='latin-1')\n",
    "    player_data[\"M_played\"] = player_data.apply(lambda row:convert_to_minutes(row), axis=1)\n",
    "    player_data = player_data.astype({'G':'int32', 'OG':'int32', 'A':'int32', 'AT':'int32', 'BS':'int32', 'SC':'int32', 'FS':'int32', 'BP':'int32', 'AS':'int32', 'KP':'int32', 'P':'int32', 'P%':'int32', 'R':'int32', 'FYC':'int32', 'SYC':'int32', 'RC':'int32'})\n",
    "\n",
    "    players.append([player_data[\"Name\"].unique()[0], player_data[\"Team\"].unique(), player_data[\"M_played\"].sum(), player_data[\"G\"].sum(), player_data[\"OG\"].sum(), player_data[\"A\"].sum(), player_data[\"AT\"].sum(), player_data[\"BS\"].sum(), player_data[\"SC\"].sum(), player_data[\"FS\"].sum(), player_data[\"BP\"].sum(), player_data[\"AS\"].sum(), player_data[\"KP\"].sum(), player_data[\"P\"].sum(), player_data[\"P%\"].sum()  / player_data[\"P%\"].size, player_data[\"R\"].sum(), player_data[\"FYC\"].sum(), player_data[\"SYC\"].sum(), player_data[\"RC\"].sum(), player_data[\"M_played\"].size])\n",
    "\n",
    "players = pd.DataFrame(np.array(players), columns=['Name', 'Team' , 'M', 'G', 'OG', 'A', 'AT', 'BS', 'SC', 'FS', 'BP', 'AS', 'KP', 'P', 'P%', 'R', 'FYC', 'SYC', 'RC', \"N\"])\n",
    "players = players.astype({'M':'int32', 'G':'int32', 'OG':'int32', 'A':'int32', 'AT':'int32', 'BS':'int32', 'SC':'int32', 'FS':'int32', 'BP':'int32', 'AS':'int32', 'KP':'int32', 'P':'int32', 'P%':'float', 'R':'int32', 'FYC':'int32', 'SYC':'int32', 'RC':'int32', 'N':'int32'})\n",
    "players = players[players['M'] >= min_time]\n",
    "players = players[players['N'] >= min_games]"
   ]
  },
  {
   "cell_type": "code",
   "execution_count": 7,
   "metadata": {},
   "outputs": [
    {
     "name": "stdout",
     "output_type": "stream",
     "text": [
      "             Name                 Team     M\n",
      "280  L.PELLEGRINI        [ROMA, GENOA]  1783\n",
      "190    G.PEZZELLA  [PARMA, FIORENTINA]  1564\n",
      "250        K.GLIK          [BENEVENTO]  1440\n",
      "356  N.MILENKOVIC         [FIORENTINA]  1439\n",
      "458    T.TOMIYASU            [BOLOGNA]  1436\n",
      "230     J.MESSIAS            [CROTONE]  1419\n",
      "266      L.DANILO            [BOLOGNA]  1418\n",
      "99     D.CALABRIA              [MILAN]  1413\n",
      "413     R.SORIANO            [BOLOGNA]  1399\n",
      "202  H.MKHITARYAN               [ROMA]  1397\n"
     ]
    }
   ],
   "source": [
    "players = players.sort_values(by='M', ascending=False)\n",
    "print(players[[\"Name\", \"Team\", \"M\"]].head(n=10))"
   ]
  },
  {
   "cell_type": "code",
   "execution_count": 8,
   "metadata": {},
   "outputs": [
    {
     "name": "stdout",
     "output_type": "stream",
     "text": [
      "             Name             Team        M_N\n",
      "78         BREMER         [TORINO]  97.250000\n",
      "454   T.HERNANDEZ          [MILAN]  97.000000\n",
      "52    A.ROMAGNOLI          [MILAN]  97.000000\n",
      "292        LYANCO         [TORINO]  96.916667\n",
      "176     G.FERRARI       [SASSUOLO]  96.500000\n",
      "106     D.FARAONI  [HELLAS VERONA]  96.083333\n",
      "250        K.GLIK      [BENEVENTO]  96.000000\n",
      "356  N.MILENKOVIC     [FIORENTINA]  95.933333\n",
      "386     R.DE PAUL        [UDINESE]  95.928571\n",
      "319   M.LOCATELLI       [SASSUOLO]  95.857143\n"
     ]
    }
   ],
   "source": [
    "players['M_N'] = players['M'] / players['N']\n",
    "players = players.sort_values(by='M_N', ascending=False)\n",
    "print(players[[\"Name\", \"Team\", \"M_N\"]].head(n=10))"
   ]
  },
  {
   "cell_type": "code",
   "execution_count": 9,
   "metadata": {},
   "outputs": [
    {
     "name": "stdout",
     "output_type": "stream",
     "text": [
      "               Name         Team   G\n",
      "92        C.RONALDO   [JUVENTUS]  14\n",
      "400        R.LUKAKU      [INTER]  12\n",
      "478   Z.IBRAHIMOVIC      [MILAN]  10\n",
      "84       C.IMMOBILE      [LAZIO]  10\n",
      "5         A.BELOTTI     [TORINO]   9\n",
      "241      JOAO PEDRO   [CAGLIARI]   9\n",
      "276      L.MARTINEZ      [INTER]   9\n",
      "157  F.QUAGLIARELLA  [SAMPDORIA]   7\n",
      "240      J.VERETOUT       [ROMA]   7\n",
      "323         M.NZOLA     [SPEZIA]   7\n"
     ]
    }
   ],
   "source": [
    "players = players.sort_values(by='G', ascending=False)\n",
    "print(players[[\"Name\", \"Team\", \"G\"]].head(n=10))"
   ]
  },
  {
   "cell_type": "code",
   "execution_count": 10,
   "metadata": {},
   "outputs": [
    {
     "name": "stdout",
     "output_type": "stream",
     "text": [
      "              Name        Team       G_M         M_G\n",
      "478  Z.IBRAHIMOVIC     [MILAN]  0.017825   56.100000\n",
      "92       C.RONALDO  [JUVENTUS]  0.014660   68.214286\n",
      "400       R.LUKAKU     [INTER]  0.010889   91.833333\n",
      "84      C.IMMOBILE     [LAZIO]  0.009268  107.900000\n",
      "309       M.DESTRO     [GENOA]  0.008850  113.000000\n",
      "276     L.MARTINEZ     [INTER]  0.008483  117.888889\n",
      "142       F.CAPUTO  [SASSUOLO]  0.007624  131.166667\n",
      "323        M.NZOLA    [SPEZIA]  0.007284  137.285714\n",
      "201       H.LOZANO    [NAPOLI]  0.007007  142.714286\n",
      "140      F.CAICEDO     [LAZIO]  0.006957  143.750000\n"
     ]
    }
   ],
   "source": [
    "players['G_M'] = players['G'] / players['M']\n",
    "players = players.sort_values(by='G_M', ascending=False)\n",
    "top_players = players[[\"Name\", \"Team\", \"G_M\"]].head(n=10)\n",
    "top_players['M_G'] = players['M'] / players['G']\n",
    "print(top_players.head(n=10))"
   ]
  },
  {
   "cell_type": "code",
   "execution_count": 11,
   "metadata": {},
   "outputs": [
    {
     "name": "stdout",
     "output_type": "stream",
     "text": [
      "             Name         Team   A\n",
      "92      C.RONALDO   [JUVENTUS]  51\n",
      "5       A.BELOTTI     [TORINO]  44\n",
      "276    L.MARTINEZ      [INTER]  42\n",
      "202  H.MKHITARYAN       [ROMA]  41\n",
      "270     L.INSIGNE     [NAPOLI]  40\n",
      "97      D.BERARDI   [SASSUOLO]  39\n",
      "199  H.CALHANOGLU      [MILAN]  38\n",
      "295      M.BARROW    [BOLOGNA]  37\n",
      "230     J.MESSIAS    [CROTONE]  37\n",
      "179    G.LAPADULA  [BENEVENTO]  36\n"
     ]
    }
   ],
   "source": [
    "players = players.sort_values(by='A', ascending=False)\n",
    "print(players[[\"Name\", \"Team\", \"A\"]].head(n=10))"
   ]
  },
  {
   "cell_type": "code",
   "execution_count": 12,
   "metadata": {},
   "outputs": [
    {
     "name": "stdout",
     "output_type": "stream",
     "text": [
      "              Name         Team       A_M        M_A\n",
      "478  Z.IBRAHIMOVIC      [MILAN]  0.057041  17.531250\n",
      "92       C.RONALDO   [JUVENTUS]  0.053403  18.725490\n",
      "467      V.OSIMHEN     [NAPOLI]  0.044625  22.409091\n",
      "371       P.DYBALA   [JUVENTUS]  0.044597  22.423077\n",
      "270      L.INSIGNE     [NAPOLI]  0.043431  23.025000\n",
      "113      D.MERTENS     [NAPOLI]  0.040843  24.483871\n",
      "276     L.MARTINEZ      [INTER]  0.039585  25.261905\n",
      "330     M.POLITANO     [NAPOLI]  0.036430  27.450000\n",
      "25         A.GOMEZ   [ATALANTA]  0.036075  27.720000\n",
      "179     G.LAPADULA  [BENEVENTO]  0.034450  29.027778\n"
     ]
    }
   ],
   "source": [
    "players['A_M'] = players['A'] / players['M']\n",
    "players = players.sort_values(by='A_M', ascending=False)\n",
    "top_players = players[[\"Name\", \"Team\", \"A_M\"]].head(n=10)\n",
    "top_players['M_A'] = players['M'] / players['A']\n",
    "print(top_players.head(n=10))"
   ]
  },
  {
   "cell_type": "code",
   "execution_count": 14,
   "metadata": {},
   "outputs": [
    {
     "name": "stdout",
     "output_type": "stream",
     "text": [
      "                   Name                    Team  AS\n",
      "113           D.MERTENS                [NAPOLI]   6\n",
      "202        H.MKHITARYAN                  [ROMA]   6\n",
      "199        H.CALHANOGLU                 [MILAN]   6\n",
      "9            A.CANDREVA             [SAMPDORIA]   4\n",
      "5             A.BELOTTI                [TORINO]   4\n",
      "119            D.ZAPATA              [ATALANTA]   4\n",
      "128             E.GYASI                [SPEZIA]   4\n",
      "396          R.KARSDORP                  [ROMA]   4\n",
      "39             A.MORATA              [JUVENTUS]   4\n",
      "351           N.BARELLA                 [INTER]   4\n",
      "409           R.PEREYRA               [UDINESE]   4\n",
      "280        L.PELLEGRINI           [ROMA, GENOA]   4\n",
      "413           R.SORIANO               [BOLOGNA]   4\n",
      "435  S.MILINKOVIC-SAVIC                 [LAZIO]   4\n",
      "81            C.BIRAGHI            [FIORENTINA]   4\n",
      "97            D.BERARDI              [SASSUOLO]   4\n",
      "144            F.CHIESA  [FIORENTINA, JUVENTUS]   4\n",
      "297          M.BROZOVIC                 [INTER]   3\n",
      "165           G.CAPRARI             [BENEVENTO]   3\n",
      "139         F.BONAZZOLI     [SAMPDORIA, TORINO]   3\n"
     ]
    }
   ],
   "source": [
    "players = players.sort_values(by='AS', ascending=False)\n",
    "print(players[[\"Name\", \"Team\", \"AS\"]].head(n=20))"
   ]
  },
  {
   "cell_type": "code",
   "execution_count": 15,
   "metadata": {},
   "outputs": [
    {
     "name": "stdout",
     "output_type": "stream",
     "text": [
      "             Name                    Team      AS_M        M_AS\n",
      "113     D.MERTENS                [NAPOLI]  0.007905  126.500000\n",
      "139   F.BONAZZOLI     [SAMPDORIA, TORINO]  0.006479  154.333333\n",
      "224      J.ILICIC              [ATALANTA]  0.005837  171.333333\n",
      "47       A.RAMSEY              [JUVENTUS]  0.005396  185.333333\n",
      "55      A.SANCHEZ                 [INTER]  0.005263  190.000000\n",
      "9      A.CANDREVA             [SAMPDORIA]  0.004896  204.250000\n",
      "39       A.MORATA              [JUVENTUS]  0.004723  211.750000\n",
      "199  H.CALHANOGLU                 [MILAN]  0.004515  221.500000\n",
      "144      F.CHIESA  [FIORENTINA, JUVENTUS]  0.004315  231.750000\n",
      "119      D.ZAPATA              [ATALANTA]  0.004310  232.000000\n"
     ]
    }
   ],
   "source": [
    "players['AS_M'] = players['AS'] / players['M']\n",
    "players = players.sort_values(by='AS_M', ascending=False)\n",
    "top_players = players[[\"Name\", \"Team\", \"AS_M\"]].head(n=10)\n",
    "top_players['M_AS'] = players['M'] / players['AS']\n",
    "print(top_players.head(n=10))"
   ]
  },
  {
   "cell_type": "code",
   "execution_count": 16,
   "metadata": {},
   "outputs": [
    {
     "name": "stdout",
     "output_type": "stream",
     "text": [
      "             Name           Team    BP\n",
      "319   M.LOCATELLI     [SASSUOLO]  1418\n",
      "280  L.PELLEGRINI  [ROMA, GENOA]  1327\n",
      "173  G.DI LORENZO       [NAPOLI]  1196\n",
      "121        DANILO     [JUVENTUS]  1192\n",
      "176     G.FERRARI     [SASSUOLO]  1187\n",
      "386     R.DE PAUL      [UDINESE]  1125\n",
      "99     D.CALABRIA        [MILAN]  1098\n",
      "458    T.TOMIYASU      [BOLOGNA]  1072\n",
      "392      R.IBANEZ         [ROMA]  1060\n",
      "252   K.KOULIBALY       [NAPOLI]  1059\n"
     ]
    }
   ],
   "source": [
    "players = players.sort_values(by='BP', ascending=False)\n",
    "print(players[[\"Name\", \"Team\", \"BP\"]].head(n=10))"
   ]
  },
  {
   "cell_type": "code",
   "execution_count": 17,
   "metadata": {},
   "outputs": [
    {
     "name": "stdout",
     "output_type": "stream",
     "text": [
      "            Name        Team      BP_M      M_BP\n",
      "104      D.DEMME    [NAPOLI]  1.068736  0.935685\n",
      "319  M.LOCATELLI  [SASSUOLO]  1.056632  0.946403\n",
      "65        ARTHUR  [JUVENTUS]  1.039526  0.961977\n",
      "121       DANILO  [JUVENTUS]  1.001681  0.998322\n",
      "297   M.BROZOVIC     [INTER]  0.997856  1.002148\n",
      "305    M.DE LIGT  [JUVENTUS]  0.969657  1.031293\n",
      "252  K.KOULIBALY    [NAPOLI]  0.960109  1.041549\n",
      "384  R.BENTANCUR  [JUVENTUS]  0.946035  1.057043\n",
      "349    MARIO RUI    [NAPOLI]  0.943978  1.059347\n",
      "350       MARLON  [SASSUOLO]  0.943723  1.059633\n"
     ]
    }
   ],
   "source": [
    "players['BP_M'] = players['BP'] / players['M']\n",
    "players = players.sort_values(by='BP_M', ascending=False)\n",
    "top_players = players[[\"Name\", \"Team\", \"BP_M\"]].head(n=10)\n",
    "top_players['M_BP'] = players['M'] / players['BP']\n",
    "print(top_players.head(n=10))"
   ]
  },
  {
   "cell_type": "code",
   "execution_count": 18,
   "metadata": {},
   "outputs": [
    {
     "name": "stdout",
     "output_type": "stream",
     "text": [
      "             Name          Team     P\n",
      "319   M.LOCATELLI    [SASSUOLO]  1015\n",
      "176     G.FERRARI    [SASSUOLO]   950\n",
      "121        DANILO    [JUVENTUS]   884\n",
      "252   K.KOULIBALY      [NAPOLI]   859\n",
      "256     K.MANOLAS      [NAPOLI]   807\n",
      "173  G.DI LORENZO      [NAPOLI]   792\n",
      "4       A.BASTONI       [INTER]   750\n",
      "356  N.MILENKOVIC  [FIORENTINA]   747\n",
      "260     L.BONUCCI    [JUVENTUS]   741\n",
      "161   FABIAN RUIZ      [NAPOLI]   722\n"
     ]
    }
   ],
   "source": [
    "players = players.sort_values(by='P', ascending=False)\n",
    "print(players[[\"Name\", \"Team\", \"P\"]].head(n=10))"
   ]
  },
  {
   "cell_type": "code",
   "execution_count": 19,
   "metadata": {},
   "outputs": [
    {
     "name": "stdout",
     "output_type": "stream",
     "text": [
      "            Name        Team       P_M       M_P\n",
      "104      D.DEMME    [NAPOLI]  0.886918  1.127500\n",
      "65        ARTHUR  [JUVENTUS]  0.871542  1.147392\n",
      "350       MARLON  [SASSUOLO]  0.811688  1.232000\n",
      "305    M.DE LIGT  [JUVENTUS]  0.804749  1.242623\n",
      "252  K.KOULIBALY    [NAPOLI]  0.778785  1.284051\n",
      "319  M.LOCATELLI  [SASSUOLO]  0.756334  1.322167\n",
      "121       DANILO  [JUVENTUS]  0.742857  1.346154\n",
      "297   M.BROZOVIC     [INTER]  0.737406  1.356105\n",
      "460  V.CHIRICHES  [SASSUOLO]  0.728758  1.372197\n",
      "161  FABIAN RUIZ    [NAPOLI]  0.718408  1.391967\n"
     ]
    }
   ],
   "source": [
    "players['P_M'] = players['P'] / players['M']\n",
    "players = players.sort_values(by='P_M', ascending=False)\n",
    "top_players = players[[\"Name\", \"Team\", \"P_M\"]].head(n=10)\n",
    "top_players['M_P'] = players['M'] / players['P']\n",
    "print(top_players.head(n=10))"
   ]
  },
  {
   "cell_type": "code",
   "execution_count": 20,
   "metadata": {},
   "outputs": [
    {
     "name": "stdout",
     "output_type": "stream",
     "text": [
      "            Name        Team         P%\n",
      "65        ARTHUR  [JUVENTUS]  94.750000\n",
      "308    M.DEMIRAL  [JUVENTUS]  93.833333\n",
      "305    M.DE LIGT  [JUVENTUS]  93.750000\n",
      "360    N.NKOULOU    [TORINO]  93.750000\n",
      "256    K.MANOLAS    [NAPOLI]  93.428571\n",
      "337   M.SKRINIAR     [INTER]  93.090909\n",
      "104      D.DEMME    [NAPOLI]  92.500000\n",
      "422    S.DE VRIJ     [INTER]  92.461538\n",
      "384  R.BENTANCUR  [JUVENTUS]  92.153846\n",
      "239     J.TOLJAN  [SASSUOLO]  91.375000\n"
     ]
    }
   ],
   "source": [
    "players = players.sort_values(by='P%', ascending=False)\n",
    "print(players[[\"Name\", \"Team\", \"P%\"]].head(n=10))"
   ]
  },
  {
   "cell_type": "code",
   "execution_count": 21,
   "metadata": {},
   "outputs": [
    {
     "name": "stdout",
     "output_type": "stream",
     "text": [
      "             Name             Team  KP\n",
      "386     R.DE PAUL        [UDINESE]  16\n",
      "280  L.PELLEGRINI    [ROMA, GENOA]  16\n",
      "97      D.BERARDI       [SASSUOLO]  14\n",
      "199  H.CALHANOGLU          [MILAN]  13\n",
      "413     R.SORIANO        [BOLOGNA]  12\n",
      "224      J.ILICIC       [ATALANTA]  11\n",
      "202  H.MKHITARYAN           [ROMA]  10\n",
      "146     F.DIMARCO  [HELLAS VERONA]  10\n",
      "346    M.ZACCAGNI  [HELLAS VERONA]  10\n",
      "284  L.SPINAZZOLA           [ROMA]  10\n",
      "240    J.VERETOUT           [ROMA]   8\n",
      "225      J.JANKTO      [SAMPDORIA]   8\n",
      "295      M.BARROW        [BOLOGNA]   8\n",
      "5       A.BELOTTI         [TORINO]   8\n",
      "180     G.LETIZIA      [BENEVENTO]   8\n"
     ]
    }
   ],
   "source": [
    "players = players.sort_values(by='KP', ascending=False)\n",
    "print(players[[\"Name\", \"Team\", \"KP\"]].head(n=15))"
   ]
  },
  {
   "cell_type": "code",
   "execution_count": 22,
   "metadata": {},
   "outputs": [
    {
     "name": "stdout",
     "output_type": "stream",
     "text": [
      "             Name        Team      KP_M        M_KP\n",
      "224      J.ILICIC  [ATALANTA]  0.021401   46.727273\n",
      "79    BRUNO PERES      [ROMA]  0.015385   65.000000\n",
      "386     R.DE PAUL   [UDINESE]  0.011914   83.937500\n",
      "444       S.VERDI    [TORINO]  0.010606   94.285714\n",
      "97      D.BERARDI  [SASSUOLO]  0.010598   94.357143\n",
      "25        A.GOMEZ  [ATALANTA]  0.010101   99.000000\n",
      "473    W.MCKENNIE  [JUVENTUS]  0.010086   99.142857\n",
      "107      D.FARIAS    [SPEZIA]  0.009868  101.333333\n",
      "43      A.PETAGNA    [NAPOLI]  0.009820  101.833333\n",
      "199  H.CALHANOGLU     [MILAN]  0.009782  102.230769\n"
     ]
    }
   ],
   "source": [
    "players['KP_M'] = players['KP'] / players['M']\n",
    "players = players.sort_values(by='KP_M', ascending=False)\n",
    "top_players = players[[\"Name\", \"Team\", \"KP_M\"]].head(n=10)\n",
    "top_players['M_KP'] = players['M'] / players['KP']\n",
    "print(top_players.head(n=10))"
   ]
  },
  {
   "cell_type": "code",
   "execution_count": 23,
   "metadata": {
    "scrolled": true
   },
   "outputs": [
    {
     "name": "stdout",
     "output_type": "stream",
     "text": [
      "              Name             Team  FS\n",
      "5        A.BELOTTI         [TORINO]  64\n",
      "346     M.ZACCAGNI  [HELLAS VERONA]  47\n",
      "386      R.DE PAUL        [UDINESE]  44\n",
      "241     JOAO PEDRO       [CAGLIARI]  40\n",
      "158       F.RIBERY     [FIORENTINA]  37\n",
      "201       H.LOZANO         [NAPOLI]  36\n",
      "408      R.PALACIO        [BOLOGNA]  36\n",
      "280   L.PELLEGRINI    [ROMA, GENOA]  35\n",
      "230      J.MESSIAS        [CROTONE]  35\n",
      "167  G.CASTROVILLI     [FIORENTINA]  34\n"
     ]
    }
   ],
   "source": [
    "players = players.sort_values(by='FS', ascending=False)\n",
    "print(players[[\"Name\", \"Team\", \"FS\"]].head(n=10))"
   ]
  },
  {
   "cell_type": "code",
   "execution_count": 24,
   "metadata": {
    "scrolled": true
   },
   "outputs": [
    {
     "name": "stdout",
     "output_type": "stream",
     "text": [
      "           Name             Team      FS_M       M_FS\n",
      "5     A.BELOTTI         [TORINO]  0.048193  20.750000\n",
      "346  M.ZACCAGNI  [HELLAS VERONA]  0.040517  24.680851\n",
      "224    J.ILICIC       [ATALANTA]  0.038911  25.700000\n",
      "195    G.VILLAR           [ROMA]  0.037288  26.818182\n",
      "158    F.RIBERY     [FIORENTINA]  0.036275  27.567568\n",
      "201    H.LOZANO         [NAPOLI]  0.036036  27.750000\n",
      "187    G.PANDEV          [GENOA]  0.035556  28.125000\n",
      "191   G.RAMIREZ      [SAMPDORIA]  0.034202  29.238095\n",
      "386   R.DE PAUL        [UDINESE]  0.032762  30.522727\n",
      "263  L.CIGARINI        [CROTONE]  0.031315  31.933333\n"
     ]
    }
   ],
   "source": [
    "players['FS_M'] = players['FS'] / players['M']\n",
    "players = players.sort_values(by='FS_M', ascending=False)\n",
    "top_players = players[[\"Name\", \"Team\", \"FS_M\"]].head(n=10)\n",
    "top_players['M_FS'] = players['M'] / players['FS']\n",
    "print(top_players.head(n=10))"
   ]
  },
  {
   "cell_type": "code",
   "execution_count": 25,
   "metadata": {},
   "outputs": [
    {
     "name": "stdout",
     "output_type": "stream",
     "text": [
      "             Name                         Team    R\n",
      "458    T.TOMIYASU                    [BOLOGNA]  156\n",
      "392      R.IBANEZ                       [ROMA]  142\n",
      "356  N.MILENKOVIC                 [FIORENTINA]  134\n",
      "91       C.ROMERO                   [ATALANTA]  120\n",
      "143  F.CECCHERINI  [FIORENTINA, HELLAS VERONA]  120\n",
      "285     L.TONELLI                  [SAMPDORIA]  120\n",
      "78         BREMER                     [TORINO]  119\n",
      "190    G.PEZZELLA          [PARMA, FIORENTINA]  118\n",
      "136      F.ACERBI                      [LAZIO]  117\n",
      "340     M.THORSBY                  [SAMPDORIA]  115\n"
     ]
    }
   ],
   "source": [
    "players = players.sort_values(by='R', ascending=False)\n",
    "print(players[[\"Name\", \"Team\", \"R\"]].head(n=10))"
   ]
  },
  {
   "cell_type": "code",
   "execution_count": 26,
   "metadata": {},
   "outputs": [
    {
     "name": "stdout",
     "output_type": "stream",
     "text": [
      "            Name             Team       R_M       M_R\n",
      "182    G.MAGNANI  [HELLAS VERONA]  0.174281  5.737864\n",
      "91      C.ROMERO       [ATALANTA]  0.131723  7.591667\n",
      "308    M.DEMIRAL       [JUVENTUS]  0.117647  8.500000\n",
      "421    S.DE MAIO        [UDINESE]  0.117274  8.527027\n",
      "460  V.CHIRICHES       [SASSUOLO]  0.113290  8.826923\n",
      "219     J.CHABOT         [SPEZIA]  0.109845  9.103774\n",
      "366     O.COLLEY      [SAMPDORIA]  0.109394  9.141304\n",
      "392     R.IBANEZ           [ROMA]  0.109147  9.161972\n",
      "458   T.TOMIYASU        [BOLOGNA]  0.108635  9.205128\n",
      "472      W.HOEDT          [LAZIO]  0.108247  9.238095\n"
     ]
    }
   ],
   "source": [
    "players['R_M'] = players['R'] / players['M']\n",
    "players = players.sort_values(by='R_M', ascending=False)\n",
    "top_players = players[[\"Name\", \"Team\", \"R_M\"]].head(n=10)\n",
    "top_players['M_R'] = players['M'] / players['R']\n",
    "print(top_players.head(n=10))"
   ]
  },
  {
   "cell_type": "code",
   "execution_count": 27,
   "metadata": {},
   "outputs": [],
   "source": [
    "thisdir = os.getcwd()\n",
    "thisdir += \"/2020-2021/Player Data/Goalkeeper/\"\n",
    "csv_list = []\n",
    "\n",
    "for r, d, f in os.walk(thisdir):\n",
    "    for file in f:\n",
    "        if file.endswith(\".csv\"):\n",
    "            csv_list.append(os.path.join(r, file))\n",
    "\n",
    "csv_list = sorted(csv_list)\n",
    "\n",
    "players = []\n",
    "\n",
    "for csv_file in csv_list:\n",
    "#     print(csv_file)\n",
    "    if csv_file[-5:] == \"/.csv\":\n",
    "        continue\n",
    "    player_data = pd.read_csv(csv_file, encoding='latin-1')\n",
    "    player_data[\"M_played\"] = player_data.apply(lambda row:convert_to_minutes(row), axis=1)\n",
    "    player_data = player_data.astype({'GC':'int32', 'OG':'int32', 'S':'int32', 'STP':'int32', 'SF':'int32', 'FYC':'int32', 'SYC':'int32', 'RC':'int32'})\n",
    "\n",
    "    players.append([player_data[\"Name\"].unique()[0], player_data[\"Team\"].unique(), player_data[\"M_played\"].sum(), player_data[\"GC\"].sum(), player_data[\"OG\"].sum(), player_data[\"S\"].sum(), player_data[\"STP\"].sum(), player_data[\"SF\"].sum(), player_data[\"FYC\"].sum(), player_data[\"SYC\"].sum(), player_data[\"RC\"].sum(), player_data[\"M_played\"].size])\n",
    "\n",
    "players = pd.DataFrame(np.array(players), columns=['Name', 'Team' , 'M', 'GC', 'OG', 'S', 'STP', 'SF', 'FYC', 'SYC', 'RC', 'N'])\n",
    "players = players.astype({'M':'int32', 'GC':'int32', 'OG':'int32', 'S':'int32', 'STP':'int32', 'SF':'int32', 'FYC':'int32', 'SYC':'int32', 'RC':'int32', 'N':'int32'})\n",
    "players = players[players['M'] >= min_time]\n",
    "players = players[players['N'] >= min_games]"
   ]
  },
  {
   "cell_type": "code",
   "execution_count": 28,
   "metadata": {},
   "outputs": [
    {
     "name": "stdout",
     "output_type": "stream",
     "text": [
      "            Name             Team     M\n",
      "19    L.MONTIPO'      [BENEVENTO]  1440\n",
      "23   M.SILVESTRI  [HELLAS VERONA]  1439\n",
      "7    B.DRAGOWSKI     [FIORENTINA]  1439\n",
      "20        L.SEPE          [PARMA]  1436\n",
      "1       A.CORDAZ        [CROTONE]  1435\n",
      "30  S.HANDANOVIC          [INTER]  1435\n",
      "10      E.AUDERO      [SAMPDORIA]  1432\n",
      "2       A.CRAGNO       [CAGLIARI]  1431\n",
      "0     A.CONSIGLI       [SASSUOLO]  1357\n",
      "14  G.DONNARUMMA          [MILAN]  1356\n"
     ]
    }
   ],
   "source": [
    "players = players.sort_values(by='M', ascending=False)\n",
    "print(players[[\"Name\", \"Team\", \"M\"]].head(n=10))"
   ]
  },
  {
   "cell_type": "code",
   "execution_count": 29,
   "metadata": {},
   "outputs": [
    {
     "name": "stdout",
     "output_type": "stream",
     "text": [
      "            Name             Team        M_N\n",
      "31      S.SIRIGU         [TORINO]  97.461538\n",
      "0     A.CONSIGLI       [SASSUOLO]  96.928571\n",
      "14  G.DONNARUMMA          [MILAN]  96.857143\n",
      "21   L.SKORUPSKI        [BOLOGNA]  96.300000\n",
      "28       P.REINA          [LAZIO]  96.200000\n",
      "4        A.MERET         [NAPOLI]  96.166667\n",
      "19    L.MONTIPO'      [BENEVENTO]  96.000000\n",
      "7    B.DRAGOWSKI     [FIORENTINA]  95.933333\n",
      "23   M.SILVESTRI  [HELLAS VERONA]  95.933333\n",
      "34    W.SZCZESNY       [JUVENTUS]  95.900000\n"
     ]
    }
   ],
   "source": [
    "players['M_N'] = players['M'] / players['N']\n",
    "players = players.sort_values(by='M_N', ascending=False)\n",
    "print(players[[\"Name\", \"Team\", \"M_N\"]].head(n=10))"
   ]
  },
  {
   "cell_type": "code",
   "execution_count": 30,
   "metadata": {},
   "outputs": [
    {
     "name": "stdout",
     "output_type": "stream",
     "text": [
      "           Name          Team  GC\n",
      "1      A.CORDAZ     [CROTONE]  35\n",
      "2      A.CRAGNO    [CAGLIARI]  31\n",
      "31     S.SIRIGU      [TORINO]  28\n",
      "20       L.SEPE       [PARMA]  28\n",
      "10     E.AUDERO   [SAMPDORIA]  25\n",
      "19   L.MONTIPO'   [BENEVENTO]  25\n",
      "16   I.PROVEDEL      [SPEZIA]  23\n",
      "0    A.CONSIGLI    [SASSUOLO]  22\n",
      "7   B.DRAGOWSKI  [FIORENTINA]  21\n",
      "22      M.PERIN       [GENOA]  19\n"
     ]
    }
   ],
   "source": [
    "players = players.sort_values(by='GC', ascending=False)\n",
    "print(players[[\"Name\", \"Team\", \"GC\"]].head(n=10))"
   ]
  },
  {
   "cell_type": "code",
   "execution_count": 31,
   "metadata": {},
   "outputs": [
    {
     "name": "stdout",
     "output_type": "stream",
     "text": [
      "            Name         Team      GC_M       M_GC\n",
      "1       A.CORDAZ    [CROTONE]  0.024390  41.000000\n",
      "32   T.STRAKOSHA      [LAZIO]  0.023061  43.363636\n",
      "31      S.SIRIGU     [TORINO]  0.022099  45.250000\n",
      "2       A.CRAGNO   [CAGLIARI]  0.021663  46.161290\n",
      "24  M.SPORTIELLO   [ATALANTA]  0.021645  46.200000\n",
      "16    I.PROVEDEL     [SPEZIA]  0.020087  49.782609\n",
      "20        L.SEPE      [PARMA]  0.019499  51.285714\n",
      "21   L.SKORUPSKI    [BOLOGNA]  0.017653  56.647059\n",
      "10      E.AUDERO  [SAMPDORIA]  0.017458  57.280000\n",
      "19    L.MONTIPO'  [BENEVENTO]  0.017361  57.600000\n"
     ]
    }
   ],
   "source": [
    "players['GC_M'] = players['GC'] / players['M']\n",
    "players = players.sort_values(by='GC_M', ascending=False)\n",
    "top_players = players[[\"Name\", \"Team\", \"GC_M\"]].head(n=10)\n",
    "top_players['M_GC'] = players['M'] / players['GC']\n",
    "print(top_players.head(n=10))"
   ]
  },
  {
   "cell_type": "code",
   "execution_count": 32,
   "metadata": {},
   "outputs": [
    {
     "name": "stdout",
     "output_type": "stream",
     "text": [
      "            Name             Team  GC\n",
      "4        A.MERET         [NAPOLI]   6\n",
      "26     P.GOLLINI       [ATALANTA]   6\n",
      "9       D.OSPINA         [NAPOLI]   7\n",
      "32   T.STRAKOSHA          [LAZIO]  11\n",
      "34    W.SZCZESNY       [JUVENTUS]  12\n",
      "14  G.DONNARUMMA          [MILAN]  13\n",
      "28       P.REINA          [LAZIO]  13\n",
      "23   M.SILVESTRI  [HELLAS VERONA]  14\n",
      "24  M.SPORTIELLO       [ATALANTA]  15\n",
      "5      A.MIRANTE           [ROMA]  16\n"
     ]
    }
   ],
   "source": [
    "players = players.sort_values(by='GC')\n",
    "print(players[[\"Name\", \"Team\", \"GC\"]].head(n=10))"
   ]
  },
  {
   "cell_type": "code",
   "execution_count": 33,
   "metadata": {},
   "outputs": [
    {
     "name": "stdout",
     "output_type": "stream",
     "text": [
      "            Name             Team      GC_M        M_GC\n",
      "9       D.OSPINA         [NAPOLI]  0.009162  109.142857\n",
      "26     P.GOLLINI       [ATALANTA]  0.009434  106.000000\n",
      "14  G.DONNARUMMA          [MILAN]  0.009587  104.307692\n",
      "23   M.SILVESTRI  [HELLAS VERONA]  0.009729  102.785714\n",
      "4        A.MERET         [NAPOLI]  0.010399   96.166667\n",
      "34    W.SZCZESNY       [JUVENTUS]  0.012513   79.916667\n",
      "30  S.HANDANOVIC          [INTER]  0.013240   75.526316\n",
      "28       P.REINA          [LAZIO]  0.013514   74.000000\n",
      "17       J.MUSSO        [UDINESE]  0.013913   71.875000\n",
      "7    B.DRAGOWSKI     [FIORENTINA]  0.014593   68.523810\n"
     ]
    }
   ],
   "source": [
    "players['GC_M'] = players['GC'] / players['M']\n",
    "players = players.sort_values(by='GC_M')\n",
    "top_players = players[[\"Name\", \"Team\", \"GC_M\"]].head(n=10)\n",
    "top_players['M_GC'] = players['M'] / players['GC']\n",
    "print(top_players.head(n=10))"
   ]
  },
  {
   "cell_type": "code",
   "execution_count": 34,
   "metadata": {},
   "outputs": [
    {
     "name": "stdout",
     "output_type": "stream",
     "text": [
      "            Name             Team   S\n",
      "2       A.CRAGNO       [CAGLIARI]  76\n",
      "20        L.SEPE          [PARMA]  57\n",
      "10      E.AUDERO      [SAMPDORIA]  53\n",
      "0     A.CONSIGLI       [SASSUOLO]  52\n",
      "1       A.CORDAZ        [CROTONE]  52\n",
      "23   M.SILVESTRI  [HELLAS VERONA]  52\n",
      "7    B.DRAGOWSKI     [FIORENTINA]  47\n",
      "14  G.DONNARUMMA          [MILAN]  45\n",
      "22       M.PERIN          [GENOA]  43\n",
      "28       P.REINA          [LAZIO]  37\n"
     ]
    }
   ],
   "source": [
    "players = players.sort_values(by='S', ascending=False)\n",
    "print(players[[\"Name\", \"Team\", \"S\"]].head(n=10))"
   ]
  },
  {
   "cell_type": "code",
   "execution_count": 35,
   "metadata": {},
   "outputs": [
    {
     "name": "stdout",
     "output_type": "stream",
     "text": [
      "            Name             Team       S_M        M_S\n",
      "2       A.CRAGNO       [CAGLIARI]  0.053110  18.828947\n",
      "20        L.SEPE          [PARMA]  0.039694  25.192982\n",
      "28       P.REINA          [LAZIO]  0.038462  26.000000\n",
      "0     A.CONSIGLI       [SASSUOLO]  0.038320  26.096154\n",
      "22       M.PERIN          [GENOA]  0.037587  26.604651\n",
      "10      E.AUDERO      [SAMPDORIA]  0.037011  27.018868\n",
      "1       A.CORDAZ        [CROTONE]  0.036237  27.596154\n",
      "23   M.SILVESTRI  [HELLAS VERONA]  0.036136  27.673077\n",
      "14  G.DONNARUMMA          [MILAN]  0.033186  30.133333\n",
      "7    B.DRAGOWSKI     [FIORENTINA]  0.032662  30.617021\n"
     ]
    }
   ],
   "source": [
    "players['S_M'] = players['S'] / players['M']\n",
    "players = players.sort_values(by='S_M', ascending=False)\n",
    "top_players = players[[\"Name\", \"Team\", \"S_M\"]].head(n=10)\n",
    "top_players['M_S'] = players['M'] / players['S']\n",
    "print(top_players.head(n=10))"
   ]
  },
  {
   "cell_type": "code",
   "execution_count": 36,
   "metadata": {},
   "outputs": [
    {
     "name": "stdout",
     "output_type": "stream",
     "text": [
      "            Name             Team  Set_S\n",
      "0     A.CONSIGLI       [SASSUOLO]      9\n",
      "7    B.DRAGOWSKI     [FIORENTINA]      9\n",
      "20        L.SEPE          [PARMA]      9\n",
      "2       A.CRAGNO       [CAGLIARI]      8\n",
      "14  G.DONNARUMMA          [MILAN]      8\n",
      "5      A.MIRANTE           [ROMA]      7\n",
      "28       P.REINA          [LAZIO]      6\n",
      "1       A.CORDAZ        [CROTONE]      5\n",
      "23   M.SILVESTRI  [HELLAS VERONA]      5\n",
      "16    I.PROVEDEL         [SPEZIA]      5\n"
     ]
    }
   ],
   "source": [
    "players['Set_S'] = players['STP'] + players['SF']\n",
    "players = players.sort_values(by='Set_S', ascending=False)\n",
    "print(players[[\"Name\", \"Team\", \"Set_S\"]].head(n=10))"
   ]
  }
 ],
 "metadata": {
  "kernelspec": {
   "display_name": "Python 3",
   "language": "python",
   "name": "python3"
  },
  "language_info": {
   "codemirror_mode": {
    "name": "ipython",
    "version": 3
   },
   "file_extension": ".py",
   "mimetype": "text/x-python",
   "name": "python",
   "nbconvert_exporter": "python",
   "pygments_lexer": "ipython3",
   "version": "3.7.4"
  }
 },
 "nbformat": 4,
 "nbformat_minor": 2
}
